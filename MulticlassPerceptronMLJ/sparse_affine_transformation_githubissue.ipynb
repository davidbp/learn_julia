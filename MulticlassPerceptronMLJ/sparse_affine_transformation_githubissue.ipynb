{
 "cells": [
  {
   "cell_type": "code",
   "execution_count": 1,
   "metadata": {},
   "outputs": [],
   "source": [
    "using SparseArrays\n",
    "using BenchmarkTools\n",
    "using Statistics\n",
    "using LinearAlgebra\n",
    "\n"
   ]
  },
  {
   "cell_type": "code",
   "execution_count": 2,
   "metadata": {},
   "outputs": [
    {
     "data": {
      "text/plain": [
       "2"
      ]
     },
     "execution_count": 2,
     "metadata": {},
     "output_type": "execute_result"
    }
   ],
   "source": [
    "n_features = 15000\n",
    "n_examples = 2000\n",
    "n_classes  = 2"
   ]
  },
  {
   "cell_type": "code",
   "execution_count": 9,
   "metadata": {},
   "outputs": [
    {
     "data": {
      "text/plain": [
       "mat_dense_vec_sparse (generic function with 1 method)"
      ]
     },
     "execution_count": 9,
     "metadata": {},
     "output_type": "execute_result"
    }
   ],
   "source": [
    "function mat_dense_vec_sparse(W_dense, x_sp)\n",
    "    n_rows_W, n_cols_W = size(W_dense)\n",
    "    result = zeros(eltype(W_dense), n_rows_W)\n",
    "    \n",
    "    @inbounds for j in 1:n_rows_W\n",
    "        for i in x_sp.nzind\n",
    "            result[j] += W_dense[j,i] * x_sp[i] \n",
    "        end\n",
    "    end\n",
    "    return result\n",
    "end"
   ]
  },
  {
   "cell_type": "code",
   "execution_count": 4,
   "metadata": {},
   "outputs": [
    {
     "data": {
      "text/plain": [
       "2×15000 Array{Float64,2}:\n",
       " 0.034476  0.539828  0.224333  0.751819  …  0.449364   0.484395  0.633088\n",
       " 0.233331  0.629786  0.365452  0.573664     0.0976904  0.446182  0.853252"
      ]
     },
     "execution_count": 4,
     "metadata": {},
     "output_type": "execute_result"
    }
   ],
   "source": [
    "percentage_sparse = [0.5, 0.4, 0.3, 0.2, 0.1, 0.01, 0.001]\n",
    "\n",
    "percent_sparse =  0.01\n",
    "W = rand(n_features, n_classes);\n",
    "x_sp = sprand(n_features, percent_sparse);\n",
    "Wt = copy(W') "
   ]
  },
  {
   "cell_type": "code",
   "execution_count": 5,
   "metadata": {},
   "outputs": [
    {
     "name": "stdout",
     "output_type": "stream",
     "text": [
      "  290.760 μs (6 allocations: 304 bytes)\n"
     ]
    },
    {
     "data": {
      "text/plain": [
       "2-element SparseVector{Float64,Int64} with 2 stored entries:\n",
       "  [1]  =  47.3414\n",
       "  [2]  =  44.4046"
      ]
     },
     "execution_count": 5,
     "metadata": {},
     "output_type": "execute_result"
    }
   ],
   "source": [
    "@btime W'*x_sp"
   ]
  },
  {
   "cell_type": "code",
   "execution_count": 6,
   "metadata": {},
   "outputs": [
    {
     "name": "stdout",
     "output_type": "stream",
     "text": [
      "  3.549 μs (2 allocations: 112 bytes)\n"
     ]
    },
    {
     "data": {
      "text/plain": [
       "2-element Array{Float64,1}:\n",
       " 47.34144389821422\n",
       " 44.40459386388156"
      ]
     },
     "execution_count": 6,
     "metadata": {},
     "output_type": "execute_result"
    }
   ],
   "source": [
    "@btime mat_dense_vec_sparse(W',x_sp)"
   ]
  },
  {
   "cell_type": "code",
   "execution_count": 13,
   "metadata": {},
   "outputs": [
    {
     "name": "stdout",
     "output_type": "stream",
     "text": [
      "  4.049 μs (1 allocation: 96 bytes)\n"
     ]
    },
    {
     "data": {
      "text/plain": [
       "2-element Array{Float64,1}:\n",
       " 47.34144389821422\n",
       " 44.40459386388156"
      ]
     },
     "execution_count": 13,
     "metadata": {},
     "output_type": "execute_result"
    }
   ],
   "source": [
    "@btime mat_dense_vec_sparse(Wt,x_sp)"
   ]
  },
  {
   "cell_type": "code",
   "execution_count": 101,
   "metadata": {},
   "outputs": [
    {
     "name": "stdout",
     "output_type": "stream",
     "text": [
      "  570.098 ns (1 allocation: 96 bytes)\n"
     ]
    },
    {
     "data": {
      "text/plain": [
       "2-element Array{Float64,1}:\n",
       " 47.34144389821422\n",
       " 44.40459386388156"
      ]
     },
     "execution_count": 101,
     "metadata": {},
     "output_type": "execute_result"
    }
   ],
   "source": [
    "@btime Wt*x_sp"
   ]
  },
  {
   "cell_type": "code",
   "execution_count": 102,
   "metadata": {},
   "outputs": [
    {
     "name": "stdout",
     "output_type": "stream",
     "text": [
      "  418.166 ns (3 allocations: 128 bytes)\n"
     ]
    },
    {
     "data": {
      "text/plain": [
       "2-element Array{Float64,1}:\n",
       " 47.34144389821422\n",
       " 44.40459386388156"
      ]
     },
     "execution_count": 102,
     "metadata": {},
     "output_type": "execute_result"
    }
   ],
   "source": [
    "@btime transpose(W)*x_sp"
   ]
  },
  {
   "cell_type": "code",
   "execution_count": 12,
   "metadata": {},
   "outputs": [
    {
     "data": {
      "text/plain": [
       "mat_dense_vec_sparse2 (generic function with 1 method)"
      ]
     },
     "execution_count": 12,
     "metadata": {},
     "output_type": "execute_result"
    }
   ],
   "source": [
    "function mat_dense_vec_sparse2(W_dense, x_sp)\n",
    "    n_rows_W, n_cols_W = size(W_dense)\n",
    "    result = zeros(eltype(W_dense), n_rows_W)\n",
    "    x_sp_inds = x_sp.nzind\n",
    "    x_sp_vals  = x_sp.nzval\n",
    "    \n",
    "    @inbounds for j in 1:n_rows_W\n",
    "        for (k,i) in enumerate(x_sp_inds)\n",
    "            result[j] += W_dense[j,i] * x_sp_vals[k] \n",
    "        end\n",
    "    end\n",
    "    return result\n",
    "end"
   ]
  },
  {
   "cell_type": "code",
   "execution_count": 14,
   "metadata": {},
   "outputs": [
    {
     "name": "stdout",
     "output_type": "stream",
     "text": [
      "  458.848 ns (1 allocation: 96 bytes)\n"
     ]
    },
    {
     "data": {
      "text/plain": [
       "2-element Array{Float64,1}:\n",
       " 47.34144389821422\n",
       " 44.40459386388156"
      ]
     },
     "execution_count": 14,
     "metadata": {},
     "output_type": "execute_result"
    }
   ],
   "source": [
    "@btime mat_dense_vec_sparse2(Wt,x_sp)"
   ]
  },
  {
   "cell_type": "markdown",
   "metadata": {},
   "source": [
    "### Making the matrix vector product faster"
   ]
  },
  {
   "cell_type": "code",
   "execution_count": 20,
   "metadata": {},
   "outputs": [
    {
     "data": {
      "text/plain": [
       "mat_dense_vec_sparse3 (generic function with 1 method)"
      ]
     },
     "execution_count": 20,
     "metadata": {},
     "output_type": "execute_result"
    }
   ],
   "source": [
    "function mat_dense_vec_sparse3(W_dense::AbstractArray{T}, x_sp::AbstractVector{T}) where T<:Number\n",
    "    n_rows_W, n_cols_W = size(W_dense)\n",
    "    result = zeros(eltype(W_dense), n_rows_W)\n",
    "    x_sp_inds = x_sp.nzind\n",
    "    x_sp_vals  = x_sp.nzval\n",
    "    \n",
    "    @inbounds for j in 1:n_rows_W\n",
    "        res = zero(T)\n",
    "        for (k,i) in enumerate(x_sp_inds)\n",
    "            res+= W_dense[j,i] * x_sp_vals[k] \n",
    "        end\n",
    "         result[j] = res\n",
    "    end\n",
    "    return result\n",
    "end"
   ]
  },
  {
   "cell_type": "code",
   "execution_count": 160,
   "metadata": {},
   "outputs": [
    {
     "name": "stdout",
     "output_type": "stream",
     "text": [
      "  407.705 ns (1 allocation: 96 bytes)\n"
     ]
    },
    {
     "data": {
      "text/plain": [
       "2-element Array{Float64,1}:\n",
       " 47.34144389821422\n",
       " 44.40459386388156"
      ]
     },
     "execution_count": 160,
     "metadata": {},
     "output_type": "execute_result"
    }
   ],
   "source": [
    "@btime mat_dense_vec_sparse3(Wt,x_sp)"
   ]
  },
  {
   "cell_type": "code",
   "execution_count": 187,
   "metadata": {},
   "outputs": [
    {
     "data": {
      "text/plain": [
       "mat_dense_vec_sparse4 (generic function with 1 method)"
      ]
     },
     "execution_count": 187,
     "metadata": {},
     "output_type": "execute_result"
    }
   ],
   "source": [
    "function mat_dense_vec_sparse4(W_dense::AbstractArray{T}, x_sp::AbstractVector{T}) where T<:Number\n",
    "    n_rows_W, n_cols_W = size(W_dense)\n",
    "    result = zeros(eltype(W_dense), n_rows_W)\n",
    "    x_sp_inds = x_sp.nzind\n",
    "    local x_sp_vals  = x_sp.nzval\n",
    "    n_nonzeros = length(x_sp_inds)\n",
    "\n",
    "    @inbounds for j in 1:n_rows_W\n",
    "        local res = zero(T)\n",
    "        @simd for i in 1:n_nonzeros\n",
    "            res+= W_dense[j,x_sp_inds[i]] * x_sp_vals[i] \n",
    "        end\n",
    "         result[j] = res\n",
    "    end\n",
    "    return result\n",
    "end"
   ]
  },
  {
   "cell_type": "code",
   "execution_count": 188,
   "metadata": {},
   "outputs": [
    {
     "name": "stdout",
     "output_type": "stream",
     "text": [
      "  399.260 ns (1 allocation: 96 bytes)\n"
     ]
    },
    {
     "data": {
      "text/plain": [
       "2-element Array{Float64,1}:\n",
       " 47.34144389821422\n",
       " 44.40459386388156"
      ]
     },
     "execution_count": 188,
     "metadata": {},
     "output_type": "execute_result"
    }
   ],
   "source": [
    "@btime mat_dense_vec_sparse4(Wt,x_sp)"
   ]
  },
  {
   "cell_type": "code",
   "execution_count": null,
   "metadata": {},
   "outputs": [],
   "source": []
  },
  {
   "cell_type": "markdown",
   "metadata": {},
   "source": [
    "## Pointers version\n",
    "\n",
    "https://www.juliabloggers.com/getting-the-value-of-a-pointer-in-julia/"
   ]
  },
  {
   "cell_type": "code",
   "execution_count": 257,
   "metadata": {},
   "outputs": [
    {
     "data": {
      "text/plain": [
       "Ptr{Float64} @0x00000001308af000"
      ]
     },
     "execution_count": 257,
     "metadata": {},
     "output_type": "execute_result"
    }
   ],
   "source": [
    "W_beg = pointer(W)"
   ]
  },
  {
   "cell_type": "code",
   "execution_count": 255,
   "metadata": {},
   "outputs": [
    {
     "data": {
      "text/plain": [
       "0.03447604489523415"
      ]
     },
     "execution_count": 255,
     "metadata": {},
     "output_type": "execute_result"
    }
   ],
   "source": [
    "unsafe_load(W_beg)"
   ]
  },
  {
   "cell_type": "code",
   "execution_count": 275,
   "metadata": {},
   "outputs": [
    {
     "data": {
      "text/plain": [
       "0.03447604489523415"
      ]
     },
     "execution_count": 275,
     "metadata": {},
     "output_type": "execute_result"
    }
   ],
   "source": [
    "unsafe_load(W_beg,1)"
   ]
  },
  {
   "cell_type": "code",
   "execution_count": 282,
   "metadata": {},
   "outputs": [
    {
     "data": {
      "text/plain": [
       "0.5398280011858891"
      ]
     },
     "execution_count": 282,
     "metadata": {},
     "output_type": "execute_result"
    }
   ],
   "source": [
    "unsafe_load(W_beg,2)"
   ]
  },
  {
   "cell_type": "code",
   "execution_count": 277,
   "metadata": {},
   "outputs": [
    {
     "data": {
      "text/plain": [
       "15000×2 Array{Float64,2}:\n",
       " 0.034476   0.233331 \n",
       " 0.539828   0.629786 \n",
       " 0.224333   0.365452 \n",
       " 0.751819   0.573664 \n",
       " 0.261685   0.452578 \n",
       " 0.125226   0.146997 \n",
       " 0.917219   0.922203 \n",
       " 0.0346478  0.312102 \n",
       " 0.467288   0.499993 \n",
       " 0.942501   0.213717 \n",
       " 0.34834    0.870214 \n",
       " 0.84018    0.525242 \n",
       " 0.101395   0.71942  \n",
       " ⋮                   \n",
       " 0.703816   0.997153 \n",
       " 0.68981    0.0861722\n",
       " 0.512919   0.921595 \n",
       " 0.585791   0.467142 \n",
       " 0.0931473  0.266597 \n",
       " 0.824909   0.0567769\n",
       " 0.943666   0.0988147\n",
       " 0.7828     0.928413 \n",
       " 0.914526   0.109393 \n",
       " 0.449364   0.0976904\n",
       " 0.484395   0.446182 \n",
       " 0.633088   0.853252 "
      ]
     },
     "execution_count": 277,
     "metadata": {},
     "output_type": "execute_result"
    }
   ],
   "source": [
    "W"
   ]
  },
  {
   "cell_type": "code",
   "execution_count": null,
   "metadata": {},
   "outputs": [],
   "source": []
  },
  {
   "cell_type": "code",
   "execution_count": 192,
   "metadata": {},
   "outputs": [
    {
     "ename": "ErrorException",
     "evalue": "cannot declare x_sp_inds constant; it already has a value",
     "output_type": "error",
     "traceback": [
      "cannot declare x_sp_inds constant; it already has a value",
      "",
      "Stacktrace:",
      " [1] top-level scope at In[192]:1"
     ]
    }
   ],
   "source": [
    "const x_sp_inds = x_sp.nzind"
   ]
  },
  {
   "cell_type": "code",
   "execution_count": 269,
   "metadata": {},
   "outputs": [
    {
     "data": {
      "text/plain": [
       "123123"
      ]
     },
     "execution_count": 269,
     "metadata": {},
     "output_type": "execute_result"
    }
   ],
   "source": [
    "aux = 123123"
   ]
  },
  {
   "cell_type": "code",
   "execution_count": 273,
   "metadata": {},
   "outputs": [
    {
     "name": "stdout",
     "output_type": "stream",
     "text": [
      "  28.089 ns (1 allocation: 16 bytes)\n"
     ]
    },
    {
     "data": {
      "text/plain": [
       "246246"
      ]
     },
     "execution_count": 273,
     "metadata": {},
     "output_type": "execute_result"
    }
   ],
   "source": [
    "@btime aux + aux"
   ]
  },
  {
   "cell_type": "code",
   "execution_count": 272,
   "metadata": {},
   "outputs": [
    {
     "name": "stdout",
     "output_type": "stream",
     "text": [
      "  28.117 ns (1 allocation: 16 bytes)\n"
     ]
    },
    {
     "data": {
      "text/plain": [
       "246246"
      ]
     },
     "execution_count": 272,
     "metadata": {},
     "output_type": "execute_result"
    }
   ],
   "source": [
    "@btime aux << 1"
   ]
  },
  {
   "cell_type": "code",
   "execution_count": 175,
   "metadata": {},
   "outputs": [
    {
     "data": {
      "text/plain": [
       "173-element Array{Int64,1}:\n",
       "    12\n",
       "    13\n",
       "    18\n",
       "    74\n",
       "   103\n",
       "   142\n",
       "   266\n",
       "   379\n",
       "   598\n",
       "   679\n",
       "   711\n",
       "   713\n",
       "   716\n",
       "     ⋮\n",
       " 13859\n",
       " 14115\n",
       " 14151\n",
       " 14158\n",
       " 14210\n",
       " 14272\n",
       " 14394\n",
       " 14409\n",
       " 14414\n",
       " 14652\n",
       " 14694\n",
       " 14717"
      ]
     },
     "execution_count": 175,
     "metadata": {},
     "output_type": "execute_result"
    }
   ],
   "source": [
    "x_sp_inds"
   ]
  },
  {
   "cell_type": "code",
   "execution_count": null,
   "metadata": {},
   "outputs": [],
   "source": []
  },
  {
   "cell_type": "code",
   "execution_count": null,
   "metadata": {},
   "outputs": [],
   "source": []
  },
  {
   "cell_type": "code",
   "execution_count": 96,
   "metadata": {},
   "outputs": [
    {
     "data": {
      "text/plain": [
       "mat_dense_vec_sparse4 (generic function with 1 method)"
      ]
     },
     "execution_count": 96,
     "metadata": {},
     "output_type": "execute_result"
    }
   ],
   "source": [
    "function mat_dense_vec_sparse4(W_dense::AbstractArray{T}, x_sp::AbstractVector{T}) where T<:Number\n",
    "    n_rows_W, n_cols_W = size(W_dense)\n",
    "    result = zeros(eltype(W_dense), n_rows_W)\n",
    "    x_sp_inds  = x_sp.nzind\n",
    "    x_sp_vals  = x_sp.nzval\n",
    "    n_nonzeros = length(x_sp_inds)\n",
    "    @inbounds for j in 1:n_rows_W\n",
    "        res = zero(T)\n",
    "        for i in 1:2:n_nonzeros\n",
    "            res+= W_dense[j,x_sp_inds[i]]   * x_sp_vals[i]\n",
    "            res+= W_dense[j,x_sp_inds[i+1]] * x_sp_vals[i+1]\n",
    "        end\n",
    "         result[j] = res\n",
    "    end\n",
    "    return result\n",
    "end"
   ]
  },
  {
   "cell_type": "code",
   "execution_count": 97,
   "metadata": {},
   "outputs": [
    {
     "name": "stdout",
     "output_type": "stream",
     "text": [
      "  398.945 ns (1 allocation: 96 bytes)\n"
     ]
    },
    {
     "data": {
      "text/plain": [
       "2-element Array{Float64,1}:\n",
       " 47.34144389821422\n",
       " 44.40459386388156"
      ]
     },
     "execution_count": 97,
     "metadata": {},
     "output_type": "execute_result"
    }
   ],
   "source": [
    "@btime mat_dense_vec_sparse4(Wt,x_sp)"
   ]
  },
  {
   "cell_type": "code",
   "execution_count": null,
   "metadata": {},
   "outputs": [],
   "source": []
  },
  {
   "cell_type": "code",
   "execution_count": null,
   "metadata": {},
   "outputs": [],
   "source": []
  },
  {
   "cell_type": "code",
   "execution_count": null,
   "metadata": {},
   "outputs": [],
   "source": []
  },
  {
   "cell_type": "code",
   "execution_count": null,
   "metadata": {},
   "outputs": [],
   "source": [
    "my_prod(W::Adjoint, x::SparseVector) = mat_dense_vec_sparse(W, x) \n"
   ]
  },
  {
   "cell_type": "code",
   "execution_count": null,
   "metadata": {},
   "outputs": [],
   "source": [
    "W = rand(n_features, n_classes);\n",
    "x_sp = sprand(n_features, 0.1);\n",
    "b = zeros(n_classes);"
   ]
  },
  {
   "cell_type": "code",
   "execution_count": null,
   "metadata": {},
   "outputs": [],
   "source": [
    "typeof(W') <: Adjoint{AbstractFloat, AbstractArray{AbstractFloat,2}}"
   ]
  },
  {
   "cell_type": "code",
   "execution_count": null,
   "metadata": {},
   "outputs": [],
   "source": [
    "typeof(W') <: Adjoint"
   ]
  },
  {
   "cell_type": "code",
   "execution_count": null,
   "metadata": {},
   "outputs": [],
   "source": [
    "typeof(x_sp) <:SparseVector"
   ]
  },
  {
   "cell_type": "code",
   "execution_count": null,
   "metadata": {},
   "outputs": [],
   "source": [
    "@btime my_prod(W',x_sp)"
   ]
  },
  {
   "cell_type": "code",
   "execution_count": null,
   "metadata": {},
   "outputs": [],
   "source": [
    "@btime W'*x_sp"
   ]
  },
  {
   "cell_type": "code",
   "execution_count": null,
   "metadata": {},
   "outputs": [],
   "source": []
  },
  {
   "cell_type": "code",
   "execution_count": null,
   "metadata": {},
   "outputs": [],
   "source": []
  },
  {
   "cell_type": "code",
   "execution_count": null,
   "metadata": {},
   "outputs": [],
   "source": [
    "W'*x_sp + b"
   ]
  },
  {
   "cell_type": "code",
   "execution_count": null,
   "metadata": {},
   "outputs": [],
   "source": [
    "affine_dense_input_sparse(W', b, x_sp)"
   ]
  },
  {
   "cell_type": "code",
   "execution_count": null,
   "metadata": {},
   "outputs": [],
   "source": [
    "time1 = @benchmark W'*x_sp + b;\n",
    "time2 = @benchmark affine_dense_input_sparse(W', b, x_sp);\n",
    "\n",
    "result1 = W'*x_sp + b\n",
    "result2 = affine_dense_input_sparse(W', b, x_sp)\n",
    "\n",
    "time1_meantime = mean(time1.times)\n",
    "time2_meantime = mean(time2.times)\n",
    "\n",
    "\n",
    "print(\"W'*x_sp + b: \", time1_meantime)\n",
    "print(\"\\t affine_dense_input_sparse:\", time2_meantime)\n",
    "print(\"\\t isapprox: \", isapprox(result1, result2))\n"
   ]
  },
  {
   "cell_type": "code",
   "execution_count": null,
   "metadata": {},
   "outputs": [],
   "source": [
    "length(nonzeros(x_sp))/length(x_sp)"
   ]
  },
  {
   "cell_type": "code",
   "execution_count": null,
   "metadata": {},
   "outputs": [],
   "source": [
    "length(x_sp), length(nonzeros(x_sp))"
   ]
  },
  {
   "cell_type": "code",
   "execution_count": null,
   "metadata": {},
   "outputs": [],
   "source": [
    "100*(7512/15000)"
   ]
  },
  {
   "cell_type": "code",
   "execution_count": null,
   "metadata": {},
   "outputs": [],
   "source": [
    "percentage_sparse_tests = [0.5, 0.4, 0.3, 0.2, 0.1, 0.01, 0.001,0.0001]\n",
    "results = []\n",
    "\n",
    "for percent_sparse in percentage_sparse_tests\n",
    "    W = rand(n_features, n_classes);\n",
    "    x_sp = sprand(n_features, percent_sparse);\n",
    "    b = zeros(n_classes);\n",
    "    \n",
    "    time1 = @benchmark W'*x_sp + b;\n",
    "    time2 = @benchmark affine_dense_input_sparse(W', b, x_sp);\n",
    "\n",
    "    result1 = W'*x_sp + b\n",
    "    result2 = affine_dense_input_sparse(W', b, x_sp)\n",
    "\n",
    "    time1_meantime = Int(round(mean(time1.times)))\n",
    "    time2_meantime = Int(round(mean(time2.times)))\n",
    "    improvement    = round(time1_meantime/ time2_meantime, digits = 2)\n",
    "    percentage_nonzeros = round(100*(length(nonzeros(x_sp))/n_features), digits=2)\n",
    "    \n",
    "    x = (percentage_sparse=percentage_nonzeros, t1=time1_meantime, t2=time2_meantime, improvement=improvement)\n",
    "    push!(results, x)\n",
    "    \n",
    "    println(\"\\nTrue % nonzeros:\", percentage_nonzeros, \"\\t percent_sparse given:\", 100*percent_sparse)\n",
    "\n",
    "    print(\"Improvement: \", improvement,\"x    \")\n",
    "    print(\"\\tW'*x_sp + b: \", time1_meantime)\n",
    "    print(\"\\tCustom:\", time2_meantime)\n",
    "    print(\"\\tisapprox: \", isapprox(result1, result2))\n",
    "    println(\" \")\n",
    "\n",
    "end"
   ]
  },
  {
   "cell_type": "markdown",
   "metadata": {},
   "source": [
    "It is not worth it Weights are not adjoint"
   ]
  },
  {
   "cell_type": "code",
   "execution_count": null,
   "metadata": {},
   "outputs": [],
   "source": [
    "percentage_sparse_tests = [0.5, 0.4, 0.3, 0.2, 0.1, 0.01, 0.001,0.0001]\n",
    "results = []\n",
    "W_t = copy(W')\n",
    "for percent_sparse in percentage_sparse_tests\n",
    "    W = rand(n_features, n_classes);\n",
    "    x_sp = sprand(n_features, percent_sparse);\n",
    "    b = zeros(n_classes);\n",
    "    \n",
    "    time1 = @benchmark W_t*x_sp + b;\n",
    "    time2 = @benchmark affine_dense_input_sparse(W_t, b, x_sp);\n",
    "\n",
    "    result1 = W_t*x_sp + b\n",
    "    result2 = affine_dense_input_sparse(W_t, b, x_sp)\n",
    "\n",
    "    time1_meantime = Int(round(mean(time1.times)))\n",
    "    time2_meantime = Int(round(mean(time2.times)))\n",
    "    improvement    = round(time1_meantime/ time2_meantime, digits = 2)\n",
    "    percentage_nonzeros = round(100*(length(nonzeros(x_sp))/n_features), digits=2)\n",
    "    \n",
    "    x = (percentage_sparse=percentage_nonzeros, t1=time1_meantime, t2=time2_meantime, improvement=improvement)\n",
    "    push!(results, x)\n",
    "    \n",
    "    println(\"\\nTrue % nonzeros:\", percentage_nonzeros, \"\\t percent_sparse given:\", percent_sparse)\n",
    "\n",
    "    print(\"Improvement: \", improvement,\"x    \")\n",
    "    print(\"\\tW_t*x_sp + b: \", time1_meantime)\n",
    "    print(\"\\tCustom:\", time2_meantime)\n",
    "    print(\"\\tisapprox: \", isapprox(result1, result2))\n",
    "    println(\" \")\n",
    "\n",
    "end"
   ]
  },
  {
   "cell_type": "markdown",
   "metadata": {},
   "source": [
    "### Only Matrix vector product"
   ]
  },
  {
   "cell_type": "code",
   "execution_count": 5,
   "metadata": {},
   "outputs": [
    {
     "data": {
      "text/plain": [
       "mat_dense_vec_sparse (generic function with 1 method)"
      ]
     },
     "execution_count": 5,
     "metadata": {},
     "output_type": "execute_result"
    }
   ],
   "source": [
    "function mat_dense_vec_sparse(W_dense, x_sp)\n",
    "    n_rows_W, n_cols_W = size(W_dense)\n",
    "    result = zeros(eltype(W_dense), n_rows_W)\n",
    "    \n",
    "    @inbounds for j in 1:n_rows_W\n",
    "        for i in x_sp.nzind\n",
    "            result[j] += W_dense[j,i] * x_sp[i] \n",
    "        end\n",
    "    end\n",
    "    return result\n",
    "end"
   ]
  },
  {
   "cell_type": "code",
   "execution_count": 6,
   "metadata": {},
   "outputs": [
    {
     "name": "stdout",
     "output_type": "stream",
     "text": [
      "\n",
      "True % nonzeros:50.21\t percent_sparse given:0.5\n",
      "Improvement: 1.92x    \tW'*x_sp : 1123960\tCustom:584711\tisapprox: true \n",
      "\n",
      "True % nonzeros:39.62\t percent_sparse given:0.4\n",
      "Improvement: 2.2x    \tW'*x_sp : 1023303\tCustom:465889\tisapprox: true \n",
      "\n",
      "True % nonzeros:29.9\t percent_sparse given:0.3\n",
      "Improvement: 2.64x    \tW'*x_sp : 942773\tCustom:356707\tisapprox: true \n",
      "\n",
      "True % nonzeros:19.88\t percent_sparse given:0.2\n",
      "Improvement: 3.21x    \tW'*x_sp : 740356\tCustom:230381\tisapprox: true \n",
      "\n",
      "True % nonzeros:10.25\t percent_sparse given:0.1\n",
      "Improvement: 4.62x    \tW'*x_sp : 565736\tCustom:122556\tisapprox: true \n",
      "\n",
      "True % nonzeros:1.0\t percent_sparse given:0.01\n",
      "Improvement: 103.09x    \tW'*x_sp : 291132\tCustom:2824\tisapprox: true \n",
      "\n",
      "True % nonzeros:0.06\t percent_sparse given:0.001\n",
      "Improvement: 522.89x    \tW'*x_sp : 116081\tCustom:222\tisapprox: true \n",
      "\n",
      "True % nonzeros:0.0\t percent_sparse given:0.0001\n",
      "Improvement: 452.99x    \tW'*x_sp : 43034\tCustom:95\tisapprox: true \n"
     ]
    }
   ],
   "source": [
    "percentage_sparse_tests = [0.5, 0.4, 0.3, 0.2, 0.1, 0.01, 0.001,0.0001]\n",
    "results = []\n",
    "\n",
    "for percent_sparse in percentage_sparse_tests\n",
    "    W    = rand(n_features, n_classes);\n",
    "    x_sp = sprand(n_features, percent_sparse);\n",
    "    b    = zeros(n_classes);\n",
    "    \n",
    "    time1 = @benchmark W'*x_sp;\n",
    "    time2 = @benchmark mat_dense_vec_sparse(W', x_sp);\n",
    "\n",
    "    result1 = W'*x_sp + b\n",
    "    result2 = mat_dense_vec_sparse(W', x_sp)\n",
    "\n",
    "    time1_meantime = Int(round(mean(time1.times)))\n",
    "    time2_meantime = Int(round(mean(time2.times)))\n",
    "    improvement    = round(time1_meantime/ time2_meantime, digits = 2)\n",
    "    percentage_nonzeros = round(100*(length(nonzeros(x_sp))/n_features), digits=2)\n",
    "    \n",
    "    x = (percentage_sparse=percentage_nonzeros, t1=time1_meantime, t2=time2_meantime, improvement=improvement)\n",
    "    push!(results, x)\n",
    "    \n",
    "    println(\"\\nTrue % nonzeros:\", percentage_nonzeros, \"\\t percent_sparse given:\", percent_sparse)\n",
    "\n",
    "    print(\"Improvement: \", improvement,\"x    \")\n",
    "    print(\"\\tW'*x_sp : \", time1_meantime)\n",
    "    print(\"\\tCustom:\", time2_meantime)\n",
    "    print(\"\\tisapprox: \", isapprox(result1, result2))\n",
    "    println(\" \")\n",
    "\n",
    "end"
   ]
  },
  {
   "cell_type": "code",
   "execution_count": 32,
   "metadata": {},
   "outputs": [
    {
     "data": {
      "text/plain": [
       "Adjoint{Float64,Array{Float64,2}}"
      ]
     },
     "execution_count": 32,
     "metadata": {},
     "output_type": "execute_result"
    }
   ],
   "source": [
    "typeof(W')"
   ]
  },
  {
   "cell_type": "code",
   "execution_count": 41,
   "metadata": {},
   "outputs": [],
   "source": [
    "W    = rand(15000, 10);\n",
    "x_sp = sprand(15000,0.1);"
   ]
  },
  {
   "cell_type": "code",
   "execution_count": 42,
   "metadata": {},
   "outputs": [
    {
     "name": "stdout",
     "output_type": "stream",
     "text": [
      "  2.663 ms (10 allocations: 752 bytes)\n"
     ]
    }
   ],
   "source": [
    "@btime W'*x_sp;"
   ]
  },
  {
   "cell_type": "code",
   "execution_count": 22,
   "metadata": {},
   "outputs": [
    {
     "data": {
      "text/plain": [
       "SparseVector{Float64,Int64}"
      ]
     },
     "execution_count": 22,
     "metadata": {},
     "output_type": "execute_result"
    }
   ],
   "source": [
    "typeof(x_sp)"
   ]
  },
  {
   "cell_type": "code",
   "execution_count": 24,
   "metadata": {},
   "outputs": [
    {
     "data": {
      "text/plain": [
       "15000-element SparseVector{Float64,Int64} with 1464 stored entries:\n",
       "  [16   ]  =  0.498027\n",
       "  [44   ]  =  0.975501\n",
       "  [49   ]  =  0.307525\n",
       "  [54   ]  =  0.0203444\n",
       "  [61   ]  =  0.146972\n",
       "  [63   ]  =  0.69342\n",
       "  [64   ]  =  0.630906\n",
       "  [68   ]  =  0.153501\n",
       "  [74   ]  =  0.383094\n",
       "  [83   ]  =  0.434311\n",
       "           ⋮\n",
       "  [14904]  =  0.146065\n",
       "  [14918]  =  0.446119\n",
       "  [14924]  =  0.128669\n",
       "  [14928]  =  0.957264\n",
       "  [14933]  =  0.937201\n",
       "  [14949]  =  0.391561\n",
       "  [14967]  =  0.0975735\n",
       "  [14972]  =  0.278263\n",
       "  [14979]  =  0.231342\n",
       "  [14996]  =  0.548058\n",
       "  [14997]  =  0.319715"
      ]
     },
     "execution_count": 24,
     "metadata": {},
     "output_type": "execute_result"
    }
   ],
   "source": [
    "x_sp"
   ]
  },
  {
   "cell_type": "code",
   "execution_count": 23,
   "metadata": {},
   "outputs": [
    {
     "name": "stdout",
     "output_type": "stream",
     "text": [
      "  533.952 μs (6 allocations: 304 bytes)\n"
     ]
    },
    {
     "data": {
      "text/plain": [
       "2-element SparseVector{Float64,Int64} with 2 stored entries:\n",
       "  [1]  =  357.016\n",
       "  [2]  =  361.428"
      ]
     },
     "execution_count": 23,
     "metadata": {},
     "output_type": "execute_result"
    }
   ],
   "source": [
    "@btime W'*x_sp"
   ]
  },
  {
   "cell_type": "code",
   "execution_count": 25,
   "metadata": {},
   "outputs": [
    {
     "data": {
      "text/plain": [
       "2×15000 Adjoint{Float64,Array{Float64,2}}:\n",
       " 0.93468   0.825887  0.919829  0.032798  …  0.724829  0.829388  0.239847\n",
       " 0.859358  0.922824  0.699805  0.44007      0.889028  0.110043  0.275656"
      ]
     },
     "execution_count": 25,
     "metadata": {},
     "output_type": "execute_result"
    }
   ],
   "source": [
    "Wt= W'"
   ]
  },
  {
   "cell_type": "code",
   "execution_count": 26,
   "metadata": {},
   "outputs": [
    {
     "name": "stdout",
     "output_type": "stream",
     "text": [
      "  534.485 μs (5 allocations: 288 bytes)\n"
     ]
    },
    {
     "data": {
      "text/plain": [
       "2-element SparseVector{Float64,Int64} with 2 stored entries:\n",
       "  [1]  =  357.016\n",
       "  [2]  =  361.428"
      ]
     },
     "execution_count": 26,
     "metadata": {},
     "output_type": "execute_result"
    }
   ],
   "source": [
    "@btime Wt*x_sp"
   ]
  },
  {
   "cell_type": "code",
   "execution_count": 31,
   "metadata": {},
   "outputs": [
    {
     "name": "stdout",
     "output_type": "stream",
     "text": [
      "  110.527 μs (2 allocations: 112 bytes)\n"
     ]
    },
    {
     "data": {
      "text/plain": [
       "2-element Array{Float64,1}:\n",
       " 357.0155355144745 \n",
       " 361.42813947591645"
      ]
     },
     "execution_count": 31,
     "metadata": {},
     "output_type": "execute_result"
    }
   ],
   "source": [
    "@btime mat_dense_vec_sparse(W',x_sp)"
   ]
  },
  {
   "cell_type": "code",
   "execution_count": null,
   "metadata": {},
   "outputs": [],
   "source": []
  },
  {
   "cell_type": "code",
   "execution_count": null,
   "metadata": {},
   "outputs": [],
   "source": []
  },
  {
   "cell_type": "code",
   "execution_count": null,
   "metadata": {},
   "outputs": [],
   "source": []
  },
  {
   "cell_type": "code",
   "execution_count": null,
   "metadata": {},
   "outputs": [],
   "source": [
    "percentage_sparse_tests = [0.5, 0.4, 0.3, 0.2, 0.1, 0.01, 0.001,0.0001]\n",
    "results = []\n",
    "W_t = copy(W')\n",
    "\n",
    "\n",
    "for percent_sparse in percentage_sparse_tests\n",
    "    W = rand(n_features, n_classes);\n",
    "    x_sp = sprand(n_features, percent_sparse);\n",
    "    b = zeros(n_classes);\n",
    "    \n",
    "    time1 = @benchmark W_t*x_sp;\n",
    "    time2 = @benchmark mat_dense_vec_sparse(W_t, x_sp);\n",
    "\n",
    "    result1 = W_t*x_sp + b\n",
    "    result2 = mat_dense_vec_sparse(W_t, x_sp)\n",
    "\n",
    "    time1_meantime = Int(round(mean(time1.times)))\n",
    "    time2_meantime = Int(round(mean(time2.times)))\n",
    "    improvement    = round(time1_meantime/ time2_meantime, digits = 2)\n",
    "    percentage_nonzeros = round(100*(length(nonzeros(x_sp))/n_features), digits=2)\n",
    "    \n",
    "    x = (percentage_sparse=percentage_nonzeros, t1=time1_meantime, t2=time2_meantime, improvement=improvement)\n",
    "    push!(results, x)\n",
    "    \n",
    "    println(\"\\nTrue % nonzeros:\", percentage_nonzeros, \"\\t percent_sparse given:\", percent_sparse)\n",
    "\n",
    "    print(\"Improvement: \", improvement,\"x    \")\n",
    "    print(\"\\tW'*x_sp : \", time1_meantime)\n",
    "    print(\"\\tCustom:\", time2_meantime)\n",
    "    print(\"\\tisapprox: \", isapprox(result1, result2))\n",
    "    println(\" \")\n",
    "\n",
    "end"
   ]
  },
  {
   "cell_type": "markdown",
   "metadata": {},
   "source": [
    "### Overloading the `*` operator"
   ]
  },
  {
   "cell_type": "code",
   "execution_count": null,
   "metadata": {},
   "outputs": [],
   "source": [
    "using LinearAlgebra"
   ]
  },
  {
   "cell_type": "code",
   "execution_count": null,
   "metadata": {},
   "outputs": [],
   "source": [
    "function mat_dense_vec_sparse(W_dense, x_sp)\n",
    "    n_rows_W, n_cols_W = size(W_dense)\n",
    "    result = zeros(eltype(W_dense), n_rows_W)\n",
    "    \n",
    "    @inbounds for j in 1:n_rows_W\n",
    "        for i in x_sp.nzind\n",
    "            result[j] += W_dense[j,i] * x_sp[i] \n",
    "        end\n",
    "    end\n",
    "    return result\n",
    "end"
   ]
  },
  {
   "cell_type": "code",
   "execution_count": null,
   "metadata": {},
   "outputs": [],
   "source": [
    "@time W'*x_sp"
   ]
  },
  {
   "cell_type": "code",
   "execution_count": null,
   "metadata": {},
   "outputs": [],
   "source": [
    "import Base \n",
    "import Base.*\n",
    "\n",
    "#*(W::Adjoint, x::SparseVector) =  mat_dense_vec_sparse(W_dense, x_sp)"
   ]
  },
  {
   "cell_type": "code",
   "execution_count": null,
   "metadata": {},
   "outputs": [],
   "source": [
    "*(W::Adjoint, x::SparseVector) = mat_dense_vec_sparse(W, x) "
   ]
  },
  {
   "cell_type": "code",
   "execution_count": null,
   "metadata": {},
   "outputs": [],
   "source": [
    "@time mat_dense_vec_sparse(W',x_sp)"
   ]
  },
  {
   "cell_type": "code",
   "execution_count": null,
   "metadata": {},
   "outputs": [],
   "source": [
    "@time W'*x_sp"
   ]
  },
  {
   "cell_type": "code",
   "execution_count": null,
   "metadata": {},
   "outputs": [],
   "source": [
    "myprod2(W::Adjoint, x::SparseVector) = mat_dense_vec_sparse(W, x) "
   ]
  },
  {
   "cell_type": "code",
   "execution_count": null,
   "metadata": {},
   "outputs": [],
   "source": [
    "@time myprod2(W',x_sp)"
   ]
  },
  {
   "cell_type": "code",
   "execution_count": null,
   "metadata": {},
   "outputs": [],
   "source": [
    "*(W::Adjoint, x::SparseVector) = mat_dense_vec_sparse(W, x) "
   ]
  },
  {
   "cell_type": "code",
   "execution_count": null,
   "metadata": {},
   "outputs": [],
   "source": [
    "@time W'*x_sp"
   ]
  },
  {
   "cell_type": "code",
   "execution_count": null,
   "metadata": {},
   "outputs": [],
   "source": []
  },
  {
   "cell_type": "code",
   "execution_count": null,
   "metadata": {},
   "outputs": [],
   "source": [
    "typeof(W')"
   ]
  },
  {
   "cell_type": "code",
   "execution_count": null,
   "metadata": {},
   "outputs": [],
   "source": []
  },
  {
   "cell_type": "code",
   "execution_count": null,
   "metadata": {},
   "outputs": [],
   "source": [
    "my_prod(W',x_sp)"
   ]
  },
  {
   "cell_type": "code",
   "execution_count": null,
   "metadata": {},
   "outputs": [],
   "source": [
    "*(W::Adjoint{T, AbstractArray{T,2}}, x::SparseVector{T,I}) where {T<:AbstractFloat, I<:Int} = mat_dense_vec_sparse(W_dense, x_sp) "
   ]
  },
  {
   "cell_type": "code",
   "execution_count": null,
   "metadata": {},
   "outputs": [],
   "source": [
    "typeof(W'), typeof(x_sp)"
   ]
  },
  {
   "cell_type": "code",
   "execution_count": null,
   "metadata": {},
   "outputs": [],
   "source": []
  },
  {
   "cell_type": "code",
   "execution_count": null,
   "metadata": {},
   "outputs": [],
   "source": [
    "W'*x_sp"
   ]
  },
  {
   "cell_type": "code",
   "execution_count": null,
   "metadata": {},
   "outputs": [],
   "source": []
  },
  {
   "cell_type": "code",
   "execution_count": null,
   "metadata": {},
   "outputs": [],
   "source": [
    "@time W'*x_sp"
   ]
  },
  {
   "cell_type": "code",
   "execution_count": null,
   "metadata": {},
   "outputs": [],
   "source": [
    "@which W'*x_sp"
   ]
  },
  {
   "cell_type": "code",
   "execution_count": null,
   "metadata": {},
   "outputs": [],
   "source": [
    "@time  W'*x_sp"
   ]
  },
  {
   "cell_type": "code",
   "execution_count": null,
   "metadata": {},
   "outputs": [],
   "source": [
    "@time mat_dense_vec_sparse(W', x_sp)"
   ]
  },
  {
   "cell_type": "code",
   "execution_count": null,
   "metadata": {},
   "outputs": [],
   "source": []
  },
  {
   "cell_type": "code",
   "execution_count": null,
   "metadata": {},
   "outputs": [],
   "source": []
  },
  {
   "cell_type": "code",
   "execution_count": null,
   "metadata": {},
   "outputs": [],
   "source": []
  },
  {
   "cell_type": "markdown",
   "metadata": {},
   "source": [
    "**A model is an object storing hyperparameters associated with some machine learning algorithm. In MLJ, hyperparameters include configuration parameters, like the number of threads, and special instructions, such as \"compute feature rankings\", which may or may not affect the final learning outcome. However, the logging level (verbosity below) is excluded.\n",
    "**\n",
    "\n",
    "In my case I coded the model as a struct containing hyperparameters as well as the number of classes and the number of features\n",
    "```\n",
    "mutable struct MulticlassPerceptronClassifier{T}\n",
    "    W::AbstractMatrix{T}\n",
    "    b::AbstractVector{T}\n",
    "    n_classes::Int\n",
    "    n_features::Int\n",
    "end\n",
    "```\n",
    "\n",
    "In MLJ I would do\n",
    "\n",
    "```\n",
    "mutable struct MulticlassPerceptronClassifier <: MLJBase.Deterministic\n",
    "    weight_average::Bool\n",
    "end\n",
    "```\n",
    "\n",
    "**\n",
    "Models (which are mutable) should not be given internal constructors. It is recommended that they be given an external lazy keyword constructor of the same name. This constructor defines default values for every field, and optionally corrects invalid field values by calling a clean! method (whose fallback returns an empty message string):\n",
    "**\n",
    "\n",
    "\n"
   ]
  },
  {
   "cell_type": "code",
   "execution_count": null,
   "metadata": {},
   "outputs": [],
   "source": []
  },
  {
   "cell_type": "code",
   "execution_count": null,
   "metadata": {},
   "outputs": [],
   "source": []
  },
  {
   "cell_type": "code",
   "execution_count": null,
   "metadata": {},
   "outputs": [],
   "source": []
  },
  {
   "cell_type": "code",
   "execution_count": null,
   "metadata": {},
   "outputs": [],
   "source": []
  },
  {
   "cell_type": "markdown",
   "metadata": {},
   "source": [
    "Native implementations (preferred option). The implementation code lives in the same package that contains the learning algorithms implementing the interface.\n",
    "\n",
    "\n",
    "\n",
    "In this case, it is sufficient to open an issue at MLJRegistry requesting the package to be registered with MLJ. Registering a package allows the MLJ user to access its models' metadata and to selectively load them.\n",
    "\n"
   ]
  },
  {
   "cell_type": "code",
   "execution_count": null,
   "metadata": {},
   "outputs": [],
   "source": []
  },
  {
   "cell_type": "markdown",
   "metadata": {},
   "source": [
    "Additionally, one needs to ensure that the implementation code defines the package_name and load_path model traits appropriately, so that MLJ's @load macro can find the necessary code (see MLJModels/src for examples). The @load command can only be tested after registration. If changes are made, lodge an issue at MLJRegistry to make the changes available to MLJ.\n",
    "\n"
   ]
  },
  {
   "cell_type": "code",
   "execution_count": null,
   "metadata": {},
   "outputs": [],
   "source": []
  },
  {
   "cell_type": "markdown",
   "metadata": {
    "collapsed": true
   },
   "source": [
    "### Adding a model to MLJ\n",
    "\n",
    "\n",
    "#### `fit!(machine, rows, verbosity ) interface `\n"
   ]
  },
  {
   "cell_type": "code",
   "execution_count": null,
   "metadata": {},
   "outputs": [],
   "source": []
  },
  {
   "cell_type": "markdown",
   "metadata": {},
   "source": [
    "#### `fit(model, verbosity, X[rows], y[rows])` \n"
   ]
  },
  {
   "cell_type": "code",
   "execution_count": null,
   "metadata": {},
   "outputs": [],
   "source": []
  },
  {
   "cell_type": "markdown",
   "metadata": {},
   "source": [
    "#### `fit(model, verbosity, X[rows], y[rows])` \n",
    "\n"
   ]
  },
  {
   "cell_type": "code",
   "execution_count": null,
   "metadata": {},
   "outputs": [],
   "source": []
  },
  {
   "cell_type": "code",
   "execution_count": null,
   "metadata": {},
   "outputs": [],
   "source": []
  },
  {
   "cell_type": "code",
   "execution_count": null,
   "metadata": {},
   "outputs": [],
   "source": []
  }
 ],
 "metadata": {
  "kernelspec": {
   "display_name": "Julia 1.1.0",
   "language": "julia",
   "name": "julia-1.1"
  },
  "language_info": {
   "file_extension": ".jl",
   "mimetype": "application/julia",
   "name": "julia",
   "version": "1.1.0"
  },
  "toc": {
   "base_numbering": 1,
   "nav_menu": {},
   "number_sections": true,
   "sideBar": true,
   "skip_h1_title": false,
   "title_cell": "Table of Contents",
   "title_sidebar": "Contents",
   "toc_cell": false,
   "toc_position": {},
   "toc_section_display": true,
   "toc_window_display": false
  }
 },
 "nbformat": 4,
 "nbformat_minor": 2
}
