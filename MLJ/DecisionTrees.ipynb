{
 "cells": [
  {
   "cell_type": "markdown",
   "metadata": {},
   "source": [
    "# MLJ"
   ]
  },
  {
   "cell_type": "code",
   "execution_count": 3,
   "metadata": {},
   "outputs": [
    {
     "data": {
      "text/plain": [
       "Plots.PyPlotBackend()"
      ]
     },
     "execution_count": 3,
     "metadata": {},
     "output_type": "execute_result"
    }
   ],
   "source": [
    "using MLJ\n",
    "using Plots\n",
    "pyplot()"
   ]
  },
  {
   "cell_type": "markdown",
   "metadata": {},
   "source": [
    "Load a task (data plus learning objective):\n"
   ]
  },
  {
   "cell_type": "code",
   "execution_count": 4,
   "metadata": {
    "scrolled": true
   },
   "outputs": [
    {
     "data": {
      "text/plain": [
       "\u001b[0m\u001b[1mSupervisedTask @ 1…69\u001b[22m\n"
      ]
     },
     "execution_count": 4,
     "metadata": {},
     "output_type": "execute_result"
    }
   ],
   "source": [
    "task = load_boston()"
   ]
  },
  {
   "cell_type": "markdown",
   "metadata": {},
   "source": [
    "Models available for the task"
   ]
  },
  {
   "cell_type": "code",
   "execution_count": 5,
   "metadata": {},
   "outputs": [
    {
     "data": {
      "text/plain": [
       "Dict{String,Any} with 4 entries:\n",
       "  \"MLJ\"          => Any[\"KNNRegressor\", \"RidgeRegressor\"]\n",
       "  \"DecisionTree\" => Any[\"DecisionTreeRegressor\"]\n",
       "  \"ScikitLearn\"  => Any[\"SVMRegressor\", \"SVMLRegressor\", \"SVMNuRegressor\"]\n",
       "  \"XGBoost\"      => Any[\"XGBoostRegressor\"]"
      ]
     },
     "execution_count": 5,
     "metadata": {},
     "output_type": "execute_result"
    }
   ],
   "source": [
    "models(task)"
   ]
  },
  {
   "cell_type": "markdown",
   "metadata": {},
   "source": [
    "Evaluating a single decision tree¶\n"
   ]
  },
  {
   "cell_type": "code",
   "execution_count": 6,
   "metadata": {},
   "outputs": [
    {
     "name": "stdout",
     "output_type": "stream",
     "text": [
      "import MLJModels "
     ]
    },
    {
     "name": "stderr",
     "output_type": "stream",
     "text": [
      "┌ Info: Recompiling stale cache file /Users/david/.julia/compiled/v1.1/MLJModels/0nkqq.ji for MLJModels [d491faf4-2d78-11e9-2867-c94bc002c0b7]\n",
      "└ @ Base loading.jl:1184\n"
     ]
    },
    {
     "name": "stdout",
     "output_type": "stream",
     "text": [
      "✔\n",
      "import DecisionTree ✔\n",
      "import MLJModels.DecisionTree_.DecisionTreeRegressor ✔\n"
     ]
    }
   ],
   "source": [
    "@load DecisionTreeRegressor"
   ]
  },
  {
   "cell_type": "code",
   "execution_count": 7,
   "metadata": {
    "scrolled": true
   },
   "outputs": [
    {
     "name": "stderr",
     "output_type": "stream",
     "text": [
      "┌ Info: Evaluating using a holdout set. \n",
      "│ fraction_train=0.8 \n",
      "│ shuffle=false \n",
      "│ measure=Function[rms, rmslp1] \n",
      "│ operation=StatsBase.predict \n",
      "│ Resampling from all rows. \n",
      "└ @ MLJ /Users/david/.julia/packages/MLJ/gsBfz/src/resampling.jl:91\n"
     ]
    },
    {
     "data": {
      "text/plain": [
       "(MLJ.rms = 7.054322052311652,\n",
       " MLJ.rmslp1 = 0.32730942581047084,)"
      ]
     },
     "execution_count": 7,
     "metadata": {},
     "output_type": "execute_result"
    }
   ],
   "source": [
    "tree = DecisionTreeRegressor()\n",
    "mach = machine(tree, task)\n",
    "evaluate!(mach, resampling=Holdout(fraction_train=0.8), measure=[rms,rmslp1])\n"
   ]
  },
  {
   "cell_type": "markdown",
   "metadata": {},
   "source": [
    "Creating a random forest by ensembling\n"
   ]
  },
  {
   "cell_type": "code",
   "execution_count": 8,
   "metadata": {},
   "outputs": [
    {
     "data": {
      "text/plain": [
       "MLJ.DeterministicEnsembleModel(atom = \u001b[0m\u001b[1mDecisionTreeRegressor @ 1…34\u001b[22m,\n",
       "                               weights = Float64[],\n",
       "                               bagging_fraction = 0.8,\n",
       "                               rng = MersenneTwister(UInt32[0xa0299c6c, 0x86a78f20, 0x5962796d, 0xc9ddb3a1]),\n",
       "                               n = 100,\n",
       "                               parallel = true,\n",
       "                               out_of_bag_measure = Any[],)\u001b[0m\u001b[1m @ 2…27\u001b[22m"
      ]
     },
     "execution_count": 8,
     "metadata": {},
     "output_type": "execute_result"
    }
   ],
   "source": [
    "forest = EnsembleModel(atom=tree)"
   ]
  },
  {
   "cell_type": "code",
   "execution_count": 9,
   "metadata": {},
   "outputs": [
    {
     "name": "stdout",
     "output_type": "stream",
     "text": [
      "MLJ.DeterministicEnsembleModel(atom = DecisionTreeRegressor(pruning_purity_threshold = 0.0,\n",
      "                                                            max_depth = -1,\n",
      "                                                            min_samples_leaf = 5,\n",
      "                                                            min_samples_split = 2,\n",
      "                                                            min_purity_increase = 0.0,\n",
      "                                                            n_subfeatures = 0,\n",
      "                                                            post_prune = false,),\n",
      "                               weights = Float64[],\n",
      "                               bagging_fraction = 0.8,\n",
      "                               rng = MersenneTwister(UInt32[0xa0299c6c, 0x86a78f20, 0x5962796d, 0xc9ddb3a1]),\n",
      "                               n = 100,\n",
      "                               parallel = true,\n",
      "                               out_of_bag_measure = Any[],)\u001b[0m\u001b[1m @ 2…27\u001b[22m"
     ]
    }
   ],
   "source": [
    "@more"
   ]
  },
  {
   "cell_type": "markdown",
   "metadata": {},
   "source": [
    "\n",
    "We start by reducing number of features sampled at each tree node. We will use the square root of the number of features, a common default:"
   ]
  },
  {
   "cell_type": "code",
   "execution_count": 10,
   "metadata": {},
   "outputs": [],
   "source": [
    "tree.n_subfeatures = 3;"
   ]
  },
  {
   "cell_type": "markdown",
   "metadata": {},
   "source": [
    "To get an idea of how many trees we need, we wrap our forest model in the task, pick a range for the ensemeble size, n, and generate learning curves (plots of model performance against n):\n"
   ]
  },
  {
   "cell_type": "code",
   "execution_count": 11,
   "metadata": {},
   "outputs": [
    {
     "name": "stderr",
     "output_type": "stream",
     "text": [
      "┌ Info: Training \u001b[0m\u001b[1mMachine @ 1…16\u001b[22m.\n",
      "└ @ MLJ /Users/david/.julia/packages/MLJ/gsBfz/src/machines.jl:115\n",
      "\u001b[33mIterating over a 30-point grid: 100%[=========================] Time: 0:00:03\u001b[39m\n",
      "┌ Info: Training best model on all supplied data.\n",
      "└ @ MLJ /Users/david/.julia/packages/MLJ/gsBfz/src/tuning.jl:179\n",
      "┌ Info: Updating \u001b[0m\u001b[1mMachine @ 1…16\u001b[22m.\n",
      "└ @ MLJ /Users/david/.julia/packages/MLJ/gsBfz/src/machines.jl:119\n",
      "\u001b[33mIterating over a 30-point grid: 100%[=========================] Time: 0:00:01\u001b[39m\n",
      "┌ Info: Training best model on all supplied data.\n",
      "└ @ MLJ /Users/david/.julia/packages/MLJ/gsBfz/src/tuning.jl:179\n",
      "┌ Info: Updating \u001b[0m\u001b[1mMachine @ 1…16\u001b[22m.\n",
      "└ @ MLJ /Users/david/.julia/packages/MLJ/gsBfz/src/machines.jl:119\n",
      "\u001b[33mIterating over a 30-point grid: 100%[=========================] Time: 0:00:01\u001b[39m\n",
      "┌ Info: Training best model on all supplied data.\n",
      "└ @ MLJ /Users/david/.julia/packages/MLJ/gsBfz/src/tuning.jl:179\n",
      "┌ Info: Updating \u001b[0m\u001b[1mMachine @ 1…16\u001b[22m.\n",
      "└ @ MLJ /Users/david/.julia/packages/MLJ/gsBfz/src/machines.jl:119\n",
      "\u001b[33mIterating over a 30-point grid: 100%[=========================] Time: 0:00:01\u001b[39m\n",
      "┌ Info: Training best model on all supplied data.\n",
      "└ @ MLJ /Users/david/.julia/packages/MLJ/gsBfz/src/tuning.jl:179\n"
     ]
    },
    {
     "data": {
      "text/plain": [
       "(parameter_name = n,\n",
       " parameter_scale = linear,\n",
       " parameter_values = [10, 44, 78, 112, 147, 181, 215, 249, 283, 317  …  693, 727, 761, 795, 829, 863, 898, 932, 966, 1000],\n",
       " measurements = [3.73118 4.45135 4.50739 3.68906; 4.03823 4.2599 4.60153 4.07896; … ; 4.27389 4.23531 4.1907 4.2089; 4.28404 4.2229 4.19078 4.2086],)"
      ]
     },
     "execution_count": 11,
     "metadata": {},
     "output_type": "execute_result"
    }
   ],
   "source": [
    "mach   = machine(forest, task)\n",
    "r      = range(forest, :n, lower=10, upper=1000)\n",
    "curves = learning_curve!(mach,\n",
    "                         resampling=Holdout(fraction_train=0.8),\n",
    "                         nested_range=(n=r,), \n",
    "                         measure=rms, n=4)"
   ]
  },
  {
   "cell_type": "code",
   "execution_count": 12,
   "metadata": {},
   "outputs": [
    {
     "data": {
      "image/png": "[encoded data removed]",
      "text/plain": [
       "PyPlot.Figure(PyObject <Figure size 640x480 with 1 Axes>)"
      ]
     },
     "metadata": {},
     "output_type": "display_data"
    },
    {
     "data": {
      "text/plain": [
       "4-element Array{PyCall.PyObject,1}:\n",
       " PyObject <matplotlib.lines.Line2D object at 0x142b13eb8>\n",
       " PyObject <matplotlib.lines.Line2D object at 0x148f063c8>\n",
       " PyObject <matplotlib.lines.Line2D object at 0x148f06518>\n",
       " PyObject <matplotlib.lines.Line2D object at 0x148f06668>"
      ]
     },
     "execution_count": 12,
     "metadata": {},
     "output_type": "execute_result"
    }
   ],
   "source": [
    "PyPlot.plot(curves.parameter_values, curves.measurements)"
   ]
  },
  {
   "cell_type": "code",
   "execution_count": 13,
   "metadata": {},
   "outputs": [],
   "source": [
    "#plot(curves.parameter_values, curves.measurements,\n",
    "#            xlab=\"number of trees\", ylab=\"rms \")"
   ]
  },
  {
   "cell_type": "code",
   "execution_count": 14,
   "metadata": {},
   "outputs": [],
   "source": [
    "#savefig(\"learningcurves.png\")"
   ]
  },
  {
   "cell_type": "code",
   "execution_count": 15,
   "metadata": {},
   "outputs": [],
   "source": [
    "forest.n = 300;"
   ]
  },
  {
   "cell_type": "markdown",
   "metadata": {},
   "source": [
    "## Tunning hyperparasm"
   ]
  },
  {
   "cell_type": "code",
   "execution_count": 16,
   "metadata": {
    "scrolled": false
   },
   "outputs": [
    {
     "data": {
      "text/plain": [
       "(atom = (pruning_purity_threshold = 0.0,\n",
       "         max_depth = -1,\n",
       "         min_samples_leaf = 5,\n",
       "         min_samples_split = 2,\n",
       "         min_purity_increase = 0.0,\n",
       "         n_subfeatures = 3,\n",
       "         post_prune = false,),\n",
       " weights = Float64[],\n",
       " bagging_fraction = 0.8,\n",
       " rng = MersenneTwister(UInt32[0xa0299c6c, 0x86a78f20, 0x5962796d, 0xc9ddb3a1]),\n",
       " n = 300,\n",
       " parallel = true,\n",
       " out_of_bag_measure = Any[],)"
      ]
     },
     "execution_count": 16,
     "metadata": {},
     "output_type": "execute_result"
    }
   ],
   "source": [
    "params(forest) # all hyperparameters, as a named tuple"
   ]
  },
  {
   "cell_type": "code",
   "execution_count": 17,
   "metadata": {},
   "outputs": [],
   "source": [
    "r1 = range(tree, :n_subfeatures, lower=1, upper=12)\n",
    "r2 = range(forest, :bagging_fraction, lower=0.4, upper=1.0);"
   ]
  },
  {
   "cell_type": "code",
   "execution_count": 18,
   "metadata": {},
   "outputs": [
    {
     "data": {
      "text/plain": [
       "(atom = (n_subfeatures = \u001b[0m\u001b[1mNumericRange{n_subfeatures} @ 1…50\u001b[22m,),\n",
       " bagging_fraction = \u001b[0m\u001b[1mNumericRange{bagging_fraction} @ 2…65\u001b[22m,)"
      ]
     },
     "execution_count": 18,
     "metadata": {},
     "output_type": "execute_result"
    }
   ],
   "source": [
    "nested_ranges = (atom=(n_subfeatures=r1,), bagging_fraction=r2)"
   ]
  },
  {
   "cell_type": "code",
   "execution_count": 19,
   "metadata": {},
   "outputs": [
    {
     "data": {
      "text/plain": [
       "MLJ.DeterministicTunedModel(model = \u001b[0m\u001b[1mDeterministicEnsembleModel @ 2…27\u001b[22m,\n",
       "                            tuning = \u001b[0m\u001b[1mGrid @ 1…57\u001b[22m,\n",
       "                            resampling = \u001b[0m\u001b[1mCV @ 1…35\u001b[22m,\n",
       "                            measure = MLJ.rms,\n",
       "                            operation = StatsBase.predict,\n",
       "                            nested_ranges = (atom = (n_subfeatures = \u001b[0m\u001b[1mNumericRange{n_subfeatures} @ 1…50\u001b[22m,), bagging_fraction = \u001b[0m\u001b[1mNumericRange{bagging_fraction} @ 2…65\u001b[22m),\n",
       "                            minimize = true,\n",
       "                            full_report = true,)\u001b[0m\u001b[1m @ 4…14\u001b[22m"
      ]
     },
     "execution_count": 19,
     "metadata": {},
     "output_type": "execute_result"
    }
   ],
   "source": [
    "tuned_forest = TunedModel(model=forest, \n",
    "                          tuning=Grid(resolution=12),\n",
    "                          resampling=CV(nfolds=3),\n",
    "                          nested_ranges=nested_ranges, \n",
    "                          measure=rms)"
   ]
  },
  {
   "cell_type": "code",
   "execution_count": 20,
   "metadata": {},
   "outputs": [
    {
     "data": {
      "text/plain": [
       "(model = (atom = (pruning_purity_threshold = 0.0,\n",
       "                  max_depth = -1,\n",
       "                  min_samples_leaf = 5,\n",
       "                  min_samples_split = 2,\n",
       "                  min_purity_increase = 0.0,\n",
       "                  n_subfeatures = 3,\n",
       "                  post_prune = false,),\n",
       "          weights = Float64[],\n",
       "          bagging_fraction = 0.8,\n",
       "          rng = MersenneTwister(UInt32[0xa0299c6c, 0x86a78f20, 0x5962796d, 0xc9ddb3a1]),\n",
       "          n = 300,\n",
       "          parallel = true,\n",
       "          out_of_bag_measure = Any[],),\n",
       " tuning = (resolution = 12,\n",
       "           parallel = true,),\n",
       " resampling = (nfolds = 3,\n",
       "               parallel = true,\n",
       "               shuffle = false,),\n",
       " measure = MLJ.rms,\n",
       " operation = StatsBase.predict,\n",
       " nested_ranges = (atom = (n_subfeatures = \u001b[0m\u001b[1mNumericRange{n_subfeatures} @ 1…50\u001b[22m,),\n",
       "                  bagging_fraction = \u001b[0m\u001b[1mNumericRange{bagging_fraction} @ 2…65\u001b[22m,),\n",
       " minimize = true,\n",
       " full_report = true,)"
      ]
     },
     "execution_count": 20,
     "metadata": {},
     "output_type": "execute_result"
    }
   ],
   "source": [
    "params(tuned_forest)"
   ]
  },
  {
   "cell_type": "code",
   "execution_count": 21,
   "metadata": {},
   "outputs": [
    {
     "name": "stderr",
     "output_type": "stream",
     "text": [
      "┌ Info: Evaluating using a holdout set. \n",
      "│ fraction_train=0.8 \n",
      "│ shuffle=false \n",
      "│ measure=Function[rms, rmslp1] \n",
      "│ operation=StatsBase.predict \n",
      "│ Resampling from all rows. \n",
      "└ @ MLJ /Users/david/.julia/packages/MLJ/gsBfz/src/resampling.jl:91\n"
     ]
    },
    {
     "data": {
      "text/plain": [
       "(MLJ.rms = 4.009676555840251,\n",
       " MLJ.rmslp1 = 0.2552874256626426,)"
      ]
     },
     "execution_count": 21,
     "metadata": {},
     "output_type": "execute_result"
    }
   ],
   "source": [
    "mach = machine(tuned_forest, task)\n",
    "evaluate!(mach, resampling=Holdout(fraction_train=0.8), measure=[rms, rmslp1])"
   ]
  },
  {
   "cell_type": "code",
   "execution_count": null,
   "metadata": {
    "collapsed": true
   },
   "outputs": [],
   "source": []
  },
  {
   "cell_type": "code",
   "execution_count": null,
   "metadata": {
    "collapsed": true
   },
   "outputs": [],
   "source": []
  },
  {
   "cell_type": "code",
   "execution_count": null,
   "metadata": {
    "collapsed": true
   },
   "outputs": [],
   "source": []
  },
  {
   "cell_type": "code",
   "execution_count": null,
   "metadata": {
    "collapsed": true
   },
   "outputs": [],
   "source": []
  },
  {
   "cell_type": "code",
   "execution_count": null,
   "metadata": {
    "collapsed": true
   },
   "outputs": [],
   "source": []
  },
  {
   "cell_type": "code",
   "execution_count": null,
   "metadata": {
    "collapsed": true
   },
   "outputs": [],
   "source": []
  },
  {
   "cell_type": "code",
   "execution_count": null,
   "metadata": {
    "collapsed": true
   },
   "outputs": [],
   "source": []
  }
 ],
 "metadata": {
  "kernelspec": {
   "display_name": "Julia 1.1.0-rc1",
   "language": "julia",
   "name": "julia-1.1"
  },
  "language_info": {
   "file_extension": ".jl",
   "mimetype": "application/julia",
   "name": "julia",
   "version": "1.1.0"
  }
 },
 "nbformat": 4,
 "nbformat_minor": 1
}
