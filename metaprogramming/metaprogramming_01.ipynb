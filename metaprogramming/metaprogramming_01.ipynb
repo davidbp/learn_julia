{
 "cells": [
  {
   "cell_type": "markdown",
   "metadata": {},
   "source": [
    "## Symbols"
   ]
  },
  {
   "cell_type": "code",
   "execution_count": 1,
   "metadata": {},
   "outputs": [
    {
     "data": {
      "text/plain": [
       "Symbol"
      ]
     },
     "execution_count": 1,
     "metadata": {},
     "output_type": "execute_result"
    }
   ],
   "source": [
    "x = :a\n",
    "typeof(x)"
   ]
  },
  {
   "cell_type": "code",
   "execution_count": 2,
   "metadata": {},
   "outputs": [
    {
     "data": {
      "text/plain": [
       "Symbol"
      ]
     },
     "execution_count": 2,
     "metadata": {},
     "output_type": "execute_result"
    }
   ],
   "source": [
    "x = :something\n",
    "typeof(x)"
   ]
  },
  {
   "cell_type": "markdown",
   "metadata": {},
   "source": [
    "## Expressions"
   ]
  },
  {
   "cell_type": "code",
   "execution_count": 3,
   "metadata": {},
   "outputs": [
    {
     "data": {
      "text/plain": [
       "Expr"
      ]
     },
     "execution_count": 3,
     "metadata": {},
     "output_type": "execute_result"
    }
   ],
   "source": [
    "ex = :(a+b)\n",
    "typeof(ex)"
   ]
  },
  {
   "cell_type": "code",
   "execution_count": 4,
   "metadata": {},
   "outputs": [
    {
     "data": {
      "text/plain": [
       "3-element Vector{Any}:\n",
       " :+\n",
       " :a\n",
       " :b"
      ]
     },
     "execution_count": 4,
     "metadata": {},
     "output_type": "execute_result"
    }
   ],
   "source": [
    "ex.args"
   ]
  },
  {
   "cell_type": "code",
   "execution_count": 5,
   "metadata": {},
   "outputs": [
    {
     "data": {
      "text/plain": [
       ":call"
      ]
     },
     "execution_count": 5,
     "metadata": {},
     "output_type": "execute_result"
    }
   ],
   "source": [
    "ex.head"
   ]
  },
  {
   "cell_type": "markdown",
   "metadata": {},
   "source": [
    "### Interpolation in expressions"
   ]
  },
  {
   "cell_type": "markdown",
   "metadata": {},
   "source": [
    "Sometimes it is useful to be able to make a substitution inside an expression.\n",
    "\n",
    "Instead of using an abstract symbol like `X` we can substitute whatever is stored in `X`  using `$X`. Notice that variable `X` needs to be defined in the scope of the expression (otherwise there will be an error) and it can have a value or even another expression.\n"
   ]
  },
  {
   "cell_type": "code",
   "execution_count": 6,
   "metadata": {},
   "outputs": [
    {
     "data": {
      "text/plain": [
       ":(X + b)"
      ]
     },
     "execution_count": 6,
     "metadata": {},
     "output_type": "execute_result"
    }
   ],
   "source": [
    "ex = :(X + b)"
   ]
  },
  {
   "cell_type": "markdown",
   "metadata": {},
   "source": [
    "We can substitute `X` for what is stored in `X`"
   ]
  },
  {
   "cell_type": "code",
   "execution_count": 7,
   "metadata": {},
   "outputs": [
    {
     "data": {
      "text/plain": [
       ":(1 + b)"
      ]
     },
     "execution_count": 7,
     "metadata": {},
     "output_type": "execute_result"
    }
   ],
   "source": [
    "X = 1;\n",
    "ex = :($X + b)"
   ]
  },
  {
   "cell_type": "markdown",
   "metadata": {},
   "source": [
    "This is valid even if `X` is an `Expr`"
   ]
  },
  {
   "cell_type": "code",
   "execution_count": 9,
   "metadata": {},
   "outputs": [
    {
     "data": {
      "text/plain": [
       ":((x + y) + b)"
      ]
     },
     "execution_count": 9,
     "metadata": {},
     "output_type": "execute_result"
    }
   ],
   "source": [
    "X = :(x+y);\n",
    "ex = :($X + b)"
   ]
  },
  {
   "cell_type": "markdown",
   "metadata": {},
   "source": [
    "We can use this interpolation to create expressions that take input numbers.\n",
    "\n",
    "Let us consider we want to write\n",
    "\n",
    "\n",
    "```\n",
    "if x >= 0.1\n",
    "    return 1\n",
    "elif  x >= 0.2\n",
    "    return 2\n",
    "elif  x >= 0.3\n",
    "    return 3\n",
    "elif  x >= 0.4\n",
    "    return 4\n",
    "elif  x >= 0.5\n",
    "    return 5\n",
    "elif  x >= 0.6\n",
    "    return 6\n",
    "elif  x >= 0.7\n",
    "    return 7\n",
    "elif  x >= 0.8\n",
    "    return 8\n",
    "elif  x >= 0.9\n",
    "    return 9\n",
    "else \n",
    "    return 10\n",
    "```"
   ]
  },
  {
   "cell_type": "code",
   "execution_count": 40,
   "metadata": {},
   "outputs": [],
   "source": [
    "condition = :(x >= v);"
   ]
  },
  {
   "cell_type": "code",
   "execution_count": 41,
   "metadata": {},
   "outputs": [
    {
     "data": {
      "text/plain": [
       "0.1"
      ]
     },
     "execution_count": 41,
     "metadata": {},
     "output_type": "execute_result"
    }
   ],
   "source": [
    "condition.args[end] = 0.1"
   ]
  },
  {
   "cell_type": "code",
   "execution_count": 42,
   "metadata": {},
   "outputs": [
    {
     "data": {
      "text/plain": [
       ":(x >= 0.1)"
      ]
     },
     "execution_count": 42,
     "metadata": {},
     "output_type": "execute_result"
    }
   ],
   "source": [
    "condition"
   ]
  },
  {
   "cell_type": "code",
   "execution_count": 82,
   "metadata": {},
   "outputs": [
    {
     "data": {
      "text/plain": [
       "9-element Vector{Float64}:\n",
       " 0.1\n",
       " 0.2\n",
       " 0.3\n",
       " 0.4\n",
       " 0.5\n",
       " 0.6\n",
       " 0.7\n",
       " 0.8\n",
       " 0.9"
      ]
     },
     "execution_count": 82,
     "metadata": {},
     "output_type": "execute_result"
    }
   ],
   "source": [
    "vals = [x/10 for x in range(1,9)]"
   ]
  },
  {
   "cell_type": "code",
   "execution_count": 86,
   "metadata": {},
   "outputs": [],
   "source": [
    "condition = :( v0 <= x <= v1);"
   ]
  },
  {
   "cell_type": "code",
   "execution_count": 89,
   "metadata": {},
   "outputs": [
    {
     "data": {
      "text/plain": [
       ":v0"
      ]
     },
     "execution_count": 89,
     "metadata": {},
     "output_type": "execute_result"
    }
   ],
   "source": [
    "condition.args[1]"
   ]
  },
  {
   "cell_type": "code",
   "execution_count": 103,
   "metadata": {},
   "outputs": [
    {
     "data": {
      "text/plain": [
       "11-element Vector{Float64}:\n",
       " 0.0\n",
       " 0.1\n",
       " 0.2\n",
       " 0.3\n",
       " 0.4\n",
       " 0.5\n",
       " 0.6\n",
       " 0.7\n",
       " 0.8\n",
       " 0.9\n",
       " 1.0"
      ]
     },
     "execution_count": 103,
     "metadata": {},
     "output_type": "execute_result"
    }
   ],
   "source": [
    "vals = [x/10 for x in range(0,10)]\n",
    "\n",
    "vals"
   ]
  },
  {
   "cell_type": "code",
   "execution_count": null,
   "metadata": {},
   "outputs": [],
   "source": []
  },
  {
   "cell_type": "code",
   "execution_count": 224,
   "metadata": {},
   "outputs": [
    {
     "data": {
      "text/plain": [
       "11-element Vector{Any}:\n",
       " \"⚪⚪⚪⚪⚪⚪⚪⚪⚪⚪\"\n",
       " \"🔵⚪⚪⚪⚪⚪⚪⚪⚪⚪\"\n",
       " \"🔵🔵⚪⚪⚪⚪⚪⚪⚪⚪\"\n",
       " \"🔵🔵🔵⚪⚪⚪⚪⚪⚪⚪\"\n",
       " \"🔵🔵🔵🔵⚪⚪⚪⚪⚪⚪\"\n",
       " \"🔵🔵🔵🔵🔵⚪⚪⚪⚪⚪\"\n",
       " \"🔵🔵🔵🔵🔵🔵⚪⚪⚪⚪\"\n",
       " \"🔵🔵🔵🔵🔵🔵🔵⚪⚪⚪\"\n",
       " \"🔵🔵🔵🔵🔵🔵🔵🔵⚪⚪\"\n",
       " \"🔵🔵🔵🔵🔵🔵🔵🔵🔵⚪\"\n",
       " \"🔵🔵🔵🔵🔵🔵🔵🔵🔵🔵\""
      ]
     },
     "execution_count": 224,
     "metadata": {},
     "output_type": "execute_result"
    }
   ],
   "source": [
    "N = 10\n",
    "condition = :(v0 <= x <= v1);\n",
    "vals = [x/N for x in range(0,N)]\n",
    "conditions = []\n",
    "painted = \"🔵\" \n",
    "unpainted = \"⚪\"\n",
    "\n",
    "balls = []\n",
    "for (k, (v0, v1)) in enumerate( zip(vals[1:end-1], vals[2:end]))\n",
    "    cond_k = copy(condition)\n",
    "    cond_k.args[1] = v0\n",
    "    cond_k.args[end] = v1\n",
    "    push!(conditions, cond_k)\n",
    "    push!(balls, painted ^(k-1)* unpainted ^(N+1-k)  )\n",
    "end\n",
    "push!(balls, painted ^(N)  )\n",
    "balls"
   ]
  },
  {
   "cell_type": "code",
   "execution_count": 202,
   "metadata": {},
   "outputs": [
    {
     "data": {
      "text/plain": [
       "10-element Vector{Any}:\n",
       " :(0.0 <= x <= 0.1)\n",
       " :(0.1 <= x <= 0.2)\n",
       " :(0.2 <= x <= 0.3)\n",
       " :(0.3 <= x <= 0.4)\n",
       " :(0.4 <= x <= 0.5)\n",
       " :(0.5 <= x <= 0.6)\n",
       " :(0.6 <= x <= 0.7)\n",
       " :(0.7 <= x <= 0.8)\n",
       " :(0.8 <= x <= 0.9)\n",
       " :(0.9 <= x <= 1.0)"
      ]
     },
     "execution_count": 202,
     "metadata": {},
     "output_type": "execute_result"
    }
   ],
   "source": [
    "conditions"
   ]
  },
  {
   "cell_type": "markdown",
   "metadata": {},
   "source": [
    "We could write each if statement idependently\n",
    "\n",
    "```\n",
    ":(if $(conditions[1]) return $(balls[1]) end)\n",
    "```"
   ]
  },
  {
   "cell_type": "code",
   "execution_count": 335,
   "metadata": {},
   "outputs": [
    {
     "data": {
      "text/plain": [
       "\"🔵🔵🔵⚪⚪⚪⚪⚪⚪⚪\""
      ]
     },
     "execution_count": 335,
     "metadata": {},
     "output_type": "execute_result"
    }
   ],
   "source": [
    "N = 10\n",
    "condition = :(v0 <= x <= v1);\n",
    "vals = [x/N for x in range(0,N)]\n",
    "conditions = []\n",
    "painted = \"🔵\" \n",
    "unpainted = \"⚪\"\n",
    "\n",
    "if_statements_expressions = []\n",
    "\n",
    "balls = []\n",
    "for (k, (v0, v1)) in enumerate( zip(vals[1:end-1], vals[2:end]))\n",
    "    cond_k = deepcopy(condition)\n",
    "    cond_k.args[1] = v0\n",
    "    cond_k.args[end] = v1\n",
    "    current_balls = painted ^(k-1)* unpainted ^(N+1-k)  \n",
    "    expression = :(if $cond_k return $current_balls end)\n",
    "    \n",
    "    push!(if_statements_expressions,expression )\n",
    "end\n",
    "push!(if_statements_expressions, :(if $cond_k return $( painted ^(N)) end))\n",
    "\n",
    "\n",
    "full_exp = Expr(:block, if_statements_expressions...)\n",
    "\n",
    "@generated function print_balls(x)\n",
    "    quote\n",
    "    $full_exp\n",
    "    end\n",
    "end\n",
    "\n",
    "print_balls(0.4)"
   ]
  },
  {
   "cell_type": "code",
   "execution_count": 341,
   "metadata": {},
   "outputs": [
    {
     "name": "stdout",
     "output_type": "stream",
     "text": [
      "  4.583 ns (0 allocations: 0 bytes)\n"
     ]
    },
    {
     "data": {
      "text/plain": [
       "\"⚪⚪⚪⚪⚪⚪⚪⚪⚪⚪\""
      ]
     },
     "execution_count": 341,
     "metadata": {},
     "output_type": "execute_result"
    }
   ],
   "source": [
    "@btime print_balls(0.02)"
   ]
  },
  {
   "cell_type": "code",
   "execution_count": null,
   "metadata": {},
   "outputs": [],
   "source": []
  },
  {
   "cell_type": "code",
   "execution_count": 343,
   "metadata": {},
   "outputs": [
    {
     "data": {
      "text/plain": [
       "GetPercentageRounds (generic function with 1 method)"
      ]
     },
     "execution_count": 343,
     "metadata": {},
     "output_type": "execute_result"
    }
   ],
   "source": [
    "function GetPercentageRounds(percentage::Real)\n",
    "    @assert 0 ≤ percentage ≤ 1\n",
    "    N = trunc(Int, 10 * percentage)\n",
    "    return \"🔵\" ^ N * \"⚪\" ^ (10 - N)\n",
    "end"
   ]
  },
  {
   "cell_type": "code",
   "execution_count": 344,
   "metadata": {},
   "outputs": [
    {
     "data": {
      "text/plain": [
       "\"🔵🔵🔵🔵🔵🔵⚪⚪⚪⚪\""
      ]
     },
     "execution_count": 344,
     "metadata": {},
     "output_type": "execute_result"
    }
   ],
   "source": [
    "GetPercentageRounds(0.63)"
   ]
  },
  {
   "cell_type": "code",
   "execution_count": 345,
   "metadata": {},
   "outputs": [
    {
     "name": "stdout",
     "output_type": "stream",
     "text": [
      "  193.014 ns (3 allocations: 136 bytes)\n"
     ]
    },
    {
     "data": {
      "text/plain": [
       "\"🔵🔵🔵🔵🔵🔵⚪⚪⚪⚪\""
      ]
     },
     "execution_count": 345,
     "metadata": {},
     "output_type": "execute_result"
    }
   ],
   "source": [
    "@btime GetPercentageRounds(0.63)"
   ]
  },
  {
   "cell_type": "code",
   "execution_count": null,
   "metadata": {},
   "outputs": [],
   "source": []
  },
  {
   "cell_type": "markdown",
   "metadata": {},
   "source": [
    "We can 'concatenate' two expressions as follows"
   ]
  },
  {
   "cell_type": "code",
   "execution_count": 309,
   "metadata": {
    "scrolled": true
   },
   "outputs": [
    {
     "data": {
      "text/plain": [
       "quote\n",
       "    \u001b[90m#= In[309]:2 =#\u001b[39m\n",
       "    if 0.0 <= x <= 0.1\n",
       "        \u001b[90m#= In[243]:16 =#\u001b[39m\n",
       "        return \"⚪⚪⚪⚪⚪⚪⚪⚪⚪⚪\"\n",
       "    end\n",
       "    \u001b[90m#= In[309]:3 =#\u001b[39m\n",
       "    if 0.2 <= x <= 0.3\n",
       "        \u001b[90m#= In[243]:16 =#\u001b[39m\n",
       "        return \"🔵🔵⚪⚪⚪⚪⚪⚪⚪⚪\"\n",
       "    end\n",
       "end"
      ]
     },
     "execution_count": 309,
     "metadata": {},
     "output_type": "execute_result"
    }
   ],
   "source": [
    "quote \n",
    "    $(if_statements_expressions[1] )\n",
    "    $(if_statements_expressions[3])\n",
    "end"
   ]
  },
  {
   "cell_type": "markdown",
   "metadata": {},
   "source": [
    "What if we want to 'concatenate' the expressions without listing  them? We can use **`:block`**"
   ]
  },
  {
   "cell_type": "code",
   "execution_count": 311,
   "metadata": {},
   "outputs": [
    {
     "data": {
      "text/plain": [
       "quote\n",
       "    if 0.0 <= x <= 0.1\n",
       "        \u001b[90m#= In[243]:16 =#\u001b[39m\n",
       "        return \"⚪⚪⚪⚪⚪⚪⚪⚪⚪⚪\"\n",
       "    end\n",
       "    if 0.1 <= x <= 0.2\n",
       "        \u001b[90m#= In[243]:16 =#\u001b[39m\n",
       "        return \"🔵⚪⚪⚪⚪⚪⚪⚪⚪⚪\"\n",
       "    end\n",
       "    if 0.2 <= x <= 0.3\n",
       "        \u001b[90m#= In[243]:16 =#\u001b[39m\n",
       "        return \"🔵🔵⚪⚪⚪⚪⚪⚪⚪⚪\"\n",
       "    end\n",
       "    if 0.3 <= x <= 0.4\n",
       "        \u001b[90m#= In[243]:16 =#\u001b[39m\n",
       "        return \"🔵🔵🔵⚪⚪⚪⚪⚪⚪⚪\"\n",
       "    end\n",
       "    if 0.4 <= x <= 0.5\n",
       "        \u001b[90m#= In[243]:16 =#\u001b[39m\n",
       "        return \"🔵🔵🔵🔵⚪⚪⚪⚪⚪⚪\"\n",
       "    end\n",
       "    if 0.5 <= x <= 0.6\n",
       "        \u001b[90m#= In[243]:16 =#\u001b[39m\n",
       "        return \"🔵🔵🔵🔵🔵⚪⚪⚪⚪⚪\"\n",
       "    end\n",
       "    if 0.6 <= x <= 0.7\n",
       "        \u001b[90m#= In[243]:16 =#\u001b[39m\n",
       "        return \"🔵🔵🔵🔵🔵🔵⚪⚪⚪⚪\"\n",
       "    end\n",
       "    if 0.7 <= x <= 0.8\n",
       "        \u001b[90m#= In[243]:16 =#\u001b[39m\n",
       "        return \"🔵🔵🔵🔵🔵🔵🔵⚪⚪⚪\"\n",
       "    end\n",
       "    if 0.8 <= x <= 0.9\n",
       "        \u001b[90m#= In[243]:16 =#\u001b[39m\n",
       "        return \"🔵🔵🔵🔵🔵🔵🔵🔵⚪⚪\"\n",
       "    end\n",
       "    if 0.9 <= x <= 1.0\n",
       "        \u001b[90m#= In[243]:16 =#\u001b[39m\n",
       "        return \"🔵🔵🔵🔵🔵🔵🔵🔵🔵⚪\"\n",
       "    end\n",
       "    if 0.9 <= x <= 1.0\n",
       "        \u001b[90m#= In[243]:28 =#\u001b[39m\n",
       "        return \"🔵🔵🔵🔵🔵🔵🔵🔵🔵🔵\"\n",
       "    end\n",
       "end"
      ]
     },
     "execution_count": 311,
     "metadata": {},
     "output_type": "execute_result"
    }
   ],
   "source": [
    "full_exp = Expr(:block, if_statements_expressions...)"
   ]
  },
  {
   "cell_type": "code",
   "execution_count": 318,
   "metadata": {},
   "outputs": [
    {
     "data": {
      "text/plain": [
       "print_balls (generic function with 1 method)"
      ]
     },
     "execution_count": 318,
     "metadata": {},
     "output_type": "execute_result"
    }
   ],
   "source": [
    "@generated function print_balls(x)\n",
    "    quote\n",
    "    $full_exp\n",
    "    end\n",
    "end"
   ]
  },
  {
   "cell_type": "code",
   "execution_count": 325,
   "metadata": {},
   "outputs": [
    {
     "data": {
      "text/plain": [
       "\"🔵🔵🔵⚪⚪⚪⚪⚪⚪⚪\""
      ]
     },
     "execution_count": 325,
     "metadata": {},
     "output_type": "execute_result"
    }
   ],
   "source": [
    "print_balls(0.4)"
   ]
  },
  {
   "cell_type": "code",
   "execution_count": 326,
   "metadata": {},
   "outputs": [],
   "source": [
    "using BenchmarkTools"
   ]
  },
  {
   "cell_type": "code",
   "execution_count": 327,
   "metadata": {},
   "outputs": [
    {
     "name": "stdout",
     "output_type": "stream",
     "text": [
      "  4.625 ns (0 allocations: 0 bytes)\n"
     ]
    },
    {
     "data": {
      "text/plain": [
       "\"🔵🔵🔵⚪⚪⚪⚪⚪⚪⚪\""
      ]
     },
     "execution_count": 327,
     "metadata": {},
     "output_type": "execute_result"
    }
   ],
   "source": [
    "@btime print_balls(0.4)"
   ]
  },
  {
   "cell_type": "code",
   "execution_count": null,
   "metadata": {},
   "outputs": [],
   "source": []
  },
  {
   "cell_type": "code",
   "execution_count": null,
   "metadata": {},
   "outputs": [],
   "source": []
  },
  {
   "cell_type": "code",
   "execution_count": null,
   "metadata": {},
   "outputs": [],
   "source": []
  },
  {
   "cell_type": "code",
   "execution_count": 299,
   "metadata": {},
   "outputs": [
    {
     "ename": "LoadError",
     "evalue": "UndefVarError: k not defined",
     "output_type": "error",
     "traceback": [
      "UndefVarError: k not defined",
      "",
      "Stacktrace:",
      " [1] top-level scope",
      "   @ In[299]:1",
      " [2] eval",
      "   @ ./boot.jl:368 [inlined]",
      " [3] include_string(mapexpr::typeof(REPL.softscope), mod::Module, code::String, filename::String)",
      "   @ Base ./loading.jl:1428"
     ]
    }
   ],
   "source": [
    "quote \n",
    "    for k in 1:length(if_statements_expressions)\n",
    "        $(if_statements_expressions[k])\n",
    "    end\n",
    "end"
   ]
  },
  {
   "cell_type": "code",
   "execution_count": 286,
   "metadata": {},
   "outputs": [
    {
     "data": {
      "text/plain": [
       ":((x >= 0.1) + b)"
      ]
     },
     "execution_count": 286,
     "metadata": {},
     "output_type": "execute_result"
    }
   ],
   "source": [
    "ex"
   ]
  },
  {
   "cell_type": "code",
   "execution_count": null,
   "metadata": {},
   "outputs": [],
   "source": []
  },
  {
   "cell_type": "code",
   "execution_count": 193,
   "metadata": {},
   "outputs": [
    {
     "ename": "LoadError",
     "evalue": "UndefVarError: if not defined",
     "output_type": "error",
     "traceback": [
      "UndefVarError: if not defined",
      "",
      "Stacktrace:",
      " [1] top-level scope",
      "   @ none:1",
      " [2] eval",
      "   @ ./boot.jl:368 [inlined]",
      " [3] eval(x::Expr)",
      "   @ Base.MainInclude ./client.jl:478",
      " [4] top-level scope",
      "   @ In[193]:2",
      " [5] eval",
      "   @ ./boot.jl:368 [inlined]",
      " [6] include_string(mapexpr::typeof(REPL.softscope), mod::Module, code::String, filename::String)",
      "   @ Base ./loading.jl:1428"
     ]
    }
   ],
   "source": [
    "x = 23\n",
    "eval(exp)"
   ]
  },
  {
   "cell_type": "code",
   "execution_count": null,
   "metadata": {},
   "outputs": [],
   "source": []
  },
  {
   "cell_type": "code",
   "execution_count": null,
   "metadata": {},
   "outputs": [],
   "source": []
  },
  {
   "cell_type": "code",
   "execution_count": 80,
   "metadata": {},
   "outputs": [
    {
     "data": {
      "text/plain": [
       "build_balls (generic function with 1 method)"
      ]
     },
     "execution_count": 80,
     "metadata": {},
     "output_type": "execute_result"
    }
   ],
   "source": [
    "@generated function build_balls()\n",
    "    for cond in conditions\n",
    "        if cond\n",
    "              println(balls)\n",
    "        end\n",
    "    end\n",
    "end"
   ]
  },
  {
   "cell_type": "code",
   "execution_count": 78,
   "metadata": {},
   "outputs": [
    {
     "ename": "LoadError",
     "evalue": "TypeError: non-boolean (Expr) used in boolean context",
     "output_type": "error",
     "traceback": [
      "TypeError: non-boolean (Expr) used in boolean context",
      "",
      "Stacktrace:",
      " [1] #s46#28",
      "   @ ./In[77]:3 [inlined]",
      " [2] var\"#s46#28\"(::Any)",
      "   @ Main ./none:0",
      " [3] (::Core.GeneratedFunctionStub)(::Any, ::Vararg{Any})",
      "   @ Core ./boot.jl:582",
      " [4] top-level scope",
      "   @ In[78]:1",
      " [5] eval",
      "   @ ./boot.jl:368 [inlined]",
      " [6] include_string(mapexpr::typeof(REPL.softscope), mod::Module, code::String, filename::String)",
      "   @ Base ./loading.jl:1428"
     ]
    }
   ],
   "source": [
    "build_balls()"
   ]
  },
  {
   "cell_type": "code",
   "execution_count": 39,
   "metadata": {},
   "outputs": [
    {
     "data": {
      "text/plain": [
       "9-element Vector{Float64}:\n",
       " 0.9\n",
       " 0.9\n",
       " 0.9\n",
       " 0.9\n",
       " 0.9\n",
       " 0.9\n",
       " 0.9\n",
       " 0.9\n",
       " 0.9"
      ]
     },
     "execution_count": 39,
     "metadata": {},
     "output_type": "execute_result"
    }
   ],
   "source": [
    "conditions = [condition.args[end] for v in vals]"
   ]
  },
  {
   "cell_type": "code",
   "execution_count": 38,
   "metadata": {},
   "outputs": [
    {
     "data": {
      "text/plain": [
       "9-element Vector{Float64}:\n",
       " 0.1\n",
       " 0.2\n",
       " 0.3\n",
       " 0.4\n",
       " 0.5\n",
       " 0.6\n",
       " 0.7\n",
       " 0.8\n",
       " 0.9"
      ]
     },
     "execution_count": 38,
     "metadata": {},
     "output_type": "execute_result"
    }
   ],
   "source": [
    "conditions"
   ]
  },
  {
   "cell_type": "markdown",
   "metadata": {},
   "source": [
    "## Manipulating expressions"
   ]
  },
  {
   "cell_type": "code",
   "execution_count": 9,
   "metadata": {},
   "outputs": [
    {
     "data": {
      "text/plain": [
       ":(a + b)"
      ]
     },
     "execution_count": 9,
     "metadata": {},
     "output_type": "execute_result"
    }
   ],
   "source": [
    "ex = :(a+b)"
   ]
  },
  {
   "cell_type": "code",
   "execution_count": 10,
   "metadata": {},
   "outputs": [
    {
     "data": {
      "text/plain": [
       "2"
      ]
     },
     "execution_count": 10,
     "metadata": {},
     "output_type": "execute_result"
    }
   ],
   "source": [
    "a = 1\n",
    "b = 1\n",
    "eval(ex)"
   ]
  },
  {
   "cell_type": "markdown",
   "metadata": {},
   "source": [
    "Let us consider the following problem:\n",
    "\n",
    "Given an expression `ex`, change all symbols `:a` by `:(2*a)`.\n",
    "\n",
    "\n",
    "We can substitue `a` by `2*a` inside the expression `ex`"
   ]
  },
  {
   "cell_type": "code",
   "execution_count": 11,
   "metadata": {},
   "outputs": [
    {
     "data": {
      "text/plain": [
       ":(2a)"
      ]
     },
     "execution_count": 11,
     "metadata": {},
     "output_type": "execute_result"
    }
   ],
   "source": [
    "ex.args[2] = :(2*a)"
   ]
  },
  {
   "cell_type": "code",
   "execution_count": 12,
   "metadata": {},
   "outputs": [
    {
     "data": {
      "text/plain": [
       ":(2a + b)"
      ]
     },
     "execution_count": 12,
     "metadata": {},
     "output_type": "execute_result"
    }
   ],
   "source": [
    "ex"
   ]
  },
  {
   "cell_type": "code",
   "execution_count": 13,
   "metadata": {},
   "outputs": [
    {
     "data": {
      "text/plain": [
       "3"
      ]
     },
     "execution_count": 13,
     "metadata": {},
     "output_type": "execute_result"
    }
   ],
   "source": [
    "a = 1\n",
    "b = 1\n",
    "eval(ex)"
   ]
  },
  {
   "cell_type": "markdown",
   "metadata": {},
   "source": [
    "Notice that in the previous cells he have \"manually accessed\" position 2 of the arguments of the expression. We have updated `ex.args[2]` directly because we knew that Symbol `a` was in position 2.\n",
    "\n",
    "What if we want to change Symbol `:a` in an expression independently of where is located?\n"
   ]
  },
  {
   "cell_type": "code",
   "execution_count": 14,
   "metadata": {},
   "outputs": [
    {
     "data": {
      "text/plain": [
       ":(a + b + a)"
      ]
     },
     "execution_count": 14,
     "metadata": {},
     "output_type": "execute_result"
    }
   ],
   "source": [
    "ex = :(a + b + a)"
   ]
  },
  {
   "cell_type": "code",
   "execution_count": 15,
   "metadata": {},
   "outputs": [
    {
     "data": {
      "text/plain": [
       ":(2a)"
      ]
     },
     "execution_count": 15,
     "metadata": {},
     "output_type": "execute_result"
    }
   ],
   "source": [
    "ex.args[2] = :(2*a)"
   ]
  },
  {
   "cell_type": "code",
   "execution_count": 16,
   "metadata": {},
   "outputs": [
    {
     "data": {
      "text/plain": [
       ":(2a + b + a)"
      ]
     },
     "execution_count": 16,
     "metadata": {},
     "output_type": "execute_result"
    }
   ],
   "source": [
    "ex"
   ]
  },
  {
   "cell_type": "code",
   "execution_count": 17,
   "metadata": {},
   "outputs": [
    {
     "data": {
      "text/plain": [
       ":(2a)"
      ]
     },
     "execution_count": 17,
     "metadata": {},
     "output_type": "execute_result"
    }
   ],
   "source": [
    "ex.args[4] = :(2*a)"
   ]
  },
  {
   "cell_type": "code",
   "execution_count": 18,
   "metadata": {
    "scrolled": true
   },
   "outputs": [
    {
     "data": {
      "text/plain": [
       ":(2a + b + 2a)"
      ]
     },
     "execution_count": 18,
     "metadata": {},
     "output_type": "execute_result"
    }
   ],
   "source": [
    "ex"
   ]
  },
  {
   "cell_type": "markdown",
   "metadata": {},
   "source": [
    "We can also make a for loop that iterates over the arguments"
   ]
  },
  {
   "cell_type": "code",
   "execution_count": 19,
   "metadata": {
    "scrolled": true
   },
   "outputs": [
    {
     "data": {
      "text/plain": [
       ":(a + b + a)"
      ]
     },
     "execution_count": 19,
     "metadata": {},
     "output_type": "execute_result"
    }
   ],
   "source": [
    "ex = :(a + b + a)"
   ]
  },
  {
   "cell_type": "code",
   "execution_count": 20,
   "metadata": {},
   "outputs": [
    {
     "name": "stdout",
     "output_type": "stream",
     "text": [
      "1\t+\tSymbol\n",
      "2\ta\tSymbol\n",
      "3\tb\tSymbol\n",
      "4\ta\tSymbol\n"
     ]
    }
   ],
   "source": [
    "for (i,arg) in enumerate(ex.args)\n",
    "    println(i,\"\\t\", arg,\"\\t\", typeof(arg))\n",
    "end"
   ]
  },
  {
   "cell_type": "code",
   "execution_count": 21,
   "metadata": {
    "collapsed": true
   },
   "outputs": [],
   "source": [
    "for (i,arg) in enumerate(ex.args)\n",
    "    if arg == :a\n",
    "        ex.args[i] = :(2*a)\n",
    "    end\n",
    "end"
   ]
  },
  {
   "cell_type": "code",
   "execution_count": 22,
   "metadata": {},
   "outputs": [
    {
     "data": {
      "text/plain": [
       ":(2a + b + 2a)"
      ]
     },
     "execution_count": 22,
     "metadata": {},
     "output_type": "execute_result"
    }
   ],
   "source": [
    "ex"
   ]
  },
  {
   "cell_type": "markdown",
   "metadata": {},
   "source": [
    "#### Expressions inside expressions \n",
    "\n",
    "What happens if an expression has more expressions inside? \n",
    "\n",
    "In this case we never find symbol `:a` inside the expression `ex=:(2a + b + 2a)` simply iterating over the arguments. We don't find it because the arguments now are `[+, :(2a), :b, :(2a)]`  and `:(2a)` is an expression.\n",
    "\n",
    "\n"
   ]
  },
  {
   "cell_type": "code",
   "execution_count": 23,
   "metadata": {
    "scrolled": true
   },
   "outputs": [
    {
     "data": {
      "text/plain": [
       ":(2a + b + 2a)"
      ]
     },
     "execution_count": 23,
     "metadata": {},
     "output_type": "execute_result"
    }
   ],
   "source": [
    "ex"
   ]
  },
  {
   "cell_type": "code",
   "execution_count": 24,
   "metadata": {},
   "outputs": [
    {
     "name": "stdout",
     "output_type": "stream",
     "text": [
      "1\t+\tSymbol\n",
      "2\t2a\tExpr\n",
      "3\tb\tSymbol\n",
      "4\t2a\tExpr\n"
     ]
    }
   ],
   "source": [
    "for (i,arg) in enumerate(ex.args)\n",
    "    println(i,\"\\t\", arg,\"\\t\", typeof(arg))\n",
    "end"
   ]
  },
  {
   "cell_type": "code",
   "execution_count": 25,
   "metadata": {
    "collapsed": true
   },
   "outputs": [],
   "source": [
    "for (i,arg) in enumerate(ex.args)\n",
    "    if arg == :a\n",
    "        print(\"I have found :a \")\n",
    "        ex.args[i] = :(2*a)\n",
    "    end\n",
    "end"
   ]
  },
  {
   "cell_type": "code",
   "execution_count": 26,
   "metadata": {},
   "outputs": [
    {
     "data": {
      "text/plain": [
       ":(2a + b + 2a)"
      ]
     },
     "execution_count": 26,
     "metadata": {},
     "output_type": "execute_result"
    }
   ],
   "source": [
    "ex"
   ]
  },
  {
   "cell_type": "markdown",
   "metadata": {},
   "source": [
    "## Finding Symbols inside expressions inside expressions inside...\n",
    "\n",
    "Expressions can contain other expressions which can contain even more expressions...\n",
    "\n",
    "The problem of substituting `:a` by `:2a` in any expression `ex` requires us to iterate over any \"subexpression\" contained in the arguments of `ex`.\n",
    "\n",
    "\n",
    "https://mikeinnes.github.io/MacroTools.jl/stable/pattern-matching/#Expression-Walking-1\n"
   ]
  },
  {
   "cell_type": "code",
   "execution_count": 27,
   "metadata": {},
   "outputs": [
    {
     "data": {
      "text/plain": [
       ":(2a + b + 2a)"
      ]
     },
     "execution_count": 27,
     "metadata": {},
     "output_type": "execute_result"
    }
   ],
   "source": [
    "ex"
   ]
  },
  {
   "cell_type": "code",
   "execution_count": 28,
   "metadata": {},
   "outputs": [
    {
     "name": "stdout",
     "output_type": "stream",
     "text": [
      "Expr\n",
      "  head: Symbol call\n",
      "  args: Array{Any}((4,))\n",
      "    1: Symbol +\n",
      "    2: Expr\n",
      "      head: Symbol call\n",
      "      args: Array{Any}((3,))\n",
      "        1: Symbol *\n",
      "        2: Int64 2\n",
      "        3: Symbol a\n",
      "    3: Symbol b\n",
      "    4: Expr\n",
      "      head: Symbol call\n",
      "      args: Array{Any}((3,))\n",
      "        1: Symbol *\n",
      "        2: Int64 2\n",
      "        3: Symbol a\n"
     ]
    }
   ],
   "source": [
    "dump(ex)"
   ]
  },
  {
   "cell_type": "code",
   "execution_count": 29,
   "metadata": {},
   "outputs": [
    {
     "data": {
      "text/plain": [
       "4-element Array{Any,1}:\n",
       " :+   \n",
       " :(2a)\n",
       " :b   \n",
       " :(2a)"
      ]
     },
     "execution_count": 29,
     "metadata": {},
     "output_type": "execute_result"
    }
   ],
   "source": [
    "ex.args"
   ]
  },
  {
   "cell_type": "code",
   "execution_count": 30,
   "metadata": {},
   "outputs": [
    {
     "data": {
      "text/plain": [
       ":(2a + b + 2a)"
      ]
     },
     "execution_count": 30,
     "metadata": {},
     "output_type": "execute_result"
    }
   ],
   "source": [
    "ex = :(2a + b + 2a)"
   ]
  },
  {
   "cell_type": "code",
   "execution_count": 31,
   "metadata": {},
   "outputs": [
    {
     "data": {
      "text/plain": [
       "get_all_symbols (generic function with 1 method)"
      ]
     },
     "execution_count": 31,
     "metadata": {},
     "output_type": "execute_result"
    }
   ],
   "source": [
    "global symbols =[]\n",
    "\n",
    "function get_all_symbols(expression::Expr)\n",
    "    for arg in expression.args\n",
    "        if typeof(arg)==Expr\n",
    "            get_all_symbols(arg)\n",
    "        end\n",
    "        if typeof(arg)==Symbol\n",
    "            push!(symbols, arg)\n",
    "        end\n",
    "    end\n",
    "end"
   ]
  },
  {
   "cell_type": "code",
   "execution_count": 32,
   "metadata": {
    "collapsed": true
   },
   "outputs": [],
   "source": [
    "get_all_symbols(ex)"
   ]
  },
  {
   "cell_type": "code",
   "execution_count": 33,
   "metadata": {},
   "outputs": [
    {
     "data": {
      "text/plain": [
       "6-element Array{Any,1}:\n",
       " :+\n",
       " :*\n",
       " :a\n",
       " :b\n",
       " :*\n",
       " :a"
      ]
     },
     "execution_count": 33,
     "metadata": {},
     "output_type": "execute_result"
    }
   ],
   "source": [
    "symbols"
   ]
  },
  {
   "cell_type": "code",
   "execution_count": 34,
   "metadata": {},
   "outputs": [
    {
     "data": {
      "text/plain": [
       ":a"
      ]
     },
     "execution_count": 34,
     "metadata": {},
     "output_type": "execute_result"
    }
   ],
   "source": [
    "x = :a"
   ]
  },
  {
   "cell_type": "code",
   "execution_count": 35,
   "metadata": {},
   "outputs": [
    {
     "data": {
      "text/plain": [
       "true"
      ]
     },
     "execution_count": 35,
     "metadata": {},
     "output_type": "execute_result"
    }
   ],
   "source": [
    "typeof(ex.args[3]) == Symbol"
   ]
  },
  {
   "cell_type": "code",
   "execution_count": 36,
   "metadata": {},
   "outputs": [
    {
     "data": {
      "text/plain": [
       "change_a_by_c (generic function with 1 method)"
      ]
     },
     "execution_count": 36,
     "metadata": {},
     "output_type": "execute_result"
    }
   ],
   "source": [
    "# change any a by c\n",
    "function change_a_by_c(ex::Expr)\n",
    "    for i in 1:length(ex.args)\n",
    "        arg = ex.args[i]\n",
    "        \n",
    "        if typeof(arg) == Expr\n",
    "            change_a_by_c(arg)\n",
    "        elseif typeof(arg) == Symbol\n",
    "            if arg == :a\n",
    "                ex.args[i] = :c \n",
    "            end\n",
    "        end\n",
    "    end\n",
    "end"
   ]
  },
  {
   "cell_type": "code",
   "execution_count": 37,
   "metadata": {},
   "outputs": [
    {
     "data": {
      "text/plain": [
       ":(2c + b + 2c)"
      ]
     },
     "execution_count": 37,
     "metadata": {},
     "output_type": "execute_result"
    }
   ],
   "source": [
    "ex = :(2a + b + 2a)\n",
    "change_a_by_c(ex)\n",
    "ex"
   ]
  },
  {
   "cell_type": "code",
   "execution_count": 38,
   "metadata": {},
   "outputs": [
    {
     "data": {
      "text/plain": [
       ":(2c + b + 2 * (c + (b * c) / 2))"
      ]
     },
     "execution_count": 38,
     "metadata": {},
     "output_type": "execute_result"
    }
   ],
   "source": [
    "ex = :(2a + b + 2*(a+ (b*a)/2))\n",
    "change_a_by_c(ex)\n",
    "ex"
   ]
  },
  {
   "cell_type": "code",
   "execution_count": 39,
   "metadata": {},
   "outputs": [
    {
     "name": "stdout",
     "output_type": "stream",
     "text": [
      "before changes:\t2a + b + 2 * (a + (b * a) / 2)\n",
      "after changes:\t2c + b + 2 * (c + (b * c) / 2)\n"
     ]
    }
   ],
   "source": [
    "\n",
    "function change_a_by_b(ex::Expr, a, b)\n",
    "    \n",
    "    for i in 1:length(ex.args)\n",
    "        arg = ex.args[i]\n",
    "        \n",
    "        if typeof(arg) == Expr\n",
    "            change_a_by_b(arg,a,b)\n",
    "        elseif typeof(arg) == Symbol\n",
    "            if arg == a\n",
    "                ex.args[i] = b \n",
    "            end\n",
    "        end\n",
    "    end\n",
    "end\n",
    "\n",
    "ex = :(2a + b + 2*(a+ (b*a)/2))\n",
    "println(\"before changes:\\t\", ex)\n",
    "change_a_by_b(ex::Expr, :a, :c)\n",
    "println(\"after changes:\\t\", ex)"
   ]
  },
  {
   "cell_type": "markdown",
   "metadata": {},
   "source": [
    "Notice that if `a` or `b` are expressions the previous code does not work:"
   ]
  },
  {
   "cell_type": "code",
   "execution_count": 40,
   "metadata": {},
   "outputs": [
    {
     "name": "stdout",
     "output_type": "stream",
     "text": [
      "2 + a ^ 2 + b + c\n",
      "2 + a ^ 2 + b + c\n"
     ]
    }
   ],
   "source": [
    "ex1 = :(2 + a^2+ b + c )\n",
    "println(ex1)\n",
    "change_a_by_b(ex::Expr, :(a^2), :z)\n",
    "println(ex1)"
   ]
  },
  {
   "cell_type": "markdown",
   "metadata": {},
   "source": [
    "We can solve this by simply adding..."
   ]
  },
  {
   "cell_type": "code",
   "execution_count": 41,
   "metadata": {},
   "outputs": [
    {
     "data": {
      "text/plain": [
       "ysmaller (generic function with 1 method)"
      ]
     },
     "execution_count": 41,
     "metadata": {},
     "output_type": "execute_result"
    }
   ],
   "source": [
    "ysmaller(x,y) =(y < x) ? true : false"
   ]
  },
  {
   "cell_type": "code",
   "execution_count": 42,
   "metadata": {},
   "outputs": [
    {
     "data": {
      "text/plain": [
       "false"
      ]
     },
     "execution_count": 42,
     "metadata": {},
     "output_type": "execute_result"
    }
   ],
   "source": [
    "ysmaller(10,11)"
   ]
  },
  {
   "cell_type": "code",
   "execution_count": 43,
   "metadata": {},
   "outputs": [
    {
     "ename": "MethodError",
     "evalue": "MethodError: no method matching (::getfield(Main, Symbol(\"##3#4\")))(::Int64, ::Int64, ::Int64, ::Int64, ::Int64)\nClosest candidates are:\n  #3(::Any) at In[43]:1",
     "output_type": "error",
     "traceback": [
      "MethodError: no method matching (::getfield(Main, Symbol(\"##3#4\")))(::Int64, ::Int64, ::Int64, ::Int64, ::Int64)\nClosest candidates are:\n  #3(::Any) at In[43]:1",
      "",
      "Stacktrace:",
      " [1] map(::Function, ::Int64, ::Int64, ::Int64, ::Vararg{Int64,N} where N) at ./number.jl:241",
      " [2] top-level scope at In[43]:1"
     ]
    }
   ],
   "source": [
    "map(x-> g(x), [1,2,3,4,5]...)"
   ]
  },
  {
   "cell_type": "code",
   "execution_count": 71,
   "metadata": {
    "scrolled": true
   },
   "outputs": [
    {
     "name": "stdout",
     "output_type": "stream",
     "text": [
      "2 + a ^ 2 + b + c\n"
     ]
    },
    {
     "data": {
      "text/plain": [
       ":(2 + 2a + b + c)"
      ]
     },
     "execution_count": 71,
     "metadata": {},
     "output_type": "execute_result"
    }
   ],
   "source": [
    "replace_expr(x, a, b) = x == a ? b : x\n",
    "#change_a_by_b(ex::Expr, a, b) = ex == a ? b : Expr(ex.head, map(x -> replace_expr(x, a, b), ex.args)...)\n",
    "\n",
    "function replace_expr(ex::Expr, a, b)\n",
    "    if ex == a \n",
    "        return b \n",
    "    else \n",
    "        aux = map(x -> replace_expr(x, a, b), ex.args)\n",
    "        return Expr(ex.head,aux... )\n",
    "    end\n",
    "end\n",
    "\n",
    "\n",
    "ex1 = :(2 + a^2+ b + c )\n",
    "println(ex1)\n",
    "replace_expr(ex1, :(a^2), :(2*a))"
   ]
  },
  {
   "cell_type": "code",
   "execution_count": 72,
   "metadata": {},
   "outputs": [
    {
     "data": {
      "text/plain": [
       ":(2 + a ^ 2 + b + c)"
      ]
     },
     "execution_count": 72,
     "metadata": {},
     "output_type": "execute_result"
    }
   ],
   "source": [
    "ex4 = Expr(ex1.head, ex1.args...)"
   ]
  },
  {
   "cell_type": "code",
   "execution_count": 73,
   "metadata": {},
   "outputs": [
    {
     "name": "stdout",
     "output_type": "stream",
     "text": [
      "2 + a ^ 2 + b + c\n"
     ]
    },
    {
     "data": {
      "text/plain": [
       ":(2 + 2a + b + c)"
      ]
     },
     "execution_count": 73,
     "metadata": {},
     "output_type": "execute_result"
    }
   ],
   "source": [
    "replace_expr2(x, a, b) = x == a ? b : x\n",
    "#change_a_by_b(ex::Expr, a, b) = ex == a ? b : Expr(ex.head, map(x -> replace_expr(x, a, b), ex.args)...)\n",
    "\n",
    "function replace_expr2(ex::Expr, a, b)\n",
    "    if ex == a \n",
    "        return b \n",
    "    else \n",
    "        aux = [] \n",
    "        for x in ex.args \n",
    "            push!(aux, replace_expr2(x, a, b))\n",
    "        end\n",
    "        return Expr(ex.head, aux... )\n",
    "    end\n",
    "end\n",
    "\n",
    "\n",
    "ex1 = :(2 + a^2+ b + c )\n",
    "println(ex1)\n",
    "replace_expr2(ex1, :(a^2), :(2*a))"
   ]
  },
  {
   "cell_type": "code",
   "execution_count": null,
   "metadata": {},
   "outputs": [],
   "source": []
  },
  {
   "cell_type": "markdown",
   "metadata": {},
   "source": [
    "### Apply a change to a Symbol given by a function : NOT WORKING NOW\n",
    "\n",
    "Let us consider we have some transformation `f` that takes a `Symbol` (or an expression) that we call `s` and returns either a symbol or an expression.\n",
    "\n",
    "Now we would like to make a funciton that everytime symbol `s` is found it is updated by `f(s)`."
   ]
  },
  {
   "cell_type": "code",
   "execution_count": 42,
   "metadata": {},
   "outputs": [
    {
     "ename": "UndefVarError",
     "evalue": "UndefVarError: Tex not defined",
     "output_type": "error",
     "traceback": [
      "UndefVarError: Tex not defined",
      "",
      "Stacktrace:",
      " [1] top-level scope at In[42]:1"
     ]
    }
   ],
   "source": [
    "function apply_f_to_s!(ex::Tex, pattern::Tp, substitution::Ts)\n",
    "\n",
    "    if typeof(ex) != Expr\n",
    "        return f(ex)\n",
    "    else\n",
    "        ex = f(ex)\n",
    "        #println(\"\\t\", ex, ex.args)\n",
    "        for i in 1:length(ex.args)\n",
    "            ex.args[i]  = apply_f_to_s!(ex.args[i], f) \n",
    "            #ex.args[i] = arg\n",
    "        end\n",
    "    end\n",
    "end"
   ]
  },
  {
   "cell_type": "code",
   "execution_count": 89,
   "metadata": {},
   "outputs": [
    {
     "data": {
      "text/plain": [
       "f (generic function with 1 method)"
      ]
     },
     "execution_count": 89,
     "metadata": {},
     "output_type": "execute_result"
    }
   ],
   "source": [
    "function f(s)\n",
    "    if s==:(a^2)\n",
    "        return :(2*a)\n",
    "    else\n",
    "        return s\n",
    "    end \n",
    "end"
   ]
  },
  {
   "cell_type": "code",
   "execution_count": 90,
   "metadata": {},
   "outputs": [
    {
     "name": "stdout",
     "output_type": "stream",
     "text": [
      "2 + a ^ 2 + b + c\n",
      "2 + nothing + b + c\n"
     ]
    }
   ],
   "source": [
    "ex1 = :(2 + a^2+ b + c )\n",
    "println(ex1)\n",
    "apply_f_to_s!(ex1, f)\n",
    "println(ex1)"
   ]
  },
  {
   "cell_type": "code",
   "execution_count": null,
   "metadata": {
    "collapsed": true
   },
   "outputs": [],
   "source": []
  },
  {
   "cell_type": "code",
   "execution_count": 84,
   "metadata": {},
   "outputs": [
    {
     "name": "stdout",
     "output_type": "stream",
     "text": [
      "2 + (a ^ 2 + b + a ^ 2) + c + a ^ 2\n",
      "\t2 + (a ^ 2 + b + a ^ 2) + c + a ^ 2Any[:+, 2, :(a ^ 2 + b + a ^ 2), :c, :(a ^ 2)]\n",
      "\ta ^ 2 + b + a ^ 2Any[:+, :(a ^ 2), :b, :(a ^ 2)]\n",
      "\t2aAny[:*, 2, :a]\n",
      "\t2aAny[:*, 2, :a]\n",
      "\t2aAny[:*, 2, :a]\n",
      "2 + nothing + c + nothing\n"
     ]
    }
   ],
   "source": [
    "ex1 = :(2 + (a^2+ b + a^2) + c + a^2 )\n",
    "println(ex1)\n",
    "apply_f_to_s!(ex1, f)\n",
    "println(ex1)"
   ]
  },
  {
   "cell_type": "code",
   "execution_count": null,
   "metadata": {
    "collapsed": true
   },
   "outputs": [],
   "source": []
  },
  {
   "cell_type": "code",
   "execution_count": null,
   "metadata": {
    "collapsed": true
   },
   "outputs": [],
   "source": []
  },
  {
   "cell_type": "code",
   "execution_count": null,
   "metadata": {
    "collapsed": true
   },
   "outputs": [],
   "source": []
  },
  {
   "cell_type": "code",
   "execution_count": null,
   "metadata": {
    "collapsed": true
   },
   "outputs": [],
   "source": []
  },
  {
   "cell_type": "code",
   "execution_count": null,
   "metadata": {
    "collapsed": true
   },
   "outputs": [],
   "source": []
  },
  {
   "cell_type": "code",
   "execution_count": null,
   "metadata": {
    "collapsed": true
   },
   "outputs": [],
   "source": []
  },
  {
   "cell_type": "code",
   "execution_count": null,
   "metadata": {
    "collapsed": true
   },
   "outputs": [],
   "source": []
  },
  {
   "cell_type": "code",
   "execution_count": null,
   "metadata": {
    "collapsed": true
   },
   "outputs": [],
   "source": []
  },
  {
   "cell_type": "code",
   "execution_count": null,
   "metadata": {
    "collapsed": true
   },
   "outputs": [],
   "source": []
  },
  {
   "cell_type": "code",
   "execution_count": null,
   "metadata": {
    "collapsed": true
   },
   "outputs": [],
   "source": []
  },
  {
   "cell_type": "code",
   "execution_count": null,
   "metadata": {
    "collapsed": true
   },
   "outputs": [],
   "source": []
  },
  {
   "cell_type": "code",
   "execution_count": null,
   "metadata": {
    "collapsed": true
   },
   "outputs": [],
   "source": []
  },
  {
   "cell_type": "code",
   "execution_count": null,
   "metadata": {
    "collapsed": true
   },
   "outputs": [],
   "source": []
  },
  {
   "cell_type": "code",
   "execution_count": null,
   "metadata": {
    "collapsed": true
   },
   "outputs": [],
   "source": []
  },
  {
   "cell_type": "code",
   "execution_count": 448,
   "metadata": {},
   "outputs": [
    {
     "ename": "LoadError",
     "evalue": "syntax: incomplete: \"function\" at none:1 requires end",
     "output_type": "error",
     "traceback": [
      "syntax: incomplete: \"function\" at none:1 requires end",
      ""
     ]
    }
   ],
   "source": [
    "global symbols =[]\n",
    "function substitution_into_expression(expression::Expr, input::Union{Expr, Symbol}, output::Union{Expr, Symbol})\n",
    "    for arg in expression.args\n",
    "        if typeof(arg)==Expr\n",
    "            substitution_into_expression\n",
    "    end\n",
    "end"
   ]
  },
  {
   "cell_type": "code",
   "execution_count": 184,
   "metadata": {
    "collapsed": true
   },
   "outputs": [],
   "source": [
    "using MacroTools"
   ]
  },
  {
   "cell_type": "code",
   "execution_count": 185,
   "metadata": {},
   "outputs": [
    {
     "data": {
      "text/plain": [
       ":(2a + b + 2a)"
      ]
     },
     "execution_count": 185,
     "metadata": {},
     "output_type": "execute_result"
    }
   ],
   "source": [
    "ex"
   ]
  },
  {
   "cell_type": "code",
   "execution_count": 205,
   "metadata": {},
   "outputs": [
    {
     "name": "stdout",
     "output_type": "stream",
     "text": [
      "Expr\n",
      "  head: Symbol call\n",
      "  args: Array{Any}((4,))\n",
      "    1: Symbol +\n",
      "    2: Expr\n",
      "      head: Symbol call\n",
      "      args: Array{Any}((3,))\n",
      "        1: Symbol *\n",
      "        2: Int64 2\n",
      "        3: Symbol a\n",
      "    3: Symbol b\n",
      "    4: Expr\n",
      "      head: Symbol call\n",
      "      args: Array{Any}((3,))\n",
      "        1: Symbol *\n",
      "        2: Int64 2\n",
      "        3: Symbol a\n"
     ]
    }
   ],
   "source": [
    "dump(ex)"
   ]
  },
  {
   "cell_type": "code",
   "execution_count": null,
   "metadata": {
    "collapsed": true
   },
   "outputs": [],
   "source": []
  },
  {
   "cell_type": "code",
   "execution_count": null,
   "metadata": {
    "collapsed": true
   },
   "outputs": [],
   "source": []
  },
  {
   "cell_type": "code",
   "execution_count": null,
   "metadata": {
    "collapsed": true
   },
   "outputs": [],
   "source": []
  },
  {
   "cell_type": "markdown",
   "metadata": {},
   "source": [
    "## Splatting interpolation"
   ]
  },
  {
   "cell_type": "code",
   "execution_count": null,
   "metadata": {
    "collapsed": true
   },
   "outputs": [],
   "source": []
  },
  {
   "cell_type": "code",
   "execution_count": null,
   "metadata": {
    "collapsed": true
   },
   "outputs": [],
   "source": []
  },
  {
   "cell_type": "markdown",
   "metadata": {},
   "source": [
    "## Nested quote"
   ]
  },
  {
   "cell_type": "code",
   "execution_count": null,
   "metadata": {
    "collapsed": true
   },
   "outputs": [],
   "source": []
  },
  {
   "cell_type": "code",
   "execution_count": null,
   "metadata": {
    "collapsed": true
   },
   "outputs": [],
   "source": []
  }
 ],
 "metadata": {
  "kernelspec": {
   "display_name": "Julia 1.8.0",
   "language": "julia",
   "name": "julia-1.8"
  },
  "language_info": {
   "file_extension": ".jl",
   "mimetype": "application/julia",
   "name": "julia",
   "version": "1.8.3"
  }
 },
 "nbformat": 4,
 "nbformat_minor": 2
}
