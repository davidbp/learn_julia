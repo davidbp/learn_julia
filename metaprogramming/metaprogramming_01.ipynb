{
 "cells": [
  {
   "cell_type": "markdown",
   "metadata": {},
   "source": [
    "## Symbols"
   ]
  },
  {
   "cell_type": "code",
   "execution_count": 1,
   "metadata": {
    "collapsed": false
   },
   "outputs": [
    {
     "data": {
      "text/plain": [
       "Symbol"
      ]
     },
     "execution_count": 1,
     "metadata": {},
     "output_type": "execute_result"
    }
   ],
   "source": [
    "x = :a\n",
    "typeof(x)"
   ]
  },
  {
   "cell_type": "code",
   "execution_count": 2,
   "metadata": {
    "collapsed": false
   },
   "outputs": [
    {
     "data": {
      "text/plain": [
       "Symbol"
      ]
     },
     "execution_count": 2,
     "metadata": {},
     "output_type": "execute_result"
    }
   ],
   "source": [
    "x = :something\n",
    "typeof(x)"
   ]
  },
  {
   "cell_type": "markdown",
   "metadata": {},
   "source": [
    "## Expressions"
   ]
  },
  {
   "cell_type": "code",
   "execution_count": 3,
   "metadata": {
    "collapsed": false
   },
   "outputs": [
    {
     "data": {
      "text/plain": [
       "Expr"
      ]
     },
     "execution_count": 3,
     "metadata": {},
     "output_type": "execute_result"
    }
   ],
   "source": [
    "ex = :(a+b)\n",
    "typeof(ex)"
   ]
  },
  {
   "cell_type": "code",
   "execution_count": 4,
   "metadata": {
    "collapsed": false
   },
   "outputs": [
    {
     "data": {
      "text/plain": [
       "3-element Array{Any,1}:\n",
       " :+\n",
       " :a\n",
       " :b"
      ]
     },
     "execution_count": 4,
     "metadata": {},
     "output_type": "execute_result"
    }
   ],
   "source": [
    "ex.args"
   ]
  },
  {
   "cell_type": "code",
   "execution_count": 5,
   "metadata": {
    "collapsed": false
   },
   "outputs": [
    {
     "data": {
      "text/plain": [
       ":call"
      ]
     },
     "execution_count": 5,
     "metadata": {},
     "output_type": "execute_result"
    }
   ],
   "source": [
    "ex.head"
   ]
  },
  {
   "cell_type": "markdown",
   "metadata": {},
   "source": [
    "### Interpolation in expressions"
   ]
  },
  {
   "cell_type": "markdown",
   "metadata": {},
   "source": [
    "Sometimes it is useful to be able to make a substitution inside an expression.\n",
    "\n",
    "Instead of using an abstract symbol like `X` we can substitute whatever is stored in `X`  using `$X`. Notice that variable `X` needs to be defined in the scope of the expression (otherwise there will be an error) and it can have a value or even another expression.\n"
   ]
  },
  {
   "cell_type": "code",
   "execution_count": 6,
   "metadata": {
    "collapsed": false
   },
   "outputs": [
    {
     "data": {
      "text/plain": [
       ":(X + b)"
      ]
     },
     "execution_count": 6,
     "metadata": {},
     "output_type": "execute_result"
    }
   ],
   "source": [
    "ex = :(X + b)"
   ]
  },
  {
   "cell_type": "markdown",
   "metadata": {},
   "source": [
    "We can substitute `X` for what is stored in `X`"
   ]
  },
  {
   "cell_type": "code",
   "execution_count": 7,
   "metadata": {
    "collapsed": false
   },
   "outputs": [
    {
     "data": {
      "text/plain": [
       ":(1 + b)"
      ]
     },
     "execution_count": 7,
     "metadata": {},
     "output_type": "execute_result"
    }
   ],
   "source": [
    "X = 1;\n",
    "ex = :($X + b)"
   ]
  },
  {
   "cell_type": "markdown",
   "metadata": {},
   "source": [
    "This is valid even if `X` is an `Expr`"
   ]
  },
  {
   "cell_type": "code",
   "execution_count": 8,
   "metadata": {
    "collapsed": false
   },
   "outputs": [
    {
     "data": {
      "text/plain": [
       ":((x + y) + b)"
      ]
     },
     "execution_count": 8,
     "metadata": {},
     "output_type": "execute_result"
    }
   ],
   "source": [
    "X = :(x+y);\n",
    "ex = :($X + b)"
   ]
  },
  {
   "cell_type": "markdown",
   "metadata": {},
   "source": [
    "## Manipulating expressions"
   ]
  },
  {
   "cell_type": "code",
   "execution_count": 9,
   "metadata": {
    "collapsed": false
   },
   "outputs": [
    {
     "data": {
      "text/plain": [
       ":(a + b)"
      ]
     },
     "execution_count": 9,
     "metadata": {},
     "output_type": "execute_result"
    }
   ],
   "source": [
    "ex = :(a+b)"
   ]
  },
  {
   "cell_type": "code",
   "execution_count": 10,
   "metadata": {
    "collapsed": false
   },
   "outputs": [
    {
     "data": {
      "text/plain": [
       "2"
      ]
     },
     "execution_count": 10,
     "metadata": {},
     "output_type": "execute_result"
    }
   ],
   "source": [
    "a = 1\n",
    "b = 1\n",
    "eval(ex)"
   ]
  },
  {
   "cell_type": "markdown",
   "metadata": {},
   "source": [
    "Let us consider the following problem:\n",
    "\n",
    "Given an expression `ex`, change all symbols `:a` by `:(2*a)`.\n",
    "\n",
    "\n",
    "We can substitue `a` by `2*a` inside the expression `ex`"
   ]
  },
  {
   "cell_type": "code",
   "execution_count": 11,
   "metadata": {
    "collapsed": false
   },
   "outputs": [
    {
     "data": {
      "text/plain": [
       ":(2a)"
      ]
     },
     "execution_count": 11,
     "metadata": {},
     "output_type": "execute_result"
    }
   ],
   "source": [
    "ex.args[2] = :(2*a)"
   ]
  },
  {
   "cell_type": "code",
   "execution_count": 12,
   "metadata": {
    "collapsed": false
   },
   "outputs": [
    {
     "data": {
      "text/plain": [
       ":(2a + b)"
      ]
     },
     "execution_count": 12,
     "metadata": {},
     "output_type": "execute_result"
    }
   ],
   "source": [
    "ex"
   ]
  },
  {
   "cell_type": "code",
   "execution_count": 13,
   "metadata": {
    "collapsed": false
   },
   "outputs": [
    {
     "data": {
      "text/plain": [
       "3"
      ]
     },
     "execution_count": 13,
     "metadata": {},
     "output_type": "execute_result"
    }
   ],
   "source": [
    "a = 1\n",
    "b = 1\n",
    "eval(ex)"
   ]
  },
  {
   "cell_type": "markdown",
   "metadata": {},
   "source": [
    "Notice that in the previous cells he have \"manually accessed\" position 2 of the arguments of the expression. We have updated `ex.args[2]` directly because we knew that Symbol `a` was in position 2.\n",
    "\n",
    "What if we want to change Symbol `:a` in an expression independently of where is located?\n"
   ]
  },
  {
   "cell_type": "code",
   "execution_count": 14,
   "metadata": {
    "collapsed": false
   },
   "outputs": [
    {
     "data": {
      "text/plain": [
       ":(a + b + a)"
      ]
     },
     "execution_count": 14,
     "metadata": {},
     "output_type": "execute_result"
    }
   ],
   "source": [
    "ex = :(a + b + a)"
   ]
  },
  {
   "cell_type": "code",
   "execution_count": 15,
   "metadata": {
    "collapsed": false
   },
   "outputs": [
    {
     "data": {
      "text/plain": [
       ":(2a)"
      ]
     },
     "execution_count": 15,
     "metadata": {},
     "output_type": "execute_result"
    }
   ],
   "source": [
    "ex.args[2] = :(2*a)"
   ]
  },
  {
   "cell_type": "code",
   "execution_count": 16,
   "metadata": {
    "collapsed": false
   },
   "outputs": [
    {
     "data": {
      "text/plain": [
       ":(2a + b + a)"
      ]
     },
     "execution_count": 16,
     "metadata": {},
     "output_type": "execute_result"
    }
   ],
   "source": [
    "ex"
   ]
  },
  {
   "cell_type": "code",
   "execution_count": 17,
   "metadata": {
    "collapsed": false
   },
   "outputs": [
    {
     "data": {
      "text/plain": [
       ":(2a)"
      ]
     },
     "execution_count": 17,
     "metadata": {},
     "output_type": "execute_result"
    }
   ],
   "source": [
    "ex.args[4] = :(2*a)"
   ]
  },
  {
   "cell_type": "code",
   "execution_count": 18,
   "metadata": {
    "collapsed": false,
    "scrolled": true
   },
   "outputs": [
    {
     "data": {
      "text/plain": [
       ":(2a + b + 2a)"
      ]
     },
     "execution_count": 18,
     "metadata": {},
     "output_type": "execute_result"
    }
   ],
   "source": [
    "ex"
   ]
  },
  {
   "cell_type": "markdown",
   "metadata": {},
   "source": [
    "We can also make a for loop that iterates over the arguments"
   ]
  },
  {
   "cell_type": "code",
   "execution_count": 19,
   "metadata": {
    "collapsed": false,
    "scrolled": true
   },
   "outputs": [
    {
     "data": {
      "text/plain": [
       ":(a + b + a)"
      ]
     },
     "execution_count": 19,
     "metadata": {},
     "output_type": "execute_result"
    }
   ],
   "source": [
    "ex = :(a + b + a)"
   ]
  },
  {
   "cell_type": "code",
   "execution_count": 20,
   "metadata": {
    "collapsed": false
   },
   "outputs": [
    {
     "name": "stdout",
     "output_type": "stream",
     "text": [
      "1\t+\tSymbol\n",
      "2\ta\tSymbol\n",
      "3\tb\tSymbol\n",
      "4\ta\tSymbol\n"
     ]
    }
   ],
   "source": [
    "for (i,arg) in enumerate(ex.args)\n",
    "    println(i,\"\\t\", arg,\"\\t\", typeof(arg))\n",
    "end"
   ]
  },
  {
   "cell_type": "code",
   "execution_count": 21,
   "metadata": {
    "collapsed": true
   },
   "outputs": [],
   "source": [
    "for (i,arg) in enumerate(ex.args)\n",
    "    if arg == :a\n",
    "        ex.args[i] = :(2*a)\n",
    "    end\n",
    "end"
   ]
  },
  {
   "cell_type": "code",
   "execution_count": 22,
   "metadata": {
    "collapsed": false
   },
   "outputs": [
    {
     "data": {
      "text/plain": [
       ":(2a + b + 2a)"
      ]
     },
     "execution_count": 22,
     "metadata": {},
     "output_type": "execute_result"
    }
   ],
   "source": [
    "ex"
   ]
  },
  {
   "cell_type": "markdown",
   "metadata": {},
   "source": [
    "#### Expressions inside expressions \n",
    "\n",
    "What happens if an expression has more expressions inside? \n",
    "\n",
    "In this case we never find symbol `:a` inside the expression `ex=:(2a + b + 2a)` simply iterating over the arguments. We don't find it because the arguments now are `[+, :(2a), :b, :(2a)]`  and `:(2a)` is an expression.\n",
    "\n",
    "\n"
   ]
  },
  {
   "cell_type": "code",
   "execution_count": 23,
   "metadata": {
    "collapsed": false,
    "scrolled": true
   },
   "outputs": [
    {
     "data": {
      "text/plain": [
       ":(2a + b + 2a)"
      ]
     },
     "execution_count": 23,
     "metadata": {},
     "output_type": "execute_result"
    }
   ],
   "source": [
    "ex"
   ]
  },
  {
   "cell_type": "code",
   "execution_count": 24,
   "metadata": {
    "collapsed": false
   },
   "outputs": [
    {
     "name": "stdout",
     "output_type": "stream",
     "text": [
      "1\t+\tSymbol\n",
      "2\t2a\tExpr\n",
      "3\tb\tSymbol\n",
      "4\t2a\tExpr\n"
     ]
    }
   ],
   "source": [
    "for (i,arg) in enumerate(ex.args)\n",
    "    println(i,\"\\t\", arg,\"\\t\", typeof(arg))\n",
    "end"
   ]
  },
  {
   "cell_type": "code",
   "execution_count": 25,
   "metadata": {
    "collapsed": true
   },
   "outputs": [],
   "source": [
    "for (i,arg) in enumerate(ex.args)\n",
    "    if arg == :a\n",
    "        print(\"I have found :a \")\n",
    "        ex.args[i] = :(2*a)\n",
    "    end\n",
    "end"
   ]
  },
  {
   "cell_type": "code",
   "execution_count": 26,
   "metadata": {
    "collapsed": false
   },
   "outputs": [
    {
     "data": {
      "text/plain": [
       ":(2a + b + 2a)"
      ]
     },
     "execution_count": 26,
     "metadata": {},
     "output_type": "execute_result"
    }
   ],
   "source": [
    "ex"
   ]
  },
  {
   "cell_type": "markdown",
   "metadata": {},
   "source": [
    "## Finding Symbols inside expressions inside expressions inside...\n",
    "\n",
    "Expressions can contain other expressions which can contain even more expressions...\n",
    "\n",
    "The problem of substituting `:a` by `:2a` in any expression `ex` requires us to iterate over any \"subexpression\" contained in the arguments of `ex`.\n",
    "\n",
    "\n",
    "https://mikeinnes.github.io/MacroTools.jl/stable/pattern-matching/#Expression-Walking-1\n"
   ]
  },
  {
   "cell_type": "code",
   "execution_count": 27,
   "metadata": {
    "collapsed": false
   },
   "outputs": [
    {
     "data": {
      "text/plain": [
       ":(2a + b + 2a)"
      ]
     },
     "execution_count": 27,
     "metadata": {},
     "output_type": "execute_result"
    }
   ],
   "source": [
    "ex"
   ]
  },
  {
   "cell_type": "code",
   "execution_count": 28,
   "metadata": {
    "collapsed": false
   },
   "outputs": [
    {
     "name": "stdout",
     "output_type": "stream",
     "text": [
      "Expr\n",
      "  head: Symbol call\n",
      "  args: Array{Any}((4,))\n",
      "    1: Symbol +\n",
      "    2: Expr\n",
      "      head: Symbol call\n",
      "      args: Array{Any}((3,))\n",
      "        1: Symbol *\n",
      "        2: Int64 2\n",
      "        3: Symbol a\n",
      "    3: Symbol b\n",
      "    4: Expr\n",
      "      head: Symbol call\n",
      "      args: Array{Any}((3,))\n",
      "        1: Symbol *\n",
      "        2: Int64 2\n",
      "        3: Symbol a\n"
     ]
    }
   ],
   "source": [
    "dump(ex)"
   ]
  },
  {
   "cell_type": "code",
   "execution_count": 29,
   "metadata": {
    "collapsed": false
   },
   "outputs": [
    {
     "data": {
      "text/plain": [
       "4-element Array{Any,1}:\n",
       " :+   \n",
       " :(2a)\n",
       " :b   \n",
       " :(2a)"
      ]
     },
     "execution_count": 29,
     "metadata": {},
     "output_type": "execute_result"
    }
   ],
   "source": [
    "ex.args"
   ]
  },
  {
   "cell_type": "code",
   "execution_count": 30,
   "metadata": {
    "collapsed": false
   },
   "outputs": [
    {
     "data": {
      "text/plain": [
       ":(2a + b + 2a)"
      ]
     },
     "execution_count": 30,
     "metadata": {},
     "output_type": "execute_result"
    }
   ],
   "source": [
    "ex = :(2a + b + 2a)"
   ]
  },
  {
   "cell_type": "code",
   "execution_count": 31,
   "metadata": {
    "collapsed": false
   },
   "outputs": [
    {
     "data": {
      "text/plain": [
       "get_all_symbols (generic function with 1 method)"
      ]
     },
     "execution_count": 31,
     "metadata": {},
     "output_type": "execute_result"
    }
   ],
   "source": [
    "global symbols =[]\n",
    "\n",
    "function get_all_symbols(expression::Expr)\n",
    "    for arg in expression.args\n",
    "        if typeof(arg)==Expr\n",
    "            get_all_symbols(arg)\n",
    "        end\n",
    "        if typeof(arg)==Symbol\n",
    "            push!(symbols, arg)\n",
    "        end\n",
    "    end\n",
    "end"
   ]
  },
  {
   "cell_type": "code",
   "execution_count": 32,
   "metadata": {
    "collapsed": true
   },
   "outputs": [],
   "source": [
    "get_all_symbols(ex)"
   ]
  },
  {
   "cell_type": "code",
   "execution_count": 33,
   "metadata": {
    "collapsed": false
   },
   "outputs": [
    {
     "data": {
      "text/plain": [
       "6-element Array{Any,1}:\n",
       " :+\n",
       " :*\n",
       " :a\n",
       " :b\n",
       " :*\n",
       " :a"
      ]
     },
     "execution_count": 33,
     "metadata": {},
     "output_type": "execute_result"
    }
   ],
   "source": [
    "symbols"
   ]
  },
  {
   "cell_type": "code",
   "execution_count": 34,
   "metadata": {
    "collapsed": false
   },
   "outputs": [
    {
     "data": {
      "text/plain": [
       ":a"
      ]
     },
     "execution_count": 34,
     "metadata": {},
     "output_type": "execute_result"
    }
   ],
   "source": [
    "x = :a"
   ]
  },
  {
   "cell_type": "code",
   "execution_count": 35,
   "metadata": {
    "collapsed": false
   },
   "outputs": [
    {
     "data": {
      "text/plain": [
       "true"
      ]
     },
     "execution_count": 35,
     "metadata": {},
     "output_type": "execute_result"
    }
   ],
   "source": [
    "typeof(ex.args[3]) == Symbol"
   ]
  },
  {
   "cell_type": "code",
   "execution_count": 36,
   "metadata": {
    "collapsed": false
   },
   "outputs": [
    {
     "data": {
      "text/plain": [
       "change_a_by_c (generic function with 1 method)"
      ]
     },
     "execution_count": 36,
     "metadata": {},
     "output_type": "execute_result"
    }
   ],
   "source": [
    "# change any a by c\n",
    "function change_a_by_c(ex::Expr)\n",
    "    for i in 1:length(ex.args)\n",
    "        arg = ex.args[i]\n",
    "        \n",
    "        if typeof(arg) == Expr\n",
    "            change_a_by_c(arg)\n",
    "        elseif typeof(arg) == Symbol\n",
    "            if arg == :a\n",
    "                ex.args[i] = :c \n",
    "            end\n",
    "        end\n",
    "    end\n",
    "end"
   ]
  },
  {
   "cell_type": "code",
   "execution_count": 37,
   "metadata": {
    "collapsed": false
   },
   "outputs": [
    {
     "data": {
      "text/plain": [
       ":(2c + b + 2c)"
      ]
     },
     "execution_count": 37,
     "metadata": {},
     "output_type": "execute_result"
    }
   ],
   "source": [
    "ex = :(2a + b + 2a)\n",
    "change_a_by_c(ex)\n",
    "ex"
   ]
  },
  {
   "cell_type": "code",
   "execution_count": 38,
   "metadata": {
    "collapsed": false
   },
   "outputs": [
    {
     "data": {
      "text/plain": [
       ":(2c + b + 2 * (c + (b * c) / 2))"
      ]
     },
     "execution_count": 38,
     "metadata": {},
     "output_type": "execute_result"
    }
   ],
   "source": [
    "ex = :(2a + b + 2*(a+ (b*a)/2))\n",
    "change_a_by_c(ex)\n",
    "ex"
   ]
  },
  {
   "cell_type": "code",
   "execution_count": 39,
   "metadata": {
    "collapsed": false
   },
   "outputs": [
    {
     "name": "stdout",
     "output_type": "stream",
     "text": [
      "before changes:\t2a + b + 2 * (a + (b * a) / 2)\n",
      "after changes:\t2c + b + 2 * (c + (b * c) / 2)\n"
     ]
    }
   ],
   "source": [
    "\n",
    "function change_a_by_b(ex::Expr, a, b)\n",
    "    \n",
    "    for i in 1:length(ex.args)\n",
    "        arg = ex.args[i]\n",
    "        \n",
    "        if typeof(arg) == Expr\n",
    "            change_a_by_b(arg,a,b)\n",
    "        elseif typeof(arg) == Symbol\n",
    "            if arg == a\n",
    "                ex.args[i] = b \n",
    "            end\n",
    "        end\n",
    "    end\n",
    "end\n",
    "\n",
    "ex = :(2a + b + 2*(a+ (b*a)/2))\n",
    "println(\"before changes:\\t\", ex)\n",
    "change_a_by_b(ex::Expr, :a, :c)\n",
    "println(\"after changes:\\t\", ex)"
   ]
  },
  {
   "cell_type": "markdown",
   "metadata": {},
   "source": [
    "Notice that if `a` or `b` are expressions the previous code does not work:"
   ]
  },
  {
   "cell_type": "code",
   "execution_count": 40,
   "metadata": {
    "collapsed": false
   },
   "outputs": [
    {
     "name": "stdout",
     "output_type": "stream",
     "text": [
      "2 + a ^ 2 + b + c\n",
      "2 + a ^ 2 + b + c\n"
     ]
    }
   ],
   "source": [
    "ex1 = :(2 + a^2+ b + c )\n",
    "println(ex1)\n",
    "change_a_by_b(ex::Expr, :(a^2), :z)\n",
    "println(ex1)"
   ]
  },
  {
   "cell_type": "markdown",
   "metadata": {},
   "source": [
    "We can solve this by simply adding..."
   ]
  },
  {
   "cell_type": "code",
   "execution_count": 41,
   "metadata": {
    "collapsed": false
   },
   "outputs": [
    {
     "data": {
      "text/plain": [
       "ysmaller (generic function with 1 method)"
      ]
     },
     "execution_count": 41,
     "metadata": {},
     "output_type": "execute_result"
    }
   ],
   "source": [
    "ysmaller(x,y) =(y < x) ? true : false"
   ]
  },
  {
   "cell_type": "code",
   "execution_count": 42,
   "metadata": {
    "collapsed": false
   },
   "outputs": [
    {
     "data": {
      "text/plain": [
       "false"
      ]
     },
     "execution_count": 42,
     "metadata": {},
     "output_type": "execute_result"
    }
   ],
   "source": [
    "ysmaller(10,11)"
   ]
  },
  {
   "cell_type": "code",
   "execution_count": 43,
   "metadata": {
    "collapsed": false
   },
   "outputs": [
    {
     "ename": "MethodError",
     "evalue": "MethodError: no method matching (::getfield(Main, Symbol(\"##3#4\")))(::Int64, ::Int64, ::Int64, ::Int64, ::Int64)\nClosest candidates are:\n  #3(::Any) at In[43]:1",
     "output_type": "error",
     "traceback": [
      "MethodError: no method matching (::getfield(Main, Symbol(\"##3#4\")))(::Int64, ::Int64, ::Int64, ::Int64, ::Int64)\nClosest candidates are:\n  #3(::Any) at In[43]:1",
      "",
      "Stacktrace:",
      " [1] map(::Function, ::Int64, ::Int64, ::Int64, ::Vararg{Int64,N} where N) at ./number.jl:241",
      " [2] top-level scope at In[43]:1"
     ]
    }
   ],
   "source": [
    "map(x-> g(x), [1,2,3,4,5]...)"
   ]
  },
  {
   "cell_type": "code",
   "execution_count": 71,
   "metadata": {
    "collapsed": false,
    "scrolled": true
   },
   "outputs": [
    {
     "name": "stdout",
     "output_type": "stream",
     "text": [
      "2 + a ^ 2 + b + c\n"
     ]
    },
    {
     "data": {
      "text/plain": [
       ":(2 + 2a + b + c)"
      ]
     },
     "execution_count": 71,
     "metadata": {},
     "output_type": "execute_result"
    }
   ],
   "source": [
    "replace_expr(x, a, b) = x == a ? b : x\n",
    "#change_a_by_b(ex::Expr, a, b) = ex == a ? b : Expr(ex.head, map(x -> replace_expr(x, a, b), ex.args)...)\n",
    "\n",
    "function replace_expr(ex::Expr, a, b)\n",
    "    if ex == a \n",
    "        return b \n",
    "    else \n",
    "        aux = map(x -> replace_expr(x, a, b), ex.args)\n",
    "        return Expr(ex.head,aux... )\n",
    "    end\n",
    "end\n",
    "\n",
    "\n",
    "ex1 = :(2 + a^2+ b + c )\n",
    "println(ex1)\n",
    "replace_expr(ex1, :(a^2), :(2*a))"
   ]
  },
  {
   "cell_type": "code",
   "execution_count": 72,
   "metadata": {
    "collapsed": false
   },
   "outputs": [
    {
     "data": {
      "text/plain": [
       ":(2 + a ^ 2 + b + c)"
      ]
     },
     "execution_count": 72,
     "metadata": {},
     "output_type": "execute_result"
    }
   ],
   "source": [
    "ex4 = Expr(ex1.head, ex1.args...)"
   ]
  },
  {
   "cell_type": "code",
   "execution_count": 73,
   "metadata": {
    "collapsed": false
   },
   "outputs": [
    {
     "name": "stdout",
     "output_type": "stream",
     "text": [
      "2 + a ^ 2 + b + c\n"
     ]
    },
    {
     "data": {
      "text/plain": [
       ":(2 + 2a + b + c)"
      ]
     },
     "execution_count": 73,
     "metadata": {},
     "output_type": "execute_result"
    }
   ],
   "source": [
    "replace_expr2(x, a, b) = x == a ? b : x\n",
    "#change_a_by_b(ex::Expr, a, b) = ex == a ? b : Expr(ex.head, map(x -> replace_expr(x, a, b), ex.args)...)\n",
    "\n",
    "function replace_expr2(ex::Expr, a, b)\n",
    "    if ex == a \n",
    "        return b \n",
    "    else \n",
    "        aux = [] \n",
    "        for x in ex.args \n",
    "            push!(aux, replace_expr2(x, a, b))\n",
    "        end\n",
    "        return Expr(ex.head, aux... )\n",
    "    end\n",
    "end\n",
    "\n",
    "\n",
    "ex1 = :(2 + a^2+ b + c )\n",
    "println(ex1)\n",
    "replace_expr2(ex1, :(a^2), :(2*a))"
   ]
  },
  {
   "cell_type": "code",
   "execution_count": null,
   "metadata": {
    "collapsed": false
   },
   "outputs": [],
   "source": []
  },
  {
   "cell_type": "markdown",
   "metadata": {},
   "source": [
    "### Apply a change to a Symbol given by a function : NOT WORKING NOW\n",
    "\n",
    "Let us consider we have some transformation `f` that takes a `Symbol` (or an expression) that we call `s` and returns either a symbol or an expression.\n",
    "\n",
    "Now we would like to make a funciton that everytime symbol `s` is found it is updated by `f(s)`."
   ]
  },
  {
   "cell_type": "code",
   "execution_count": 42,
   "metadata": {
    "collapsed": false
   },
   "outputs": [
    {
     "ename": "UndefVarError",
     "evalue": "UndefVarError: Tex not defined",
     "output_type": "error",
     "traceback": [
      "UndefVarError: Tex not defined",
      "",
      "Stacktrace:",
      " [1] top-level scope at In[42]:1"
     ]
    }
   ],
   "source": [
    "function apply_f_to_s!(ex::Tex, pattern::Tp, substitution::Ts)\n",
    "\n",
    "    if typeof(ex) != Expr\n",
    "        return f(ex)\n",
    "    else\n",
    "        ex = f(ex)\n",
    "        #println(\"\\t\", ex, ex.args)\n",
    "        for i in 1:length(ex.args)\n",
    "            ex.args[i]  = apply_f_to_s!(ex.args[i], f) \n",
    "            #ex.args[i] = arg\n",
    "        end\n",
    "    end\n",
    "end"
   ]
  },
  {
   "cell_type": "code",
   "execution_count": 89,
   "metadata": {
    "collapsed": false
   },
   "outputs": [
    {
     "data": {
      "text/plain": [
       "f (generic function with 1 method)"
      ]
     },
     "execution_count": 89,
     "metadata": {},
     "output_type": "execute_result"
    }
   ],
   "source": [
    "function f(s)\n",
    "    if s==:(a^2)\n",
    "        return :(2*a)\n",
    "    else\n",
    "        return s\n",
    "    end \n",
    "end"
   ]
  },
  {
   "cell_type": "code",
   "execution_count": 90,
   "metadata": {
    "collapsed": false
   },
   "outputs": [
    {
     "name": "stdout",
     "output_type": "stream",
     "text": [
      "2 + a ^ 2 + b + c\n",
      "2 + nothing + b + c\n"
     ]
    }
   ],
   "source": [
    "ex1 = :(2 + a^2+ b + c )\n",
    "println(ex1)\n",
    "apply_f_to_s!(ex1, f)\n",
    "println(ex1)"
   ]
  },
  {
   "cell_type": "code",
   "execution_count": null,
   "metadata": {
    "collapsed": true
   },
   "outputs": [],
   "source": []
  },
  {
   "cell_type": "code",
   "execution_count": 84,
   "metadata": {
    "collapsed": false
   },
   "outputs": [
    {
     "name": "stdout",
     "output_type": "stream",
     "text": [
      "2 + (a ^ 2 + b + a ^ 2) + c + a ^ 2\n",
      "\t2 + (a ^ 2 + b + a ^ 2) + c + a ^ 2Any[:+, 2, :(a ^ 2 + b + a ^ 2), :c, :(a ^ 2)]\n",
      "\ta ^ 2 + b + a ^ 2Any[:+, :(a ^ 2), :b, :(a ^ 2)]\n",
      "\t2aAny[:*, 2, :a]\n",
      "\t2aAny[:*, 2, :a]\n",
      "\t2aAny[:*, 2, :a]\n",
      "2 + nothing + c + nothing\n"
     ]
    }
   ],
   "source": [
    "ex1 = :(2 + (a^2+ b + a^2) + c + a^2 )\n",
    "println(ex1)\n",
    "apply_f_to_s!(ex1, f)\n",
    "println(ex1)"
   ]
  },
  {
   "cell_type": "code",
   "execution_count": null,
   "metadata": {
    "collapsed": true
   },
   "outputs": [],
   "source": []
  },
  {
   "cell_type": "code",
   "execution_count": null,
   "metadata": {
    "collapsed": true
   },
   "outputs": [],
   "source": []
  },
  {
   "cell_type": "code",
   "execution_count": null,
   "metadata": {
    "collapsed": true
   },
   "outputs": [],
   "source": []
  },
  {
   "cell_type": "code",
   "execution_count": null,
   "metadata": {
    "collapsed": true
   },
   "outputs": [],
   "source": []
  },
  {
   "cell_type": "code",
   "execution_count": null,
   "metadata": {
    "collapsed": true
   },
   "outputs": [],
   "source": []
  },
  {
   "cell_type": "code",
   "execution_count": null,
   "metadata": {
    "collapsed": true
   },
   "outputs": [],
   "source": []
  },
  {
   "cell_type": "code",
   "execution_count": null,
   "metadata": {
    "collapsed": true
   },
   "outputs": [],
   "source": []
  },
  {
   "cell_type": "code",
   "execution_count": null,
   "metadata": {
    "collapsed": true
   },
   "outputs": [],
   "source": []
  },
  {
   "cell_type": "code",
   "execution_count": null,
   "metadata": {
    "collapsed": true
   },
   "outputs": [],
   "source": []
  },
  {
   "cell_type": "code",
   "execution_count": null,
   "metadata": {
    "collapsed": true
   },
   "outputs": [],
   "source": []
  },
  {
   "cell_type": "code",
   "execution_count": null,
   "metadata": {
    "collapsed": true
   },
   "outputs": [],
   "source": []
  },
  {
   "cell_type": "code",
   "execution_count": null,
   "metadata": {
    "collapsed": true
   },
   "outputs": [],
   "source": []
  },
  {
   "cell_type": "code",
   "execution_count": null,
   "metadata": {
    "collapsed": true
   },
   "outputs": [],
   "source": []
  },
  {
   "cell_type": "code",
   "execution_count": null,
   "metadata": {
    "collapsed": true
   },
   "outputs": [],
   "source": []
  },
  {
   "cell_type": "code",
   "execution_count": 448,
   "metadata": {
    "collapsed": false
   },
   "outputs": [
    {
     "ename": "LoadError",
     "evalue": "syntax: incomplete: \"function\" at none:1 requires end",
     "output_type": "error",
     "traceback": [
      "syntax: incomplete: \"function\" at none:1 requires end",
      ""
     ]
    }
   ],
   "source": [
    "global symbols =[]\n",
    "function substitution_into_expression(expression::Expr, input::Union{Expr, Symbol}, output::Union{Expr, Symbol})\n",
    "    for arg in expression.args\n",
    "        if typeof(arg)==Expr\n",
    "            substitution_into_expression\n",
    "    end\n",
    "end"
   ]
  },
  {
   "cell_type": "code",
   "execution_count": 184,
   "metadata": {
    "collapsed": true
   },
   "outputs": [],
   "source": [
    "using MacroTools"
   ]
  },
  {
   "cell_type": "code",
   "execution_count": 185,
   "metadata": {
    "collapsed": false
   },
   "outputs": [
    {
     "data": {
      "text/plain": [
       ":(2a + b + 2a)"
      ]
     },
     "execution_count": 185,
     "metadata": {},
     "output_type": "execute_result"
    }
   ],
   "source": [
    "ex"
   ]
  },
  {
   "cell_type": "code",
   "execution_count": 205,
   "metadata": {
    "collapsed": false
   },
   "outputs": [
    {
     "name": "stdout",
     "output_type": "stream",
     "text": [
      "Expr\n",
      "  head: Symbol call\n",
      "  args: Array{Any}((4,))\n",
      "    1: Symbol +\n",
      "    2: Expr\n",
      "      head: Symbol call\n",
      "      args: Array{Any}((3,))\n",
      "        1: Symbol *\n",
      "        2: Int64 2\n",
      "        3: Symbol a\n",
      "    3: Symbol b\n",
      "    4: Expr\n",
      "      head: Symbol call\n",
      "      args: Array{Any}((3,))\n",
      "        1: Symbol *\n",
      "        2: Int64 2\n",
      "        3: Symbol a\n"
     ]
    }
   ],
   "source": [
    "dump(ex)"
   ]
  },
  {
   "cell_type": "code",
   "execution_count": null,
   "metadata": {
    "collapsed": true
   },
   "outputs": [],
   "source": []
  },
  {
   "cell_type": "code",
   "execution_count": null,
   "metadata": {
    "collapsed": true
   },
   "outputs": [],
   "source": []
  },
  {
   "cell_type": "code",
   "execution_count": null,
   "metadata": {
    "collapsed": true
   },
   "outputs": [],
   "source": []
  },
  {
   "cell_type": "markdown",
   "metadata": {},
   "source": [
    "## Splatting interpolation"
   ]
  },
  {
   "cell_type": "code",
   "execution_count": null,
   "metadata": {
    "collapsed": true
   },
   "outputs": [],
   "source": []
  },
  {
   "cell_type": "code",
   "execution_count": null,
   "metadata": {
    "collapsed": true
   },
   "outputs": [],
   "source": []
  },
  {
   "cell_type": "markdown",
   "metadata": {},
   "source": [
    "## Nested quote"
   ]
  },
  {
   "cell_type": "code",
   "execution_count": null,
   "metadata": {
    "collapsed": true
   },
   "outputs": [],
   "source": []
  },
  {
   "cell_type": "code",
   "execution_count": null,
   "metadata": {
    "collapsed": true
   },
   "outputs": [],
   "source": []
  }
 ],
 "metadata": {
  "kernelspec": {
   "display_name": "Julia 1.1.0",
   "language": "julia",
   "name": "julia-1.1"
  },
  "language_info": {
   "file_extension": ".jl",
   "mimetype": "application/julia",
   "name": "julia",
   "version": "1.1.0"
  }
 },
 "nbformat": 4,
 "nbformat_minor": 2
}
