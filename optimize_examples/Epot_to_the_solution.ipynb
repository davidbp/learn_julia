{
 "cells": [
  {
   "cell_type": "code",
   "execution_count": 1,
   "metadata": {},
   "outputs": [],
   "source": [
    "using BenchmarkTools\n",
    "using LinearAlgebra"
   ]
  },
  {
   "cell_type": "markdown",
   "metadata": {},
   "source": [
    "### Getting to the solution"
   ]
  },
  {
   "cell_type": "code",
   "execution_count": null,
   "metadata": {},
   "outputs": [],
   "source": []
  },
  {
   "cell_type": "code",
   "execution_count": 2,
   "metadata": {},
   "outputs": [],
   "source": [
    "@inline function V(x)\n",
    "    1.0/x^5\n",
    "end;\n",
    "\n",
    "mutable struct mine\n",
    "    x   :: Float64\n",
    "    Pot :: Function\n",
    "    mine() = new()\n",
    "end"
   ]
  },
  {
   "cell_type": "code",
   "execution_count": 3,
   "metadata": {},
   "outputs": [],
   "source": [
    "W     = mine();\n",
    "W.x   = 1.0;\n",
    "W.Pot = V;      # here I assign the potential function\n",
    "Np    = 64;\n",
    "r     = rand(Np,3);"
   ]
  },
  {
   "cell_type": "code",
   "execution_count": 4,
   "metadata": {},
   "outputs": [],
   "source": [
    "function Epot(r,glob::mine)\n",
    "    Ep  = 0.0\n",
    "    ri  = zero(r[1,:])\n",
    "    rij = zero(r[1,:])\n",
    "    N   = size(r,1)\n",
    "    for i in 1:N-1\n",
    "        for id in 1:3\n",
    "            ri[id] = r[i,id]\n",
    "        end\n",
    "        for j in i+1:N\n",
    "            for jd in 1:3\n",
    "                rij[jd] = ri[jd] - r[j,jd]\n",
    "            end\n",
    "            rr  = norm(rij)\n",
    "            #Ep += glob.Pot(rr)\n",
    "            Ep += V(rr)\n",
    "        end\n",
    "    end\n",
    "    Ep\n",
    "end;      "
   ]
  },
  {
   "cell_type": "code",
   "execution_count": 5,
   "metadata": {},
   "outputs": [
    {
     "name": "stdout",
     "output_type": "stream",
     "text": [
      "  100.639 μs (5 allocations: 464 bytes)\n"
     ]
    },
    {
     "data": {
      "text/plain": [
       "1.5565368692429937e7"
      ]
     },
     "execution_count": 5,
     "metadata": {},
     "output_type": "execute_result"
    }
   ],
   "source": [
    "@btime Epot(r,W)"
   ]
  },
  {
   "cell_type": "code",
   "execution_count": null,
   "metadata": {},
   "outputs": [],
   "source": []
  },
  {
   "cell_type": "code",
   "execution_count": 12,
   "metadata": {},
   "outputs": [],
   "source": [
    "function Epot(r,glob::mine)\n",
    "    Ep  = 0.0\n",
    "    rij = zero(r[1,:])\n",
    "    N   = size(r,1)\n",
    "    for i in 1:N-1\n",
    "        ri = view(r, i,:)   # CREO N-1 VIEWS\n",
    "        for j in i+1:N\n",
    "            for jd in 1:3\n",
    "                rij[jd] = ri[jd] - r[j,jd]\n",
    "            end\n",
    "            rr  = norm(rij)\n",
    "            #Ep += glob.Pot(rr)\n",
    "            Ep += V(rr)\n",
    "        end\n",
    "    end\n",
    "    Ep\n",
    "end;  "
   ]
  },
  {
   "cell_type": "code",
   "execution_count": 13,
   "metadata": {},
   "outputs": [
    {
     "name": "stdout",
     "output_type": "stream",
     "text": [
      "  101.354 μs (3 allocations: 240 bytes)\n"
     ]
    },
    {
     "data": {
      "text/plain": [
       "1.5565368692429937e7"
      ]
     },
     "execution_count": 13,
     "metadata": {},
     "output_type": "execute_result"
    }
   ],
   "source": [
    "@btime Epot(r,W)"
   ]
  },
  {
   "cell_type": "code",
   "execution_count": 26,
   "metadata": {},
   "outputs": [],
   "source": [
    "function Epot(r,glob::mine)\n",
    "    Ep  = 0.0\n",
    "    rij = zero(r[1,:])\n",
    "    N   = size(r,1)\n",
    "    for i in 1:N-1\n",
    "        ri = view(r,i,:)    # CREO N-1 VIEWS\n",
    "        for j in i+1:N \n",
    "            aux = view(r,j,:)    # CREO (N-1)*(i+1:N) VIEWS\n",
    "            rr  = norm(ri - aux )\n",
    "            #Ep += glob.Pot(rr)\n",
    "            Ep += V(rr)\n",
    "        end\n",
    "    end\n",
    "    Ep\n",
    "end;  "
   ]
  },
  {
   "cell_type": "code",
   "execution_count": 27,
   "metadata": {},
   "outputs": [
    {
     "name": "stdout",
     "output_type": "stream",
     "text": [
      "  231.000 μs (4098 allocations: 318.19 KiB)\n"
     ]
    },
    {
     "data": {
      "text/plain": [
       "1.5565368692429937e7"
      ]
     },
     "execution_count": 27,
     "metadata": {},
     "output_type": "execute_result"
    }
   ],
   "source": [
    "@btime Epot(r,W)"
   ]
  },
  {
   "cell_type": "code",
   "execution_count": 48,
   "metadata": {},
   "outputs": [],
   "source": [
    "function Epot(r,glob::mine)\n",
    "    Ep  = 0.0\n",
    "    rij = zero(r[1,:])\n",
    "    N   = size(r,1)\n",
    "    for i in 1:N-1\n",
    "        ri = view(r,i,:)\n",
    "        for j in i+1:N\n",
    "            rij = ri .- view(r,j,:) # tinc la memoria de rij prealocatada pero NO guardo \"inplace\"\n",
    "            rr  = norm(rij)\n",
    "            #Ep += glob.Pot(rr)\n",
    "            Ep += V(rr)\n",
    "        end\n",
    "    end\n",
    "    Ep\n",
    "end;  "
   ]
  },
  {
   "cell_type": "code",
   "execution_count": 49,
   "metadata": {},
   "outputs": [
    {
     "name": "stdout",
     "output_type": "stream",
     "text": [
      "  209.429 μs (4098 allocations: 318.19 KiB)\n"
     ]
    },
    {
     "data": {
      "text/plain": [
       "1.5565368692429937e7"
      ]
     },
     "execution_count": 49,
     "metadata": {},
     "output_type": "execute_result"
    }
   ],
   "source": [
    "@btime Epot(r,W)"
   ]
  },
  {
   "cell_type": "code",
   "execution_count": 50,
   "metadata": {},
   "outputs": [],
   "source": [
    "function Epot(r,glob::mine)\n",
    "    Ep  = 0.0\n",
    "    rij = zero(r[1,:])\n",
    "    N   = size(r,1)\n",
    "    for i in 1:N-1\n",
    "        ri = view(r,i,:)\n",
    "        for j in i+1:N\n",
    "            rij .= ri .- view(r,j,:) # tinc la memoria de rij prealocatada pero SI guardo \"inplace\"\n",
    "            rr  = norm(rij)\n",
    "            #Ep += glob.Pot(rr)\n",
    "            Ep += V(rr)\n",
    "        end\n",
    "    end\n",
    "    Ep\n",
    "end;  "
   ]
  },
  {
   "cell_type": "code",
   "execution_count": 51,
   "metadata": {},
   "outputs": [
    {
     "name": "stdout",
     "output_type": "stream",
     "text": [
      "  130.087 μs (2082 allocations: 97.69 KiB)\n"
     ]
    },
    {
     "data": {
      "text/plain": [
       "1.5565368692429937e7"
      ]
     },
     "execution_count": 51,
     "metadata": {},
     "output_type": "execute_result"
    }
   ],
   "source": [
    "@btime Epot(r,W)"
   ]
  },
  {
   "cell_type": "code",
   "execution_count": null,
   "metadata": {},
   "outputs": [],
   "source": []
  },
  {
   "cell_type": "code",
   "execution_count": null,
   "metadata": {},
   "outputs": [],
   "source": [
    "function Epot(r, glob::mine)\n",
    "    Ep  = 0.0\n",
    "    rij = zero(r[1,:])\n",
    "    N   = size(r,1)\n",
    "    \n",
    "    for i in 1:N-1\n",
    "        ri = view(r,i,:)\n",
    "        for j in i+1:N\n",
    "            rij .= ri .- view(r,j,:) # tinc la memoria de rij prealocatada pero SI guardo \"inplace\"\n",
    "            rr  = norm(rij)\n",
    "            #Ep += glob.Pot(rr)\n",
    "            Ep += V(rr)\n",
    "        end\n",
    "    end\n",
    "    Ep\n",
    "end;  "
   ]
  },
  {
   "cell_type": "code",
   "execution_count": null,
   "metadata": {},
   "outputs": [],
   "source": []
  },
  {
   "cell_type": "code",
   "execution_count": null,
   "metadata": {},
   "outputs": [],
   "source": []
  },
  {
   "cell_type": "code",
   "execution_count": null,
   "metadata": {},
   "outputs": [],
   "source": []
  },
  {
   "cell_type": "code",
   "execution_count": null,
   "metadata": {},
   "outputs": [],
   "source": []
  },
  {
   "cell_type": "code",
   "execution_count": null,
   "metadata": {},
   "outputs": [],
   "source": []
  },
  {
   "cell_type": "code",
   "execution_count": null,
   "metadata": {},
   "outputs": [],
   "source": []
  },
  {
   "cell_type": "code",
   "execution_count": 6,
   "metadata": {},
   "outputs": [],
   "source": [
    "function Epot2view_refilling(r,glob::mine)\n",
    "    Ep  = 0.0\n",
    "    ri  = zero(r[1,:])\n",
    "    rij = zero(r[1,:])\n",
    "    N   = size(r,1)\n",
    "    \n",
    "    for i in 1:N-1\n",
    "        ri .= view(r,i,:)\n",
    "        for j in i+1:N\n",
    "            for jd in 1:3\n",
    "                rij[jd] = ri[jd] - r[j,jd]\n",
    "            end\n",
    "            rr  = norm(rij)\n",
    "            #Ep += glob.Pot(rr)\n",
    "            Ep += V(rr)\n",
    "        end\n",
    "    end\n",
    "    Ep\n",
    "end;      "
   ]
  },
  {
   "cell_type": "code",
   "execution_count": 7,
   "metadata": {
    "scrolled": true
   },
   "outputs": [
    {
     "name": "stdout",
     "output_type": "stream",
     "text": [
      "  104.001 μs (68 allocations: 3.41 KiB)\n"
     ]
    },
    {
     "data": {
      "text/plain": [
       "8.705694478528883e6"
      ]
     },
     "execution_count": 7,
     "metadata": {},
     "output_type": "execute_result"
    }
   ],
   "source": [
    "@btime Epot2view_refilling(r,W)"
   ]
  },
  {
   "cell_type": "code",
   "execution_count": 8,
   "metadata": {},
   "outputs": [],
   "source": [
    "function Epot2view(r,glob::mine)\n",
    "    Ep  = 0.0\n",
    "    rij = zero(r[1,:])\n",
    "    N   = size(r,1)\n",
    "    \n",
    "    for i in 1:N-1\n",
    "        ri = view(r,i,:)\n",
    "        for j in i+1:N\n",
    "            for jd in 1:3\n",
    "                rij[jd] = ri[jd] - r[j,jd]\n",
    "            end\n",
    "            rr  = norm(rij)\n",
    "            #Ep += glob.Pot(rr)\n",
    "            Ep += V(rr)\n",
    "        end\n",
    "    end\n",
    "    Ep\n",
    "end;      "
   ]
  },
  {
   "cell_type": "code",
   "execution_count": 9,
   "metadata": {},
   "outputs": [
    {
     "name": "stdout",
     "output_type": "stream",
     "text": [
      "  101.331 μs (3 allocations: 240 bytes)\n"
     ]
    },
    {
     "data": {
      "text/plain": [
       "8.705694478528883e6"
      ]
     },
     "execution_count": 9,
     "metadata": {},
     "output_type": "execute_result"
    }
   ],
   "source": [
    "@btime Epot2view(r,W)"
   ]
  },
  {
   "cell_type": "code",
   "execution_count": 18,
   "metadata": {},
   "outputs": [],
   "source": [
    "function Epot2copy(r,glob::mine)\n",
    "    Ep  = 0.0\n",
    "    rij = zero(r[1,:])\n",
    "    N   = size(r,1)\n",
    "    \n",
    "    for i in 1:N-1\n",
    "        ri = r[i,:]\n",
    "        for j in i+1:N\n",
    "            for jd in 1:3\n",
    "                rij[jd] = ri[jd] - r[j,jd]\n",
    "            end\n",
    "            rr  = norm(rij)\n",
    "            #Ep += glob.Pot(rr)\n",
    "            Ep += V(rr)\n",
    "        end\n",
    "    end\n",
    "    Ep\n",
    "end;      "
   ]
  },
  {
   "cell_type": "code",
   "execution_count": 19,
   "metadata": {},
   "outputs": [
    {
     "name": "stdout",
     "output_type": "stream",
     "text": [
      "  104.669 μs (66 allocations: 7.13 KiB)\n"
     ]
    },
    {
     "data": {
      "text/plain": [
       "8.705694478528883e6"
      ]
     },
     "execution_count": 19,
     "metadata": {},
     "output_type": "execute_result"
    }
   ],
   "source": [
    "@btime Epot2copy(r,W)"
   ]
  },
  {
   "cell_type": "code",
   "execution_count": null,
   "metadata": {},
   "outputs": [],
   "source": []
  },
  {
   "cell_type": "code",
   "execution_count": null,
   "metadata": {},
   "outputs": [],
   "source": []
  },
  {
   "cell_type": "code",
   "execution_count": null,
   "metadata": {},
   "outputs": [],
   "source": []
  },
  {
   "cell_type": "code",
   "execution_count": null,
   "metadata": {},
   "outputs": [],
   "source": []
  },
  {
   "cell_type": "code",
   "execution_count": null,
   "metadata": {},
   "outputs": [],
   "source": []
  },
  {
   "cell_type": "code",
   "execution_count": null,
   "metadata": {},
   "outputs": [],
   "source": []
  },
  {
   "cell_type": "code",
   "execution_count": null,
   "metadata": {},
   "outputs": [],
   "source": [
    "function Epot2noview(r,glob::mine)\n",
    "    Ep  = 0.0\n",
    "    ri  = zero(r[1,:])\n",
    "    rij = zero(r[1,:])\n",
    "    N   = size(r,1)\n",
    "    \n",
    "    for i in 1:N-1\n",
    "        ri .=r[i,:]\n",
    "        for j in i+1:N\n",
    "            for jd in 1:3\n",
    "                rij[jd] = ri[jd] - r[j,jd]\n",
    "            end\n",
    "            rr  = norm(rij)\n",
    "            #Ep += glob.Pot(rr)\n",
    "            Ep += V(rr)\n",
    "        end\n",
    "    end\n",
    "    Ep\n",
    "end;      "
   ]
  },
  {
   "cell_type": "code",
   "execution_count": null,
   "metadata": {},
   "outputs": [],
   "source": [
    "function fill_vec_from_rowA!(vec, A, i)\n",
    "    for j in 1:length(vec)\n",
    "        vec[j] = A[i,j]\n",
    "    end\n",
    "end"
   ]
  },
  {
   "cell_type": "code",
   "execution_count": null,
   "metadata": {},
   "outputs": [],
   "source": [
    "function Epot3(r,glob::mine)\n",
    "    Ep  = 0.0\n",
    "    n_rows = size(r,1)\n",
    "    n_cols = size(r,2)\n",
    "    ri  = zeros(n_cols)\n",
    "    rij = zeros(n_cols)\n",
    "    \n",
    "    for i in 1:n_rows-1\n",
    "        fill_vec_from_rowA!(ri,r,i)\n",
    "        for j in i+1:n_rows\n",
    "            for jd in 1:3\n",
    "                rij[jd] = ri[jd] - r[j,jd]\n",
    "            end\n",
    "            rr  = norm(rij)\n",
    "            #Ep += glob.Pot(rr)\n",
    "            Ep += V(rr)\n",
    "        end\n",
    "    end\n",
    "    Ep\n",
    "end"
   ]
  },
  {
   "cell_type": "code",
   "execution_count": null,
   "metadata": {},
   "outputs": [],
   "source": [
    "@btime Epot3(r,W)"
   ]
  },
  {
   "cell_type": "code",
   "execution_count": null,
   "metadata": {},
   "outputs": [],
   "source": []
  },
  {
   "cell_type": "markdown",
   "metadata": {},
   "source": [
    "### Making function form a struct fast"
   ]
  },
  {
   "cell_type": "code",
   "execution_count": null,
   "metadata": {},
   "outputs": [],
   "source": [
    "using BenchmarkTools\n",
    "using LinearAlgebra"
   ]
  },
  {
   "cell_type": "code",
   "execution_count": null,
   "metadata": {},
   "outputs": [],
   "source": [
    "V(x) = 1.0/x^5 # no need for inline here.\n",
    "\n",
    "struct mine2{F<:Function} # doesn't need to be mutable, also parametrize on function type\n",
    "    x   :: Float64\n",
    "    Pot :: F\n",
    "end\n",
    "\n",
    "\n",
    "W     = mine2(21.0, V);\n",
    "Np    = 64;\n",
    "r     = rand(Np,3);\n",
    "\n",
    "\n",
    "function Epot_from_glob(r,glob::mine2)\n",
    "    Ep  = 0.0\n",
    "    T = eltype(r)\n",
    "    ncols = size(r, 2)\n",
    "    ri  = zeros(T, ncols)\n",
    "    rij = zeros(T, ncols)\n",
    "    N   = size(r,1)\n",
    "    @inbounds for i in 1:N-1 # disable bounds checks\n",
    "        for id in 1:3\n",
    "            ri[id] = r[i,id]\n",
    "        end\n",
    "        for j in i+1:N\n",
    "            for jd in 1:3\n",
    "                rij[jd] = ri[jd] - r[j,jd]\n",
    "            end\n",
    "            rr  = norm(rij)\n",
    "            Ep += glob.Pot(rr)\n",
    "            # Ep += V(rr)\n",
    "        end\n",
    "    end\n",
    "    Ep\n",
    "end; \n"
   ]
  },
  {
   "cell_type": "code",
   "execution_count": null,
   "metadata": {},
   "outputs": [],
   "source": [
    "@btime Epot_from_glob($r,$W)"
   ]
  },
  {
   "cell_type": "code",
   "execution_count": null,
   "metadata": {},
   "outputs": [],
   "source": [
    "@time Epot_from_glob(r,W)"
   ]
  },
  {
   "cell_type": "markdown",
   "metadata": {},
   "source": [
    "Compute the norm inplace"
   ]
  },
  {
   "cell_type": "code",
   "execution_count": null,
   "metadata": {},
   "outputs": [],
   "source": [
    "V(x) = 1.0/x^5 # no need for inline here.\n",
    "\n",
    "struct mine{F<:Function} # doesn't need to be mutable, also parametrize on function type\n",
    "    x   :: Float64\n",
    "    Pot :: F\n",
    "end\n",
    "\n",
    "\n",
    "W     = mine(21.0, V);\n",
    "Np    = 64;\n",
    "r     = rand(Np,3);\n",
    "\n",
    "\n",
    "function Epot_from_glob(r,glob::mine2)\n",
    "    Ep  = 0.0\n",
    "    T = eltype(r)\n",
    "    ncols = size(r, 2)\n",
    "    ri  = zeros(T, ncols)\n",
    "    rij = zeros(T, ncols)\n",
    "    N   = size(r,1)\n",
    "    @inbounds for i in 1:N-1 # disable bounds checks\n",
    "        for id in 1:3\n",
    "            ri[id] = r[i,id]\n",
    "        end\n",
    "        for j in i+1:N\n",
    "            aux = zero(T)\n",
    "            for jd in 1:3\n",
    "                aux += (ri[jd] - r[j,jd])^2\n",
    "            end\n",
    "            rr  = sqrt(aux)\n",
    "            Ep += glob.Pot(rr)\n",
    "        end\n",
    "    end\n",
    "    Ep\n",
    "end; \n"
   ]
  },
  {
   "cell_type": "code",
   "execution_count": null,
   "metadata": {},
   "outputs": [],
   "source": [
    "@btime Epot_from_glob(r,W)"
   ]
  },
  {
   "cell_type": "code",
   "execution_count": null,
   "metadata": {},
   "outputs": [],
   "source": []
  },
  {
   "cell_type": "code",
   "execution_count": null,
   "metadata": {},
   "outputs": [],
   "source": []
  },
  {
   "cell_type": "code",
   "execution_count": null,
   "metadata": {},
   "outputs": [],
   "source": []
  },
  {
   "cell_type": "markdown",
   "metadata": {},
   "source": [
    "Change rows by cols"
   ]
  },
  {
   "cell_type": "code",
   "execution_count": null,
   "metadata": {},
   "outputs": [],
   "source": [
    "V(x) = 1.0/x^5 # no need for inline here.\n",
    "\n",
    "struct mine2{F<:Function} # doesn't need to be mutable, also parametrize on function type\n",
    "    x   :: Float64\n",
    "    Pot :: F\n",
    "end\n",
    "\n",
    "\n",
    "W     = mine2(21.0, V);\n",
    "Np    = 64;\n",
    "#r     = rand(3,Np);\n",
    "\n",
    "\n",
    "function Epot_from_glob(r,glob::mine2)\n",
    "    Ep  = 0.0\n",
    "    T = eltype(r)\n",
    "    aux_vec_size = size(r, 1)\n",
    "    ri  = zeros(T, aux_vec_size)\n",
    "    N   = size(r,2)\n",
    "    @inbounds for i in 1:N-1 # disable bounds checks\n",
    "        for id in 1:3\n",
    "            ri[id] = r[i,id]\n",
    "        end\n",
    "        for j in i+1:N\n",
    "            aux = zero(T)\n",
    "            for jd in 1:3\n",
    "                aux += (ri[jd] - r[jd,j])^2\n",
    "            end\n",
    "            rr  = sqrt(aux)\n",
    "            Ep += glob.Pot(rr)\n",
    "            # Ep += V(rr)\n",
    "        end\n",
    "    end\n",
    "    Ep\n",
    "end; \n",
    "\n"
   ]
  },
  {
   "cell_type": "code",
   "execution_count": null,
   "metadata": {},
   "outputs": [],
   "source": [
    "@time Epot_from_glob(r,W)"
   ]
  },
  {
   "cell_type": "code",
   "execution_count": null,
   "metadata": {},
   "outputs": [],
   "source": [
    "@btime Epot_from_glob($r,$W)"
   ]
  },
  {
   "cell_type": "code",
   "execution_count": null,
   "metadata": {},
   "outputs": [],
   "source": []
  },
  {
   "cell_type": "code",
   "execution_count": null,
   "metadata": {},
   "outputs": [],
   "source": []
  },
  {
   "cell_type": "code",
   "execution_count": null,
   "metadata": {},
   "outputs": [],
   "source": [
    "\n",
    "W     = mine2(1.0, V);\n",
    "Np    = 64;\n",
    "r     = rand(Np,3);\n",
    "\n",
    "\n",
    "function Epot_from_glob(r,glob::mine2)\n",
    "    Ep  = 0.0\n",
    "    T = eltype(r)\n",
    "    ncols = size(r, 2)\n",
    "    ri  = zeros(T, ncols)\n",
    "    rij = zeros(T, ncols)\n",
    "    N   = size(r,1)\n",
    "    @inbounds for i in 1:N-1 # disable bounds checks\n",
    "        ri = view(r,i,:)\n",
    "        for j in i+1:N\n",
    "            #for jd in 1:3\n",
    "            #    rij[jd] = ri[jd] - r[j,jd]\n",
    "            #end\n",
    "            rij = ri - view(r,j,:)\n",
    "            rr  = norm(rij)\n",
    "            Ep += glob.Pot(rr)\n",
    "            # Ep += V(rr)\n",
    "        end\n",
    "    end\n",
    "    Ep\n",
    "end; \n",
    "\n"
   ]
  },
  {
   "cell_type": "code",
   "execution_count": null,
   "metadata": {},
   "outputs": [],
   "source": [
    "@btime Epot_from_glob($r,$W)"
   ]
  },
  {
   "cell_type": "code",
   "execution_count": null,
   "metadata": {},
   "outputs": [],
   "source": []
  },
  {
   "cell_type": "code",
   "execution_count": null,
   "metadata": {},
   "outputs": [],
   "source": [
    "using StaticArrays"
   ]
  },
  {
   "cell_type": "code",
   "execution_count": null,
   "metadata": {},
   "outputs": [],
   "source": [
    "\n",
    "W     = mine2(1.0, V);\n",
    "Np    = 64;\n",
    "r     = rand(Np,3);\n",
    "\n",
    "\n",
    "function Epot_from_glob(r,glob::mine2)\n",
    "    Ep  = 0.0\n",
    "    T = eltype(r)\n",
    "    ncols = size(r, 2)\n",
    "    ri  = zeros(T, ncols)\n",
    "    rij = zeros(T, ncols)\n",
    "    N   = size(r,1)\n",
    "    @inbounds for i in 1:N-1 # disable bounds checks\n",
    "        ri = SVector(r[i,:]...)\n",
    "        for j in i+1:N\n",
    "            rj = SVector(r[j,:]...)\n",
    "            rij = ri - rj\n",
    "            rr  = norm(rij)\n",
    "            Ep += glob.Pot(rr)\n",
    "            # Ep += V(rr)\n",
    "        end\n",
    "    end\n",
    "    Ep\n",
    "end; \n",
    "\n"
   ]
  },
  {
   "cell_type": "code",
   "execution_count": null,
   "metadata": {},
   "outputs": [],
   "source": [
    "@btime Epot_from_glob($r,$W)"
   ]
  },
  {
   "cell_type": "code",
   "execution_count": null,
   "metadata": {},
   "outputs": [],
   "source": []
  },
  {
   "cell_type": "code",
   "execution_count": null,
   "metadata": {},
   "outputs": [],
   "source": []
  },
  {
   "cell_type": "code",
   "execution_count": null,
   "metadata": {},
   "outputs": [],
   "source": []
  },
  {
   "cell_type": "code",
   "execution_count": null,
   "metadata": {},
   "outputs": [],
   "source": []
  },
  {
   "cell_type": "code",
   "execution_count": null,
   "metadata": {},
   "outputs": [],
   "source": []
  },
  {
   "cell_type": "code",
   "execution_count": null,
   "metadata": {},
   "outputs": [],
   "source": []
  },
  {
   "cell_type": "code",
   "execution_count": null,
   "metadata": {},
   "outputs": [],
   "source": [
    "ri = SVector(zeros(Float64, 3)...)\n",
    "rij = SVector(zeros(Float64, 3)...)"
   ]
  },
  {
   "cell_type": "code",
   "execution_count": null,
   "metadata": {},
   "outputs": [],
   "source": [
    "rij[1] = ri[1]"
   ]
  },
  {
   "cell_type": "code",
   "execution_count": null,
   "metadata": {},
   "outputs": [],
   "source": [
    "aux = rij + ri"
   ]
  },
  {
   "cell_type": "code",
   "execution_count": null,
   "metadata": {},
   "outputs": [],
   "source": [
    "function f(x,y,z)\n",
    "    x .+ y .+ z\n",
    "end\n",
    "function g(x,y,z)\n",
    "    x + y + z\n",
    "end\n",
    "using StaticArrays, BenchmarkTools\n",
    "x = @SVector [2.0,3.0,4.0]\n",
    "y = @SVector [2.0,3.0,4.0]\n",
    "z = @SVector [2.0,3.0,4.0]\n",
    "\n",
    "@btime f(x,y,z) # 33.372 μs (21 allocations: 768 bytes)\n",
    "@btime g(x,y,z) # 19.085 ns (1 allocation: 32 bytes)\n",
    "\n",
    "@btime f($x,$y,$z) # 3.220 ns (0 allocations: 0 bytes)\n",
    "@btime g($x,$y,$z) # 3.220 ns (0 allocations: 0 bytes)"
   ]
  },
  {
   "cell_type": "code",
   "execution_count": null,
   "metadata": {},
   "outputs": [],
   "source": []
  },
  {
   "cell_type": "code",
   "execution_count": null,
   "metadata": {},
   "outputs": [],
   "source": [
    "using StaticArrays\n",
    "\n",
    "V(x) = 1.0/x^5 # no need for inline here.\n",
    "\n",
    "struct mine{F<:Function} # doesn't need to be mutable, also parametrize on function type\n",
    "    x   :: Float64\n",
    "    Pot :: F\n",
    "end\n",
    "\n",
    "\n",
    "W     = mine(1.0, V);\n",
    "Np    = 64;\n",
    "r     = rand(Np,3);\n",
    "\n",
    "\n",
    "function Epot_static(r,glob::mine)\n",
    "    Ep  = 0.0\n",
    "    T = eltype(r)\n",
    "    ncols = size(r, 2)\n",
    "    #ri  = zeros(T, ncols)\n",
    "#    ri = SVector(zeros(T, ncols)...)    \n",
    "    rij = zeros(T, ncols)\n",
    "    #rij = SVector(zeros(T, ncols)...)\n",
    "\n",
    "    N   = size(r,1)\n",
    "    @inbounds for i in 1:N-1 # disable bounds checks\n",
    "\n",
    "        ri = SVector(r[i,:]...)\n",
    "        \n",
    "        for j in i+1:N\n",
    "            #for jd in 1:3\n",
    "            #    rij[jd] = ri[jd] - r[j,jd]\n",
    "            #end\n",
    "            \n",
    "            rr  = norm(ri - view(r,j,:))\n",
    "            Ep += glob.Pot(rr)\n",
    "            # Ep += V(rr)\n",
    "        end\n",
    "    end\n",
    "    Ep\n",
    "end; "
   ]
  },
  {
   "cell_type": "code",
   "execution_count": null,
   "metadata": {},
   "outputs": [],
   "source": [
    "@btime Epot_static($r,$W)"
   ]
  },
  {
   "cell_type": "code",
   "execution_count": null,
   "metadata": {},
   "outputs": [],
   "source": []
  },
  {
   "cell_type": "code",
   "execution_count": null,
   "metadata": {},
   "outputs": [],
   "source": []
  },
  {
   "cell_type": "code",
   "execution_count": null,
   "metadata": {},
   "outputs": [],
   "source": []
  },
  {
   "cell_type": "code",
   "execution_count": null,
   "metadata": {},
   "outputs": [],
   "source": []
  }
 ],
 "metadata": {
  "kernelspec": {
   "display_name": "Julia 1.1.0-rc1",
   "language": "julia",
   "name": "julia-1.1"
  },
  "language_info": {
   "file_extension": ".jl",
   "mimetype": "application/julia",
   "name": "julia",
   "version": "1.1.0"
  }
 },
 "nbformat": 4,
 "nbformat_minor": 2
}
