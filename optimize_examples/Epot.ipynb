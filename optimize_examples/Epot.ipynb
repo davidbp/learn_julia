{
 "cells": [
  {
   "cell_type": "code",
   "execution_count": 1,
   "metadata": {},
   "outputs": [],
   "source": [
    "using BenchmarkTools\n",
    "using LinearAlgebra"
   ]
  },
  {
   "cell_type": "markdown",
   "metadata": {},
   "source": [
    "### Solution"
   ]
  },
  {
   "cell_type": "code",
   "execution_count": 2,
   "metadata": {},
   "outputs": [],
   "source": [
    "V(x) = 1.0/x^5 # no need for inline here.\n",
    "\n",
    "struct mine{F<:Function} # doesn't need to be mutable, also parametrize on function type\n",
    "    x   :: Float64\n",
    "    Pot :: F\n",
    "end\n",
    "\n",
    "W     = mine(21.0, V);\n",
    "Np    = 64;\n",
    "r     = rand(Np,3);\n",
    "\n",
    "\n",
    "function Epot_from_glob(r,glob::mine)\n",
    "    Ep  = 0.0\n",
    "    T = eltype(r)\n",
    "    ncols = size(r, 2)\n",
    "    ri  = zeros(T, ncols)\n",
    "    rij = zeros(T, ncols)\n",
    "    N   = size(r,1)\n",
    "    @inbounds for i in 1:N-1 # disable bounds checks\n",
    "        for id in 1:3\n",
    "            ri[id] = r[i,id]\n",
    "        end\n",
    "        for j in i+1:N\n",
    "            aux = zero(T)\n",
    "            for jd in 1:3\n",
    "                aux += (ri[jd] - r[j,jd])^2\n",
    "            end\n",
    "            rr  = sqrt(aux)\n",
    "            Ep += glob.Pot(rr)\n",
    "        end\n",
    "    end\n",
    "    Ep\n",
    "end; "
   ]
  },
  {
   "cell_type": "code",
   "execution_count": 3,
   "metadata": {},
   "outputs": [
    {
     "name": "stdout",
     "output_type": "stream",
     "text": [
      "  72.052 μs (3 allocations: 240 bytes)\n"
     ]
    },
    {
     "data": {
      "text/plain": [
       "7.5259324525120165e6"
      ]
     },
     "execution_count": 3,
     "metadata": {},
     "output_type": "execute_result"
    }
   ],
   "source": [
    "@btime Epot_from_glob(r,W)"
   ]
  },
  {
   "cell_type": "markdown",
   "metadata": {},
   "source": [
    "Notice that the version from below uses less memory (it does not allocate ri or rij) but it is actually a bit slower than the previous version"
   ]
  },
  {
   "cell_type": "code",
   "execution_count": 9,
   "metadata": {},
   "outputs": [],
   "source": [
    "function Epot_opt(r,glob::mine)\n",
    "    Ep  = 0.0\n",
    "    T = eltype(r)\n",
    "    ncols = size(r, 2)\n",
    "    N   = size(r,1)\n",
    "    @inbounds for i in 1:N-1 # disable bounds checks\n",
    "        for j in i+1:N\n",
    "            aux = zero(T)\n",
    "            for jd in 1:3\n",
    "                aux += (r[i,jd] - r[j,jd])^2\n",
    "            end\n",
    "            rr  = sqrt(aux)\n",
    "            Ep += glob.Pot(rr)\n",
    "        end\n",
    "    end\n",
    "    Ep\n",
    "end; "
   ]
  },
  {
   "cell_type": "code",
   "execution_count": 10,
   "metadata": {},
   "outputs": [
    {
     "name": "stdout",
     "output_type": "stream",
     "text": [
      "  75.634 μs (1 allocation: 16 bytes)\n"
     ]
    },
    {
     "data": {
      "text/plain": [
       "7.5259324525120165e6"
      ]
     },
     "execution_count": 10,
     "metadata": {},
     "output_type": "execute_result"
    }
   ],
   "source": [
    "@btime Epot_opt(r,W)"
   ]
  },
  {
   "cell_type": "code",
   "execution_count": 13,
   "metadata": {},
   "outputs": [],
   "source": [
    "function Epot_opt(r,glob::mine)\n",
    "    Ep  = 0.0\n",
    "    T = eltype(r)\n",
    "    ncols = size(r, 2)\n",
    "    N   = size(r,1)\n",
    "    @inbounds for i in 1:N-1 # disable bounds checks\n",
    "        ri = view(r,i,:)\n",
    "        for j in i+1:N\n",
    "            aux = zero(T)\n",
    "            for jd in 1:3\n",
    "                aux += (ri[jd] - r[j,jd])^2\n",
    "            end\n",
    "            rr  = sqrt(aux)\n",
    "            Ep += glob.Pot(rr)\n",
    "        end\n",
    "    end\n",
    "    Ep\n",
    "end; "
   ]
  },
  {
   "cell_type": "code",
   "execution_count": 14,
   "metadata": {},
   "outputs": [
    {
     "name": "stdout",
     "output_type": "stream",
     "text": [
      "  77.201 μs (1 allocation: 16 bytes)\n"
     ]
    },
    {
     "data": {
      "text/plain": [
       "7.5259324525120165e6"
      ]
     },
     "execution_count": 14,
     "metadata": {},
     "output_type": "execute_result"
    }
   ],
   "source": [
    "@btime Epot_opt(r,W)"
   ]
  },
  {
   "cell_type": "code",
   "execution_count": 21,
   "metadata": {},
   "outputs": [],
   "source": [
    "function Epot_opt(r,glob::mine)\n",
    "    Ep  = 0.0\n",
    "    T = eltype(r)\n",
    "    ncols = size(r, 2)\n",
    "    N   = size(r,1)\n",
    "    @inbounds for i in 1:N-1 # disable bounds checks\n",
    "        ri = view(r,i,:)\n",
    "        for j in i+1:N\n",
    "            rj = view(r,j,:)\n",
    "            aux = zero(T)\n",
    "            for jd in 1:3\n",
    "                aux += (ri[jd] - rj[jd])^2\n",
    "            end\n",
    "            rr  = sqrt(aux)\n",
    "            Ep += glob.Pot(rr)\n",
    "        end\n",
    "    end\n",
    "    Ep\n",
    "end; "
   ]
  },
  {
   "cell_type": "code",
   "execution_count": 22,
   "metadata": {},
   "outputs": [
    {
     "name": "stdout",
     "output_type": "stream",
     "text": [
      "  75.426 μs (1 allocation: 16 bytes)\n"
     ]
    },
    {
     "data": {
      "text/plain": [
       "7.5259324525120165e6"
      ]
     },
     "execution_count": 22,
     "metadata": {},
     "output_type": "execute_result"
    }
   ],
   "source": [
    "@btime Epot_opt(r,W)"
   ]
  },
  {
   "cell_type": "code",
   "execution_count": 25,
   "metadata": {},
   "outputs": [],
   "source": [
    "function Epot_opt(r,glob::mine)\n",
    "    Ep  = 0.0\n",
    "    T = eltype(r)\n",
    "    ncols = size(r, 2)\n",
    "    N   = size(r,1)\n",
    "    @inbounds for i in 1:N-1 # disable bounds checks\n",
    "        ri = view(r,i,:)\n",
    "        for j in i+1:N\n",
    "            rj = view(r,j,:)\n",
    "            aux = zero(T)\n",
    "            for jd in 1:3\n",
    "                aux += (ri[jd] - rj[jd])^2\n",
    "            end\n",
    "            rr  = sqrt(aux)\n",
    "            Ep += glob.Pot(rr)\n",
    "        end\n",
    "    end\n",
    "    Ep\n",
    "end; "
   ]
  },
  {
   "cell_type": "code",
   "execution_count": 26,
   "metadata": {},
   "outputs": [
    {
     "name": "stdout",
     "output_type": "stream",
     "text": [
      "  75.445 μs (1 allocation: 16 bytes)\n"
     ]
    },
    {
     "data": {
      "text/plain": [
       "7.5259324525120165e6"
      ]
     },
     "execution_count": 26,
     "metadata": {},
     "output_type": "execute_result"
    }
   ],
   "source": [
    "@btime Epot_opt(r,W)"
   ]
  },
  {
   "cell_type": "code",
   "execution_count": null,
   "metadata": {},
   "outputs": [],
   "source": []
  },
  {
   "cell_type": "code",
   "execution_count": null,
   "metadata": {},
   "outputs": [],
   "source": []
  },
  {
   "cell_type": "code",
   "execution_count": null,
   "metadata": {},
   "outputs": [],
   "source": []
  },
  {
   "cell_type": "code",
   "execution_count": null,
   "metadata": {},
   "outputs": [],
   "source": []
  },
  {
   "cell_type": "code",
   "execution_count": null,
   "metadata": {},
   "outputs": [],
   "source": []
  },
  {
   "cell_type": "code",
   "execution_count": 20,
   "metadata": {},
   "outputs": [
    {
     "name": "stdout",
     "output_type": "stream",
     "text": [
      "search: \u001b[0m\u001b[1mr\u001b[22m\u001b[0m\u001b[1me\u001b[22m\u001b[0m\u001b[1md\u001b[22m\u001b[0m\u001b[1mu\u001b[22m\u001b[0m\u001b[1mc\u001b[22m\u001b[0m\u001b[1me\u001b[22m map\u001b[0m\u001b[1mr\u001b[22m\u001b[0m\u001b[1me\u001b[22m\u001b[0m\u001b[1md\u001b[22m\u001b[0m\u001b[1mu\u001b[22m\u001b[0m\u001b[1mc\u001b[22m\u001b[0m\u001b[1me\u001b[22m\n",
      "\n"
     ]
    },
    {
     "data": {
      "text/latex": [
       "\\begin{verbatim}\n",
       "reduce(op, itr; [init])\n",
       "\\end{verbatim}\n",
       "Reduce the given collection \\texttt{itr} with the given binary operator \\texttt{op}. If provided, the initial value \\texttt{init} must be a neutral element for \\texttt{op} that will be returned for empty collections. It is unspecified whether \\texttt{init} is used for non-empty collections.\n",
       "\n",
       "For empty collections, providing \\texttt{init} will be necessary, except for some special cases (e.g. when \\texttt{op} is one of \\texttt{+}, \\texttt{*}, \\texttt{max}, \\texttt{min}, \\texttt{\\&}, \\texttt{|}) when Julia can determine the neutral element of \\texttt{op}.\n",
       "\n",
       "Reductions for certain commonly-used operators may have special implementations, and should be used instead: \\texttt{maximum(itr)}, \\texttt{minimum(itr)}, \\texttt{sum(itr)}, \\texttt{prod(itr)},  \\texttt{any(itr)}, \\texttt{all(itr)}.\n",
       "\n",
       "The associativity of the reduction is implementation dependent. This means that you can't use non-associative operations like \\texttt{-} because it is undefined whether \\texttt{reduce(-,[1,2,3])} should be evaluated as \\texttt{(1-2)-3} or \\texttt{1-(2-3)}. Use \\href{@ref}{\\texttt{foldl}} or \\href{@ref}{\\texttt{foldr}} instead for guaranteed left or right associativity.\n",
       "\n",
       "Some operations accumulate error. Parallelism will be easier if the reduction can be executed in groups. Future versions of Julia might change the algorithm. Note that the elements are not reordered if you use an ordered collection.\n",
       "\n",
       "\\section{Examples}\n",
       "\\begin{verbatim}\n",
       "julia> reduce(*, [2; 3; 4])\n",
       "24\n",
       "\n",
       "julia> reduce(*, [2; 3; 4]; init=-1)\n",
       "-24\n",
       "\\end{verbatim}\n",
       "\\rule{\\textwidth}{1pt}\n",
       "\\begin{verbatim}\n",
       "reduce(f, A; dims=:, [init])\n",
       "\\end{verbatim}\n",
       "Reduce 2-argument function \\texttt{f} along dimensions of \\texttt{A}. \\texttt{dims} is a vector specifying the dimensions to reduce, and the keyword argument \\texttt{init} is the initial value to use in the reductions. For \\texttt{+}, \\texttt{*}, \\texttt{max} and \\texttt{min} the \\texttt{init} argument is optional.\n",
       "\n",
       "The associativity of the reduction is implementation-dependent; if you need a particular associativity, e.g. left-to-right, you should write your own loop or consider using \\href{@ref}{\\texttt{foldl}} or \\href{@ref}{\\texttt{foldr}}. See documentation for \\href{@ref}{\\texttt{reduce}}.\n",
       "\n",
       "\\section{Examples}\n",
       "\\begin{verbatim}\n",
       "julia> a = reshape(Vector(1:16), (4,4))\n",
       "4×4 Array{Int64,2}:\n",
       " 1  5   9  13\n",
       " 2  6  10  14\n",
       " 3  7  11  15\n",
       " 4  8  12  16\n",
       "\n",
       "julia> reduce(max, a, dims=2)\n",
       "4×1 Array{Int64,2}:\n",
       " 13\n",
       " 14\n",
       " 15\n",
       " 16\n",
       "\n",
       "julia> reduce(max, a, dims=1)\n",
       "1×4 Array{Int64,2}:\n",
       " 4  8  12  16\n",
       "\\end{verbatim}\n"
      ],
      "text/markdown": [
       "```\n",
       "reduce(op, itr; [init])\n",
       "```\n",
       "\n",
       "Reduce the given collection `itr` with the given binary operator `op`. If provided, the initial value `init` must be a neutral element for `op` that will be returned for empty collections. It is unspecified whether `init` is used for non-empty collections.\n",
       "\n",
       "For empty collections, providing `init` will be necessary, except for some special cases (e.g. when `op` is one of `+`, `*`, `max`, `min`, `&`, `|`) when Julia can determine the neutral element of `op`.\n",
       "\n",
       "Reductions for certain commonly-used operators may have special implementations, and should be used instead: `maximum(itr)`, `minimum(itr)`, `sum(itr)`, `prod(itr)`,  `any(itr)`, `all(itr)`.\n",
       "\n",
       "The associativity of the reduction is implementation dependent. This means that you can't use non-associative operations like `-` because it is undefined whether `reduce(-,[1,2,3])` should be evaluated as `(1-2)-3` or `1-(2-3)`. Use [`foldl`](@ref) or [`foldr`](@ref) instead for guaranteed left or right associativity.\n",
       "\n",
       "Some operations accumulate error. Parallelism will be easier if the reduction can be executed in groups. Future versions of Julia might change the algorithm. Note that the elements are not reordered if you use an ordered collection.\n",
       "\n",
       "# Examples\n",
       "\n",
       "```jldoctest\n",
       "julia> reduce(*, [2; 3; 4])\n",
       "24\n",
       "\n",
       "julia> reduce(*, [2; 3; 4]; init=-1)\n",
       "-24\n",
       "```\n",
       "\n",
       "---\n",
       "\n",
       "```\n",
       "reduce(f, A; dims=:, [init])\n",
       "```\n",
       "\n",
       "Reduce 2-argument function `f` along dimensions of `A`. `dims` is a vector specifying the dimensions to reduce, and the keyword argument `init` is the initial value to use in the reductions. For `+`, `*`, `max` and `min` the `init` argument is optional.\n",
       "\n",
       "The associativity of the reduction is implementation-dependent; if you need a particular associativity, e.g. left-to-right, you should write your own loop or consider using [`foldl`](@ref) or [`foldr`](@ref). See documentation for [`reduce`](@ref).\n",
       "\n",
       "# Examples\n",
       "\n",
       "```jldoctest\n",
       "julia> a = reshape(Vector(1:16), (4,4))\n",
       "4×4 Array{Int64,2}:\n",
       " 1  5   9  13\n",
       " 2  6  10  14\n",
       " 3  7  11  15\n",
       " 4  8  12  16\n",
       "\n",
       "julia> reduce(max, a, dims=2)\n",
       "4×1 Array{Int64,2}:\n",
       " 13\n",
       " 14\n",
       " 15\n",
       " 16\n",
       "\n",
       "julia> reduce(max, a, dims=1)\n",
       "1×4 Array{Int64,2}:\n",
       " 4  8  12  16\n",
       "```\n"
      ],
      "text/plain": [
       "\u001b[36m  reduce(op, itr; [init])\u001b[39m\n",
       "\n",
       "  Reduce the given collection \u001b[36mitr\u001b[39m with the given binary operator \u001b[36mop\u001b[39m. If\n",
       "  provided, the initial value \u001b[36minit\u001b[39m must be a neutral element for \u001b[36mop\u001b[39m that will\n",
       "  be returned for empty collections. It is unspecified whether \u001b[36minit\u001b[39m is used\n",
       "  for non-empty collections.\n",
       "\n",
       "  For empty collections, providing \u001b[36minit\u001b[39m will be necessary, except for some\n",
       "  special cases (e.g. when \u001b[36mop\u001b[39m is one of \u001b[36m+\u001b[39m, \u001b[36m*\u001b[39m, \u001b[36mmax\u001b[39m, \u001b[36mmin\u001b[39m, \u001b[36m&\u001b[39m, \u001b[36m|\u001b[39m) when Julia can\n",
       "  determine the neutral element of \u001b[36mop\u001b[39m.\n",
       "\n",
       "  Reductions for certain commonly-used operators may have special\n",
       "  implementations, and should be used instead: \u001b[36mmaximum(itr)\u001b[39m, \u001b[36mminimum(itr)\u001b[39m,\n",
       "  \u001b[36msum(itr)\u001b[39m, \u001b[36mprod(itr)\u001b[39m, \u001b[36many(itr)\u001b[39m, \u001b[36mall(itr)\u001b[39m.\n",
       "\n",
       "  The associativity of the reduction is implementation dependent. This means\n",
       "  that you can't use non-associative operations like \u001b[36m-\u001b[39m because it is undefined\n",
       "  whether \u001b[36mreduce(-,[1,2,3])\u001b[39m should be evaluated as \u001b[36m(1-2)-3\u001b[39m or \u001b[36m1-(2-3)\u001b[39m. Use\n",
       "  \u001b[36mfoldl\u001b[39m or \u001b[36mfoldr\u001b[39m instead for guaranteed left or right associativity.\n",
       "\n",
       "  Some operations accumulate error. Parallelism will be easier if the\n",
       "  reduction can be executed in groups. Future versions of Julia might change\n",
       "  the algorithm. Note that the elements are not reordered if you use an\n",
       "  ordered collection.\n",
       "\n",
       "\u001b[1m  Examples\u001b[22m\n",
       "\u001b[1m  ≡≡≡≡≡≡≡≡≡≡\u001b[22m\n",
       "\n",
       "\u001b[36m  julia> reduce(*, [2; 3; 4])\u001b[39m\n",
       "\u001b[36m  24\u001b[39m\n",
       "\u001b[36m  \u001b[39m\n",
       "\u001b[36m  julia> reduce(*, [2; 3; 4]; init=-1)\u001b[39m\n",
       "\u001b[36m  -24\u001b[39m\n",
       "\n",
       "  ────────────────────────────────────────────────────────────────────────────\n",
       "\n",
       "\u001b[36m  reduce(f, A; dims=:, [init])\u001b[39m\n",
       "\n",
       "  Reduce 2-argument function \u001b[36mf\u001b[39m along dimensions of \u001b[36mA\u001b[39m. \u001b[36mdims\u001b[39m is a vector\n",
       "  specifying the dimensions to reduce, and the keyword argument \u001b[36minit\u001b[39m is the\n",
       "  initial value to use in the reductions. For \u001b[36m+\u001b[39m, \u001b[36m*\u001b[39m, \u001b[36mmax\u001b[39m and \u001b[36mmin\u001b[39m the \u001b[36minit\u001b[39m\n",
       "  argument is optional.\n",
       "\n",
       "  The associativity of the reduction is implementation-dependent; if you need\n",
       "  a particular associativity, e.g. left-to-right, you should write your own\n",
       "  loop or consider using \u001b[36mfoldl\u001b[39m or \u001b[36mfoldr\u001b[39m. See documentation for \u001b[36mreduce\u001b[39m.\n",
       "\n",
       "\u001b[1m  Examples\u001b[22m\n",
       "\u001b[1m  ≡≡≡≡≡≡≡≡≡≡\u001b[22m\n",
       "\n",
       "\u001b[36m  julia> a = reshape(Vector(1:16), (4,4))\u001b[39m\n",
       "\u001b[36m  4×4 Array{Int64,2}:\u001b[39m\n",
       "\u001b[36m   1  5   9  13\u001b[39m\n",
       "\u001b[36m   2  6  10  14\u001b[39m\n",
       "\u001b[36m   3  7  11  15\u001b[39m\n",
       "\u001b[36m   4  8  12  16\u001b[39m\n",
       "\u001b[36m  \u001b[39m\n",
       "\u001b[36m  julia> reduce(max, a, dims=2)\u001b[39m\n",
       "\u001b[36m  4×1 Array{Int64,2}:\u001b[39m\n",
       "\u001b[36m   13\u001b[39m\n",
       "\u001b[36m   14\u001b[39m\n",
       "\u001b[36m   15\u001b[39m\n",
       "\u001b[36m   16\u001b[39m\n",
       "\u001b[36m  \u001b[39m\n",
       "\u001b[36m  julia> reduce(max, a, dims=1)\u001b[39m\n",
       "\u001b[36m  1×4 Array{Int64,2}:\u001b[39m\n",
       "\u001b[36m   4  8  12  16\u001b[39m"
      ]
     },
     "execution_count": 20,
     "metadata": {},
     "output_type": "execute_result"
    }
   ],
   "source": [
    "?reduce"
   ]
  },
  {
   "cell_type": "code",
   "execution_count": null,
   "metadata": {},
   "outputs": [],
   "source": []
  },
  {
   "cell_type": "code",
   "execution_count": null,
   "metadata": {},
   "outputs": [],
   "source": []
  },
  {
   "cell_type": "code",
   "execution_count": null,
   "metadata": {},
   "outputs": [],
   "source": []
  },
  {
   "cell_type": "code",
   "execution_count": null,
   "metadata": {},
   "outputs": [],
   "source": []
  },
  {
   "cell_type": "code",
   "execution_count": 10,
   "metadata": {},
   "outputs": [],
   "source": [
    "function Epot_from_glob_view(r,glob::mine)\n",
    "    Ep  = 0.0\n",
    "    T = eltype(r)\n",
    "    ncols = size(r, 2)\n",
    "    #ri  = zeros(T, ncols) # don't need this with views\n",
    "    rij = zeros(T, ncols) \n",
    "    \n",
    "    N   = size(r,1)\n",
    "    \n",
    "    @inbounds for i in 1:N-1 # disable bounds checks\n",
    "        #for id in 1:3\n",
    "        #    ri[id] = r[i,id]\n",
    "        #end\n",
    "        ri = view(r,i,:)\n",
    "        for j in i+1:N\n",
    "            aux = zero(T)\n",
    "            rij .= ri .- r[j,:]\n",
    "            rr  = norm(rij)\n",
    "            Ep += glob.Pot(rr)\n",
    "        end\n",
    "    end\n",
    "    Ep\n",
    "end; "
   ]
  },
  {
   "cell_type": "code",
   "execution_count": 11,
   "metadata": {},
   "outputs": [
    {
     "name": "stdout",
     "output_type": "stream",
     "text": [
      "  216.851 μs (2081 allocations: 223.58 KiB)\n"
     ]
    },
    {
     "data": {
      "text/plain": [
       "1.4750469531604666e7"
      ]
     },
     "execution_count": 11,
     "metadata": {},
     "output_type": "execute_result"
    }
   ],
   "source": [
    "@btime Epot_from_glob_view(r,W)"
   ]
  },
  {
   "cell_type": "code",
   "execution_count": 12,
   "metadata": {},
   "outputs": [],
   "source": [
    "function Epot_from_glob_copy(r,glob::mine)\n",
    "    Ep  = 0.0\n",
    "    T = eltype(r)\n",
    "    ncols = size(r, 2)\n",
    "    #ri  = zeros(T, ncols) # don't need this with views\n",
    "    rij = zeros(T, ncols) \n",
    "    \n",
    "    N   = size(r,1)\n",
    "    \n",
    "    @inbounds for i in 1:N-1 # disable bounds checks\n",
    "        #for id in 1:3\n",
    "        #    ri[id] = r[i,id]\n",
    "        #end\n",
    "        ri = r[i,:]\n",
    "        for j in i+1:N\n",
    "            aux = zero(T)\n",
    "            rij .= ri .- r[j,:]\n",
    "            rr  = norm(rij)\n",
    "            Ep += glob.Pot(rr)\n",
    "        end\n",
    "    end\n",
    "    Ep\n",
    "end; "
   ]
  },
  {
   "cell_type": "code",
   "execution_count": 14,
   "metadata": {},
   "outputs": [
    {
     "name": "stdout",
     "output_type": "stream",
     "text": [
      "  215.008 μs (2081 allocations: 227.52 KiB)\n"
     ]
    },
    {
     "data": {
      "text/plain": [
       "1.4750469531604666e7"
      ]
     },
     "execution_count": 14,
     "metadata": {},
     "output_type": "execute_result"
    }
   ],
   "source": [
    "@btime Epot_from_glob_copy(r,W)"
   ]
  },
  {
   "cell_type": "code",
   "execution_count": null,
   "metadata": {},
   "outputs": [],
   "source": []
  },
  {
   "cell_type": "code",
   "execution_count": null,
   "metadata": {},
   "outputs": [],
   "source": []
  },
  {
   "cell_type": "code",
   "execution_count": null,
   "metadata": {},
   "outputs": [],
   "source": []
  },
  {
   "cell_type": "code",
   "execution_count": null,
   "metadata": {},
   "outputs": [],
   "source": []
  },
  {
   "cell_type": "code",
   "execution_count": null,
   "metadata": {},
   "outputs": [],
   "source": []
  },
  {
   "cell_type": "code",
   "execution_count": null,
   "metadata": {},
   "outputs": [],
   "source": [
    "V(x) = 1.0/x^5 # no need for inline here.\n",
    "\n",
    "struct mine{F<:Function} # doesn't need to be mutable, also parametrize on function type\n",
    "    x   :: Float64\n",
    "    Pot :: F\n",
    "end\n",
    "\n",
    "\n",
    "W     = mine(21.0, V);\n",
    "Np    = 64;\n",
    "r     = rand(Np,3);\n",
    "\n",
    "\n",
    "function Epot_from_glob(r,glob::mine)\n",
    "    Ep  = 0.0\n",
    "    T = eltype(r)\n",
    "    ncols = size(r, 2)\n",
    "    ri  = zeros(T, ncols)\n",
    "    rij = zeros(T, ncols)\n",
    "    N   = size(r,1)\n",
    "    @inbounds for i in 1:N-1 # disable bounds checks\n",
    "        for id in 1:3\n",
    "            ri[id] = r[i,id]\n",
    "        end\n",
    "        for j in i+1:N\n",
    "            aux = zero(T)\n",
    "            for jd in 1:3\n",
    "                aux += (ri[jd] - r[j,jd])^2\n",
    "            end\n",
    "            rr  = sqrt(aux)\n",
    "            Ep += glob.Pot(rr)\n",
    "        end\n",
    "    end\n",
    "    Ep\n",
    "end; \n",
    "\n",
    "\n"
   ]
  },
  {
   "cell_type": "markdown",
   "metadata": {},
   "source": [
    "### Getting to the solution"
   ]
  },
  {
   "cell_type": "code",
   "execution_count": null,
   "metadata": {},
   "outputs": [],
   "source": []
  },
  {
   "cell_type": "code",
   "execution_count": null,
   "metadata": {},
   "outputs": [],
   "source": [
    "@inline function V(x)\n",
    "    1.0/x^5\n",
    "end;\n",
    "\n",
    "mutable struct mine\n",
    "    x   :: Float64\n",
    "    Pot :: Function\n",
    "    mine() = new()\n",
    "end"
   ]
  },
  {
   "cell_type": "code",
   "execution_count": null,
   "metadata": {},
   "outputs": [],
   "source": [
    "W     = mine();\n",
    "W.x   = 1.0;\n",
    "W.Pot = V;      # here I assign the potential function\n",
    "Np    = 64;\n",
    "r     = rand(Np,3);"
   ]
  },
  {
   "cell_type": "code",
   "execution_count": null,
   "metadata": {},
   "outputs": [],
   "source": [
    "function Epot(r,glob::mine)\n",
    "    Ep  = 0.0\n",
    "    ri  = zero(r[1,:])\n",
    "    rij = zero(r[1,:])\n",
    "    N   = size(r,1)\n",
    "    for i in 1:N-1\n",
    "        for id in 1:3\n",
    "            ri[id] = r[i,id]\n",
    "        end\n",
    "        for j in i+1:N\n",
    "            for jd in 1:3\n",
    "                rij[jd] = ri[jd] - r[j,jd]\n",
    "            end\n",
    "            rr  = norm(rij)\n",
    "            #Ep += glob.Pot(rr)\n",
    "            Ep += V(rr)\n",
    "        end\n",
    "    end\n",
    "    Ep\n",
    "end;      "
   ]
  },
  {
   "cell_type": "code",
   "execution_count": null,
   "metadata": {},
   "outputs": [],
   "source": [
    "@btime Epot(r,W)"
   ]
  },
  {
   "cell_type": "code",
   "execution_count": null,
   "metadata": {},
   "outputs": [],
   "source": [
    "function Epot2view_refilling(r,glob::mine)\n",
    "    Ep  = 0.0\n",
    "    ri  = zero(r[1,:])\n",
    "    rij = zero(r[1,:])\n",
    "    N   = size(r,1)\n",
    "    \n",
    "    for i in 1:N-1\n",
    "        ri .= view(r,i,:)\n",
    "        for j in i+1:N\n",
    "            for jd in 1:3\n",
    "                rij[jd] = ri[jd] - r[j,jd]\n",
    "            end\n",
    "            rr  = norm(rij)\n",
    "            #Ep += glob.Pot(rr)\n",
    "            Ep += V(rr)\n",
    "        end\n",
    "    end\n",
    "    Ep\n",
    "end;      "
   ]
  },
  {
   "cell_type": "code",
   "execution_count": null,
   "metadata": {
    "scrolled": true
   },
   "outputs": [],
   "source": [
    "@btime Epot2view_refilling(r,W)"
   ]
  },
  {
   "cell_type": "code",
   "execution_count": null,
   "metadata": {},
   "outputs": [],
   "source": [
    "function Epot2view(r,glob::mine)\n",
    "    Ep  = 0.0\n",
    "    rij = zero(r[1,:])\n",
    "    N   = size(r,1)\n",
    "    \n",
    "    for i in 1:N-1\n",
    "        ri = view(r,i,:)\n",
    "        for j in i+1:N\n",
    "            for jd in 1:3\n",
    "                rij[jd] = ri[jd] - r[j,jd]\n",
    "            end\n",
    "            rr  = norm(rij)\n",
    "            #Ep += glob.Pot(rr)\n",
    "            Ep += V(rr)\n",
    "        end\n",
    "    end\n",
    "    Ep\n",
    "end;      "
   ]
  },
  {
   "cell_type": "code",
   "execution_count": null,
   "metadata": {},
   "outputs": [],
   "source": [
    "@btime Epot2view(r,W)"
   ]
  },
  {
   "cell_type": "code",
   "execution_count": null,
   "metadata": {},
   "outputs": [],
   "source": []
  },
  {
   "cell_type": "code",
   "execution_count": null,
   "metadata": {},
   "outputs": [],
   "source": [
    "function Epot2copy(r,glob::mine)\n",
    "    Ep  = 0.0\n",
    "    ri  = zero(r[1,:])\n",
    "    rij = zero(r[1,:])\n",
    "    N   = size(r,1)\n",
    "    \n",
    "    for i in 1:N-1\n",
    "        ri .= r[i,:]\n",
    "        for j in i+1:N\n",
    "            for jd in 1:3\n",
    "                rij[jd] = ri[jd] - r[j,jd]\n",
    "            end\n",
    "            rr  = norm(rij)\n",
    "            #Ep += glob.Pot(rr)\n",
    "            Ep += V(rr)\n",
    "        end\n",
    "    end\n",
    "    Ep\n",
    "end;      "
   ]
  },
  {
   "cell_type": "code",
   "execution_count": null,
   "metadata": {},
   "outputs": [],
   "source": [
    "@btime Epot2copy(r,W)"
   ]
  },
  {
   "cell_type": "code",
   "execution_count": null,
   "metadata": {},
   "outputs": [],
   "source": []
  },
  {
   "cell_type": "code",
   "execution_count": null,
   "metadata": {},
   "outputs": [],
   "source": []
  },
  {
   "cell_type": "code",
   "execution_count": null,
   "metadata": {},
   "outputs": [],
   "source": []
  },
  {
   "cell_type": "code",
   "execution_count": null,
   "metadata": {},
   "outputs": [],
   "source": [
    "function Epot2noview(r,glob::mine)\n",
    "    Ep  = 0.0\n",
    "    ri  = zero(r[1,:])\n",
    "    rij = zero(r[1,:])\n",
    "    N   = size(r,1)\n",
    "    \n",
    "    for i in 1:N-1\n",
    "        ri .=r[i,:]\n",
    "        for j in i+1:N\n",
    "            for jd in 1:3\n",
    "                rij[jd] = ri[jd] - r[j,jd]\n",
    "            end\n",
    "            rr  = norm(rij)\n",
    "            #Ep += glob.Pot(rr)\n",
    "            Ep += V(rr)\n",
    "        end\n",
    "    end\n",
    "    Ep\n",
    "end;      "
   ]
  },
  {
   "cell_type": "code",
   "execution_count": null,
   "metadata": {},
   "outputs": [],
   "source": [
    "function fill_vec_from_rowA!(vec, A, i)\n",
    "    for j in 1:length(vec)\n",
    "        vec[j] = A[i,j]\n",
    "    end\n",
    "end"
   ]
  },
  {
   "cell_type": "code",
   "execution_count": null,
   "metadata": {},
   "outputs": [],
   "source": [
    "function Epot3(r,glob::mine)\n",
    "    Ep  = 0.0\n",
    "    n_rows = size(r,1)\n",
    "    n_cols = size(r,2)\n",
    "    ri  = zeros(n_cols)\n",
    "    rij = zeros(n_cols)\n",
    "    \n",
    "    for i in 1:n_rows-1\n",
    "        fill_vec_from_rowA!(ri,r,i)\n",
    "        for j in i+1:n_rows\n",
    "            for jd in 1:3\n",
    "                rij[jd] = ri[jd] - r[j,jd]\n",
    "            end\n",
    "            rr  = norm(rij)\n",
    "            #Ep += glob.Pot(rr)\n",
    "            Ep += V(rr)\n",
    "        end\n",
    "    end\n",
    "    Ep\n",
    "end"
   ]
  },
  {
   "cell_type": "code",
   "execution_count": null,
   "metadata": {},
   "outputs": [],
   "source": [
    "@btime Epot3(r,W)"
   ]
  },
  {
   "cell_type": "code",
   "execution_count": null,
   "metadata": {},
   "outputs": [],
   "source": []
  },
  {
   "cell_type": "markdown",
   "metadata": {},
   "source": [
    "### Making function form a struct fast"
   ]
  },
  {
   "cell_type": "code",
   "execution_count": null,
   "metadata": {},
   "outputs": [],
   "source": [
    "using BenchmarkTools\n",
    "using LinearAlgebra"
   ]
  },
  {
   "cell_type": "code",
   "execution_count": null,
   "metadata": {},
   "outputs": [],
   "source": [
    "V(x) = 1.0/x^5 # no need for inline here.\n",
    "\n",
    "struct mine2{F<:Function} # doesn't need to be mutable, also parametrize on function type\n",
    "    x   :: Float64\n",
    "    Pot :: F\n",
    "end\n",
    "\n",
    "\n",
    "W     = mine2(21.0, V);\n",
    "Np    = 64;\n",
    "r     = rand(Np,3);\n",
    "\n",
    "\n",
    "function Epot_from_glob(r,glob::mine2)\n",
    "    Ep  = 0.0\n",
    "    T = eltype(r)\n",
    "    ncols = size(r, 2)\n",
    "    ri  = zeros(T, ncols)\n",
    "    rij = zeros(T, ncols)\n",
    "    N   = size(r,1)\n",
    "    @inbounds for i in 1:N-1 # disable bounds checks\n",
    "        for id in 1:3\n",
    "            ri[id] = r[i,id]\n",
    "        end\n",
    "        for j in i+1:N\n",
    "            for jd in 1:3\n",
    "                rij[jd] = ri[jd] - r[j,jd]\n",
    "            end\n",
    "            rr  = norm(rij)\n",
    "            Ep += glob.Pot(rr)\n",
    "            # Ep += V(rr)\n",
    "        end\n",
    "    end\n",
    "    Ep\n",
    "end; \n"
   ]
  },
  {
   "cell_type": "code",
   "execution_count": null,
   "metadata": {},
   "outputs": [],
   "source": [
    "@btime Epot_from_glob($r,$W)"
   ]
  },
  {
   "cell_type": "code",
   "execution_count": null,
   "metadata": {},
   "outputs": [],
   "source": [
    "@time Epot_from_glob(r,W)"
   ]
  },
  {
   "cell_type": "markdown",
   "metadata": {},
   "source": [
    "Compute the norm inplace"
   ]
  },
  {
   "cell_type": "code",
   "execution_count": null,
   "metadata": {},
   "outputs": [],
   "source": [
    "V(x) = 1.0/x^5 # no need for inline here.\n",
    "\n",
    "struct mine{F<:Function} # doesn't need to be mutable, also parametrize on function type\n",
    "    x   :: Float64\n",
    "    Pot :: F\n",
    "end\n",
    "\n",
    "\n",
    "W     = mine(21.0, V);\n",
    "Np    = 64;\n",
    "r     = rand(Np,3);\n",
    "\n",
    "\n",
    "function Epot_from_glob(r,glob::mine2)\n",
    "    Ep  = 0.0\n",
    "    T = eltype(r)\n",
    "    ncols = size(r, 2)\n",
    "    ri  = zeros(T, ncols)\n",
    "    rij = zeros(T, ncols)\n",
    "    N   = size(r,1)\n",
    "    @inbounds for i in 1:N-1 # disable bounds checks\n",
    "        for id in 1:3\n",
    "            ri[id] = r[i,id]\n",
    "        end\n",
    "        for j in i+1:N\n",
    "            aux = zero(T)\n",
    "            for jd in 1:3\n",
    "                aux += (ri[jd] - r[j,jd])^2\n",
    "            end\n",
    "            rr  = sqrt(aux)\n",
    "            Ep += glob.Pot(rr)\n",
    "        end\n",
    "    end\n",
    "    Ep\n",
    "end; \n"
   ]
  },
  {
   "cell_type": "code",
   "execution_count": null,
   "metadata": {},
   "outputs": [],
   "source": [
    "@btime Epot_from_glob(r,W)"
   ]
  },
  {
   "cell_type": "code",
   "execution_count": null,
   "metadata": {},
   "outputs": [],
   "source": []
  },
  {
   "cell_type": "code",
   "execution_count": null,
   "metadata": {},
   "outputs": [],
   "source": []
  },
  {
   "cell_type": "code",
   "execution_count": null,
   "metadata": {},
   "outputs": [],
   "source": []
  },
  {
   "cell_type": "markdown",
   "metadata": {},
   "source": [
    "Change rows by cols"
   ]
  },
  {
   "cell_type": "code",
   "execution_count": null,
   "metadata": {},
   "outputs": [],
   "source": [
    "V(x) = 1.0/x^5 # no need for inline here.\n",
    "\n",
    "struct mine2{F<:Function} # doesn't need to be mutable, also parametrize on function type\n",
    "    x   :: Float64\n",
    "    Pot :: F\n",
    "end\n",
    "\n",
    "\n",
    "W     = mine2(21.0, V);\n",
    "Np    = 64;\n",
    "#r     = rand(3,Np);\n",
    "\n",
    "\n",
    "function Epot_from_glob(r,glob::mine2)\n",
    "    Ep  = 0.0\n",
    "    T = eltype(r)\n",
    "    aux_vec_size = size(r, 1)\n",
    "    ri  = zeros(T, aux_vec_size)\n",
    "    N   = size(r,2)\n",
    "    @inbounds for i in 1:N-1 # disable bounds checks\n",
    "        for id in 1:3\n",
    "            ri[id] = r[i,id]\n",
    "        end\n",
    "        for j in i+1:N\n",
    "            aux = zero(T)\n",
    "            for jd in 1:3\n",
    "                aux += (ri[jd] - r[jd,j])^2\n",
    "            end\n",
    "            rr  = sqrt(aux)\n",
    "            Ep += glob.Pot(rr)\n",
    "            # Ep += V(rr)\n",
    "        end\n",
    "    end\n",
    "    Ep\n",
    "end; \n",
    "\n"
   ]
  },
  {
   "cell_type": "code",
   "execution_count": null,
   "metadata": {},
   "outputs": [],
   "source": [
    "@time Epot_from_glob(r,W)"
   ]
  },
  {
   "cell_type": "code",
   "execution_count": null,
   "metadata": {},
   "outputs": [],
   "source": [
    "@btime Epot_from_glob($r,$W)"
   ]
  },
  {
   "cell_type": "code",
   "execution_count": null,
   "metadata": {},
   "outputs": [],
   "source": []
  },
  {
   "cell_type": "code",
   "execution_count": null,
   "metadata": {},
   "outputs": [],
   "source": []
  },
  {
   "cell_type": "code",
   "execution_count": null,
   "metadata": {},
   "outputs": [],
   "source": [
    "\n",
    "W     = mine2(1.0, V);\n",
    "Np    = 64;\n",
    "r     = rand(Np,3);\n",
    "\n",
    "\n",
    "function Epot_from_glob(r,glob::mine2)\n",
    "    Ep  = 0.0\n",
    "    T = eltype(r)\n",
    "    ncols = size(r, 2)\n",
    "    ri  = zeros(T, ncols)\n",
    "    rij = zeros(T, ncols)\n",
    "    N   = size(r,1)\n",
    "    @inbounds for i in 1:N-1 # disable bounds checks\n",
    "        ri = view(r,i,:)\n",
    "        for j in i+1:N\n",
    "            #for jd in 1:3\n",
    "            #    rij[jd] = ri[jd] - r[j,jd]\n",
    "            #end\n",
    "            rij = ri - view(r,j,:)\n",
    "            rr  = norm(rij)\n",
    "            Ep += glob.Pot(rr)\n",
    "            # Ep += V(rr)\n",
    "        end\n",
    "    end\n",
    "    Ep\n",
    "end; \n",
    "\n"
   ]
  },
  {
   "cell_type": "code",
   "execution_count": null,
   "metadata": {},
   "outputs": [],
   "source": [
    "@btime Epot_from_glob($r,$W)"
   ]
  },
  {
   "cell_type": "code",
   "execution_count": null,
   "metadata": {},
   "outputs": [],
   "source": []
  },
  {
   "cell_type": "code",
   "execution_count": null,
   "metadata": {},
   "outputs": [],
   "source": [
    "using StaticArrays"
   ]
  },
  {
   "cell_type": "code",
   "execution_count": null,
   "metadata": {},
   "outputs": [],
   "source": [
    "\n",
    "W     = mine2(1.0, V);\n",
    "Np    = 64;\n",
    "r     = rand(Np,3);\n",
    "\n",
    "\n",
    "function Epot_from_glob(r,glob::mine2)\n",
    "    Ep  = 0.0\n",
    "    T = eltype(r)\n",
    "    ncols = size(r, 2)\n",
    "    ri  = zeros(T, ncols)\n",
    "    rij = zeros(T, ncols)\n",
    "    N   = size(r,1)\n",
    "    @inbounds for i in 1:N-1 # disable bounds checks\n",
    "        ri = SVector(r[i,:]...)\n",
    "        for j in i+1:N\n",
    "            rj = SVector(r[j,:]...)\n",
    "            rij = ri - rj\n",
    "            rr  = norm(rij)\n",
    "            Ep += glob.Pot(rr)\n",
    "            # Ep += V(rr)\n",
    "        end\n",
    "    end\n",
    "    Ep\n",
    "end; \n",
    "\n"
   ]
  },
  {
   "cell_type": "code",
   "execution_count": null,
   "metadata": {},
   "outputs": [],
   "source": [
    "@btime Epot_from_glob($r,$W)"
   ]
  },
  {
   "cell_type": "code",
   "execution_count": null,
   "metadata": {},
   "outputs": [],
   "source": []
  },
  {
   "cell_type": "code",
   "execution_count": null,
   "metadata": {},
   "outputs": [],
   "source": []
  },
  {
   "cell_type": "code",
   "execution_count": null,
   "metadata": {},
   "outputs": [],
   "source": []
  },
  {
   "cell_type": "code",
   "execution_count": null,
   "metadata": {},
   "outputs": [],
   "source": []
  },
  {
   "cell_type": "code",
   "execution_count": null,
   "metadata": {},
   "outputs": [],
   "source": []
  },
  {
   "cell_type": "code",
   "execution_count": null,
   "metadata": {},
   "outputs": [],
   "source": []
  },
  {
   "cell_type": "code",
   "execution_count": null,
   "metadata": {},
   "outputs": [],
   "source": [
    "ri = SVector(zeros(Float64, 3)...)\n",
    "rij = SVector(zeros(Float64, 3)...)"
   ]
  },
  {
   "cell_type": "code",
   "execution_count": null,
   "metadata": {},
   "outputs": [],
   "source": [
    "rij[1] = ri[1]"
   ]
  },
  {
   "cell_type": "code",
   "execution_count": null,
   "metadata": {},
   "outputs": [],
   "source": [
    "aux = rij + ri"
   ]
  },
  {
   "cell_type": "code",
   "execution_count": null,
   "metadata": {},
   "outputs": [],
   "source": [
    "function f(x,y,z)\n",
    "    x .+ y .+ z\n",
    "end\n",
    "function g(x,y,z)\n",
    "    x + y + z\n",
    "end\n",
    "using StaticArrays, BenchmarkTools\n",
    "x = @SVector [2.0,3.0,4.0]\n",
    "y = @SVector [2.0,3.0,4.0]\n",
    "z = @SVector [2.0,3.0,4.0]\n",
    "\n",
    "@btime f(x,y,z) # 33.372 μs (21 allocations: 768 bytes)\n",
    "@btime g(x,y,z) # 19.085 ns (1 allocation: 32 bytes)\n",
    "\n",
    "@btime f($x,$y,$z) # 3.220 ns (0 allocations: 0 bytes)\n",
    "@btime g($x,$y,$z) # 3.220 ns (0 allocations: 0 bytes)"
   ]
  },
  {
   "cell_type": "code",
   "execution_count": null,
   "metadata": {},
   "outputs": [],
   "source": []
  },
  {
   "cell_type": "code",
   "execution_count": null,
   "metadata": {},
   "outputs": [],
   "source": [
    "using StaticArrays\n",
    "\n",
    "V(x) = 1.0/x^5 # no need for inline here.\n",
    "\n",
    "struct mine{F<:Function} # doesn't need to be mutable, also parametrize on function type\n",
    "    x   :: Float64\n",
    "    Pot :: F\n",
    "end\n",
    "\n",
    "\n",
    "W     = mine(1.0, V);\n",
    "Np    = 64;\n",
    "r     = rand(Np,3);\n",
    "\n",
    "\n",
    "function Epot_static(r,glob::mine)\n",
    "    Ep  = 0.0\n",
    "    T = eltype(r)\n",
    "    ncols = size(r, 2)\n",
    "    #ri  = zeros(T, ncols)\n",
    "#    ri = SVector(zeros(T, ncols)...)    \n",
    "    rij = zeros(T, ncols)\n",
    "    #rij = SVector(zeros(T, ncols)...)\n",
    "\n",
    "    N   = size(r,1)\n",
    "    @inbounds for i in 1:N-1 # disable bounds checks\n",
    "\n",
    "        ri = SVector(r[i,:]...)\n",
    "        \n",
    "        for j in i+1:N\n",
    "            #for jd in 1:3\n",
    "            #    rij[jd] = ri[jd] - r[j,jd]\n",
    "            #end\n",
    "            \n",
    "            rr  = norm(ri - view(r,j,:))\n",
    "            Ep += glob.Pot(rr)\n",
    "            # Ep += V(rr)\n",
    "        end\n",
    "    end\n",
    "    Ep\n",
    "end; "
   ]
  },
  {
   "cell_type": "code",
   "execution_count": null,
   "metadata": {},
   "outputs": [],
   "source": [
    "@btime Epot_static($r,$W)"
   ]
  },
  {
   "cell_type": "code",
   "execution_count": null,
   "metadata": {},
   "outputs": [],
   "source": []
  },
  {
   "cell_type": "code",
   "execution_count": null,
   "metadata": {},
   "outputs": [],
   "source": []
  },
  {
   "cell_type": "code",
   "execution_count": null,
   "metadata": {},
   "outputs": [],
   "source": []
  },
  {
   "cell_type": "code",
   "execution_count": null,
   "metadata": {},
   "outputs": [],
   "source": []
  }
 ],
 "metadata": {
  "kernelspec": {
   "display_name": "Julia 1.1.0-rc1",
   "language": "julia",
   "name": "julia-1.1"
  },
  "language_info": {
   "file_extension": ".jl",
   "mimetype": "application/julia",
   "name": "julia",
   "version": "1.1.0"
  }
 },
 "nbformat": 4,
 "nbformat_minor": 2
}
