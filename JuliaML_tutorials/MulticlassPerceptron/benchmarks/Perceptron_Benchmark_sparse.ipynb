{
 "cells": [
  {
   "cell_type": "markdown",
   "metadata": {},
   "source": [
    "## Benchmarking Perceptron\n",
    "\n"
   ]
  },
  {
   "cell_type": "markdown",
   "metadata": {},
   "source": [
    "## Amazon book review"
   ]
  },
  {
   "cell_type": "code",
   "execution_count": 1,
   "metadata": {
    "collapsed": true
   },
   "outputs": [],
   "source": [
    "x = rand(10000)\n",
    "y = rand(10000);"
   ]
  },
  {
   "cell_type": "code",
   "execution_count": 2,
   "metadata": {
    "collapsed": true
   },
   "outputs": [],
   "source": [
    "using BenchmarkTools\n",
    "\n",
    "path_to_data=\"../../TestingData/SentimentAnalysis/\"\n",
    "push!(LOAD_PATH,path_to_data)\n",
    "using AmazonBookReviews\n",
    "\n",
    "path_to_perceptron =\"../source/\"\n",
    "push!(LOAD_PATH,path_to_perceptron)\n",
    "using MulticlassPerceptron"
   ]
  },
  {
   "cell_type": "code",
   "execution_count": 3,
   "metadata": {},
   "outputs": [
    {
     "data": {
      "text/plain": [
       "7.394539573424448e10"
      ]
     },
     "execution_count": 3,
     "metadata": {},
     "output_type": "execute_result"
    }
   ],
   "source": [
    "peakflops()"
   ]
  },
  {
   "cell_type": "code",
   "execution_count": 4,
   "metadata": {},
   "outputs": [
    {
     "name": "stdout",
     "output_type": "stream",
     "text": [
      "Julia Version 0.6.0\n",
      "Commit 903644385b (2017-06-19 13:05 UTC)\n",
      "Platform Info:\n",
      "  OS: macOS (x86_64-apple-darwin13.4.0)\n",
      "  CPU: Intel(R) Xeon(R) CPU E5-1620 v2 @ 3.70GHz\n",
      "  WORD_SIZE: 64\n",
      "  BLAS: libopenblas (USE64BITINT DYNAMIC_ARCH NO_AFFINITY Sandybridge)\n",
      "  LAPACK: libopenblas64_\n",
      "  LIBM: libopenlibm\n",
      "  LLVM: libLLVM-3.9.1 (ORCJIT, ivybridge)\n"
     ]
    }
   ],
   "source": [
    "versioninfo()"
   ]
  },
  {
   "cell_type": "markdown",
   "metadata": {},
   "source": [
    "### Testing the percep Sparse data Amazon book review\n",
    "\n"
   ]
  },
  {
   "cell_type": "code",
   "execution_count": 5,
   "metadata": {
    "collapsed": true
   },
   "outputs": [],
   "source": [
    "path_to_data=\"../../TestingData/SentimentAnalysis/\"\n",
    "push!(LOAD_PATH,path_to_data)\n",
    "using AmazonBookReviews"
   ]
  },
  {
   "cell_type": "code",
   "execution_count": 6,
   "metadata": {},
   "outputs": [
    {
     "name": "stdout",
     "output_type": "stream",
     "text": [
      "min support:1"
     ]
    },
    {
     "data": {
      "text/plain": [
       "(Dict(\"shot_by\"=>1,\"charlotte_hughes\"=>2,\"justice_must\"=>3,\"language_gage\"=>4,\"replacing_the\"=>5,\"various_scribes\"=>6,\"interesting_sections\"=>7,\"destroy_recommended\"=>8,\"story's_decent\"=>9,\"suspense_starts\"=>10…), Dict(119533=>\"quant-heavy\",193273=>\"of_destruction\",43031=>\"audience_in\",127295=>\"of_junk\",61670=>\"ingledew_a\",119601=>\"placement_and\",136672=>\"imagination_before\",104394=>\"worse_reinhart\",189695=>\"of_object\",179937=>\"sees_europe\"…), Dict(\"shot_by\"=>1,\"charlotte_hughes\"=>1,\"justice_must\"=>1,\"language_gage\"=>1,\"replacing_the\"=>1,\"various_scribes\"=>1,\"interesting_sections\"=>1,\"destroy_recommended\"=>1,\"story's_decent\"=>1,\"suspense_starts\"=>1…), (Int16[0 0 … 0 0; 0 0 … 0 0; … ; 0 0 … 0 0; 0 0 … 0 0], [-1.0, -1.0, -1.0, -1.0, -1.0, -1.0, -1.0, -1.0, -1.0, -1.0  …  1.0, 1.0, 1.0, 1.0, 1.0, 1.0, 1.0, 1.0, 1.0, 1.0]))"
      ]
     },
     "execution_count": 6,
     "metadata": {},
     "output_type": "execute_result"
    }
   ],
   "source": [
    "aux = AmazonBookReviews.load_data(;path=path_to_data, min_support=1)"
   ]
  },
  {
   "cell_type": "code",
   "execution_count": 7,
   "metadata": {},
   "outputs": [
    {
     "data": {
      "text/plain": [
       "(Int16[0 0 … 0 0; 0 0 … 0 0; … ; 0 0 … 0 0; 0 0 … 0 0], [-1.0, -1.0, -1.0, -1.0, -1.0, -1.0, -1.0, -1.0, -1.0, -1.0  …  1.0, 1.0, 1.0, 1.0, 1.0, 1.0, 1.0, 1.0, 1.0, 1.0])"
      ]
     },
     "execution_count": 7,
     "metadata": {},
     "output_type": "execute_result"
    }
   ],
   "source": [
    "X_train, y_train = aux[4]"
   ]
  },
  {
   "cell_type": "code",
   "execution_count": 8,
   "metadata": {
    "collapsed": true
   },
   "outputs": [],
   "source": [
    "X_train = Array{Float32}(X_train);"
   ]
  },
  {
   "cell_type": "code",
   "execution_count": 9,
   "metadata": {
    "collapsed": true
   },
   "outputs": [],
   "source": [
    "#X_train_sp = sparse(X_train);\n",
    "X_train_sp = SparseMatrixCSC{Float32,Int32}(Array{Int32}(X_train);)\n",
    "y_train[y_train.==-1] = 2\n",
    "y_train = Array{Int32}(y_train);"
   ]
  },
  {
   "cell_type": "code",
   "execution_count": 10,
   "metadata": {},
   "outputs": [
    {
     "data": {
      "text/plain": [
       "((195887,), (195887,))"
      ]
     },
     "execution_count": 10,
     "metadata": {},
     "output_type": "execute_result"
    }
   ],
   "source": [
    "size(X_train[:,1]), size(X_train_sp[:,1]),"
   ]
  },
  {
   "cell_type": "markdown",
   "metadata": {},
   "source": [
    "# Sparse operations vs dense"
   ]
  },
  {
   "cell_type": "code",
   "execution_count": 10,
   "metadata": {},
   "outputs": [
    {
     "data": {
      "text/plain": [
       "(SparseMatrixCSC{Float32,Int32}, Array{Float32,2})"
      ]
     },
     "execution_count": 10,
     "metadata": {},
     "output_type": "execute_result"
    }
   ],
   "source": [
    "typeof(X_train_sp), typeof(X_train)"
   ]
  },
  {
   "cell_type": "markdown",
   "metadata": {},
   "source": [
    "### Dense data and sparse weights"
   ]
  },
  {
   "cell_type": "code",
   "execution_count": 12,
   "metadata": {
    "scrolled": true
   },
   "outputs": [
    {
     "data": {
      "text/plain": [
       "(Array{Float32,2}, Array{Float32,1})"
      ]
     },
     "execution_count": 12,
     "metadata": {},
     "output_type": "execute_result"
    }
   ],
   "source": [
    "n_features = size(X_train)[1]\n",
    "percep = MulticlassPerceptron.MPerceptron(Float32, 2, n_features)\n",
    "typeof(percep.W), typeof(percep.b)"
   ]
  },
  {
   "cell_type": "code",
   "execution_count": 13,
   "metadata": {},
   "outputs": [
    {
     "data": {
      "text/plain": [
       "BenchmarkTools.Trial: \n",
       "  memory estimate:  765.47 KiB\n",
       "  allocs estimate:  5\n",
       "  --------------\n",
       "  minimum time:     167.029 μs (0.00% GC)\n",
       "  median time:      387.072 μs (0.00% GC)\n",
       "  mean time:        458.227 μs (16.97% GC)\n",
       "  maximum time:     4.817 ms (81.66% GC)\n",
       "  --------------\n",
       "  samples:          10000\n",
       "  evals/sample:     1"
      ]
     },
     "execution_count": 13,
     "metadata": {},
     "output_type": "execute_result"
    }
   ],
   "source": [
    "# Dense weights and dense data\n",
    "@benchmark percep.W'* X_train[:,1] + percep.b"
   ]
  },
  {
   "cell_type": "markdown",
   "metadata": {},
   "source": [
    "### Sparse data and sparse weights"
   ]
  },
  {
   "cell_type": "code",
   "execution_count": 14,
   "metadata": {},
   "outputs": [
    {
     "data": {
      "text/plain": [
       "(Array{Float32,2}, Array{Float32,1})"
      ]
     },
     "execution_count": 14,
     "metadata": {},
     "output_type": "execute_result"
    }
   ],
   "source": [
    "n_features = size(X_train)[1]\n",
    "percep = MulticlassPerceptron.MPerceptron(Float32, 2, n_features)\n",
    "typeof(percep.W), typeof(percep.b)"
   ]
  },
  {
   "cell_type": "code",
   "execution_count": 15,
   "metadata": {
    "collapsed": true
   },
   "outputs": [],
   "source": [
    "percep.W = sparse(percep.W)\n",
    "percep.b = sparse(percep.b);"
   ]
  },
  {
   "cell_type": "code",
   "execution_count": 16,
   "metadata": {},
   "outputs": [
    {
     "data": {
      "text/plain": [
       "BenchmarkTools.Trial: \n",
       "  memory estimate:  1.92 KiB\n",
       "  allocs estimate:  18\n",
       "  --------------\n",
       "  minimum time:     252.585 μs (0.00% GC)\n",
       "  median time:      272.165 μs (0.00% GC)\n",
       "  mean time:        314.771 μs (0.13% GC)\n",
       "  maximum time:     4.766 ms (85.36% GC)\n",
       "  --------------\n",
       "  samples:          10000\n",
       "  evals/sample:     1"
      ]
     },
     "execution_count": 16,
     "metadata": {},
     "output_type": "execute_result"
    }
   ],
   "source": [
    "# Sparse data, dense weights\n",
    "@benchmark percep.W'* X_train_sp[:,1] + percep.b"
   ]
  },
  {
   "cell_type": "markdown",
   "metadata": {},
   "source": [
    "### Benchmarking Perceptron learning dense weights and data"
   ]
  },
  {
   "cell_type": "code",
   "execution_count": 17,
   "metadata": {},
   "outputs": [
    {
     "data": {
      "text/plain": [
       "(Array{Float32,2}, Array{Float32,1}, Array{Float32,2})"
      ]
     },
     "execution_count": 17,
     "metadata": {},
     "output_type": "execute_result"
    }
   ],
   "source": [
    "n_features = size(X_train)[1]\n",
    "percep = MulticlassPerceptron.MPerceptron(Float32, 2, n_features)\n",
    "typeof(percep.W), typeof(percep.b), typeof(X_train)"
   ]
  },
  {
   "cell_type": "code",
   "execution_count": 18,
   "metadata": {},
   "outputs": [
    {
     "data": {
      "text/plain": [
       "BenchmarkTools.Trial: \n",
       "  memory estimate:  765.28 KiB\n",
       "  allocs estimate:  3\n",
       "  --------------\n",
       "  minimum time:     82.489 μs (0.00% GC)\n",
       "  median time:      204.954 μs (0.00% GC)\n",
       "  mean time:        278.918 μs (22.98% GC)\n",
       "  maximum time:     3.816 ms (75.97% GC)\n",
       "  --------------\n",
       "  samples:          10000\n",
       "  evals/sample:     1"
      ]
     },
     "execution_count": 18,
     "metadata": {},
     "output_type": "execute_result"
    }
   ],
   "source": [
    "@benchmark percep.W[:,2]"
   ]
  },
  {
   "cell_type": "code",
   "execution_count": 19,
   "metadata": {
    "scrolled": true
   },
   "outputs": [
    {
     "data": {
      "text/plain": [
       "BenchmarkTools.Trial: \n",
       "  memory estimate:  765.94 KiB\n",
       "  allocs estimate:  35\n",
       "  --------------\n",
       "  minimum time:     177.491 μs (0.00% GC)\n",
       "  median time:      348.252 μs (0.00% GC)\n",
       "  mean time:        398.303 μs (18.27% GC)\n",
       "  maximum time:     3.575 ms (77.02% GC)\n",
       "  --------------\n",
       "  samples:          10000\n",
       "  evals/sample:     1"
      ]
     },
     "execution_count": 19,
     "metadata": {},
     "output_type": "execute_result"
    }
   ],
   "source": [
    "m = 23\n",
    "y = y_train\n",
    "x = view(X_train,:,m)\n",
    "learning_rate  = Float32(0.1)\n",
    "@benchmark percep.W[:,2] .= percep.W[:, y[m]]  .+ learning_rate .* x"
   ]
  },
  {
   "cell_type": "code",
   "execution_count": 20,
   "metadata": {},
   "outputs": [
    {
     "data": {
      "text/plain": [
       "(Array{Float32,2}, Array{Float32,1}, Array{Float32,2}, Array{Float32,2})"
      ]
     },
     "execution_count": 20,
     "metadata": {},
     "output_type": "execute_result"
    }
   ],
   "source": [
    "typeof(percep.W), typeof(percep.b), typeof(X_train), typeof(X_train)"
   ]
  },
  {
   "cell_type": "code",
   "execution_count": 21,
   "metadata": {},
   "outputs": [
    {
     "name": "stdout",
     "output_type": "stream",
     "text": [
      "  3.799133 seconds (3.23 M allocations: 2.634 GiB, 9.80% gc time)\n"
     ]
    }
   ],
   "source": [
    "@time fit!(percep, X_train, y_train; \n",
    "           n_epochs=2, print_flag=true)"
   ]
  },
  {
   "cell_type": "markdown",
   "metadata": {},
   "source": [
    "### Benchmarking Perceptron learning with sparse weights and data"
   ]
  },
  {
   "cell_type": "code",
   "execution_count": 22,
   "metadata": {},
   "outputs": [
    {
     "data": {
      "text/plain": [
       "(SparseMatrixCSC{Float32,Int64}, SparseVector{Float32,Int64}, Array{Float32,2})"
      ]
     },
     "execution_count": 22,
     "metadata": {},
     "output_type": "execute_result"
    }
   ],
   "source": [
    "n_features = size(X_train_sp)[1]\n",
    "percep = MulticlassPerceptron.MPerceptron(Float32, 2, n_features)\n",
    "percep.W = sparse(percep.W)\n",
    "percep.b = sparse(percep.b)\n",
    "typeof(percep.W), typeof(percep.b), typeof(X_train)"
   ]
  },
  {
   "cell_type": "code",
   "execution_count": 23,
   "metadata": {},
   "outputs": [
    {
     "data": {
      "text/plain": [
       "(SparseMatrixCSC{Float32,Int64}, SparseMatrixCSC{Float32,Int32}, SparseVector{Float32,Int32})"
      ]
     },
     "execution_count": 23,
     "metadata": {},
     "output_type": "execute_result"
    }
   ],
   "source": [
    "typeof(percep.W), typeof(X_train_sp), typeof(X_train_sp[:,2])"
   ]
  },
  {
   "cell_type": "code",
   "execution_count": 24,
   "metadata": {},
   "outputs": [
    {
     "data": {
      "text/plain": [
       "BenchmarkTools.Trial: \n",
       "  memory estimate:  2.24 MiB\n",
       "  allocs estimate:  5\n",
       "  --------------\n",
       "  minimum time:     163.724 μs (0.00% GC)\n",
       "  median time:      550.886 μs (0.00% GC)\n",
       "  mean time:        958.576 μs (27.91% GC)\n",
       "  maximum time:     6.288 ms (60.80% GC)\n",
       "  --------------\n",
       "  samples:          5153\n",
       "  evals/sample:     1"
      ]
     },
     "execution_count": 24,
     "metadata": {},
     "output_type": "execute_result"
    }
   ],
   "source": [
    "@benchmark percep.W[:,2]"
   ]
  },
  {
   "cell_type": "code",
   "execution_count": 25,
   "metadata": {},
   "outputs": [
    {
     "data": {
      "text/plain": [
       "BenchmarkTools.Trial: \n",
       "  memory estimate:  2.24 MiB\n",
       "  allocs estimate:  37\n",
       "  --------------\n",
       "  minimum time:     22.656 ms (0.00% GC)\n",
       "  median time:      24.235 ms (0.00% GC)\n",
       "  mean time:        25.315 ms (1.05% GC)\n",
       "  maximum time:     38.853 ms (0.00% GC)\n",
       "  --------------\n",
       "  samples:          198\n",
       "  evals/sample:     1"
      ]
     },
     "execution_count": 25,
     "metadata": {},
     "output_type": "execute_result"
    }
   ],
   "source": [
    "m=23\n",
    "y = y_train\n",
    "x = view(X_train_sp,:,m)\n",
    "learning_rate  = Float32(0.1)\n",
    "@benchmark percep.W[:,2] .=percep.W[:, y[m]]  .+ learning_rate .* x"
   ]
  },
  {
   "cell_type": "code",
   "execution_count": 26,
   "metadata": {},
   "outputs": [
    {
     "name": "stdout",
     "output_type": "stream",
     "text": [
      "146.168707 seconds (2.03 M allocations: 860.671 MiB, 0.12% gc time)\n"
     ]
    }
   ],
   "source": [
    "@time fit!(percep, X_train_sp, y_train;\n",
    "           n_epochs=2, print_flag=true)"
   ]
  },
  {
   "cell_type": "markdown",
   "metadata": {},
   "source": [
    "#### Fast weights * data predictions\n",
    "\n",
    "\n",
    "How can we make the prediction ```h.w * x + h.b``` fast?\n",
    "\n",
    "- Can we have non sparse weights and sparse data fast prediccions?\n",
    "\n",
    "\n",
    "#### About storing sparse data as sparse matrix\n",
    "\n",
    "The data can is stored as \n",
    "```SparseMatrixCSC{Int16,Int64}```\n",
    "\n"
   ]
  },
  {
   "cell_type": "code",
   "execution_count": null,
   "metadata": {
    "collapsed": true
   },
   "outputs": [],
   "source": []
  }
 ],
 "metadata": {
  "anaconda-cloud": {},
  "kernelspec": {
   "display_name": "Julia 0.6.0-rc2",
   "language": "julia",
   "name": "julia-0.6"
  },
  "language_info": {
   "file_extension": ".jl",
   "mimetype": "application/julia",
   "name": "julia",
   "version": "0.6.0"
  }
 },
 "nbformat": 4,
 "nbformat_minor": 1
}
