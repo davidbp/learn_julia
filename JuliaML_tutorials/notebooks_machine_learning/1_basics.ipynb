{
 "cells": [
  {
   "cell_type": "markdown",
   "metadata": {},
   "source": [
    "# Basics of Machine learning in julia"
   ]
  },
  {
   "cell_type": "code",
   "execution_count": 1,
   "metadata": {},
   "outputs": [
    {
     "name": "stdout",
     "output_type": "stream",
     "text": [
      "Julia Version 0.6.0\n",
      "Commit 903644385b (2017-06-19 13:05 UTC)\n",
      "Platform Info:\n",
      "  OS: macOS (x86_64-apple-darwin13.4.0)\n",
      "  CPU: Intel(R) Xeon(R) CPU E5-1620 v2 @ 3.70GHz\n",
      "  WORD_SIZE: 64\n",
      "  BLAS: libopenblas (USE64BITINT DYNAMIC_ARCH NO_AFFINITY Sandybridge)\n",
      "  LAPACK: libopenblas64_\n",
      "  LIBM: libopenlibm\n",
      "  LLVM: libLLVM-3.9.1 (ORCJIT, ivybridge)\n"
     ]
    }
   ],
   "source": [
    "versioninfo()"
   ]
  },
  {
   "cell_type": "code",
   "execution_count": 2,
   "metadata": {},
   "outputs": [
    {
     "name": "stderr",
     "output_type": "stream",
     "text": [
      "\u001b[1m\u001b[36mINFO: \u001b[39m\u001b[22m\u001b[36mRecompiling stale cache file /Users/macpro/.julia/lib/v0.6/MLDataUtils.ji for module MLDataUtils.\n",
      "\u001b[39m"
     ]
    }
   ],
   "source": [
    "using MLDataUtils\n",
    "using MLDatasets"
   ]
  },
  {
   "cell_type": "markdown",
   "metadata": {},
   "source": [
    "##  Crosvalidation in DataUtils\n",
    "\n",
    "The function **`MLDataUtils.kfolds`** has been implemented with 3 different input types in mind\n",
    "\n",
    "- **`MLDataUtils.kfolds(Integer, K)`** \n",
    "- **`MLDataUtils.kfolds(Array, K)`**.\n",
    "- **`MLDataUtils.kfolds((Array,Array), K)`**.\n",
    "\n",
    "\n",
    "#### `MLDataUtils.kfolds(Integer, K)` \n",
    "\n",
    "- The first argument is an `integer`, it is assumed to be the number of examples.\n",
    "- The method will return a tple of Arrays. The first element in the tuple corresponds to `K` different arrays containing the indicies for training. The second element of the tuple corresponds to `K` differnt arrays containing the indicies for validation.\n",
    "\n",
    "```julia\n",
    "folds = MLDataUtils.kfolds(15, 5)\n",
    "\n",
    "typeof(folds)\n",
    "# Tuple{Array{Array{Int64,1},1},Array{UnitRange{Int64},1}}\n",
    "\n",
    "folds[1]\n",
    "#5-element Array{Array{Int64,1},1}:\n",
    "# [4, 5, 6, 7, 8, 9, 10, 11, 12, 13, 14, 15]\n",
    "# [1, 2, 3, 7, 8, 9, 10, 11, 12, 13, 14, 15]\n",
    "# [1, 2, 3, 4, 5, 6, 10, 11, 12, 13, 14, 15]\n",
    "# [1, 2, 3, 4, 5, 6, 7, 8, 9, 13, 14, 15]   \n",
    "# [1, 2, 3, 4, 5, 6, 7, 8, 9, 10, 11, 12]   \n",
    " \n",
    "folds[2]\n",
    "#5-element Array{UnitRange{Int64},1}:\n",
    "#1:3  \n",
    "#4:6  \n",
    "#7:9  \n",
    "#10:12\n",
    "#13:15\n",
    "```\n",
    "\n",
    "#### `MLDataUtils.kfolds(Array, K)` \n",
    "\n",
    "\n",
    "- The first argument is a subtype of `AbstractArray`, which is assumed to contain examples as columns.\n",
    "- The method will return views containing each of the folds.\n",
    "\n",
    "```julia\n",
    "X, Y = MLDataUtils.load_iris()\n",
    "folds = MLDataUtils.KFolds(X, 10)\n",
    "\n",
    "typeof(folds)\n",
    "# MLDataPattern.FoldsView{Tuple{SubArray{Float64,2,Array{Float64,2},Tuple{Base.Slice{Base.OneTo{Int64}},Array{Int64,1}},false},SubArray{Float64,2,Array{Float64,2},Tuple{Base.Slice{Base.OneTo{Int64}},UnitRange{Int64}},true}},Array{Float64,2},LearnBase.ObsDim.Last,Array{Array{Int64,1},1},Array{UnitRange{Int64},1}}\n",
    "\n",
    "for f in folds\n",
    "    println(size(f[1]), size(f[2]))\n",
    "end\n",
    "\n",
    "# (4, 120)(4, 30)\n",
    "# (4, 120)(4, 30)\n",
    "# (4, 120)(4, 30)\n",
    "# (4, 120)(4, 30)\n",
    "# (4, 120)(4, 30)\n",
    "```\n",
    "\n",
    "#### `MLDataUtils.kfolds( (Array, Array) K)` \n",
    "\n",
    "\n",
    "- The first argument is a tuple of two subtypes of AbstractArray.\n",
    "- The method will return views containing each of the folds.\n",
    "\n",
    "##### Summary\n",
    "\n",
    "If `folds = MLDataUtils.KFolds((X,Y), 10)`  then `folds[n_fold][n_tr_va][n_X_Y]` will return the fold specified by `n_fold` containing train or validation according to `n_tr_va` and the data or labels according to `n_X_Y`.\n",
    "\n",
    "Example with iris data\n",
    "\n",
    "\n",
    "```julia\n",
    "X, Y = MLDataUtils.load_iris()\n",
    "folds = MLDataUtils.KFolds((X,Y), 10)\n",
    "\n",
    "typeof(folds)\n",
    "# MLDataPattern.FoldsView{Tuple{Tuple{SubArray{Float64,2,Array{Float64,2},Tuple{Base.Slice{Base.OneTo{Int64}},Array{Int64,1}},false},SubArray{String,1,Array{String,1},Tuple{Array{Int64,1}},false}},Tuple{SubArray{Float64,2,Array{Float64,2},Tuple{Base.Slice{Base.OneTo{Int64}},UnitRange{Int64}},true},SubArray{String,1,Array{String,1},Tuple{UnitRange{Int64}},true}}},Tuple{Array{Float64,2},Array{String,1}},Tuple{LearnBase.ObsDim.Last,LearnBase.ObsDim.Last},Array{Array{Int64,1},1},Array{UnitRange{Int64},1}}\n",
    "\n",
    "for f in folds\n",
    "    println(size(f[1]), size(f[2]))\n",
    "end\n",
    "\n",
    "# (4, 120)(4, 30)\n",
    "# (4, 120)(4, 30)\n",
    "# (4, 120)(4, 30)\n",
    "# (4, 120)(4, 30)\n",
    "# (4, 120)(4, 30)\n",
    "\n",
    "\n",
    "# fold 1: train data\n",
    "folds[1][1][1]\n",
    "# 4×120 SubArray{Float64,2,Array{Float64,2},Tuple{Base.Slice{Base.OneTo{Int64}},Array{Int64,1}},false}:\n",
    "# 4.8  5.4  5.2  5.5  4.9  5.0  5.5  4.9  …  6.8  6.7  6.7  6.3  6.5  6.2  5.9\n",
    "# 3.1  3.4  4.1  4.2  3.1  3.2  3.5  3.6     3.2  3.3  3.0  2.5  3.0  3.4  3.0\n",
    "# 1.6  1.5  1.5  1.4  1.5  1.2  1.3  1.4     5.9  5.7  5.2  5.0  5.2  5.4  5.1\n",
    "# 0.2  0.4  0.1  0.2  0.2  0.2  0.2  0.1     2.3  2.5  2.3  1.9  2.0  2.3  1.8\n",
    "\n",
    "\n",
    "# fold 1: train labels\n",
    "folds[1][1][2]\n",
    "# 30-element SubArray{String,1,Array{String,1},Tuple{UnitRange{Int64}},true}:\n",
    "# \"setosa\"\n",
    "# \"setosa\"\n",
    "# \"setosa\"\n",
    " \n",
    " \n",
    "# fold 1: validation data\n",
    "folds[1][2][1]\n",
    "# 4×30 SubArray{Float64,2,Array{Float64,2},Tuple{Base.Slice{Base.OneTo{Int64}},UnitRange{Int64}},true}:\n",
    "# 5.1  4.9  4.7  4.6  5.0  5.4  4.6  5.0  …  5.1  4.8  5.0  5.0  5.2  5.2  4.7\n",
    "# 3.5  3.0  3.2  3.1  3.6  3.9  3.4  3.4     3.3  3.4  3.0  3.4  3.5  3.4  3.2\n",
    "# 1.4  1.4  1.3  1.5  1.4  1.7  1.4  1.5     1.7  1.9  1.6  1.6  1.5  1.4  1.6\n",
    "# 0.2  0.2  0.2  0.2  0.2  0.4  0.3  0.2     0.5  0.2  0.2  0.4  0.2  0.2  0.2\n",
    " \n",
    " \n",
    "# fold 1: validation labels\n",
    "folds[1][2][2]\n",
    "#30-element SubArray{String,1,Array{String,1},Tuple{UnitRange{Int64}},true}:\n",
    "# \"setosa\"\n",
    "# \"setosa\"\n",
    " \n",
    "```\n"
   ]
  },
  {
   "cell_type": "markdown",
   "metadata": {},
   "source": [
    "#### Example with `MLDataUtils.kfolds(Integer, K)` \n"
   ]
  },
  {
   "cell_type": "code",
   "execution_count": 3,
   "metadata": {},
   "outputs": [
    {
     "data": {
      "text/plain": [
       "5-element Array{Array{Int64,1},1}:\n",
       " [4, 5, 6, 7, 8, 9, 10, 11, 12, 13, 14, 15]\n",
       " [1, 2, 3, 7, 8, 9, 10, 11, 12, 13, 14, 15]\n",
       " [1, 2, 3, 4, 5, 6, 10, 11, 12, 13, 14, 15]\n",
       " [1, 2, 3, 4, 5, 6, 7, 8, 9, 13, 14, 15]   \n",
       " [1, 2, 3, 4, 5, 6, 7, 8, 9, 10, 11, 12]   "
      ]
     },
     "execution_count": 3,
     "metadata": {},
     "output_type": "execute_result"
    }
   ],
   "source": [
    "folds = MLDataUtils.kfolds(15, 5)\n",
    "folds[1]"
   ]
  },
  {
   "cell_type": "code",
   "execution_count": 4,
   "metadata": {},
   "outputs": [
    {
     "data": {
      "text/plain": [
       "Tuple{Array{Array{Int64,1},1},Array{UnitRange{Int64},1}}"
      ]
     },
     "execution_count": 4,
     "metadata": {},
     "output_type": "execute_result"
    }
   ],
   "source": [
    "typeof(folds)"
   ]
  },
  {
   "cell_type": "code",
   "execution_count": 5,
   "metadata": {
    "collapsed": true
   },
   "outputs": [],
   "source": [
    "#size(folds) doesn't work since its tuple, must write size(folds,2)"
   ]
  },
  {
   "cell_type": "code",
   "execution_count": 6,
   "metadata": {
    "scrolled": true
   },
   "outputs": [
    {
     "data": {
      "text/plain": [
       "5-element Array{UnitRange{Int64},1}:\n",
       " 1:3  \n",
       " 4:6  \n",
       " 7:9  \n",
       " 10:12\n",
       " 13:15"
      ]
     },
     "execution_count": 6,
     "metadata": {},
     "output_type": "execute_result"
    }
   ],
   "source": [
    "folds[2]"
   ]
  },
  {
   "cell_type": "markdown",
   "metadata": {},
   "source": [
    "\n",
    "#### Example with **`MLDataUtils.kfolds(Array, K)`** "
   ]
  },
  {
   "cell_type": "code",
   "execution_count": 7,
   "metadata": {
    "collapsed": true
   },
   "outputs": [],
   "source": [
    "X, Y = MLDataUtils.load_iris();\n",
    "folds = kfolds(X,5);"
   ]
  },
  {
   "cell_type": "code",
   "execution_count": 8,
   "metadata": {},
   "outputs": [
    {
     "data": {
      "text/plain": [
       "5-element FoldsView(::Array{Float64,2}, ::Array{Array{Int64,1},1}, ::Array{UnitRange{Int64},1}, ObsDim.Last()) with element type Tuple{SubArray{Float64,2,Array{Float64,2},Tuple{Base.Slice{Base.OneTo{Int64}},Array{Int64,1}},false},SubArray{Float64,2,Array{Float64,2},Tuple{Base.Slice{Base.OneTo{Int64}},UnitRange{Int64}},true}}:\n",
       " ([4.8 5.4 … 6.2 5.9; 3.1 3.4 … 3.4 3.0; 1.6 1.5 … 5.4 5.1; 0.2 0.4 … 2.3 1.8], [5.1 4.9 … 5.2 4.7; 3.5 3.0 … 3.4 3.2; 1.4 1.4 … 1.4 1.6; 0.2 0.2 … 0.2 0.2])\n",
       " ([5.1 4.9 … 6.2 5.9; 3.5 3.0 … 3.4 3.0; 1.4 1.4 … 5.4 5.1; 0.2 0.2 … 2.3 1.8], [4.8 5.4 … 6.6 5.2; 3.1 3.4 … 2.9 2.7; 1.6 1.5 … 4.6 3.9; 0.2 0.4 … 1.3 1.4])\n",
       " ([5.1 4.9 … 6.2 5.9; 3.5 3.0 … 3.4 3.0; 1.4 1.4 … 5.4 5.1; 0.2 0.2 … 2.3 1.8], [5.0 5.9 … 5.6 5.5; 2.0 3.0 … 3.0 2.5; 3.5 4.2 … 4.1 4.0; 1.0 1.5 … 1.3 1.3])\n",
       " ([5.1 4.9 … 6.2 5.9; 3.5 3.0 … 3.4 3.0; 1.4 1.4 … 5.4 5.1; 0.2 0.2 … 2.3 1.8], [5.5 6.1 … 7.7 6.0; 2.6 3.0 … 2.6 2.2; 4.4 4.6 … 6.9 5.0; 1.2 1.4 … 2.3 1.5])\n",
       " ([5.1 4.9 … 7.7 6.0; 3.5 3.0 … 2.6 2.2; 1.4 1.4 … 6.9 5.0; 0.2 0.2 … 2.3 1.5], [6.9 5.6 … 6.2 5.9; 3.2 2.8 … 3.4 3.0; 5.7 4.9 … 5.4 5.1; 2.3 2.0 … 2.3 1.8])"
      ]
     },
     "execution_count": 8,
     "metadata": {},
     "output_type": "execute_result"
    }
   ],
   "source": [
    "folds"
   ]
  },
  {
   "cell_type": "code",
   "execution_count": 9,
   "metadata": {},
   "outputs": [
    {
     "data": {
      "text/plain": [
       "MLDataPattern.FoldsView{Tuple{SubArray{Float64,2,Array{Float64,2},Tuple{Base.Slice{Base.OneTo{Int64}},Array{Int64,1}},false},SubArray{Float64,2,Array{Float64,2},Tuple{Base.Slice{Base.OneTo{Int64}},UnitRange{Int64}},true}},Array{Float64,2},LearnBase.ObsDim.Last,Array{Array{Int64,1},1},Array{UnitRange{Int64},1}}"
      ]
     },
     "execution_count": 9,
     "metadata": {},
     "output_type": "execute_result"
    }
   ],
   "source": [
    "typeof(folds)"
   ]
  },
  {
   "cell_type": "code",
   "execution_count": 10,
   "metadata": {},
   "outputs": [
    {
     "data": {
      "text/plain": [
       "(5,)"
      ]
     },
     "execution_count": 10,
     "metadata": {},
     "output_type": "execute_result"
    }
   ],
   "source": [
    "size(folds)"
   ]
  },
  {
   "cell_type": "code",
   "execution_count": 11,
   "metadata": {},
   "outputs": [
    {
     "data": {
      "text/plain": [
       "4×30 SubArray{Float64,2,Array{Float64,2},Tuple{Base.Slice{Base.OneTo{Int64}},UnitRange{Int64}},true}:\n",
       " 5.1  4.9  4.7  4.6  5.0  5.4  4.6  5.0  …  5.1  4.8  5.0  5.0  5.2  5.2  4.7\n",
       " 3.5  3.0  3.2  3.1  3.6  3.9  3.4  3.4     3.3  3.4  3.0  3.4  3.5  3.4  3.2\n",
       " 1.4  1.4  1.3  1.5  1.4  1.7  1.4  1.5     1.7  1.9  1.6  1.6  1.5  1.4  1.6\n",
       " 0.2  0.2  0.2  0.2  0.2  0.4  0.3  0.2     0.5  0.2  0.2  0.4  0.2  0.2  0.2"
      ]
     },
     "execution_count": 11,
     "metadata": {},
     "output_type": "execute_result"
    }
   ],
   "source": [
    "folds[1][2]"
   ]
  },
  {
   "cell_type": "code",
   "execution_count": 12,
   "metadata": {},
   "outputs": [
    {
     "data": {
      "text/plain": [
       "4×30 SubArray{Float64,2,Array{Float64,2},Tuple{Base.Slice{Base.OneTo{Int64}},UnitRange{Int64}},true}:\n",
       " 5.1  4.9  4.7  4.6  5.0  5.4  4.6  5.0  …  5.1  4.8  5.0  5.0  5.2  5.2  4.7\n",
       " 3.5  3.0  3.2  3.1  3.6  3.9  3.4  3.4     3.3  3.4  3.0  3.4  3.5  3.4  3.2\n",
       " 1.4  1.4  1.3  1.5  1.4  1.7  1.4  1.5     1.7  1.9  1.6  1.6  1.5  1.4  1.6\n",
       " 0.2  0.2  0.2  0.2  0.2  0.4  0.3  0.2     0.5  0.2  0.2  0.4  0.2  0.2  0.2"
      ]
     },
     "execution_count": 12,
     "metadata": {},
     "output_type": "execute_result"
    }
   ],
   "source": [
    "folds[1][2]"
   ]
  },
  {
   "cell_type": "code",
   "execution_count": 13,
   "metadata": {},
   "outputs": [
    {
     "name": "stdout",
     "output_type": "stream",
     "text": [
      "(4, 120)(4, 30)\n",
      "(4, 120)(4, 30)\n",
      "(4, 120)(4, 30)\n",
      "(4, 120)(4, 30)\n",
      "(4, 120)(4, 30)\n"
     ]
    }
   ],
   "source": [
    "for f in folds\n",
    "    println(size(f[1]), size(f[2]))\n",
    "end"
   ]
  },
  {
   "cell_type": "markdown",
   "metadata": {},
   "source": [
    "#### Example with **`MLDataUtils.kfolds((Array,Array), K)`** "
   ]
  },
  {
   "cell_type": "code",
   "execution_count": 14,
   "metadata": {
    "collapsed": true
   },
   "outputs": [],
   "source": [
    "folds = kfolds((X, Y), 5);"
   ]
  },
  {
   "cell_type": "code",
   "execution_count": 15,
   "metadata": {},
   "outputs": [
    {
     "data": {
      "text/plain": [
       "MLDataPattern.FoldsView{Tuple{Tuple{SubArray{Float64,2,Array{Float64,2},Tuple{Base.Slice{Base.OneTo{Int64}},Array{Int64,1}},false},SubArray{String,1,Array{String,1},Tuple{Array{Int64,1}},false}},Tuple{SubArray{Float64,2,Array{Float64,2},Tuple{Base.Slice{Base.OneTo{Int64}},UnitRange{Int64}},true},SubArray{String,1,Array{String,1},Tuple{UnitRange{Int64}},true}}},Tuple{Array{Float64,2},Array{String,1}},Tuple{LearnBase.ObsDim.Last,LearnBase.ObsDim.Last},Array{Array{Int64,1},1},Array{UnitRange{Int64},1}}"
      ]
     },
     "execution_count": 15,
     "metadata": {},
     "output_type": "execute_result"
    }
   ],
   "source": [
    "typeof(folds)"
   ]
  },
  {
   "cell_type": "code",
   "execution_count": 16,
   "metadata": {},
   "outputs": [
    {
     "data": {
      "text/plain": [
       "(5,)"
      ]
     },
     "execution_count": 16,
     "metadata": {},
     "output_type": "execute_result"
    }
   ],
   "source": [
    "size(folds)"
   ]
  },
  {
   "cell_type": "code",
   "execution_count": 17,
   "metadata": {},
   "outputs": [
    {
     "name": "stdout",
     "output_type": "stream",
     "text": [
      "(4, 120)(120,)\n",
      "(4, 120)(120,)\n",
      "(4, 120)(120,)\n",
      "(4, 120)(120,)\n",
      "(4, 120)(120,)\n"
     ]
    }
   ],
   "source": [
    "for f in folds\n",
    "    println(size(f[1][1]), size(f[1][2]))\n",
    "end"
   ]
  },
  {
   "cell_type": "code",
   "execution_count": 18,
   "metadata": {
    "collapsed": true
   },
   "outputs": [],
   "source": [
    "# fold 1: train data\n",
    "folds[1][1][1];"
   ]
  },
  {
   "cell_type": "code",
   "execution_count": 19,
   "metadata": {
    "collapsed": true
   },
   "outputs": [],
   "source": [
    "# fold 1: train labels\n",
    "folds[1][1][2];"
   ]
  },
  {
   "cell_type": "code",
   "execution_count": 20,
   "metadata": {
    "collapsed": true
   },
   "outputs": [],
   "source": [
    "# fold 1: validation data\n",
    "folds[1][2][1];"
   ]
  },
  {
   "cell_type": "code",
   "execution_count": 21,
   "metadata": {
    "collapsed": true
   },
   "outputs": [],
   "source": [
    "# fold 1: validation labels\n",
    "folds[1][2][2];"
   ]
  },
  {
   "cell_type": "markdown",
   "metadata": {},
   "source": [
    "# Example MNIST"
   ]
  },
  {
   "cell_type": "code",
   "execution_count": 22,
   "metadata": {},
   "outputs": [
    {
     "name": "stdout",
     "output_type": "stream",
     "text": [
      "(784, 60000)\n",
      "(784, 10000)\n"
     ]
    }
   ],
   "source": [
    "train_data, train_labels = MNIST.traindata()\n",
    "train_data = reshape(train_data,784,60000);\n",
    "\n",
    "test_data, test_labels = MNIST.testdata()\n",
    "test_data = reshape(test_data,784,10000);\n",
    "\n",
    "#### Encoding class labels from 1 to n_classes\n",
    "train_labels .= train_labels .+ 1 ;\n",
    "test_labels .= test_labels .+ 1 ;\n",
    "\n",
    "println(size(train_data))\n",
    "println(size(test_data))"
   ]
  },
  {
   "cell_type": "code",
   "execution_count": 23,
   "metadata": {},
   "outputs": [
    {
     "data": {
      "text/plain": [
       "10"
      ]
     },
     "execution_count": 23,
     "metadata": {},
     "output_type": "execute_result"
    }
   ],
   "source": [
    "n_samples = size(train_data,2)\n",
    "n_features = size(train_data,1)\n",
    "n_folds = 10\n",
    "n_classes = 10"
   ]
  },
  {
   "cell_type": "markdown",
   "metadata": {},
   "source": [
    "\n",
    "The following examples use views to avoid copying the data K times (one per fold). This makes the CV process much more manageble when de data is big compared to the number of threads in the machine divided by the amount of available RAM.\n",
    "\n"
   ]
  },
  {
   "cell_type": "code",
   "execution_count": 24,
   "metadata": {},
   "outputs": [
    {
     "data": {
      "text/plain": [
       "Float64"
      ]
     },
     "execution_count": 24,
     "metadata": {},
     "output_type": "execute_result"
    }
   ],
   "source": [
    "eltype_data = eltype(train_data)"
   ]
  },
  {
   "cell_type": "markdown",
   "metadata": {},
   "source": [
    "### Using `kfolds(n_samples, n_folds)`\n",
    "\n"
   ]
  },
  {
   "cell_type": "code",
   "execution_count": 25,
   "metadata": {},
   "outputs": [
    {
     "data": {
      "text/plain": [
       "Perceptron{Float64}(n_classes=10, n_features=784)"
      ]
     },
     "execution_count": 25,
     "metadata": {},
     "output_type": "execute_result"
    }
   ],
   "source": [
    "path_to_perceptron =\"../MulticlassPerceptron/source/\"\n",
    "push!(LOAD_PATH, path_to_perceptron)\n",
    "using MulticlassPerceptron\n",
    "percep = MulticlassPerceptron.MPerceptron(eltype_data, n_classes, n_features)"
   ]
  },
  {
   "cell_type": "code",
   "execution_count": 26,
   "metadata": {},
   "outputs": [
    {
     "data": {
      "text/plain": [
       "(Array{Int64,1}[[6001, 6002, 6003, 6004, 6005, 6006, 6007, 6008, 6009, 6010  …  59991, 59992, 59993, 59994, 59995, 59996, 59997, 59998, 59999, 60000], [1, 2, 3, 4, 5, 6, 7, 8, 9, 10  …  59991, 59992, 59993, 59994, 59995, 59996, 59997, 59998, 59999, 60000], [1, 2, 3, 4, 5, 6, 7, 8, 9, 10  …  59991, 59992, 59993, 59994, 59995, 59996, 59997, 59998, 59999, 60000], [1, 2, 3, 4, 5, 6, 7, 8, 9, 10  …  59991, 59992, 59993, 59994, 59995, 59996, 59997, 59998, 59999, 60000], [1, 2, 3, 4, 5, 6, 7, 8, 9, 10  …  59991, 59992, 59993, 59994, 59995, 59996, 59997, 59998, 59999, 60000], [1, 2, 3, 4, 5, 6, 7, 8, 9, 10  …  59991, 59992, 59993, 59994, 59995, 59996, 59997, 59998, 59999, 60000], [1, 2, 3, 4, 5, 6, 7, 8, 9, 10  …  59991, 59992, 59993, 59994, 59995, 59996, 59997, 59998, 59999, 60000], [1, 2, 3, 4, 5, 6, 7, 8, 9, 10  …  59991, 59992, 59993, 59994, 59995, 59996, 59997, 59998, 59999, 60000], [1, 2, 3, 4, 5, 6, 7, 8, 9, 10  …  59991, 59992, 59993, 59994, 59995, 59996, 59997, 59998, 59999, 60000], [1, 2, 3, 4, 5, 6, 7, 8, 9, 10  …  53991, 53992, 53993, 53994, 53995, 53996, 53997, 53998, 53999, 54000]], UnitRange{Int64}[1:6000, 6001:12000, 12001:18000, 18001:24000, 24001:30000, 30001:36000, 36001:42000, 42001:48000, 48001:54000, 54001:60000])"
      ]
     },
     "execution_count": 26,
     "metadata": {},
     "output_type": "execute_result"
    }
   ],
   "source": [
    "# What the folds print is not very understandable\n",
    "folds = MLDataUtils.kfolds(n_samples, n_folds)"
   ]
  },
  {
   "cell_type": "code",
   "execution_count": 27,
   "metadata": {},
   "outputs": [
    {
     "data": {
      "text/plain": [
       "10-element Array{Array{Int64,1},1}:\n",
       " [6001, 6002, 6003, 6004, 6005, 6006, 6007, 6008, 6009, 6010  …  59991, 59992, 59993, 59994, 59995, 59996, 59997, 59998, 59999, 60000]\n",
       " [1, 2, 3, 4, 5, 6, 7, 8, 9, 10  …  59991, 59992, 59993, 59994, 59995, 59996, 59997, 59998, 59999, 60000]                             \n",
       " [1, 2, 3, 4, 5, 6, 7, 8, 9, 10  …  59991, 59992, 59993, 59994, 59995, 59996, 59997, 59998, 59999, 60000]                             \n",
       " [1, 2, 3, 4, 5, 6, 7, 8, 9, 10  …  59991, 59992, 59993, 59994, 59995, 59996, 59997, 59998, 59999, 60000]                             \n",
       " [1, 2, 3, 4, 5, 6, 7, 8, 9, 10  …  59991, 59992, 59993, 59994, 59995, 59996, 59997, 59998, 59999, 60000]                             \n",
       " [1, 2, 3, 4, 5, 6, 7, 8, 9, 10  …  59991, 59992, 59993, 59994, 59995, 59996, 59997, 59998, 59999, 60000]                             \n",
       " [1, 2, 3, 4, 5, 6, 7, 8, 9, 10  …  59991, 59992, 59993, 59994, 59995, 59996, 59997, 59998, 59999, 60000]                             \n",
       " [1, 2, 3, 4, 5, 6, 7, 8, 9, 10  …  59991, 59992, 59993, 59994, 59995, 59996, 59997, 59998, 59999, 60000]                             \n",
       " [1, 2, 3, 4, 5, 6, 7, 8, 9, 10  …  59991, 59992, 59993, 59994, 59995, 59996, 59997, 59998, 59999, 60000]                             \n",
       " [1, 2, 3, 4, 5, 6, 7, 8, 9, 10  …  53991, 53992, 53993, 53994, 53995, 53996, 53997, 53998, 53999, 54000]                             "
      ]
     },
     "execution_count": 27,
     "metadata": {},
     "output_type": "execute_result"
    }
   ],
   "source": [
    "# WHy is this and array of arrays and folds[2] an array of unit ranges?\n",
    "folds[1]"
   ]
  },
  {
   "cell_type": "code",
   "execution_count": 28,
   "metadata": {},
   "outputs": [
    {
     "data": {
      "text/plain": [
       "10-element Array{UnitRange{Int64},1}:\n",
       " 1:6000     \n",
       " 6001:12000 \n",
       " 12001:18000\n",
       " 18001:24000\n",
       " 24001:30000\n",
       " 30001:36000\n",
       " 36001:42000\n",
       " 42001:48000\n",
       " 48001:54000\n",
       " 54001:60000"
      ]
     },
     "execution_count": 28,
     "metadata": {},
     "output_type": "execute_result"
    }
   ],
   "source": [
    "folds[2]"
   ]
  },
  {
   "cell_type": "code",
   "execution_count": 29,
   "metadata": {},
   "outputs": [
    {
     "name": "stdout",
     "output_type": "stream",
     "text": [
      "Fold: 1\n",
      "train acc: 0.8759074074074074\n",
      "valid acc: 0.871\n",
      "Fold: 2\n",
      "train acc: 0.8769814814814815\n",
      "valid acc: 0.8635\n",
      "Fold: 3\n",
      "train acc: 0.8844444444444445\n",
      "valid acc: 0.8588333333333333\n",
      "Fold: 4\n",
      "train acc: 0.8857777777777778\n",
      "valid acc: 0.8858333333333334\n",
      "Fold: 5\n",
      "train acc: 0.8840370370370371\n",
      "valid acc: 0.8668333333333333\n",
      "Fold: 6\n",
      "train acc: 0.8887037037037037\n",
      "valid acc: 0.866\n",
      "Fold: 7\n",
      "train acc: 0.8636296296296296\n",
      "valid acc: 0.8493333333333334\n",
      "Fold: 8\n",
      "train acc: 0.8778518518518519\n",
      "valid acc: 0.8588333333333333\n",
      "Fold: 9\n",
      "train acc: 0.888962962962963\n",
      "valid acc: 0.8696666666666667\n",
      "Fold: 10\n",
      "train acc: 0.8827777777777778\n",
      "valid acc: 0.8923333333333333\n"
     ]
    }
   ],
   "source": [
    "y_signal_placeholder = zeros(n_classes)\n",
    "fold_results = Array([])\n",
    "\n",
    "for n_fold in 1:n_folds\n",
    "    \n",
    "    println(\"Fold: \",n_fold)\n",
    "    X_tr_view = view(train_data, :, folds[1][n_fold])\n",
    "    y_tr_view = view(train_labels,  folds[1][n_fold])\n",
    "    X_va_view = view(train_data, :, folds[2][n_fold])\n",
    "    y_va_view = view(train_labels,  folds[2][n_fold])\n",
    "    \n",
    "    percep = MulticlassPerceptron.MPerceptron(eltype_data, n_classes, n_features)\n",
    "    \n",
    "    MulticlassPerceptron.fit!(percep, X_tr_view, y_tr_view;\n",
    "                              n_epochs=15, print_flag=true)\n",
    "    \n",
    "    # Evaluate\n",
    "    y_tr_hat = Array([])\n",
    "    @inbounds for m in 1:size(X_tr_view,2)\n",
    "       push!(y_tr_hat, MulticlassPerceptron.predict(percep, view(X_tr_view, :, m)))   \n",
    "    end\n",
    "    acc_tr = accuracy(y_tr_hat, y_tr_view)\n",
    "    println(\"train acc: \", acc_tr)\n",
    "\n",
    "    y_va_hat = Array([])\n",
    "    @inbounds for m in 1:size(X_va_view,2)\n",
    "       push!(y_va_hat, MulticlassPerceptron.predict(percep, view(X_va_view, :, m)))   \n",
    "    end\n",
    "    acc_va = accuracy(y_va_hat, y_va_view)\n",
    "    println(\"valid acc: \", acc_va)\n",
    "    \n",
    "    push!(fold_results, (acc_tr, acc_va))\n",
    "    \n",
    "end"
   ]
  },
  {
   "cell_type": "markdown",
   "metadata": {},
   "source": [
    "### Using `kfolds((X,Y), n_folds)`\n"
   ]
  },
  {
   "cell_type": "code",
   "execution_count": 30,
   "metadata": {},
   "outputs": [
    {
     "data": {
      "text/plain": [
       "0-element Array{Any,1}"
      ]
     },
     "execution_count": 30,
     "metadata": {},
     "output_type": "execute_result"
    }
   ],
   "source": [
    "y_signal_placeholder = zeros(n_classes)\n",
    "fold_results = Array([])"
   ]
  },
  {
   "cell_type": "code",
   "execution_count": 31,
   "metadata": {
    "scrolled": false
   },
   "outputs": [
    {
     "name": "stdout",
     "output_type": "stream",
     "text": [
      "Fold: 1Epoch: 2 \t Accuracy: 0.878\n",
      "train acc: 0.8915555555555555\n",
      "valid acc: 0.8873333333333333\n",
      "Fold: 2\n",
      "train acc: 0.8769814814814815\n",
      "valid acc: 0.8635\n",
      "Fold: 3\n",
      "train acc: 0.8844444444444445\n",
      "valid acc: 0.8588333333333333\n",
      "Fold: 4\n",
      "train acc: 0.8857777777777778\n",
      "valid acc: 0.8858333333333334\n",
      "Fold: 5\n",
      "train acc: 0.8840370370370371\n",
      "valid acc: 0.8668333333333333\n",
      "Fold: 6\n",
      "train acc: 0.8887037037037037\n",
      "valid acc: 0.866\n",
      "Fold: 7\n",
      "train acc: 0.8636296296296296\n",
      "valid acc: 0.8493333333333334\n",
      "Fold: 8\n",
      "train acc: 0.8778518518518519\n",
      "valid acc: 0.8588333333333333\n",
      "Fold: 9\n",
      "train acc: 0.888962962962963\n",
      "valid acc: 0.8696666666666667\n",
      "Fold: 10\n",
      "train acc: 0.8827777777777778\n",
      "valid acc: 0.8923333333333333\n"
     ]
    }
   ],
   "source": [
    "y_signal_placeholder = zeros(n_classes)\n",
    "fold_results = Array([])\n",
    "\n",
    "n_fold = 0\n",
    "for ((X_tr, y_tr), (X_va, y_va)) in kfolds((train_data, train_labels); k = 10)\n",
    "    n_fold += 1 \n",
    "    println(\"Fold: \", n_fold)\n",
    "    \n",
    "    percep = MulticlassPerceptron.MPerceptron(eltype_data, n_classes, n_features)\n",
    "    MulticlassPerceptron.fit!(percep, X_tr, y_tr;\n",
    "                              n_epochs=15, print_flag=true)\n",
    "    \n",
    "    # Evaluate\n",
    "    y_tr_hat = Array([])\n",
    "    @inbounds for m in 1:size(X_tr,2)\n",
    "        push!(y_tr_hat, MulticlassPerceptron.predict(percep, X_tr[:, m]))   \n",
    "    end\n",
    "    acc_tr = accuracy(y_tr_hat, y_tr)\n",
    "    println(\"train acc: \", acc_tr)\n",
    "\n",
    "    y_va_hat = Array([])\n",
    "    @inbounds for m in 1:size(X_va,2)\n",
    "       push!(y_va_hat, MulticlassPerceptron.predict(percep, X_va[:, m]))   \n",
    "    end\n",
    "    acc_va = accuracy(y_va_hat, y_va)\n",
    "    println(\"valid acc: \", acc_va)\n",
    "    \n",
    "    push!(fold_results, (acc_tr, acc_va))\n",
    "    \n",
    "end"
   ]
  },
  {
   "cell_type": "markdown",
   "metadata": {},
   "source": [
    "# Crossvalidation using map"
   ]
  },
  {
   "cell_type": "code",
   "execution_count": 32,
   "metadata": {
    "collapsed": true
   },
   "outputs": [],
   "source": [
    "X_tr_folds = kfolds(train_data ; k = 10);\n",
    "y_tr_folds = kfolds(train_labels ; k = 10);"
   ]
  },
  {
   "cell_type": "code",
   "execution_count": 33,
   "metadata": {
    "scrolled": false
   },
   "outputs": [
    {
     "data": {
      "text/plain": [
       "((784, 54000), (784, 6000))"
      ]
     },
     "execution_count": 33,
     "metadata": {},
     "output_type": "execute_result"
    }
   ],
   "source": [
    "size(X_tr_folds[1][1]),size(X_tr_folds[1][2])"
   ]
  },
  {
   "cell_type": "code",
   "execution_count": 34,
   "metadata": {},
   "outputs": [
    {
     "data": {
      "text/plain": [
       "((54000,), (6000,))"
      ]
     },
     "execution_count": 34,
     "metadata": {},
     "output_type": "execute_result"
    }
   ],
   "source": [
    "size(y_tr_folds[1][1]),size(y_tr_folds[1][2])"
   ]
  },
  {
   "cell_type": "code",
   "execution_count": 35,
   "metadata": {},
   "outputs": [
    {
     "data": {
      "text/plain": [
       "train_evaluate (generic function with 1 method)"
      ]
     },
     "execution_count": 35,
     "metadata": {},
     "output_type": "execute_result"
    }
   ],
   "source": [
    "function train_evaluate(model, X_fold, y_fold)\n",
    "    \n",
    "    MulticlassPerceptron.fit!(model, X_fold[1], y_fold[1];\n",
    "                              n_epochs=15, print_flag=true)\n",
    "    \n",
    "    # Evaluate\n",
    "    y_tr_hat = Array([])\n",
    "    @inbounds for m in 1:size(X_fold[1],2)\n",
    "       push!(y_tr_hat, MulticlassPerceptron.predict(model, X_fold[1][:, m]))   \n",
    "    end\n",
    "    acc_tr = accuracy(y_tr_hat, y_fold[1])\n",
    "    println(\"train acc: \", acc_tr)\n",
    "\n",
    "    y_va_hat = Array([])\n",
    "    @inbounds for m in 1:size(X_fold[2],2)\n",
    "       push!(y_va_hat, MulticlassPerceptron.predict(model,  X_fold[2][:, m]))   \n",
    "    end\n",
    "    acc_va = accuracy(y_va_hat, y_fold[2])\n",
    "    println(\"valid acc: \", acc_va)\n",
    "    \n",
    "    return (acc_tr, acc_va) \n",
    "end"
   ]
  },
  {
   "cell_type": "code",
   "execution_count": 36,
   "metadata": {
    "scrolled": true
   },
   "outputs": [
    {
     "data": {
      "text/plain": [
       "10-element Array{MulticlassPerceptron.MPerceptron{Float64},1}:\n",
       " Perceptron{Float64}(n_classes=10, n_features=784)\n",
       " Perceptron{Float64}(n_classes=10, n_features=784)\n",
       " Perceptron{Float64}(n_classes=10, n_features=784)\n",
       " Perceptron{Float64}(n_classes=10, n_features=784)\n",
       " Perceptron{Float64}(n_classes=10, n_features=784)\n",
       " Perceptron{Float64}(n_classes=10, n_features=784)\n",
       " Perceptron{Float64}(n_classes=10, n_features=784)\n",
       " Perceptron{Float64}(n_classes=10, n_features=784)\n",
       " Perceptron{Float64}(n_classes=10, n_features=784)\n",
       " Perceptron{Float64}(n_classes=10, n_features=784)"
      ]
     },
     "execution_count": 36,
     "metadata": {},
     "output_type": "execute_result"
    }
   ],
   "source": [
    "# We can create K copies of the model, one per fold, and train all of them \n",
    "models = [percep for i in 1:10]"
   ]
  },
  {
   "cell_type": "code",
   "execution_count": 37,
   "metadata": {},
   "outputs": [
    {
     "name": "stdout",
     "output_type": "stream",
     "text": [
      "train acc: 0.8850555555555556\n",
      "valid acc: 0.881\n",
      "train acc: 0.8817222222222222\n",
      "valid acc: 0.868\n",
      "train acc: 0.9086296296296297\n",
      "valid acc: 0.8811666666666667\n",
      "train acc: 0.8794259259259259\n",
      "valid acc: 0.8791666666666667\n",
      "train acc: 0.8805555555555555\n",
      "valid acc: 0.8678333333333333\n",
      "train acc: 0.889racy: 0.904\n",
      "valid acc: 0.8658333333333333\n",
      "train acc: 0.8836666666666667\n",
      "valid acc: 0.8706666666666667\n",
      "train acc: 0.8920370370370371\n",
      "valid acc: 0.8731666666666666\n",
      "train acc: 0.8765555555555555\n",
      "valid acc: 0.8606666666666667\n",
      "train acc: 0.867574074074074\n",
      "valid acc: 0.8823333333333333\n",
      " 56.514634 seconds (105.90 M allocations: 16.093 GiB, 4.21% gc time)\n"
     ]
    },
    {
     "data": {
      "text/plain": [
       "10-element Array{Tuple{Float64,Float64},1}:\n",
       " (0.885056, 0.881)   \n",
       " (0.881722, 0.868)   \n",
       " (0.90863, 0.881167) \n",
       " (0.879426, 0.879167)\n",
       " (0.880556, 0.867833)\n",
       " (0.889, 0.865833)   \n",
       " (0.883667, 0.870667)\n",
       " (0.892037, 0.873167)\n",
       " (0.876556, 0.860667)\n",
       " (0.867574, 0.882333)"
      ]
     },
     "execution_count": 37,
     "metadata": {},
     "output_type": "execute_result"
    }
   ],
   "source": [
    "@time cvresults = map(train_evaluate, models, X_tr_folds, y_tr_folds)"
   ]
  },
  {
   "cell_type": "markdown",
   "metadata": {},
   "source": [
    "# Crossvalidation using pmap"
   ]
  },
  {
   "cell_type": "code",
   "execution_count": 38,
   "metadata": {},
   "outputs": [
    {
     "data": {
      "text/plain": [
       "1"
      ]
     },
     "execution_count": 38,
     "metadata": {},
     "output_type": "execute_result"
    }
   ],
   "source": [
    "nprocs()"
   ]
  },
  {
   "cell_type": "code",
   "execution_count": 39,
   "metadata": {},
   "outputs": [
    {
     "data": {
      "text/plain": [
       "8-element Array{Int64,1}:\n",
       " 2\n",
       " 3\n",
       " 4\n",
       " 5\n",
       " 6\n",
       " 7\n",
       " 8\n",
       " 9"
      ]
     },
     "execution_count": 39,
     "metadata": {},
     "output_type": "execute_result"
    }
   ],
   "source": [
    "addprocs()"
   ]
  },
  {
   "cell_type": "code",
   "execution_count": 40,
   "metadata": {},
   "outputs": [
    {
     "data": {
      "text/plain": [
       "9"
      ]
     },
     "execution_count": 40,
     "metadata": {},
     "output_type": "execute_result"
    }
   ],
   "source": [
    "nprocs()"
   ]
  },
  {
   "cell_type": "code",
   "execution_count": 41,
   "metadata": {
    "collapsed": true
   },
   "outputs": [],
   "source": [
    "@everywhere function train_evaluate(model, X_fold, y_fold)\n",
    "    \n",
    "    MulticlassPerceptron.fit!(model, X_fold[1], y_fold[1];\n",
    "                              n_epochs=15, print_flag=true)\n",
    "    \n",
    "    # Evaluate\n",
    "    y_tr_hat = Array([])\n",
    "    @inbounds for m in 1:size(X_fold[1],2)\n",
    "       push!(y_tr_hat, MulticlassPerceptron.predict(model, X_fold[1][:, m]))   \n",
    "    end\n",
    "    acc_tr = accuracy(y_tr_hat, y_fold[1])\n",
    "    println(\"train acc: \", acc_tr)\n",
    "\n",
    "    y_va_hat = Array([])\n",
    "    @inbounds for m in 1:size(X_fold[2],2)\n",
    "       push!(y_va_hat, MulticlassPerceptron.predict(model,  X_fold[2][:, m]))   \n",
    "    end\n",
    "    acc_va = accuracy(y_va_hat, y_fold[2])\n",
    "    println(\"valid acc: \", acc_va)\n",
    "    \n",
    "    return (acc_tr, acc_va) \n",
    "end\n",
    "\n",
    "@everywhere using MulticlassPerceptron"
   ]
  },
  {
   "cell_type": "code",
   "execution_count": 42,
   "metadata": {},
   "outputs": [
    {
     "name": "stdout",
     "output_type": "stream",
     "text": [
      "train acc: 0.904962962962963ccuracy: 0.901\n",
      "\tFrom worker 2:\tvalid acc: 0.8991666666666667\n",
      "train acc: 0.8894814814814814curacy: 0.9\n",
      "train acc: 0.8736666666666667curacy: 0.903\n",
      "train acc: 0.8825acy: 0.902Accuracy: 0.902\n",
      "train acc: 0.8837592592592592curacy: 0.904\n",
      "\tFrom worker 3:\tvalid acc: 0.8785\n",
      "\tFrom worker 8:\tvalid acc: 0.8601666666666666\n",
      "\tFrom worker 5:\tvalid acc: 0.8791666666666667\n",
      "train acc: 0.8808888888888889curacy: 0.902\n",
      "\tFrom worker 9:\tvalid acc: 0.8635\n",
      "\tFrom worker 4:\tvalid acc: 0.8648333333333333\n",
      "train acc: 0.8897592592592592curacy: 0.901\n",
      "\tFrom worker 6:\tvalid acc: 0.88\n",
      "train acc: 0.8932222222222223curacy: 0.902\n",
      "\tFrom worker 7:\tvalid acc: 0.8701666666666666\n",
      "train acc: 0.907962962962963ccuracy: 0.902\n",
      "\tFrom worker 2:\tvalid acc: 0.8856666666666667\n",
      "train acc: 0.8780185185185185curacy: 0.901\n",
      "\tFrom worker 3:\tvalid acc: 0.8853333333333333\n",
      " 25.583078 seconds (1.18 M allocations: 3.583 GiB, 3.66% gc time)\n"
     ]
    },
    {
     "data": {
      "text/plain": [
       "10-element Array{Tuple{Float64,Float64},1}:\n",
       " (0.904963, 0.899167)\n",
       " (0.889481, 0.8785)  \n",
       " (0.883759, 0.864833)\n",
       " (0.8825, 0.879167)  \n",
       " (0.889759, 0.88)    \n",
       " (0.893222, 0.870167)\n",
       " (0.873667, 0.860167)\n",
       " (0.880889, 0.8635)  \n",
       " (0.907963, 0.885667)\n",
       " (0.878019, 0.885333)"
      ]
     },
     "execution_count": 42,
     "metadata": {},
     "output_type": "execute_result"
    }
   ],
   "source": [
    "@time cvresults = pmap(train_evaluate, models, X_tr_folds, y_tr_folds)"
   ]
  },
  {
   "cell_type": "markdown",
   "metadata": {},
   "source": [
    "# Saving model to disc"
   ]
  },
  {
   "cell_type": "code",
   "execution_count": 43,
   "metadata": {
    "collapsed": true
   },
   "outputs": [],
   "source": [
    "using JLD"
   ]
  },
  {
   "cell_type": "code",
   "execution_count": null,
   "metadata": {
    "collapsed": true
   },
   "outputs": [],
   "source": []
  },
  {
   "cell_type": "code",
   "execution_count": null,
   "metadata": {
    "collapsed": true
   },
   "outputs": [],
   "source": []
  },
  {
   "cell_type": "code",
   "execution_count": null,
   "metadata": {
    "collapsed": true
   },
   "outputs": [],
   "source": []
  },
  {
   "cell_type": "code",
   "execution_count": null,
   "metadata": {
    "collapsed": true
   },
   "outputs": [],
   "source": []
  },
  {
   "cell_type": "code",
   "execution_count": null,
   "metadata": {
    "collapsed": true
   },
   "outputs": [],
   "source": []
  },
  {
   "cell_type": "markdown",
   "metadata": {},
   "source": [
    "# Comments/Stuff to consider"
   ]
  },
  {
   "cell_type": "code",
   "execution_count": null,
   "metadata": {
    "collapsed": true
   },
   "outputs": [],
   "source": []
  },
  {
   "cell_type": "code",
   "execution_count": 44,
   "metadata": {},
   "outputs": [
    {
     "data": {
      "text/plain": [
       "2-element Array{Int64,1}:\n",
       " 1\n",
       " 2"
      ]
     },
     "execution_count": 44,
     "metadata": {},
     "output_type": "execute_result"
    }
   ],
   "source": [
    "fieldnames(folds)"
   ]
  },
  {
   "cell_type": "code",
   "execution_count": 45,
   "metadata": {},
   "outputs": [
    {
     "ename": "LoadError",
     "evalue": "\u001b[91mtype Tuple has no field data\u001b[39m",
     "output_type": "error",
     "traceback": [
      "\u001b[91mtype Tuple has no field data\u001b[39m",
      ""
     ]
    }
   ],
   "source": [
    "folds.data"
   ]
  },
  {
   "cell_type": "markdown",
   "metadata": {},
   "source": [
    "#### Shouldn't a FoldsView be an array of Fold types? Now it's a type containing tuples\n",
    "\n",
    "- Have a fold type  with `train_fold/validation_fold` field to make the code more readable.\n",
    "```\n",
    "X_fold[1] -> X_vold.tr_fold\n",
    "X_fold[2] -> X_vold.va_fold\n",
    "```\n",
    "\n"
   ]
  },
  {
   "cell_type": "markdown",
   "metadata": {},
   "source": [
    "#### Make Prints of a FoldsView more understandable \n",
    "\n",
    "\n",
    "Example with iris data does not seem very understandable\n",
    "\n",
    "```julia\n",
    "X_iris, Y_iris = MLDataUtils.load_iris()\n",
    "folds = kfolds(X_iris)\n",
    "```\n",
    "```\n",
    "5-element FoldsView(::Array{Float64,2}, ::Array{Array{Int64,1},1}, ::Array{UnitRange{Int64},1}, ObsDim.Last()) with element type Tuple{SubArray{Float64,2,Array{Float64,2},Tuple{Base.Slice{Base.OneTo{Int64}},Array{Int64,1}},false},SubArray{Float64,2,Array{Float64,2},Tuple{Base.Slice{Base.OneTo{Int64}},UnitRange{Int64}},true}}:\n",
    " ([4.8 5.4 … 6.2 5.9; 3.1 3.4 … 3.4 3.0; 1.6 1.5 … 5.4 5.1; 0.2 0.4 … 2.3 1.8], [5.1 4.9 … 5.2  4.7; 3.5 3.0 … 3.4 3.2; 1.4 1.4 … 1.4 1.6; 0.2 0.2 … 0.2 0.2])\n",
    " ([5.1 4.9 … 6.2 5.9; 3.5 3.0 … 3.4 3.0; 1.4 1.4 … 5.4 5.1; 0.2 0.2 … 2.3 1.8], [4.8 5.4 … 6.6  5.2; 3.1 3.4 … 2.9 2.7; 1.6 1.5 … 4.6 3.9; 0.2 0.4 … 1.3 1.4])\n",
    " ([5.1 4.9 … 6.2 5.9; 3.5 3.0 … 3.4 3.0; 1.4 1.4 … 5.4 5.1; 0.2 0.2 … 2.3 1.8], [5.0 5.9 … 5.6 5.5; 2.0 3.0 … 3.0 2.5; 3.5 4.2 … 4.1 4.0; 1.0 1.5 … 1.3 1.3])\n",
    " ([5.1 4.9 … 6.2 5.9; 3.5 3.0 … 3.4 3.0; 1.4 1.4 … 5.4 5.1; 0.2 0.2 … 2.3 1.8], [5.5 6.1 … 7.7  6.0; 2.6 3.0 … 2.6 2.2; 4.4 4.6 … 6.9 5.0; 1.2 1.4 … 2.3 1.5])\n",
    " ([5.1 4.9 … 7.7 6.0; 3.5 3.0 … 2.6 2.2; 1.4 1.4 … 6.9 5.0; 0.2 0.2 … 2.3 1.5], [6.9 5.6 … 6.2 5.9; 3.2 2.8 … 3.4 3.0; 5.7 4.9 … 5.4 5.1; 2.3 2.0 … 2.3 1.8])\n",
    "```\n",
    "\n",
    "Maybe if it printed something like...\n",
    "\n",
    "```\n",
    "MLDataPattern.FoldsView{data=X_iris, n_samples=150, n_folds=10, tr_sizes = (4,135), va_sizes = (4,15)}\n",
    "```\n",
    "\n",
    "\n",
    "When we ask for a type we get\n",
    "```julia\n",
    "typeof(folds)\n",
    "```\n",
    "``` \n",
    "MLDataPattern.FoldsView{Tuple{SubArray{Float64,2,Array{Float64,2},Tuple{Base.Slice{Base.OneTo{Int64}},Array{Int64,1}},false},SubArray{Float64,2,Array{Float64,2},Tuple{Base.Slice{Base.OneTo{Int64}},UnitRange{Int64}},true}},Array{Float64,2},LearnBase.ObsDim.Last,Array{Array{Int64,1},1},Array{UnitRange{Int64},1}}\n",
    "```\n",
    "\n",
    "\n",
    "\n",
    "would give us an overview of the crosvalidation procedure with interesting information\n",
    "\n",
    "- There are `n_samples`(we can detect easily if we gave a transposed matrix), \n",
    "- There are `n_folds` \n",
    "- Sizes of the train and validation folds\n",
    "\n",
    "\n",
    "\n"
   ]
  },
  {
   "cell_type": "code",
   "execution_count": 46,
   "metadata": {},
   "outputs": [
    {
     "data": {
      "text/plain": [
       "([5.1 4.9 … 6.2 5.9; 3.5 3.0 … 3.4 3.0; 1.4 1.4 … 5.4 5.1; 0.2 0.2 … 2.3 1.8], String[\"setosa\", \"setosa\", \"setosa\", \"setosa\", \"setosa\", \"setosa\", \"setosa\", \"setosa\", \"setosa\", \"setosa\"  …  \"virginica\", \"virginica\", \"virginica\", \"virginica\", \"virginica\", \"virginica\", \"virginica\", \"virginica\", \"virginica\", \"virginica\"], String[\"Sepal length\", \"Sepal width\", \"Petal length\", \"Petal width\"])"
      ]
     },
     "execution_count": 46,
     "metadata": {},
     "output_type": "execute_result"
    }
   ],
   "source": [
    "X_iris, Y_iris = MLDataUtils.load_iris()"
   ]
  },
  {
   "cell_type": "code",
   "execution_count": 47,
   "metadata": {},
   "outputs": [
    {
     "data": {
      "text/plain": [
       "10-element FoldsView(::Array{Float64,2}, ::Array{Array{Int64,1},1}, ::Array{UnitRange{Int64},1}, ObsDim.Last()) with element type Tuple{SubArray{Float64,2,Array{Float64,2},Tuple{Base.Slice{Base.OneTo{Int64}},Array{Int64,1}},false},SubArray{Float64,2,Array{Float64,2},Tuple{Base.Slice{Base.OneTo{Int64}},UnitRange{Int64}},true}}:\n",
       " ([5.7 5.4 … 6.2 5.9; 4.4 3.9 … 3.4 3.0; 1.5 1.3 … 5.4 5.1; 0.4 0.4 … 2.3 1.8], [5.1 4.9 … 4.3 5.8; 3.5 3.0 … 3.0 4.0; 1.4 1.4 … 1.1 1.2; 0.2 0.2 … 0.1 0.2])\n",
       " ([5.1 4.9 … 6.2 5.9; 3.5 3.0 … 3.4 3.0; 1.4 1.4 … 5.4 5.1; 0.2 0.2 … 2.3 1.8], [5.7 5.4 … 5.2 4.7; 4.4 3.9 … 3.4 3.2; 1.5 1.3 … 1.4 1.6; 0.4 0.4 … 0.2 0.2])\n",
       " ([5.1 4.9 … 6.2 5.9; 3.5 3.0 … 3.4 3.0; 1.4 1.4 … 5.4 5.1; 0.2 0.2 … 2.3 1.8], [4.8 5.4 … 5.0 5.1; 3.1 3.4 … 3.5 3.8; 1.6 1.5 … 1.6 1.9; 0.2 0.4 … 0.6 0.4])\n",
       " ([5.1 4.9 … 6.2 5.9; 3.5 3.0 … 3.4 3.0; 1.4 1.4 … 5.4 5.1; 0.2 0.2 … 2.3 1.8], [4.8 5.1 … 6.6 5.2; 3.0 3.8 … 2.9 2.7; 1.4 1.6 … 4.6 3.9; 0.3 0.2 … 1.3 1.4])\n",
       " ([5.1 4.9 … 6.2 5.9; 3.5 3.0 … 3.4 3.0; 1.4 1.4 … 5.4 5.1; 0.2 0.2 … 2.3 1.8], [5.0 5.9 … 6.1 6.4; 2.0 3.0 … 2.8 2.9; 3.5 4.2 … 4.7 4.3; 1.0 1.5 … 1.2 1.3])\n",
       " ([5.1 4.9 … 6.2 5.9; 3.5 3.0 … 3.4 3.0; 1.4 1.4 … 5.4 5.1; 0.2 0.2 … 2.3 1.8], [6.6 6.8 … 5.6 5.5; 3.0 2.8 … 3.0 2.5; 4.4 4.8 … 4.1 4.0; 1.4 1.4 … 1.3 1.3])\n",
       " ([5.1 4.9 … 6.2 5.9; 3.5 3.0 … 3.4 3.0; 1.4 1.4 … 5.4 5.1; 0.2 0.2 … 2.3 1.8], [5.5 6.1 … 6.3 6.5; 2.6 3.0 … 2.9 3.0; 4.4 4.6 … 5.6 5.8; 1.2 1.4 … 1.8 2.2])\n",
       " ([5.1 4.9 … 6.2 5.9; 3.5 3.0 … 3.4 3.0; 1.4 1.4 … 5.4 5.1; 0.2 0.2 … 2.3 1.8], [7.6 4.9 … 7.7 6.0; 3.0 2.5 … 2.6 2.2; 6.6 4.5 … 6.9 5.0; 2.1 1.7 … 2.3 1.5])\n",
       " ([5.1 4.9 … 6.2 5.9; 3.5 3.0 … 3.4 3.0; 1.4 1.4 … 5.4 5.1; 0.2 0.2 … 2.3 1.8], [6.9 5.6 … 6.3 6.1; 3.2 2.8 … 2.8 2.6; 5.7 4.9 … 5.1 5.6; 2.3 2.0 … 1.5 1.4])\n",
       " ([5.1 4.9 … 6.3 6.1; 3.5 3.0 … 2.8 2.6; 1.4 1.4 … 5.1 5.6; 0.2 0.2 … 1.5 1.4], [7.7 6.3 … 6.2 5.9; 3.0 3.4 … 3.4 3.0; 6.1 5.6 … 5.4 5.1; 2.3 2.4 … 2.3 1.8])"
      ]
     },
     "execution_count": 47,
     "metadata": {},
     "output_type": "execute_result"
    }
   ],
   "source": [
    "iris_folds = kfolds(X_iris,10)"
   ]
  },
  {
   "cell_type": "code",
   "execution_count": 48,
   "metadata": {},
   "outputs": [
    {
     "data": {
      "text/plain": [
       "4×150 Array{Float64,2}:\n",
       " 5.1  4.9  4.7  4.6  5.0  5.4  4.6  5.0  …  6.8  6.7  6.7  6.3  6.5  6.2  5.9\n",
       " 3.5  3.0  3.2  3.1  3.6  3.9  3.4  3.4     3.2  3.3  3.0  2.5  3.0  3.4  3.0\n",
       " 1.4  1.4  1.3  1.5  1.4  1.7  1.4  1.5     5.9  5.7  5.2  5.0  5.2  5.4  5.1\n",
       " 0.2  0.2  0.2  0.2  0.2  0.4  0.3  0.2     2.3  2.5  2.3  1.9  2.0  2.3  1.8"
      ]
     },
     "execution_count": 48,
     "metadata": {},
     "output_type": "execute_result"
    }
   ],
   "source": [
    "iris_folds.data"
   ]
  },
  {
   "cell_type": "code",
   "execution_count": 49,
   "metadata": {},
   "outputs": [
    {
     "ename": "LoadError",
     "evalue": "\u001b[91mtype Tuple has no field data\u001b[39m",
     "output_type": "error",
     "traceback": [
      "\u001b[91mtype Tuple has no field data\u001b[39m",
      ""
     ]
    }
   ],
   "source": [
    "size(folds.data,2)"
   ]
  },
  {
   "cell_type": "code",
   "execution_count": 50,
   "metadata": {},
   "outputs": [
    {
     "ename": "LoadError",
     "evalue": "\u001b[91mtype Tuple has no field train_indices\u001b[39m",
     "output_type": "error",
     "traceback": [
      "\u001b[91mtype Tuple has no field train_indices\u001b[39m",
      ""
     ]
    }
   ],
   "source": [
    "size(folds.train_indices)"
   ]
  },
  {
   "cell_type": "code",
   "execution_count": 51,
   "metadata": {},
   "outputs": [
    {
     "ename": "LoadError",
     "evalue": "\u001b[91mtype Tuple has no field train_indices\u001b[39m",
     "output_type": "error",
     "traceback": [
      "\u001b[91mtype Tuple has no field train_indices\u001b[39m",
      ""
     ]
    }
   ],
   "source": [
    "size(folds.train_indices[1])"
   ]
  },
  {
   "cell_type": "code",
   "execution_count": 52,
   "metadata": {},
   "outputs": [
    {
     "data": {
      "text/plain": [
       "((54000,), (54000,))"
      ]
     },
     "execution_count": 52,
     "metadata": {},
     "output_type": "execute_result"
    }
   ],
   "source": [
    "size(folds[1][1]), size(folds[1][2])"
   ]
  },
  {
   "cell_type": "code",
   "execution_count": 53,
   "metadata": {
    "collapsed": true
   },
   "outputs": [],
   "source": [
    "using Base\n",
    "function Base.show(io::IO, fv::FoldsView)\n",
    "    name_array = fv.dataArray\n",
    "    n_samples  = size(fv.data, 2)\n",
    "    n_folds = size(fv.train_indices)\n",
    "    tr_sizes = size(folds[1])\n",
    "    va_sizes = size(folds[2])\n",
    "    print(io, \"FoldsView(data=name_array ,n_samples=$n_samples, n_folds=$n_folds, tr_sizes=$tr_sizes, va_sizes=$va_sizes ) \")\n",
    "end\n"
   ]
  },
  {
   "cell_type": "code",
   "execution_count": 54,
   "metadata": {
    "collapsed": true
   },
   "outputs": [],
   "source": [
    "f  = kfolds(train_data ; k = 10);"
   ]
  },
  {
   "cell_type": "code",
   "execution_count": 55,
   "metadata": {},
   "outputs": [
    {
     "data": {
      "text/plain": [
       "784×60000 Array{Float64,2}:\n",
       " 0.0  0.0  0.0  0.0  0.0  0.0  0.0  0.0  …  0.0  0.0  0.0  0.0  0.0  0.0  0.0\n",
       " 0.0  0.0  0.0  0.0  0.0  0.0  0.0  0.0     0.0  0.0  0.0  0.0  0.0  0.0  0.0\n",
       " 0.0  0.0  0.0  0.0  0.0  0.0  0.0  0.0     0.0  0.0  0.0  0.0  0.0  0.0  0.0\n",
       " 0.0  0.0  0.0  0.0  0.0  0.0  0.0  0.0     0.0  0.0  0.0  0.0  0.0  0.0  0.0\n",
       " 0.0  0.0  0.0  0.0  0.0  0.0  0.0  0.0     0.0  0.0  0.0  0.0  0.0  0.0  0.0\n",
       " 0.0  0.0  0.0  0.0  0.0  0.0  0.0  0.0  …  0.0  0.0  0.0  0.0  0.0  0.0  0.0\n",
       " 0.0  0.0  0.0  0.0  0.0  0.0  0.0  0.0     0.0  0.0  0.0  0.0  0.0  0.0  0.0\n",
       " 0.0  0.0  0.0  0.0  0.0  0.0  0.0  0.0     0.0  0.0  0.0  0.0  0.0  0.0  0.0\n",
       " 0.0  0.0  0.0  0.0  0.0  0.0  0.0  0.0     0.0  0.0  0.0  0.0  0.0  0.0  0.0\n",
       " 0.0  0.0  0.0  0.0  0.0  0.0  0.0  0.0     0.0  0.0  0.0  0.0  0.0  0.0  0.0\n",
       " 0.0  0.0  0.0  0.0  0.0  0.0  0.0  0.0  …  0.0  0.0  0.0  0.0  0.0  0.0  0.0\n",
       " 0.0  0.0  0.0  0.0  0.0  0.0  0.0  0.0     0.0  0.0  0.0  0.0  0.0  0.0  0.0\n",
       " 0.0  0.0  0.0  0.0  0.0  0.0  0.0  0.0     0.0  0.0  0.0  0.0  0.0  0.0  0.0\n",
       " ⋮                        ⋮              ⋱            ⋮                      \n",
       " 0.0  0.0  0.0  0.0  0.0  0.0  0.0  0.0     0.0  0.0  0.0  0.0  0.0  0.0  0.0\n",
       " 0.0  0.0  0.0  0.0  0.0  0.0  0.0  0.0     0.0  0.0  0.0  0.0  0.0  0.0  0.0\n",
       " 0.0  0.0  0.0  0.0  0.0  0.0  0.0  0.0     0.0  0.0  0.0  0.0  0.0  0.0  0.0\n",
       " 0.0  0.0  0.0  0.0  0.0  0.0  0.0  0.0  …  0.0  0.0  0.0  0.0  0.0  0.0  0.0\n",
       " 0.0  0.0  0.0  0.0  0.0  0.0  0.0  0.0     0.0  0.0  0.0  0.0  0.0  0.0  0.0\n",
       " 0.0  0.0  0.0  0.0  0.0  0.0  0.0  0.0     0.0  0.0  0.0  0.0  0.0  0.0  0.0\n",
       " 0.0  0.0  0.0  0.0  0.0  0.0  0.0  0.0     0.0  0.0  0.0  0.0  0.0  0.0  0.0\n",
       " 0.0  0.0  0.0  0.0  0.0  0.0  0.0  0.0     0.0  0.0  0.0  0.0  0.0  0.0  0.0\n",
       " 0.0  0.0  0.0  0.0  0.0  0.0  0.0  0.0  …  0.0  0.0  0.0  0.0  0.0  0.0  0.0\n",
       " 0.0  0.0  0.0  0.0  0.0  0.0  0.0  0.0     0.0  0.0  0.0  0.0  0.0  0.0  0.0\n",
       " 0.0  0.0  0.0  0.0  0.0  0.0  0.0  0.0     0.0  0.0  0.0  0.0  0.0  0.0  0.0\n",
       " 0.0  0.0  0.0  0.0  0.0  0.0  0.0  0.0     0.0  0.0  0.0  0.0  0.0  0.0  0.0"
      ]
     },
     "execution_count": 55,
     "metadata": {},
     "output_type": "execute_result"
    }
   ],
   "source": [
    "f.data"
   ]
  },
  {
   "cell_type": "code",
   "execution_count": 56,
   "metadata": {},
   "outputs": [
    {
     "data": {
      "text/plain": [
       "10-element FoldsView(::Array{Float64,2}, ::Array{Array{Int64,1},1}, ::Array{UnitRange{Int64},1}, ObsDim.Last()) with element type Tuple{SubArray{Float64,2,Array{Float64,2},Tuple{Base.Slice{Base.OneTo{Int64}},Array{Int64,1}},false},SubArray{Float64,2,Array{Float64,2},Tuple{Base.Slice{Base.OneTo{Int64}},UnitRange{Int64}},true}}:\n",
       " ([0.0 0.0 … 0.0 0.0; 0.0 0.0 … 0.0 0.0; … ; 0.0 0.0 … 0.0 0.0; 0.0 0.0 … 0.0 0.0], [0.0 0.0 … 0.0 0.0; 0.0 0.0 … 0.0 0.0; … ; 0.0 0.0 … 0.0 0.0; 0.0 0.0 … 0.0 0.0])\n",
       " ([0.0 0.0 … 0.0 0.0; 0.0 0.0 … 0.0 0.0; … ; 0.0 0.0 … 0.0 0.0; 0.0 0.0 … 0.0 0.0], [0.0 0.0 … 0.0 0.0; 0.0 0.0 … 0.0 0.0; … ; 0.0 0.0 … 0.0 0.0; 0.0 0.0 … 0.0 0.0])\n",
       " ([0.0 0.0 … 0.0 0.0; 0.0 0.0 … 0.0 0.0; … ; 0.0 0.0 … 0.0 0.0; 0.0 0.0 … 0.0 0.0], [0.0 0.0 … 0.0 0.0; 0.0 0.0 … 0.0 0.0; … ; 0.0 0.0 … 0.0 0.0; 0.0 0.0 … 0.0 0.0])\n",
       " ([0.0 0.0 … 0.0 0.0; 0.0 0.0 … 0.0 0.0; … ; 0.0 0.0 … 0.0 0.0; 0.0 0.0 … 0.0 0.0], [0.0 0.0 … 0.0 0.0; 0.0 0.0 … 0.0 0.0; … ; 0.0 0.0 … 0.0 0.0; 0.0 0.0 … 0.0 0.0])\n",
       " ([0.0 0.0 … 0.0 0.0; 0.0 0.0 … 0.0 0.0; … ; 0.0 0.0 … 0.0 0.0; 0.0 0.0 … 0.0 0.0], [0.0 0.0 … 0.0 0.0; 0.0 0.0 … 0.0 0.0; … ; 0.0 0.0 … 0.0 0.0; 0.0 0.0 … 0.0 0.0])\n",
       " ([0.0 0.0 … 0.0 0.0; 0.0 0.0 … 0.0 0.0; … ; 0.0 0.0 … 0.0 0.0; 0.0 0.0 … 0.0 0.0], [0.0 0.0 … 0.0 0.0; 0.0 0.0 … 0.0 0.0; … ; 0.0 0.0 … 0.0 0.0; 0.0 0.0 … 0.0 0.0])\n",
       " ([0.0 0.0 … 0.0 0.0; 0.0 0.0 … 0.0 0.0; … ; 0.0 0.0 … 0.0 0.0; 0.0 0.0 … 0.0 0.0], [0.0 0.0 … 0.0 0.0; 0.0 0.0 … 0.0 0.0; … ; 0.0 0.0 … 0.0 0.0; 0.0 0.0 … 0.0 0.0])\n",
       " ([0.0 0.0 … 0.0 0.0; 0.0 0.0 … 0.0 0.0; … ; 0.0 0.0 … 0.0 0.0; 0.0 0.0 … 0.0 0.0], [0.0 0.0 … 0.0 0.0; 0.0 0.0 … 0.0 0.0; … ; 0.0 0.0 … 0.0 0.0; 0.0 0.0 … 0.0 0.0])\n",
       " ([0.0 0.0 … 0.0 0.0; 0.0 0.0 … 0.0 0.0; … ; 0.0 0.0 … 0.0 0.0; 0.0 0.0 … 0.0 0.0], [0.0 0.0 … 0.0 0.0; 0.0 0.0 … 0.0 0.0; … ; 0.0 0.0 … 0.0 0.0; 0.0 0.0 … 0.0 0.0])\n",
       " ([0.0 0.0 … 0.0 0.0; 0.0 0.0 … 0.0 0.0; … ; 0.0 0.0 … 0.0 0.0; 0.0 0.0 … 0.0 0.0], [0.0 0.0 … 0.0 0.0; 0.0 0.0 … 0.0 0.0; … ; 0.0 0.0 … 0.0 0.0; 0.0 0.0 … 0.0 0.0])"
      ]
     },
     "execution_count": 56,
     "metadata": {},
     "output_type": "execute_result"
    }
   ],
   "source": [
    "f"
   ]
  },
  {
   "cell_type": "code",
   "execution_count": 57,
   "metadata": {},
   "outputs": [
    {
     "data": {
      "text/plain": [
       "MLDataPattern.FoldsView{Tuple{SubArray{Float64,2,Array{Float64,2},Tuple{Base.Slice{Base.OneTo{Int64}},Array{Int64,1}},false},SubArray{Float64,2,Array{Float64,2},Tuple{Base.Slice{Base.OneTo{Int64}},UnitRange{Int64}},true}},Array{Float64,2},LearnBase.ObsDim.Last,Array{Array{Int64,1},1},Array{UnitRange{Int64},1}}"
      ]
     },
     "execution_count": 57,
     "metadata": {},
     "output_type": "execute_result"
    }
   ],
   "source": [
    "X, Y = MLDataUtils.load_iris()\n",
    "folds = MLDataUtils.kfolds(X, 10)\n",
    "\n",
    "typeof(folds)\n",
    "# MLDataPattern.FoldsView{Tuple{Tuple{SubArray{Float64,2,Array{Float64,2},Tuple{Base.Slice{Base.OneTo{Int64}},Array{Int64,1}},false},SubArray{String,1,Array{String,1},Tuple{Array{Int64,1}},false}},Tuple{SubArray{Float64,2,Array{Float64,2},Tuple{Base.Slice{Base.OneTo{Int64}},UnitRange{Int64}},true},SubArray{String,1,Array{String,1},Tuple{UnitRange{Int64}},true}}},Tuple{Array{Float64,2},Array{String,1}},Tuple{LearnBase.ObsDim.Last,LearnBase.ObsDim.Last},Array{Array{Int64,1},1},Array{UnitRange{Int64},1}\n"
   ]
  },
  {
   "cell_type": "code",
   "execution_count": 58,
   "metadata": {},
   "outputs": [
    {
     "data": {
      "text/plain": [
       "Tuple{SubArray{Float64,2,Array{Float64,2},Tuple{Base.Slice{Base.OneTo{Int64}},Array{Int64,1}},false},SubArray{Float64,2,Array{Float64,2},Tuple{Base.Slice{Base.OneTo{Int64}},UnitRange{Int64}},true}}"
      ]
     },
     "execution_count": 58,
     "metadata": {},
     "output_type": "execute_result"
    }
   ],
   "source": [
    "typeof(folds[1])"
   ]
  },
  {
   "cell_type": "markdown",
   "metadata": {},
   "source": [
    "#### How could we extend the KFold type  ...\n",
    "\n",
    "Maybe a KFold type could contain fieldnames for ``train_results`` and ``validation_results`` as well as the metric used.\n",
    "\n",
    "``train_results`` and ``validation_results`` could start by defualt with empty arrays which would be occupied once the CV is done.\n",
    "\n",
    "Another way could be to add a type to keep that info organized. Such a ``FoldsResults``\n",
    " type."
   ]
  },
  {
   "cell_type": "code",
   "execution_count": 59,
   "metadata": {
    "collapsed": true
   },
   "outputs": [],
   "source": [
    "type FoldsResults\n",
    "    metric::Function\n",
    "    train_results::Array\n",
    "    validation_results::Array\n",
    "end"
   ]
  },
  {
   "cell_type": "code",
   "execution_count": 60,
   "metadata": {},
   "outputs": [
    {
     "data": {
      "text/plain": [
       "FoldsResults(MulticlassPerceptron.accuracy, [0.891556, 0.876981, 0.884444, 0.885778, 0.884037, 0.888704, 0.86363, 0.877852, 0.888963, 0.882778], [0.887333, 0.8635, 0.858833, 0.885833, 0.866833, 0.866, 0.849333, 0.858833, 0.869667, 0.892333])"
      ]
     },
     "execution_count": 60,
     "metadata": {},
     "output_type": "execute_result"
    }
   ],
   "source": [
    "fold_res = FoldsResults(accuracy, [x[1] for x in fold_results],  [x[2] for x in fold_results])"
   ]
  },
  {
   "cell_type": "code",
   "execution_count": 61,
   "metadata": {},
   "outputs": [
    {
     "data": {
      "text/plain": [
       "10-element Array{Float64,1}:\n",
       " 0.891556\n",
       " 0.876981\n",
       " 0.884444\n",
       " 0.885778\n",
       " 0.884037\n",
       " 0.888704\n",
       " 0.86363 \n",
       " 0.877852\n",
       " 0.888963\n",
       " 0.882778"
      ]
     },
     "execution_count": 61,
     "metadata": {},
     "output_type": "execute_result"
    }
   ],
   "source": [
    "fold_res.train_results"
   ]
  },
  {
   "cell_type": "code",
   "execution_count": 62,
   "metadata": {},
   "outputs": [
    {
     "data": {
      "text/plain": [
       "10-element Array{Float64,1}:\n",
       " 0.887333\n",
       " 0.8635  \n",
       " 0.858833\n",
       " 0.885833\n",
       " 0.866833\n",
       " 0.866   \n",
       " 0.849333\n",
       " 0.858833\n",
       " 0.869667\n",
       " 0.892333"
      ]
     },
     "execution_count": 62,
     "metadata": {},
     "output_type": "execute_result"
    }
   ],
   "source": [
    "fold_res.validation_results"
   ]
  }
 ],
 "metadata": {
  "kernelspec": {
   "display_name": "Julia 0.6.0-rc2",
   "language": "julia",
   "name": "julia-0.6"
  },
  "language_info": {
   "file_extension": ".jl",
   "mimetype": "application/julia",
   "name": "julia",
   "version": "0.6.0"
  }
 },
 "nbformat": 4,
 "nbformat_minor": 1
}
