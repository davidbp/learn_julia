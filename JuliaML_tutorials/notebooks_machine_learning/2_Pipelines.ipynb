{
 "cells": [
  {
   "cell_type": "markdown",
   "metadata": {},
   "source": [
    "# This notebook shows how to build and optimize a pipeline\n",
    "\n",
    "Generally solving a learning task can involve preprocessing/feature generation. To avoid overfitting it is important to optimize the whole pipeline (feature generation + model fitting) doing crossvalidation"
   ]
  },
  {
   "cell_type": "code",
   "execution_count": 31,
   "metadata": {},
   "outputs": [
    {
     "data": {
      "text/plain": [
       "g (generic function with 1 method)"
      ]
     },
     "execution_count": 31,
     "metadata": {},
     "output_type": "execute_result"
    }
   ],
   "source": [
    "f(x) = 2 * x\n",
    "g(z) = z^2"
   ]
  },
  {
   "cell_type": "code",
   "execution_count": 32,
   "metadata": {},
   "outputs": [
    {
     "data": {
      "text/plain": [
       "8"
      ]
     },
     "execution_count": 32,
     "metadata": {},
     "output_type": "execute_result"
    }
   ],
   "source": [
    "f(g(2))"
   ]
  },
  {
   "cell_type": "code",
   "execution_count": 33,
   "metadata": {},
   "outputs": [
    {
     "name": "stdout",
     "output_type": "stream",
     "text": [
      "search: \u001b[1m|\u001b[22m\u001b[1m>\u001b[22m\n",
      "\n"
     ]
    },
    {
     "data": {
      "text/markdown": [
       "```\n",
       "|>(x, f)\n",
       "```\n",
       "\n",
       "Applies a function to the preceding argument. This allows for easy function chaining.\n",
       "\n",
       "```jldoctest\n",
       "julia> [1:5;] |> x->x.^2 |> sum |> inv\n",
       "0.01818181818181818\n",
       "```\n"
      ],
      "text/plain": [
       "```\n",
       "|>(x, f)\n",
       "```\n",
       "\n",
       "Applies a function to the preceding argument. This allows for easy function chaining.\n",
       "\n",
       "```jldoctest\n",
       "julia> [1:5;] |> x->x.^2 |> sum |> inv\n",
       "0.01818181818181818\n",
       "```\n"
      ]
     },
     "execution_count": 33,
     "metadata": {},
     "output_type": "execute_result"
    }
   ],
   "source": [
    "?|>"
   ]
  },
  {
   "cell_type": "code",
   "execution_count": 34,
   "metadata": {},
   "outputs": [
    {
     "data": {
      "text/plain": [
       "16"
      ]
     },
     "execution_count": 34,
     "metadata": {},
     "output_type": "execute_result"
    }
   ],
   "source": [
    "2 |> f |> g "
   ]
  },
  {
   "cell_type": "markdown",
   "metadata": {
    "collapsed": true
   },
   "source": [
    "#### About the pipeline operator\n",
    "\n",
    "\n",
    "The pipeline operator can be used even in scripts that are runned outside julia such as\n",
    "\n",
    "```\n",
    "    run(`cat $file` |> \"test.txt\")\n",
    "```   \n",
    "\n",
    "\n",
    "This pipeline operator can even be chained as follows:\n",
    "```\n",
    "       run(`echo $(\"\\nhi\\nJulia\")` |> `cat` |> `grep -n J`)\n",
    "```\n"
   ]
  },
  {
   "cell_type": "code",
   "execution_count": null,
   "metadata": {
    "collapsed": true
   },
   "outputs": [],
   "source": []
  }
 ],
 "metadata": {
  "kernelspec": {
   "display_name": "Julia 0.6.0-rc1",
   "language": "julia",
   "name": "julia-0.6"
  },
  "language_info": {
   "file_extension": ".jl",
   "mimetype": "application/julia",
   "name": "julia",
   "version": "0.6.0"
  }
 },
 "nbformat": 4,
 "nbformat_minor": 2
}
