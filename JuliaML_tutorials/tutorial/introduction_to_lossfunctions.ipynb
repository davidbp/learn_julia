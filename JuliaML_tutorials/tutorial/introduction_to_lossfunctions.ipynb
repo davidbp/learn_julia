{
 "cells": [
  {
   "cell_type": "markdown",
   "metadata": {},
   "source": [
    "# JuliaML: LossFunctions.jl \n",
    "\n",
    "\n",
    "## About JuliaML\n",
    "\n",
    "JuliaML contains several repositories with different building blocks for machine learning.\n",
    "Some of them are:\n",
    "\n",
    "- **MLDataUtils**: https://github.com/JuliaML/MLDataUtils.jl\n",
    "   - Package for splitting the data. Tools for crossvalidation can be found here.\n",
    "   \n",
    "   \n",
    "- **PenaltyFunctions**:  https://github.com/JuliaML/PenaltyFunctions.jl\n",
    "    - Package with build in penalty functions.\n",
    "    \n",
    "   \n",
    "- **LossFunctions**:  https://github.com/JuliaML/LossFunctions.jl\n",
    "    - Package with build in penalty functions."
   ]
  },
  {
   "cell_type": "code",
   "execution_count": 63,
   "metadata": {},
   "outputs": [
    {
     "name": "stderr",
     "output_type": "stream",
     "text": [
      "\u001b[1m\u001b[36mINFO: \u001b[39m\u001b[22m\u001b[36mRecompiling stale cache file /Users/macpro/.julia/lib/v0.6/PyPlot.ji for module PyPlot.\n",
      "\u001b[39m"
     ]
    }
   ],
   "source": [
    "using LossFunctions\n",
    "using BenchmarkTools\n",
    "using PyPlot"
   ]
  },
  {
   "cell_type": "markdown",
   "metadata": {
    "collapsed": true
   },
   "source": [
    "## About LossFunctions\n",
    "\n",
    "The package `LossFunctions` give us a set of loss functions as well as its derivatives that can be used to implement different models and learning algorithms.\n",
    "\n",
    "\n"
   ]
  },
  {
   "cell_type": "code",
   "execution_count": 47,
   "metadata": {},
   "outputs": [
    {
     "data": {
      "text/plain": [
       "Module"
      ]
     },
     "execution_count": 47,
     "metadata": {},
     "output_type": "execute_result"
    }
   ],
   "source": [
    "typeof(AvgMode)"
   ]
  },
  {
   "cell_type": "code",
   "execution_count": 48,
   "metadata": {},
   "outputs": [
    {
     "data": {
      "text/plain": [
       "LossFunctions.AvgMode.Sum"
      ]
     },
     "execution_count": 48,
     "metadata": {},
     "output_type": "execute_result"
    }
   ],
   "source": [
    "typeof(AvgMode.Sum())"
   ]
  },
  {
   "cell_type": "code",
   "execution_count": 49,
   "metadata": {},
   "outputs": [
    {
     "name": "stdout",
     "output_type": "stream",
     "text": [
      "LossFunctions.AvgMode.Sum\n",
      "LossFunctions.AvgMode.Mean\n"
     ]
    }
   ],
   "source": [
    "println(typeof(AvgMode.Sum())) \n",
    "println(typeof(AvgMode.Mean()))"
   ]
  },
  {
   "cell_type": "code",
   "execution_count": 50,
   "metadata": {
    "scrolled": true
   },
   "outputs": [
    {
     "data": {
      "text/plain": [
       "1.1754503654088773"
      ]
     },
     "execution_count": 50,
     "metadata": {},
     "output_type": "execute_result"
    }
   ],
   "source": [
    "l = L1DistLoss()\n",
    "\n",
    "# |.2 - .1|\n",
    "value(l, .1, .2)  \n",
    "\n",
    "# sign(.2 - .1)\n",
    "deriv(l, .1, .2)  \n",
    "\n",
    "y = randn(100)\n",
    "yhat = randn(100)\n",
    "\n",
    "# vector of value mapped to y[i], yhat[i]\n",
    "value(l, y, yhat) \n",
    "\n",
    "# sum(value(l, y, yhat)), but better\n",
    "value(l, y, yhat, AvgMode.Sum())  \n",
    "\n",
    "# mean(value(l, y, yhat)), but better\n",
    "value(l, y, yhat, AvgMode.Mean()) "
   ]
  },
  {
   "cell_type": "markdown",
   "metadata": {},
   "source": [
    "## Linear regression Example\n"
   ]
  },
  {
   "cell_type": "markdown",
   "metadata": {},
   "source": [
    "### Implementing Gradient descent"
   ]
  },
  {
   "cell_type": "code",
   "execution_count": 115,
   "metadata": {},
   "outputs": [
    {
     "data": {
      "text/plain": [
       "f (generic function with 1 method)"
      ]
     },
     "execution_count": 115,
     "metadata": {},
     "output_type": "execute_result"
    }
   ],
   "source": [
    "function f(l::Loss, x::Matrix, y::Vector; maxit=20, s=.5)\n",
    "    n, p = size(x)\n",
    "    β = zeros(p)\n",
    "    for i in 1:maxit\n",
    "        println(\"iter\" ,i, \" \", loss(y, x * β, AvgMode.Mean()))\n",
    "        β -= (s / n) * x' * deriv(l, y, x * β)\n",
    "    end\n",
    "    β\n",
    "end"
   ]
  },
  {
   "cell_type": "code",
   "execution_count": 116,
   "metadata": {
    "collapsed": true
   },
   "outputs": [],
   "source": [
    "# make some fake data\n",
    "x = randn(1000, 3)\n",
    "y = x * [1.0, 2.0, 3.0] + randn(1000);"
   ]
  },
  {
   "cell_type": "code",
   "execution_count": 117,
   "metadata": {},
   "outputs": [
    {
     "name": "stdout",
     "output_type": "stream",
     "text": [
      "iter1 14.647844377014554\n",
      "iter2 1.0416621586103936\n",
      "iter3 1.0309292506731593\n",
      "iter4 1.0309144373784984\n",
      "iter5 1.0309143846242608\n",
      "iter6 1.030914384323161\n",
      "iter7 1.0309143843212667\n",
      "iter8 1.0309143843212545\n",
      "iter9 1.0309143843212545\n",
      "iter10 1.0309143843212545\n",
      "iter11 1.0309143843212545\n",
      "iter12 1.0309143843212545\n",
      "iter13 1.0309143843212545\n",
      "iter14 1.0309143843212545\n",
      "iter15 1.0309143843212543\n",
      "iter16 1.0309143843212545\n",
      "iter17 1.0309143843212545\n",
      "iter18 1.0309143843212545\n",
      "iter19 1.0309143843212545\n",
      "iter20 1.0309143843212545\n"
     ]
    },
    {
     "data": {
      "text/plain": [
       "3-element Array{Float64,1}:\n",
       " 1.00379\n",
       " 2.01234\n",
       " 2.95395"
      ]
     },
     "execution_count": 117,
     "metadata": {},
     "output_type": "execute_result"
    }
   ],
   "source": [
    "loss = L2DistLoss() \n",
    "w = f(loss, x, y)"
   ]
  },
  {
   "cell_type": "code",
   "execution_count": 119,
   "metadata": {},
   "outputs": [
    {
     "data": {
      "text/plain": [
       "1.030914384321254"
      ]
     },
     "execution_count": 119,
     "metadata": {},
     "output_type": "execute_result"
    }
   ],
   "source": [
    "mean(loss(y,x*w))"
   ]
  },
  {
   "cell_type": "code",
   "execution_count": 120,
   "metadata": {},
   "outputs": [
    {
     "data": {
      "text/plain": [
       "1.0309143843212545"
      ]
     },
     "execution_count": 120,
     "metadata": {},
     "output_type": "execute_result"
    }
   ],
   "source": [
    "loss(y, x*w, AvgMode.Mean())"
   ]
  },
  {
   "cell_type": "code",
   "execution_count": 121,
   "metadata": {
    "scrolled": true
   },
   "outputs": [
    {
     "data": {
      "text/plain": [
       "BenchmarkTools.Trial: \n",
       "  memory estimate:  7.98 KiB\n",
       "  allocs estimate:  3\n",
       "  --------------\n",
       "  minimum time:     5.167 μs (0.00% GC)\n",
       "  median time:      5.594 μs (0.00% GC)\n",
       "  mean time:        6.889 μs (10.54% GC)\n",
       "  maximum time:     456.143 μs (96.47% GC)\n",
       "  --------------\n",
       "  samples:          10000\n",
       "  evals/sample:     6"
      ]
     },
     "execution_count": 121,
     "metadata": {},
     "output_type": "execute_result"
    }
   ],
   "source": [
    "@benchmark loss(y, x*w, AvgMode.Mean())"
   ]
  },
  {
   "cell_type": "markdown",
   "metadata": {},
   "source": [
    "### Example with plottable data"
   ]
  },
  {
   "cell_type": "code",
   "execution_count": 123,
   "metadata": {},
   "outputs": [],
   "source": [
    "x = Array(1:100)\n",
    "y = sin.(x) .+ x;"
   ]
  },
  {
   "cell_type": "code",
   "execution_count": 124,
   "metadata": {},
   "outputs": [
    {
     "data": {
      "image/png": "[encoded data removed]",
      "text/plain": [
       "PyPlot.Figure(PyObject <matplotlib.figure.Figure object at 0x133df0a90>)"
      ]
     },
     "metadata": {},
     "output_type": "display_data"
    },
    {
     "data": {
      "text/plain": [
       "1-element Array{Any,1}:\n",
       " PyObject <matplotlib.lines.Line2D object at 0x1341f8150>"
      ]
     },
     "execution_count": 124,
     "metadata": {},
     "output_type": "execute_result"
    }
   ],
   "source": [
    "PyPlot.plot(x,y)"
   ]
  },
  {
   "cell_type": "code",
   "execution_count": 125,
   "metadata": {},
   "outputs": [],
   "source": [
    "X = hcat(ones(size(x)), x);"
   ]
  },
  {
   "cell_type": "code",
   "execution_count": 126,
   "metadata": {},
   "outputs": [
    {
     "name": "stdout",
     "output_type": "stream",
     "text": [
      "iter1 3381.90683893839\n",
      "iter2 1.5036767460371573e7\n",
      "iter3 6.686698882748168e10\n",
      "iter4 2.9735076743291856e14\n",
      "iter5 1.322288926778626e18\n",
      "iter6 5.880085735026118e21\n",
      "iter7 2.6148149281935374e25\n",
      "iter8 1.1627818737363025e29\n",
      "iter9 5.1707739286305365e32\n",
      "iter10 2.2993911089354232e36\n",
      "iter11 1.0225160768634831e40\n",
      "iter12 4.547026051293875e43\n",
      "iter13 2.022016707508998e47\n",
      "iter14 8.99170473035252e50\n",
      "iter15 3.998520568974287e54\n",
      "iter16 1.778101841638614e58\n",
      "iter17 7.907039878125887e61\n",
      "iter18 3.516181029128031e65\n",
      "iter19 1.5636103042558877e69\n",
      "iter20 6.953217605469784e72\n"
     ]
    },
    {
     "data": {
      "text/plain": [
       "2-element Array{Float64,1}:\n",
       " -4.51127e34\n",
       " -3.02233e36"
      ]
     },
     "execution_count": 126,
     "metadata": {},
     "output_type": "execute_result"
    }
   ],
   "source": [
    "loss = L2DistLoss() \n",
    "w = f(loss, X, y, s=0.01)"
   ]
  },
  {
   "cell_type": "code",
   "execution_count": 132,
   "metadata": {},
   "outputs": [
    {
     "data": {
      "text/plain": [
       "100×2 Array{Float64,2}:\n",
       " 1.0    1.0\n",
       " 1.0    2.0\n",
       " 1.0    3.0\n",
       " 1.0    4.0\n",
       " 1.0    5.0\n",
       " 1.0    6.0\n",
       " 1.0    7.0\n",
       " 1.0    8.0\n",
       " 1.0    9.0\n",
       " 1.0   10.0\n",
       " 1.0   11.0\n",
       " 1.0   12.0\n",
       " 1.0   13.0\n",
       " ⋮         \n",
       " 1.0   89.0\n",
       " 1.0   90.0\n",
       " 1.0   91.0\n",
       " 1.0   92.0\n",
       " 1.0   93.0\n",
       " 1.0   94.0\n",
       " 1.0   95.0\n",
       " 1.0   96.0\n",
       " 1.0   97.0\n",
       " 1.0   98.0\n",
       " 1.0   99.0\n",
       " 1.0  100.0"
      ]
     },
     "execution_count": 132,
     "metadata": {},
     "output_type": "execute_result"
    }
   ],
   "source": [
    "X"
   ]
  },
  {
   "cell_type": "code",
   "execution_count": 128,
   "metadata": {},
   "outputs": [
    {
     "data": {
      "image/png": "[encoded data removed]",
      "text/plain": [
       "PyPlot.Figure(PyObject <matplotlib.figure.Figure object at 0x133b0ef10>)"
      ]
     },
     "metadata": {},
     "output_type": "display_data"
    },
    {
     "data": {
      "text/plain": [
       "(Any[PyObject <matplotlib.lines.Line2D object at 0x13430d0d0>], Any[PyObject <matplotlib.lines.Line2D object at 0x13430d2d0>])"
      ]
     },
     "execution_count": 128,
     "metadata": {},
     "output_type": "execute_result"
    }
   ],
   "source": [
    "PyPlot.plot(x,y), PyPlot.plot(x,predictions)"
   ]
  },
  {
   "cell_type": "markdown",
   "metadata": {},
   "source": [
    "#### We can use other loss functions"
   ]
  },
  {
   "cell_type": "code",
   "execution_count": 30,
   "metadata": {},
   "outputs": [
    {
     "name": "stdout",
     "output_type": "stream",
     "text": [
      "iter1 14.353523745341679\n",
      "iter2 1.1460774744334574\n",
      "iter3 1.0913561548603\n",
      "iter4 1.091099735433221\n",
      "iter5 1.0910985124763122\n",
      "iter6 1.0910985066296672\n",
      "iter7 1.0910985066017056\n",
      "iter8 1.0910985066015721\n",
      "iter9 1.0910985066015713\n",
      "iter10 1.0910985066015715\n",
      "iter11 1.0910985066015715\n",
      "iter12 1.0910985066015715\n",
      "iter13 1.0910985066015717\n",
      "iter14 1.0910985066015715\n",
      "iter15 1.0910985066015715\n",
      "iter16 1.0910985066015713\n",
      "iter17 1.0910985066015713\n",
      "iter18 1.0910985066015713\n",
      "iter19 1.0910985066015713\n",
      "iter20 1.0910985066015713\n"
     ]
    },
    {
     "data": {
      "text/plain": [
       "3-element Array{Float64,1}:\n",
       " 0.942266\n",
       " 2.01573 \n",
       " 3.03251 "
      ]
     },
     "execution_count": 30,
     "metadata": {},
     "output_type": "execute_result"
    }
   ],
   "source": [
    "loss = L2DistLoss() \n",
    "w = f(loss, x, y)"
   ]
  },
  {
   "cell_type": "code",
   "execution_count": 31,
   "metadata": {},
   "outputs": [
    {
     "name": "stdout",
     "output_type": "stream",
     "text": [
      "iter1 3.0409519494091537\n",
      "iter2 2.7588036501131885\n",
      "iter3 2.4826529878898858\n",
      "iter4 2.2173607791668157\n",
      "iter5 1.9612250260477835\n",
      "iter6 1.7163716262161344\n",
      "iter7 1.4878366411281707\n",
      "iter8 1.282291198253435\n",
      "iter9 1.109785624182497\n",
      "iter10 0.9861526728612263\n",
      "iter11 0.9115828250401519\n",
      "iter12 0.8681253325037533\n",
      "iter13 0.8453183543026592\n",
      "iter14 0.8344781988989277\n",
      "iter15 0.8285378571343611\n",
      "iter16 0.8260383555173255\n",
      "iter17 0.8254260224950342\n",
      "iter18 0.8253623202302944\n",
      "iter19 0.8253562627376893\n",
      "iter20 0.8253541305526848\n"
     ]
    },
    {
     "data": {
      "text/plain": [
       "3-element Array{Float64,1}:\n",
       " 0.921902\n",
       " 2.0299  \n",
       " 3.01322 "
      ]
     },
     "execution_count": 31,
     "metadata": {},
     "output_type": "execute_result"
    }
   ],
   "source": [
    "loss = L1DistLoss()\n",
    "f(loss, x, y)"
   ]
  },
  {
   "cell_type": "code",
   "execution_count": 32,
   "metadata": {},
   "outputs": [
    {
     "name": "stdout",
     "output_type": "stream",
     "text": [
      "iter1 4.361005694263827\n",
      "iter2 3.3434225329918585\n",
      "iter3 2.4170891088071125\n",
      "iter4 1.6375360897285822\n",
      "iter5 1.074535289169582\n",
      "iter6 0.7512836671844539\n",
      "iter7 0.6099876985129103\n",
      "iter8 0.560144771861272\n",
      "iter9 0.5435118027437276\n",
      "iter10 0.5381239784335129\n",
      "iter11 0.5364063291465369\n",
      "iter12 0.5358568107178217\n",
      "iter13 0.5356801552246012\n",
      "iter14 0.535623308103915\n",
      "iter15 0.5356050087681917\n",
      "iter16 0.535599116329132\n",
      "iter17 0.5355972184159407\n",
      "iter18 0.5355966069551145\n",
      "iter19 0.5355964099114405\n",
      "iter20 0.5355963464003953\n"
     ]
    },
    {
     "data": {
      "text/plain": [
       "3-element Array{Float64,1}:\n",
       " 0.936426\n",
       " 2.02007 \n",
       " 3.0299  "
      ]
     },
     "execution_count": 32,
     "metadata": {},
     "output_type": "execute_result"
    }
   ],
   "source": [
    "loss = HuberLoss(2.)\n",
    "f(loss, x, y)"
   ]
  },
  {
   "cell_type": "code",
   "execution_count": 33,
   "metadata": {},
   "outputs": [
    {
     "data": {
      "text/plain": [
       "(1000, 3)"
      ]
     },
     "execution_count": 33,
     "metadata": {},
     "output_type": "execute_result"
    }
   ],
   "source": [
    "size(x)"
   ]
  },
  {
   "cell_type": "code",
   "execution_count": null,
   "metadata": {
    "collapsed": true
   },
   "outputs": [],
   "source": []
  },
  {
   "cell_type": "code",
   "execution_count": null,
   "metadata": {
    "collapsed": true
   },
   "outputs": [],
   "source": []
  }
 ],
 "metadata": {
  "kernelspec": {
   "display_name": "Julia 0.6.0-rc2",
   "language": "julia",
   "name": "julia-0.6"
  },
  "language_info": {
   "file_extension": ".jl",
   "mimetype": "application/julia",
   "name": "julia",
   "version": "0.6.0"
  }
 },
 "nbformat": 4,
 "nbformat_minor": 1
}
