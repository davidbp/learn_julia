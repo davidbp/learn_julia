{
 "cells": [
  {
   "cell_type": "markdown",
   "metadata": {},
   "source": [
    "# Optimization\n",
    "\n",
    "\n",
    "\n",
    "https://github.com/JuliaArrays/TiledIteration.jl\n",
    "\n",
    "\n",
    "https://julialang.org/blog/2013/09/fast-numeric\n",
    "\n",
    "\n",
    "### Related work \n",
    "\n",
    "https://www.mreisinger.com/2016/06/01/enabling-polyhedral-optimizations-in-julia.html"
   ]
  },
  {
   "cell_type": "code",
   "execution_count": 1,
   "metadata": {},
   "outputs": [],
   "source": [
    "using BenchmarkTools"
   ]
  },
  {
   "cell_type": "code",
   "execution_count": 2,
   "metadata": {},
   "outputs": [],
   "source": [
    "n = 10_000_000\n",
    "x = rand(Float32, n);"
   ]
  },
  {
   "cell_type": "code",
   "execution_count": 3,
   "metadata": {},
   "outputs": [
    {
     "data": {
      "text/plain": [
       "sum (generic function with 1 method)"
      ]
     },
     "execution_count": 3,
     "metadata": {},
     "output_type": "execute_result"
    }
   ],
   "source": [
    "function sum(x)\n",
    "    i = 0\n",
    "    n = length(x)\n",
    "    s = zero(eltype(x))\n",
    "    \n",
    "    @inbounds for i in 1:n\n",
    "        s += x[i]\n",
    "    end\n",
    "    \n",
    "    return s \n",
    "end"
   ]
  },
  {
   "cell_type": "code",
   "execution_count": 4,
   "metadata": {},
   "outputs": [
    {
     "name": "stdout",
     "output_type": "stream",
     "text": [
      "  0.027919 seconds (16.45 k allocations: 897.229 KiB)\n"
     ]
    },
    {
     "data": {
      "text/plain": [
       "5.000458f6"
      ]
     },
     "execution_count": 4,
     "metadata": {},
     "output_type": "execute_result"
    }
   ],
   "source": [
    "@time sum(x)"
   ]
  },
  {
   "cell_type": "code",
   "execution_count": 5,
   "metadata": {},
   "outputs": [
    {
     "data": {
      "text/plain": [
       "BenchmarkTools.Trial: \n",
       "  memory estimate:  16 bytes\n",
       "  allocs estimate:  1\n",
       "  --------------\n",
       "  minimum time:     9.863 ms (0.00% GC)\n",
       "  median time:      10.716 ms (0.00% GC)\n",
       "  mean time:        10.745 ms (0.00% GC)\n",
       "  maximum time:     13.546 ms (0.00% GC)\n",
       "  --------------\n",
       "  samples:          465\n",
       "  evals/sample:     1"
      ]
     },
     "execution_count": 5,
     "metadata": {},
     "output_type": "execute_result"
    }
   ],
   "source": [
    "@benchmark sum(x)"
   ]
  },
  {
   "cell_type": "code",
   "execution_count": 6,
   "metadata": {},
   "outputs": [
    {
     "data": {
      "text/plain": [
       "sum_unrolled_2 (generic function with 1 method)"
      ]
     },
     "execution_count": 6,
     "metadata": {},
     "output_type": "execute_result"
    }
   ],
   "source": [
    "function sum_unrolled_2(x)\n",
    "    i = 0\n",
    "    n = length(x)\n",
    "    s = zero(eltype(x))\n",
    "    \n",
    "    @inbounds for i in 1:2:n\n",
    "        s += x[i]\n",
    "        s += x[i+1]\n",
    "    end\n",
    "    \n",
    "    return s \n",
    "end"
   ]
  },
  {
   "cell_type": "code",
   "execution_count": 7,
   "metadata": {},
   "outputs": [
    {
     "data": {
      "text/plain": [
       "true"
      ]
     },
     "execution_count": 7,
     "metadata": {},
     "output_type": "execute_result"
    }
   ],
   "source": [
    "sum_unrolled_2(x) ≈ sum(x)"
   ]
  },
  {
   "cell_type": "code",
   "execution_count": 8,
   "metadata": {},
   "outputs": [
    {
     "name": "stdout",
     "output_type": "stream",
     "text": [
      "  0.012089 seconds (5 allocations: 176 bytes)\n"
     ]
    },
    {
     "data": {
      "text/plain": [
       "5.000458f6"
      ]
     },
     "execution_count": 8,
     "metadata": {},
     "output_type": "execute_result"
    }
   ],
   "source": [
    "@time sum_unrolled_2(x)"
   ]
  },
  {
   "cell_type": "code",
   "execution_count": 9,
   "metadata": {},
   "outputs": [
    {
     "data": {
      "text/plain": [
       "BenchmarkTools.Trial: \n",
       "  memory estimate:  16 bytes\n",
       "  allocs estimate:  1\n",
       "  --------------\n",
       "  minimum time:     10.098 ms (0.00% GC)\n",
       "  median time:      10.772 ms (0.00% GC)\n",
       "  mean time:        10.970 ms (0.00% GC)\n",
       "  maximum time:     16.974 ms (0.00% GC)\n",
       "  --------------\n",
       "  samples:          455\n",
       "  evals/sample:     1"
      ]
     },
     "execution_count": 9,
     "metadata": {},
     "output_type": "execute_result"
    }
   ],
   "source": [
    "@benchmark sum_unrolled_2(x)"
   ]
  },
  {
   "cell_type": "code",
   "execution_count": 10,
   "metadata": {},
   "outputs": [
    {
     "data": {
      "text/plain": [
       "sum_unrolled_4 (generic function with 1 method)"
      ]
     },
     "execution_count": 10,
     "metadata": {},
     "output_type": "execute_result"
    }
   ],
   "source": [
    "function sum_unrolled_4(x)\n",
    "    i = 0\n",
    "    n = length(x)\n",
    "    s = zero(eltype(x))\n",
    "    \n",
    "    @inbounds for i in 1:4:n\n",
    "        s += x[i]\n",
    "        s += x[i+1]\n",
    "        s += x[i+2]x\n",
    "        s += x[i+3]\n",
    "    end\n",
    "    \n",
    "    return s \n",
    "end"
   ]
  },
  {
   "cell_type": "code",
   "execution_count": 11,
   "metadata": {},
   "outputs": [
    {
     "data": {
      "text/plain": [
       "BenchmarkTools.Trial: \n",
       "  memory estimate:  16 bytes\n",
       "  allocs estimate:  1\n",
       "  --------------\n",
       "  minimum time:     9.934 ms (0.00% GC)\n",
       "  median time:      10.846 ms (0.00% GC)\n",
       "  mean time:        11.104 ms (0.00% GC)\n",
       "  maximum time:     18.782 ms (0.00% GC)\n",
       "  --------------\n",
       "  samples:          450\n",
       "  evals/sample:     1"
      ]
     },
     "execution_count": 11,
     "metadata": {},
     "output_type": "execute_result"
    }
   ],
   "source": [
    "@benchmark sum_unrolled_4(x)"
   ]
  },
  {
   "cell_type": "code",
   "execution_count": 12,
   "metadata": {},
   "outputs": [
    {
     "data": {
      "text/plain": [
       "sum_simd (generic function with 1 method)"
      ]
     },
     "execution_count": 12,
     "metadata": {},
     "output_type": "execute_result"
    }
   ],
   "source": [
    "function sum_simd(x)\n",
    "    i = 0\n",
    "    n = length(x)\n",
    "    s = zero(eltype(x))\n",
    "    \n",
    "    @inbounds @simd for i in 1:n\n",
    "        s += x[i]\n",
    "    end\n",
    "    \n",
    "    return s \n",
    "end"
   ]
  },
  {
   "cell_type": "code",
   "execution_count": 13,
   "metadata": {},
   "outputs": [
    {
     "data": {
      "text/plain": [
       "BenchmarkTools.Trial: \n",
       "  memory estimate:  16 bytes\n",
       "  allocs estimate:  1\n",
       "  --------------\n",
       "  minimum time:     2.646 ms (0.00% GC)\n",
       "  median time:      2.888 ms (0.00% GC)\n",
       "  mean time:        2.951 ms (0.00% GC)\n",
       "  maximum time:     6.120 ms (0.00% GC)\n",
       "  --------------\n",
       "  samples:          1683\n",
       "  evals/sample:     1"
      ]
     },
     "execution_count": 13,
     "metadata": {},
     "output_type": "execute_result"
    }
   ],
   "source": [
    "@benchmark sum_simd(x)"
   ]
  },
  {
   "cell_type": "markdown",
   "metadata": {},
   "source": [
    "## Matrix multiplication\n",
    "\n",
    "\n",
    "https://gist.github.com/nadavrot/5b35d44e8ba3dd718e595e40184d03f0"
   ]
  },
  {
   "cell_type": "code",
   "execution_count": 259,
   "metadata": {},
   "outputs": [
    {
     "data": {
      "text/plain": [
       "100×70 Array{Float64,2}:\n",
       " 0.0  0.0  0.0  0.0  0.0  0.0  0.0  0.0  …  0.0  0.0  0.0  0.0  0.0  0.0  0.0\n",
       " 0.0  0.0  0.0  0.0  0.0  0.0  0.0  0.0     0.0  0.0  0.0  0.0  0.0  0.0  0.0\n",
       " 0.0  0.0  0.0  0.0  0.0  0.0  0.0  0.0     0.0  0.0  0.0  0.0  0.0  0.0  0.0\n",
       " 0.0  0.0  0.0  0.0  0.0  0.0  0.0  0.0     0.0  0.0  0.0  0.0  0.0  0.0  0.0\n",
       " 0.0  0.0  0.0  0.0  0.0  0.0  0.0  0.0     0.0  0.0  0.0  0.0  0.0  0.0  0.0\n",
       " 0.0  0.0  0.0  0.0  0.0  0.0  0.0  0.0  …  0.0  0.0  0.0  0.0  0.0  0.0  0.0\n",
       " 0.0  0.0  0.0  0.0  0.0  0.0  0.0  0.0     0.0  0.0  0.0  0.0  0.0  0.0  0.0\n",
       " 0.0  0.0  0.0  0.0  0.0  0.0  0.0  0.0     0.0  0.0  0.0  0.0  0.0  0.0  0.0\n",
       " 0.0  0.0  0.0  0.0  0.0  0.0  0.0  0.0     0.0  0.0  0.0  0.0  0.0  0.0  0.0\n",
       " 0.0  0.0  0.0  0.0  0.0  0.0  0.0  0.0     0.0  0.0  0.0  0.0  0.0  0.0  0.0\n",
       " 0.0  0.0  0.0  0.0  0.0  0.0  0.0  0.0  …  0.0  0.0  0.0  0.0  0.0  0.0  0.0\n",
       " 0.0  0.0  0.0  0.0  0.0  0.0  0.0  0.0     0.0  0.0  0.0  0.0  0.0  0.0  0.0\n",
       " 0.0  0.0  0.0  0.0  0.0  0.0  0.0  0.0     0.0  0.0  0.0  0.0  0.0  0.0  0.0\n",
       " ⋮                        ⋮              ⋱            ⋮                      \n",
       " 0.0  0.0  0.0  0.0  0.0  0.0  0.0  0.0     0.0  0.0  0.0  0.0  0.0  0.0  0.0\n",
       " 0.0  0.0  0.0  0.0  0.0  0.0  0.0  0.0     0.0  0.0  0.0  0.0  0.0  0.0  0.0\n",
       " 0.0  0.0  0.0  0.0  0.0  0.0  0.0  0.0  …  0.0  0.0  0.0  0.0  0.0  0.0  0.0\n",
       " 0.0  0.0  0.0  0.0  0.0  0.0  0.0  0.0     0.0  0.0  0.0  0.0  0.0  0.0  0.0\n",
       " 0.0  0.0  0.0  0.0  0.0  0.0  0.0  0.0     0.0  0.0  0.0  0.0  0.0  0.0  0.0\n",
       " 0.0  0.0  0.0  0.0  0.0  0.0  0.0  0.0     0.0  0.0  0.0  0.0  0.0  0.0  0.0\n",
       " 0.0  0.0  0.0  0.0  0.0  0.0  0.0  0.0     0.0  0.0  0.0  0.0  0.0  0.0  0.0\n",
       " 0.0  0.0  0.0  0.0  0.0  0.0  0.0  0.0  …  0.0  0.0  0.0  0.0  0.0  0.0  0.0\n",
       " 0.0  0.0  0.0  0.0  0.0  0.0  0.0  0.0     0.0  0.0  0.0  0.0  0.0  0.0  0.0\n",
       " 0.0  0.0  0.0  0.0  0.0  0.0  0.0  0.0     0.0  0.0  0.0  0.0  0.0  0.0  0.0\n",
       " 0.0  0.0  0.0  0.0  0.0  0.0  0.0  0.0     0.0  0.0  0.0  0.0  0.0  0.0  0.0\n",
       " 0.0  0.0  0.0  0.0  0.0  0.0  0.0  0.0     0.0  0.0  0.0  0.0  0.0  0.0  0.0"
      ]
     },
     "execution_count": 259,
     "metadata": {},
     "output_type": "execute_result"
    }
   ],
   "source": [
    "p = 100\n",
    "q = 80\n",
    "r = 70\n",
    "\n",
    "A = rand(p,q)\n",
    "B = rand(q,r)\n",
    "\n",
    "# C is result of A*B\n",
    "C = zeros(p,r)"
   ]
  },
  {
   "cell_type": "markdown",
   "metadata": {},
   "source": [
    "Write in J\n",
    "\n",
    "```\n",
    "C(m, n) = A(m, k) * B(k, n)\n",
    "\n",
    "Translates to\n",
    "\n",
    "for (int i = 0; i < m; i++) {\n",
    "  for (int j = 0; j < n; j++) {\n",
    "    for (int p = 0; p < k; p++) {\n",
    "      C(i, j) += A(i, p) * B(p, j);\n",
    "    }\n",
    "  }\n",
    "}```\n",
    "\n"
   ]
  },
  {
   "cell_type": "code",
   "execution_count": 260,
   "metadata": {},
   "outputs": [
    {
     "data": {
      "text/plain": [
       "matmul (generic function with 1 method)"
      ]
     },
     "execution_count": 260,
     "metadata": {},
     "output_type": "execute_result"
    }
   ],
   "source": [
    "function matmul!(C,A,B)\n",
    "   \n",
    "    I, J = size(A)\n",
    "    P, Q = size(B)    \n",
    "    for i = 1:I\n",
    "        for q = 1:Q\n",
    "            for j = 1:J\n",
    "                C[i,q] += A[i,1]*B[1,q]\n",
    "            end\n",
    "        end\n",
    "    end\n",
    "end\n",
    "\n",
    "function matmul(A,B)\n",
    "    \n",
    "    I, J = size(A)\n",
    "    P, Q = size(B)    \n",
    "    if J != P\n",
    "        println(\"ERROR\")\n",
    "        return\n",
    "    end\n",
    "    \n",
    "    C = zeros(I,Q)\n",
    "    for i = 1:I\n",
    "        for q = 1:Q\n",
    "            for j = 1:J\n",
    "                C[i,q] += A[i,j]*B[j,q]\n",
    "            end\n",
    "        end\n",
    "    end\n",
    "    return C\n",
    "end"
   ]
  },
  {
   "cell_type": "code",
   "execution_count": 261,
   "metadata": {},
   "outputs": [
    {
     "data": {
      "text/plain": [
       "true"
      ]
     },
     "execution_count": 261,
     "metadata": {},
     "output_type": "execute_result"
    }
   ],
   "source": [
    "isapprox(A*B, matmul(A,B))"
   ]
  },
  {
   "cell_type": "code",
   "execution_count": 262,
   "metadata": {},
   "outputs": [
    {
     "data": {
      "text/plain": [
       "BenchmarkTools.Trial: \n",
       "  memory estimate:  54.77 KiB\n",
       "  allocs estimate:  2\n",
       "  --------------\n",
       "  minimum time:     1.479 ms (0.00% GC)\n",
       "  median time:      1.493 ms (0.00% GC)\n",
       "  mean time:        1.581 ms (0.32% GC)\n",
       "  maximum time:     5.126 ms (63.24% GC)\n",
       "  --------------\n",
       "  samples:          3145\n",
       "  evals/sample:     1"
      ]
     },
     "execution_count": 262,
     "metadata": {},
     "output_type": "execute_result"
    }
   ],
   "source": [
    "@benchmark matmul(A,B)"
   ]
  },
  {
   "cell_type": "code",
   "execution_count": 263,
   "metadata": {},
   "outputs": [
    {
     "data": {
      "text/plain": [
       "BenchmarkTools.Trial: \n",
       "  memory estimate:  54.77 KiB\n",
       "  allocs estimate:  2\n",
       "  --------------\n",
       "  minimum time:     29.997 μs (0.00% GC)\n",
       "  median time:      34.022 μs (0.00% GC)\n",
       "  mean time:        52.137 μs (12.54% GC)\n",
       "  maximum time:     4.311 ms (98.12% GC)\n",
       "  --------------\n",
       "  samples:          10000\n",
       "  evals/sample:     1"
      ]
     },
     "execution_count": 263,
     "metadata": {},
     "output_type": "execute_result"
    }
   ],
   "source": [
    "@benchmark A*B"
   ]
  },
  {
   "cell_type": "code",
   "execution_count": 264,
   "metadata": {},
   "outputs": [
    {
     "data": {
      "text/plain": [
       "matmul_inbounds (generic function with 1 method)"
      ]
     },
     "execution_count": 264,
     "metadata": {},
     "output_type": "execute_result"
    }
   ],
   "source": [
    "function matmul_inbounds(A,B)\n",
    "    \n",
    "    I, J = size(A)\n",
    "    P, Q = size(B)    \n",
    "    if J != P\n",
    "        println(\"ERROR\")\n",
    "        return\n",
    "    end\n",
    "    \n",
    "    C = zeros(I,Q)\n",
    "    @inbounds for i = 1:I\n",
    "        for q = 1:Q\n",
    "            for j = 1:J\n",
    "                C[i,q] += A[i,j]*B[j,q]\n",
    "            end\n",
    "        end\n",
    "    end\n",
    "    return C\n",
    "end"
   ]
  },
  {
   "cell_type": "code",
   "execution_count": 265,
   "metadata": {},
   "outputs": [
    {
     "data": {
      "text/plain": [
       "BenchmarkTools.Trial: \n",
       "  memory estimate:  54.77 KiB\n",
       "  allocs estimate:  2\n",
       "  --------------\n",
       "  minimum time:     529.545 μs (0.00% GC)\n",
       "  median time:      664.341 μs (0.00% GC)\n",
       "  mean time:        887.662 μs (0.68% GC)\n",
       "  maximum time:     61.692 ms (0.00% GC)\n",
       "  --------------\n",
       "  samples:          5505\n",
       "  evals/sample:     1"
      ]
     },
     "execution_count": 265,
     "metadata": {},
     "output_type": "execute_result"
    }
   ],
   "source": [
    "@benchmark matmul_inbounds(A,B)"
   ]
  },
  {
   "cell_type": "markdown",
   "metadata": {},
   "source": [
    "### using polly matmul\n",
    "\n",
    "To use polly you need to compile it "
   ]
  },
  {
   "cell_type": "code",
   "execution_count": 280,
   "metadata": {},
   "outputs": [
    {
     "data": {
      "text/plain": [
       "matmul_polly (generic function with 1 method)"
      ]
     },
     "execution_count": 280,
     "metadata": {},
     "output_type": "execute_result"
    }
   ],
   "source": [
    "@polly function matmul_polly(A,B,C)\n",
    "    m,n = size(A)\n",
    "    n,o = size(B)\n",
    "    @inbounds for i=1:m, j=1:o, k=1:n\n",
    "        C[i,j] += A[i,k] * B[k,j]\n",
    "    end\n",
    "end"
   ]
  },
  {
   "cell_type": "code",
   "execution_count": 284,
   "metadata": {},
   "outputs": [
    {
     "data": {
      "text/plain": [
       "BenchmarkTools.Trial: \n",
       "  memory estimate:  0 bytes\n",
       "  allocs estimate:  0\n",
       "  --------------\n",
       "  minimum time:     532.943 μs (0.00% GC)\n",
       "  median time:      534.057 μs (0.00% GC)\n",
       "  mean time:        542.598 μs (0.00% GC)\n",
       "  maximum time:     1.430 ms (0.00% GC)\n",
       "  --------------\n",
       "  samples:          9184\n",
       "  evals/sample:     1"
      ]
     },
     "execution_count": 284,
     "metadata": {},
     "output_type": "execute_result"
    }
   ],
   "source": [
    "@benchmark matmul_polly(A,B,C)"
   ]
  },
  {
   "cell_type": "code",
   "execution_count": 286,
   "metadata": {},
   "outputs": [
    {
     "data": {
      "text/plain": [
       "BenchmarkTools.Trial: \n",
       "  memory estimate:  54.77 KiB\n",
       "  allocs estimate:  2\n",
       "  --------------\n",
       "  minimum time:     436.026 μs (0.00% GC)\n",
       "  median time:      440.582 μs (0.00% GC)\n",
       "  mean time:        456.598 μs (1.64% GC)\n",
       "  maximum time:     4.953 ms (90.42% GC)\n",
       "  --------------\n",
       "  samples:          10000\n",
       "  evals/sample:     1"
      ]
     },
     "execution_count": 286,
     "metadata": {},
     "output_type": "execute_result"
    }
   ],
   "source": [
    "@benchmark matmul_inbounds_JQI(A,B)"
   ]
  },
  {
   "cell_type": "markdown",
   "metadata": {},
   "source": [
    "## Index permuations matrix multiply\n",
    "\n",
    "How the data is stored and how we take it out of memory might have a huge impact in performance.\n",
    "\n",
    "Notice there are 3 possible permuations of the indices\n",
    "\n",
    "-  matmul_inbounds_IQJ\n",
    "-  matmul_inbounds_IJQ\n",
    "-  matmul_inbounds_JIQ\n",
    "-  matmul_inbounds_JQI\n",
    "-  matmul_inbounds_QIJ\n",
    "-  matmul_inbounds_QJI\n",
    "  "
   ]
  },
  {
   "cell_type": "code",
   "execution_count": 266,
   "metadata": {},
   "outputs": [
    {
     "data": {
      "text/plain": [
       "matmul_inbounds_IQJ (generic function with 1 method)"
      ]
     },
     "execution_count": 266,
     "metadata": {},
     "output_type": "execute_result"
    }
   ],
   "source": [
    "function matmul_inbounds_IQJ(A,B)\n",
    "    \n",
    "    I, J = size(A)\n",
    "    P, Q = size(B)    \n",
    "    if J != P\n",
    "        println(\"ERROR\")\n",
    "        return\n",
    "    end\n",
    "    \n",
    "    C = zeros(I,Q)\n",
    "    @inbounds for i = 1:I\n",
    "                for q = 1:Q\n",
    "                    for j = 1:J\n",
    "                        C[i,q] += A[i,j]*B[j,q]\n",
    "                    end\n",
    "                end\n",
    "            end\n",
    "    return C\n",
    "end"
   ]
  },
  {
   "cell_type": "code",
   "execution_count": 267,
   "metadata": {},
   "outputs": [
    {
     "data": {
      "text/plain": [
       "matmul_inbounds_IJQ (generic function with 1 method)"
      ]
     },
     "execution_count": 267,
     "metadata": {},
     "output_type": "execute_result"
    }
   ],
   "source": [
    "function matmul_inbounds_IJQ(A,B)\n",
    "    \n",
    "    I, J = size(A)\n",
    "    P, Q = size(B)    \n",
    "    if J != P\n",
    "        println(\"ERROR\")\n",
    "        return\n",
    "    end\n",
    "    \n",
    "    C = zeros(I,Q)\n",
    "    @inbounds for i = 1:I\n",
    "                for j = 1:J\n",
    "                   for q = 1:Q\n",
    "                       C[i,q] += A[i,j]*B[j,q]\n",
    "                   end\n",
    "                end\n",
    "            end\n",
    "    return C\n",
    "end"
   ]
  },
  {
   "cell_type": "code",
   "execution_count": 268,
   "metadata": {},
   "outputs": [
    {
     "data": {
      "text/plain": [
       "matmul_inbounds_JIQ (generic function with 1 method)"
      ]
     },
     "execution_count": 268,
     "metadata": {},
     "output_type": "execute_result"
    }
   ],
   "source": [
    "function matmul_inbounds_JIQ(A,B)\n",
    "    \n",
    "    I, J = size(A)\n",
    "    P, Q = size(B)    \n",
    "    if J != P\n",
    "        println(\"ERROR\")\n",
    "        return\n",
    "    end\n",
    "    \n",
    "    C = zeros(I,Q)\n",
    "    @inbounds for j = 1:J\n",
    "                for i = 1:I\n",
    "                   for q = 1:Q\n",
    "                       C[i,q] += A[i,j]*B[j,q]\n",
    "                   end\n",
    "                end\n",
    "            end\n",
    "    return C\n",
    "end"
   ]
  },
  {
   "cell_type": "code",
   "execution_count": 269,
   "metadata": {},
   "outputs": [
    {
     "data": {
      "text/plain": [
       "matmul_inbounds_JQI (generic function with 1 method)"
      ]
     },
     "execution_count": 269,
     "metadata": {},
     "output_type": "execute_result"
    }
   ],
   "source": [
    "function matmul_inbounds_JQI(A,B)\n",
    "    \n",
    "    I, J = size(A)\n",
    "    P, Q = size(B)    \n",
    "    if J != P\n",
    "        println(\"ERROR\")\n",
    "        return\n",
    "    end\n",
    "    \n",
    "    C = zeros(I,Q)\n",
    "    @inbounds for j = 1:J\n",
    "                for q = 1:Q\n",
    "                    for i = 1:I\n",
    "                       C[i,q] += A[i,j]*B[j,q]\n",
    "                   end\n",
    "                end\n",
    "            end\n",
    "    return C\n",
    "end"
   ]
  },
  {
   "cell_type": "code",
   "execution_count": 270,
   "metadata": {},
   "outputs": [
    {
     "data": {
      "text/plain": [
       "matmul_inbounds_QIJ (generic function with 1 method)"
      ]
     },
     "execution_count": 270,
     "metadata": {},
     "output_type": "execute_result"
    }
   ],
   "source": [
    "function matmul_inbounds_QIJ(A,B)\n",
    "    \n",
    "    I, J = size(A)\n",
    "    P, Q = size(B)    \n",
    "    if J != P\n",
    "        println(\"ERROR\")\n",
    "        return\n",
    "    end\n",
    "    \n",
    "    C = zeros(I,Q)\n",
    "    @inbounds for q = 1:Q\n",
    "                for i = 1:I\n",
    "                    for j = 1:J\n",
    "                       C[i,q] += A[i,j]*B[j,q]\n",
    "                   end\n",
    "                end\n",
    "            end\n",
    "    return C\n",
    "end"
   ]
  },
  {
   "cell_type": "code",
   "execution_count": 271,
   "metadata": {
    "scrolled": true
   },
   "outputs": [
    {
     "data": {
      "text/plain": [
       "matmul_inbounds_QJI (generic function with 1 method)"
      ]
     },
     "execution_count": 271,
     "metadata": {},
     "output_type": "execute_result"
    }
   ],
   "source": [
    "function matmul_inbounds_QJI(A,B)\n",
    "    \n",
    "    I, J = size(A)\n",
    "    P, Q = size(B)    \n",
    "    if J != P\n",
    "        println(\"ERROR\")\n",
    "        return\n",
    "    end\n",
    "    \n",
    "    C = zeros(I,Q)\n",
    "    @inbounds for q = 1:Q\n",
    "                for i = 1:I\n",
    "                    for j = 1:J\n",
    "                       C[i,q] += A[i,j]*B[j,q]\n",
    "                   end\n",
    "                end\n",
    "            end\n",
    "    return C\n",
    "end"
   ]
  },
  {
   "cell_type": "code",
   "execution_count": 272,
   "metadata": {},
   "outputs": [],
   "source": [
    "IQJ = @benchmark matmul_inbounds_IQJ(A,B)\n",
    "IJQ = @benchmark matmul_inbounds_IJQ(A,B)\n",
    "JIQ = @benchmark matmul_inbounds_JIQ(A,B)\n",
    "JQI = @benchmark matmul_inbounds_JQI(A,B)\n",
    "QIJ = @benchmark matmul_inbounds_QIJ(A,B)\n",
    "QJI = @benchmark matmul_inbounds_QJI(A,B);"
   ]
  },
  {
   "cell_type": "code",
   "execution_count": 273,
   "metadata": {
    "scrolled": true
   },
   "outputs": [
    {
     "name": "stdout",
     "output_type": "stream",
     "text": [
      "0.5705620700483092\n",
      "0.4924839291\n",
      "0.6216346775901185\n",
      "0.4875274166\n",
      "0.571378713956967\n",
      "0.5866179504024621\n"
     ]
    }
   ],
   "source": [
    "println(mean(IQJ.times)/1000000)\n",
    "println(mean(IJQ.times)/1000000)\n",
    "println(mean(JIQ.times)/1000000)\n",
    "println(mean(JQI.times)/1000000)\n",
    "println(mean(QIJ.times)/1000000)\n",
    "println(mean(QJI.times)/1000000)"
   ]
  },
  {
   "cell_type": "markdown",
   "metadata": {},
   "source": [
    "We can see QIJ is the bes performant index"
   ]
  },
  {
   "cell_type": "code",
   "execution_count": 274,
   "metadata": {},
   "outputs": [
    {
     "data": {
      "text/plain": [
       "matmul_inbounds_JQI_simd (generic function with 1 method)"
      ]
     },
     "execution_count": 274,
     "metadata": {},
     "output_type": "execute_result"
    }
   ],
   "source": [
    "function matmul_inbounds_JQI_simd(A,B)\n",
    "    \n",
    "    I, J = size(A)\n",
    "    P, Q = size(B)    \n",
    "    if J != P\n",
    "        println(\"ERROR\")\n",
    "        return\n",
    "    end\n",
    "    \n",
    "    C = zeros(I,Q)\n",
    "    @inbounds for j = 1:J\n",
    "                for q = 1:Q\n",
    "                   @simd for i = 1:I\n",
    "                       C[i,q] += A[i,j]*B[j,q]\n",
    "                   end\n",
    "                end\n",
    "            end\n",
    "    return C\n",
    "end\n"
   ]
  },
  {
   "cell_type": "code",
   "execution_count": 275,
   "metadata": {},
   "outputs": [
    {
     "data": {
      "text/plain": [
       "BenchmarkTools.Trial: \n",
       "  memory estimate:  54.77 KiB\n",
       "  allocs estimate:  2\n",
       "  --------------\n",
       "  minimum time:     442.467 μs (0.00% GC)\n",
       "  median time:      448.068 μs (0.00% GC)\n",
       "  mean time:        495.115 μs (1.29% GC)\n",
       "  maximum time:     4.170 ms (86.36% GC)\n",
       "  --------------\n",
       "  samples:          10000\n",
       "  evals/sample:     1"
      ]
     },
     "execution_count": 275,
     "metadata": {},
     "output_type": "execute_result"
    }
   ],
   "source": [
    "QIJ_simd = @benchmark matmul_inbounds_JQI_simd(A,B)"
   ]
  },
  {
   "cell_type": "markdown",
   "metadata": {},
   "source": [
    "### Task 1 make metaprograming code such that generates a different version of code for each for loop index"
   ]
  },
  {
   "cell_type": "code",
   "execution_count": 257,
   "metadata": {},
   "outputs": [
    {
     "data": {
      "text/plain": [
       "matmul_inbounds_IQJ_simd (generic function with 2 methods)"
      ]
     },
     "execution_count": 257,
     "metadata": {},
     "output_type": "execute_result"
    }
   ],
   "source": [
    "function matmul_inbounds_IQJ_simd(A::T,B::T)\n",
    "    \n",
    "    I, J = size(A)\n",
    "    P, Q = size(B)    \n",
    "    if J != P\n",
    "        println(\"ERROR\")\n",
    "        return\n",
    "    end\n",
    "    \n",
    "    C = zeros(I,Q)\n",
    "    @inbounds for i = 1:I\n",
    "                for q = 1:Q\n",
    "                    aux = zero(T)\n",
    "                    @simd for j = 1:J\n",
    "                        aux += A[i,j]*B[j,q]\n",
    "                    end\n",
    "                    C[i,q] = aux\n",
    "                end\n",
    "            end\n",
    "    return C\n",
    "end"
   ]
  },
  {
   "cell_type": "code",
   "execution_count": 258,
   "metadata": {},
   "outputs": [
    {
     "data": {
      "text/plain": [
       "BenchmarkTools.Trial: \n",
       "  memory estimate:  5.34 MiB\n",
       "  allocs estimate:  2\n",
       "  --------------\n",
       "  minimum time:     814.984 ms (0.00% GC)\n",
       "  median time:      846.462 ms (0.00% GC)\n",
       "  mean time:        859.195 ms (0.06% GC)\n",
       "  maximum time:     940.195 ms (0.00% GC)\n",
       "  --------------\n",
       "  samples:          6\n",
       "  evals/sample:     1"
      ]
     },
     "execution_count": 258,
     "metadata": {},
     "output_type": "execute_result"
    }
   ],
   "source": [
    "@benchmark matmul_inbounds_IQJ_simd(A,B)"
   ]
  },
  {
   "cell_type": "code",
   "execution_count": null,
   "metadata": {},
   "outputs": [],
   "source": []
  },
  {
   "cell_type": "code",
   "execution_count": null,
   "metadata": {},
   "outputs": [],
   "source": []
  },
  {
   "cell_type": "code",
   "execution_count": null,
   "metadata": {},
   "outputs": [],
   "source": []
  },
  {
   "cell_type": "code",
   "execution_count": null,
   "metadata": {},
   "outputs": [],
   "source": []
  },
  {
   "cell_type": "code",
   "execution_count": 229,
   "metadata": {},
   "outputs": [
    {
     "data": {
      "text/plain": [
       "1"
      ]
     },
     "execution_count": 229,
     "metadata": {},
     "output_type": "execute_result"
    }
   ],
   "source": [
    "Threads.nthreads()"
   ]
  },
  {
   "cell_type": "markdown",
   "metadata": {},
   "source": [
    "We can add the scalar product of `A[i,:] * B[:,q]` in an auxiliary variable"
   ]
  },
  {
   "cell_type": "code",
   "execution_count": 210,
   "metadata": {},
   "outputs": [
    {
     "data": {
      "text/plain": [
       "matmul_inbounds_QIJ_simd_acum (generic function with 1 method)"
      ]
     },
     "execution_count": 210,
     "metadata": {},
     "output_type": "execute_result"
    }
   ],
   "source": [
    "function matmul_inbounds_QIJ_simd_acum(A::T,B::T) where T\n",
    "    \n",
    "    I, J = size(A)\n",
    "    P, Q = size(B)    \n",
    "    if J != P\n",
    "        println(\"ERROR\")\n",
    "        return\n",
    "    end\n",
    "    \n",
    "    C = zeros(I,Q)\n",
    "    # C= Array{T}(undef, I, Q) # UndefRefError: access to undefined reference\n",
    "    \n",
    "    @inbounds for q = 1:Q\n",
    "                for j = 1:J\n",
    "                    row_times_col = 0\n",
    "                    @simd for i = 1:I\n",
    "                       row_times_col += A[i,j]*B[j,q]\n",
    "                   end\n",
    "                    C[j,q] = row_times_col\n",
    "                end\n",
    "            end\n",
    "    return C\n",
    "end"
   ]
  },
  {
   "cell_type": "code",
   "execution_count": 211,
   "metadata": {},
   "outputs": [
    {
     "data": {
      "text/plain": [
       "1000×100 Array{Float64,2}:\n",
       " 230.661  256.574   160.358   104.757   …  381.466    137.124   142.848 \n",
       " 373.259  468.36    406.947   256.743       93.2326   153.718   356.71  \n",
       " 429.855  407.349   398.998   394.064      493.948    383.495   470.119 \n",
       " 390.695  364.544   399.682   461.16       248.178    122.278   240.923 \n",
       " 391.658  421.065   242.815    67.2285       3.72325  272.254   433.584 \n",
       " 171.456   51.9242  212.474   195.287   …   72.1357   440.425   452.462 \n",
       " 430.366  383.963   293.431   466.025      483.9       35.0885  304.776 \n",
       " 280.461   15.2007   34.62    218.202      461.956    139.932    51.8188\n",
       " 130.182  452.15    117.745   345.689      297.127    404.954    21.5072\n",
       " 266.33   485.11    109.451   114.441      129.563    221.433    37.114 \n",
       " 252.192  357.883   183.898   289.661   …   48.4865   318.944   373.42  \n",
       " 352.434   55.5546   78.5262  301.628      281.912     88.0401  273.166 \n",
       " 357.095   28.0251  318.092   464.542       78.7658   428.265    98.7745\n",
       "   ⋮                                    ⋱                               \n",
       "   0.0      0.0       0.0       0.0          0.0        0.0       0.0   \n",
       "   0.0      0.0       0.0       0.0          0.0        0.0       0.0   \n",
       "   0.0      0.0       0.0       0.0     …    0.0        0.0       0.0   \n",
       "   0.0      0.0       0.0       0.0          0.0        0.0       0.0   \n",
       "   0.0      0.0       0.0       0.0          0.0        0.0       0.0   \n",
       "   0.0      0.0       0.0       0.0          0.0        0.0       0.0   \n",
       "   0.0      0.0       0.0       0.0          0.0        0.0       0.0   \n",
       "   0.0      0.0       0.0       0.0     …    0.0        0.0       0.0   \n",
       "   0.0      0.0       0.0       0.0          0.0        0.0       0.0   \n",
       "   0.0      0.0       0.0       0.0          0.0        0.0       0.0   \n",
       "   0.0      0.0       0.0       0.0          0.0        0.0       0.0   \n",
       "   0.0      0.0       0.0       0.0          0.0        0.0       0.0   "
      ]
     },
     "execution_count": 211,
     "metadata": {},
     "output_type": "execute_result"
    }
   ],
   "source": [
    "matmul_inbounds_QIJ_simd_acum(A,B)"
   ]
  },
  {
   "cell_type": "code",
   "execution_count": 201,
   "metadata": {},
   "outputs": [
    {
     "ename": "MethodError",
     "evalue": "MethodError: no method matching zero(::Type{Array{Float64,2}})\nClosest candidates are:\n  zero(!Matched::Type{LibGit2.GitHash}) at /Users/osx/buildbot/slave/package_osx64/build/usr/share/julia/stdlib/v1.1/LibGit2/src/oid.jl:220\n  zero(!Matched::Type{Pkg.Resolve.VersionWeights.VersionWeight}) at /Users/osx/buildbot/slave/package_osx64/build/usr/share/julia/stdlib/v1.1/Pkg/src/resolve/VersionWeights.jl:19\n  zero(!Matched::Type{Pkg.Resolve.MaxSum.FieldValues.FieldValue}) at /Users/osx/buildbot/slave/package_osx64/build/usr/share/julia/stdlib/v1.1/Pkg/src/resolve/FieldValues.jl:44\n  ...",
     "output_type": "error",
     "traceback": [
      "MethodError: no method matching zero(::Type{Array{Float64,2}})\nClosest candidates are:\n  zero(!Matched::Type{LibGit2.GitHash}) at /Users/osx/buildbot/slave/package_osx64/build/usr/share/julia/stdlib/v1.1/LibGit2/src/oid.jl:220\n  zero(!Matched::Type{Pkg.Resolve.VersionWeights.VersionWeight}) at /Users/osx/buildbot/slave/package_osx64/build/usr/share/julia/stdlib/v1.1/Pkg/src/resolve/VersionWeights.jl:19\n  zero(!Matched::Type{Pkg.Resolve.MaxSum.FieldValues.FieldValue}) at /Users/osx/buildbot/slave/package_osx64/build/usr/share/julia/stdlib/v1.1/Pkg/src/resolve/FieldValues.jl:44\n  ...",
      "",
      "Stacktrace:",
      " [1] matmul_inbounds_QIJ_simd_acum(::Array{Float64,2}, ::Array{Float64,2}) at ./In[200]:15",
      " [2] ##core#600() at /Users/david/.julia/packages/BenchmarkTools/dtwnm/src/execution.jl:293",
      " [3] ##sample#601(::BenchmarkTools.Parameters) at /Users/david/.julia/packages/BenchmarkTools/dtwnm/src/execution.jl:299",
      " [4] #_run#44(::Bool, ::String, ::Base.Iterators.Pairs{Symbol,Integer,NTuple{4,Symbol},NamedTuple{(:samples, :evals, :gctrial, :gcsample),Tuple{Int64,Int64,Bool,Bool}}}, ::Function, ::BenchmarkTools.Benchmark{Symbol(\"##benchmark#599\")}, ::BenchmarkTools.Parameters) at /Users/david/.julia/packages/BenchmarkTools/dtwnm/src/execution.jl:327",
      " [5] (::getfield(Base, Symbol(\"#inner#2\")){Base.Iterators.Pairs{Symbol,Integer,NTuple{5,Symbol},NamedTuple{(:verbose, :samples, :evals, :gctrial, :gcsample),Tuple{Bool,Int64,Int64,Bool,Bool}}},typeof(BenchmarkTools._run),Tuple{BenchmarkTools.Benchmark{Symbol(\"##benchmark#599\")},BenchmarkTools.Parameters}})() at ./none:0",
      " [6] #invokelatest#1 at ./essentials.jl:746 [inlined]",
      " [7] #invokelatest at ./none:0 [inlined]",
      " [8] #run_result#16 at /Users/david/.julia/packages/BenchmarkTools/dtwnm/src/execution.jl:32 [inlined]",
      " [9] #run_result at ./none:0 [inlined]",
      " [10] #run#18(::Base.Iterators.Pairs{Symbol,Integer,NTuple{5,Symbol},NamedTuple{(:verbose, :samples, :evals, :gctrial, :gcsample),Tuple{Bool,Int64,Int64,Bool,Bool}}}, ::Function, ::BenchmarkTools.Benchmark{Symbol(\"##benchmark#599\")}, ::BenchmarkTools.Parameters) at /Users/david/.julia/packages/BenchmarkTools/dtwnm/src/execution.jl:46",
      " [11] #run at ./none:0 [inlined] (repeats 2 times)",
      " [12] #warmup#21 at /Users/david/.julia/packages/BenchmarkTools/dtwnm/src/execution.jl:79 [inlined]",
      " [13] warmup(::BenchmarkTools.Benchmark{Symbol(\"##benchmark#599\")}) at /Users/david/.julia/packages/BenchmarkTools/dtwnm/src/execution.jl:79",
      " [14] top-level scope at /Users/david/.julia/packages/BenchmarkTools/dtwnm/src/execution.jl:213",
      " [15] top-level scope at In[201]:1"
     ]
    }
   ],
   "source": [
    "QIJ_simd_acum = @benchmark matmul_inbounds_QIJ_simd_acum(A,B)"
   ]
  },
  {
   "cell_type": "code",
   "execution_count": null,
   "metadata": {},
   "outputs": [],
   "source": []
  },
  {
   "cell_type": "code",
   "execution_count": 168,
   "metadata": {},
   "outputs": [
    {
     "data": {
      "text/plain": [
       "BenchmarkTools.Trial: \n",
       "  memory estimate:  781.33 KiB\n",
       "  allocs estimate:  2\n",
       "  --------------\n",
       "  minimum time:     949.771 μs (0.00% GC)\n",
       "  median time:      1.481 ms (0.00% GC)\n",
       "  mean time:        1.783 ms (6.44% GC)\n",
       "  maximum time:     11.150 ms (0.00% GC)\n",
       "  --------------\n",
       "  samples:          2754\n",
       "  evals/sample:     1"
      ]
     },
     "execution_count": 168,
     "metadata": {},
     "output_type": "execute_result"
    }
   ],
   "source": [
    "@benchmark A*B"
   ]
  },
  {
   "cell_type": "code",
   "execution_count": null,
   "metadata": {},
   "outputs": [],
   "source": []
  },
  {
   "cell_type": "code",
   "execution_count": 193,
   "metadata": {},
   "outputs": [
    {
     "data": {
      "text/plain": [
       "400×5 Array{Float64,2}:\n",
       "   0.0           NaN             …  NaN             NaN           \n",
       "   0.0             2.25373e-314       0.0             9.06092e-312\n",
       "   1.07706e-321  NaN                  0.0           NaN           \n",
       "   8.48798e-314    2.25373e-314       7.63918e-313    6.95232e-310\n",
       "   8.48798e-314  NaN                  6.95232e-310    1.54906e-312\n",
       "   1.061e-314      2.25373e-314  …    6.95232e-310    3.23791e-319\n",
       "   0.0           NaN                  0.0             6.95232e-310\n",
       "   3.83945e151   NaN                  6.95232e-310    9.06092e-312\n",
       "   3.70594e-317  NaN                  6.95232e-310  NaN           \n",
       "   2.48333e-307    2.25373e-314       2.24473e-314    6.95232e-310\n",
       "   0.0           NaN             …  NaN               1.42174e-312\n",
       "   1.07706e-321    2.25373e-314       6.95232e-310    3.23791e-319\n",
       "   4.10074e-322  NaN                  7.29114e-304    6.95232e-310\n",
       "   ⋮                             ⋱                                \n",
       " NaN             NaN                  6.95232e-310  NaN           \n",
       " NaN               2.34439e-314       8.55164e-312    6.95232e-310\n",
       " NaN             NaN             …  NaN             NaN           \n",
       "   2.25373e-314    2.34439e-314       6.95232e-310    6.95232e-310\n",
       " NaN             NaN                NaN             NaN           \n",
       "   2.25373e-314    2.34871e-314       3.23791e-319    6.95232e-310\n",
       " NaN             NaN                  6.95232e-310  NaN           \n",
       "   2.25373e-314    2.34512e-314  …    4.94066e-324    6.95232e-310\n",
       " NaN             NaN                NaN             NaN           \n",
       "   2.25373e-314    2.34871e-314       6.95232e-310    6.95232e-310\n",
       " NaN             NaN                  1.40052e-312  NaN           \n",
       "   2.25373e-314    2.34872e-314       3.23791e-319    6.95232e-310"
      ]
     },
     "execution_count": 193,
     "metadata": {},
     "output_type": "execute_result"
    }
   ],
   "source": [
    "#C = zeros(I,Q)\n",
    "T = Float64\n",
    "C= Array{T}(undef, 400, 5)"
   ]
  },
  {
   "cell_type": "code",
   "execution_count": 189,
   "metadata": {},
   "outputs": [
    {
     "data": {
      "text/plain": [
       "NaN"
      ]
     },
     "execution_count": 189,
     "metadata": {},
     "output_type": "execute_result"
    }
   ],
   "source": [
    "C[1,1] += 123"
   ]
  },
  {
   "cell_type": "code",
   "execution_count": 179,
   "metadata": {},
   "outputs": [
    {
     "data": {
      "text/plain": [
       "10×123 Array{Float64,2}:\n",
       " NaN             NaN             …    0.0    0.0    0.0    0.0  NaN  \n",
       "   6.95229e-310    6.95336e-310     NaN      0.0    0.0    0.0    0.0\n",
       "   6.95336e-310    5.05923e-321       0.0  NaN      0.0    0.0    0.0\n",
       "   5.05923e-321    6.95232e-310       0.0    0.0  NaN      0.0    0.0\n",
       "   6.95232e-310    6.95232e-310       0.0    0.0    0.0  NaN      0.0\n",
       "   6.95232e-310    6.95232e-310  …    0.0    0.0    0.0    0.0  NaN  \n",
       "   6.95232e-310    6.95232e-310     NaN      0.0    0.0    0.0    0.0\n",
       "   6.95232e-310    6.95232e-310     NaN    NaN      0.0    0.0    0.0\n",
       " NaN             NaN                  0.0  NaN    NaN      0.0    0.0\n",
       "   6.95232e-310    0.0                0.0    0.0  NaN    NaN      0.0"
      ]
     },
     "execution_count": 179,
     "metadata": {},
     "output_type": "execute_result"
    }
   ],
   "source": [
    "C= Array{T}(undef, 10, 123)"
   ]
  },
  {
   "cell_type": "code",
   "execution_count": 181,
   "metadata": {},
   "outputs": [
    {
     "data": {
      "text/plain": [
       "231"
      ]
     },
     "execution_count": 181,
     "metadata": {},
     "output_type": "execute_result"
    }
   ],
   "source": []
  },
  {
   "cell_type": "markdown",
   "metadata": {},
   "source": [
    "### Refactor code to use simd efficiently\n",
    "\n",
    "With a single `for` loop it is pretty straightforward to know when we can use `@simd`. What about when we have more than a single loop?"
   ]
  },
  {
   "cell_type": "code",
   "execution_count": null,
   "metadata": {},
   "outputs": [],
   "source": []
  },
  {
   "cell_type": "code",
   "execution_count": null,
   "metadata": {},
   "outputs": [],
   "source": []
  },
  {
   "cell_type": "code",
   "execution_count": null,
   "metadata": {},
   "outputs": [],
   "source": []
  },
  {
   "cell_type": "code",
   "execution_count": null,
   "metadata": {},
   "outputs": [],
   "source": []
  },
  {
   "cell_type": "code",
   "execution_count": null,
   "metadata": {},
   "outputs": [],
   "source": []
  }
 ],
 "metadata": {
  "kernelspec": {
   "display_name": "Julia 1.1.0-rc1",
   "language": "julia",
   "name": "julia-1.1"
  },
  "language_info": {
   "file_extension": ".jl",
   "mimetype": "application/julia",
   "name": "julia",
   "version": "1.1.0"
  }
 },
 "nbformat": 4,
 "nbformat_minor": 2
}
