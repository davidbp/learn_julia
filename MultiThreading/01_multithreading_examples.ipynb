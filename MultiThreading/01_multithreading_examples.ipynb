{
 "cells": [
  {
   "cell_type": "code",
   "execution_count": 1,
   "metadata": {},
   "outputs": [],
   "source": [
    "using Random\n",
    "using BenchmarkTools\n",
    "using Statistics"
   ]
  },
  {
   "cell_type": "markdown",
   "metadata": {},
   "source": [
    "# Multi threading\n",
    "\n",
    "By Multithreading we understand the capacity of a function to operate on different threads."
   ]
  },
  {
   "cell_type": "code",
   "execution_count": 2,
   "metadata": {},
   "outputs": [
    {
     "data": {
      "text/plain": [
       "my_sum (generic function with 1 method)"
      ]
     },
     "execution_count": 2,
     "metadata": {},
     "output_type": "execute_result"
    }
   ],
   "source": [
    "function my_sum(v)\n",
    "    acc = zero(eltype(v))\n",
    "    for i = 1:length(v), j = 1:i\n",
    "        acc += v[j] * v[j]\n",
    "    end\n",
    "    acc\n",
    "end"
   ]
  },
  {
   "cell_type": "code",
   "execution_count": 3,
   "metadata": {},
   "outputs": [],
   "source": [
    "Random.seed!(0); v = rand(1000);"
   ]
  },
  {
   "cell_type": "code",
   "execution_count": 4,
   "metadata": {},
   "outputs": [
    {
     "name": "stdout",
     "output_type": "stream",
     "text": [
      "  445.945 μs (0 allocations: 0 bytes)\n"
     ]
    }
   ],
   "source": [
    "@btime my_sum($v);"
   ]
  },
  {
   "cell_type": "code",
   "execution_count": 5,
   "metadata": {},
   "outputs": [
    {
     "data": {
      "text/plain": [
       "167658.7030407145"
      ]
     },
     "execution_count": 5,
     "metadata": {},
     "output_type": "execute_result"
    }
   ],
   "source": [
    "my_sum(v)"
   ]
  },
  {
   "cell_type": "markdown",
   "metadata": {},
   "source": [
    "## Multi threaded sum"
   ]
  },
  {
   "cell_type": "code",
   "execution_count": 6,
   "metadata": {},
   "outputs": [
    {
     "data": {
      "text/plain": [
       "my_multithreaded_sum (generic function with 1 method)"
      ]
     },
     "execution_count": 6,
     "metadata": {},
     "output_type": "execute_result"
    }
   ],
   "source": [
    "function my_multithreaded_sum(v; T = Threads.nthreads())\n",
    "    acc = zeros(eltype(v), T)\n",
    "    Threads.@threads for t = 1:T\n",
    "        s = zero(eltype(v))\n",
    "        for i = t:T:length(v), j = 1:i\n",
    "            s += v[j] * v[j]\n",
    "        end\n",
    "        acc[t] = s\n",
    "    end\n",
    "    return sum(acc)\n",
    "end"
   ]
  },
  {
   "cell_type": "code",
   "execution_count": 7,
   "metadata": {},
   "outputs": [
    {
     "data": {
      "text/plain": [
       "8"
      ]
     },
     "execution_count": 7,
     "metadata": {},
     "output_type": "execute_result"
    }
   ],
   "source": [
    "Threads.nthreads()"
   ]
  },
  {
   "cell_type": "code",
   "execution_count": 8,
   "metadata": {},
   "outputs": [],
   "source": [
    "Random.seed!(0); v = rand(1000);"
   ]
  },
  {
   "cell_type": "code",
   "execution_count": 9,
   "metadata": {},
   "outputs": [
    {
     "name": "stdout",
     "output_type": "stream",
     "text": [
      "  458.323 μs (3 allocations: 160 bytes)\n",
      "  229.589 μs (2 allocations: 144 bytes)\n",
      "  115.216 μs (2 allocations: 160 bytes)\n",
      "  58.365 μs (2 allocations: 192 bytes)\n"
     ]
    }
   ],
   "source": [
    "@btime my_multithreaded_sum($v; T=1);\n",
    "@btime my_multithreaded_sum($v; T=2);\n",
    "@btime my_multithreaded_sum($v; T=4);\n",
    "@btime my_multithreaded_sum($v; T=8);"
   ]
  },
  {
   "cell_type": "code",
   "execution_count": 10,
   "metadata": {},
   "outputs": [],
   "source": [
    "time_my_multithreaded_sum = @benchmark my_multithreaded_sum($v; T=8);"
   ]
  },
  {
   "cell_type": "code",
   "execution_count": 11,
   "metadata": {},
   "outputs": [
    {
     "data": {
      "text/plain": [
       "64869.8966"
      ]
     },
     "execution_count": 11,
     "metadata": {},
     "output_type": "execute_result"
    }
   ],
   "source": [
    "mean(time_my_multithreaded_sum.times)"
   ]
  },
  {
   "cell_type": "markdown",
   "metadata": {},
   "source": [
    "## SIMD version\n",
    "\n",
    "We can get the same speed with a single thread using SIMD instructions"
   ]
  },
  {
   "cell_type": "code",
   "execution_count": 12,
   "metadata": {},
   "outputs": [
    {
     "data": {
      "text/plain": [
       "my_sum (generic function with 1 method)"
      ]
     },
     "execution_count": 12,
     "metadata": {},
     "output_type": "execute_result"
    }
   ],
   "source": [
    "function my_sum(v)\n",
    "    acc = zero(eltype(v))\n",
    "    for i = 1:length(v), j = 1:i\n",
    "        acc += v[j] * v[j]\n",
    "    end\n",
    "    acc\n",
    "end"
   ]
  },
  {
   "cell_type": "code",
   "execution_count": 13,
   "metadata": {},
   "outputs": [
    {
     "data": {
      "text/plain": [
       "my_simd_sum (generic function with 1 method)"
      ]
     },
     "execution_count": 13,
     "metadata": {},
     "output_type": "execute_result"
    }
   ],
   "source": [
    "function my_simd_sum(v)\n",
    "    s = zero(eltype(v))\n",
    "    for i = 1:length(v)\n",
    "        @simd for j = 1:i\n",
    "        @inbounds s += v[j] * v[j]\n",
    "        end\n",
    "    end\n",
    "    return s\n",
    "end"
   ]
  },
  {
   "cell_type": "code",
   "execution_count": 14,
   "metadata": {},
   "outputs": [
    {
     "data": {
      "text/plain": [
       "(167658.7030407145, 167658.7030406405)"
      ]
     },
     "execution_count": 14,
     "metadata": {},
     "output_type": "execute_result"
    }
   ],
   "source": [
    "my_sum(v), my_simd_sum(v)"
   ]
  },
  {
   "cell_type": "code",
   "execution_count": 15,
   "metadata": {
    "scrolled": true
   },
   "outputs": [
    {
     "name": "stdout",
     "output_type": "stream",
     "text": [
      "  40.077 μs (0 allocations: 0 bytes)\n"
     ]
    }
   ],
   "source": [
    "@btime my_simd_sum($v);"
   ]
  },
  {
   "cell_type": "markdown",
   "metadata": {},
   "source": [
    "## SIMD and Multi threadeding"
   ]
  },
  {
   "cell_type": "code",
   "execution_count": 16,
   "metadata": {},
   "outputs": [
    {
     "data": {
      "text/plain": [
       "my_multithreaded_sum_simd (generic function with 1 method)"
      ]
     },
     "execution_count": 16,
     "metadata": {},
     "output_type": "execute_result"
    }
   ],
   "source": [
    "function my_multithreaded_sum_simd(v; T = Threads.nthreads())\n",
    "    partial_result_per_thread = zeros(eltype(v), T)\n",
    "    len = div(length(v), T)\n",
    "    Threads.@threads for t = 1:T\n",
    "        s = zero(eltype(v))\n",
    "        domain_per_thread = ((t-1)*len +1):t*len\n",
    "        for i in domain_per_thread\n",
    "           @simd for j in 1:i\n",
    "            @inbounds s += v[j] * v[j]\n",
    "            end\n",
    "        end\n",
    "        partial_result_per_thread[t] = s\n",
    "    end\n",
    "    return sum(partial_result_per_thread)\n",
    "end"
   ]
  },
  {
   "cell_type": "code",
   "execution_count": 27,
   "metadata": {},
   "outputs": [
    {
     "name": "stdout",
     "output_type": "stream",
     "text": [
      "  9.181 μs (2 allocations: 192 bytes)\n"
     ]
    }
   ],
   "source": [
    "@btime my_multithreaded_sum_simd($v);"
   ]
  },
  {
   "cell_type": "code",
   "execution_count": 28,
   "metadata": {},
   "outputs": [
    {
     "data": {
      "text/plain": [
       "(167658.7030407145, 167658.7030406405, 167658.70304063277)"
      ]
     },
     "execution_count": 28,
     "metadata": {},
     "output_type": "execute_result"
    }
   ],
   "source": [
    "my_sum(v), my_simd_sum(v), my_multithreaded_sum_simd(v)"
   ]
  },
  {
   "cell_type": "code",
   "execution_count": 29,
   "metadata": {},
   "outputs": [
    {
     "name": "stdout",
     "output_type": "stream",
     "text": [
      "  0.004716 seconds (5 allocations: 176 bytes)\n",
      "  0.002259 seconds (8 allocations: 384 bytes)\n"
     ]
    }
   ],
   "source": [
    "Random.seed!(0); v2 = rand(10000);\n",
    "@time  my_simd_sum(v2);\n",
    "@time  my_multithreaded_sum_simd(v2);"
   ]
  },
  {
   "cell_type": "code",
   "execution_count": 30,
   "metadata": {},
   "outputs": [
    {
     "name": "stdout",
     "output_type": "stream",
     "text": [
      "  0.581055 seconds (5 allocations: 176 bytes)\n"
     ]
    },
    {
     "ename": "UndefVarError",
     "evalue": "UndefVarError: my_multithreaded_simd_sum not defined",
     "output_type": "error",
     "traceback": [
      "UndefVarError: my_multithreaded_simd_sum not defined",
      "",
      "Stacktrace:",
      " [1] top-level scope at util.jl:156",
      " [2] top-level scope at In[30]:3"
     ]
    }
   ],
   "source": [
    "Random.seed!(0); v3 = rand(100000);\n",
    "@time  my_simd_sum(v3);\n",
    "@time  my_multithreaded_simd_sum(v3);"
   ]
  },
  {
   "cell_type": "markdown",
   "metadata": {},
   "source": [
    "That looks alright to me, but see my note above about interleaving the i indexes. The point of this is to let each thread do the same amount of work. Let’s say you have 8 threads and a 1000 element vector. With your approach, thread 1 will be doing 125*126/2 = 7875 additions, while thread 8 does (1000*1001-875*876)/2 = 117250 additions. This means that thread 1 (and 2, 3, …) will finish long before thread 8 and just sit and idle. On the contrary, by interleaving the i indices, all threads will do approximately the same number of additions (this is very problem specific though). On my system, this doubles the performance (also with SIMD).\n",
    "\n",
    "Btw, the implementation above will also not work correctly if the vector size is not a multiple of the number of threads, e.g.:\n",
    "\n",
    "julia> my_multithreaded_simd_sum([1 2 3])\n",
    "0\n",
    "To fix that, you could do something like this:\n",
    "\n",
    "n = length(v)\n",
    "domain_per_thread = 1+((t-1)*n÷T):t*n÷T"
   ]
  },
  {
   "cell_type": "code",
   "execution_count": 31,
   "metadata": {
    "scrolled": false
   },
   "outputs": [
    {
     "ename": "UndefVarError",
     "evalue": "UndefVarError: my_multithreaded_simd_sum not defined",
     "output_type": "error",
     "traceback": [
      "UndefVarError: my_multithreaded_simd_sum not defined",
      "",
      "Stacktrace:",
      " [1] top-level scope at In[31]:1"
     ]
    }
   ],
   "source": [
    "# In this function if the number of elements is not divisible by the number of threads it returns an erroneous number\n",
    "my_multithreaded_simd_sum([1,2,3])"
   ]
  },
  {
   "cell_type": "code",
   "execution_count": 32,
   "metadata": {},
   "outputs": [
    {
     "data": {
      "text/plain": [
       "my_multithreaded_sum_simd2 (generic function with 1 method)"
      ]
     },
     "execution_count": 32,
     "metadata": {},
     "output_type": "execute_result"
    }
   ],
   "source": [
    "function my_multithreaded_sum_simd2(v; T = Threads.nthreads())\n",
    "    acc = zeros(eltype(v), T)\n",
    "    Threads.@threads for t = 1:T\n",
    "        s = zero(eltype(v))\n",
    "        for i = t:T:length(v) # this is the \"interleaving\"\n",
    "            @simd for j = 1:i\n",
    "                @inbounds s += v[j] * v[j]\n",
    "            end\n",
    "        end\n",
    "        acc[t] = s\n",
    "    end\n",
    "    return sum(acc)\n",
    "end"
   ]
  },
  {
   "cell_type": "code",
   "execution_count": 33,
   "metadata": {},
   "outputs": [
    {
     "name": "stdout",
     "output_type": "stream",
     "text": [
      "  9.131 μs (2 allocations: 192 bytes)\n",
      "  7.260 μs (3 allocations: 208 bytes)\n"
     ]
    }
   ],
   "source": [
    "@btime my_multithreaded_sum_simd($v);\n",
    "@btime my_multithreaded_sum_simd2($v);"
   ]
  },
  {
   "cell_type": "code",
   "execution_count": 34,
   "metadata": {},
   "outputs": [
    {
     "name": "stdout",
     "output_type": "stream",
     "text": [
      "  857.202 μs (2 allocations: 192 bytes)\n",
      "  645.687 μs (2 allocations: 192 bytes)\n"
     ]
    }
   ],
   "source": [
    "@btime my_multithreaded_sum_simd($v2);\n",
    "@btime my_multithreaded_sum_simd2($v2);"
   ]
  },
  {
   "cell_type": "code",
   "execution_count": 39,
   "metadata": {},
   "outputs": [
    {
     "name": "stdout",
     "output_type": "stream",
     "text": [
      "  158.177 ms (2 allocations: 192 bytes)\n",
      "  95.655 ms (2 allocations: 192 bytes)\n"
     ]
    }
   ],
   "source": [
    "@btime my_multithreaded_sum_simd($v3);\n",
    "@btime my_multithreaded_sum_simd2($v3);"
   ]
  },
  {
   "cell_type": "code",
   "execution_count": 40,
   "metadata": {},
   "outputs": [
    {
     "data": {
      "text/plain": [
       "134"
      ]
     },
     "execution_count": 40,
     "metadata": {},
     "output_type": "execute_result"
    }
   ],
   "source": [
    "my_multithreaded_sum_simd2([1,2,3,10])"
   ]
  },
  {
   "cell_type": "code",
   "execution_count": 41,
   "metadata": {},
   "outputs": [
    {
     "data": {
      "text/plain": [
       "(167658.7030407145, 167658.7030406405, 167658.70304063277, 167658.703040633)"
      ]
     },
     "execution_count": 41,
     "metadata": {},
     "output_type": "execute_result"
    }
   ],
   "source": [
    "my_sum(v), my_simd_sum(v), my_multithreaded_sum_simd(v), my_multithreaded_sum_simd2(v)"
   ]
  },
  {
   "cell_type": "code",
   "execution_count": null,
   "metadata": {},
   "outputs": [],
   "source": []
  },
  {
   "cell_type": "code",
   "execution_count": null,
   "metadata": {},
   "outputs": [],
   "source": []
  }
 ],
 "metadata": {
  "kernelspec": {
   "display_name": "Julia 1.0.3",
   "language": "julia",
   "name": "julia-1.0"
  },
  "language_info": {
   "file_extension": ".jl",
   "mimetype": "application/julia",
   "name": "julia",
   "version": "1.0.3"
  }
 },
 "nbformat": 4,
 "nbformat_minor": 2
}
