{
 "cells": [
  {
   "cell_type": "code",
   "execution_count": 147,
   "metadata": {},
   "outputs": [
    {
     "data": {
      "text/plain": [
       "myfunc (generic function with 1 method)"
      ]
     },
     "execution_count": 147,
     "metadata": {},
     "output_type": "execute_result"
    }
   ],
   "source": [
    "function myfunc(a, b)\n",
    "    if a > b\n",
    "        return a - b\n",
    "    else\n",
    "        return a + b\n",
    "    end\n",
    "end"
   ]
  },
  {
   "cell_type": "code",
   "execution_count": 148,
   "metadata": {},
   "outputs": [],
   "source": [
    "x = rand(1_000_000);"
   ]
  },
  {
   "cell_type": "code",
   "execution_count": 149,
   "metadata": {},
   "outputs": [],
   "source": [
    "using BenchmarkTools"
   ]
  },
  {
   "cell_type": "code",
   "execution_count": 150,
   "metadata": {},
   "outputs": [
    {
     "name": "stdout",
     "output_type": "stream",
     "text": [
      "  2.667 ms (4 allocations: 7.63 MiB)\n"
     ]
    }
   ],
   "source": [
    "@btime myfunc.(x, 2.);"
   ]
  },
  {
   "cell_type": "code",
   "execution_count": 151,
   "metadata": {},
   "outputs": [
    {
     "data": {
      "text/plain": [
       "myfuncloop (generic function with 1 method)"
      ]
     },
     "execution_count": 151,
     "metadata": {},
     "output_type": "execute_result"
    }
   ],
   "source": [
    "function myfuncloop(x, value)\n",
    "    result = zeros(eltype(x), length(x))\n",
    "    \n",
    "    for k in 1:length(x)\n",
    "        if x[k] > value\n",
    "            result[k] = x[k] + value\n",
    "        else\n",
    "            result[k] = x[k]- value\n",
    "        end\n",
    "    end\n",
    "    return result\n",
    "end"
   ]
  },
  {
   "cell_type": "code",
   "execution_count": 152,
   "metadata": {},
   "outputs": [],
   "source": [
    "x = rand(1000_000);"
   ]
  },
  {
   "cell_type": "code",
   "execution_count": 153,
   "metadata": {},
   "outputs": [
    {
     "name": "stdout",
     "output_type": "stream",
     "text": [
      "  3.672 ms (2 allocations: 7.63 MiB)\n"
     ]
    }
   ],
   "source": [
    "@btime myfuncloop(x, 2.);"
   ]
  },
  {
   "cell_type": "code",
   "execution_count": 154,
   "metadata": {},
   "outputs": [
    {
     "data": {
      "text/plain": [
       "myfuncloop2 (generic function with 1 method)"
      ]
     },
     "execution_count": 154,
     "metadata": {},
     "output_type": "execute_result"
    }
   ],
   "source": [
    "function myfuncloop2(x, value)\n",
    "    result = Array{eltype(x)}(undef, length(x))\n",
    "    \n",
    "    @inbounds for k in 1:length(x)\n",
    "        if x[k] > value\n",
    "            result[k] += value\n",
    "        else\n",
    "            result[k] -= value\n",
    "        end\n",
    "    end\n",
    "    return result\n",
    "end"
   ]
  },
  {
   "cell_type": "code",
   "execution_count": 155,
   "metadata": {},
   "outputs": [
    {
     "name": "stdout",
     "output_type": "stream",
     "text": [
      "  3.024 ms (2 allocations: 7.63 MiB)\n"
     ]
    }
   ],
   "source": [
    "@btime myfuncloop2(x, 2.);"
   ]
  },
  {
   "cell_type": "code",
   "execution_count": 156,
   "metadata": {},
   "outputs": [
    {
     "data": {
      "text/plain": [
       "myfuncloop3 (generic function with 1 method)"
      ]
     },
     "execution_count": 156,
     "metadata": {},
     "output_type": "execute_result"
    }
   ],
   "source": [
    "function myfuncloop3(x, value)\n",
    "    result = Array{eltype(x)}(undef, length(x))\n",
    "\n",
    "    @inbounds for k in 1:length(x)\n",
    "        result[k] = myfunc(x[k], value)\n",
    "    end\n",
    "    return result\n",
    "end"
   ]
  },
  {
   "cell_type": "code",
   "execution_count": 157,
   "metadata": {},
   "outputs": [
    {
     "name": "stdout",
     "output_type": "stream",
     "text": [
      "  2.635 ms (2 allocations: 7.63 MiB)\n"
     ]
    }
   ],
   "source": [
    "@btime myfuncloop3(x, 2.);"
   ]
  },
  {
   "cell_type": "code",
   "execution_count": 158,
   "metadata": {},
   "outputs": [
    {
     "data": {
      "text/plain": [
       "myfuncloop4 (generic function with 1 method)"
      ]
     },
     "execution_count": 158,
     "metadata": {},
     "output_type": "execute_result"
    }
   ],
   "source": [
    "function myfuncloop4(x, value)\n",
    "    result = Array{eltype(x)}(undef, length(x))\n",
    "\n",
    "    @inbounds for k in 1:length(x)\n",
    "        result[k] =  x[k] > value ? x[k] - value : x[k] +value\n",
    "    end\n",
    "    return result\n",
    "end"
   ]
  },
  {
   "cell_type": "markdown",
   "metadata": {},
   "source": [
    "### using simd"
   ]
  },
  {
   "cell_type": "code",
   "execution_count": 159,
   "metadata": {
    "scrolled": true
   },
   "outputs": [
    {
     "data": {
      "text/plain": [
       "myfuncloop5 (generic function with 1 method)"
      ]
     },
     "execution_count": 159,
     "metadata": {},
     "output_type": "execute_result"
    }
   ],
   "source": [
    "function myfuncloop5(x, value)\n",
    "    result = Array{eltype(x)}(undef, length(x))\n",
    "\n",
    "    @inbounds @simd for k in 1:length(x)\n",
    "        result[k] =  x[k] > value ? x[k] - value : x[k] +value\n",
    "    end\n",
    "    return result\n",
    "end"
   ]
  },
  {
   "cell_type": "code",
   "execution_count": null,
   "metadata": {},
   "outputs": [],
   "source": [
    "@btime myfuncloop5(x, 2.);"
   ]
  },
  {
   "cell_type": "code",
   "execution_count": null,
   "metadata": {},
   "outputs": [],
   "source": []
  },
  {
   "cell_type": "code",
   "execution_count": null,
   "metadata": {},
   "outputs": [],
   "source": []
  },
  {
   "cell_type": "code",
   "execution_count": null,
   "metadata": {},
   "outputs": [],
   "source": []
  }
 ],
 "metadata": {
  "kernelspec": {
   "display_name": "Julia 1.1.0-rc1",
   "language": "julia",
   "name": "julia-1.1"
  },
  "language_info": {
   "file_extension": ".jl",
   "mimetype": "application/julia",
   "name": "julia",
   "version": "1.1.0"
  }
 },
 "nbformat": 4,
 "nbformat_minor": 2
}
