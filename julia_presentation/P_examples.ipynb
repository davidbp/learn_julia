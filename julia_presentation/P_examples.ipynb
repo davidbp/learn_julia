{
 "cells": [
  {
   "cell_type": "markdown",
   "metadata": {
    "toc": true
   },
   "source": [
    "<h1>Table of Contents<span class=\"tocSkip\"></span></h1>\n",
    "<div class=\"toc\"><ul class=\"toc-item\"><li><span><a href=\"#Easy-programming-for-everybody\" data-toc-modified-id=\"Easy-programming-for-everybody-1\"><span class=\"toc-item-num\">1&nbsp;&nbsp;</span>Easy programming for everybody</a></span><ul class=\"toc-item\"><li><span><a href=\"#1)-Summing-a-series\" data-toc-modified-id=\"1)-Summing-a-series-1.1\"><span class=\"toc-item-num\">1.1&nbsp;&nbsp;</span>1) Summing a series</a></span></li><li><span><a href=\"#2)-Controlling-outliers-(-or-clipping-gradients)\" data-toc-modified-id=\"2)-Controlling-outliers-(-or-clipping-gradients)-1.2\"><span class=\"toc-item-num\">1.2&nbsp;&nbsp;</span>2) Controlling outliers ( or clipping gradients)</a></span><ul class=\"toc-item\"><li><span><a href=\"#Yeah-but-I-not-as-noob,-I-would-never-do-that\" data-toc-modified-id=\"Yeah-but-I-not-as-noob,-I-would-never-do-that-1.2.1\"><span class=\"toc-item-num\">1.2.1&nbsp;&nbsp;</span>Yeah but I not as noob, I would never do that</a></span></li><li><span><a href=\"#Maybe-in-float32-this-is-faster\" data-toc-modified-id=\"Maybe-in-float32-this-is-faster-1.2.2\"><span class=\"toc-item-num\">1.2.2&nbsp;&nbsp;</span>Maybe in float32 this is faster</a></span></li></ul></li><li><span><a href=\"#3)-Computing-a-quantity-depending-on-a-&quot;custom-criteria&quot;\" data-toc-modified-id=\"3)-Computing-a-quantity-depending-on-a-&quot;custom-criteria&quot;-1.3\"><span class=\"toc-item-num\">1.3&nbsp;&nbsp;</span>3) Computing a quantity depending on a \"custom criteria\"</a></span></li><li><span><a href=\"#4)-L2-norm\" data-toc-modified-id=\"4)-L2-norm-1.4\"><span class=\"toc-item-num\">1.4&nbsp;&nbsp;</span>4) L2 norm</a></span></li></ul></li></ul></div>"
   ]
  },
  {
   "cell_type": "markdown",
   "metadata": {},
   "source": [
    "# Easy programming for everybody"
   ]
  },
  {
   "cell_type": "markdown",
   "metadata": {},
   "source": [
    "http://tullo.ch/articles/python-vs-julia/"
   ]
  },
  {
   "cell_type": "code",
   "execution_count": 8,
   "metadata": {
    "ExecuteTime": {
     "end_time": "2022-04-06T11:50:31.628999Z",
     "start_time": "2022-04-06T11:50:31.626638Z"
    }
   },
   "outputs": [],
   "source": [
    "import numpy as np\n",
    "import time"
   ]
  },
  {
   "cell_type": "markdown",
   "metadata": {},
   "source": [
    "## 1) Summing a series "
   ]
  },
  {
   "cell_type": "code",
   "execution_count": 10,
   "metadata": {
    "ExecuteTime": {
     "end_time": "2022-04-06T11:51:04.390947Z",
     "start_time": "2022-04-06T11:51:04.388733Z"
    }
   },
   "outputs": [],
   "source": [
    "def one_over_n(n):\n",
    "    aux = 0.\n",
    "    for i in range(1,n+1):\n",
    "        aux += 1./i          \n",
    "    return aux"
   ]
  },
  {
   "cell_type": "code",
   "execution_count": 11,
   "metadata": {
    "ExecuteTime": {
     "end_time": "2022-04-06T11:51:09.385488Z",
     "start_time": "2022-04-06T11:51:04.655825Z"
    }
   },
   "outputs": [
    {
     "name": "stdout",
     "output_type": "stream",
     "text": [
      "58.2 ms ± 1.26 ms per loop (mean ± std. dev. of 7 runs, 10 loops each)\n"
     ]
    }
   ],
   "source": [
    "%%timeit \n",
    "aux = one_over_n(1_000_000)"
   ]
  },
  {
   "cell_type": "code",
   "execution_count": 12,
   "metadata": {
    "ExecuteTime": {
     "end_time": "2022-04-06T11:52:08.018610Z",
     "start_time": "2022-04-06T11:52:07.947764Z"
    },
    "scrolled": true
   },
   "outputs": [
    {
     "data": {
      "text/plain": [
       "14.392726722864989"
      ]
     },
     "execution_count": 12,
     "metadata": {},
     "output_type": "execute_result"
    }
   ],
   "source": [
    "one_over_n(1_000_000)"
   ]
  },
  {
   "cell_type": "markdown",
   "metadata": {},
   "source": [
    "## 2) Controlling outliers ( or clipping gradients)"
   ]
  },
  {
   "cell_type": "code",
   "execution_count": 13,
   "metadata": {
    "ExecuteTime": {
     "end_time": "2022-04-06T11:54:37.917003Z",
     "start_time": "2022-04-06T11:54:37.913505Z"
    }
   },
   "outputs": [],
   "source": [
    "def clip(x, a=0 , b= 1 ):\n",
    "    for i in range(len(x)):\n",
    "        if x[i] < a:\n",
    "            x[i] = a\n",
    "        elif x[i] > b:\n",
    "            x[i] = b\n",
    "    return x"
   ]
  },
  {
   "cell_type": "code",
   "execution_count": 14,
   "metadata": {
    "ExecuteTime": {
     "end_time": "2022-04-06T11:54:38.868220Z",
     "start_time": "2022-04-06T11:54:38.588083Z"
    }
   },
   "outputs": [],
   "source": [
    "x = np.random.randn(10**7)"
   ]
  },
  {
   "cell_type": "code",
   "execution_count": 15,
   "metadata": {
    "ExecuteTime": {
     "end_time": "2022-04-06T11:55:19.772326Z",
     "start_time": "2022-04-06T11:54:40.139738Z"
    }
   },
   "outputs": [
    {
     "name": "stdout",
     "output_type": "stream",
     "text": [
      "5.03 s ± 229 ms per loop (mean ± std. dev. of 7 runs, 1 loop each)\n"
     ]
    }
   ],
   "source": [
    "%%timeit \n",
    "clip(x,0,1)"
   ]
  },
  {
   "cell_type": "markdown",
   "metadata": {},
   "source": [
    "### Yeah but I not as noob, I would never do that"
   ]
  },
  {
   "cell_type": "code",
   "execution_count": 16,
   "metadata": {
    "ExecuteTime": {
     "end_time": "2022-04-06T12:01:15.391062Z",
     "start_time": "2022-04-06T12:01:15.126303Z"
    }
   },
   "outputs": [],
   "source": [
    "x = np.random.randn(10**7)"
   ]
  },
  {
   "cell_type": "code",
   "execution_count": 17,
   "metadata": {
    "ExecuteTime": {
     "end_time": "2022-04-06T12:01:15.937247Z",
     "start_time": "2022-04-06T12:01:15.934356Z"
    }
   },
   "outputs": [],
   "source": [
    "def clip_vectorized(x, a=0, b=1):\n",
    "    x[x<a] = a\n",
    "    x[x>b] = b\n",
    "    return x"
   ]
  },
  {
   "cell_type": "code",
   "execution_count": 18,
   "metadata": {
    "ExecuteTime": {
     "end_time": "2022-04-06T12:01:27.273783Z",
     "start_time": "2022-04-06T12:01:16.416859Z"
    },
    "scrolled": true
   },
   "outputs": [
    {
     "name": "stdout",
     "output_type": "stream",
     "text": [
      "13.2 ms ± 492 µs per loop (mean ± std. dev. of 7 runs, 100 loops each)\n"
     ]
    }
   ],
   "source": [
    "%%timeit \n",
    "clip_vectorized(x, 0, 1)"
   ]
  },
  {
   "cell_type": "markdown",
   "metadata": {},
   "source": [
    "### Maybe in float32 this is faster"
   ]
  },
  {
   "cell_type": "code",
   "execution_count": 12,
   "metadata": {
    "ExecuteTime": {
     "end_time": "2022-04-06T10:29:50.830215Z",
     "start_time": "2022-04-06T10:29:50.563842Z"
    }
   },
   "outputs": [],
   "source": [
    "x = np.array(np.random.randn(10**7), dtype=\"float32\")"
   ]
  },
  {
   "cell_type": "code",
   "execution_count": 13,
   "metadata": {
    "ExecuteTime": {
     "end_time": "2022-04-06T10:29:56.062267Z",
     "start_time": "2022-04-06T10:29:50.846999Z"
    }
   },
   "outputs": [
    {
     "name": "stdout",
     "output_type": "stream",
     "text": [
      "6.21 ms ± 298 µs per loop (mean ± std. dev. of 7 runs, 100 loops each)\n"
     ]
    }
   ],
   "source": [
    "%%timeit \n",
    "clip_vectorized(x, 0, 1)"
   ]
  },
  {
   "cell_type": "code",
   "execution_count": 14,
   "metadata": {
    "ExecuteTime": {
     "end_time": "2022-04-06T10:30:22.088814Z",
     "start_time": "2022-04-06T10:29:56.072047Z"
    }
   },
   "outputs": [],
   "source": [
    "x = np.array(np.random.randn(10**9), dtype=\"float32\")"
   ]
  },
  {
   "cell_type": "code",
   "execution_count": 15,
   "metadata": {
    "ExecuteTime": {
     "end_time": "2022-04-06T10:30:38.970333Z",
     "start_time": "2022-04-06T10:30:22.098838Z"
    }
   },
   "outputs": [
    {
     "name": "stdout",
     "output_type": "stream",
     "text": [
      "1.22 s ± 32.1 ms per loop (mean ± std. dev. of 7 runs, 1 loop each)\n"
     ]
    }
   ],
   "source": [
    "%%timeit \n",
    "clip_vectorized(x, 0, 1)"
   ]
  },
  {
   "cell_type": "markdown",
   "metadata": {},
   "source": [
    "## 3) Computing a quantity depending on a \"custom criteria\""
   ]
  },
  {
   "cell_type": "code",
   "execution_count": 19,
   "metadata": {
    "ExecuteTime": {
     "end_time": "2022-04-06T12:05:23.216443Z",
     "start_time": "2022-04-06T12:05:23.213718Z"
    }
   },
   "outputs": [],
   "source": [
    "def compute_taxes(salary):\n",
    "    if salary < 18000:\n",
    "        return salary * 0.2\n",
    "    elif  18000 < salary < 25000:\n",
    "        return salary * 0.3\n",
    "    elif   25000 < salary < 70000:\n",
    "        return salary * 0.4\n",
    "    else:\n",
    "        return salary * 0.5"
   ]
  },
  {
   "cell_type": "code",
   "execution_count": 20,
   "metadata": {
    "ExecuteTime": {
     "end_time": "2022-04-06T12:05:23.364538Z",
     "start_time": "2022-04-06T12:05:23.350705Z"
    }
   },
   "outputs": [],
   "source": [
    "salaries = np.array(np.random.randint(18.000, 100000, 10**6), \"float64\")"
   ]
  },
  {
   "cell_type": "code",
   "execution_count": 21,
   "metadata": {
    "ExecuteTime": {
     "end_time": "2022-04-06T12:05:45.686944Z",
     "start_time": "2022-04-06T12:05:38.788733Z"
    }
   },
   "outputs": [
    {
     "name": "stdout",
     "output_type": "stream",
     "text": [
      "847 ms ± 19.7 ms per loop (mean ± std. dev. of 7 runs, 1 loop each)\n"
     ]
    }
   ],
   "source": [
    "%%timeit\n",
    "taxes = [compute_taxes(x) for x in salaries ]"
   ]
  },
  {
   "cell_type": "code",
   "execution_count": 22,
   "metadata": {
    "ExecuteTime": {
     "end_time": "2022-04-06T12:06:26.620441Z",
     "start_time": "2022-04-06T12:06:26.372905Z"
    }
   },
   "outputs": [],
   "source": [
    "from numba import jit"
   ]
  },
  {
   "cell_type": "code",
   "execution_count": 23,
   "metadata": {
    "ExecuteTime": {
     "end_time": "2022-04-06T12:06:29.188815Z",
     "start_time": "2022-04-06T12:06:29.157274Z"
    },
    "scrolled": true
   },
   "outputs": [],
   "source": [
    "@jit\n",
    "def compute_taxes_jit(salary):\n",
    "    if salary < 18000:\n",
    "        return salary * 0.2\n",
    "    elif  18000 < salary < 25000:\n",
    "        return salary * 0.3\n",
    "    elif   25000 < salary < 70000:\n",
    "        return salary * 0.4\n",
    "    else:\n",
    "        return salary * 0.5"
   ]
  },
  {
   "cell_type": "code",
   "execution_count": 24,
   "metadata": {
    "ExecuteTime": {
     "end_time": "2022-04-06T12:06:32.533933Z",
     "start_time": "2022-04-06T12:06:30.372415Z"
    },
    "scrolled": true
   },
   "outputs": [
    {
     "name": "stdout",
     "output_type": "stream",
     "text": [
      "214 ms ± 6.41 ms per loop (mean ± std. dev. of 7 runs, 1 loop each)\n"
     ]
    }
   ],
   "source": [
    "%%timeit\n",
    "taxes = [compute_taxes_jit(x) for x in salaries ]"
   ]
  },
  {
   "cell_type": "markdown",
   "metadata": {
    "collapsed": true
   },
   "source": [
    "## 4) L2 norm"
   ]
  },
  {
   "cell_type": "code",
   "execution_count": 25,
   "metadata": {
    "ExecuteTime": {
     "end_time": "2022-04-06T12:07:49.322458Z",
     "start_time": "2022-04-06T12:07:49.296422Z"
    }
   },
   "outputs": [],
   "source": [
    "len_ = 1000000;\n",
    "x = np.random.rand(len_).astype('float32');\n",
    "y = np.random.rand(len_).astype('float32');"
   ]
  },
  {
   "cell_type": "code",
   "execution_count": 26,
   "metadata": {
    "ExecuteTime": {
     "end_time": "2022-04-06T12:07:54.299400Z",
     "start_time": "2022-04-06T12:07:51.738473Z"
    }
   },
   "outputs": [
    {
     "name": "stdout",
     "output_type": "stream",
     "text": [
      "3.11 ms ± 76.8 µs per loop (mean ± std. dev. of 7 runs, 100 loops each)\n"
     ]
    }
   ],
   "source": [
    "%%timeit \n",
    "(x - y)**2/x.shape[0]"
   ]
  },
  {
   "cell_type": "code",
   "execution_count": 29,
   "metadata": {
    "ExecuteTime": {
     "end_time": "2022-04-06T10:57:16.862820Z",
     "start_time": "2022-04-06T10:57:16.860435Z"
    }
   },
   "outputs": [],
   "source": [
    "def l2_squared(x,y):\n",
    "    norm = 0.\n",
    "    for i in range(x.shape[0]):\n",
    "        norm = norm + (x[i] - y[i])**2\n",
    "    return norm/x.shape[0]"
   ]
  },
  {
   "cell_type": "code",
   "execution_count": 30,
   "metadata": {
    "ExecuteTime": {
     "end_time": "2022-04-06T10:57:20.769949Z",
     "start_time": "2022-04-06T10:57:17.099043Z"
    }
   },
   "outputs": [
    {
     "name": "stdout",
     "output_type": "stream",
     "text": [
      "455 ms ± 9.37 ms per loop (mean ± std. dev. of 7 runs, 1 loop each)\n"
     ]
    }
   ],
   "source": [
    "%%timeit\n",
    "l2_squared(x,y)"
   ]
  }
 ],
 "metadata": {
  "kernelspec": {
   "display_name": "Python 3 (ipykernel)",
   "language": "python",
   "name": "python3"
  },
  "language_info": {
   "codemirror_mode": {
    "name": "ipython",
    "version": 3
   },
   "file_extension": ".py",
   "mimetype": "text/x-python",
   "name": "python",
   "nbconvert_exporter": "python",
   "pygments_lexer": "ipython3",
   "version": "3.8.5"
  },
  "toc": {
   "base_numbering": 1,
   "nav_menu": {},
   "number_sections": true,
   "sideBar": true,
   "skip_h1_title": false,
   "title_cell": "Table of Contents",
   "title_sidebar": "Contents",
   "toc_cell": true,
   "toc_position": {
    "height": "calc(100% - 180px)",
    "left": "10px",
    "top": "150px",
    "width": "165px"
   },
   "toc_section_display": true,
   "toc_window_display": false
  },
  "varInspector": {
   "cols": {
    "lenName": 16,
    "lenType": 16,
    "lenVar": 40
   },
   "kernels_config": {
    "python": {
     "delete_cmd_postfix": "",
     "delete_cmd_prefix": "del ",
     "library": "var_list.py",
     "varRefreshCmd": "print(var_dic_list())"
    },
    "r": {
     "delete_cmd_postfix": ") ",
     "delete_cmd_prefix": "rm(",
     "library": "var_list.r",
     "varRefreshCmd": "cat(var_dic_list()) "
    }
   },
   "types_to_exclude": [
    "module",
    "function",
    "builtin_function_or_method",
    "instance",
    "_Feature"
   ],
   "window_display": false
  }
 },
 "nbformat": 4,
 "nbformat_minor": 1
}
