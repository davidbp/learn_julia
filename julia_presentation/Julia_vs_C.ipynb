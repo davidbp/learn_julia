{
 "cells": [
  {
   "cell_type": "code",
   "execution_count": 1,
   "metadata": {},
   "outputs": [],
   "source": [
    "# Julia package for benchmarking\n",
    "using BenchmarkTools"
   ]
  },
  {
   "cell_type": "markdown",
   "metadata": {},
   "source": [
    "# 0) Why Julia ?\n",
    "\n",
    "Julia is a compiled language which allows users to write code that  runs really fast (as fast as C or Fortran). \n",
    "\n",
    "https://github.com/JuliaLang/julialang.github.com/blob/master/blog/_posts/moredots/More-Dots.ipynb"
   ]
  },
  {
   "cell_type": "code",
   "execution_count": 2,
   "metadata": {},
   "outputs": [],
   "source": [
    "a = rand(10^6);"
   ]
  },
  {
   "cell_type": "markdown",
   "metadata": {},
   "source": [
    "# C code"
   ]
  },
  {
   "cell_type": "code",
   "execution_count": 3,
   "metadata": {},
   "outputs": [
    {
     "data": {
      "text/plain": [
       "c_sum (generic function with 1 method)"
      ]
     },
     "execution_count": 3,
     "metadata": {},
     "output_type": "execute_result"
    }
   ],
   "source": [
    "C_code = \"\"\"\n",
    "#include <stddef.h>\n",
    "double c_sum(size_t n, double *X) {\n",
    "    double s = 0.0;\n",
    "    size_t i;\n",
    "    for (i = 0; i < n; ++i) {\n",
    "        s += X[i];\n",
    "    }\n",
    "    return s;\n",
    "}\n",
    "\"\"\"\n",
    "\n",
    "const Clib = tempname()   # make a temporary file\n",
    "\n",
    "# compile to a shared library by piping C_code to gcc  (need to have gcc installed)\n",
    "open(`gcc -fPIC -O3 -msse3 -xc -shared -o $(Clib * \".\" * Libdl.dlext) -`, \"w\") do f\n",
    "    print(f, C_code) \n",
    "end\n",
    "\n",
    "# define a Julia function that calls the C function:\n",
    "c_sum(X::Array{Float64}) = ccall((\"c_sum\", Clib), Float64, (Csize_t, Ptr{Float64}), length(X), X)"
   ]
  },
  {
   "cell_type": "code",
   "execution_count": 4,
   "metadata": {},
   "outputs": [
    {
     "data": {
      "text/plain": [
       "500652.0359250248"
      ]
     },
     "execution_count": 4,
     "metadata": {},
     "output_type": "execute_result"
    }
   ],
   "source": [
    "c_sum(a)"
   ]
  },
  {
   "cell_type": "code",
   "execution_count": 5,
   "metadata": {},
   "outputs": [
    {
     "data": {
      "text/plain": [
       "true"
      ]
     },
     "execution_count": 5,
     "metadata": {},
     "output_type": "execute_result"
    }
   ],
   "source": [
    "# type \\approx and then <TAB> to get the ≈ symbol\n",
    "c_sum(a) ≈ sum(a) "
   ]
  },
  {
   "cell_type": "code",
   "execution_count": 6,
   "metadata": {},
   "outputs": [
    {
     "data": {
      "text/plain": [
       "BenchmarkTools.Trial: \n",
       "  memory estimate:  16 bytes\n",
       "  allocs estimate:  1\n",
       "  --------------\n",
       "  minimum time:     921.011 μs (0.00% GC)\n",
       "  median time:      1.111 ms (0.00% GC)\n",
       "  mean time:        1.134 ms (0.00% GC)\n",
       "  maximum time:     3.426 ms (0.00% GC)\n",
       "  --------------\n",
       "  samples:          4361\n",
       "  evals/sample:     1"
      ]
     },
     "execution_count": 6,
     "metadata": {},
     "output_type": "execute_result"
    }
   ],
   "source": [
    "c_bench = @benchmark c_sum(a)"
   ]
  },
  {
   "cell_type": "code",
   "execution_count": 7,
   "metadata": {},
   "outputs": [
    {
     "name": "stdout",
     "output_type": "stream",
     "text": [
      "C: Fastest time was 0.921011 msecs.\n"
     ]
    }
   ],
   "source": [
    "println(\"C: Fastest time was $(minimum(c_bench.times)/1e6) msecs.\")"
   ]
  },
  {
   "cell_type": "markdown",
   "metadata": {},
   "source": [
    "# Handwritten sum in julia"
   ]
  },
  {
   "cell_type": "code",
   "execution_count": 8,
   "metadata": {},
   "outputs": [
    {
     "data": {
      "text/plain": [
       "mysum (generic function with 1 method)"
      ]
     },
     "execution_count": 8,
     "metadata": {},
     "output_type": "execute_result"
    }
   ],
   "source": [
    "function mysum(A)   \n",
    "    s = 0.0  # s = zero(eltype(A))\n",
    "    for a in A\n",
    "        s += a\n",
    "    end\n",
    "    s\n",
    "end"
   ]
  },
  {
   "cell_type": "code",
   "execution_count": 9,
   "metadata": {},
   "outputs": [
    {
     "data": {
      "text/plain": [
       "BenchmarkTools.Trial: \n",
       "  memory estimate:  0 bytes\n",
       "  allocs estimate:  0\n",
       "  --------------\n",
       "  minimum time:     925.279 μs (0.00% GC)\n",
       "  median time:      1.191 ms (0.00% GC)\n",
       "  mean time:        1.327 ms (0.00% GC)\n",
       "  maximum time:     30.891 ms (0.00% GC)\n",
       "  --------------\n",
       "  samples:          3717\n",
       "  evals/sample:     1"
      ]
     },
     "execution_count": 9,
     "metadata": {},
     "output_type": "execute_result"
    }
   ],
   "source": [
    "j_bench_hand = @benchmark mysum($a)"
   ]
  },
  {
   "cell_type": "code",
   "execution_count": 17,
   "metadata": {},
   "outputs": [
    {
     "name": "stdout",
     "output_type": "stream",
     "text": [
      "\t.section\t__TEXT,__text,regular,pure_instructions\n",
      "Filename: In[15]\n",
      "Source line: 3\n",
      "\tmovq\t8(%rdi), %rax\n",
      "\txorpd\t%xmm0, %xmm0\n",
      "\ttestq\t%rax, %rax\n",
      "\tje\tL53\n",
      "\tmovq\t24(%rdi), %rdx\n",
      "\txorpd\t%xmm0, %xmm0\n",
      "\txorl\t%ecx, %ecx\n",
      "\tnopw\t(%rax,%rax)\n",
      "L32:\n",
      "\tcmpq\t%rdx, %rcx\n",
      "\tjae\tL54\n",
      "\tmovq\t(%rdi), %rsi\n",
      "Source line: 4\n",
      "\taddsd\t(%rsi,%rcx,8), %xmm0\n",
      "Source line: 3\n",
      "\tincq\t%rcx\n",
      "\tcmpq\t%rcx, %rax\n",
      "\tjne\tL32\n",
      "Source line: 6\n",
      "L53:\n",
      "\tretq\n",
      "L54:\n",
      "\tpushq\t%rbp\n",
      "\tmovq\t%rsp, %rbp\n",
      "Source line: 3\n",
      "\tmovq\t%rsp, %rax\n",
      "\tleaq\t-16(%rax), %rsi\n",
      "\tmovq\t%rsi, %rsp\n",
      "\tincq\t%rcx\n",
      "\tmovq\t%rcx, -16(%rax)\n",
      "\tmovabsq\t$jl_bounds_error_ints, %rax\n",
      "\tmovl\t$1, %edx\n",
      "\tcallq\t*%rax\n",
      "\tnopl\t(%rax)\n"
     ]
    }
   ],
   "source": [
    "# Looking at the compiled code\n",
    "@code_native mysum(a)"
   ]
  },
  {
   "cell_type": "code",
   "execution_count": 18,
   "metadata": {},
   "outputs": [
    {
     "name": "stdout",
     "output_type": "stream",
     "text": [
      "\n",
      "define double @julia_mysum_66080(i8**) #0 !dbg !5 {\n",
      "top:\n",
      "  %1 = getelementptr inbounds i8*, i8** %0, i64 1\n",
      "  %2 = bitcast i8** %1 to i64*\n",
      "  %3 = load i64, i64* %2, align 8\n",
      "  %4 = icmp eq i64 %3, 0\n",
      "  br i1 %4, label %L14, label %if.lr.ph\n",
      "\n",
      "if.lr.ph:                                         ; preds = %top\n",
      "  %5 = getelementptr i8*, i8** %0, i64 3\n",
      "  %6 = bitcast i8** %5 to i64*\n",
      "  %7 = load i64, i64* %6, align 8\n",
      "  %8 = bitcast i8** %0 to double**\n",
      "  br label %if\n",
      "\n",
      "if:                                               ; preds = %if.lr.ph, %idxend\n",
      "  %s.06 = phi double [ 0.000000e+00, %if.lr.ph ], [ %16, %idxend ]\n",
      "  %\"#temp#.05\" = phi i64 [ 1, %if.lr.ph ], [ %15, %idxend ]\n",
      "  %9 = add i64 %\"#temp#.05\", -1\n",
      "  %10 = icmp ult i64 %9, %7\n",
      "  br i1 %10, label %idxend, label %oob\n",
      "\n",
      "L14.loopexit:                                     ; preds = %idxend\n",
      "  br label %L14\n",
      "\n",
      "L14:                                              ; preds = %L14.loopexit, %top\n",
      "  %s.0.lcssa = phi double [ 0.000000e+00, %top ], [ %16, %L14.loopexit ]\n",
      "  ret double %s.0.lcssa\n",
      "\n",
      "oob:                                              ; preds = %if\n",
      "  %11 = alloca i64, align 8\n",
      "  store i64 %\"#temp#.05\", i64* %11, align 8\n",
      "  call void @jl_bounds_error_ints(i8** %0, i64* nonnull %11, i64 1)\n",
      "  unreachable\n",
      "\n",
      "idxend:                                           ; preds = %if\n",
      "  %12 = load double*, double** %8, align 8\n",
      "  %13 = getelementptr double, double* %12, i64 %9\n",
      "  %14 = load double, double* %13, align 8\n",
      "  %15 = add i64 %\"#temp#.05\", 1\n",
      "  %16 = fadd double %s.06, %14\n",
      "  %17 = icmp eq i64 %\"#temp#.05\", %3\n",
      "  br i1 %17, label %L14.loopexit, label %if\n",
      "}\n"
     ]
    }
   ],
   "source": [
    "# Looking at the llvm code\n",
    "@code_llvm mysum(a)"
   ]
  },
  {
   "cell_type": "markdown",
   "metadata": {},
   "source": [
    "## Making our fuction faster than C :D"
   ]
  },
  {
   "cell_type": "code",
   "execution_count": 25,
   "metadata": {},
   "outputs": [
    {
     "data": {
      "text/plain": [
       "mysum (generic function with 1 method)"
      ]
     },
     "execution_count": 25,
     "metadata": {},
     "output_type": "execute_result"
    }
   ],
   "source": [
    "function mysum(A)   \n",
    "    s = 0.0  # s = zero(eltype(A))\n",
    "     for a in A\n",
    "        s += a\n",
    "    end\n",
    "    s\n",
    "end"
   ]
  },
  {
   "cell_type": "code",
   "execution_count": 30,
   "metadata": {},
   "outputs": [
    {
     "data": {
      "text/plain": [
       "BenchmarkTools.Trial: \n",
       "  memory estimate:  16 bytes\n",
       "  allocs estimate:  1\n",
       "  --------------\n",
       "  minimum time:     924.751 μs (0.00% GC)\n",
       "  median time:      1.143 ms (0.00% GC)\n",
       "  mean time:        1.178 ms (0.00% GC)\n",
       "  maximum time:     4.343 ms (0.00% GC)\n",
       "  --------------\n",
       "  samples:          4175\n",
       "  evals/sample:     1"
      ]
     },
     "execution_count": 30,
     "metadata": {},
     "output_type": "execute_result"
    }
   ],
   "source": [
    "@benchmark mysum(a)"
   ]
  },
  {
   "cell_type": "code",
   "execution_count": 35,
   "metadata": {},
   "outputs": [
    {
     "data": {
      "text/plain": [
       "mysum2 (generic function with 1 method)"
      ]
     },
     "execution_count": 35,
     "metadata": {},
     "output_type": "execute_result"
    }
   ],
   "source": [
    "function mysum2(A)   \n",
    "    s = 0.0  # s = zero(eltype(A))\n",
    "    @simd for a in A\n",
    "        s += a\n",
    "    end\n",
    "    s\n",
    "end"
   ]
  },
  {
   "cell_type": "code",
   "execution_count": 37,
   "metadata": {},
   "outputs": [
    {
     "data": {
      "text/plain": [
       "quote  # simdloop.jl, line 65:\n",
       "    let ##r#694 = A # simdloop.jl, line 66:\n",
       "        for ##i#695 = Base.simd_outer_range(##r#694) # simdloop.jl, line 67:\n",
       "            let ##n#696 = Base.simd_inner_length(##r#694, ##i#695) # simdloop.jl, line 68:\n",
       "                if zero(##n#696) < ##n#696 # simdloop.jl, line 70:\n",
       "                    let ##i#697 = zero(##n#696) # simdloop.jl, line 71:\n",
       "                        while ##i#697 < ##n#696 # simdloop.jl, line 72:\n",
       "                            local a_ = Base.simd_index(##r#694, ##i#695, ##i#697) # simdloop.jl, line 73:\n",
       "                            begin  # In[37], line 3:\n",
       "                                s += a_\n",
       "                            end # simdloop.jl, line 74:\n",
       "                            ##i#697 += 1 # simdloop.jl, line 75:\n",
       "                            $(Expr(:simdloop))\n",
       "                        end\n",
       "                    end # simdloop.jl, line 79:\n",
       "                    a_ = last(##r#694)\n",
       "                end\n",
       "            end\n",
       "        end\n",
       "    end # simdloop.jl, line 84:\n",
       "    nothing\n",
       "end"
      ]
     },
     "execution_count": 37,
     "metadata": {},
     "output_type": "execute_result"
    }
   ],
   "source": [
    "s = 0.0\n",
    "@macroexpand @simd for a_ in A\n",
    "        s += a_\n",
    "    end"
   ]
  },
  {
   "cell_type": "code",
   "execution_count": 29,
   "metadata": {
    "scrolled": true
   },
   "outputs": [
    {
     "data": {
      "text/plain": [
       "BenchmarkTools.Trial: \n",
       "  memory estimate:  16 bytes\n",
       "  allocs estimate:  1\n",
       "  --------------\n",
       "  minimum time:     408.952 μs (0.00% GC)\n",
       "  median time:      608.913 μs (0.00% GC)\n",
       "  mean time:        670.530 μs (0.00% GC)\n",
       "  maximum time:     6.134 ms (0.00% GC)\n",
       "  --------------\n",
       "  samples:          7230\n",
       "  evals/sample:     1"
      ]
     },
     "execution_count": 29,
     "metadata": {},
     "output_type": "execute_result"
    }
   ],
   "source": [
    "@benchmark mysum2(a)"
   ]
  },
  {
   "cell_type": "code",
   "execution_count": 17,
   "metadata": {},
   "outputs": [
    {
     "name": "stdout",
     "output_type": "stream",
     "text": [
      "\t.section\t__TEXT,__text,regular,pure_instructions\n",
      "Filename: In[12]\n",
      "Source line: 67\n",
      "\tmovq\t8(%rdi), %rax\n",
      "Source line: 64\n",
      "\tmovq\t24(%rdi), %rdx\n",
      "\txorl\t%ecx, %ecx\n",
      "Source line: 79\n",
      "\ttestq\t%rdx, %rdx\n",
      "\tcmovnsq\t%rdx, %rcx\n",
      "Source line: 68\n",
      "\ttestq\t%rax, %rax\n",
      "\tjle\tL206\n",
      "Source line: 79\n",
      "\tleaq\t-1(%rcx), %rsi\n",
      "\tcmpq\t%rdx, %rsi\n",
      "\tjae\tL210\n",
      "Source line: 50\n",
      "\tmovq\t(%rdi), %r9\n",
      "Source line: 66\n",
      "\tleaq\t16(%r9), %r8\n",
      "\tmovq\t%rax, %r10\n",
      "\tandq\t$-4, %r10\n",
      "\tpxor\t%xmm0, %xmm0\n",
      "\txorl\t%edi, %edi\n",
      "\tjmp\tL192\n",
      "Source line: 71\n",
      "L64:\n",
      "\ttestq\t%rax, %rax\n",
      "\tjle\tL192\n",
      "Source line: 50\n",
      "\tcmpq\t$4, %rax\n",
      "\tjae\tL79\n",
      "\txorl\t%edx, %edx\n",
      "\tjmp\tL156\n",
      "L79:\n",
      "\tmovq\t%rax, %rdx\n",
      "\tandq\t$-4, %rdx\n",
      "\tje\tL154\n",
      "\tmovq\t%xmm0, %xmm1            ## xmm1 = xmm0[0],zero\n",
      "\tpxor\t%xmm0, %xmm0\n",
      "Source line: 74\n",
      "\tmovq\t%r10, %rsi\n",
      "\tmovq\t%r8, %rcx\n",
      "\tnopw\t%cs:(%rax,%rax)\n",
      "Source line: 50\n",
      "L112:\n",
      "\tmovupd\t-16(%rcx), %xmm2\n",
      "\tmovupd\t(%rcx), %xmm3\n",
      "Source line: 4\n",
      "\taddpd\t%xmm2, %xmm1\n",
      "\taddpd\t%xmm3, %xmm0\n",
      "Source line: 50\n",
      "\taddq\t$32, %rcx\n",
      "\taddq\t$-4, %rsi\n",
      "\tjne\tL112\n",
      "Source line: 4\n",
      "\taddpd\t%xmm1, %xmm0\n",
      "\thaddpd\t%xmm0, %xmm0\n",
      "\tcmpq\t%rdx, %rax\n",
      "\tje\tL192\n",
      "\tjmp\tL156\n",
      "L154:\n",
      "\txorl\t%edx, %edx\n",
      "Source line: 50\n",
      "L156:\n",
      "\tmovq\t%rax, %rcx\n",
      "\tsubq\t%rdx, %rcx\n",
      "\tleaq\t(%r9,%rdx,8), %rdx\n",
      "\tnopw\t%cs:(%rax,%rax)\n",
      "Source line: 4\n",
      "L176:\n",
      "\taddsd\t(%rdx), %xmm0\n",
      "Source line: 71\n",
      "\taddq\t$8, %rdx\n",
      "\tdecq\t%rcx\n",
      "\tjne\tL176\n",
      "\tnopl\t(%rax)\n",
      "Source line: 66\n",
      "L192:\n",
      "\tincq\t%rdi\n",
      "\tcmpq\t$2, %rdi\n",
      "\tjne\tL64\n",
      "Source line: 6\n",
      "\tretq\n",
      "L206:\n",
      "\txorps\t%xmm0, %xmm0\n",
      "\tretq\n",
      "L210:\n",
      "\tpushq\t%rbp\n",
      "\tmovq\t%rsp, %rbp\n",
      "Source line: 79\n",
      "\tmovq\t%rsp, %rax\n",
      "\tleaq\t-16(%rax), %rsi\n",
      "\tmovq\t%rsi, %rsp\n",
      "\tmovq\t%rcx, -16(%rax)\n",
      "\tmovabsq\t$jl_bounds_error_ints, %rax\n",
      "\tmovl\t$1, %edx\n",
      "\tcallq\t*%rax\n",
      "\tnopw\t%cs:(%rax,%rax)\n"
     ]
    }
   ],
   "source": [
    "@code_native mysum2(a)"
   ]
  },
  {
   "cell_type": "code",
   "execution_count": null,
   "metadata": {
    "collapsed": true
   },
   "outputs": [],
   "source": []
  },
  {
   "cell_type": "code",
   "execution_count": 20,
   "metadata": {},
   "outputs": [
    {
     "data": {
      "text/plain": [
       "BenchmarkTools.Trial: \n",
       "  memory estimate:  0 bytes\n",
       "  allocs estimate:  0\n",
       "  --------------\n",
       "  minimum time:     352.776 μs (0.00% GC)\n",
       "  median time:      403.750 μs (0.00% GC)\n",
       "  mean time:        526.741 μs (0.00% GC)\n",
       "  maximum time:     3.609 ms (0.00% GC)\n",
       "  --------------\n",
       "  samples:          8949\n",
       "  evals/sample:     1\n",
       "  time tolerance:   5.00%\n",
       "  memory tolerance: 1.00%"
      ]
     },
     "execution_count": 20,
     "metadata": {},
     "output_type": "execute_result"
    }
   ],
   "source": [
    "j_bench_hand = @benchmark mysum2($a)"
   ]
  },
  {
   "cell_type": "markdown",
   "metadata": {},
   "source": [
    "## Summing in julia using the sum method"
   ]
  },
  {
   "cell_type": "code",
   "execution_count": 22,
   "metadata": {},
   "outputs": [
    {
     "data": {
      "text/html": [
       "sum(a) at <a href=\"https://github.com/JuliaLang/julia/tree/e63fec82acf47eee89a1fd2dfcc19505223e654b/base/reduce.jl#L350\" target=\"_blank\">reduce.jl:350</a>"
      ],
      "text/plain": [
       "sum(a) in Base at reduce.jl:350"
      ]
     },
     "execution_count": 22,
     "metadata": {},
     "output_type": "execute_result"
    }
   ],
   "source": [
    "@which sum(a)"
   ]
  },
  {
   "cell_type": "code",
   "execution_count": 23,
   "metadata": {},
   "outputs": [
    {
     "data": {
      "text/plain": [
       "BenchmarkTools.Trial: \n",
       "  memory estimate:  0 bytes\n",
       "  allocs estimate:  0\n",
       "  --------------\n",
       "  minimum time:     372.941 μs (0.00% GC)\n",
       "  median time:      421.894 μs (0.00% GC)\n",
       "  mean time:        450.698 μs (0.00% GC)\n",
       "  maximum time:     1.724 ms (0.00% GC)\n",
       "  --------------\n",
       "  samples:          10000\n",
       "  evals/sample:     1\n",
       "  time tolerance:   5.00%\n",
       "  memory tolerance: 1.00%"
      ]
     },
     "execution_count": 23,
     "metadata": {},
     "output_type": "execute_result"
    }
   ],
   "source": [
    "j_bench = @benchmark sum($a)"
   ]
  },
  {
   "cell_type": "code",
   "execution_count": 25,
   "metadata": {},
   "outputs": [],
   "source": [
    "#mapreduce(identity, +, 1:10)"
   ]
  }
 ],
 "metadata": {
  "kernelspec": {
   "display_name": "Julia 0.6.0",
   "language": "julia",
   "name": "julia-0.6"
  },
  "language_info": {
   "file_extension": ".jl",
   "mimetype": "application/julia",
   "name": "julia",
   "version": "0.6.0"
  }
 },
 "nbformat": 4,
 "nbformat_minor": 1
}
