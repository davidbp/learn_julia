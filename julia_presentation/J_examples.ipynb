{
 "cells": [
  {
   "cell_type": "markdown",
   "metadata": {
    "toc": true
   },
   "source": [
    "<h1>Table of Contents<span class=\"tocSkip\"></span></h1>\n",
    "<div class=\"toc\"><ul class=\"toc-item\"><li><span><a href=\"#High-perfomance-code-for-everybody\" data-toc-modified-id=\"High-perfomance-code-for-everybody-1\"><span class=\"toc-item-num\">1&nbsp;&nbsp;</span>High perfomance code for everybody</a></span><ul class=\"toc-item\"><li><span><a href=\"#1)-Summing-a-series\" data-toc-modified-id=\"1)-Summing-a-series-1.1\"><span class=\"toc-item-num\">1.1&nbsp;&nbsp;</span>1) Summing a series</a></span></li><li><span><a href=\"#2)-Controlling-outliers-(or-clipping-gradients)\" data-toc-modified-id=\"2)-Controlling-outliers-(or-clipping-gradients)-1.2\"><span class=\"toc-item-num\">1.2&nbsp;&nbsp;</span>2) Controlling outliers (or clipping gradients)</a></span></li><li><span><a href=\"#3)-Computing-a-quantity-depending-on-a-&quot;custom-criteria&quot;\" data-toc-modified-id=\"3)-Computing-a-quantity-depending-on-a-&quot;custom-criteria&quot;-1.3\"><span class=\"toc-item-num\">1.3&nbsp;&nbsp;</span>3) Computing a quantity depending on a \"custom criteria\"</a></span></li><li><span><a href=\"#4)-L2-norm\" data-toc-modified-id=\"4)-L2-norm-1.4\"><span class=\"toc-item-num\">1.4&nbsp;&nbsp;</span>4) L2 norm</a></span></li><li><span><a href=\"#Notes-on-SIMD\" data-toc-modified-id=\"Notes-on-SIMD-1.5\"><span class=\"toc-item-num\">1.5&nbsp;&nbsp;</span>Notes on SIMD</a></span></li></ul></li></ul></div>"
   ]
  },
  {
   "cell_type": "markdown",
   "metadata": {
    "collapsed": true
   },
   "source": [
    "# High perfomance code for everybody \n",
    "#### (Tell those C, Fortran bullies to go away)\n",
    "#### (Even better, show them you code runs as fast as their code )\n",
    "#### (Disclaimer -> Usual response: \"this benchmark is not representative\" )"
   ]
  },
  {
   "cell_type": "code",
   "execution_count": 70,
   "metadata": {
    "ExecuteTime": {
     "end_time": "2022-04-06T13:51:15.010000+02:00",
     "start_time": "2022-04-06T11:51:15.006Z"
    }
   },
   "outputs": [],
   "source": [
    "using BenchmarkTools"
   ]
  },
  {
   "cell_type": "markdown",
   "metadata": {
    "collapsed": true
   },
   "source": [
    "## 1) Summing a series "
   ]
  },
  {
   "cell_type": "code",
   "execution_count": 71,
   "metadata": {
    "ExecuteTime": {
     "end_time": "2022-04-06T13:51:23.496000+02:00",
     "start_time": "2022-04-06T11:51:23.493Z"
    }
   },
   "outputs": [
    {
     "data": {
      "text/plain": [
       "one_over_n (generic function with 1 method)"
      ]
     },
     "execution_count": 71,
     "metadata": {},
     "output_type": "execute_result"
    }
   ],
   "source": [
    "function one_over_n(n)\n",
    "    aux = 0.\n",
    "    for i in 1:n\n",
    "        aux += 1/i\n",
    "    end\n",
    "    return aux\n",
    "end"
   ]
  },
  {
   "cell_type": "code",
   "execution_count": 72,
   "metadata": {
    "ExecuteTime": {
     "end_time": "2022-04-06T13:51:34.799000+02:00",
     "start_time": "2022-04-06T11:51:24.184Z"
    }
   },
   "outputs": [
    {
     "name": "stdout",
     "output_type": "stream",
     "text": [
      "  911.235 μs (0 allocations: 0 bytes)\n"
     ]
    },
    {
     "data": {
      "text/plain": [
       "14.392726722864989"
      ]
     },
     "execution_count": 72,
     "metadata": {},
     "output_type": "execute_result"
    }
   ],
   "source": [
    "@btime aux = one_over_n(10^6)"
   ]
  },
  {
   "cell_type": "code",
   "execution_count": 73,
   "metadata": {
    "ExecuteTime": {
     "end_time": "2022-04-06T13:52:04.147000+02:00",
     "start_time": "2022-04-06T11:52:04.138Z"
    }
   },
   "outputs": [
    {
     "data": {
      "text/plain": [
       "14.392726722864989"
      ]
     },
     "execution_count": 73,
     "metadata": {},
     "output_type": "execute_result"
    }
   ],
   "source": [
    "one_over_n(10^6)"
   ]
  },
  {
   "cell_type": "code",
   "execution_count": 5,
   "metadata": {
    "ExecuteTime": {
     "end_time": "2022-04-06T13:02:51.113000+02:00",
     "start_time": "2022-04-06T11:02:51.112Z"
    }
   },
   "outputs": [],
   "source": [
    "#@code_native one_over_n(100)"
   ]
  },
  {
   "cell_type": "code",
   "execution_count": 74,
   "metadata": {
    "ExecuteTime": {
     "end_time": "2022-04-06T13:53:14.033000+02:00",
     "start_time": "2022-04-06T11:53:14.030Z"
    }
   },
   "outputs": [
    {
     "data": {
      "text/plain": [
       "one_over_n2 (generic function with 1 method)"
      ]
     },
     "execution_count": 74,
     "metadata": {},
     "output_type": "execute_result"
    }
   ],
   "source": [
    "@fastmath function one_over_n2(n)\n",
    "    aux = 0.\n",
    "    \n",
    "    for i in 1:n\n",
    "        aux += 1/i\n",
    "    end\n",
    "    return aux\n",
    "end"
   ]
  },
  {
   "cell_type": "code",
   "execution_count": 75,
   "metadata": {
    "ExecuteTime": {
     "end_time": "2022-04-06T13:53:24.992000+02:00",
     "start_time": "2022-04-06T11:53:14.449Z"
    }
   },
   "outputs": [
    {
     "name": "stdout",
     "output_type": "stream",
     "text": [
      "  569.550 μs (0 allocations: 0 bytes)\n"
     ]
    },
    {
     "data": {
      "text/plain": [
       "14.392726722865742"
      ]
     },
     "execution_count": 75,
     "metadata": {},
     "output_type": "execute_result"
    }
   ],
   "source": [
    "@btime aux = one_over_n2(10^6)"
   ]
  },
  {
   "cell_type": "markdown",
   "metadata": {},
   "source": [
    "## 2) Controlling outliers (or clipping gradients)"
   ]
  },
  {
   "cell_type": "code",
   "execution_count": 95,
   "metadata": {
    "ExecuteTime": {
     "end_time": "2022-04-06T14:00:37.465000+02:00",
     "start_time": "2022-04-06T12:00:37.460Z"
    }
   },
   "outputs": [
    {
     "data": {
      "text/plain": [
       "clip! (generic function with 3 methods)"
      ]
     },
     "execution_count": 95,
     "metadata": {},
     "output_type": "execute_result"
    }
   ],
   "source": [
    "function clip!(x, a=0, b= 1)\n",
    "    for i in 1:length(x)\n",
    "        if x[i] < a\n",
    "            x[i] = a\n",
    "        elseif x[i] > b\n",
    "            x[i] = b\n",
    "        end\n",
    "    end\n",
    "end"
   ]
  },
  {
   "cell_type": "code",
   "execution_count": 96,
   "metadata": {
    "ExecuteTime": {
     "end_time": "2022-04-06T14:00:38.120000+02:00",
     "start_time": "2022-04-06T12:00:38.086Z"
    }
   },
   "outputs": [],
   "source": [
    "x = randn(10^7);"
   ]
  },
  {
   "cell_type": "code",
   "execution_count": 97,
   "metadata": {
    "ExecuteTime": {
     "end_time": "2022-04-06T14:00:49.264000+02:00",
     "start_time": "2022-04-06T12:00:38.237Z"
    }
   },
   "outputs": [
    {
     "name": "stdout",
     "output_type": "stream",
     "text": [
      "  25.674 ms (0 allocations: 0 bytes)\n"
     ]
    }
   ],
   "source": [
    "@btime clip!(x,0,1)"
   ]
  },
  {
   "cell_type": "markdown",
   "metadata": {},
   "source": [
    "We can also use 'vectorized expressions'"
   ]
  },
  {
   "cell_type": "code",
   "execution_count": 98,
   "metadata": {
    "ExecuteTime": {
     "end_time": "2022-04-06T14:01:44.861000+02:00",
     "start_time": "2022-04-06T12:01:44.772Z"
    }
   },
   "outputs": [
    {
     "data": {
      "text/plain": [
       "clip_vectorized! (generic function with 3 methods)"
      ]
     },
     "execution_count": 98,
     "metadata": {},
     "output_type": "execute_result"
    }
   ],
   "source": [
    "@inbounds function clip_vectorized!(x, a=0, b= 1)\n",
    "    x[x.>1.] .= a\n",
    "    x[x.<0.] .= b\n",
    "end"
   ]
  },
  {
   "cell_type": "code",
   "execution_count": 99,
   "metadata": {
    "ExecuteTime": {
     "end_time": "2022-04-06T14:01:57.462000+02:00",
     "start_time": "2022-04-06T12:01:45.643Z"
    }
   },
   "outputs": [
    {
     "name": "stdout",
     "output_type": "stream",
     "text": [
      "  11.479 ms (11 allocations: 2.39 MiB)\n"
     ]
    },
    {
     "data": {
      "text/plain": [
       "0-element view(::Vector{Float64}, Int64[]) with eltype Float64"
      ]
     },
     "execution_count": 99,
     "metadata": {},
     "output_type": "execute_result"
    }
   ],
   "source": [
    "@btime clip_vectorized!(x,0,1)"
   ]
  },
  {
   "cell_type": "markdown",
   "metadata": {},
   "source": [
    "#### maybe in float32 this is faster"
   ]
  },
  {
   "cell_type": "code",
   "execution_count": 100,
   "metadata": {
    "ExecuteTime": {
     "end_time": "2022-04-06T14:02:49.874000+02:00",
     "start_time": "2022-04-06T12:02:49.770Z"
    }
   },
   "outputs": [
    {
     "data": {
      "text/plain": [
       "clip_float32! (generic function with 3 methods)"
      ]
     },
     "execution_count": 100,
     "metadata": {},
     "output_type": "execute_result"
    }
   ],
   "source": [
    "function clip_float32!( x::Array{Float32}, a=Float32(0.), b=Float32( 1.))\n",
    "    \n",
    "   @inbounds for i in 1:length(x)\n",
    "        if x[i] < a\n",
    "            x[i] = a\n",
    "        elseif x[i] > b\n",
    "            x[i] = b\n",
    "        end\n",
    "    end\n",
    "end"
   ]
  },
  {
   "cell_type": "code",
   "execution_count": 101,
   "metadata": {
    "ExecuteTime": {
     "end_time": "2022-04-06T14:02:50.404000+02:00",
     "start_time": "2022-04-06T12:02:50.298Z"
    }
   },
   "outputs": [],
   "source": [
    "x = randn(Float32, 10^7);"
   ]
  },
  {
   "cell_type": "code",
   "execution_count": 102,
   "metadata": {
    "ExecuteTime": {
     "end_time": "2022-04-06T14:03:01.300000+02:00",
     "start_time": "2022-04-06T12:02:50.546Z"
    }
   },
   "outputs": [
    {
     "name": "stdout",
     "output_type": "stream",
     "text": [
      "  2.231 ms (0 allocations: 0 bytes)\n"
     ]
    }
   ],
   "source": [
    "@btime clip_float32!(x)"
   ]
  },
  {
   "cell_type": "markdown",
   "metadata": {},
   "source": [
    "#### Do you know (because you are a good programmer) that you will acces only \"acceptable\" positions  in the array?\n",
    "#### Tell the compiler! -> @inbounds"
   ]
  },
  {
   "cell_type": "code",
   "execution_count": 103,
   "metadata": {
    "ExecuteTime": {
     "end_time": "2022-04-06T14:03:21.534000+02:00",
     "start_time": "2022-04-06T12:03:21.408Z"
    }
   },
   "outputs": [
    {
     "data": {
      "text/plain": [
       "clip2! (generic function with 3 methods)"
      ]
     },
     "execution_count": 103,
     "metadata": {},
     "output_type": "execute_result"
    }
   ],
   "source": [
    "function clip2!(x::Array{T}, a::T=T(0.), b::T= T(1.)) where T<: Number\n",
    "    @inbounds for i in 1:length(x)\n",
    "        if x[i] < a\n",
    "            x[i] = a\n",
    "        elseif x[i] > b\n",
    "            x[i] = b\n",
    "        end\n",
    "    end\n",
    "end"
   ]
  },
  {
   "cell_type": "code",
   "execution_count": 104,
   "metadata": {
    "ExecuteTime": {
     "end_time": "2022-04-06T14:03:25.841000+02:00",
     "start_time": "2022-04-06T12:03:25.782Z"
    }
   },
   "outputs": [],
   "source": [
    "x = randn(Float32, 10^7);"
   ]
  },
  {
   "cell_type": "code",
   "execution_count": 105,
   "metadata": {
    "ExecuteTime": {
     "end_time": "2022-04-06T14:03:36.660000+02:00",
     "start_time": "2022-04-06T12:03:25.909Z"
    }
   },
   "outputs": [
    {
     "name": "stdout",
     "output_type": "stream",
     "text": [
      "  2.262 ms (0 allocations: 0 bytes)\n"
     ]
    }
   ],
   "source": [
    "@btime clip2!(x)"
   ]
  },
  {
   "cell_type": "code",
   "execution_count": 101,
   "metadata": {
    "ExecuteTime": {
     "end_time": "2022-04-06T12:18:14.786000+02:00",
     "start_time": "2022-04-06T10:18:09.533Z"
    }
   },
   "outputs": [],
   "source": [
    "x = randn(Float32, 10^9);"
   ]
  },
  {
   "cell_type": "code",
   "execution_count": 102,
   "metadata": {
    "ExecuteTime": {
     "end_time": "2022-04-06T12:18:28.109000+02:00",
     "start_time": "2022-04-06T10:18:16.879Z"
    }
   },
   "outputs": [
    {
     "name": "stdout",
     "output_type": "stream",
     "text": [
      "  238.255 ms (0 allocations: 0 bytes)\n"
     ]
    }
   ],
   "source": [
    "@btime clip2!(x)"
   ]
  },
  {
   "cell_type": "markdown",
   "metadata": {},
   "source": [
    "## 3) Computing a quantity depending on a \"custom criteria\""
   ]
  },
  {
   "cell_type": "code",
   "execution_count": 106,
   "metadata": {
    "ExecuteTime": {
     "end_time": "2022-04-06T14:05:49.059000+02:00",
     "start_time": "2022-04-06T12:05:48.963Z"
    }
   },
   "outputs": [
    {
     "data": {
      "text/plain": [
       "compute_taxes (generic function with 1 method)"
      ]
     },
     "execution_count": 106,
     "metadata": {},
     "output_type": "execute_result"
    }
   ],
   "source": [
    "@fastmath function compute_taxes(salary::T) where T<:Number\n",
    "    if salary < 18000\n",
    "        return salary * 0.2\n",
    "    elseif  18000 < salary < 25000\n",
    "        return salary * 0.3\n",
    "    elseif   25000 < salary < 70000\n",
    "        return salary * 0.4\n",
    "    else\n",
    "        return salary * 0.5\n",
    "    end\n",
    "end        "
   ]
  },
  {
   "cell_type": "code",
   "execution_count": 107,
   "metadata": {
    "ExecuteTime": {
     "end_time": "2022-04-06T14:05:49.651000+02:00",
     "start_time": "2022-04-06T12:05:49.620Z"
    }
   },
   "outputs": [],
   "source": [
    "salaries = Array(round.(rand(10^6,1)* 100000));"
   ]
  },
  {
   "cell_type": "code",
   "execution_count": 108,
   "metadata": {
    "ExecuteTime": {
     "end_time": "2022-04-06T14:06:00.749000+02:00",
     "start_time": "2022-04-06T12:05:49.900Z"
    }
   },
   "outputs": [
    {
     "name": "stdout",
     "output_type": "stream",
     "text": [
      "  877.168 μs (3 allocations: 7.63 MiB)\n"
     ]
    }
   ],
   "source": [
    "@btime taxes = [compute_taxes(x) for x in salaries ];"
   ]
  },
  {
   "cell_type": "markdown",
   "metadata": {
    "collapsed": true
   },
   "source": [
    "## 4) L2 norm"
   ]
  },
  {
   "cell_type": "code",
   "execution_count": 109,
   "metadata": {
    "ExecuteTime": {
     "end_time": "2022-04-06T14:08:05.308000+02:00",
     "start_time": "2022-04-06T12:08:05.295Z"
    }
   },
   "outputs": [],
   "source": [
    "len = 1_000_000;\n",
    "\n",
    "x = randn(Float32, len);\n",
    "y = randn(Float32, len);"
   ]
  },
  {
   "cell_type": "code",
   "execution_count": 110,
   "metadata": {
    "ExecuteTime": {
     "end_time": "2022-04-06T14:08:17.405000+02:00",
     "start_time": "2022-04-06T12:08:06.332Z"
    }
   },
   "outputs": [
    {
     "name": "stdout",
     "output_type": "stream",
     "text": [
      "  670.367 μs (12 allocations: 3.81 MiB)\n"
     ]
    },
    {
     "data": {
      "text/plain": [
       "1.9995135f0"
      ]
     },
     "execution_count": 110,
     "metadata": {},
     "output_type": "execute_result"
    }
   ],
   "source": [
    "@btime sum((x .- y).^2)/length(x)"
   ]
  },
  {
   "cell_type": "markdown",
   "metadata": {},
   "source": [
    "#### For loop"
   ]
  },
  {
   "cell_type": "code",
   "execution_count": 170,
   "metadata": {
    "ExecuteTime": {
     "end_time": "2022-04-06T12:58:28.537000+02:00",
     "start_time": "2022-04-06T10:58:28.534Z"
    }
   },
   "outputs": [
    {
     "data": {
      "text/plain": [
       "l2_squared (generic function with 2 methods)"
      ]
     },
     "execution_count": 170,
     "metadata": {},
     "output_type": "execute_result"
    }
   ],
   "source": [
    "function l2_squared(x::Array{T},y::Array{T}) where T <:Number\n",
    "    norm = T(0.)\n",
    "    for i in 1:length(x)\n",
    "        norm = norm + (x[i] - y[i])^2\n",
    "    end\n",
    "    return norm/length(x)\n",
    "end"
   ]
  },
  {
   "cell_type": "code",
   "execution_count": 171,
   "metadata": {
    "ExecuteTime": {
     "end_time": "2022-04-06T12:58:45.558000+02:00",
     "start_time": "2022-04-06T10:58:35.081Z"
    },
    "scrolled": true
   },
   "outputs": [
    {
     "name": "stdout",
     "output_type": "stream",
     "text": [
      "  921.672 μs (1 allocation: 16 bytes)\n"
     ]
    },
    {
     "data": {
      "text/plain": [
       "1.997657f0"
      ]
     },
     "execution_count": 171,
     "metadata": {},
     "output_type": "execute_result"
    }
   ],
   "source": [
    "@btime l2_squared(x,y)"
   ]
  },
  {
   "cell_type": "markdown",
   "metadata": {},
   "source": [
    "#### SIMD"
   ]
  },
  {
   "cell_type": "code",
   "execution_count": 115,
   "metadata": {
    "ExecuteTime": {
     "end_time": "2022-04-06T14:15:05.191000+02:00",
     "start_time": "2022-04-06T12:15:05.096Z"
    }
   },
   "outputs": [
    {
     "data": {
      "text/plain": [
       "l2_squared_inbounds_simd (generic function with 1 method)"
      ]
     },
     "execution_count": 115,
     "metadata": {},
     "output_type": "execute_result"
    }
   ],
   "source": [
    "function l2_squared_inbounds_simd(x::Array{T},y::Array{T}) where T <:Number\n",
    "    norm = 0.\n",
    "    n = length(x)\n",
    "    @simd for i in 1:n\n",
    "        @inbounds norm += (x[i] - y[i])^2\n",
    "        end\n",
    "\n",
    "    return norm/length(x)\n",
    "end"
   ]
  },
  {
   "cell_type": "code",
   "execution_count": 116,
   "metadata": {
    "ExecuteTime": {
     "end_time": "2022-04-06T14:15:15.146000+02:00",
     "start_time": "2022-04-06T12:15:06.027Z"
    }
   },
   "outputs": [
    {
     "name": "stdout",
     "output_type": "stream",
     "text": [
      "  231.006 μs (1 allocation: 16 bytes)\n"
     ]
    },
    {
     "data": {
      "text/plain": [
       "1.9995134630243814"
      ]
     },
     "execution_count": 116,
     "metadata": {},
     "output_type": "execute_result"
    }
   ],
   "source": [
    "@btime l2_squared_inbounds_simd(x,y)"
   ]
  },
  {
   "cell_type": "markdown",
   "metadata": {},
   "source": [
    "## Notes on SIMD\n",
    "\n",
    "Sometimes you don't need to do anything to benefit from simd native code!"
   ]
  },
  {
   "cell_type": "code",
   "execution_count": 118,
   "metadata": {
    "ExecuteTime": {
     "end_time": "2022-04-06T14:21:57.686000+02:00",
     "start_time": "2022-04-06T12:21:57.683Z"
    }
   },
   "outputs": [
    {
     "data": {
      "text/plain": [
       "f (generic function with 1 method)"
      ]
     },
     "execution_count": 118,
     "metadata": {},
     "output_type": "execute_result"
    }
   ],
   "source": [
    "f(a,b) = (a[1]+b[1], a[2]+b[2], a[3]+b[3], a[4]+b[4])"
   ]
  },
  {
   "cell_type": "code",
   "execution_count": 119,
   "metadata": {
    "ExecuteTime": {
     "end_time": "2022-04-06T14:21:58.209000+02:00",
     "start_time": "2022-04-06T12:21:58.202Z"
    }
   },
   "outputs": [
    {
     "data": {
      "text/plain": [
       "(2, 4, 6, 8)"
      ]
     },
     "execution_count": 119,
     "metadata": {},
     "output_type": "execute_result"
    }
   ],
   "source": [
    "f((1,2,3,4),(1,2,3,4))"
   ]
  },
  {
   "cell_type": "code",
   "execution_count": 120,
   "metadata": {
    "ExecuteTime": {
     "end_time": "2022-04-06T14:22:08.487000+02:00",
     "start_time": "2022-04-06T12:22:08.467Z"
    }
   },
   "outputs": [
    {
     "name": "stdout",
     "output_type": "stream",
     "text": [
      "\u001b[90m;  @ In[118]:1 within `f`\u001b[39m\n",
      "\u001b[95mdefine\u001b[39m \u001b[36mvoid\u001b[39m \u001b[93m@julia_f_3242\u001b[39m\u001b[33m(\u001b[39m\u001b[33m[\u001b[39m\u001b[33m4\u001b[39m \u001b[0mx \u001b[36mi64\u001b[39m\u001b[33m]\u001b[39m\u001b[0m* \u001b[95mnoalias\u001b[39m \u001b[95mnocapture\u001b[39m \u001b[95msret\u001b[39m\u001b[33m(\u001b[39m\u001b[33m[\u001b[39m\u001b[33m4\u001b[39m \u001b[0mx \u001b[36mi64\u001b[39m\u001b[33m]\u001b[39m\u001b[33m)\u001b[39m \u001b[0m%0\u001b[0m, \u001b[33m[\u001b[39m\u001b[33m4\u001b[39m \u001b[0mx \u001b[36mi64\u001b[39m\u001b[33m]\u001b[39m\u001b[0m* \u001b[95mnocapture\u001b[39m \u001b[95mnonnull\u001b[39m \u001b[95mreadonly\u001b[39m \u001b[95malign\u001b[39m \u001b[33m8\u001b[39m \u001b[95mdereferenceable\u001b[39m\u001b[33m(\u001b[39m\u001b[33m32\u001b[39m\u001b[33m)\u001b[39m \u001b[0m%1\u001b[0m, \u001b[33m[\u001b[39m\u001b[33m4\u001b[39m \u001b[0mx \u001b[36mi64\u001b[39m\u001b[33m]\u001b[39m\u001b[0m* \u001b[95mnocapture\u001b[39m \u001b[95mnonnull\u001b[39m \u001b[95mreadonly\u001b[39m \u001b[95malign\u001b[39m \u001b[33m8\u001b[39m \u001b[95mdereferenceable\u001b[39m\u001b[33m(\u001b[39m\u001b[33m32\u001b[39m\u001b[33m)\u001b[39m \u001b[0m%2\u001b[33m)\u001b[39m \u001b[0m#0 \u001b[33m{\u001b[39m\n",
      "\u001b[91mtop:\u001b[39m\n",
      "\u001b[90m; ┌ @ int.jl:87 within `+`\u001b[39m\n",
      "   \u001b[0m%3 \u001b[0m= \u001b[96m\u001b[1mbitcast\u001b[22m\u001b[39m \u001b[33m[\u001b[39m\u001b[33m4\u001b[39m \u001b[0mx \u001b[36mi64\u001b[39m\u001b[33m]\u001b[39m\u001b[0m* \u001b[0m%1 \u001b[95mto\u001b[39m \u001b[33m<\u001b[39m\u001b[33m4\u001b[39m \u001b[0mx \u001b[36mi64\u001b[39m\u001b[33m>\u001b[39m\u001b[0m*\n",
      "   \u001b[0m%4 \u001b[0m= \u001b[96m\u001b[1mload\u001b[22m\u001b[39m \u001b[33m<\u001b[39m\u001b[33m4\u001b[39m \u001b[0mx \u001b[36mi64\u001b[39m\u001b[33m>\u001b[39m\u001b[0m, \u001b[33m<\u001b[39m\u001b[33m4\u001b[39m \u001b[0mx \u001b[36mi64\u001b[39m\u001b[33m>\u001b[39m\u001b[0m* \u001b[0m%3\u001b[0m, \u001b[95malign\u001b[39m \u001b[33m8\u001b[39m\n",
      "   \u001b[0m%5 \u001b[0m= \u001b[96m\u001b[1mbitcast\u001b[22m\u001b[39m \u001b[33m[\u001b[39m\u001b[33m4\u001b[39m \u001b[0mx \u001b[36mi64\u001b[39m\u001b[33m]\u001b[39m\u001b[0m* \u001b[0m%2 \u001b[95mto\u001b[39m \u001b[33m<\u001b[39m\u001b[33m4\u001b[39m \u001b[0mx \u001b[36mi64\u001b[39m\u001b[33m>\u001b[39m\u001b[0m*\n",
      "   \u001b[0m%6 \u001b[0m= \u001b[96m\u001b[1mload\u001b[22m\u001b[39m \u001b[33m<\u001b[39m\u001b[33m4\u001b[39m \u001b[0mx \u001b[36mi64\u001b[39m\u001b[33m>\u001b[39m\u001b[0m, \u001b[33m<\u001b[39m\u001b[33m4\u001b[39m \u001b[0mx \u001b[36mi64\u001b[39m\u001b[33m>\u001b[39m\u001b[0m* \u001b[0m%5\u001b[0m, \u001b[95malign\u001b[39m \u001b[33m8\u001b[39m\n",
      "   \u001b[0m%7 \u001b[0m= \u001b[96m\u001b[1madd\u001b[22m\u001b[39m \u001b[33m<\u001b[39m\u001b[33m4\u001b[39m \u001b[0mx \u001b[36mi64\u001b[39m\u001b[33m>\u001b[39m \u001b[0m%6\u001b[0m, \u001b[0m%4\n",
      "\u001b[90m; └\u001b[39m\n",
      "  \u001b[0m%8 \u001b[0m= \u001b[96m\u001b[1mbitcast\u001b[22m\u001b[39m \u001b[33m[\u001b[39m\u001b[33m4\u001b[39m \u001b[0mx \u001b[36mi64\u001b[39m\u001b[33m]\u001b[39m\u001b[0m* \u001b[0m%0 \u001b[95mto\u001b[39m \u001b[33m<\u001b[39m\u001b[33m4\u001b[39m \u001b[0mx \u001b[36mi64\u001b[39m\u001b[33m>\u001b[39m\u001b[0m*\n",
      "  \u001b[96m\u001b[1mstore\u001b[22m\u001b[39m \u001b[33m<\u001b[39m\u001b[33m4\u001b[39m \u001b[0mx \u001b[36mi64\u001b[39m\u001b[33m>\u001b[39m \u001b[0m%7\u001b[0m, \u001b[33m<\u001b[39m\u001b[33m4\u001b[39m \u001b[0mx \u001b[36mi64\u001b[39m\u001b[33m>\u001b[39m\u001b[0m* \u001b[0m%8\u001b[0m, \u001b[95malign\u001b[39m \u001b[33m8\u001b[39m\n",
      "  \u001b[96m\u001b[1mret\u001b[22m\u001b[39m \u001b[36mvoid\u001b[39m\n",
      "\u001b[33m}\u001b[39m\n"
     ]
    }
   ],
   "source": [
    "@code_llvm f((1,2,3,4),(1,2,3,4))"
   ]
  },
  {
   "cell_type": "markdown",
   "metadata": {},
   "source": [
    "#### another example"
   ]
  },
  {
   "cell_type": "code",
   "execution_count": 60,
   "metadata": {
    "ExecuteTime": {
     "end_time": "2022-04-06T13:23:14.802000+02:00",
     "start_time": "2022-04-06T11:23:14.799Z"
    }
   },
   "outputs": [
    {
     "data": {
      "text/plain": [
       "my_sum (generic function with 2 methods)"
      ]
     },
     "execution_count": 60,
     "metadata": {},
     "output_type": "execute_result"
    }
   ],
   "source": [
    "function my_sum(x::Vector{T}) where {T}\n",
    "    s = zero(T)\n",
    "    @simd for x_k in x\n",
    "        s += x_k\n",
    "    end\n",
    "    return s\n",
    "end"
   ]
  },
  {
   "cell_type": "code",
   "execution_count": 66,
   "metadata": {
    "ExecuteTime": {
     "end_time": "2022-04-06T13:24:23.412000+02:00",
     "start_time": "2022-04-06T11:24:23.348Z"
    },
    "scrolled": false
   },
   "outputs": [
    {
     "name": "stdout",
     "output_type": "stream",
     "text": [
      "\u001b[90m;  @ In[60]:1 within `my_sum`\u001b[39m\n",
      "\u001b[95mdefine\u001b[39m \u001b[36mi64\u001b[39m \u001b[93m@julia_my_sum_2389\u001b[39m\u001b[33m(\u001b[39m\u001b[33m{\u001b[39m\u001b[33m}\u001b[39m\u001b[0m* \u001b[95mnonnull\u001b[39m \u001b[95malign\u001b[39m \u001b[33m16\u001b[39m \u001b[95mdereferenceable\u001b[39m\u001b[33m(\u001b[39m\u001b[33m40\u001b[39m\u001b[33m)\u001b[39m \u001b[0m%0\u001b[33m)\u001b[39m \u001b[0m#0 \u001b[33m{\u001b[39m\n",
      "\u001b[91mtop:\u001b[39m\n",
      "\u001b[90m;  @ In[60]:3 within `my_sum`\u001b[39m\n",
      "\u001b[90m; ┌ @ simdloop.jl:71 within `macro expansion`\u001b[39m\n",
      "\u001b[90m; │┌ @ simdloop.jl:51 within `simd_inner_length`\u001b[39m\n",
      "\u001b[90m; ││┌ @ array.jl:215 within `length`\u001b[39m\n",
      "     \u001b[0m%1 \u001b[0m= \u001b[96m\u001b[1mbitcast\u001b[22m\u001b[39m \u001b[33m{\u001b[39m\u001b[33m}\u001b[39m\u001b[0m* \u001b[0m%0 \u001b[95mto\u001b[39m \u001b[33m{\u001b[39m \u001b[36mi8\u001b[39m\u001b[0m*\u001b[0m, \u001b[36mi64\u001b[39m\u001b[0m, \u001b[36mi16\u001b[39m\u001b[0m, \u001b[36mi16\u001b[39m\u001b[0m, \u001b[36mi32\u001b[39m \u001b[33m}\u001b[39m\u001b[0m*\n",
      "     \u001b[0m%2 \u001b[0m= \u001b[96m\u001b[1mgetelementptr\u001b[22m\u001b[39m \u001b[95minbounds\u001b[39m \u001b[33m{\u001b[39m \u001b[36mi8\u001b[39m\u001b[0m*\u001b[0m, \u001b[36mi64\u001b[39m\u001b[0m, \u001b[36mi16\u001b[39m\u001b[0m, \u001b[36mi16\u001b[39m\u001b[0m, \u001b[36mi32\u001b[39m \u001b[33m}\u001b[39m\u001b[0m, \u001b[33m{\u001b[39m \u001b[36mi8\u001b[39m\u001b[0m*\u001b[0m, \u001b[36mi64\u001b[39m\u001b[0m, \u001b[36mi16\u001b[39m\u001b[0m, \u001b[36mi16\u001b[39m\u001b[0m, \u001b[36mi32\u001b[39m \u001b[33m}\u001b[39m\u001b[0m* \u001b[0m%1\u001b[0m, \u001b[36mi64\u001b[39m \u001b[33m0\u001b[39m\u001b[0m, \u001b[36mi32\u001b[39m \u001b[33m1\u001b[39m\n",
      "     \u001b[0m%3 \u001b[0m= \u001b[96m\u001b[1mload\u001b[22m\u001b[39m \u001b[36mi64\u001b[39m\u001b[0m, \u001b[36mi64\u001b[39m\u001b[0m* \u001b[0m%2\u001b[0m, \u001b[95malign\u001b[39m \u001b[33m8\u001b[39m\n",
      "\u001b[90m; └└└\u001b[39m\n",
      "\u001b[90m; ┌ @ simdloop.jl:72 within `macro expansion`\u001b[39m\n",
      "\u001b[90m; │┌ @ int.jl:83 within `<`\u001b[39m\n",
      "    \u001b[0m%.not \u001b[0m= \u001b[96m\u001b[1micmp\u001b[22m\u001b[39m \u001b[96m\u001b[1meq\u001b[22m\u001b[39m \u001b[36mi64\u001b[39m \u001b[0m%3\u001b[0m, \u001b[33m0\u001b[39m\n",
      "\u001b[90m; │└\u001b[39m\n",
      "   \u001b[96m\u001b[1mbr\u001b[22m\u001b[39m \u001b[36mi1\u001b[39m \u001b[0m%.not\u001b[0m, \u001b[36mlabel\u001b[39m \u001b[91m%L18\u001b[39m\u001b[0m, \u001b[36mlabel\u001b[39m \u001b[91m%L10.lr.ph\u001b[39m\n",
      "\n",
      "\u001b[91mL10.lr.ph:\u001b[39m                                        \u001b[90m; preds = %top\u001b[39m\n",
      "   \u001b[0m%4 \u001b[0m= \u001b[96m\u001b[1mbitcast\u001b[22m\u001b[39m \u001b[33m{\u001b[39m\u001b[33m}\u001b[39m\u001b[0m* \u001b[0m%0 \u001b[95mto\u001b[39m \u001b[36mi64\u001b[39m\u001b[0m**\n",
      "   \u001b[0m%5 \u001b[0m= \u001b[96m\u001b[1mload\u001b[22m\u001b[39m \u001b[36mi64\u001b[39m\u001b[0m*\u001b[0m, \u001b[36mi64\u001b[39m\u001b[0m** \u001b[0m%4\u001b[0m, \u001b[95malign\u001b[39m \u001b[33m8\u001b[39m\n",
      "\u001b[90m; └\u001b[39m\n",
      "\u001b[90m; ┌ @ simdloop.jl:75 within `macro expansion`\u001b[39m\n",
      "   \u001b[0m%min.iters.check \u001b[0m= \u001b[96m\u001b[1micmp\u001b[22m\u001b[39m \u001b[96m\u001b[1mult\u001b[22m\u001b[39m \u001b[36mi64\u001b[39m \u001b[0m%3\u001b[0m, \u001b[33m16\u001b[39m\n",
      "   \u001b[96m\u001b[1mbr\u001b[22m\u001b[39m \u001b[36mi1\u001b[39m \u001b[0m%min.iters.check\u001b[0m, \u001b[36mlabel\u001b[39m \u001b[91m%L10\u001b[39m\u001b[0m, \u001b[36mlabel\u001b[39m \u001b[91m%vector.ph\u001b[39m\n",
      "\n",
      "\u001b[91mvector.ph:\u001b[39m                                        \u001b[90m; preds = %L10.lr.ph\u001b[39m\n",
      "   \u001b[0m%n.vec \u001b[0m= \u001b[96m\u001b[1mand\u001b[22m\u001b[39m \u001b[36mi64\u001b[39m \u001b[0m%3\u001b[0m, \u001b[33m9223372036854775792\u001b[39m\n",
      "   \u001b[96m\u001b[1mbr\u001b[22m\u001b[39m \u001b[36mlabel\u001b[39m \u001b[91m%vector.body\u001b[39m\n",
      "\n",
      "\u001b[91mvector.body:\u001b[39m                                      \u001b[90m; preds = %vector.body, %vector.ph\u001b[39m\n",
      "\u001b[90m; └\u001b[39m\n",
      "\u001b[90m; ┌ @ simdloop.jl:78 within `macro expansion`\u001b[39m\n",
      "\u001b[90m; │┌ @ int.jl:87 within `+`\u001b[39m\n",
      "    \u001b[0m%index \u001b[0m= \u001b[96m\u001b[1mphi\u001b[22m\u001b[39m \u001b[36mi64\u001b[39m \u001b[33m[\u001b[39m \u001b[33m0\u001b[39m\u001b[0m, \u001b[91m%vector.ph\u001b[39m \u001b[33m]\u001b[39m\u001b[0m, \u001b[33m[\u001b[39m \u001b[0m%index.next\u001b[0m, \u001b[91m%vector.body\u001b[39m \u001b[33m]\u001b[39m\n",
      "    \u001b[0m%vec.phi \u001b[0m= \u001b[96m\u001b[1mphi\u001b[22m\u001b[39m \u001b[33m<\u001b[39m\u001b[33m4\u001b[39m \u001b[0mx \u001b[36mi64\u001b[39m\u001b[33m>\u001b[39m \u001b[33m[\u001b[39m \u001b[95mzeroinitializer\u001b[39m\u001b[0m, \u001b[91m%vector.ph\u001b[39m \u001b[33m]\u001b[39m\u001b[0m, \u001b[33m[\u001b[39m \u001b[0m%14\u001b[0m, \u001b[91m%vector.body\u001b[39m \u001b[33m]\u001b[39m\n",
      "    \u001b[0m%vec.phi9 \u001b[0m= \u001b[96m\u001b[1mphi\u001b[22m\u001b[39m \u001b[33m<\u001b[39m\u001b[33m4\u001b[39m \u001b[0mx \u001b[36mi64\u001b[39m\u001b[33m>\u001b[39m \u001b[33m[\u001b[39m \u001b[95mzeroinitializer\u001b[39m\u001b[0m, \u001b[91m%vector.ph\u001b[39m \u001b[33m]\u001b[39m\u001b[0m, \u001b[33m[\u001b[39m \u001b[0m%15\u001b[0m, \u001b[91m%vector.body\u001b[39m \u001b[33m]\u001b[39m\n",
      "    \u001b[0m%vec.phi10 \u001b[0m= \u001b[96m\u001b[1mphi\u001b[22m\u001b[39m \u001b[33m<\u001b[39m\u001b[33m4\u001b[39m \u001b[0mx \u001b[36mi64\u001b[39m\u001b[33m>\u001b[39m \u001b[33m[\u001b[39m \u001b[95mzeroinitializer\u001b[39m\u001b[0m, \u001b[91m%vector.ph\u001b[39m \u001b[33m]\u001b[39m\u001b[0m, \u001b[33m[\u001b[39m \u001b[0m%16\u001b[0m, \u001b[91m%vector.body\u001b[39m \u001b[33m]\u001b[39m\n",
      "    \u001b[0m%vec.phi11 \u001b[0m= \u001b[96m\u001b[1mphi\u001b[22m\u001b[39m \u001b[33m<\u001b[39m\u001b[33m4\u001b[39m \u001b[0mx \u001b[36mi64\u001b[39m\u001b[33m>\u001b[39m \u001b[33m[\u001b[39m \u001b[95mzeroinitializer\u001b[39m\u001b[0m, \u001b[91m%vector.ph\u001b[39m \u001b[33m]\u001b[39m\u001b[0m, \u001b[33m[\u001b[39m \u001b[0m%17\u001b[0m, \u001b[91m%vector.body\u001b[39m \u001b[33m]\u001b[39m\n",
      "\u001b[90m; └└\u001b[39m\n",
      "\u001b[90m; ┌ @ simdloop.jl:76 within `macro expansion`\u001b[39m\n",
      "\u001b[90m; │┌ @ simdloop.jl:54 within `simd_index`\u001b[39m\n",
      "\u001b[90m; ││┌ @ array.jl:861 within `getindex`\u001b[39m\n",
      "     \u001b[0m%6 \u001b[0m= \u001b[96m\u001b[1mgetelementptr\u001b[22m\u001b[39m \u001b[95minbounds\u001b[39m \u001b[36mi64\u001b[39m\u001b[0m, \u001b[36mi64\u001b[39m\u001b[0m* \u001b[0m%5\u001b[0m, \u001b[36mi64\u001b[39m \u001b[0m%index\n",
      "     \u001b[0m%7 \u001b[0m= \u001b[96m\u001b[1mbitcast\u001b[22m\u001b[39m \u001b[36mi64\u001b[39m\u001b[0m* \u001b[0m%6 \u001b[95mto\u001b[39m \u001b[33m<\u001b[39m\u001b[33m4\u001b[39m \u001b[0mx \u001b[36mi64\u001b[39m\u001b[33m>\u001b[39m\u001b[0m*\n",
      "     \u001b[0m%wide.load \u001b[0m= \u001b[96m\u001b[1mload\u001b[22m\u001b[39m \u001b[33m<\u001b[39m\u001b[33m4\u001b[39m \u001b[0mx \u001b[36mi64\u001b[39m\u001b[33m>\u001b[39m\u001b[0m, \u001b[33m<\u001b[39m\u001b[33m4\u001b[39m \u001b[0mx \u001b[36mi64\u001b[39m\u001b[33m>\u001b[39m\u001b[0m* \u001b[0m%7\u001b[0m, \u001b[95malign\u001b[39m \u001b[33m8\u001b[39m\n",
      "     \u001b[0m%8 \u001b[0m= \u001b[96m\u001b[1mgetelementptr\u001b[22m\u001b[39m \u001b[95minbounds\u001b[39m \u001b[36mi64\u001b[39m\u001b[0m, \u001b[36mi64\u001b[39m\u001b[0m* \u001b[0m%6\u001b[0m, \u001b[36mi64\u001b[39m \u001b[33m4\u001b[39m\n",
      "     \u001b[0m%9 \u001b[0m= \u001b[96m\u001b[1mbitcast\u001b[22m\u001b[39m \u001b[36mi64\u001b[39m\u001b[0m* \u001b[0m%8 \u001b[95mto\u001b[39m \u001b[33m<\u001b[39m\u001b[33m4\u001b[39m \u001b[0mx \u001b[36mi64\u001b[39m\u001b[33m>\u001b[39m\u001b[0m*\n",
      "     \u001b[0m%wide.load12 \u001b[0m= \u001b[96m\u001b[1mload\u001b[22m\u001b[39m \u001b[33m<\u001b[39m\u001b[33m4\u001b[39m \u001b[0mx \u001b[36mi64\u001b[39m\u001b[33m>\u001b[39m\u001b[0m, \u001b[33m<\u001b[39m\u001b[33m4\u001b[39m \u001b[0mx \u001b[36mi64\u001b[39m\u001b[33m>\u001b[39m\u001b[0m* \u001b[0m%9\u001b[0m, \u001b[95malign\u001b[39m \u001b[33m8\u001b[39m\n",
      "     \u001b[0m%10 \u001b[0m= \u001b[96m\u001b[1mgetelementptr\u001b[22m\u001b[39m \u001b[95minbounds\u001b[39m \u001b[36mi64\u001b[39m\u001b[0m, \u001b[36mi64\u001b[39m\u001b[0m* \u001b[0m%6\u001b[0m, \u001b[36mi64\u001b[39m \u001b[33m8\u001b[39m\n",
      "     \u001b[0m%11 \u001b[0m= \u001b[96m\u001b[1mbitcast\u001b[22m\u001b[39m \u001b[36mi64\u001b[39m\u001b[0m* \u001b[0m%10 \u001b[95mto\u001b[39m \u001b[33m<\u001b[39m\u001b[33m4\u001b[39m \u001b[0mx \u001b[36mi64\u001b[39m\u001b[33m>\u001b[39m\u001b[0m*\n",
      "     \u001b[0m%wide.load13 \u001b[0m= \u001b[96m\u001b[1mload\u001b[22m\u001b[39m \u001b[33m<\u001b[39m\u001b[33m4\u001b[39m \u001b[0mx \u001b[36mi64\u001b[39m\u001b[33m>\u001b[39m\u001b[0m, \u001b[33m<\u001b[39m\u001b[33m4\u001b[39m \u001b[0mx \u001b[36mi64\u001b[39m\u001b[33m>\u001b[39m\u001b[0m* \u001b[0m%11\u001b[0m, \u001b[95malign\u001b[39m \u001b[33m8\u001b[39m\n",
      "     \u001b[0m%12 \u001b[0m= \u001b[96m\u001b[1mgetelementptr\u001b[22m\u001b[39m \u001b[95minbounds\u001b[39m \u001b[36mi64\u001b[39m\u001b[0m, \u001b[36mi64\u001b[39m\u001b[0m* \u001b[0m%6\u001b[0m, \u001b[36mi64\u001b[39m \u001b[33m12\u001b[39m\n",
      "     \u001b[0m%13 \u001b[0m= \u001b[96m\u001b[1mbitcast\u001b[22m\u001b[39m \u001b[36mi64\u001b[39m\u001b[0m* \u001b[0m%12 \u001b[95mto\u001b[39m \u001b[33m<\u001b[39m\u001b[33m4\u001b[39m \u001b[0mx \u001b[36mi64\u001b[39m\u001b[33m>\u001b[39m\u001b[0m*\n",
      "     \u001b[0m%wide.load14 \u001b[0m= \u001b[96m\u001b[1mload\u001b[22m\u001b[39m \u001b[33m<\u001b[39m\u001b[33m4\u001b[39m \u001b[0mx \u001b[36mi64\u001b[39m\u001b[33m>\u001b[39m\u001b[0m, \u001b[33m<\u001b[39m\u001b[33m4\u001b[39m \u001b[0mx \u001b[36mi64\u001b[39m\u001b[33m>\u001b[39m\u001b[0m* \u001b[0m%13\u001b[0m, \u001b[95malign\u001b[39m \u001b[33m8\u001b[39m\n",
      "\u001b[90m; └└└\u001b[39m\n",
      "\u001b[90m; ┌ @ simdloop.jl:77 within `macro expansion` @ In[60]:4\u001b[39m\n",
      "\u001b[90m; │┌ @ int.jl:87 within `+`\u001b[39m\n",
      "    \u001b[0m%14 \u001b[0m= \u001b[96m\u001b[1madd\u001b[22m\u001b[39m \u001b[33m<\u001b[39m\u001b[33m4\u001b[39m \u001b[0mx \u001b[36mi64\u001b[39m\u001b[33m>\u001b[39m \u001b[0m%wide.load\u001b[0m, \u001b[0m%vec.phi\n",
      "    \u001b[0m%15 \u001b[0m= \u001b[96m\u001b[1madd\u001b[22m\u001b[39m \u001b[33m<\u001b[39m\u001b[33m4\u001b[39m \u001b[0mx \u001b[36mi64\u001b[39m\u001b[33m>\u001b[39m \u001b[0m%wide.load12\u001b[0m, \u001b[0m%vec.phi9\n",
      "    \u001b[0m%16 \u001b[0m= \u001b[96m\u001b[1madd\u001b[22m\u001b[39m \u001b[33m<\u001b[39m\u001b[33m4\u001b[39m \u001b[0mx \u001b[36mi64\u001b[39m\u001b[33m>\u001b[39m \u001b[0m%wide.load13\u001b[0m, \u001b[0m%vec.phi10\n",
      "    \u001b[0m%17 \u001b[0m= \u001b[96m\u001b[1madd\u001b[22m\u001b[39m \u001b[33m<\u001b[39m\u001b[33m4\u001b[39m \u001b[0mx \u001b[36mi64\u001b[39m\u001b[33m>\u001b[39m \u001b[0m%wide.load14\u001b[0m, \u001b[0m%vec.phi11\n",
      "\u001b[90m; └└\u001b[39m\n",
      "\u001b[90m; ┌ @ simdloop.jl:78 within `macro expansion`\u001b[39m\n",
      "\u001b[90m; │┌ @ int.jl:87 within `+`\u001b[39m\n",
      "    \u001b[0m%index.next \u001b[0m= \u001b[96m\u001b[1madd\u001b[22m\u001b[39m \u001b[36mi64\u001b[39m \u001b[0m%index\u001b[0m, \u001b[33m16\u001b[39m\n",
      "    \u001b[0m%18 \u001b[0m= \u001b[96m\u001b[1micmp\u001b[22m\u001b[39m \u001b[96m\u001b[1meq\u001b[22m\u001b[39m \u001b[36mi64\u001b[39m \u001b[0m%index.next\u001b[0m, \u001b[0m%n.vec\n",
      "    \u001b[96m\u001b[1mbr\u001b[22m\u001b[39m \u001b[36mi1\u001b[39m \u001b[0m%18\u001b[0m, \u001b[36mlabel\u001b[39m \u001b[91m%middle.block\u001b[39m\u001b[0m, \u001b[36mlabel\u001b[39m \u001b[91m%vector.body\u001b[39m\n",
      "\n",
      "\u001b[91mmiddle.block:\u001b[39m                                     \u001b[90m; preds = %vector.body\u001b[39m\n",
      "\u001b[90m; └└\u001b[39m\n",
      "\u001b[90m; ┌ @ simdloop.jl:75 within `macro expansion`\u001b[39m\n",
      "   \u001b[0m%bin.rdx \u001b[0m= \u001b[96m\u001b[1madd\u001b[22m\u001b[39m \u001b[33m<\u001b[39m\u001b[33m4\u001b[39m \u001b[0mx \u001b[36mi64\u001b[39m\u001b[33m>\u001b[39m \u001b[0m%15\u001b[0m, \u001b[0m%14\n",
      "   \u001b[0m%bin.rdx15 \u001b[0m= \u001b[96m\u001b[1madd\u001b[22m\u001b[39m \u001b[33m<\u001b[39m\u001b[33m4\u001b[39m \u001b[0mx \u001b[36mi64\u001b[39m\u001b[33m>\u001b[39m \u001b[0m%16\u001b[0m, \u001b[0m%bin.rdx\n",
      "   \u001b[0m%bin.rdx16 \u001b[0m= \u001b[96m\u001b[1madd\u001b[22m\u001b[39m \u001b[33m<\u001b[39m\u001b[33m4\u001b[39m \u001b[0mx \u001b[36mi64\u001b[39m\u001b[33m>\u001b[39m \u001b[0m%17\u001b[0m, \u001b[0m%bin.rdx15\n",
      "   \u001b[0m%19 \u001b[0m= \u001b[96m\u001b[1mcall\u001b[22m\u001b[39m \u001b[36mi64\u001b[39m \u001b[93m@llvm.vector.reduce.add.v4i64\u001b[39m\u001b[33m(\u001b[39m\u001b[33m<\u001b[39m\u001b[33m4\u001b[39m \u001b[0mx \u001b[36mi64\u001b[39m\u001b[33m>\u001b[39m \u001b[0m%bin.rdx16\u001b[33m)\u001b[39m\n",
      "   \u001b[0m%cmp.n \u001b[0m= \u001b[96m\u001b[1micmp\u001b[22m\u001b[39m \u001b[96m\u001b[1meq\u001b[22m\u001b[39m \u001b[36mi64\u001b[39m \u001b[0m%3\u001b[0m, \u001b[0m%n.vec\n",
      "   \u001b[96m\u001b[1mbr\u001b[22m\u001b[39m \u001b[36mi1\u001b[39m \u001b[0m%cmp.n\u001b[0m, \u001b[36mlabel\u001b[39m \u001b[91m%L18\u001b[39m\u001b[0m, \u001b[36mlabel\u001b[39m \u001b[91m%L10\u001b[39m\n",
      "\n",
      "\u001b[91mL10:\u001b[39m                                              \u001b[90m; preds = %L10, %middle.block, %L10.lr.ph\u001b[39m\n",
      "   \u001b[0m%value_phi18 \u001b[0m= \u001b[96m\u001b[1mphi\u001b[22m\u001b[39m \u001b[36mi64\u001b[39m \u001b[33m[\u001b[39m \u001b[0m%23\u001b[0m, \u001b[91m%L10\u001b[39m \u001b[33m]\u001b[39m\u001b[0m, \u001b[33m[\u001b[39m \u001b[0m%n.vec\u001b[0m, \u001b[91m%middle.block\u001b[39m \u001b[33m]\u001b[39m\u001b[0m, \u001b[33m[\u001b[39m \u001b[33m0\u001b[39m\u001b[0m, \u001b[91m%L10.lr.ph\u001b[39m \u001b[33m]\u001b[39m\n",
      "   \u001b[0m%value_phi7 \u001b[0m= \u001b[96m\u001b[1mphi\u001b[22m\u001b[39m \u001b[36mi64\u001b[39m \u001b[33m[\u001b[39m \u001b[0m%22\u001b[0m, \u001b[91m%L10\u001b[39m \u001b[33m]\u001b[39m\u001b[0m, \u001b[33m[\u001b[39m \u001b[0m%19\u001b[0m, \u001b[91m%middle.block\u001b[39m \u001b[33m]\u001b[39m\u001b[0m, \u001b[33m[\u001b[39m \u001b[33m0\u001b[39m\u001b[0m, \u001b[91m%L10.lr.ph\u001b[39m \u001b[33m]\u001b[39m\n",
      "\u001b[90m; └\u001b[39m\n",
      "\u001b[90m; ┌ @ simdloop.jl:76 within `macro expansion`\u001b[39m\n",
      "\u001b[90m; │┌ @ simdloop.jl:54 within `simd_index`\u001b[39m\n",
      "\u001b[90m; ││┌ @ array.jl:861 within `getindex`\u001b[39m\n",
      "     \u001b[0m%20 \u001b[0m= \u001b[96m\u001b[1mgetelementptr\u001b[22m\u001b[39m \u001b[95minbounds\u001b[39m \u001b[36mi64\u001b[39m\u001b[0m, \u001b[36mi64\u001b[39m\u001b[0m* \u001b[0m%5\u001b[0m, \u001b[36mi64\u001b[39m \u001b[0m%value_phi18\n",
      "     \u001b[0m%21 \u001b[0m= \u001b[96m\u001b[1mload\u001b[22m\u001b[39m \u001b[36mi64\u001b[39m\u001b[0m, \u001b[36mi64\u001b[39m\u001b[0m* \u001b[0m%20\u001b[0m, \u001b[95malign\u001b[39m \u001b[33m8\u001b[39m\n",
      "\u001b[90m; └└└\u001b[39m\n",
      "\u001b[90m; ┌ @ simdloop.jl:77 within `macro expansion` @ In[60]:4\u001b[39m\n",
      "\u001b[90m; │┌ @ int.jl:87 within `+`\u001b[39m\n",
      "    \u001b[0m%22 \u001b[0m= \u001b[96m\u001b[1madd\u001b[22m\u001b[39m \u001b[36mi64\u001b[39m \u001b[0m%21\u001b[0m, \u001b[0m%value_phi7\n",
      "\u001b[90m; └└\u001b[39m\n",
      "\u001b[90m; ┌ @ simdloop.jl:78 within `macro expansion`\u001b[39m\n",
      "\u001b[90m; │┌ @ int.jl:87 within `+`\u001b[39m\n",
      "    \u001b[0m%23 \u001b[0m= \u001b[96m\u001b[1madd\u001b[22m\u001b[39m \u001b[95mnuw\u001b[39m \u001b[95mnsw\u001b[39m \u001b[36mi64\u001b[39m \u001b[0m%value_phi18\u001b[0m, \u001b[33m1\u001b[39m\n",
      "\u001b[90m; └└\u001b[39m\n",
      "\u001b[90m; ┌ @ simdloop.jl:75 within `macro expansion`\u001b[39m\n",
      "\u001b[90m; │┌ @ int.jl:83 within `<`\u001b[39m\n",
      "    \u001b[0m%exitcond.not \u001b[0m= \u001b[96m\u001b[1micmp\u001b[22m\u001b[39m \u001b[96m\u001b[1meq\u001b[22m\u001b[39m \u001b[36mi64\u001b[39m \u001b[0m%23\u001b[0m, \u001b[0m%3\n",
      "\u001b[90m; │└\u001b[39m\n",
      "   \u001b[96m\u001b[1mbr\u001b[22m\u001b[39m \u001b[36mi1\u001b[39m \u001b[0m%exitcond.not\u001b[0m, \u001b[36mlabel\u001b[39m \u001b[91m%L18\u001b[39m\u001b[0m, \u001b[36mlabel\u001b[39m \u001b[91m%L10\u001b[39m\n",
      "\n",
      "\u001b[91mL18:\u001b[39m                                              \u001b[90m; preds = %L10, %middle.block, %top\u001b[39m\n"
     ]
    },
    {
     "name": "stdout",
     "output_type": "stream",
     "text": [
      "   \u001b[0m%value_phi2 \u001b[0m= \u001b[96m\u001b[1mphi\u001b[22m\u001b[39m \u001b[36mi64\u001b[39m \u001b[33m[\u001b[39m \u001b[33m0\u001b[39m\u001b[0m, \u001b[91m%top\u001b[39m \u001b[33m]\u001b[39m\u001b[0m, \u001b[33m[\u001b[39m \u001b[0m%19\u001b[0m, \u001b[91m%middle.block\u001b[39m \u001b[33m]\u001b[39m\u001b[0m, \u001b[33m[\u001b[39m \u001b[0m%22\u001b[0m, \u001b[91m%L10\u001b[39m \u001b[33m]\u001b[39m\n",
      "\u001b[90m; └\u001b[39m\n",
      "\u001b[90m;  @ In[60]:6 within `my_sum`\u001b[39m\n",
      "  \u001b[96m\u001b[1mret\u001b[22m\u001b[39m \u001b[36mi64\u001b[39m \u001b[0m%value_phi2\n",
      "\u001b[33m}\u001b[39m\n"
     ]
    }
   ],
   "source": [
    "x = [1,2,3,4,5,6,7,8]\n",
    "#x = Float64.(x)\n",
    "@code_llvm my_sum(x)"
   ]
  },
  {
   "cell_type": "code",
   "execution_count": 62,
   "metadata": {
    "ExecuteTime": {
     "end_time": "2022-04-06T13:23:15.368000+02:00",
     "start_time": "2022-04-06T11:23:15.309Z"
    }
   },
   "outputs": [
    {
     "name": "stdout",
     "output_type": "stream",
     "text": [
      "\u001b[95mdefine\u001b[39m \u001b[36mi64\u001b[39m \u001b[93m@julia_my_sum_2330\u001b[39m\u001b[33m(\u001b[39m\u001b[33m{\u001b[39m\u001b[33m}\u001b[39m\u001b[0m* \u001b[95mnonnull\u001b[39m \u001b[95malign\u001b[39m \u001b[33m16\u001b[39m \u001b[95mdereferenceable\u001b[39m\u001b[33m(\u001b[39m\u001b[33m40\u001b[39m\u001b[33m)\u001b[39m \u001b[0m%0\u001b[33m)\u001b[39m \u001b[0m#0 \u001b[33m{\u001b[39m\n",
      "\u001b[91mtop:\u001b[39m\n",
      "  \u001b[0m%1 \u001b[0m= \u001b[96m\u001b[1mbitcast\u001b[22m\u001b[39m \u001b[33m{\u001b[39m\u001b[33m}\u001b[39m\u001b[0m* \u001b[0m%0 \u001b[95mto\u001b[39m \u001b[33m{\u001b[39m \u001b[36mi8\u001b[39m\u001b[0m*\u001b[0m, \u001b[36mi64\u001b[39m\u001b[0m, \u001b[36mi16\u001b[39m\u001b[0m, \u001b[36mi16\u001b[39m\u001b[0m, \u001b[36mi32\u001b[39m \u001b[33m}\u001b[39m\u001b[0m*\n",
      "  \u001b[0m%2 \u001b[0m= \u001b[96m\u001b[1mgetelementptr\u001b[22m\u001b[39m \u001b[95minbounds\u001b[39m \u001b[33m{\u001b[39m \u001b[36mi8\u001b[39m\u001b[0m*\u001b[0m, \u001b[36mi64\u001b[39m\u001b[0m, \u001b[36mi16\u001b[39m\u001b[0m, \u001b[36mi16\u001b[39m\u001b[0m, \u001b[36mi32\u001b[39m \u001b[33m}\u001b[39m\u001b[0m, \u001b[33m{\u001b[39m \u001b[36mi8\u001b[39m\u001b[0m*\u001b[0m, \u001b[36mi64\u001b[39m\u001b[0m, \u001b[36mi16\u001b[39m\u001b[0m, \u001b[36mi16\u001b[39m\u001b[0m, \u001b[36mi32\u001b[39m \u001b[33m}\u001b[39m\u001b[0m* \u001b[0m%1\u001b[0m, \u001b[36mi64\u001b[39m \u001b[33m0\u001b[39m\u001b[0m, \u001b[36mi32\u001b[39m \u001b[33m1\u001b[39m\n",
      "  \u001b[0m%3 \u001b[0m= \u001b[96m\u001b[1mload\u001b[22m\u001b[39m \u001b[36mi64\u001b[39m\u001b[0m, \u001b[36mi64\u001b[39m\u001b[0m* \u001b[0m%2\u001b[0m, \u001b[95malign\u001b[39m \u001b[33m8\u001b[39m\n",
      "  \u001b[0m%.not \u001b[0m= \u001b[96m\u001b[1micmp\u001b[22m\u001b[39m \u001b[96m\u001b[1meq\u001b[22m\u001b[39m \u001b[36mi64\u001b[39m \u001b[0m%3\u001b[0m, \u001b[33m0\u001b[39m\n",
      "  \u001b[96m\u001b[1mbr\u001b[22m\u001b[39m \u001b[36mi1\u001b[39m \u001b[0m%.not\u001b[0m, \u001b[36mlabel\u001b[39m \u001b[91m%L18\u001b[39m\u001b[0m, \u001b[36mlabel\u001b[39m \u001b[91m%L10.lr.ph\u001b[39m\n",
      "\n",
      "\u001b[91mL10.lr.ph:\u001b[39m                                        \u001b[90m; preds = %top\u001b[39m\n",
      "  \u001b[0m%4 \u001b[0m= \u001b[96m\u001b[1mbitcast\u001b[22m\u001b[39m \u001b[33m{\u001b[39m\u001b[33m}\u001b[39m\u001b[0m* \u001b[0m%0 \u001b[95mto\u001b[39m \u001b[36mi64\u001b[39m\u001b[0m**\n",
      "  \u001b[0m%5 \u001b[0m= \u001b[96m\u001b[1mload\u001b[22m\u001b[39m \u001b[36mi64\u001b[39m\u001b[0m*\u001b[0m, \u001b[36mi64\u001b[39m\u001b[0m** \u001b[0m%4\u001b[0m, \u001b[95malign\u001b[39m \u001b[33m8\u001b[39m\n",
      "  \u001b[0m%min.iters.check \u001b[0m= \u001b[96m\u001b[1micmp\u001b[22m\u001b[39m \u001b[96m\u001b[1mult\u001b[22m\u001b[39m \u001b[36mi64\u001b[39m \u001b[0m%3\u001b[0m, \u001b[33m16\u001b[39m\n",
      "  \u001b[96m\u001b[1mbr\u001b[22m\u001b[39m \u001b[36mi1\u001b[39m \u001b[0m%min.iters.check\u001b[0m, \u001b[36mlabel\u001b[39m \u001b[91m%L10\u001b[39m\u001b[0m, \u001b[36mlabel\u001b[39m \u001b[91m%vector.ph\u001b[39m\n",
      "\n",
      "\u001b[91mvector.ph:\u001b[39m                                        \u001b[90m; preds = %L10.lr.ph\u001b[39m\n",
      "  \u001b[0m%n.vec \u001b[0m= \u001b[96m\u001b[1mand\u001b[22m\u001b[39m \u001b[36mi64\u001b[39m \u001b[0m%3\u001b[0m, \u001b[33m9223372036854775792\u001b[39m\n",
      "  \u001b[96m\u001b[1mbr\u001b[22m\u001b[39m \u001b[36mlabel\u001b[39m \u001b[91m%vector.body\u001b[39m\n",
      "\n",
      "\u001b[91mvector.body:\u001b[39m                                      \u001b[90m; preds = %vector.body, %vector.ph\u001b[39m\n",
      "  \u001b[0m%index \u001b[0m= \u001b[96m\u001b[1mphi\u001b[22m\u001b[39m \u001b[36mi64\u001b[39m \u001b[33m[\u001b[39m \u001b[33m0\u001b[39m\u001b[0m, \u001b[91m%vector.ph\u001b[39m \u001b[33m]\u001b[39m\u001b[0m, \u001b[33m[\u001b[39m \u001b[0m%index.next\u001b[0m, \u001b[91m%vector.body\u001b[39m \u001b[33m]\u001b[39m\n",
      "  \u001b[0m%vec.phi \u001b[0m= \u001b[96m\u001b[1mphi\u001b[22m\u001b[39m \u001b[33m<\u001b[39m\u001b[33m4\u001b[39m \u001b[0mx \u001b[36mi64\u001b[39m\u001b[33m>\u001b[39m \u001b[33m[\u001b[39m \u001b[95mzeroinitializer\u001b[39m\u001b[0m, \u001b[91m%vector.ph\u001b[39m \u001b[33m]\u001b[39m\u001b[0m, \u001b[33m[\u001b[39m \u001b[0m%14\u001b[0m, \u001b[91m%vector.body\u001b[39m \u001b[33m]\u001b[39m\n",
      "  \u001b[0m%vec.phi9 \u001b[0m= \u001b[96m\u001b[1mphi\u001b[22m\u001b[39m \u001b[33m<\u001b[39m\u001b[33m4\u001b[39m \u001b[0mx \u001b[36mi64\u001b[39m\u001b[33m>\u001b[39m \u001b[33m[\u001b[39m \u001b[95mzeroinitializer\u001b[39m\u001b[0m, \u001b[91m%vector.ph\u001b[39m \u001b[33m]\u001b[39m\u001b[0m, \u001b[33m[\u001b[39m \u001b[0m%15\u001b[0m, \u001b[91m%vector.body\u001b[39m \u001b[33m]\u001b[39m\n",
      "  \u001b[0m%vec.phi10 \u001b[0m= \u001b[96m\u001b[1mphi\u001b[22m\u001b[39m \u001b[33m<\u001b[39m\u001b[33m4\u001b[39m \u001b[0mx \u001b[36mi64\u001b[39m\u001b[33m>\u001b[39m \u001b[33m[\u001b[39m \u001b[95mzeroinitializer\u001b[39m\u001b[0m, \u001b[91m%vector.ph\u001b[39m \u001b[33m]\u001b[39m\u001b[0m, \u001b[33m[\u001b[39m \u001b[0m%16\u001b[0m, \u001b[91m%vector.body\u001b[39m \u001b[33m]\u001b[39m\n",
      "  \u001b[0m%vec.phi11 \u001b[0m= \u001b[96m\u001b[1mphi\u001b[22m\u001b[39m \u001b[33m<\u001b[39m\u001b[33m4\u001b[39m \u001b[0mx \u001b[36mi64\u001b[39m\u001b[33m>\u001b[39m \u001b[33m[\u001b[39m \u001b[95mzeroinitializer\u001b[39m\u001b[0m, \u001b[91m%vector.ph\u001b[39m \u001b[33m]\u001b[39m\u001b[0m, \u001b[33m[\u001b[39m \u001b[0m%17\u001b[0m, \u001b[91m%vector.body\u001b[39m \u001b[33m]\u001b[39m\n",
      "  \u001b[0m%6 \u001b[0m= \u001b[96m\u001b[1mgetelementptr\u001b[22m\u001b[39m \u001b[95minbounds\u001b[39m \u001b[36mi64\u001b[39m\u001b[0m, \u001b[36mi64\u001b[39m\u001b[0m* \u001b[0m%5\u001b[0m, \u001b[36mi64\u001b[39m \u001b[0m%index\n",
      "  \u001b[0m%7 \u001b[0m= \u001b[96m\u001b[1mbitcast\u001b[22m\u001b[39m \u001b[36mi64\u001b[39m\u001b[0m* \u001b[0m%6 \u001b[95mto\u001b[39m \u001b[33m<\u001b[39m\u001b[33m4\u001b[39m \u001b[0mx \u001b[36mi64\u001b[39m\u001b[33m>\u001b[39m\u001b[0m*\n",
      "  \u001b[0m%wide.load \u001b[0m= \u001b[96m\u001b[1mload\u001b[22m\u001b[39m \u001b[33m<\u001b[39m\u001b[33m4\u001b[39m \u001b[0mx \u001b[36mi64\u001b[39m\u001b[33m>\u001b[39m\u001b[0m, \u001b[33m<\u001b[39m\u001b[33m4\u001b[39m \u001b[0mx \u001b[36mi64\u001b[39m\u001b[33m>\u001b[39m\u001b[0m* \u001b[0m%7\u001b[0m, \u001b[95malign\u001b[39m \u001b[33m8\u001b[39m\n",
      "  \u001b[0m%8 \u001b[0m= \u001b[96m\u001b[1mgetelementptr\u001b[22m\u001b[39m \u001b[95minbounds\u001b[39m \u001b[36mi64\u001b[39m\u001b[0m, \u001b[36mi64\u001b[39m\u001b[0m* \u001b[0m%6\u001b[0m, \u001b[36mi64\u001b[39m \u001b[33m4\u001b[39m\n",
      "  \u001b[0m%9 \u001b[0m= \u001b[96m\u001b[1mbitcast\u001b[22m\u001b[39m \u001b[36mi64\u001b[39m\u001b[0m* \u001b[0m%8 \u001b[95mto\u001b[39m \u001b[33m<\u001b[39m\u001b[33m4\u001b[39m \u001b[0mx \u001b[36mi64\u001b[39m\u001b[33m>\u001b[39m\u001b[0m*\n",
      "  \u001b[0m%wide.load12 \u001b[0m= \u001b[96m\u001b[1mload\u001b[22m\u001b[39m \u001b[33m<\u001b[39m\u001b[33m4\u001b[39m \u001b[0mx \u001b[36mi64\u001b[39m\u001b[33m>\u001b[39m\u001b[0m, \u001b[33m<\u001b[39m\u001b[33m4\u001b[39m \u001b[0mx \u001b[36mi64\u001b[39m\u001b[33m>\u001b[39m\u001b[0m* \u001b[0m%9\u001b[0m, \u001b[95malign\u001b[39m \u001b[33m8\u001b[39m\n",
      "  \u001b[0m%10 \u001b[0m= \u001b[96m\u001b[1mgetelementptr\u001b[22m\u001b[39m \u001b[95minbounds\u001b[39m \u001b[36mi64\u001b[39m\u001b[0m, \u001b[36mi64\u001b[39m\u001b[0m* \u001b[0m%6\u001b[0m, \u001b[36mi64\u001b[39m \u001b[33m8\u001b[39m\n",
      "  \u001b[0m%11 \u001b[0m= \u001b[96m\u001b[1mbitcast\u001b[22m\u001b[39m \u001b[36mi64\u001b[39m\u001b[0m* \u001b[0m%10 \u001b[95mto\u001b[39m \u001b[33m<\u001b[39m\u001b[33m4\u001b[39m \u001b[0mx \u001b[36mi64\u001b[39m\u001b[33m>\u001b[39m\u001b[0m*\n",
      "  \u001b[0m%wide.load13 \u001b[0m= \u001b[96m\u001b[1mload\u001b[22m\u001b[39m \u001b[33m<\u001b[39m\u001b[33m4\u001b[39m \u001b[0mx \u001b[36mi64\u001b[39m\u001b[33m>\u001b[39m\u001b[0m, \u001b[33m<\u001b[39m\u001b[33m4\u001b[39m \u001b[0mx \u001b[36mi64\u001b[39m\u001b[33m>\u001b[39m\u001b[0m* \u001b[0m%11\u001b[0m, \u001b[95malign\u001b[39m \u001b[33m8\u001b[39m\n",
      "  \u001b[0m%12 \u001b[0m= \u001b[96m\u001b[1mgetelementptr\u001b[22m\u001b[39m \u001b[95minbounds\u001b[39m \u001b[36mi64\u001b[39m\u001b[0m, \u001b[36mi64\u001b[39m\u001b[0m* \u001b[0m%6\u001b[0m, \u001b[36mi64\u001b[39m \u001b[33m12\u001b[39m\n",
      "  \u001b[0m%13 \u001b[0m= \u001b[96m\u001b[1mbitcast\u001b[22m\u001b[39m \u001b[36mi64\u001b[39m\u001b[0m* \u001b[0m%12 \u001b[95mto\u001b[39m \u001b[33m<\u001b[39m\u001b[33m4\u001b[39m \u001b[0mx \u001b[36mi64\u001b[39m\u001b[33m>\u001b[39m\u001b[0m*\n",
      "  \u001b[0m%wide.load14 \u001b[0m= \u001b[96m\u001b[1mload\u001b[22m\u001b[39m \u001b[33m<\u001b[39m\u001b[33m4\u001b[39m \u001b[0mx \u001b[36mi64\u001b[39m\u001b[33m>\u001b[39m\u001b[0m, \u001b[33m<\u001b[39m\u001b[33m4\u001b[39m \u001b[0mx \u001b[36mi64\u001b[39m\u001b[33m>\u001b[39m\u001b[0m* \u001b[0m%13\u001b[0m, \u001b[95malign\u001b[39m \u001b[33m8\u001b[39m\n",
      "  \u001b[0m%14 \u001b[0m= \u001b[96m\u001b[1madd\u001b[22m\u001b[39m \u001b[33m<\u001b[39m\u001b[33m4\u001b[39m \u001b[0mx \u001b[36mi64\u001b[39m\u001b[33m>\u001b[39m \u001b[0m%wide.load\u001b[0m, \u001b[0m%vec.phi\n",
      "  \u001b[0m%15 \u001b[0m= \u001b[96m\u001b[1madd\u001b[22m\u001b[39m \u001b[33m<\u001b[39m\u001b[33m4\u001b[39m \u001b[0mx \u001b[36mi64\u001b[39m\u001b[33m>\u001b[39m \u001b[0m%wide.load12\u001b[0m, \u001b[0m%vec.phi9\n",
      "  \u001b[0m%16 \u001b[0m= \u001b[96m\u001b[1madd\u001b[22m\u001b[39m \u001b[33m<\u001b[39m\u001b[33m4\u001b[39m \u001b[0mx \u001b[36mi64\u001b[39m\u001b[33m>\u001b[39m \u001b[0m%wide.load13\u001b[0m, \u001b[0m%vec.phi10\n",
      "  \u001b[0m%17 \u001b[0m= \u001b[96m\u001b[1madd\u001b[22m\u001b[39m \u001b[33m<\u001b[39m\u001b[33m4\u001b[39m \u001b[0mx \u001b[36mi64\u001b[39m\u001b[33m>\u001b[39m \u001b[0m%wide.load14\u001b[0m, \u001b[0m%vec.phi11\n",
      "  \u001b[0m%index.next \u001b[0m= \u001b[96m\u001b[1madd\u001b[22m\u001b[39m \u001b[36mi64\u001b[39m \u001b[0m%index\u001b[0m, \u001b[33m16\u001b[39m\n",
      "  \u001b[0m%18 \u001b[0m= \u001b[96m\u001b[1micmp\u001b[22m\u001b[39m \u001b[96m\u001b[1meq\u001b[22m\u001b[39m \u001b[36mi64\u001b[39m \u001b[0m%index.next\u001b[0m, \u001b[0m%n.vec\n",
      "  \u001b[96m\u001b[1mbr\u001b[22m\u001b[39m \u001b[36mi1\u001b[39m \u001b[0m%18\u001b[0m, \u001b[36mlabel\u001b[39m \u001b[91m%middle.block\u001b[39m\u001b[0m, \u001b[36mlabel\u001b[39m \u001b[91m%vector.body\u001b[39m\n",
      "\n",
      "\u001b[91mmiddle.block:\u001b[39m                                     \u001b[90m; preds = %vector.body\u001b[39m\n",
      "  \u001b[0m%bin.rdx \u001b[0m= \u001b[96m\u001b[1madd\u001b[22m\u001b[39m \u001b[33m<\u001b[39m\u001b[33m4\u001b[39m \u001b[0mx \u001b[36mi64\u001b[39m\u001b[33m>\u001b[39m \u001b[0m%15\u001b[0m, \u001b[0m%14\n",
      "  \u001b[0m%bin.rdx15 \u001b[0m= \u001b[96m\u001b[1madd\u001b[22m\u001b[39m \u001b[33m<\u001b[39m\u001b[33m4\u001b[39m \u001b[0mx \u001b[36mi64\u001b[39m\u001b[33m>\u001b[39m \u001b[0m%16\u001b[0m, \u001b[0m%bin.rdx\n",
      "  \u001b[0m%bin.rdx16 \u001b[0m= \u001b[96m\u001b[1madd\u001b[22m\u001b[39m \u001b[33m<\u001b[39m\u001b[33m4\u001b[39m \u001b[0mx \u001b[36mi64\u001b[39m\u001b[33m>\u001b[39m \u001b[0m%17\u001b[0m, \u001b[0m%bin.rdx15\n",
      "  \u001b[0m%19 \u001b[0m= \u001b[96m\u001b[1mcall\u001b[22m\u001b[39m \u001b[36mi64\u001b[39m \u001b[93m@llvm.vector.reduce.add.v4i64\u001b[39m\u001b[33m(\u001b[39m\u001b[33m<\u001b[39m\u001b[33m4\u001b[39m \u001b[0mx \u001b[36mi64\u001b[39m\u001b[33m>\u001b[39m \u001b[0m%bin.rdx16\u001b[33m)\u001b[39m\n",
      "  \u001b[0m%cmp.n \u001b[0m= \u001b[96m\u001b[1micmp\u001b[22m\u001b[39m \u001b[96m\u001b[1meq\u001b[22m\u001b[39m \u001b[36mi64\u001b[39m \u001b[0m%3\u001b[0m, \u001b[0m%n.vec\n",
      "  \u001b[96m\u001b[1mbr\u001b[22m\u001b[39m \u001b[36mi1\u001b[39m \u001b[0m%cmp.n\u001b[0m, \u001b[36mlabel\u001b[39m \u001b[91m%L18\u001b[39m\u001b[0m, \u001b[36mlabel\u001b[39m \u001b[91m%L10\u001b[39m\n",
      "\n",
      "\u001b[91mL10:\u001b[39m                                              \u001b[90m; preds = %L10, %middle.block, %L10.lr.ph\u001b[39m\n",
      "  \u001b[0m%value_phi18 \u001b[0m= \u001b[96m\u001b[1mphi\u001b[22m\u001b[39m \u001b[36mi64\u001b[39m \u001b[33m[\u001b[39m \u001b[0m%23\u001b[0m, \u001b[91m%L10\u001b[39m \u001b[33m]\u001b[39m\u001b[0m, \u001b[33m[\u001b[39m \u001b[0m%n.vec\u001b[0m, \u001b[91m%middle.block\u001b[39m \u001b[33m]\u001b[39m\u001b[0m, \u001b[33m[\u001b[39m \u001b[33m0\u001b[39m\u001b[0m, \u001b[91m%L10.lr.ph\u001b[39m \u001b[33m]\u001b[39m\n",
      "  \u001b[0m%value_phi7 \u001b[0m= \u001b[96m\u001b[1mphi\u001b[22m\u001b[39m \u001b[36mi64\u001b[39m \u001b[33m[\u001b[39m \u001b[0m%22\u001b[0m, \u001b[91m%L10\u001b[39m \u001b[33m]\u001b[39m\u001b[0m, \u001b[33m[\u001b[39m \u001b[0m%19\u001b[0m, \u001b[91m%middle.block\u001b[39m \u001b[33m]\u001b[39m\u001b[0m, \u001b[33m[\u001b[39m \u001b[33m0\u001b[39m\u001b[0m, \u001b[91m%L10.lr.ph\u001b[39m \u001b[33m]\u001b[39m\n",
      "  \u001b[0m%20 \u001b[0m= \u001b[96m\u001b[1mgetelementptr\u001b[22m\u001b[39m \u001b[95minbounds\u001b[39m \u001b[36mi64\u001b[39m\u001b[0m, \u001b[36mi64\u001b[39m\u001b[0m* \u001b[0m%5\u001b[0m, \u001b[36mi64\u001b[39m \u001b[0m%value_phi18\n",
      "  \u001b[0m%21 \u001b[0m= \u001b[96m\u001b[1mload\u001b[22m\u001b[39m \u001b[36mi64\u001b[39m\u001b[0m, \u001b[36mi64\u001b[39m\u001b[0m* \u001b[0m%20\u001b[0m, \u001b[95malign\u001b[39m \u001b[33m8\u001b[39m\n",
      "  \u001b[0m%22 \u001b[0m= \u001b[96m\u001b[1madd\u001b[22m\u001b[39m \u001b[36mi64\u001b[39m \u001b[0m%21\u001b[0m, \u001b[0m%value_phi7\n",
      "  \u001b[0m%23 \u001b[0m= \u001b[96m\u001b[1madd\u001b[22m\u001b[39m \u001b[95mnuw\u001b[39m \u001b[95mnsw\u001b[39m \u001b[36mi64\u001b[39m \u001b[0m%value_phi18\u001b[0m, \u001b[33m1\u001b[39m\n",
      "  \u001b[0m%exitcond.not \u001b[0m= \u001b[96m\u001b[1micmp\u001b[22m\u001b[39m \u001b[96m\u001b[1meq\u001b[22m\u001b[39m \u001b[36mi64\u001b[39m \u001b[0m%23\u001b[0m, \u001b[0m%3\n",
      "  \u001b[96m\u001b[1mbr\u001b[22m\u001b[39m \u001b[36mi1\u001b[39m \u001b[0m%exitcond.not\u001b[0m, \u001b[36mlabel\u001b[39m \u001b[91m%L18\u001b[39m\u001b[0m, \u001b[36mlabel\u001b[39m \u001b[91m%L10\u001b[39m\n",
      "\n",
      "\u001b[91mL18:\u001b[39m                                              \u001b[90m; preds = %L10, %middle.block, %top\u001b[39m\n",
      "  \u001b[0m%value_phi2 \u001b[0m= \u001b[96m\u001b[1mphi\u001b[22m\u001b[39m \u001b[36mi64\u001b[39m \u001b[33m[\u001b[39m \u001b[33m0\u001b[39m\u001b[0m, \u001b[91m%top\u001b[39m \u001b[33m]\u001b[39m\u001b[0m, \u001b[33m[\u001b[39m \u001b[0m%19\u001b[0m, \u001b[91m%middle.block\u001b[39m \u001b[33m]\u001b[39m\u001b[0m, \u001b[33m[\u001b[39m \u001b[0m%22\u001b[0m, \u001b[91m%L10\u001b[39m \u001b[33m]\u001b[39m\n",
      "  \u001b[96m\u001b[1mret\u001b[22m\u001b[39m \u001b[36mi64\u001b[39m \u001b[0m%value_phi2\n",
      "\u001b[33m}\u001b[39m\n"
     ]
    }
   ],
   "source": [
    "code_llvm(my_sum, Tuple{Vector{Int}}, debuginfo=:none)"
   ]
  },
  {
   "cell_type": "code",
   "execution_count": null,
   "metadata": {},
   "outputs": [],
   "source": []
  },
  {
   "cell_type": "code",
   "execution_count": null,
   "metadata": {},
   "outputs": [],
   "source": []
  },
  {
   "cell_type": "code",
   "execution_count": null,
   "metadata": {},
   "outputs": [],
   "source": []
  }
 ],
 "metadata": {
  "anaconda-cloud": {},
  "kernelspec": {
   "display_name": "Julia 1.7.2",
   "language": "julia",
   "name": "julia-1.7"
  },
  "language_info": {
   "file_extension": ".jl",
   "mimetype": "application/julia",
   "name": "julia",
   "version": "1.7.2"
  },
  "toc": {
   "base_numbering": 1,
   "nav_menu": {},
   "number_sections": true,
   "sideBar": true,
   "skip_h1_title": false,
   "title_cell": "Table of Contents",
   "title_sidebar": "Contents",
   "toc_cell": true,
   "toc_position": {},
   "toc_section_display": true,
   "toc_window_display": false
  },
  "varInspector": {
   "cols": {
    "lenName": 16,
    "lenType": 16,
    "lenVar": 40
   },
   "kernels_config": {
    "python": {
     "delete_cmd_postfix": "",
     "delete_cmd_prefix": "del ",
     "library": "var_list.py",
     "varRefreshCmd": "print(var_dic_list())"
    },
    "r": {
     "delete_cmd_postfix": ") ",
     "delete_cmd_prefix": "rm(",
     "library": "var_list.r",
     "varRefreshCmd": "cat(var_dic_list()) "
    }
   },
   "types_to_exclude": [
    "module",
    "function",
    "builtin_function_or_method",
    "instance",
    "_Feature"
   ],
   "window_display": false
  }
 },
 "nbformat": 4,
 "nbformat_minor": 1
}
