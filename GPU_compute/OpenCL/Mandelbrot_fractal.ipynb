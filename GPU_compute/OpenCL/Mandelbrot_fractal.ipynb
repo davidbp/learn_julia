{
 "cells": [
  {
   "cell_type": "code",
   "execution_count": 6,
   "metadata": {
    "collapsed": true
   },
   "outputs": [],
   "source": [
    "using OpenCL"
   ]
  },
  {
   "cell_type": "code",
   "execution_count": 7,
   "metadata": {
    "collapsed": true
   },
   "outputs": [],
   "source": [
    "using PyPlot"
   ]
  },
  {
   "cell_type": "markdown",
   "metadata": {},
   "source": [
    "## OpenCL GPU Mandelbrot Fractal Implementation"
   ]
  },
  {
   "cell_type": "code",
   "execution_count": 8,
   "metadata": {
    "collapsed": true
   },
   "outputs": [],
   "source": [
    "mandel_source = \"\n",
    "#pragma OPENCL EXTENSION cl_khr_byte_addressable_store : enable\n",
    "__kernel void mandelbrot(__global float2 *q,\n",
    "                         __global ushort *output, \n",
    "                         ushort const maxiter)\n",
    "{\n",
    " int gid = get_global_id(0);\n",
    " float nreal, real = 0;\n",
    " float imag = 0;\n",
    " output[gid] = 0;\n",
    " for(int curiter = 0; curiter < maxiter; curiter++) {\n",
    "     nreal = real*real - imag*imag + q[gid].x;\n",
    "     imag = 2* real*imag + q[gid].y;\n",
    "     real = nreal;\n",
    "\n",
    "     if (real*real + imag*imag > 4.0f)\n",
    "         output[gid] = curiter;\n",
    "  }\n",
    "}\";"
   ]
  },
  {
   "cell_type": "code",
   "execution_count": 31,
   "metadata": {
    "collapsed": false
   },
   "outputs": [
    {
     "data": {
      "text/plain": [
       "mandel_opencl (generic function with 2 methods)"
      ]
     },
     "execution_count": 31,
     "metadata": {},
     "output_type": "execute_result"
    }
   ],
   "source": [
    "function mandel_opencl(q::Array{Complex64}, maxiter::Int64, device)\n",
    "    ctx   = cl.Context(device)\n",
    "    queue = cl.CmdQueue(ctx)\n",
    "\n",
    "    out = Array{UInt16}(size(q))\n",
    "\n",
    "    q_buff = cl.Buffer(Complex64, ctx, (:r, :copy), hostbuf=q)\n",
    "    o_buff = cl.Buffer(UInt16, ctx, :w, length(out))\n",
    "\n",
    "    prg = cl.Program(ctx, source=mandel_source) |> cl.build!\n",
    "    \n",
    "    k = cl.Kernel(prg, \"mandelbrot\")\n",
    "    cl.call(queue, k, length(out), nothing, q_buff, o_buff, uint16(maxiter))\n",
    "    cl.copy!(queue, out, o_buff)\n",
    "    \n",
    "    return out\n",
    "end"
   ]
  },
  {
   "cell_type": "code",
   "execution_count": 32,
   "metadata": {
    "collapsed": false
   },
   "outputs": [
    {
     "name": "stdout",
     "output_type": "stream",
     "text": [
      "Size 128 MB\n"
     ]
    }
   ],
   "source": [
    "w = 2048 * 2;\n",
    "h = 2048 * 2;\n",
    "@printf(\"Size %i MB\\n\", sizeof(Complex64) * w * h / 1024 / 1024)\n",
    "\n",
    "q = [Complex64(r,i) for i=1:-(2.0/w):-1, r=-1.5:(3.0/h):1.5];"
   ]
  },
  {
   "cell_type": "code",
   "execution_count": 33,
   "metadata": {
    "collapsed": false
   },
   "outputs": [],
   "source": [
    "y1 = -1.0\n",
    "y2 = 1.0\n",
    "x1 = -1.5\n",
    "x2 = 0.5\n",
    "\n",
    "q = Array{Complex64}(h, w)\n",
    "for x in 1:w\n",
    "    for y in 1:h\n",
    "        xx = x1 + x * ((x2 - x1) / w)\n",
    "        yy = y1 + y * ((y2 - y1) / h)\n",
    "        @inbounds q[y, x] = Complex64(xx, yy)\n",
    "    end\n",
    "end"
   ]
  },
  {
   "cell_type": "code",
   "execution_count": 34,
   "metadata": {
    "collapsed": false
   },
   "outputs": [
    {
     "data": {
      "text/plain": [
       "OpenCL.Device(GeForce GT 650M on Apple @0x0000000001022700)"
      ]
     },
     "execution_count": 34,
     "metadata": {},
     "output_type": "execute_result"
    }
   ],
   "source": [
    "device = cl.devices()[3]"
   ]
  },
  {
   "cell_type": "code",
   "execution_count": 35,
   "metadata": {
    "collapsed": false
   },
   "outputs": [
    {
     "ename": "LoadError",
     "evalue": "\u001b[91mUndefVarError: call not defined\u001b[39m",
     "output_type": "error",
     "traceback": [
      "\u001b[91mUndefVarError: call not defined\u001b[39m",
      "",
      "Stacktrace:",
      " [1] \u001b[1mmandel_opencl\u001b[22m\u001b[22m\u001b[1m(\u001b[22m\u001b[22m::Array{Complex{Float32},2}, ::Int64, ::OpenCL.cl.Device\u001b[1m)\u001b[22m\u001b[22m at \u001b[1m./In[31]:13\u001b[22m\u001b[22m"
     ]
    }
   ],
   "source": [
    "@time m = mandel_opencl(q, 30, device);"
   ]
  },
  {
   "cell_type": "code",
   "execution_count": 36,
   "metadata": {
    "collapsed": false
   },
   "outputs": [
    {
     "ename": "LoadError",
     "evalue": "\u001b[91mUndefVarError: m not defined\u001b[39m",
     "output_type": "error",
     "traceback": [
      "\u001b[91mUndefVarError: m not defined\u001b[39m",
      ""
     ]
    }
   ],
   "source": [
    "imshow(m, cmap=\"RdGy\")"
   ]
  },
  {
   "cell_type": "code",
   "execution_count": null,
   "metadata": {
    "collapsed": true
   },
   "outputs": [],
   "source": []
  }
 ],
 "metadata": {
  "kernelspec": {
   "display_name": "Julia 0.6.0",
   "language": "julia",
   "name": "julia-0.6"
  },
  "language_info": {
   "file_extension": ".jl",
   "mimetype": "application/julia",
   "name": "julia",
   "version": "0.6.0"
  }
 },
 "nbformat": 4,
 "nbformat_minor": 0
}
