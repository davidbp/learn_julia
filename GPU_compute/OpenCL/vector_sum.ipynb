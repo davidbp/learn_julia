{
 "cells": [
  {
   "cell_type": "markdown",
   "metadata": {},
   "source": [
    "# Vector sum in OpenCL"
   ]
  },
  {
   "cell_type": "code",
   "execution_count": 1,
   "metadata": {
    "collapsed": false
   },
   "outputs": [],
   "source": [
    "using OpenCL\n",
    "\n",
    "srand(123)\n",
    "a = rand(Float32, 5000_000)\n",
    "b = rand(Float32, 5000_000);"
   ]
  },
  {
   "cell_type": "markdown",
   "metadata": {},
   "source": [
    "Let us look at the available devices for this host."
   ]
  },
  {
   "cell_type": "code",
   "execution_count": 2,
   "metadata": {
    "collapsed": false,
    "scrolled": true
   },
   "outputs": [
    {
     "data": {
      "text/plain": [
       "3-element Array{OpenCL.cl.Device,1}:\n",
       " OpenCL.Device(Intel(R) Core(TM) i7-3720QM CPU @ 2.60GHz on Apple @0x00000000ffffffff)\n",
       " OpenCL.Device(HD Graphics 4000 on Apple @0x0000000001024400)                         \n",
       " OpenCL.Device(GeForce GT 650M on Apple @0x0000000001022700)                          "
      ]
     },
     "execution_count": 2,
     "metadata": {},
     "output_type": "execute_result"
    }
   ],
   "source": [
    "cl.devices()"
   ]
  },
  {
   "cell_type": "markdown",
   "metadata": {},
   "source": [
    "In order to use a device we need to \n",
    "\n",
    "- Create a context: Define a context for a given device.\n",
    "- Create a queue: From the host to de device."
   ]
  },
  {
   "cell_type": "code",
   "execution_count": 3,
   "metadata": {
    "collapsed": false,
    "scrolled": true
   },
   "outputs": [
    {
     "data": {
      "text/plain": [
       "OpenCL.Device(GeForce GT 650M on Apple @0x0000000001022700)"
      ]
     },
     "execution_count": 3,
     "metadata": {},
     "output_type": "execute_result"
    }
   ],
   "source": [
    "device = cl.devices()[3]"
   ]
  },
  {
   "cell_type": "code",
   "execution_count": 4,
   "metadata": {
    "collapsed": false
   },
   "outputs": [
    {
     "data": {
      "text/plain": [
       "OpenCL.Context(@0x00007fa0e5ebb920 on GeForce GT 650M)"
      ]
     },
     "execution_count": 4,
     "metadata": {},
     "output_type": "execute_result"
    }
   ],
   "source": [
    "ctx = cl.Context(device)"
   ]
  },
  {
   "cell_type": "code",
   "execution_count": 5,
   "metadata": {
    "collapsed": false
   },
   "outputs": [
    {
     "data": {
      "text/plain": [
       "OpenCL.CmdQueue(@0x00007fa0eac44770)"
      ]
     },
     "execution_count": 5,
     "metadata": {},
     "output_type": "execute_result"
    }
   ],
   "source": [
    "queue = cl.CmdQueue(ctx)"
   ]
  },
  {
   "cell_type": "markdown",
   "metadata": {},
   "source": [
    "#### Sending information to the global memory\n",
    "\n",
    "We can send information to the gloval memory using our context"
   ]
  },
  {
   "cell_type": "code",
   "execution_count": 6,
   "metadata": {
    "collapsed": false
   },
   "outputs": [
    {
     "data": {
      "text/plain": [
       "Buffer{Float32}(@0x00007fa0ead2a8a0)"
      ]
     },
     "execution_count": 6,
     "metadata": {},
     "output_type": "execute_result"
    }
   ],
   "source": [
    "a_buff = cl.Buffer(Float32, ctx, (:r, :copy), hostbuf=a)\n",
    "b_buff = cl.Buffer(Float32, ctx, (:r, :copy), hostbuf=b)\n",
    "c_buff = cl.Buffer(Float32, ctx, :w, length(a))"
   ]
  },
  {
   "cell_type": "code",
   "execution_count": 7,
   "metadata": {
    "collapsed": false
   },
   "outputs": [],
   "source": [
    "const sum_kernel = \"\n",
    "   __kernel void sum(__global const float *a,\n",
    "                     __global const float *b,\n",
    "                     __global float *c)\n",
    "    {\n",
    "      int gid = get_global_id(0);\n",
    "      c[gid] = a[gid] + b[gid];\n",
    "    }\n",
    "\";"
   ]
  },
  {
   "cell_type": "code",
   "execution_count": 8,
   "metadata": {
    "collapsed": false
   },
   "outputs": [
    {
     "data": {
      "text/plain": [
       "OpenCL.Program(@0x00007fa0eabf22b0)"
      ]
     },
     "execution_count": 8,
     "metadata": {},
     "output_type": "execute_result"
    }
   ],
   "source": [
    "p = cl.build!(cl.Program(ctx, source=sum_kernel))"
   ]
  },
  {
   "cell_type": "code",
   "execution_count": 9,
   "metadata": {
    "collapsed": false
   },
   "outputs": [
    {
     "data": {
      "text/plain": [
       "OpenCL.Kernel(\"sum\" nargs=3)"
      ]
     },
     "execution_count": 9,
     "metadata": {},
     "output_type": "execute_result"
    }
   ],
   "source": [
    "k = cl.Kernel(p, \"sum\")"
   ]
  },
  {
   "cell_type": "code",
   "execution_count": 18,
   "metadata": {
    "collapsed": false
   },
   "outputs": [
    {
     "data": {
      "text/markdown": [
       "No documentation found.\n",
       "\n",
       "**Summary:**\n",
       "\n",
       "```\n",
       "abstract type OpenCL.cl.CLObject <: Any\n",
       "```\n",
       "\n",
       "**Subtypes:**\n",
       "\n",
       "```\n",
       "OpenCL.cl.CLArray\n",
       "OpenCL.cl.CLEvent\n",
       "OpenCL.cl.CLMemObject\n",
       "OpenCL.cl.CmdQueue\n",
       "OpenCL.cl.Context\n",
       "OpenCL.cl.Device\n",
       "OpenCL.cl.Kernel\n",
       "OpenCL.cl.Platform\n",
       "OpenCL.cl.Program\n",
       "```\n"
      ],
      "text/plain": [
       "No documentation found.\n",
       "\n",
       "**Summary:**\n",
       "\n",
       "```\n",
       "abstract type OpenCL.cl.CLObject <: Any\n",
       "```\n",
       "\n",
       "**Subtypes:**\n",
       "\n",
       "```\n",
       "OpenCL.cl.CLArray\n",
       "OpenCL.cl.CLEvent\n",
       "OpenCL.cl.CLMemObject\n",
       "OpenCL.cl.CmdQueue\n",
       "OpenCL.cl.Context\n",
       "OpenCL.cl.Device\n",
       "OpenCL.cl.Kernel\n",
       "OpenCL.cl.Platform\n",
       "OpenCL.cl.Program\n",
       "```\n"
      ]
     },
     "execution_count": 18,
     "metadata": {},
     "output_type": "execute_result"
    }
   ],
   "source": [
    "?OpenCL.cl.CLObject"
   ]
  },
  {
   "cell_type": "code",
   "execution_count": 11,
   "metadata": {
    "collapsed": false
   },
   "outputs": [
    {
     "data": {
      "text/plain": [
       "OpenCL.Event(@0x00007fa0ea9e87e0)"
      ]
     },
     "execution_count": 11,
     "metadata": {},
     "output_type": "execute_result"
    }
   ],
   "source": [
    "queue(k, size(a), nothing, a_buff, b_buff, c_buff)"
   ]
  },
  {
   "cell_type": "code",
   "execution_count": 12,
   "metadata": {
    "collapsed": true
   },
   "outputs": [],
   "source": [
    "r = cl.read(queue, c_buff);"
   ]
  },
  {
   "cell_type": "code",
   "execution_count": 13,
   "metadata": {
    "collapsed": false
   },
   "outputs": [],
   "source": [
    "using BenchmarkTools"
   ]
  },
  {
   "cell_type": "code",
   "execution_count": 14,
   "metadata": {
    "collapsed": false
   },
   "outputs": [
    {
     "data": {
      "text/plain": [
       "BenchmarkTools.Trial: \n",
       "  memory estimate:  19.07 MiB\n",
       "  allocs estimate:  2\n",
       "  --------------\n",
       "  minimum time:     6.518 ms (0.00% GC)\n",
       "  median time:      11.316 ms (0.00% GC)\n",
       "  mean time:        12.263 ms (20.44% GC)\n",
       "  maximum time:     80.918 ms (90.44% GC)\n",
       "  --------------\n",
       "  samples:          407\n",
       "  evals/sample:     1"
      ]
     },
     "execution_count": 14,
     "metadata": {},
     "output_type": "execute_result"
    }
   ],
   "source": [
    "@benchmark $a+$b"
   ]
  },
  {
   "cell_type": "code",
   "execution_count": 15,
   "metadata": {
    "collapsed": false
   },
   "outputs": [
    {
     "data": {
      "text/plain": [
       "BenchmarkTools.Trial: \n",
       "  memory estimate:  992 bytes\n",
       "  allocs estimate:  32\n",
       "  --------------\n",
       "  minimum time:     1.568 ms (0.00% GC)\n",
       "  median time:      1.793 ms (0.00% GC)\n",
       "  mean time:        1.832 ms (0.00% GC)\n",
       "  maximum time:     4.586 ms (0.00% GC)\n",
       "  --------------\n",
       "  samples:          2688\n",
       "  evals/sample:     1"
      ]
     },
     "execution_count": 15,
     "metadata": {},
     "output_type": "execute_result"
    }
   ],
   "source": [
    "@benchmark queue(k, size(a), nothing, a_buff, b_buff, c_buff)"
   ]
  },
  {
   "cell_type": "code",
   "execution_count": 16,
   "metadata": {
    "collapsed": false
   },
   "outputs": [
    {
     "data": {
      "text/plain": [
       "BenchmarkTools.Trial: \n",
       "  memory estimate:  448 bytes\n",
       "  allocs estimate:  12\n",
       "  --------------\n",
       "  minimum time:     1.547 ms (0.00% GC)\n",
       "  median time:      1.707 ms (0.00% GC)\n",
       "  mean time:        1.727 ms (0.00% GC)\n",
       "  maximum time:     2.135 ms (0.00% GC)\n",
       "  --------------\n",
       "  samples:          2865\n",
       "  evals/sample:     1"
      ]
     },
     "execution_count": 16,
     "metadata": {},
     "output_type": "execute_result"
    }
   ],
   "source": [
    "@benchmark queue(k, size(a), nothing)"
   ]
  },
  {
   "cell_type": "markdown",
   "metadata": {},
   "source": [
    "#### Reading the data takes a lot of time"
   ]
  },
  {
   "cell_type": "code",
   "execution_count": 17,
   "metadata": {
    "collapsed": false
   },
   "outputs": [
    {
     "data": {
      "text/plain": [
       "BenchmarkTools.Trial: \n",
       "  memory estimate:  19.07 MiB\n",
       "  allocs estimate:  37\n",
       "  --------------\n",
       "  minimum time:     23.153 ms (0.00% GC)\n",
       "  median time:      27.725 ms (0.00% GC)\n",
       "  mean time:        27.815 ms (7.45% GC)\n",
       "  maximum time:     100.794 ms (75.73% GC)\n",
       "  --------------\n",
       "  samples:          180\n",
       "  evals/sample:     1"
      ]
     },
     "execution_count": 17,
     "metadata": {},
     "output_type": "execute_result"
    }
   ],
   "source": [
    "@benchmark begin queue(k, size(a), nothing, a_buff, b_buff, c_buff)\n",
    "    r = cl.read(queue, c_buff);\n",
    "end"
   ]
  },
  {
   "cell_type": "code",
   "execution_count": null,
   "metadata": {
    "collapsed": true
   },
   "outputs": [],
   "source": []
  },
  {
   "cell_type": "code",
   "execution_count": null,
   "metadata": {
    "collapsed": true
   },
   "outputs": [],
   "source": []
  },
  {
   "cell_type": "code",
   "execution_count": null,
   "metadata": {
    "collapsed": true
   },
   "outputs": [],
   "source": []
  },
  {
   "cell_type": "code",
   "execution_count": null,
   "metadata": {
    "collapsed": true
   },
   "outputs": [],
   "source": []
  },
  {
   "cell_type": "code",
   "execution_count": null,
   "metadata": {
    "collapsed": true
   },
   "outputs": [],
   "source": []
  }
 ],
 "metadata": {
  "kernelspec": {
   "display_name": "Julia 0.6.0",
   "language": "julia",
   "name": "julia-0.6"
  },
  "language_info": {
   "file_extension": ".jl",
   "mimetype": "application/julia",
   "name": "julia",
   "version": "0.6.0"
  }
 },
 "nbformat": 4,
 "nbformat_minor": 0
}
