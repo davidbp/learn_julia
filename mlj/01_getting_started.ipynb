{
 "cells": [
  {
   "cell_type": "code",
   "execution_count": 26,
   "metadata": {},
   "outputs": [
    {
     "data": {
      "text/plain": [
       "Plots.PyPlotBackend()"
      ]
     },
     "execution_count": 26,
     "metadata": {},
     "output_type": "execute_result"
    }
   ],
   "source": [
    "using Suppressor\n",
    "using MLJ\n",
    "using Plots\n",
    "pyplot()"
   ]
  },
  {
   "cell_type": "code",
   "execution_count": 27,
   "metadata": {},
   "outputs": [],
   "source": [
    "using RDatasets\n",
    "iris = dataset(\"datasets\", \"iris\");"
   ]
  },
  {
   "cell_type": "code",
   "execution_count": 28,
   "metadata": {},
   "outputs": [],
   "source": [
    "X, y = iris[:,1:4], iris[:,5];"
   ]
  },
  {
   "cell_type": "markdown",
   "metadata": {},
   "source": [
    "### DecisionTreeClassifier example"
   ]
  },
  {
   "cell_type": "code",
   "execution_count": 29,
   "metadata": {},
   "outputs": [
    {
     "name": "stderr",
     "output_type": "stream",
     "text": [
      "┌ Info: A model named \"DecisionTreeClassifier\" is already loaded.\n",
      "│ Nothing new loaded. \n",
      "└ @ MLJ /Users/david/.julia/packages/MLJ/90fG8/src/loading.jl:191\n"
     ]
    }
   ],
   "source": [
    "@load DecisionTreeClassifier"
   ]
  },
  {
   "cell_type": "code",
   "execution_count": 30,
   "metadata": {},
   "outputs": [
    {
     "data": {
      "text/plain": [
       "DecisionTreeClassifier(pruning_purity = 1.0,\n",
       "                       max_depth = 4,\n",
       "                       min_samples_leaf = 1,\n",
       "                       min_samples_split = 2,\n",
       "                       min_purity_increase = 0.0,\n",
       "                       n_subfeatures = 0.0,\n",
       "                       display_depth = 5,\n",
       "                       post_prune = false,\n",
       "                       merge_purity_threshold = 0.9,)\u001b[34m @ 1…03\u001b[39m"
      ]
     },
     "execution_count": 30,
     "metadata": {},
     "output_type": "execute_result"
    }
   ],
   "source": [
    "tree_model = DecisionTreeClassifier(max_depth=4)"
   ]
  },
  {
   "cell_type": "code",
   "execution_count": 31,
   "metadata": {},
   "outputs": [
    {
     "data": {
      "text/plain": [
       "\u001b[34mMachine{DecisionTreeClassifier} @ 4…09\u001b[39m\n"
      ]
     },
     "execution_count": 31,
     "metadata": {},
     "output_type": "execute_result"
    }
   ],
   "source": [
    "tree_machine = machine(tree_model, X, y)"
   ]
  },
  {
   "cell_type": "code",
   "execution_count": 32,
   "metadata": {},
   "outputs": [],
   "source": [
    "train, test = partition(eachindex(y), 0.7, shuffle=true);"
   ]
  },
  {
   "cell_type": "code",
   "execution_count": 34,
   "metadata": {},
   "outputs": [
    {
     "name": "stderr",
     "output_type": "stream",
     "text": [
      "┌ Info: Training \u001b[34mMachine{DecisionTreeClassifier} @ 4…09\u001b[39m.\n",
      "└ @ MLJ /Users/david/.julia/packages/MLJ/90fG8/src/machines.jl:130\n"
     ]
    },
    {
     "data": {
      "text/plain": [
       "\u001b[34mMachine{DecisionTreeClassifier} @ 4…09\u001b[39m\n"
      ]
     },
     "execution_count": 34,
     "metadata": {},
     "output_type": "execute_result"
    }
   ],
   "source": [
    "fit!(tree_machine, rows=train)"
   ]
  },
  {
   "cell_type": "code",
   "execution_count": 39,
   "metadata": {},
   "outputs": [
    {
     "data": {
      "text/plain": [
       "45-element Array{UnivariateFinite{CategoricalString{UInt8},Float64},1}:\n",
       " UnivariateFinite{CategoricalString{UInt8},Float64}(\n",
       "prob_given_level: Dict(\"virginica\"=>1.0,\"setosa\"=>0.0,\"versicolor\"=>0.0)\n",
       ")\n",
       "\n",
       " UnivariateFinite{CategoricalString{UInt8},Float64}(\n",
       "prob_given_level: Dict(\"virginica\"=>1.0,\"setosa\"=>0.0,\"versicolor\"=>0.0)\n",
       ")\n",
       "\n",
       " UnivariateFinite{CategoricalString{UInt8},Float64}(\n",
       "prob_given_level: Dict(\"virginica\"=>0.0,\"setosa\"=>0.0,\"versicolor\"=>1.0)\n",
       ")\n",
       "\n",
       " UnivariateFinite{CategoricalString{UInt8},Float64}(\n",
       "prob_given_level: Dict(\"virginica\"=>1.0,\"setosa\"=>0.0,\"versicolor\"=>0.0)\n",
       ")\n",
       "\n",
       " UnivariateFinite{CategoricalString{UInt8},Float64}(\n",
       "prob_given_level: Dict(\"virginica\"=>1.0,\"setosa\"=>0.0,\"versicolor\"=>0.0)\n",
       ")\n",
       "\n",
       " UnivariateFinite{CategoricalString{UInt8},Float64}(\n",
       "prob_given_level: Dict(\"virginica\"=>0.0,\"setosa\"=>1.0,\"versicolor\"=>0.0)\n",
       ")\n",
       "\n",
       " UnivariateFinite{CategoricalString{UInt8},Float64}(\n",
       "prob_given_level: Dict(\"virginica\"=>1.0,\"setosa\"=>0.0,\"versicolor\"=>0.0)\n",
       ")\n",
       "\n",
       " UnivariateFinite{CategoricalString{UInt8},Float64}(\n",
       "prob_given_level: Dict(\"virginica\"=>0.0,\"setosa\"=>0.0,\"versicolor\"=>1.0)\n",
       ")\n",
       "\n",
       " UnivariateFinite{CategoricalString{UInt8},Float64}(\n",
       "prob_given_level: Dict(\"virginica\"=>1.0,\"setosa\"=>0.0,\"versicolor\"=>0.0)\n",
       ")\n",
       "\n",
       " UnivariateFinite{CategoricalString{UInt8},Float64}(\n",
       "prob_given_level: Dict(\"virginica\"=>0.0,\"setosa\"=>1.0,\"versicolor\"=>0.0)\n",
       ")\n",
       "\n",
       " UnivariateFinite{CategoricalString{UInt8},Float64}(\n",
       "prob_given_level: Dict(\"virginica\"=>0.0,\"setosa\"=>1.0,\"versicolor\"=>0.0)\n",
       ")\n",
       "\n",
       " UnivariateFinite{CategoricalString{UInt8},Float64}(\n",
       "prob_given_level: Dict(\"virginica\"=>0.0,\"setosa\"=>1.0,\"versicolor\"=>0.0)\n",
       ")\n",
       "\n",
       " UnivariateFinite{CategoricalString{UInt8},Float64}(\n",
       "prob_given_level: Dict(\"virginica\"=>1.0,\"setosa\"=>0.0,\"versicolor\"=>0.0)\n",
       ")\n",
       "\n",
       " ⋮                                                                                                                              \n",
       " UnivariateFinite{CategoricalString{UInt8},Float64}(\n",
       "prob_given_level: Dict(\"virginica\"=>0.0,\"setosa\"=>0.0,\"versicolor\"=>1.0)\n",
       ")\n",
       "\n",
       " UnivariateFinite{CategoricalString{UInt8},Float64}(\n",
       "prob_given_level: Dict(\"virginica\"=>1.0,\"setosa\"=>0.0,\"versicolor\"=>0.0)\n",
       ")\n",
       "\n",
       " UnivariateFinite{CategoricalString{UInt8},Float64}(\n",
       "prob_given_level: Dict(\"virginica\"=>1.0,\"setosa\"=>0.0,\"versicolor\"=>0.0)\n",
       ")\n",
       "\n",
       " UnivariateFinite{CategoricalString{UInt8},Float64}(\n",
       "prob_given_level: Dict(\"virginica\"=>1.0,\"setosa\"=>0.0,\"versicolor\"=>0.0)\n",
       ")\n",
       "\n",
       " UnivariateFinite{CategoricalString{UInt8},Float64}(\n",
       "prob_given_level: Dict(\"virginica\"=>0.0,\"setosa\"=>1.0,\"versicolor\"=>0.0)\n",
       ")\n",
       "\n",
       " UnivariateFinite{CategoricalString{UInt8},Float64}(\n",
       "prob_given_level: Dict(\"virginica\"=>0.0,\"setosa\"=>1.0,\"versicolor\"=>0.0)\n",
       ")\n",
       "\n",
       " UnivariateFinite{CategoricalString{UInt8},Float64}(\n",
       "prob_given_level: Dict(\"virginica\"=>1.0,\"setosa\"=>0.0,\"versicolor\"=>0.0)\n",
       ")\n",
       "\n",
       " UnivariateFinite{CategoricalString{UInt8},Float64}(\n",
       "prob_given_level: Dict(\"virginica\"=>1.0,\"setosa\"=>0.0,\"versicolor\"=>0.0)\n",
       ")\n",
       "\n",
       " UnivariateFinite{CategoricalString{UInt8},Float64}(\n",
       "prob_given_level: Dict(\"virginica\"=>0.0,\"setosa\"=>1.0,\"versicolor\"=>0.0)\n",
       ")\n",
       "\n",
       " UnivariateFinite{CategoricalString{UInt8},Float64}(\n",
       "prob_given_level: Dict(\"virginica\"=>0.0,\"setosa\"=>0.0,\"versicolor\"=>1.0)\n",
       ")\n",
       "\n",
       " UnivariateFinite{CategoricalString{UInt8},Float64}(\n",
       "prob_given_level: Dict(\"virginica\"=>0.0,\"setosa\"=>0.0,\"versicolor\"=>1.0)\n",
       ")\n",
       "\n",
       " UnivariateFinite{CategoricalString{UInt8},Float64}(\n",
       "prob_given_level: Dict(\"virginica\"=>0.0,\"setosa\"=>0.0,\"versicolor\"=>1.0)\n",
       ")\n"
      ]
     },
     "execution_count": 39,
     "metadata": {},
     "output_type": "execute_result"
    }
   ],
   "source": [
    "y_hat = predict(tree_machine,X[test,:])"
   ]
  },
  {
   "cell_type": "code",
   "execution_count": 42,
   "metadata": {},
   "outputs": [
    {
     "data": {
      "text/plain": [
       "UnivariateFinite{CategoricalString{UInt8},Float64}(\n",
       "prob_given_level: Dict(\"virginica\"=>1.0,\"setosa\"=>0.0,\"versicolor\"=>0.0)\n",
       ")\n"
      ]
     },
     "execution_count": 42,
     "metadata": {},
     "output_type": "execute_result"
    }
   ],
   "source": [
    "y_hat[1]"
   ]
  },
  {
   "cell_type": "markdown",
   "metadata": {},
   "source": [
    "Notice that the prediction for an input `X[i,:]` is a "
   ]
  },
  {
   "cell_type": "code",
   "execution_count": 59,
   "metadata": {},
   "outputs": [],
   "source": [
    "test_probs = [values(yk.prob_given_level) for yk in y_hat];"
   ]
  },
  {
   "cell_type": "code",
   "execution_count": 61,
   "metadata": {},
   "outputs": [
    {
     "data": {
      "text/plain": [
       "Base.ValueIterator{Dict{CategoricalString{UInt8},Float64}}"
      ]
     },
     "execution_count": 61,
     "metadata": {},
     "output_type": "execute_result"
    }
   ],
   "source": [
    "typeof(test_probs[1])"
   ]
  },
  {
   "cell_type": "code",
   "execution_count": 64,
   "metadata": {},
   "outputs": [
    {
     "data": {
      "text/plain": [
       "UnivariateFinite{CategoricalString{UInt8},Float64}(\n",
       "prob_given_level: Dict(\"virginica\"=>1.0,\"setosa\"=>0.0,\"versicolor\"=>0.0)\n",
       ")\n"
      ]
     },
     "execution_count": 64,
     "metadata": {},
     "output_type": "execute_result"
    }
   ],
   "source": [
    "y_hat[1]"
   ]
  },
  {
   "cell_type": "code",
   "execution_count": 65,
   "metadata": {},
   "outputs": [
    {
     "data": {
      "text/plain": [
       "Dict{CategoricalString{UInt8},Float64} with 3 entries:\n",
       "  CategoricalString{UInt8} \"virginica\"  => 1.0\n",
       "  CategoricalString{UInt8} \"setosa\"     => 0.0\n",
       "  CategoricalString{UInt8} \"versicolor\" => 0.0"
      ]
     },
     "execution_count": 65,
     "metadata": {},
     "output_type": "execute_result"
    }
   ],
   "source": [
    "y_hat[1].prob_given_level"
   ]
  },
  {
   "cell_type": "code",
   "execution_count": 106,
   "metadata": {},
   "outputs": [
    {
     "data": {
      "text/plain": [
       "Dict{CategoricalString{UInt8},Float64} with 3 entries:\n",
       "  CategoricalString{UInt8} \"virginica\"  => 1.0\n",
       "  CategoricalString{UInt8} \"setosa\"     => 0.0\n",
       "  CategoricalString{UInt8} \"versicolor\" => 0.0"
      ]
     },
     "execution_count": 106,
     "metadata": {},
     "output_type": "execute_result"
    }
   ],
   "source": [
    "d = y_hat[1].prob_given_level"
   ]
  },
  {
   "cell_type": "code",
   "execution_count": 113,
   "metadata": {},
   "outputs": [
    {
     "data": {
      "text/plain": [
       "3-element Array{CategoricalString{UInt8},1}:\n",
       " \"virginica\" \n",
       " \"setosa\"    \n",
       " \"versicolor\""
      ]
     },
     "execution_count": 113,
     "metadata": {},
     "output_type": "execute_result"
    }
   ],
   "source": [
    "classnames = [x for x in keys(y_hat[1].prob_given_level)]"
   ]
  },
  {
   "cell_type": "code",
   "execution_count": 125,
   "metadata": {},
   "outputs": [
    {
     "data": {
      "text/plain": [
       "to_class (generic function with 1 method)"
      ]
     },
     "execution_count": 125,
     "metadata": {},
     "output_type": "execute_result"
    }
   ],
   "source": [
    "pos_to_class = Dict( pos =>class for (pos,class) in enumerate(classnames))\n",
    "to_class(x) = pos_to_class[x]"
   ]
  },
  {
   "cell_type": "code",
   "execution_count": 118,
   "metadata": {},
   "outputs": [
    {
     "data": {
      "text/plain": [
       "most_probable_class (generic function with 1 method)"
      ]
     },
     "execution_count": 118,
     "metadata": {},
     "output_type": "execute_result"
    }
   ],
   "source": [
    "most_probable_class(y) = argmax([x for x in values(y.prob_given_level)])"
   ]
  },
  {
   "cell_type": "code",
   "execution_count": 130,
   "metadata": {},
   "outputs": [
    {
     "data": {
      "text/plain": [
       "0.9111111111111111"
      ]
     },
     "execution_count": 130,
     "metadata": {},
     "output_type": "execute_result"
    }
   ],
   "source": [
    "# test accuracy\n",
    "mean(to_class.(most_probable_class.(y_hat)) .== y[test])"
   ]
  },
  {
   "cell_type": "code",
   "execution_count": 132,
   "metadata": {},
   "outputs": [
    {
     "data": {
      "text/plain": [
       "1.0"
      ]
     },
     "execution_count": 132,
     "metadata": {},
     "output_type": "execute_result"
    }
   ],
   "source": [
    "# train accuracy\n",
    "y_hat = predict(tree_machine,X[train,:])\n",
    "mean(to_class.(most_probable_class.(y_hat)) .== y[train])"
   ]
  },
  {
   "cell_type": "code",
   "execution_count": null,
   "metadata": {},
   "outputs": [],
   "source": []
  },
  {
   "cell_type": "code",
   "execution_count": null,
   "metadata": {},
   "outputs": [],
   "source": []
  },
  {
   "cell_type": "code",
   "execution_count": null,
   "metadata": {},
   "outputs": [],
   "source": []
  },
  {
   "cell_type": "code",
   "execution_count": null,
   "metadata": {},
   "outputs": [],
   "source": []
  },
  {
   "cell_type": "code",
   "execution_count": null,
   "metadata": {},
   "outputs": [],
   "source": []
  },
  {
   "cell_type": "code",
   "execution_count": null,
   "metadata": {},
   "outputs": [],
   "source": []
  },
  {
   "cell_type": "code",
   "execution_count": 19,
   "metadata": {},
   "outputs": [
    {
     "ename": "UndefVarError",
     "evalue": "UndefVarError: y_enc not defined",
     "output_type": "error",
     "traceback": [
      "UndefVarError: y_enc not defined",
      "",
      "Stacktrace:",
      " [1] top-level scope at In[19]:1"
     ]
    }
   ],
   "source": [
    "y_enc = CategoricalArray(y_enc)\n",
    "tree_machine = machine(tree_model, X, y_enc)"
   ]
  },
  {
   "cell_type": "code",
   "execution_count": 20,
   "metadata": {},
   "outputs": [
    {
     "ename": "UndefVarError",
     "evalue": "UndefVarError: tree not defined",
     "output_type": "error",
     "traceback": [
      "UndefVarError: tree not defined",
      "",
      "Stacktrace:",
      " [1] top-level scope at In[20]:1"
     ]
    }
   ],
   "source": [
    "fit!(tree, rows=train)"
   ]
  },
  {
   "cell_type": "code",
   "execution_count": 21,
   "metadata": {},
   "outputs": [
    {
     "ename": "UndefVarError",
     "evalue": "UndefVarError: tree not defined",
     "output_type": "error",
     "traceback": [
      "UndefVarError: tree not defined",
      "",
      "Stacktrace:",
      " [1] top-level scope at In[21]:1"
     ]
    }
   ],
   "source": [
    "y_hat = predict(tree,X[end-10:end,:])"
   ]
  },
  {
   "cell_type": "code",
   "execution_count": 22,
   "metadata": {},
   "outputs": [
    {
     "ename": "UndefVarError",
     "evalue": "UndefVarError: tree not defined",
     "output_type": "error",
     "traceback": [
      "UndefVarError: tree not defined",
      "",
      "Stacktrace:",
      " [1] top-level scope at In[22]:1"
     ]
    }
   ],
   "source": [
    "yhat = predict(tree, X[test,:]);"
   ]
  },
  {
   "cell_type": "code",
   "execution_count": 23,
   "metadata": {},
   "outputs": [
    {
     "ename": "UndefVarError",
     "evalue": "UndefVarError: y_enc not defined",
     "output_type": "error",
     "traceback": [
      "UndefVarError: y_enc not defined",
      "",
      "Stacktrace:",
      " [1] top-level scope at In[23]:1"
     ]
    }
   ],
   "source": [
    "misclassification_rate(yhat, y_enc[test])"
   ]
  },
  {
   "cell_type": "code",
   "execution_count": 24,
   "metadata": {},
   "outputs": [
    {
     "ename": "UndefVarError",
     "evalue": "UndefVarError: tree not defined",
     "output_type": "error",
     "traceback": [
      "UndefVarError: tree not defined",
      "",
      "Stacktrace:",
      " [1] top-level scope at In[24]:1"
     ]
    }
   ],
   "source": [
    "evaluate!(tree, \n",
    "          resampling=Holdout(fraction_train=0.7, shuffle=true),\n",
    "          measure=misclassification_rate)"
   ]
  },
  {
   "cell_type": "code",
   "execution_count": null,
   "metadata": {},
   "outputs": [],
   "source": []
  },
  {
   "cell_type": "code",
   "execution_count": null,
   "metadata": {},
   "outputs": [],
   "source": []
  },
  {
   "cell_type": "code",
   "execution_count": null,
   "metadata": {},
   "outputs": [],
   "source": []
  },
  {
   "cell_type": "code",
   "execution_count": null,
   "metadata": {},
   "outputs": [],
   "source": []
  },
  {
   "cell_type": "code",
   "execution_count": null,
   "metadata": {},
   "outputs": [],
   "source": []
  },
  {
   "cell_type": "code",
   "execution_count": null,
   "metadata": {},
   "outputs": [],
   "source": []
  },
  {
   "cell_type": "markdown",
   "metadata": {},
   "source": [
    "Notice that fit expects Int64 as type for the outputs\n",
    "\n",
    "https://github.com/JuliaML/MLDataUtils.jl"
   ]
  },
  {
   "cell_type": "code",
   "execution_count": 48,
   "metadata": {},
   "outputs": [
    {
     "data": {
      "text/plain": [
       "map_class_to_int (generic function with 1 method)"
      ]
     },
     "execution_count": 48,
     "metadata": {},
     "output_type": "execute_result"
    }
   ],
   "source": [
    "function map_class_to_int(y; y_enc_type=Int64)\n",
    "    class_values = Set(y)\n",
    "    y_enc = zeros(y_enc_type, length(y))\n",
    "    label_to_int = Dict(class=>y_enc_type(j) for (j,class) in enumerate(class_values))\n",
    "    \n",
    "    for (j,class) in enumerate(class_values)\n",
    "        y_enc[y .==class] .= y_enc_type(j)\n",
    "    end\n",
    "    return y_enc, label_to_int\n",
    "end"
   ]
  },
  {
   "cell_type": "code",
   "execution_count": 49,
   "metadata": {},
   "outputs": [],
   "source": [
    "y_enc, label_to_int = map_class_to_int(y; y_enc_type=Int64);"
   ]
  },
  {
   "cell_type": "code",
   "execution_count": 50,
   "metadata": {
    "scrolled": false
   },
   "outputs": [
    {
     "data": {
      "text/plain": [
       "Dict{CategoricalString{UInt8},Int64} with 3 entries:\n",
       "  CategoricalString{UInt8} \"virginica\"  => 3\n",
       "  CategoricalString{UInt8} \"versicolor\" => 1\n",
       "  CategoricalString{UInt8} \"setosa\"     => 2"
      ]
     },
     "execution_count": 50,
     "metadata": {},
     "output_type": "execute_result"
    }
   ],
   "source": [
    "label_to_int"
   ]
  },
  {
   "cell_type": "code",
   "execution_count": null,
   "metadata": {
    "collapsed": true
   },
   "outputs": [],
   "source": []
  },
  {
   "cell_type": "markdown",
   "metadata": {},
   "source": [
    "## Data containers and scientific types\n",
    "\n",
    "### Data containers and scientific types\n",
    "\n",
    "The MLJ user should acquaint themselves with some\n",
    "basic assumptions about the form of data expected by MLJ, as outlined\n",
    "below. \n",
    "\n",
    "```\n",
    "machine(model::Supervised, X, y) \n",
    "machine(model::Unsupervised, X)\n",
    "```\n",
    "\n",
    "**Multivariate input.** The input `X` in the above machine\n",
    "constructors can be any table, where *table* means any data type\n",
    "supporting the [Tables.jl](https://github.com/JuliaData/Tables.jl)\n",
    "interface.\n",
    "\n",
    "> At present our API is more restrictive; see this\n",
    "> [issue](https://github.com/JuliaData/Tables.jl/issues/74) with\n",
    "> Tables.jl. If your Tables.jl compatible format is not working in\n",
    "> MLJ, please post an issue.\n",
    "\n",
    "In particular, `DataFrame`, `JuliaDB.IndexedTable` and\n",
    "`TypedTables.Table` objects are supported, as are two Julia native\n",
    "formats: *column tables* (named tuples of equal length vectors) and\n",
    "*row tables* (vectors of named tuples sharing the same\n",
    "keys).\n",
    "\n",
    "> Certain `JuliaDB.NDSparse` tables can be used for sparse data, but\n",
    "> this is experimental and undocumented.\n",
    "\n",
    "**Univariate input.** For models which handle only univariate inputs\n",
    "(`input_is_multivariate(model)=false`) `X` cannot be a table but is\n",
    "expected to be some `AbstractVector` type.\n",
    "\n",
    "**Targets.** The target `y` in the first constructor above must be an\n",
    "`AbstractVector`. A multivariate target `y` will be a vector of\n",
    "*tuples*. The tuples need not have uniform length, so some forms of\n",
    "sequence prediction are supported. Only the element types of `y`\n",
    "matter (the types of `y[j]` for each `j`). Indeed if a machine accepts\n",
    "`y` as an argument it will be just as happy with `identity.(y)`.\n",
    "\n",
    "**Element types.** The types of input and target *elements* has strict\n",
    "consequences for MLJ's behaviour. \n",
    "\n",
    "To articulate MLJ's conventions about data representation, MLJ\n",
    "distinguishes between *machine* data types on the one hand (`Float64`,\n",
    "`Bool`, `String`, etc) and *scientific data types* on the other,\n",
    "represented by new Julia types: `Continuous`, `Count`,\n",
    "`Multiclass{N}`, `OrderedFactor{N}` and `Unknown`, with obvious\n",
    "interpretations.  These types are organized in a type\n",
    "[hierarchy](scitypes.png) rooted in a new abstract type `Found`.\n",
    "\n",
    "A *scientific type* is any subtype of\n",
    "`Union{Missing,Found}`. Scientific types have no instances. (They are\n",
    "used behind the scenes is values for model trait functions.) Such\n",
    "types appear, for example, when querying model metadata:\n",
    "\n",
    "```julia\n",
    "julia> info(\"DecisionTreeClassifier\")[:target_scitype_union]\n",
    "```\n",
    "\n",
    "```julia\n",
    "Finite\n",
    "```\n",
    "\n",
    "```julia\n",
    "subtypes(Finite)\n",
    "```\n",
    "\n",
    "```julia\n",
    "2-element Array{Any,1}:\n",
    " Multiclass   \n",
    " OrderedFactor\n",
    "```\n",
    "\n",
    "This means that the scitype of all elements of `DecisionTreeClassier`\n",
    "target must be `Multiclass` or `OrderedFactor`.\n",
    "\n",
    "To see how MLJ will interpret an object `x` appearing in table or\n",
    "vector input `X`, or target vector `y`, call `scitype(x)`. The fallback\n",
    "this function is `scitype(::Any) = Unknown`. \n",
    "\n",
    "```julia\n",
    "julia> (scitype(42), scitype(float(π)), scitype(\"Julia\"))\n",
    "```\n",
    "\n",
    "```julia\n",
    "(Count, Continuous, Unknown)\n",
    "```\n",
    "    \n",
    "The table below shows machine types that have scientific types\n",
    "different from `Unknown`:\n",
    "\n",
    "`T`                         |     `scitype(x)` for `x::T`\n",
    "----------------------------|:--------------------------------\n",
    "`AbstractFloat`             |      `Continuous`\n",
    "`Integer`                   |        `Count`\n",
    "`CategoricalValue`          | `Multiclass{N}` where `N = nlevels(x)`, provided `x.pool.ordered == false` \n",
    "`CategoricalString`         | `Multiclass{N}` where `N =p nlevels(x)`, provided `x.pool.ordered == false`\n",
    "`CategoricalValue`          | `OrderedFactor{N}` where `N = nlevels(x)`, provided `x.pool.ordered == true` \n",
    "`CategoricalString`         | `OrderedFactor{N}` where `N = nlevels(x)` provided `x.pool.ordered == true`\n",
    "`Integer`                   | `Count`\n",
    "`Missing`                   | `Missing`\n",
    "\n",
    "Here `nlevels(x) = length(levels(x.pool))`.\n",
    "\n",
    "**Special note on using integers.** According to the above, integers\n",
    "cannot be used to represent `Multiclass` or `OrderedFactor` data. These can be represented by an unordered or ordered `CategoricalValue`\n",
    "or `CategoricalString` (automatic if they are elements of a\n",
    "`CategoricalArray`).\n",
    "\n",
    "Methods exist to coerce the scientific type of a vector or table (see\n",
    "below). [Task](working_with_tasks.md) constructors also allow one to\n",
    "force the data being wrapped to have the desired scientific type.\n",
    "\n",
    "For more about scientific types and their role, see [Adding Models for\n",
    "General Use](adding_models_for_general_use.md)\n",
    "\n",
    "\n",
    "\n"
   ]
  },
  {
   "cell_type": "code",
   "execution_count": null,
   "metadata": {
    "collapsed": true
   },
   "outputs": [],
   "source": []
  },
  {
   "cell_type": "code",
   "execution_count": null,
   "metadata": {
    "collapsed": true
   },
   "outputs": [],
   "source": []
  },
  {
   "cell_type": "code",
   "execution_count": null,
   "metadata": {
    "collapsed": true
   },
   "outputs": [],
   "source": []
  },
  {
   "cell_type": "code",
   "execution_count": null,
   "metadata": {
    "collapsed": true
   },
   "outputs": [],
   "source": []
  },
  {
   "cell_type": "code",
   "execution_count": null,
   "metadata": {
    "collapsed": true
   },
   "outputs": [],
   "source": []
  },
  {
   "cell_type": "code",
   "execution_count": null,
   "metadata": {
    "collapsed": true
   },
   "outputs": [],
   "source": []
  },
  {
   "cell_type": "code",
   "execution_count": null,
   "metadata": {
    "collapsed": true
   },
   "outputs": [],
   "source": []
  },
  {
   "cell_type": "markdown",
   "metadata": {},
   "source": [
    "## Other"
   ]
  },
  {
   "cell_type": "code",
   "execution_count": 74,
   "metadata": {},
   "outputs": [
    {
     "data": {
      "text/plain": [
       "\u001b[0m\u001b[1mSupervisedTask @ 5…38\u001b[22m\n"
      ]
     },
     "execution_count": 74,
     "metadata": {},
     "output_type": "execute_result"
    }
   ],
   "source": [
    "using MLJ\n",
    "task = load_iris()\n"
   ]
  },
  {
   "cell_type": "code",
   "execution_count": 75,
   "metadata": {
    "collapsed": true
   },
   "outputs": [],
   "source": [
    "using RDatasets\n",
    "df = dataset(\"boot\", \"channing\");"
   ]
  },
  {
   "cell_type": "code",
   "execution_count": 76,
   "metadata": {},
   "outputs": [
    {
     "data": {
      "text/plain": [
       "(Sex = Multiclass{2},\n",
       " Entry = Count,\n",
       " Exit = Count,\n",
       " Time = Count,\n",
       " Cens = Count,)"
      ]
     },
     "execution_count": 76,
     "metadata": {},
     "output_type": "execute_result"
    }
   ],
   "source": [
    "(Sex = Multiclass{2},\n",
    " Entry = Count,\n",
    " Exit = Count,\n",
    " Time = Count,\n",
    " Cens = Count,)"
   ]
  },
  {
   "cell_type": "code",
   "execution_count": 77,
   "metadata": {},
   "outputs": [
    {
     "ename": "UndefVarError",
     "evalue": "UndefVarError: supervised not defined",
     "output_type": "error",
     "traceback": [
      "UndefVarError: supervised not defined",
      "",
      "Stacktrace:",
      " [1] top-level scope at In[77]:1"
     ]
    }
   ],
   "source": [
    "task = supervised(data=df,\n",
    "                  target=:Exit,\n",
    "                  ignore=:Time,\n",
    "                  is_probabilistic=true,\n",
    "                  types=Dict(:Entry=>Continuous,\n",
    "                             :Exit=>Continuous,\n",
    "                             :Cens=>Multiclass))\n",
    "scitypes(task.X)"
   ]
  },
  {
   "cell_type": "code",
   "execution_count": null,
   "metadata": {
    "collapsed": true
   },
   "outputs": [],
   "source": []
  },
  {
   "cell_type": "code",
   "execution_count": null,
   "metadata": {
    "collapsed": true
   },
   "outputs": [],
   "source": []
  },
  {
   "cell_type": "code",
   "execution_count": null,
   "metadata": {
    "collapsed": true
   },
   "outputs": [],
   "source": []
  },
  {
   "cell_type": "code",
   "execution_count": null,
   "metadata": {
    "collapsed": true
   },
   "outputs": [],
   "source": []
  },
  {
   "cell_type": "code",
   "execution_count": null,
   "metadata": {
    "collapsed": true
   },
   "outputs": [],
   "source": []
  },
  {
   "cell_type": "code",
   "execution_count": null,
   "metadata": {
    "collapsed": true
   },
   "outputs": [],
   "source": []
  },
  {
   "cell_type": "markdown",
   "metadata": {},
   "source": [
    "## Tasks\n",
    "\n",
    "- Definition: A task is a set of 3 elements: {data, data interpretator, learning objective}.\n",
    "\n",
    "\n",
    "\n",
    "\n",
    "We can use tasks to choose learning models.\n",
    "\n"
   ]
  },
  {
   "cell_type": "markdown",
   "metadata": {},
   "source": [
    "### `SupervisedTask` type"
   ]
  },
  {
   "cell_type": "code",
   "execution_count": null,
   "metadata": {},
   "outputs": [],
   "source": [
    "supertype(SupervisedTask)"
   ]
  },
  {
   "cell_type": "code",
   "execution_count": null,
   "metadata": {},
   "outputs": [],
   "source": [
    "?SupervisedTask"
   ]
  },
  {
   "cell_type": "code",
   "execution_count": null,
   "metadata": {},
   "outputs": [],
   "source": [
    "methodswith(SupervisedTask)"
   ]
  },
  {
   "cell_type": "code",
   "execution_count": null,
   "metadata": {
    "scrolled": true
   },
   "outputs": [],
   "source": [
    "task = load_iris()"
   ]
  },
  {
   "cell_type": "code",
   "execution_count": null,
   "metadata": {
    "scrolled": true
   },
   "outputs": [],
   "source": [
    "?models"
   ]
  },
  {
   "cell_type": "code",
   "execution_count": null,
   "metadata": {},
   "outputs": [],
   "source": [
    "models(task)"
   ]
  },
  {
   "cell_type": "code",
   "execution_count": null,
   "metadata": {},
   "outputs": [],
   "source": [
    "typeof(task)"
   ]
  },
  {
   "cell_type": "code",
   "execution_count": null,
   "metadata": {},
   "outputs": [],
   "source": [
    "X, y = task()"
   ]
  },
  {
   "cell_type": "code",
   "execution_count": null,
   "metadata": {},
   "outputs": [],
   "source": [
    "println(typeof(X))\n",
    "println(typeof(y))"
   ]
  },
  {
   "cell_type": "code",
   "execution_count": null,
   "metadata": {},
   "outputs": [],
   "source": [
    "X"
   ]
  },
  {
   "cell_type": "code",
   "execution_count": null,
   "metadata": {},
   "outputs": [],
   "source": [
    "@load DecisionTreeClassifier"
   ]
  },
  {
   "cell_type": "code",
   "execution_count": null,
   "metadata": {},
   "outputs": [],
   "source": [
    "tree_model = DecisionTreeClassifier(max_depth=5)"
   ]
  },
  {
   "cell_type": "markdown",
   "metadata": {
    "collapsed": true
   },
   "source": [
    "Wrapping the model in data creates a machine which will store training outcomes:"
   ]
  },
  {
   "cell_type": "code",
   "execution_count": null,
   "metadata": {},
   "outputs": [],
   "source": [
    "machine_tree = machine(tree_model, X, y)"
   ]
  },
  {
   "cell_type": "code",
   "execution_count": null,
   "metadata": {
    "collapsed": true
   },
   "outputs": [],
   "source": [
    "train, test = partition(eachindex(y), 0.7, shuffle=true);"
   ]
  },
  {
   "cell_type": "code",
   "execution_count": null,
   "metadata": {},
   "outputs": [],
   "source": [
    "fit!(tree)"
   ]
  },
  {
   "cell_type": "code",
   "execution_count": null,
   "metadata": {},
   "outputs": [],
   "source": [
    "yhat = predict(tree, X[test,:]);"
   ]
  },
  {
   "cell_type": "code",
   "execution_count": null,
   "metadata": {
    "collapsed": true
   },
   "outputs": [],
   "source": []
  },
  {
   "cell_type": "code",
   "execution_count": null,
   "metadata": {
    "collapsed": true
   },
   "outputs": [],
   "source": []
  },
  {
   "cell_type": "code",
   "execution_count": null,
   "metadata": {
    "collapsed": true
   },
   "outputs": [],
   "source": []
  },
  {
   "cell_type": "code",
   "execution_count": null,
   "metadata": {
    "collapsed": true
   },
   "outputs": [],
   "source": []
  },
  {
   "cell_type": "code",
   "execution_count": null,
   "metadata": {
    "collapsed": true
   },
   "outputs": [],
   "source": []
  }
 ],
 "metadata": {
  "kernelspec": {
   "display_name": "Julia 1.1.0-rc1",
   "language": "julia",
   "name": "julia-1.1"
  },
  "language_info": {
   "file_extension": ".jl",
   "mimetype": "application/julia",
   "name": "julia",
   "version": "1.1.0"
  }
 },
 "nbformat": 4,
 "nbformat_minor": 1
}
