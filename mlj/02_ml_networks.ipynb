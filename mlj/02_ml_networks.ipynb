{
 "cells": [
  {
   "cell_type": "code",
   "execution_count": 1,
   "metadata": {
    "collapsed": true
   },
   "outputs": [],
   "source": [
    "using MLJ"
   ]
  },
  {
   "cell_type": "code",
   "execution_count": 2,
   "metadata": {
    "collapsed": false
   },
   "outputs": [
    {
     "data": {
      "text/plain": [
       "\u001b[0m\u001b[1mSource @ 9…69\u001b[22m"
      ]
     },
     "execution_count": 2,
     "metadata": {},
     "output_type": "execute_result"
    }
   ],
   "source": [
    "using Statistics, DataFrames\n",
    "x1 = rand(300)\n",
    "x2 = rand(300)\n",
    "x3 = rand(300)\n",
    "y = exp.(x1 - x2 -2x3 + 0.1*rand(300))\n",
    "X = DataFrame(x1=x1, x2=x2, x3=x3) # a column table\n",
    "ys = source(y)\n",
    "Xs = source(X)\n"
   ]
  },
  {
   "cell_type": "code",
   "execution_count": 3,
   "metadata": {
    "collapsed": false
   },
   "outputs": [
    {
     "data": {
      "text/plain": [
       "\u001b[0m\u001b[1mNodalMachine @ 3…79\u001b[22m = machine(\u001b[0m\u001b[1mStandardizer @ 3…14\u001b[22m, \u001b[0m\u001b[1m9…69\u001b[22m)"
      ]
     },
     "execution_count": 3,
     "metadata": {},
     "output_type": "execute_result"
    }
   ],
   "source": [
    "stand_model = Standardizer()\n",
    "stand = machine(stand_model, Xs)"
   ]
  },
  {
   "cell_type": "code",
   "execution_count": 4,
   "metadata": {
    "collapsed": false
   },
   "outputs": [
    {
     "data": {
      "text/plain": [
       "\u001b[0m\u001b[1mNode @ 1…71\u001b[22m = transform(\u001b[0m\u001b[1m3…79\u001b[22m, \u001b[0m\u001b[1m9…69\u001b[22m)"
      ]
     },
     "execution_count": 4,
     "metadata": {},
     "output_type": "execute_result"
    }
   ],
   "source": [
    "W = transform(stand, Xs)"
   ]
  },
  {
   "cell_type": "code",
   "execution_count": 5,
   "metadata": {
    "collapsed": false
   },
   "outputs": [
    {
     "name": "stderr",
     "output_type": "stream",
     "text": [
      "┌ Info: Training \u001b[0m\u001b[1mNodalMachine @ 3…79\u001b[22m.\n",
      "└ @ MLJ /Users/davidbuchacaprats/.julia/packages/MLJ/gsBfz/src/machines.jl:115\n"
     ]
    },
    {
     "data": {
      "text/html": [
       "<table class=\"data-frame\"><thead><tr><th></th><th>x1</th><th>x2</th><th>x3</th></tr><tr><th></th><th>Float64</th><th>Float64</th><th>Float64</th></tr></thead><tbody><p>2 rows × 3 columns</p><tr><th>1</th><td>1.31766</td><td>-1.08237</td><td>0.455134</td></tr><tr><th>2</th><td>0.0386412</td><td>0.390039</td><td>1.64516</td></tr></tbody></table>"
      ],
      "text/latex": [
       "\\begin{tabular}{r|ccc}\n",
       "\t& x1 & x2 & x3\\\\\n",
       "\t\\hline\n",
       "\t& Float64 & Float64 & Float64\\\\\n",
       "\t\\hline\n",
       "\t1 & 1.31766 & -1.08237 & 0.455134 \\\\\n",
       "\t2 & 0.0386412 & 0.390039 & 1.64516 \\\\\n",
       "\\end{tabular}\n"
      ],
      "text/plain": [
       "2×3 DataFrame\n",
       "│ Row │ x1        │ x2       │ x3       │\n",
       "│     │ \u001b[90mFloat64\u001b[39m   │ \u001b[90mFloat64\u001b[39m  │ \u001b[90mFloat64\u001b[39m  │\n",
       "├─────┼───────────┼──────────┼──────────┤\n",
       "│ 1   │ 1.31766   │ -1.08237 │ 0.455134 │\n",
       "│ 2   │ 0.0386412 │ 0.390039 │ 1.64516  │"
      ]
     },
     "execution_count": 5,
     "metadata": {},
     "output_type": "execute_result"
    }
   ],
   "source": [
    "test, train = partition(eachindex(y), 0.8)\n",
    "fit!(W, rows=train)\n",
    "W()           # transform all data\n",
    "W(rows=test ) # transform only test data\n",
    "W(X[3:4,:])   # transform any data, new or old\n"
   ]
  },
  {
   "cell_type": "code",
   "execution_count": 6,
   "metadata": {
    "collapsed": false
   },
   "outputs": [
    {
     "data": {
      "text/plain": [
       "\u001b[0m\u001b[1mNode @ 7…36\u001b[22m = inverse_transform(\u001b[0m\u001b[1m9…40\u001b[22m, predict(\u001b[0m\u001b[1m1…70\u001b[22m, transform(\u001b[0m\u001b[1m3…79\u001b[22m, \u001b[0m\u001b[1m9…69\u001b[22m)))"
      ]
     },
     "execution_count": 6,
     "metadata": {},
     "output_type": "execute_result"
    }
   ],
   "source": [
    "box_model = UnivariateBoxCoxTransformer()  # for making data look normally-distributed\n",
    "box = machine(box_model, ys)\n",
    "z = transform(box, ys)\n",
    "\n",
    "ridge_model = RidgeRegressor(lambda=0.1)\n",
    "ridge =machine(ridge_model, W, z)\n",
    "zhat = predict(ridge, W)\n",
    "\n",
    "yhat = inverse_transform(box, zhat)"
   ]
  },
  {
   "cell_type": "code",
   "execution_count": 7,
   "metadata": {
    "collapsed": false
   },
   "outputs": [
    {
     "name": "stderr",
     "output_type": "stream",
     "text": [
      "┌ Info: Not retraining \u001b[0m\u001b[1mNodalMachine @ 3…79\u001b[22m. It is up-to-date.\n",
      "└ @ MLJ /Users/davidbuchacaprats/.julia/packages/MLJ/gsBfz/src/networks.jl:227\n",
      "┌ Info: Training \u001b[0m\u001b[1mNodalMachine @ 9…40\u001b[22m.\n",
      "└ @ MLJ /Users/davidbuchacaprats/.julia/packages/MLJ/gsBfz/src/machines.jl:115\n",
      "┌ Info: Training \u001b[0m\u001b[1mNodalMachine @ 1…70\u001b[22m.\n",
      "└ @ MLJ /Users/davidbuchacaprats/.julia/packages/MLJ/gsBfz/src/machines.jl:115\n"
     ]
    },
    {
     "data": {
      "text/plain": [
       "\u001b[0m\u001b[1mNode @ 7…36\u001b[22m = inverse_transform(\u001b[0m\u001b[1m9…40\u001b[22m, predict(\u001b[0m\u001b[1m1…70\u001b[22m, transform(\u001b[0m\u001b[1m3…79\u001b[22m, \u001b[0m\u001b[1m9…69\u001b[22m)))"
      ]
     },
     "execution_count": 7,
     "metadata": {},
     "output_type": "execute_result"
    }
   ],
   "source": [
    "fit!(yhat, rows=train)\n"
   ]
  },
  {
   "cell_type": "code",
   "execution_count": 8,
   "metadata": {
    "collapsed": false
   },
   "outputs": [
    {
     "data": {
      "text/plain": [
       "0.1033033675447962"
      ]
     },
     "execution_count": 8,
     "metadata": {},
     "output_type": "execute_result"
    }
   ],
   "source": [
    "rms(y[test], yhat(rows=test)) # evaluate\n"
   ]
  },
  {
   "cell_type": "markdown",
   "metadata": {},
   "source": [
    "### Exporting a laerning network as a stand-alone model"
   ]
  },
  {
   "cell_type": "code",
   "execution_count": 17,
   "metadata": {
    "collapsed": false
   },
   "outputs": [
    {
     "ename": "ErrorException",
     "evalue": "invalid redefinition of constant WrappedRidge",
     "output_type": "error",
     "traceback": [
      "invalid redefinition of constant WrappedRidge",
      "",
      "Stacktrace:",
      " [1] top-level scope at none:0"
     ]
    }
   ],
   "source": [
    "mutable struct WrappedRidge <: DeterministicNetwork\n",
    "    ridge_model\n",
    "end\n"
   ]
  },
  {
   "cell_type": "code",
   "execution_count": 18,
   "metadata": {
    "collapsed": true
   },
   "outputs": [],
   "source": [
    "\n",
    "# keyword constructor\n",
    "WrappedRidge(; ridge_model=RidgeRegressor) = WrappedRidge(ridge_model); "
   ]
  },
  {
   "cell_type": "code",
   "execution_count": 19,
   "metadata": {
    "collapsed": false
   },
   "outputs": [
    {
     "data": {
      "text/plain": [
       "WrappedRidge (generic function with 1 method)"
      ]
     },
     "execution_count": 19,
     "metadata": {},
     "output_type": "execute_result"
    }
   ],
   "source": [
    "WrappedRidge"
   ]
  },
  {
   "cell_type": "code",
   "execution_count": null,
   "metadata": {
    "collapsed": true
   },
   "outputs": [],
   "source": []
  },
  {
   "cell_type": "code",
   "execution_count": null,
   "metadata": {
    "collapsed": true
   },
   "outputs": [],
   "source": []
  },
  {
   "cell_type": "code",
   "execution_count": null,
   "metadata": {
    "collapsed": true
   },
   "outputs": [],
   "source": []
  }
 ],
 "metadata": {
  "kernelspec": {
   "display_name": "Julia 1.1.0",
   "language": "julia",
   "name": "julia-1.1"
  },
  "language_info": {
   "file_extension": ".jl",
   "mimetype": "application/julia",
   "name": "julia",
   "version": "1.1.0"
  }
 },
 "nbformat": 4,
 "nbformat_minor": 0
}
