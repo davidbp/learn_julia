{
 "cells": [
  {
   "cell_type": "code",
   "execution_count": null,
   "metadata": {
    "collapsed": true
   },
   "outputs": [],
   "source": []
  },
  {
   "cell_type": "code",
   "execution_count": 1,
   "metadata": {
    "collapsed": true
   },
   "outputs": [],
   "source": [
    "using TikzGraphs"
   ]
  },
  {
   "cell_type": "code",
   "execution_count": 2,
   "metadata": {
    "collapsed": true
   },
   "outputs": [],
   "source": [
    "using LightGraphs\n"
   ]
  },
  {
   "cell_type": "code",
   "execution_count": 4,
   "metadata": {
    "collapsed": false
   },
   "outputs": [
    {
     "name": "stdout",
     "output_type": "stream",
     "text": [
      "! Package pgfkeys Error: I do not know the key '/tikz/hyper/.forward to' and I \n",
      "am going to ignore it. Perhaps you misspelled it.\n",
      "\n",
      "See the pgfkeys package documentation for explanation.\n",
      "Type  H <return>  for immediate help.\n",
      " ...                                              \n",
      "                                                  \n",
      "l.71 ...appendtoforwardinglist{/tikz/,/tikz/graphs/}\n",
      "                                                  \n",
      "Error saving as SVG\n"
     ]
    },
    {
     "ename": "ErrorException",
     "evalue": "\u001b[91mLaTeX error\u001b[39m",
     "output_type": "error",
     "traceback": [
      "\u001b[91mLaTeX error\u001b[39m",
      ""
     ]
    }
   ],
   "source": [
    "g = DiGraph(4)\n",
    "add_edge!(g, 1, 2)\n",
    "add_edge!(g, 2, 3)\n"
   ]
  },
  {
   "cell_type": "code",
   "execution_count": 5,
   "metadata": {
    "collapsed": false
   },
   "outputs": [
    {
     "name": "stdout",
     "output_type": "stream",
     "text": [
      "! Package pgfkeys Error: I do not know the key '/tikz/hyper/.forward to' and I \n",
      "am going to ignore it. Perhaps you misspelled it.\n",
      "\n",
      "See the pgfkeys package documentation for explanation.\n",
      "Type  H <return>  for immediate help.\n",
      " ...                                              \n",
      "                                                  \n",
      "l.71 ...appendtoforwardinglist{/tikz/,/tikz/graphs/}\n",
      "                                                  \n",
      "Error saving as SVG\n"
     ]
    },
    {
     "ename": "ErrorException",
     "evalue": "\u001b[91mLaTeX error\u001b[39m",
     "output_type": "error",
     "traceback": [
      "\u001b[91mLaTeX error\u001b[39m",
      ""
     ]
    }
   ],
   "source": [
    "TikzGraphs.plot(g)"
   ]
  },
  {
   "cell_type": "code",
   "execution_count": null,
   "metadata": {
    "collapsed": true
   },
   "outputs": [],
   "source": []
  },
  {
   "cell_type": "code",
   "execution_count": null,
   "metadata": {
    "collapsed": true
   },
   "outputs": [],
   "source": [
    "add_edge!(g, 3, 4)\n",
    "add_edge!(g, 1, 4)\n",
    "TikzGraphs.plot(g)"
   ]
  },
  {
   "cell_type": "code",
   "execution_count": null,
   "metadata": {
    "collapsed": true
   },
   "outputs": [],
   "source": []
  }
 ],
 "metadata": {
  "kernelspec": {
   "display_name": "Julia 0.6.2",
   "language": "julia",
   "name": "julia-0.6"
  },
  "language_info": {
   "file_extension": ".jl",
   "mimetype": "application/julia",
   "name": "julia",
   "version": "0.6.2"
  }
 },
 "nbformat": 4,
 "nbformat_minor": 0
}
