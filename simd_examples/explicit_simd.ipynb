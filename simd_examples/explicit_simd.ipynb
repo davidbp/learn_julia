{
 "cells": [
  {
   "cell_type": "markdown",
   "metadata": {},
   "source": [
    "\n",
    "## Simd examples\n",
    "\n",
    "\n",
    "First of all, to ensure that you can use simd instructions, run \n",
    "```\n",
    "include(joinpath(dirname(JULIA_HOME),\"share\",\"julia\",\"build_sysimg.jl\")); build_sysimg(force=true)\n",
    "```\n",
    "if julia is not build in source.\n"
   ]
  },
  {
   "cell_type": "markdown",
   "metadata": {},
   "source": [
    "## Explicit SIMD vectorization"
   ]
  },
  {
   "cell_type": "code",
   "execution_count": 1,
   "metadata": {
    "collapsed": false
   },
   "outputs": [
    {
     "name": "stdout",
     "output_type": "stream",
     "text": [
      "simdwitdth Float16: 16\n",
      "simdwitdth Float32: 8\n",
      "simdwitdth Float64: 4\n",
      "\n",
      "simdwitdth Int16: 16\n",
      "simdwitdth Int32: 8\n",
      "simdwitdth Int64: 4\n"
     ]
    }
   ],
   "source": [
    "using SIMD\n",
    "Base.@pure simdwidth(::Type{T}) where {T} = Int(256/8/sizeof(T))\n",
    "\n",
    "println(\"simdwitdth Float16: \", simdwidth(Float16))\n",
    "println(\"simdwitdth Float32: \", simdwidth(Float32))\n",
    "println(\"simdwitdth Float64: \", simdwidth(Float64))\n",
    "\n",
    "println(\"\\nsimdwitdth Int16: \", simdwidth(Int16))\n",
    "println(\"simdwitdth Int32: \", simdwidth(Int32))\n",
    "println(\"simdwitdth Int64: \", simdwidth(Int64))"
   ]
  },
  {
   "cell_type": "code",
   "execution_count": 2,
   "metadata": {
    "collapsed": false
   },
   "outputs": [
    {
     "data": {
      "text/plain": [
       "<8 x Float32>[1.0, 2.0, 3.0, 4.0, 5.0, 6.0, 7.0, 8.0]"
      ]
     },
     "execution_count": 2,
     "metadata": {},
     "output_type": "execute_result"
    }
   ],
   "source": [
    "v = Vec{8,Float32}((1,2,3,4,5,6,7,8))"
   ]
  },
  {
   "cell_type": "code",
   "execution_count": 3,
   "metadata": {
    "collapsed": false
   },
   "outputs": [
    {
     "data": {
      "text/plain": [
       "<8 x Float64>[1.0, 2.0, 3.0, 4.0, 5.0, 6.0, 7.0, 8.0]"
      ]
     },
     "execution_count": 3,
     "metadata": {},
     "output_type": "execute_result"
    }
   ],
   "source": [
    "# This will should return an error on this machine?\n",
    "v = Vec{8,Float64}((1,2,3,4,5,6,7,8))"
   ]
  },
  {
   "cell_type": "code",
   "execution_count": 5,
   "metadata": {
    "collapsed": false
   },
   "outputs": [
    {
     "data": {
      "text/plain": [
       "<8 x Float32>[1.0, 2.0, 3.0, 4.0, 5.0, 6.0, 7.0, 8.0]"
      ]
     },
     "execution_count": 5,
     "metadata": {},
     "output_type": "execute_result"
    }
   ],
   "source": [
    "v = Vec{8,Float32}((1,2,3,4,5,6,7,8))"
   ]
  },
  {
   "cell_type": "code",
   "execution_count": 6,
   "metadata": {
    "collapsed": false
   },
   "outputs": [
    {
     "data": {
      "text/plain": [
       "(1.0f0, 2.0f0, 3.0f0, 4.0f0, 5.0f0, 6.0f0, 7.0f0, 8.0f0)"
      ]
     },
     "execution_count": 6,
     "metadata": {},
     "output_type": "execute_result"
    }
   ],
   "source": [
    "v_tuple = NTuple{8,Float32}(v)"
   ]
  },
  {
   "cell_type": "code",
   "execution_count": 7,
   "metadata": {
    "collapsed": false
   },
   "outputs": [
    {
     "name": "stdout",
     "output_type": "stream",
     "text": [
      "NTuple{8,Float32}\n",
      "Vec{8,Float32}\n"
     ]
    }
   ],
   "source": [
    "println(typeof(v_tuple))\n",
    "println(typeof(v))"
   ]
  },
  {
   "cell_type": "markdown",
   "metadata": {},
   "source": [
    "#### Operations on SIMD.Vec types\n",
    "\n",
    "\n",
    "SIMD.Vec types can contain elements from the following collection:\n",
    "```\n",
    "Bool Int{8,16,32,64,128} UInt{8,16,32,64,128} Float{16,32,64}\n",
    "```\n",
    "\n",
    "The following vector operations can be used\n",
    "\n",
    "```\n",
    "+ - * / % ^ ! ~ & | $ << >> >>> == != < <= > >=\n",
    "```\n"
   ]
  },
  {
   "cell_type": "code",
   "execution_count": 132,
   "metadata": {
    "collapsed": true
   },
   "outputs": [],
   "source": [
    "using BenchmarkTools"
   ]
  },
  {
   "cell_type": "code",
   "execution_count": 133,
   "metadata": {
    "collapsed": false
   },
   "outputs": [
    {
     "data": {
      "text/plain": [
       "<8 x Float32>[1.0, 2.0, 3.0, 4.0, 5.0, 6.0, 7.0, 8.0]"
      ]
     },
     "execution_count": 133,
     "metadata": {},
     "output_type": "execute_result"
    }
   ],
   "source": [
    "v1 = Vec{8,Float32}((1,2,3,4,5,6,7,8))\n",
    "v2 = Vec{8,Float32}((1,2,3,4,5,6,7,8))"
   ]
  },
  {
   "cell_type": "code",
   "execution_count": 134,
   "metadata": {
    "collapsed": false
   },
   "outputs": [],
   "source": [
    "x1 = Array{Float32}([1,2,3,4,5,6,7,8])\n",
    "x2 = Array{Float32}([1,2,3,4,5,6,7,8]);"
   ]
  },
  {
   "cell_type": "code",
   "execution_count": 27,
   "metadata": {
    "collapsed": false
   },
   "outputs": [
    {
     "data": {
      "text/plain": [
       "BenchmarkTools.Trial: \n",
       "  memory estimate:  48 bytes\n",
       "  allocs estimate:  1\n",
       "  --------------\n",
       "  minimum time:     27.587 ns (0.00% GC)\n",
       "  median time:      32.434 ns (0.00% GC)\n",
       "  mean time:        43.333 ns (21.71% GC)\n",
       "  maximum time:     52.801 μs (99.93% GC)\n",
       "  --------------\n",
       "  samples:          10000\n",
       "  evals/sample:     995"
      ]
     },
     "execution_count": 27,
     "metadata": {},
     "output_type": "execute_result"
    }
   ],
   "source": [
    "@benchmark aux = v1 + v2"
   ]
  },
  {
   "cell_type": "code",
   "execution_count": 77,
   "metadata": {
    "collapsed": false
   },
   "outputs": [
    {
     "data": {
      "text/plain": [
       "BenchmarkTools.Trial: \n",
       "  memory estimate:  144 bytes\n",
       "  allocs estimate:  1\n",
       "  --------------\n",
       "  minimum time:     75.485 ns (0.00% GC)\n",
       "  median time:      84.864 ns (0.00% GC)\n",
       "  mean time:        102.165 ns (13.02% GC)\n",
       "  maximum time:     60.573 μs (99.84% GC)\n",
       "  --------------\n",
       "  samples:          10000\n",
       "  evals/sample:     971"
      ]
     },
     "execution_count": 77,
     "metadata": {},
     "output_type": "execute_result"
    }
   ],
   "source": [
    "\n",
    "@benchmark aux = x1 + x2"
   ]
  },
  {
   "cell_type": "code",
   "execution_count": 160,
   "metadata": {
    "collapsed": false
   },
   "outputs": [
    {
     "data": {
      "text/plain": [
       "make_n_sums (generic function with 1 method)"
      ]
     },
     "execution_count": 160,
     "metadata": {},
     "output_type": "execute_result"
    }
   ],
   "source": [
    "\n",
    "function make_n_sums_simd(v1,v2,n)\n",
    "    n_v1 = length(v1)\n",
    "    aux = Vec{n_v1,eltype(v1)}(tuple(zeros(n_v1)...))\n",
    "    for i in 1:n\n",
    "        aux += v1 + v2\n",
    "    end\n",
    "    return aux\n",
    "end\n",
    "\n",
    "function make_n_sums(v1,v2,n)\n",
    "    aux = zeros(eltype(v1),length(v1))\n",
    "    \n",
    "    for i in 1:n\n",
    "        aux += v1 + v2\n",
    "    end\n",
    "    return aux\n",
    "end"
   ]
  },
  {
   "cell_type": "code",
   "execution_count": 161,
   "metadata": {
    "collapsed": false
   },
   "outputs": [
    {
     "data": {
      "text/plain": [
       "8-element Array{Float32,1}:\n",
       "  200.0\n",
       "  400.0\n",
       "  600.0\n",
       "  800.0\n",
       " 1000.0\n",
       " 1200.0\n",
       " 1400.0\n",
       " 1600.0"
      ]
     },
     "execution_count": 161,
     "metadata": {},
     "output_type": "execute_result"
    }
   ],
   "source": [
    " make_n_sums(x1,x2,100)"
   ]
  },
  {
   "cell_type": "code",
   "execution_count": 162,
   "metadata": {
    "collapsed": false
   },
   "outputs": [
    {
     "data": {
      "text/plain": [
       "<8 x Float32>[200.0, 400.0, 600.0, 800.0, 1000.0, 1200.0, 1400.0, 1600.0]"
      ]
     },
     "execution_count": 162,
     "metadata": {},
     "output_type": "execute_result"
    }
   ],
   "source": [
    "make_n_sums_simd(v1,v2,100)"
   ]
  },
  {
   "cell_type": "code",
   "execution_count": 163,
   "metadata": {
    "collapsed": false
   },
   "outputs": [
    {
     "data": {
      "text/plain": [
       "BenchmarkTools.Trial: \n",
       "  memory estimate:  47.27 KiB\n",
       "  allocs estimate:  1011\n",
       "  --------------\n",
       "  minimum time:     7.621 μs (0.00% GC)\n",
       "  median time:      8.820 μs (0.00% GC)\n",
       "  mean time:        15.419 μs (38.34% GC)\n",
       "  maximum time:     16.100 ms (99.92% GC)\n",
       "  --------------\n",
       "  samples:          10000\n",
       "  evals/sample:     4"
      ]
     },
     "execution_count": 163,
     "metadata": {},
     "output_type": "execute_result"
    }
   ],
   "source": [
    "@benchmark make_n_sums_simd(v1,v2,1000)"
   ]
  },
  {
   "cell_type": "code",
   "execution_count": 154,
   "metadata": {
    "collapsed": false
   },
   "outputs": [
    {
     "data": {
      "text/plain": [
       "BenchmarkTools.Trial: \n",
       "  memory estimate:  218.86 KiB\n",
       "  allocs estimate:  2001\n",
       "  --------------\n",
       "  minimum time:     95.468 μs (0.00% GC)\n",
       "  median time:      106.503 μs (0.00% GC)\n",
       "  mean time:        149.416 μs (20.26% GC)\n",
       "  maximum time:     88.537 ms (99.82% GC)\n",
       "  --------------\n",
       "  samples:          10000\n",
       "  evals/sample:     1"
      ]
     },
     "execution_count": 154,
     "metadata": {},
     "output_type": "execute_result"
    }
   ],
   "source": [
    "@benchmark make_n_sums(x1,x2,1000)"
   ]
  },
  {
   "cell_type": "code",
   "execution_count": 166,
   "metadata": {
    "collapsed": false,
    "scrolled": true
   },
   "outputs": [
    {
     "data": {
      "text/plain": [
       "<16 x Float32>[1.0, 2.0, 3.0, 4.0, 5.0, 6.0, 7.0, 8.0, 9.0, 10.0, 11.0, 12.0, 13.0, 14.0, 15.0, 16.0]"
      ]
     },
     "execution_count": 166,
     "metadata": {},
     "output_type": "execute_result"
    }
   ],
   "source": [
    "v1 = Vec{16,Float32}((1,2,3,4,5,6,7,8,9,10,11,12,13,14,15,16))\n",
    "v2 = Vec{16,Float32}((1,2,3,4,5,6,7,8,9,10,11,12,13,14,15,16))"
   ]
  },
  {
   "cell_type": "code",
   "execution_count": 167,
   "metadata": {
    "collapsed": true
   },
   "outputs": [],
   "source": [
    "x1 = Array{Float32}([1,2,3,4,5,6,7,8,9,10,11,12,13,14,15,16])\n",
    "x2 = Array{Float32}([1,2,3,4,5,6,7,8,9,10,11,12,13,14,15,16]);"
   ]
  },
  {
   "cell_type": "code",
   "execution_count": 178,
   "metadata": {
    "collapsed": false
   },
   "outputs": [
    {
     "data": {
      "text/plain": [
       "16-element Array{Float32,1}:\n",
       "  20.0\n",
       "  40.0\n",
       "  60.0\n",
       "  80.0\n",
       " 100.0\n",
       " 120.0\n",
       " 140.0\n",
       " 160.0\n",
       " 180.0\n",
       " 200.0\n",
       " 220.0\n",
       " 240.0\n",
       " 260.0\n",
       " 280.0\n",
       " 300.0\n",
       " 320.0"
      ]
     },
     "execution_count": 178,
     "metadata": {},
     "output_type": "execute_result"
    }
   ],
   "source": [
    "make_n_sums(x1,x2,10)"
   ]
  },
  {
   "cell_type": "code",
   "execution_count": 184,
   "metadata": {
    "collapsed": false
   },
   "outputs": [
    {
     "data": {
      "text/plain": [
       "<16 x Float32>[20.0, 40.0, 60.0, 80.0, 100.0, 120.0, 140.0, 160.0, 180.0, 200.0, 220.0, 240.0, 260.0, 280.0, 300.0, 320.0]"
      ]
     },
     "execution_count": 184,
     "metadata": {},
     "output_type": "execute_result"
    }
   ],
   "source": [
    "make_n_sums_simd(v1,v2,10)"
   ]
  },
  {
   "cell_type": "code",
   "execution_count": 185,
   "metadata": {
    "collapsed": false
   },
   "outputs": [
    {
     "data": {
      "text/plain": [
       "BenchmarkTools.Trial: \n",
       "  memory estimate:  78.80 KiB\n",
       "  allocs estimate:  1019\n",
       "  --------------\n",
       "  minimum time:     9.474 μs (0.00% GC)\n",
       "  median time:      13.319 μs (0.00% GC)\n",
       "  mean time:        30.044 μs (51.80% GC)\n",
       "  maximum time:     68.069 ms (99.97% GC)\n",
       "  --------------\n",
       "  samples:          10000\n",
       "  evals/sample:     1"
      ]
     },
     "execution_count": 185,
     "metadata": {},
     "output_type": "execute_result"
    }
   ],
   "source": [
    "@benchmark make_n_sums_simd(v1,v2,1000)"
   ]
  },
  {
   "cell_type": "code",
   "execution_count": 186,
   "metadata": {
    "collapsed": false
   },
   "outputs": [
    {
     "data": {
      "text/plain": [
       "BenchmarkTools.Trial: \n",
       "  memory estimate:  281.39 KiB\n",
       "  allocs estimate:  2001\n",
       "  --------------\n",
       "  minimum time:     102.342 μs (0.00% GC)\n",
       "  median time:      109.415 μs (0.00% GC)\n",
       "  mean time:        135.084 μs (15.89% GC)\n",
       "  maximum time:     57.514 ms (99.77% GC)\n",
       "  --------------\n",
       "  samples:          10000\n",
       "  evals/sample:     1"
      ]
     },
     "execution_count": 186,
     "metadata": {},
     "output_type": "execute_result"
    }
   ],
   "source": [
    "@benchmark make_n_sums(x1,x2,1000)"
   ]
  },
  {
   "cell_type": "markdown",
   "metadata": {},
   "source": [
    "\n",
    "#### Reduction operations\n",
    "\n",
    "The following reduction operations can be used\n",
    "\n",
    "```\n",
    "all any maximum minimum sum prod\n",
    "```\n",
    "\n"
   ]
  },
  {
   "cell_type": "code",
   "execution_count": 8,
   "metadata": {
    "collapsed": false
   },
   "outputs": [
    {
     "data": {
      "text/plain": [
       "<8 x Float32>[1.0, 2.0, 3.0, 4.0, 5.0, 6.0, 7.0, 8.0]"
      ]
     },
     "execution_count": 8,
     "metadata": {},
     "output_type": "execute_result"
    }
   ],
   "source": [
    "v = Vec{8,Float32}((1,2,3,4,5,6,7,8))"
   ]
  },
  {
   "cell_type": "code",
   "execution_count": 10,
   "metadata": {
    "collapsed": false
   },
   "outputs": [
    {
     "name": "stdout",
     "output_type": "stream",
     "text": [
      "sum(v): 36.0\n",
      "maximum(v): 8.0\n",
      "minimum(v): 1.0\n",
      "prod(v): 40320.0\n"
     ]
    }
   ],
   "source": [
    "#println(\"all(v): \", all(v))\n",
    "println(\"sum(v): \",     sum(v))\n",
    "println(\"maximum(v): \", maximum(v))\n",
    "println(\"minimum(v): \", minimum(v))\n",
    "println(\"prod(v): \",    prod(v))"
   ]
  },
  {
   "cell_type": "markdown",
   "metadata": {},
   "source": [
    "#### Accessing arrays: reading and writting from julia Arrays\n",
    "When using explicit SIMD vectorization, it is convenient to allocate arrays still as arrays of scalars, not as arrays of vectors. The vload and vstore functions allow reading vectors from and writing vectors into arrays, accessing several contiguous array elements."
   ]
  },
  {
   "cell_type": "code",
   "execution_count": 74,
   "metadata": {
    "collapsed": true
   },
   "outputs": [],
   "source": [
    "arr = Vector{Float64}(100:200);"
   ]
  },
  {
   "cell_type": "code",
   "execution_count": 76,
   "metadata": {
    "collapsed": false
   },
   "outputs": [
    {
     "data": {
      "text/plain": [
       "4-element SIMD.Vec{4,Float64}:\n",
       "Float64⟨100.0, 101.0, 102.0, 103.0⟩"
      ]
     },
     "execution_count": 76,
     "metadata": {},
     "output_type": "execute_result"
    }
   ],
   "source": [
    "# The vload call reads a vector of size 4 from the array, i.e. it reads arr[i:i+3]\n",
    "xs = vload(Vec{4,Float64}, arr, 1)"
   ]
  },
  {
   "cell_type": "code",
   "execution_count": 79,
   "metadata": {
    "collapsed": true
   },
   "outputs": [],
   "source": [
    "xs = 2*xs\n",
    "#Similarly, the vstore call writes the vector xs to the four array elements arr[i:i+3].\n",
    "vstore(xs, arr, 1)"
   ]
  },
  {
   "cell_type": "code",
   "execution_count": 101,
   "metadata": {
    "collapsed": false,
    "scrolled": true
   },
   "outputs": [
    {
     "data": {
      "text/plain": [
       "10-element Array{Float64,1}:\n",
       " 200.0\n",
       " 202.0\n",
       " 204.0\n",
       " 206.0\n",
       " 104.0\n",
       " 105.0\n",
       " 106.0\n",
       " 107.0\n",
       " 108.0\n",
       " 109.0"
      ]
     },
     "execution_count": 101,
     "metadata": {},
     "output_type": "execute_result"
    }
   ],
   "source": [
    "arr[1:10]"
   ]
  },
  {
   "cell_type": "markdown",
   "metadata": {},
   "source": [
    "#### Making some easy functions"
   ]
  },
  {
   "cell_type": "code",
   "execution_count": null,
   "metadata": {
    "collapsed": true
   },
   "outputs": [],
   "source": []
  },
  {
   "cell_type": "code",
   "execution_count": 191,
   "metadata": {
    "collapsed": false
   },
   "outputs": [
    {
     "data": {
      "text/plain": [
       "simd_add_no_inbounds! (generic function with 1 method)"
      ]
     },
     "execution_count": 191,
     "metadata": {},
     "output_type": "execute_result"
    }
   ],
   "source": [
    "x1 = rand(Float32, 512)\n",
    "x2 = rand(Float32, 512)\n",
    "y = similar(x1)\n",
    "\n",
    "function add!(y, x1,x2)\n",
    "    @inbounds for i=1:length(x1)\n",
    "        y[i] = x1[i] + x2[i] \n",
    "    end\n",
    "end\n",
    "\n",
    "function simd_add!(y, x1,x2)\n",
    "    @simd for i=1:length(x1)\n",
    "        @inbounds y[i] = x1[i] + x2[i] \n",
    "    end\n",
    "end\n",
    "\n",
    "function simd_add_no_inbounds!(y, x1,x2)\n",
    "    @simd for i=1:length(x1)\n",
    "        y[i] = x1[i] + x2[i] \n",
    "    end\n",
    "end\n"
   ]
  },
  {
   "cell_type": "code",
   "execution_count": 194,
   "metadata": {
    "collapsed": false
   },
   "outputs": [
    {
     "ename": "UndefVarError",
     "evalue": "UndefVarError: T not defined",
     "output_type": "error",
     "traceback": [
      "UndefVarError: T not defined",
      "",
      "Stacktrace:",
      " [1] top-level scope at In[194]:1"
     ]
    }
   ],
   "source": [
    "\n",
    "function vadd!{N,T}(y::Vector{T}, xs::Vector{T}, ys::Vector{T}, ::Type{Vec{N,T}}=Vec{8,T})\n",
    "    @inbounds for i in 1:N:length(xs)\n",
    "        xv = vload(Vec{N,T}, xs, i)\n",
    "        yv = vload(Vec{N,T}, ys, i)\n",
    "        xv += yv \n",
    "        vstore(xv, y, i)\n",
    "    end\n",
    "end\n",
    "\n",
    "\n",
    "function euclid!(y, x1,x2)\n",
    "    @inbounds for i=1:length(x1)\n",
    "        y[i] = sqrt(x1[1] * x1[1]) + (x2[i] * x2[i])\n",
    "    end\n",
    "end\n",
    "\n",
    "function veuclid!{N,T}(y::Vector{T}, xs::Vector{T}, ys::Vector{T}, ::Type{Vec{N,T}}=Vec{8,T})\n",
    "    @inbounds for i in 1:N:length(xs)\n",
    "        xv = vload(Vec{N,T}, xs, i)\n",
    "        yv = vload(Vec{N,T}, ys, i)\n",
    "        xv = sqrt(xv*xv + yv*yv)\n",
    "        vstore(xv, y, i)\n",
    "    end\n",
    "end"
   ]
  },
  {
   "cell_type": "code",
   "execution_count": 188,
   "metadata": {
    "collapsed": false
   },
   "outputs": [
    {
     "ename": "UndefVarError",
     "evalue": "UndefVarError: euclid! not defined",
     "output_type": "error",
     "traceback": [
      "UndefVarError: euclid! not defined",
      "",
      "Stacktrace:",
      " [1] ##core#477() at /Users/davidbuchacaprats/.julia/packages/BenchmarkTools/mVOqg/src/execution.jl:297",
      " [2] ##sample#478(::BenchmarkTools.Parameters) at /Users/davidbuchacaprats/.julia/packages/BenchmarkTools/mVOqg/src/execution.jl:303",
      " [3] #_run#33(::Bool, ::String, ::Base.Iterators.Pairs{Symbol,Integer,NTuple{4,Symbol},NamedTuple{(:samples, :evals, :gctrial, :gcsample),Tuple{Int64,Int64,Bool,Bool}}}, ::Function, ::BenchmarkTools.Benchmark{Symbol(\"##benchmark#476\")}, ::BenchmarkTools.Parameters) at /Users/davidbuchacaprats/.julia/packages/BenchmarkTools/mVOqg/src/execution.jl:331",
      " [4] (::getfield(Base, Symbol(\"#inner#2\")){Base.Iterators.Pairs{Symbol,Integer,NTuple{5,Symbol},NamedTuple{(:verbose, :samples, :evals, :gctrial, :gcsample),Tuple{Bool,Int64,Int64,Bool,Bool}}},typeof(BenchmarkTools._run),Tuple{BenchmarkTools.Benchmark{Symbol(\"##benchmark#476\")},BenchmarkTools.Parameters}})() at ./none:0",
      " [5] #invokelatest#1 at ./essentials.jl:746 [inlined]",
      " [6] #invokelatest at ./none:0 [inlined]",
      " [7] #run_result#19 at /Users/davidbuchacaprats/.julia/packages/BenchmarkTools/mVOqg/src/execution.jl:32 [inlined]",
      " [8] #run_result at ./none:0 [inlined]",
      " [9] #run#21(::Base.Iterators.Pairs{Symbol,Integer,NTuple{5,Symbol},NamedTuple{(:verbose, :samples, :evals, :gctrial, :gcsample),Tuple{Bool,Int64,Int64,Bool,Bool}}}, ::Function, ::BenchmarkTools.Benchmark{Symbol(\"##benchmark#476\")}, ::BenchmarkTools.Parameters) at /Users/davidbuchacaprats/.julia/packages/BenchmarkTools/mVOqg/src/execution.jl:46",
      " [10] #run at ./none:0 [inlined] (repeats 2 times)",
      " [11] #warmup#24 at /Users/davidbuchacaprats/.julia/packages/BenchmarkTools/mVOqg/src/execution.jl:79 [inlined]",
      " [12] warmup(::BenchmarkTools.Benchmark{Symbol(\"##benchmark#476\")}) at /Users/davidbuchacaprats/.julia/packages/BenchmarkTools/mVOqg/src/execution.jl:79",
      " [13] top-level scope at /Users/davidbuchacaprats/.julia/packages/BenchmarkTools/mVOqg/src/execution.jl:213",
      " [14] top-level scope at In[188]:1"
     ]
    }
   ],
   "source": [
    "@benchmark euclid!(y,x1,x2)"
   ]
  },
  {
   "cell_type": "code",
   "execution_count": 87,
   "metadata": {
    "collapsed": false
   },
   "outputs": [
    {
     "data": {
      "text/plain": [
       "BenchmarkTools.Trial: \n",
       "  memory estimate:  0 bytes\n",
       "  allocs estimate:  0\n",
       "  --------------\n",
       "  minimum time:     335.747 ns (0.00% GC)\n",
       "  median time:      361.215 ns (0.00% GC)\n",
       "  mean time:        393.591 ns (0.00% GC)\n",
       "  maximum time:     1.545 μs (0.00% GC)\n",
       "  --------------\n",
       "  samples:          10000\n",
       "  evals/sample:     221"
      ]
     },
     "execution_count": 87,
     "metadata": {},
     "output_type": "execute_result"
    }
   ],
   "source": [
    " @benchmark veuclid!(y,x1,x2)"
   ]
  },
  {
   "cell_type": "code",
   "execution_count": 88,
   "metadata": {
    "collapsed": false
   },
   "outputs": [
    {
     "data": {
      "text/plain": [
       "BenchmarkTools.Trial: \n",
       "  memory estimate:  0 bytes\n",
       "  allocs estimate:  0\n",
       "  --------------\n",
       "  minimum time:     65.874 ns (0.00% GC)\n",
       "  median time:      68.821 ns (0.00% GC)\n",
       "  mean time:        83.308 ns (0.00% GC)\n",
       "  maximum time:     196.249 ns (0.00% GC)\n",
       "  --------------\n",
       "  samples:          10000\n",
       "  evals/sample:     976"
      ]
     },
     "execution_count": 88,
     "metadata": {},
     "output_type": "execute_result"
    }
   ],
   "source": [
    " @benchmark add!(y,x1,x2)"
   ]
  },
  {
   "cell_type": "code",
   "execution_count": 89,
   "metadata": {
    "collapsed": false
   },
   "outputs": [
    {
     "data": {
      "text/plain": [
       "BenchmarkTools.Trial: \n",
       "  memory estimate:  0 bytes\n",
       "  allocs estimate:  0\n",
       "  --------------\n",
       "  minimum time:     146.237 ns (0.00% GC)\n",
       "  median time:      148.293 ns (0.00% GC)\n",
       "  mean time:        186.955 ns (0.00% GC)\n",
       "  maximum time:     447.124 ns (0.00% GC)\n",
       "  --------------\n",
       "  samples:          10000\n",
       "  evals/sample:     839"
      ]
     },
     "execution_count": 89,
     "metadata": {},
     "output_type": "execute_result"
    }
   ],
   "source": [
    "@benchmark vadd!(y,x1,x2)"
   ]
  },
  {
   "cell_type": "code",
   "execution_count": 95,
   "metadata": {
    "collapsed": false
   },
   "outputs": [
    {
     "data": {
      "text/plain": [
       "BenchmarkTools.Trial: \n",
       "  memory estimate:  0 bytes\n",
       "  allocs estimate:  0\n",
       "  --------------\n",
       "  minimum time:     44.431 ns (0.00% GC)\n",
       "  median time:      44.868 ns (0.00% GC)\n",
       "  mean time:        53.032 ns (0.00% GC)\n",
       "  maximum time:     196.486 ns (0.00% GC)\n",
       "  --------------\n",
       "  samples:          10000\n",
       "  evals/sample:     990"
      ]
     },
     "execution_count": 95,
     "metadata": {},
     "output_type": "execute_result"
    }
   ],
   "source": [
    "@benchmark simd_add!(y,x1,x2)"
   ]
  },
  {
   "cell_type": "code",
   "execution_count": 102,
   "metadata": {
    "collapsed": false
   },
   "outputs": [
    {
     "data": {
      "text/plain": [
       "BenchmarkTools.Trial: \n",
       "  memory estimate:  0 bytes\n",
       "  allocs estimate:  0\n",
       "  --------------\n",
       "  minimum time:     539.552 ns (0.00% GC)\n",
       "  median time:      545.930 ns (0.00% GC)\n",
       "  mean time:        611.648 ns (0.00% GC)\n",
       "  maximum time:     1.293 μs (0.00% GC)\n",
       "  --------------\n",
       "  samples:          10000\n",
       "  evals/sample:     194"
      ]
     },
     "execution_count": 102,
     "metadata": {},
     "output_type": "execute_result"
    }
   ],
   "source": [
    "@benchmark simd_add_no_inbounds!(y,x1,x2)"
   ]
  },
  {
   "cell_type": "code",
   "execution_count": null,
   "metadata": {
    "collapsed": true
   },
   "outputs": [],
   "source": []
  },
  {
   "cell_type": "code",
   "execution_count": null,
   "metadata": {
    "collapsed": true
   },
   "outputs": [],
   "source": []
  },
  {
   "cell_type": "code",
   "execution_count": null,
   "metadata": {
    "collapsed": true
   },
   "outputs": [],
   "source": []
  },
  {
   "cell_type": "markdown",
   "metadata": {},
   "source": [
    "### median pooling"
   ]
  },
  {
   "cell_type": "code",
   "execution_count": 46,
   "metadata": {
    "collapsed": true
   },
   "outputs": [],
   "source": [
    "#https://discourse.julialang.org/t/make-this-code-fast-median-pooling/6405"
   ]
  },
  {
   "cell_type": "code",
   "execution_count": 8,
   "metadata": {
    "collapsed": false
   },
   "outputs": [
    {
     "data": {
      "text/plain": [
       "medmedpool55! (generic function with 1 method)"
      ]
     },
     "execution_count": 8,
     "metadata": {},
     "output_type": "execute_result"
    }
   ],
   "source": [
    "@inline function median5_swap(a,b,c,d,e)\n",
    "    # https://github.com/JeffreySarnoff/SortingNetworks.jl/blob/master/src/swapsort.jl\n",
    "    a,b = minmax(a,b)\n",
    "    c,d = minmax(c,d)\n",
    "    a,c = minmax(a,c)\n",
    "    b,d = minmax(b,d)\n",
    "    c,e = minmax(e,c)\n",
    "    max(c, min(e,b))\n",
    "end\n",
    "\n",
    "@inline median5(args...) = median5_swap(args...)\n",
    "\n",
    "function medmedpool55!(out::AbstractMatrix, img::AbstractMatrix)\n",
    "    @assert size(out, 1) >= size(img, 1) ÷ 5\n",
    "    @assert size(out, 2) >= size(img, 2) ÷ 5\n",
    "    @inbounds for j ∈ indices(out)[2]\n",
    "        @simd for i ∈ indices(out)[1]\n",
    "            x11 = img[5i-4, 5j-4]\n",
    "            x21 = img[5i-3, 5j-4]\n",
    "            x31 = img[5i-2, 5j-4]\n",
    "            x41 = img[5i-1, 5j-4]\n",
    "            x51 = img[5i-0, 5j-4]\n",
    "            \n",
    "            x12 = img[5i-4, 5j-3]\n",
    "            x22 = img[5i-3, 5j-3]\n",
    "            x32 = img[5i-2, 5j-3]\n",
    "            x42 = img[5i-1, 5j-3]\n",
    "            x52 = img[5i-0, 5j-3]\n",
    "            \n",
    "            x13 = img[5i-4, 5j-2]\n",
    "            x23 = img[5i-3, 5j-2]\n",
    "            x33 = img[5i-2, 5j-2]\n",
    "            x43 = img[5i-1, 5j-2]\n",
    "            x53 = img[5i-0, 5j-2]\n",
    "            \n",
    "            x14 = img[5i-4, 5j-1]\n",
    "            x24 = img[5i-3, 5j-1]\n",
    "            x34 = img[5i-2, 5j-1]\n",
    "            x44 = img[5i-1, 5j-1]\n",
    "            x54 = img[5i-0, 5j-1]\n",
    "            \n",
    "            x15 = img[5i-4, 5j-0]\n",
    "            x25 = img[5i-3, 5j-0]\n",
    "            x35 = img[5i-2, 5j-0]\n",
    "            x45 = img[5i-1, 5j-0]\n",
    "            x55 = img[5i-0, 5j-0]\n",
    "            \n",
    "            y1 = median5(x11,x12,x13,x14,x15)\n",
    "            y2 = median5(x21,x22,x23,x24,x25)\n",
    "            y3 = median5(x31,x32,x33,x34,x35)\n",
    "            y4 = median5(x41,x42,x43,x44,x45)\n",
    "            y5 = median5(x51,x52,x53,x54,x55)\n",
    "            \n",
    "            z = median5(y1,y2,y3,y4,y5)\n",
    "            out[i,j] = z\n",
    "        end\n",
    "    end\n",
    "    out\n",
    "end"
   ]
  },
  {
   "cell_type": "code",
   "execution_count": 5,
   "metadata": {
    "collapsed": false
   },
   "outputs": [
    {
     "data": {
      "text/plain": [
       "BenchmarkTools.Trial: \n",
       "  memory estimate:  0 bytes\n",
       "  allocs estimate:  0\n",
       "  --------------\n",
       "  minimum time:     8.746 ms (0.00% GC)\n",
       "  median time:      10.786 ms (0.00% GC)\n",
       "  mean time:        11.430 ms (0.00% GC)\n",
       "  maximum time:     47.553 ms (0.00% GC)\n",
       "  --------------\n",
       "  samples:          437\n",
       "  evals/sample:     1"
      ]
     },
     "execution_count": 5,
     "metadata": {},
     "output_type": "execute_result"
    }
   ],
   "source": [
    "using BenchmarkTools\n",
    "imgs = randn(Float32, 1024,1024, 10)\n",
    "img = view(imgs, :,:,1)\n",
    "out = similar(img, size(img) .÷ 5)\n",
    "@benchmark medmedpool55!(out, img)"
   ]
  },
  {
   "cell_type": "code",
   "execution_count": 13,
   "metadata": {
    "collapsed": false
   },
   "outputs": [
    {
     "data": {
      "text/plain": [
       "((1024, 1024, 10), (6,))"
      ]
     },
     "execution_count": 13,
     "metadata": {},
     "output_type": "execute_result"
    }
   ],
   "source": [
    "size(imgs),size([rand(T,N) for _ in 1:6])"
   ]
  },
  {
   "cell_type": "code",
   "execution_count": null,
   "metadata": {
    "collapsed": true,
    "scrolled": true
   },
   "outputs": [],
   "source": [
    "Base.@pure simdwidth(::Type{T}) where {T} = Int(256/8/sizeof(T))\n",
    "\n",
    "@inline function median3(a,b,c)\n",
    "    max(min(a,b), min(c,max(a,b)))\n",
    "end\n",
    "\n",
    "@inline function median5(a,b,c,d,e)\n",
    "    # https://stackoverflow.com/questions/480960/code-to-calculate-median-of-five-in-c-sharp\n",
    "    f=max(min(a,b),min(c,d))\n",
    "    g=min(max(a,b),max(c,d))\n",
    "    median3(e,f,g)\n",
    "end\n",
    "\n",
    "@noinline function median5_vectors!(out, a,b,c,d,e)\n",
    "    K = simdwidth(eltype(out))\n",
    "    N = length(out)\n",
    "    T = eltype(out)\n",
    "    V = Vec{K,T}\n",
    "    @assert mod(N,K) == 0\n",
    "\n",
    "    @inbounds for i in 1:K:N\n",
    "        va = vload(V,a, i)\n",
    "        vb = vload(V,b, i)\n",
    "        vc = vload(V,c, i)\n",
    "        vd = vload(V,d, i)\n",
    "        ve = vload(V,e, i)\n",
    "        vo = median5(va,vb,vc,vd,ve)\n",
    "        vstore(vo,out, i)\n",
    "    end\n",
    "    out\n",
    "end\n",
    "\n",
    "using BenchmarkTools\n",
    "T = UInt8\n",
    "T = Float32\n",
    "N = 10^6\n",
    "N = N ÷ simdwidth(T) * simdwidth(T)\n",
    "out, a,b,c,d,e = [rand(T,N) for _ in 1:6]\n",
    "@benchmark median5_vectors!(out, a,b,c,d,e)\n"
   ]
  },
  {
   "cell_type": "code",
   "execution_count": 47,
   "metadata": {
    "collapsed": false
   },
   "outputs": [
    {
     "data": {
      "text/plain": [
       "16"
      ]
     },
     "execution_count": 47,
     "metadata": {},
     "output_type": "execute_result"
    }
   ],
   "source": [
    "simdwidth(Float16)"
   ]
  },
  {
   "cell_type": "markdown",
   "metadata": {},
   "source": [
    "### Test views"
   ]
  },
  {
   "cell_type": "code",
   "execution_count": 304,
   "metadata": {
    "collapsed": false
   },
   "outputs": [
    {
     "data": {
      "text/plain": [
       "10×5 Array{Float64,2}:\n",
       "  2.0   2.0   2.0   2.0   2.0\n",
       "  3.0   3.0   3.0   3.0   3.0\n",
       "  4.0   4.0   4.0   4.0   4.0\n",
       "  5.0   5.0   5.0   5.0   5.0\n",
       "  6.0   6.0   6.0   6.0   6.0\n",
       "  7.0   7.0   7.0   7.0   7.0\n",
       "  8.0   8.0   8.0   8.0   8.0\n",
       "  9.0   9.0   9.0   9.0   9.0\n",
       " 10.0  10.0  10.0  10.0  10.0\n",
       " 11.0  11.0  11.0  11.0  11.0"
      ]
     },
     "execution_count": 304,
     "metadata": {},
     "output_type": "execute_result"
    }
   ],
   "source": [
    "X = ones(10,5)\n",
    "x = Array(1:10);\n",
    "X2 = x.+X"
   ]
  },
  {
   "cell_type": "code",
   "execution_count": 305,
   "metadata": {
    "collapsed": false
   },
   "outputs": [
    {
     "data": {
      "text/plain": [
       "10×5 Array{Float64,2}:\n",
       "  4.0   4.0   4.0   4.0   4.0\n",
       "  6.0   6.0   6.0   6.0   6.0\n",
       "  8.0   8.0   8.0   8.0   8.0\n",
       " 10.0  10.0  10.0  10.0  10.0\n",
       " 12.0  12.0  12.0  12.0  12.0\n",
       " 14.0  14.0  14.0  14.0  14.0\n",
       " 16.0  16.0  16.0  16.0  16.0\n",
       " 18.0  18.0  18.0  18.0  18.0\n",
       " 20.0  20.0  20.0  20.0  20.0\n",
       " 22.0  22.0  22.0  22.0  22.0"
      ]
     },
     "execution_count": 305,
     "metadata": {},
     "output_type": "execute_result"
    }
   ],
   "source": [
    "v = view(X2,1,:)\n",
    "for i in 1:size(X2,1)\n",
    "    v = view(X2,i,:)\n",
    "    X2[i,:] += v\n",
    "end\n",
    "X2"
   ]
  },
  {
   "cell_type": "code",
   "execution_count": 302,
   "metadata": {
    "collapsed": false
   },
   "outputs": [
    {
     "data": {
      "text/plain": [
       "10×5 Array{Float64,2}:\n",
       "  2.0   2.0   2.0   2.0   2.0\n",
       "  3.0   3.0   3.0   3.0   3.0\n",
       "  4.0   4.0   4.0   4.0   4.0\n",
       "  5.0   5.0   5.0   5.0   5.0\n",
       "  6.0   6.0   6.0   6.0   6.0\n",
       "  7.0   7.0   7.0   7.0   7.0\n",
       "  8.0   8.0   8.0   8.0   8.0\n",
       "  9.0   9.0   9.0   9.0   9.0\n",
       " 10.0  10.0  10.0  10.0  10.0\n",
       " 11.0  11.0  11.0  11.0  11.0"
      ]
     },
     "execution_count": 302,
     "metadata": {},
     "output_type": "execute_result"
    }
   ],
   "source": [
    "X = ones(10,5)\n",
    "x = Array(1:10);\n",
    "X2 = x.+X"
   ]
  },
  {
   "cell_type": "code",
   "execution_count": 303,
   "metadata": {
    "collapsed": false
   },
   "outputs": [
    {
     "data": {
      "text/plain": [
       "10×5 Array{Float64,2}:\n",
       " 11.0  11.0  11.0  11.0  11.0\n",
       "  6.0   6.0   6.0   6.0   6.0\n",
       "  8.0   8.0   8.0   8.0   8.0\n",
       " 10.0  10.0  10.0  10.0  10.0\n",
       " 12.0  12.0  12.0  12.0  12.0\n",
       " 14.0  14.0  14.0  14.0  14.0\n",
       " 16.0  16.0  16.0  16.0  16.0\n",
       " 18.0  18.0  18.0  18.0  18.0\n",
       " 20.0  20.0  20.0  20.0  20.0\n",
       " 22.0  22.0  22.0  22.0  22.0"
      ]
     },
     "execution_count": 303,
     "metadata": {},
     "output_type": "execute_result"
    }
   ],
   "source": [
    "v = view(X2,1,:)\n",
    "for i in 1:size(X2,1)\n",
    "    v .= view(X2,i,:)\n",
    "    X2[i,:] += v\n",
    "end\n",
    "\n",
    "X2"
   ]
  },
  {
   "cell_type": "code",
   "execution_count": 325,
   "metadata": {
    "collapsed": false
   },
   "outputs": [
    {
     "data": {
      "text/plain": [
       "10×5 Array{Float64,2}:\n",
       "  4.0   4.0   4.0   4.0   4.0\n",
       "  6.0   6.0   6.0   6.0   6.0\n",
       "  8.0   8.0   8.0   8.0   8.0\n",
       " 10.0  10.0  10.0  10.0  10.0\n",
       " 12.0  12.0  12.0  12.0  12.0\n",
       " 14.0  14.0  14.0  14.0  14.0\n",
       " 16.0  16.0  16.0  16.0  16.0\n",
       " 18.0  18.0  18.0  18.0  18.0\n",
       " 20.0  20.0  20.0  20.0  20.0\n",
       " 22.0  22.0  22.0  22.0  22.0"
      ]
     },
     "execution_count": 325,
     "metadata": {},
     "output_type": "execute_result"
    }
   ],
   "source": [
    "X = ones(10,5)\n",
    "x = Array(1:10);\n",
    "X2 = x.+X\n",
    "\n",
    "v = deepcopy(view(X2,1,:))\n",
    "for i in 1:size(X2,1)\n",
    "    v .= view(X2,i,:)\n",
    "    X2[i,:] += v\n",
    "end\n",
    "X2"
   ]
  },
  {
   "cell_type": "code",
   "execution_count": 324,
   "metadata": {
    "collapsed": false
   },
   "outputs": [
    {
     "data": {
      "text/plain": [
       "10×5 Array{Float64,2}:\n",
       "  4.0   4.0   4.0   4.0   4.0\n",
       "  6.0   6.0   6.0   6.0   6.0\n",
       "  8.0   8.0   8.0   8.0   8.0\n",
       " 10.0  10.0  10.0  10.0  10.0\n",
       " 12.0  12.0  12.0  12.0  12.0\n",
       " 14.0  14.0  14.0  14.0  14.0\n",
       " 16.0  16.0  16.0  16.0  16.0\n",
       " 18.0  18.0  18.0  18.0  18.0\n",
       " 20.0  20.0  20.0  20.0  20.0\n",
       " 22.0  22.0  22.0  22.0  22.0"
      ]
     },
     "execution_count": 324,
     "metadata": {},
     "output_type": "execute_result"
    }
   ],
   "source": [
    "X = ones(10,5)\n",
    "x = Array(1:10);\n",
    "X2 = x.+X\n",
    "\n",
    "v = zeros(X2[1,:])\n",
    "for i in 1:size(X2,1)\n",
    "    v .= view(X2,i,:)\n",
    "    X2[i,:] += v\n",
    "end\n",
    "X2"
   ]
  },
  {
   "cell_type": "code",
   "execution_count": 315,
   "metadata": {
    "collapsed": false
   },
   "outputs": [
    {
     "name": "stdout",
     "output_type": "stream",
     "text": [
      "  0.000056 seconds (37 allocations: 1.813 KiB)\n"
     ]
    },
    {
     "data": {
      "text/plain": [
       "5-element SubArray{Float64,1,Array{Float64,2},Tuple{Int64,Base.Slice{Base.OneTo{Int64}}},true}:\n",
       " 4.0\n",
       " 4.0\n",
       " 4.0\n",
       " 4.0\n",
       " 4.0"
      ]
     },
     "execution_count": 315,
     "metadata": {},
     "output_type": "execute_result"
    }
   ],
   "source": [
    "@time v = deepcopy(view(X2,1,:))"
   ]
  },
  {
   "cell_type": "code",
   "execution_count": null,
   "metadata": {
    "collapsed": true
   },
   "outputs": [],
   "source": [
    "@time v = deepcopy(view(X2,1,:))"
   ]
  },
  {
   "cell_type": "code",
   "execution_count": 313,
   "metadata": {
    "collapsed": false
   },
   "outputs": [
    {
     "name": "stdout",
     "output_type": "stream",
     "text": [
      "  0.000043 seconds (21 allocations: 512 bytes)\n"
     ]
    },
    {
     "data": {
      "text/plain": [
       "5-element SubArray{Float64,1,Array{Float64,2},Tuple{Int64,Base.Slice{Base.OneTo{Int64}}},true}:\n",
       " 4.0\n",
       " 4.0\n",
       " 4.0\n",
       " 4.0\n",
       " 4.0"
      ]
     },
     "execution_count": 313,
     "metadata": {},
     "output_type": "execute_result"
    }
   ],
   "source": [
    "@time auxiliar = view(X2,1,:)"
   ]
  },
  {
   "cell_type": "code",
   "execution_count": null,
   "metadata": {
    "collapsed": true
   },
   "outputs": [],
   "source": []
  },
  {
   "cell_type": "code",
   "execution_count": null,
   "metadata": {
    "collapsed": true
   },
   "outputs": [],
   "source": []
  }
 ],
 "metadata": {
  "kernelspec": {
   "display_name": "Julia 1.1.0",
   "language": "julia",
   "name": "julia-1.1"
  },
  "language_info": {
   "file_extension": ".jl",
   "mimetype": "application/julia",
   "name": "julia",
   "version": "1.1.0"
  }
 },
 "nbformat": 4,
 "nbformat_minor": 2
}
