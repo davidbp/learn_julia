{
 "cells": [
  {
   "cell_type": "code",
   "execution_count": 1,
   "metadata": {},
   "outputs": [],
   "source": [
    "using CLArrays\n",
    "using GPUArrays"
   ]
  },
  {
   "cell_type": "code",
   "execution_count": 3,
   "metadata": {},
   "outputs": [],
   "source": [
    "X =  CLArray(rand(Float32, 1000));"
   ]
  },
  {
   "cell_type": "code",
   "execution_count": 6,
   "metadata": {},
   "outputs": [],
   "source": [
    "Base.isapprox(X::GPUArray, Y::GPUArray) = isapprox(Array(X), Array(Y))\n",
    "Base.isapprox(X::Array, Y::GPUArray)    = isapprox(X, Array(Y))\n",
    "Base.isapprox(X::GPUArray, Y::Array)    = isapprox(Array(X), Y)"
   ]
  },
  {
   "cell_type": "code",
   "execution_count": 7,
   "metadata": {},
   "outputs": [
    {
     "data": {
      "text/plain": [
       "true"
      ]
     },
     "execution_count": 7,
     "metadata": {},
     "output_type": "execute_result"
    }
   ],
   "source": [
    "isapprox(X,X)"
   ]
  },
  {
   "cell_type": "markdown",
   "metadata": {},
   "source": [
    "## CLArrays.Devices\n",
    "\n",
    "\n",
    "Using CLArrays you can select a device to save and operate arrays.\n",
    "\n",
    "The package is not ready to do this on a CPU, use a GPU or otherwise use standard Arrays."
   ]
  },
  {
   "cell_type": "code",
   "execution_count": 8,
   "metadata": {},
   "outputs": [
    {
     "data": {
      "text/plain": [
       "2-element Array{OpenCL.cl.Device,1}:\n",
       " OpenCL.Device(AMD Radeon Pro 580 Compute Engine on Apple @0x0000000001021c00)       \n",
       " OpenCL.Device(Intel(R) Core(TM) i7-7700K CPU @ 4.20GHz on Apple @0x00000000ffffffff)"
      ]
     },
     "execution_count": 8,
     "metadata": {},
     "output_type": "execute_result"
    }
   ],
   "source": [
    "devices = CLArrays.devices()"
   ]
  },
  {
   "cell_type": "code",
   "execution_count": 9,
   "metadata": {},
   "outputs": [
    {
     "data": {
      "text/plain": [
       "OpenCL context with:\n",
       "CL version: OpenCL 1.2 \n",
       "Device: CL AMD Radeon Pro 580 Compute Engine\n",
       "            threads: 256\n",
       "             blocks: (256, 256, 256)\n",
       "      global_memory: 8589.934592 mb\n",
       " free_global_memory: NaN mb\n",
       "       local_memory: 0.032768 mb\n"
      ]
     },
     "execution_count": 9,
     "metadata": {},
     "output_type": "execute_result"
    }
   ],
   "source": [
    "CLArrays.init(devices[1])"
   ]
  },
  {
   "cell_type": "markdown",
   "metadata": {},
   "source": [
    "## CLArrays.CLArray"
   ]
  },
  {
   "cell_type": "code",
   "execution_count": 10,
   "metadata": {},
   "outputs": [],
   "source": [
    "using CLArrays"
   ]
  },
  {
   "cell_type": "code",
   "execution_count": 11,
   "metadata": {},
   "outputs": [],
   "source": [
    "X = rand(Float32, 1000);"
   ]
  },
  {
   "cell_type": "code",
   "execution_count": 12,
   "metadata": {},
   "outputs": [
    {
     "data": {
      "text/plain": [
       "4000"
      ]
     },
     "execution_count": 12,
     "metadata": {},
     "output_type": "execute_result"
    }
   ],
   "source": [
    "sizeof(Array(X))"
   ]
  },
  {
   "cell_type": "code",
   "execution_count": 13,
   "metadata": {},
   "outputs": [
    {
     "data": {
      "text/plain": [
       "8000"
      ]
     },
     "execution_count": 13,
     "metadata": {},
     "output_type": "execute_result"
    }
   ],
   "source": [
    "Mem.current_allocated_mem[]"
   ]
  },
  {
   "cell_type": "code",
   "execution_count": 14,
   "metadata": {},
   "outputs": [],
   "source": [
    "X_gpu = CLArray(X);"
   ]
  },
  {
   "cell_type": "markdown",
   "metadata": {},
   "source": [
    "Notice that `sizeof(X_gpu)` will give you only the size of the pointer to the array that is allocated in the device memory"
   ]
  },
  {
   "cell_type": "code",
   "execution_count": 15,
   "metadata": {},
   "outputs": [
    {
     "data": {
      "text/plain": [
       "16"
      ]
     },
     "execution_count": 15,
     "metadata": {},
     "output_type": "execute_result"
    }
   ],
   "source": [
    "sizeof(X_gpu)"
   ]
  },
  {
   "cell_type": "markdown",
   "metadata": {},
   "source": [
    "If you want to know the memory of the array you need to cast it back to the CPU"
   ]
  },
  {
   "cell_type": "code",
   "execution_count": 16,
   "metadata": {},
   "outputs": [
    {
     "data": {
      "text/plain": [
       "4000"
      ]
     },
     "execution_count": 16,
     "metadata": {},
     "output_type": "execute_result"
    }
   ],
   "source": [
    "sizeof(Array(X_gpu))"
   ]
  },
  {
   "cell_type": "code",
   "execution_count": 17,
   "metadata": {},
   "outputs": [
    {
     "data": {
      "text/plain": [
       "12000"
      ]
     },
     "execution_count": 17,
     "metadata": {},
     "output_type": "execute_result"
    }
   ],
   "source": [
    "Mem.current_allocated_mem[]"
   ]
  },
  {
   "cell_type": "code",
   "execution_count": 18,
   "metadata": {},
   "outputs": [
    {
     "data": {
      "text/plain": [
       "16000"
      ]
     },
     "execution_count": 18,
     "metadata": {},
     "output_type": "execute_result"
    }
   ],
   "source": [
    "Y_gpu = CLArray(rand(Float32, 1000));\n",
    "Mem.current_allocated_mem[]"
   ]
  },
  {
   "cell_type": "code",
   "execution_count": 19,
   "metadata": {},
   "outputs": [],
   "source": [
    "# Notice this clears the symbol form the namespace but not necessarily the memory associated to it\n",
    "# until GC takes place\n",
    "clear!(:X_gpu)"
   ]
  },
  {
   "cell_type": "code",
   "execution_count": 20,
   "metadata": {},
   "outputs": [
    {
     "data": {
      "text/plain": [
       "16000"
      ]
     },
     "execution_count": 20,
     "metadata": {},
     "output_type": "execute_result"
    }
   ],
   "source": [
    "Mem.current_allocated_mem[]"
   ]
  },
  {
   "cell_type": "markdown",
   "metadata": {},
   "source": [
    "## Operations on CLArrays"
   ]
  },
  {
   "cell_type": "code",
   "execution_count": 21,
   "metadata": {},
   "outputs": [],
   "source": [
    "X  = rand(Float32, 2000,2000)\n",
    "X_gpu = CLArray(X);"
   ]
  },
  {
   "cell_type": "code",
   "execution_count": 22,
   "metadata": {},
   "outputs": [
    {
     "name": "stdout",
     "output_type": "stream",
     "text": [
      "  0.482350 seconds (245.57 k allocations: 26.727 MiB, 2.88% gc time)\n"
     ]
    }
   ],
   "source": [
    "@time res1 = X * X;"
   ]
  },
  {
   "cell_type": "code",
   "execution_count": 23,
   "metadata": {},
   "outputs": [
    {
     "name": "stdout",
     "output_type": "stream",
     "text": [
      "  1.206912 seconds (1.87 M allocations: 64.243 MiB, 6.05% gc time)\n"
     ]
    }
   ],
   "source": [
    "@time res2 = X_gpu * X_gpu;"
   ]
  },
  {
   "cell_type": "code",
   "execution_count": 24,
   "metadata": {},
   "outputs": [
    {
     "data": {
      "text/plain": [
       "true"
      ]
     },
     "execution_count": 24,
     "metadata": {},
     "output_type": "execute_result"
    }
   ],
   "source": [
    "isapprox(res1, res2)"
   ]
  },
  {
   "cell_type": "code",
   "execution_count": 25,
   "metadata": {},
   "outputs": [
    {
     "data": {
      "text/plain": [
       "GPU: 2000×2000 Array{Float32,2}:\n",
       " 506.631  506.116  498.83   505.705  …  503.192  513.416  497.145  497.992\n",
       " 501.592  509.815  501.163  505.556     506.836  515.723  486.877  496.849\n",
       " 503.923  517.568  499.204  510.654     511.311  520.884  497.265  510.314\n",
       " 509.489  507.65   502.406  505.374     504.578  518.595  486.062  500.619\n",
       " 515.931  522.089  503.239  519.882     511.49   525.842  498.806  504.497\n",
       " 493.705  493.535  494.516  498.994  …  493.996  505.536  483.468  488.265\n",
       " 491.414  497.474  481.038  496.413     488.849  499.804  475.888  479.88 \n",
       " 497.547  493.959  482.245  496.976     489.811  507.436  481.075  487.96 \n",
       " 503.938  504.999  491.126  504.626     499.125  514.643  492.453  490.259\n",
       " 503.577  497.366  482.871  502.151     491.104  509.409  488.052  486.232\n",
       " 485.118  492.888  481.287  490.346  …  490.21   496.001  474.55   477.822\n",
       " 490.282  494.825  480.65   485.441     487.034  499.849  477.809  480.038\n",
       " 496.929  505.322  490.93   501.832     498.354  510.137  490.226  491.79 \n",
       "   ⋮                                 ⋱                                    \n",
       " 516.078  515.925  498.139  515.342     506.6    515.548  500.436  501.698\n",
       " 491.135  504.99   486.944  497.522     483.104  509.102  486.662  487.657\n",
       " 505.514  507.899  503.895  502.601  …  499.779  508.276  494.435  498.027\n",
       " 502.313  514.114  494.537  508.764     506.598  517.775  490.201  497.586\n",
       " 499.633  502.407  487.049  501.252     497.508  510.79   479.856  495.34 \n",
       " 491.996  494.931  489.78   496.484     492.9    505.435  481.137  481.715\n",
       " 491.547  489.794  485.83   492.318     486.027  502.561  485.934  484.109\n",
       " 507.1    505.5    495.711  513.511  …  506.218  521.249  496.652  499.063\n",
       " 508.711  501.676  494.4    505.079     499.532  510.882  487.636  492.699\n",
       " 491.49   490.129  479.198  490.144     481.252  500.142  471.225  480.434\n",
       " 502.439  502.969  490.239  504.592     496.757  511.645  488.981  496.322\n",
       " 497.762  496.444  495.38   500.846     498.075  508.303  491.298  491.892"
      ]
     },
     "execution_count": 25,
     "metadata": {},
     "output_type": "execute_result"
    }
   ],
   "source": [
    "placeholder = similar(X_gpu)\n",
    "A_mul_B!(placeholder, X_gpu, X_gpu)"
   ]
  },
  {
   "cell_type": "code",
   "execution_count": 26,
   "metadata": {},
   "outputs": [
    {
     "data": {
      "text/plain": [
       "true"
      ]
     },
     "execution_count": 26,
     "metadata": {},
     "output_type": "execute_result"
    }
   ],
   "source": [
    "isapprox(res2, placeholder)"
   ]
  },
  {
   "cell_type": "markdown",
   "metadata": {},
   "source": [
    "### CLBLAS\n",
    "\n",
    "We have acess to equivalent methods of `Base.LinAlg.BLAS` in  `CLBLAS`\n"
   ]
  },
  {
   "cell_type": "code",
   "execution_count": 47,
   "metadata": {},
   "outputs": [
    {
     "data": {
      "text/markdown": [
       "```\n",
       "gemm!(tA, tB, alpha, A, B, beta, C)\n",
       "```\n",
       "\n",
       "Update `C` as `alpha*A*B + beta*C` or the other three variants according to [`tA`](@ref stdlib-blas-trans) and `tB`. Returns the updated `C`.\n"
      ],
      "text/plain": [
       "```\n",
       "gemm!(tA, tB, alpha, A, B, beta, C)\n",
       "```\n",
       "\n",
       "Update `C` as `alpha*A*B + beta*C` or the other three variants according to [`tA`](@ref stdlib-blas-trans) and `tB`. Returns the updated `C`.\n"
      ]
     },
     "execution_count": 47,
     "metadata": {},
     "output_type": "execute_result"
    }
   ],
   "source": [
    "?CLBLAS.gemm!"
   ]
  },
  {
   "cell_type": "code",
   "execution_count": 48,
   "metadata": {},
   "outputs": [
    {
     "data": {
      "text/markdown": [
       "```\n",
       "gemm!(tA, tB, alpha, A, B, beta, C)\n",
       "```\n",
       "\n",
       "Update `C` as `alpha*A*B + beta*C` or the other three variants according to [`tA`](@ref stdlib-blas-trans) and `tB`. Returns the updated `C`.\n"
      ],
      "text/plain": [
       "```\n",
       "gemm!(tA, tB, alpha, A, B, beta, C)\n",
       "```\n",
       "\n",
       "Update `C` as `alpha*A*B + beta*C` or the other three variants according to [`tA`](@ref stdlib-blas-trans) and `tB`. Returns the updated `C`.\n"
      ]
     },
     "execution_count": 48,
     "metadata": {},
     "output_type": "execute_result"
    }
   ],
   "source": [
    "?BLAS.gemm!"
   ]
  },
  {
   "cell_type": "markdown",
   "metadata": {},
   "source": [
    "### Other methods"
   ]
  },
  {
   "cell_type": "code",
   "execution_count": null,
   "metadata": {},
   "outputs": [],
   "source": []
  },
  {
   "cell_type": "code",
   "execution_count": null,
   "metadata": {},
   "outputs": [],
   "source": []
  }
 ],
 "metadata": {
  "kernelspec": {
   "display_name": "Julia 0.6.2",
   "language": "julia",
   "name": "julia-0.6"
  },
  "language_info": {
   "file_extension": ".jl",
   "mimetype": "application/julia",
   "name": "julia",
   "version": "0.6.2"
  }
 },
 "nbformat": 4,
 "nbformat_minor": 2
}
