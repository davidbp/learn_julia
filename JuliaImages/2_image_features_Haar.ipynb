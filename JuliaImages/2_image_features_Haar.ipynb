{
 "cells": [
  {
   "cell_type": "code",
   "execution_count": 1,
   "metadata": {
    "collapsed": false
   },
   "outputs": [],
   "source": [
    "using TestImages\n",
    "using ImageFeatures\n",
    "using Images\n",
    "#using LIBSVM"
   ]
  },
  {
   "cell_type": "code",
   "execution_count": 2,
   "metadata": {
    "collapsed": false
   },
   "outputs": [],
   "source": [
    "path_positive_examples = \"/Users/Shared/Datasets/computer_vision/pedestrians/pedestrians128x64/\"\n",
    "path_negative_examples = \"/Users/Shared/Datasets/computer_vision/pedestrians/pedestrians_neg/\"\n",
    "\n",
    "pos_example_names = readdir(path_positive_examples)\n",
    "neg_example_names = readdir(path_negative_examples)\n",
    "pos_images = []\n",
    "neg_images = []\n",
    "\n",
    "for n in pos_example_names\n",
    "    push!(pos_images, load( path_positive_examples * n))\n",
    "end\n",
    "\n",
    "for n in neg_example_names\n",
    "    push!(neg_images, load( path_negative_examples * n))\n",
    "end"
   ]
  },
  {
   "cell_type": "code",
   "execution_count": 3,
   "metadata": {
    "collapsed": false
   },
   "outputs": [
    {
     "data": {
      "image/png": "[encoded data removed]",
      "text/plain": [
       "128×64 Array{RGB{N0f8},2}:\n",
       " RGB{N0f8}(0.467,0.443,0.443)  …  RGB{N0f8}(0.533,0.561,0.58) \n",
       " RGB{N0f8}(0.486,0.463,0.439)     RGB{N0f8}(0.616,0.58,0.557) \n",
       " RGB{N0f8}(0.522,0.451,0.435)     RGB{N0f8}(0.58,0.533,0.518) \n",
       " RGB{N0f8}(0.522,0.435,0.353)     RGB{N0f8}(0.58,0.533,0.518) \n",
       " RGB{N0f8}(0.522,0.451,0.435)     RGB{N0f8}(0.58,0.533,0.518) \n",
       " RGB{N0f8}(0.467,0.443,0.443)  …  RGB{N0f8}(0.58,0.533,0.518) \n",
       " RGB{N0f8}(0.459,0.42,0.424)      RGB{N0f8}(0.588,0.561,0.533)\n",
       " RGB{N0f8}(0.459,0.42,0.424)      RGB{N0f8}(0.639,0.49,0.486) \n",
       " RGB{N0f8}(0.522,0.451,0.435)     RGB{N0f8}(0.639,0.49,0.486) \n",
       " RGB{N0f8}(0.522,0.451,0.435)     RGB{N0f8}(0.58,0.533,0.518) \n",
       " RGB{N0f8}(0.486,0.463,0.439)  …  RGB{N0f8}(0.588,0.525,0.447)\n",
       " RGB{N0f8}(0.467,0.443,0.443)     RGB{N0f8}(0.549,0.569,0.639)\n",
       " RGB{N0f8}(0.459,0.42,0.424)      RGB{N0f8}(0.588,0.561,0.533)\n",
       " ⋮                             ⋱                              \n",
       " RGB{N0f8}(0.408,0.388,0.439)     RGB{N0f8}(0.486,0.463,0.439)\n",
       " RGB{N0f8}(0.427,0.424,0.38)      RGB{N0f8}(0.467,0.443,0.443)\n",
       " RGB{N0f8}(0.459,0.42,0.424)      RGB{N0f8}(0.459,0.42,0.424) \n",
       " RGB{N0f8}(0.467,0.443,0.443)     RGB{N0f8}(0.478,0.412,0.282)\n",
       " RGB{N0f8}(0.467,0.443,0.443)  …  RGB{N0f8}(0.427,0.424,0.38) \n",
       " RGB{N0f8}(0.427,0.424,0.38)      RGB{N0f8}(0.408,0.388,0.439)\n",
       " RGB{N0f8}(0.427,0.424,0.38)      RGB{N0f8}(0.463,0.416,0.365)\n",
       " RGB{N0f8}(0.459,0.38,0.357)      RGB{N0f8}(0.459,0.42,0.424) \n",
       " RGB{N0f8}(0.427,0.424,0.38)      RGB{N0f8}(0.467,0.443,0.443)\n",
       " RGB{N0f8}(0.463,0.416,0.365)  …  RGB{N0f8}(0.463,0.416,0.365)\n",
       " RGB{N0f8}(0.463,0.416,0.365)     RGB{N0f8}(0.459,0.42,0.424) \n",
       " RGB{N0f8}(0.416,0.384,0.38)      RGB{N0f8}(0.42,0.42,0.443)  "
      ]
     },
     "execution_count": 3,
     "metadata": {},
     "output_type": "execute_result"
    }
   ],
   "source": [
    "pos_images[1]"
   ]
  },
  {
   "cell_type": "markdown",
   "metadata": {},
   "source": [
    "### Convert to Grayscale"
   ]
  },
  {
   "cell_type": "code",
   "execution_count": 27,
   "metadata": {
    "collapsed": true
   },
   "outputs": [],
   "source": [
    "#integral_img = integral_image(pos_images[1])"
   ]
  },
  {
   "cell_type": "code",
   "execution_count": 28,
   "metadata": {
    "collapsed": false
   },
   "outputs": [
    {
     "ename": "LoadError",
     "evalue": "\u001b[91mUndefVarError: integral_img not defined\u001b[39m",
     "output_type": "error",
     "traceback": [
      "\u001b[91mUndefVarError: integral_img not defined\u001b[39m",
      "",
      "Stacktrace:",
      " [1] \u001b[1minclude_string\u001b[22m\u001b[22m\u001b[1m(\u001b[22m\u001b[22m::String, ::String\u001b[1m)\u001b[22m\u001b[22m at \u001b[1m./loading.jl:515\u001b[22m\u001b[22m"
     ]
    }
   ],
   "source": [
    "img1 = colorview(Gray, integral_img)"
   ]
  },
  {
   "cell_type": "code",
   "execution_count": 6,
   "metadata": {
    "collapsed": false
   },
   "outputs": [
    {
     "ename": "LoadError",
     "evalue": "\u001b[91mUndefVarError: img1 not defined\u001b[39m",
     "output_type": "error",
     "traceback": [
      "\u001b[91mUndefVarError: img1 not defined\u001b[39m",
      "",
      "Stacktrace:",
      " [1] \u001b[1minclude_string\u001b[22m\u001b[22m\u001b[1m(\u001b[22m\u001b[22m::String, ::String\u001b[1m)\u001b[22m\u001b[22m at \u001b[1m./loading.jl:515\u001b[22m\u001b[22m"
     ]
    }
   ],
   "source": [
    "img1 = Array{Float32}(img1);"
   ]
  },
  {
   "cell_type": "code",
   "execution_count": 7,
   "metadata": {
    "collapsed": false
   },
   "outputs": [
    {
     "ename": "LoadError",
     "evalue": "\u001b[91mUndefVarError: img1 not defined\u001b[39m",
     "output_type": "error",
     "traceback": [
      "\u001b[91mUndefVarError: img1 not defined\u001b[39m",
      "",
      "Stacktrace:",
      " [1] \u001b[1minclude_string\u001b[22m\u001b[22m\u001b[1m(\u001b[22m\u001b[22m::String, ::String\u001b[1m)\u001b[22m\u001b[22m at \u001b[1m./loading.jl:515\u001b[22m\u001b[22m"
     ]
    }
   ],
   "source": [
    "img1_g = Array{Float32}(Gray.(img1))"
   ]
  },
  {
   "cell_type": "markdown",
   "metadata": {},
   "source": [
    "### Integral image"
   ]
  },
  {
   "cell_type": "code",
   "execution_count": 8,
   "metadata": {
    "collapsed": false
   },
   "outputs": [
    {
     "ename": "LoadError",
     "evalue": "\u001b[91mUndefVarError: img1_g not defined\u001b[39m",
     "output_type": "error",
     "traceback": [
      "\u001b[91mUndefVarError: img1_g not defined\u001b[39m",
      "",
      "Stacktrace:",
      " [1] \u001b[1minclude_string\u001b[22m\u001b[22m\u001b[1m(\u001b[22m\u001b[22m::String, ::String\u001b[1m)\u001b[22m\u001b[22m at \u001b[1m./loading.jl:515\u001b[22m\u001b[22m"
     ]
    }
   ],
   "source": [
    "X = integral_image(img1_g[1,:,:])"
   ]
  },
  {
   "cell_type": "code",
   "execution_count": 9,
   "metadata": {
    "collapsed": false
   },
   "outputs": [
    {
     "name": "stderr",
     "output_type": "stream",
     "text": [
      "\u001b[1m\u001b[36mINFO: \u001b[39m\u001b[22m\u001b[36mRecompiling stale cache file /Users/davidbuchacaprats/.julia/lib/v0.6/PyPlot.ji for module PyPlot.\n",
      "\u001b[39m"
     ]
    },
    {
     "ename": "LoadError",
     "evalue": "\u001b[91mUndefVarError: X not defined\u001b[39m",
     "output_type": "error",
     "traceback": [
      "\u001b[91mUndefVarError: X not defined\u001b[39m",
      "",
      "Stacktrace:",
      " [1] \u001b[1minclude_string\u001b[22m\u001b[22m\u001b[1m(\u001b[22m\u001b[22m::String, ::String\u001b[1m)\u001b[22m\u001b[22m at \u001b[1m./loading.jl:515\u001b[22m\u001b[22m"
     ]
    }
   ],
   "source": [
    "using PyPlot\n",
    "\n",
    "PyPlot.imshow(X, cmap=\"gray\")"
   ]
  },
  {
   "cell_type": "markdown",
   "metadata": {},
   "source": [
    "### From integral image to haar features\n",
    "\n",
    "#### boxxdiff function\n",
    "\n",
    "```\n",
    "sum = boxdiff(integral_image, ytop:ybot, xtop:xbot)\n",
    "sum = boxdiff(integral_image, CartesianIndex(tl_y, tl_x), CartesianIndex(br_y, br_x))\n",
    "sum = boxdiff(integral_image, tl_y, tl_x, br_y, br_x)\n",
    "```\n",
    "An integral image is a data structure which helps in efficient calculation of sum of pixels in\n",
    "a rectangular subset of an image. It stores at each pixel the sum of all pixels above it and to\n",
    "its left. The sum of a window in an image can be directly calculated using four array\n",
    "references of the integral image, irrespective of the size of the window, given the `yrange` and `xrange` of the window. \n",
    "\n",
    "Given an integral image \n",
    "\n",
    "\n",
    "        A - - - - - - B -\n",
    "        - * * * * * * * -\n",
    "        - * * * * * * * -\n",
    "        - * * * * * * * -\n",
    "        - * * * * * * * -\n",
    "        - * * * * * * * -\n",
    "        C * * * * * * D -\n",
    "        - - - - - - - - -\n",
    "The sum of pixels in the area denoted by * is given by S = D + A - B - C.\n"
   ]
  },
  {
   "cell_type": "code",
   "execution_count": 57,
   "metadata": {
    "collapsed": false
   },
   "outputs": [
    {
     "data": {
      "text/plain": [
       "6×6 Array{Float32,2}:\n",
       "  0.466667   1.41961   2.89412    4.83529    7.24314   10.1098\n",
       "  1.41961    4.29804   8.68627   14.4745    21.7176    30.3373\n",
       "  2.89412    8.7451   17.5804    29.2157    43.7608    61.0588\n",
       "  4.8902    14.7569   29.6039    49.1725    73.5647   102.545 \n",
       "  7.40784   22.2706   44.5686    73.9765   110.58     154.059 \n",
       " 10.3922    31.1843   62.3333   103.439    154.635    215.451 "
      ]
     },
     "execution_count": 57,
     "metadata": {},
     "output_type": "execute_result"
    }
   ],
   "source": [
    "X[1:6,1:6]"
   ]
  },
  {
   "cell_type": "code",
   "execution_count": 59,
   "metadata": {
    "collapsed": false
   },
   "outputs": [
    {
     "data": {
      "text/plain": [
       "17.58039f0"
      ]
     },
     "execution_count": 59,
     "metadata": {},
     "output_type": "execute_result"
    }
   ],
   "source": [
    "boxdiff(X, 1:3, 1:3)"
   ]
  },
  {
   "cell_type": "code",
   "execution_count": 62,
   "metadata": {
    "collapsed": false
   },
   "outputs": [
    {
     "data": {
      "text/plain": [
       "8.243137f0"
      ]
     },
     "execution_count": 62,
     "metadata": {},
     "output_type": "execute_result"
    }
   ],
   "source": [
    "sum(img1_g[1:3,1:3])"
   ]
  },
  {
   "cell_type": "code",
   "execution_count": null,
   "metadata": {
    "collapsed": true
   },
   "outputs": [],
   "source": []
  }
 ],
 "metadata": {
  "kernelspec": {
   "display_name": "Julia 0.6.0",
   "language": "julia",
   "name": "julia-0.6"
  },
  "language_info": {
   "file_extension": ".jl",
   "mimetype": "application/julia",
   "name": "julia",
   "version": "0.6.0"
  }
 },
 "nbformat": 4,
 "nbformat_minor": 2
}
