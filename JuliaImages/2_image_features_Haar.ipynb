{
 "cells": [
  {
   "cell_type": "code",
   "execution_count": 6,
   "metadata": {
    "collapsed": true
   },
   "outputs": [],
   "source": [
    "using TestImages\n",
    "using ImageFeatures\n",
    "using Images\n",
    "using ImageView\n",
    "using LIBSVM"
   ]
  },
  {
   "cell_type": "code",
   "execution_count": 51,
   "metadata": {
    "collapsed": true
   },
   "outputs": [],
   "source": [
    "path_positive_examples = \"/Users/Shared/Datasets/computer_vision/pedestrians/pedestrians128x64/\"\n",
    "path_negative_examples = \"/Users/Shared/Datasets/computer_vision/pedestrians/pedestrians_neg/\"\n",
    "\n",
    "pos_example_names = readdir(path_positive_examples)\n",
    "neg_example_names = readdir(path_negative_examples)\n",
    "pos_images = []\n",
    "neg_images = []\n",
    "\n",
    "for n in pos_example_names\n",
    "    push!(pos_images, load( path_positive_examples * n))\n",
    "end\n",
    "\n",
    "for n in neg_example_names\n",
    "    push!(neg_images, load( path_negative_examples * n))\n",
    "end"
   ]
  },
  {
   "cell_type": "code",
   "execution_count": 52,
   "metadata": {},
   "outputs": [
    {
     "data": {
      "image/png": "[encoded data removed]",
      "text/plain": [
       "128×64 Array{RGB{N0f8},2}:\n",
       " RGB{N0f8}(0.467,0.443,0.443)  …  RGB{N0f8}(0.533,0.561,0.58) \n",
       " RGB{N0f8}(0.486,0.463,0.439)     RGB{N0f8}(0.616,0.58,0.557) \n",
       " RGB{N0f8}(0.522,0.451,0.435)     RGB{N0f8}(0.58,0.533,0.518) \n",
       " RGB{N0f8}(0.522,0.435,0.353)     RGB{N0f8}(0.58,0.533,0.518) \n",
       " RGB{N0f8}(0.522,0.451,0.435)     RGB{N0f8}(0.58,0.533,0.518) \n",
       " RGB{N0f8}(0.467,0.443,0.443)  …  RGB{N0f8}(0.58,0.533,0.518) \n",
       " RGB{N0f8}(0.459,0.42,0.424)      RGB{N0f8}(0.588,0.561,0.533)\n",
       " RGB{N0f8}(0.459,0.42,0.424)      RGB{N0f8}(0.639,0.49,0.486) \n",
       " RGB{N0f8}(0.522,0.451,0.435)     RGB{N0f8}(0.639,0.49,0.486) \n",
       " RGB{N0f8}(0.522,0.451,0.435)     RGB{N0f8}(0.58,0.533,0.518) \n",
       " RGB{N0f8}(0.486,0.463,0.439)  …  RGB{N0f8}(0.588,0.525,0.447)\n",
       " RGB{N0f8}(0.467,0.443,0.443)     RGB{N0f8}(0.549,0.569,0.639)\n",
       " RGB{N0f8}(0.459,0.42,0.424)      RGB{N0f8}(0.588,0.561,0.533)\n",
       " ⋮                             ⋱                              \n",
       " RGB{N0f8}(0.408,0.388,0.439)     RGB{N0f8}(0.486,0.463,0.439)\n",
       " RGB{N0f8}(0.427,0.424,0.38)      RGB{N0f8}(0.467,0.443,0.443)\n",
       " RGB{N0f8}(0.459,0.42,0.424)      RGB{N0f8}(0.459,0.42,0.424) \n",
       " RGB{N0f8}(0.467,0.443,0.443)     RGB{N0f8}(0.478,0.412,0.282)\n",
       " RGB{N0f8}(0.467,0.443,0.443)  …  RGB{N0f8}(0.427,0.424,0.38) \n",
       " RGB{N0f8}(0.427,0.424,0.38)      RGB{N0f8}(0.408,0.388,0.439)\n",
       " RGB{N0f8}(0.427,0.424,0.38)      RGB{N0f8}(0.463,0.416,0.365)\n",
       " RGB{N0f8}(0.459,0.38,0.357)      RGB{N0f8}(0.459,0.42,0.424) \n",
       " RGB{N0f8}(0.427,0.424,0.38)      RGB{N0f8}(0.467,0.443,0.443)\n",
       " RGB{N0f8}(0.463,0.416,0.365)  …  RGB{N0f8}(0.463,0.416,0.365)\n",
       " RGB{N0f8}(0.463,0.416,0.365)     RGB{N0f8}(0.459,0.42,0.424) \n",
       " RGB{N0f8}(0.416,0.384,0.38)      RGB{N0f8}(0.42,0.42,0.443)  "
      ]
     },
     "execution_count": 52,
     "metadata": {},
     "output_type": "execute_result"
    }
   ],
   "source": [
    "pos_images[1]"
   ]
  },
  {
   "cell_type": "markdown",
   "metadata": {},
   "source": [
    "### Convert to Grayscale"
   ]
  },
  {
   "cell_type": "code",
   "execution_count": 25,
   "metadata": {
    "collapsed": true
   },
   "outputs": [],
   "source": [
    "#integral_img = integral_image(pos_images[1])"
   ]
  },
  {
   "cell_type": "code",
   "execution_count": 15,
   "metadata": {},
   "outputs": [
    {
     "data": {
      "text/plain": [
       "3×128×64 Array{Gray{Float64},3}:\n",
       "[:, :, 1] =\n",
       " Gray{Float64}(0.466667)  Gray{Float64}(0.952941)  …  Gray{Float64}(63.1333)\n",
       " Gray{Float64}(0.443137)  Gray{Float64}(0.905882)     Gray{Float64}(57.6431)\n",
       " Gray{Float64}(0.443137)  Gray{Float64}(0.882353)     Gray{Float64}(54.7137)\n",
       "\n",
       "[:, :, 2] =\n",
       " Gray{Float64}(0.952941)  Gray{Float64}(1.92549)  …  Gray{Float64}(125.816)\n",
       " Gray{Float64}(0.905882)  Gray{Float64}(1.83137)     Gray{Float64}(114.878)\n",
       " Gray{Float64}(0.803922)  Gray{Float64}(1.60392)     Gray{Float64}(109.129)\n",
       "\n",
       "[:, :, 3] =\n",
       " Gray{Float64}(1.47451)  Gray{Float64}(2.91373)  …  Gray{Float64}(188.369)\n",
       " Gray{Float64}(1.35686)  Gray{Float64}(2.72549)     Gray{Float64}(171.702)\n",
       " Gray{Float64}(1.23922)  Gray{Float64}(2.48235)     Gray{Float64}(162.992)\n",
       "\n",
       "...\n",
       "\n",
       "[:, :, 62] =\n",
       " Gray{Float64}(34.4196)  Gray{Float64}(69.1569)  …  Gray{Float64}(3929.18)\n",
       " Gray{Float64}(31.5765)  Gray{Float64}(62.9647)     Gray{Float64}(3619.36)\n",
       " Gray{Float64}(29.8784)  Gray{Float64}(59.1961)     Gray{Float64}(3595.85)\n",
       "\n",
       "[:, :, 63] =\n",
       " Gray{Float64}(34.9608)  Gray{Float64}(70.3137)  …  Gray{Float64}(3998.01)\n",
       " Gray{Float64}(32.1176)  Gray{Float64}(64.0863)     Gray{Float64}(3683.7) \n",
       " Gray{Float64}(30.4235)  Gray{Float64}(60.298)      Gray{Float64}(3658.49)\n",
       "\n",
       "[:, :, 64] =\n",
       " Gray{Float64}(35.4941)  Gray{Float64}(71.4627)  …  Gray{Float64}(4066.49)\n",
       " Gray{Float64}(32.6784)  Gray{Float64}(65.2275)     Gray{Float64}(3747.66)\n",
       " Gray{Float64}(31.0039)  Gray{Float64}(61.4353)     Gray{Float64}(3720.96)"
      ]
     },
     "execution_count": 15,
     "metadata": {},
     "output_type": "execute_result"
    }
   ],
   "source": [
    "img1 = colorview(Gray, integral_img)"
   ]
  },
  {
   "cell_type": "code",
   "execution_count": 34,
   "metadata": {
    "collapsed": true
   },
   "outputs": [],
   "source": [
    "img1 = Array{Float32}(img1);"
   ]
  },
  {
   "cell_type": "code",
   "execution_count": 63,
   "metadata": {},
   "outputs": [
    {
     "data": {
      "text/plain": [
       "3×128×64 Array{Float32,3}:\n",
       "[:, :, 1] =\n",
       " 0.466667  0.952941  1.47451  1.99608  …  61.7922  62.2549  62.7176  63.1333\n",
       " 0.443137  0.905882  1.35686  1.79216     56.4275  56.8431  57.2588  57.6431\n",
       " 0.443137  0.882353  1.31765  1.67059     53.6039  53.9686  54.3333  54.7137\n",
       "\n",
       "[:, :, 2] =\n",
       " 0.952941  1.92549  2.97255  4.01569  …  123.141  124.063  124.984  125.816\n",
       " 0.905882  1.83137  2.76078  3.62353     112.475  113.275  114.11   114.878\n",
       " 0.803922  1.60392  2.49412  3.27451     106.788  107.58   108.369  109.129\n",
       "\n",
       "[:, :, 3] =\n",
       " 1.47451  2.91373  4.44706  6.01176  …  184.357  185.737  187.075  188.369\n",
       " 1.35686  2.72549  4.11765  5.40784     168.118  169.298  170.518  171.702\n",
       " 1.23922  2.48235  3.81176  5.01961     159.549  160.698  161.867  162.992\n",
       "\n",
       "...\n",
       "\n",
       "[:, :, 62] =\n",
       " 34.4196  69.1569  104.173   139.553  …  3844.89  3872.78  3900.89  3929.18\n",
       " 31.5765  62.9647   94.2941  125.49      3541.76  3567.33  3593.23  3619.36\n",
       " 29.8784  59.1961   88.1176  117.322     3520.53  3545.59  3570.6   3595.85\n",
       "\n",
       "[:, :, 63] =\n",
       " 34.9608  70.3137  105.906   141.867  …  3912.42  3940.73  3969.31  3998.01\n",
       " 32.1176  64.0863   95.9216  127.651     3604.85  3630.84  3657.13  3683.7 \n",
       " 30.4235  60.298    89.7216  119.443     3581.85  3607.35  3632.79  3658.49\n",
       "\n",
       "[:, :, 64] =\n",
       " 35.4941  71.4627  107.635   144.176  …  3979.57  4008.34  4037.37  4066.49\n",
       " 32.6784  65.2274   97.5961  129.859     3667.55  3693.96  3720.67  3747.66\n",
       " 31.0039  61.4353   91.3765  121.616     3643.09  3668.95  3694.82  3720.96"
      ]
     },
     "execution_count": 63,
     "metadata": {},
     "output_type": "execute_result"
    }
   ],
   "source": [
    "img1_g = Array{Float32}(Gray.(img1))"
   ]
  },
  {
   "cell_type": "markdown",
   "metadata": {},
   "source": [
    "### Integral image"
   ]
  },
  {
   "cell_type": "code",
   "execution_count": 48,
   "metadata": {},
   "outputs": [
    {
     "data": {
      "text/plain": [
       "128×64 Array{Float32,2}:\n",
       "    0.466667      1.41961      2.89412  …   1074.01        1109.51     \n",
       "    1.41961       4.29804      8.68627      3231.93        3338.89     \n",
       "    2.89412       8.7451      17.5804       6486.95        6701.55     \n",
       "    4.8902       14.7569      29.6039      10858.8        11217.6      \n",
       "    7.40784      22.2706      44.5686      16329.9        16869.0      \n",
       "   10.3922       31.1843      62.3333   …  22886.8        23642.2      \n",
       "   13.8353       41.4824      82.8706      30501.9        31509.1      \n",
       "   17.7373       53.1843     106.243       39192.9        40487.8      \n",
       "   22.1608       66.451      132.71        48958.6        50576.9      \n",
       "   27.1059       81.2823     162.271       59820.1        61798.0      \n",
       "   32.5373       97.6118     194.804    …  71757.7        74130.9      \n",
       "   38.4353      115.341      230.192       84755.0        87558.6      \n",
       "   44.7922      134.451      268.341       98806.1            1.02075f5\n",
       "    ⋮                                   ⋱                              \n",
       " 3411.47      10199.1      20336.9             7.00549f6      7.23668f6\n",
       " 3470.13      10374.7      20687.4             7.12113f6      7.3561f6 \n",
       " 3529.24      10551.6      21040.6             7.23761f6      7.47639f6\n",
       " 3588.83      10730.0      21396.6             7.35498f6      7.5976f6 \n",
       " 3648.88      10909.7      21755.4      …      7.47324f6      7.71973f6\n",
       " 3709.36      11090.7      22116.8             7.59239f6      7.84277f6\n",
       " 3770.26      11273.0      22480.8             7.71245f6      7.96675f6\n",
       " 3831.63      11456.6      22847.4             7.83341f6      8.09166f6\n",
       " 3893.42      11641.5      23216.7             7.95525f6      8.21748f6\n",
       " 3955.68      11827.8      23588.7      …      8.078f6        8.34424f6\n",
       " 4018.39      12015.5      23963.5             8.20167f6      8.47195f6\n",
       " 4081.53      12204.5      24340.8             8.32626f6      8.60061f6"
      ]
     },
     "execution_count": 48,
     "metadata": {},
     "output_type": "execute_result"
    }
   ],
   "source": [
    "X = integral_image(img1_g[1,:,:])"
   ]
  },
  {
   "cell_type": "code",
   "execution_count": 49,
   "metadata": {},
   "outputs": [
    {
     "data": {
      "image/png": "[encoded data removed]",
      "text/plain": [
       "PyPlot.Figure(PyObject <matplotlib.figure.Figure object at 0x1391a7bd0>)"
      ]
     },
     "metadata": {},
     "output_type": "display_data"
    },
    {
     "data": {
      "text/plain": [
       "PyObject <matplotlib.image.AxesImage object at 0x13959f110>"
      ]
     },
     "execution_count": 49,
     "metadata": {},
     "output_type": "execute_result"
    }
   ],
   "source": [
    "using PyPlot\n",
    "\n",
    "PyPlot.imshow(X, cmap=\"gray\")"
   ]
  },
  {
   "cell_type": "markdown",
   "metadata": {},
   "source": [
    "### From integral image to haar features\n",
    "\n",
    "#### boxxdiff function\n",
    "\n",
    "```\n",
    "sum = boxdiff(integral_image, ytop:ybot, xtop:xbot)\n",
    "sum = boxdiff(integral_image, CartesianIndex(tl_y, tl_x), CartesianIndex(br_y, br_x))\n",
    "sum = boxdiff(integral_image, tl_y, tl_x, br_y, br_x)\n",
    "```\n",
    "An integral image is a data structure which helps in efficient calculation of sum of pixels in\n",
    "a rectangular subset of an image. It stores at each pixel the sum of all pixels above it and to\n",
    "its left. The sum of a window in an image can be directly calculated using four array\n",
    "references of the integral image, irrespective of the size of the window, given the `yrange` and `xrange` of the window. \n",
    "\n",
    "Given an integral image \n",
    "\n",
    "\n",
    "        A - - - - - - B -\n",
    "        - * * * * * * * -\n",
    "        - * * * * * * * -\n",
    "        - * * * * * * * -\n",
    "        - * * * * * * * -\n",
    "        - * * * * * * * -\n",
    "        C * * * * * * D -\n",
    "        - - - - - - - - -\n",
    "The sum of pixels in the area denoted by * is given by S = D + A - B - C.\n"
   ]
  },
  {
   "cell_type": "code",
   "execution_count": 57,
   "metadata": {},
   "outputs": [
    {
     "data": {
      "text/plain": [
       "6×6 Array{Float32,2}:\n",
       "  0.466667   1.41961   2.89412    4.83529    7.24314   10.1098\n",
       "  1.41961    4.29804   8.68627   14.4745    21.7176    30.3373\n",
       "  2.89412    8.7451   17.5804    29.2157    43.7608    61.0588\n",
       "  4.8902    14.7569   29.6039    49.1725    73.5647   102.545 \n",
       "  7.40784   22.2706   44.5686    73.9765   110.58     154.059 \n",
       " 10.3922    31.1843   62.3333   103.439    154.635    215.451 "
      ]
     },
     "execution_count": 57,
     "metadata": {},
     "output_type": "execute_result"
    }
   ],
   "source": [
    "X[1:6,1:6]"
   ]
  },
  {
   "cell_type": "code",
   "execution_count": 59,
   "metadata": {},
   "outputs": [
    {
     "data": {
      "text/plain": [
       "17.58039f0"
      ]
     },
     "execution_count": 59,
     "metadata": {},
     "output_type": "execute_result"
    }
   ],
   "source": [
    "boxdiff(X, 1:3, 1:3)"
   ]
  },
  {
   "cell_type": "code",
   "execution_count": 62,
   "metadata": {},
   "outputs": [
    {
     "data": {
      "text/plain": [
       "8.243137f0"
      ]
     },
     "execution_count": 62,
     "metadata": {},
     "output_type": "execute_result"
    }
   ],
   "source": [
    "sum(img1_g[1:3,1:3])"
   ]
  },
  {
   "cell_type": "code",
   "execution_count": null,
   "metadata": {
    "collapsed": true
   },
   "outputs": [],
   "source": []
  }
 ],
 "metadata": {
  "kernelspec": {
   "display_name": "Julia 0.6.2",
   "language": "julia",
   "name": "julia-0.6"
  },
  "language_info": {
   "file_extension": ".jl",
   "mimetype": "application/julia",
   "name": "julia",
   "version": "0.6.2"
  }
 },
 "nbformat": 4,
 "nbformat_minor": 2
}
