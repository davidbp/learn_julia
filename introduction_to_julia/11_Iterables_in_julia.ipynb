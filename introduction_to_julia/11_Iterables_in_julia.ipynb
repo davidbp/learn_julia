{
 "cells": [
  {
   "cell_type": "markdown",
   "metadata": {},
   "source": [
    "# Iterating over collections\n",
    "\n",
    "A great tutorial for iterators can be found here:\n",
    "\n",
    "- http://lostella.github.io/blog/2018/07/25/iterative-methods-done-right\n",
    "\n",
    "This notebook presents some of the examples in the tutorial"
   ]
  },
  {
   "cell_type": "markdown",
   "metadata": {},
   "source": [
    "### zip over pair of collections"
   ]
  },
  {
   "cell_type": "code",
   "execution_count": 35,
   "metadata": {
    "collapsed": false
   },
   "outputs": [],
   "source": [
    "a = 1:5;\n",
    "b = [\"e\",\"d\",\"b\",\"c\",\"a\"];"
   ]
  },
  {
   "cell_type": "code",
   "execution_count": 36,
   "metadata": {
    "collapsed": false
   },
   "outputs": [
    {
     "name": "stdout",
     "output_type": "stream",
     "text": [
      "1 e\n",
      "2 d\n",
      "3 b\n",
      "4 c\n",
      "5 a\n"
     ]
    }
   ],
   "source": [
    "for (p,q) in zip(a,b)\n",
    "    println(\"$p $q\")\n",
    "end"
   ]
  },
  {
   "cell_type": "code",
   "execution_count": 48,
   "metadata": {
    "collapsed": true
   },
   "outputs": [],
   "source": [
    "# A Collection can be bigger than the other\n",
    "a = 1:10;\n",
    "b = [\"e\",\"d\",\"b\",\"c\",\"a\"];"
   ]
  },
  {
   "cell_type": "code",
   "execution_count": 39,
   "metadata": {
    "collapsed": false
   },
   "outputs": [
    {
     "name": "stdout",
     "output_type": "stream",
     "text": [
      "1 e\n",
      "2 d\n",
      "3 b\n",
      "4 c\n",
      "5 a\n"
     ]
    }
   ],
   "source": [
    "for (p,q) in zip(a,b)\n",
    "    println(\"$p $q\")\n",
    "end"
   ]
  },
  {
   "cell_type": "markdown",
   "metadata": {},
   "source": [
    "### Enumerate"
   ]
  },
  {
   "cell_type": "code",
   "execution_count": 119,
   "metadata": {
    "collapsed": false,
    "scrolled": true
   },
   "outputs": [
    {
     "name": "stdout",
     "output_type": "stream",
     "text": [
      "1 a\n",
      "2 b\n",
      "3 c\n"
     ]
    }
   ],
   "source": [
    "a = [\"a\", \"b\", \"c\"];\n",
    "\n",
    "for (index, value) in enumerate(a)\n",
    "    println(\"$index $value\")\n",
    "end"
   ]
  },
  {
   "cell_type": "markdown",
   "metadata": {},
   "source": [
    "### rest\n",
    "An iterator that yields the same elements as **`iter`**, but starting at the given **`state`**.\n",
    "\n"
   ]
  },
  {
   "cell_type": "code",
   "execution_count": 123,
   "metadata": {
    "collapsed": false
   },
   "outputs": [
    {
     "data": {
      "text/plain": [
       "3-element Array{String,1}:\n",
       " \"c\"\n",
       " \"d\"\n",
       " \"e\""
      ]
     },
     "execution_count": 123,
     "metadata": {},
     "output_type": "execute_result"
    }
   ],
   "source": [
    "collect(Iterators.rest([\"a\",\"b\",\"c\",\"d\",\"e\"], 3))"
   ]
  },
  {
   "cell_type": "code",
   "execution_count": 124,
   "metadata": {
    "collapsed": false
   },
   "outputs": [
    {
     "data": {
      "text/plain": [
       "4-element Array{String,1}:\n",
       " \"b\"\n",
       " \"c\"\n",
       " \"d\"\n",
       " \"e\""
      ]
     },
     "execution_count": 124,
     "metadata": {},
     "output_type": "execute_result"
    }
   ],
   "source": [
    "collect(Iterators.rest([\"a\",\"b\",\"c\",\"d\",\"e\"], 2))"
   ]
  },
  {
   "cell_type": "markdown",
   "metadata": {},
   "source": [
    "### countfrom"
   ]
  },
  {
   "cell_type": "code",
   "execution_count": 125,
   "metadata": {
    "collapsed": false
   },
   "outputs": [
    {
     "name": "stdout",
     "output_type": "stream",
     "text": [
      "5\n",
      "7\n",
      "9\n"
     ]
    }
   ],
   "source": [
    "for v in Iterators.countfrom(5, 2)\n",
    "           v > 10 && break\n",
    "     println(v)\n",
    "end"
   ]
  },
  {
   "cell_type": "markdown",
   "metadata": {},
   "source": [
    "### take"
   ]
  },
  {
   "cell_type": "code",
   "execution_count": 132,
   "metadata": {
    "collapsed": false
   },
   "outputs": [
    {
     "data": {
      "text/plain": [
       "1:2:9"
      ]
     },
     "execution_count": 132,
     "metadata": {},
     "output_type": "execute_result"
    }
   ],
   "source": [
    "a=1:2:10"
   ]
  },
  {
   "cell_type": "code",
   "execution_count": 133,
   "metadata": {
    "collapsed": false
   },
   "outputs": [
    {
     "data": {
      "text/plain": [
       "5-element Array{Int64,1}:\n",
       " 1\n",
       " 3\n",
       " 5\n",
       " 7\n",
       " 9"
      ]
     },
     "execution_count": 133,
     "metadata": {},
     "output_type": "execute_result"
    }
   ],
   "source": [
    "collect(a)"
   ]
  },
  {
   "cell_type": "code",
   "execution_count": 134,
   "metadata": {
    "collapsed": false
   },
   "outputs": [
    {
     "data": {
      "text/plain": [
       "3-element Array{Int64,1}:\n",
       " 1\n",
       " 3\n",
       " 5"
      ]
     },
     "execution_count": 134,
     "metadata": {},
     "output_type": "execute_result"
    }
   ],
   "source": [
    "collect(Iterators.take(a,3))"
   ]
  },
  {
   "cell_type": "markdown",
   "metadata": {},
   "source": [
    "### drop"
   ]
  },
  {
   "cell_type": "code",
   "execution_count": 136,
   "metadata": {
    "collapsed": false
   },
   "outputs": [
    {
     "data": {
      "text/plain": [
       "1:10"
      ]
     },
     "execution_count": 136,
     "metadata": {},
     "output_type": "execute_result"
    }
   ],
   "source": [
    "a=1:10"
   ]
  },
  {
   "cell_type": "code",
   "execution_count": 137,
   "metadata": {
    "collapsed": false
   },
   "outputs": [
    {
     "data": {
      "text/plain": [
       "6-element Array{Int64,1}:\n",
       "  5\n",
       "  6\n",
       "  7\n",
       "  8\n",
       "  9\n",
       " 10"
      ]
     },
     "execution_count": 137,
     "metadata": {},
     "output_type": "execute_result"
    }
   ],
   "source": [
    "collect(Iterators.drop(a,4))"
   ]
  },
  {
   "cell_type": "markdown",
   "metadata": {},
   "source": [
    "### Cycle"
   ]
  },
  {
   "cell_type": "code",
   "execution_count": 110,
   "metadata": {
    "collapsed": false
   },
   "outputs": [
    {
     "name": "stdout",
     "output_type": "stream",
     "text": [
      "12341234123"
     ]
    }
   ],
   "source": [
    "for (i, v) in enumerate(Iterators.cycle([1,2,3,4]))\n",
    "print(v)\n",
    "i > 10 && break\n",
    "end"
   ]
  },
  {
   "cell_type": "markdown",
   "metadata": {},
   "source": [
    "### repeated"
   ]
  },
  {
   "cell_type": "code",
   "execution_count": 113,
   "metadata": {
    "collapsed": true
   },
   "outputs": [],
   "source": [
    "a = Iterators.repeated([1 2], 4);"
   ]
  },
  {
   "cell_type": "code",
   "execution_count": 114,
   "metadata": {
    "collapsed": false
   },
   "outputs": [
    {
     "data": {
      "text/plain": [
       "4-element Array{Array{Int64,2},1}:\n",
       " [1 2]\n",
       " [1 2]\n",
       " [1 2]\n",
       " [1 2]"
      ]
     },
     "execution_count": 114,
     "metadata": {},
     "output_type": "execute_result"
    }
   ],
   "source": [
    "collect(a)"
   ]
  },
  {
   "cell_type": "markdown",
   "metadata": {},
   "source": [
    "### product"
   ]
  },
  {
   "cell_type": "code",
   "execution_count": 143,
   "metadata": {
    "collapsed": false
   },
   "outputs": [
    {
     "data": {
      "text/plain": [
       "2×3 Array{Tuple{String,Int64},2}:\n",
       " (\"a\", 1)  (\"a\", 2)  (\"a\", 3)\n",
       " (\"b\", 1)  (\"b\", 2)  (\"b\", 3)"
      ]
     },
     "execution_count": 143,
     "metadata": {},
     "output_type": "execute_result"
    }
   ],
   "source": [
    "collect(Iterators.product([\"a\",\"b\"], 1:3))"
   ]
  },
  {
   "cell_type": "code",
   "execution_count": 144,
   "metadata": {
    "collapsed": false
   },
   "outputs": [
    {
     "data": {
      "text/plain": [
       "2×5 Array{Tuple{String,Int64},2}:\n",
       " (\"a\", 1)  (\"a\", 2)  (\"a\", 3)  (\"a\", 4)  (\"a\", 5)\n",
       " (\"b\", 1)  (\"b\", 2)  (\"b\", 3)  (\"b\", 4)  (\"b\", 5)"
      ]
     },
     "execution_count": 144,
     "metadata": {},
     "output_type": "execute_result"
    }
   ],
   "source": [
    "collect(Iterators.product([\"a\",\"b\"], 1:5))"
   ]
  },
  {
   "cell_type": "markdown",
   "metadata": {},
   "source": [
    "### Flatten"
   ]
  },
  {
   "cell_type": "code",
   "execution_count": 100,
   "metadata": {
    "collapsed": false
   },
   "outputs": [
    {
     "data": {
      "text/plain": [
       "8-element Array{Int64,1}:\n",
       "   1\n",
       "   2\n",
       "   3\n",
       "   9\n",
       "  10\n",
       "  21\n",
       "  32\n",
       " 102"
      ]
     },
     "execution_count": 100,
     "metadata": {},
     "output_type": "execute_result"
    }
   ],
   "source": [
    "collect(Iterators.flatten([[1,2,3],[9,10],[21,32,102]]))"
   ]
  },
  {
   "cell_type": "markdown",
   "metadata": {},
   "source": [
    "### partition"
   ]
  },
  {
   "cell_type": "code",
   "execution_count": 105,
   "metadata": {
    "collapsed": false
   },
   "outputs": [
    {
     "data": {
      "text/plain": [
       "Base.Iterators.PartitionIterator{UnitRange{Int64}}(1:10, 3)"
      ]
     },
     "execution_count": 105,
     "metadata": {},
     "output_type": "execute_result"
    }
   ],
   "source": [
    "x = Iterators.partition(1:10, 3)"
   ]
  },
  {
   "cell_type": "code",
   "execution_count": 106,
   "metadata": {
    "collapsed": false
   },
   "outputs": [
    {
     "data": {
      "text/plain": [
       "4-element Array{Array{Int64,1},1}:\n",
       " [1, 2, 3]\n",
       " [4, 5, 6]\n",
       " [7, 8, 9]\n",
       " [10]     "
      ]
     },
     "execution_count": 106,
     "metadata": {},
     "output_type": "execute_result"
    }
   ],
   "source": [
    "collect(x)"
   ]
  },
  {
   "cell_type": "markdown",
   "metadata": {},
   "source": [
    "### Filter"
   ]
  },
  {
   "cell_type": "code",
   "execution_count": 95,
   "metadata": {
    "collapsed": false
   },
   "outputs": [
    {
     "data": {
      "text/plain": [
       "Base.Iterators.Filter{typeof(isodd),UnitRange{Int64}}(isodd, 1:10)"
      ]
     },
     "execution_count": 95,
     "metadata": {},
     "output_type": "execute_result"
    }
   ],
   "source": [
    "x = Iterators.filter(isodd, 1:10)"
   ]
  },
  {
   "cell_type": "code",
   "execution_count": 96,
   "metadata": {
    "collapsed": false
   },
   "outputs": [
    {
     "data": {
      "text/plain": [
       "5-element Array{Int64,1}:\n",
       " 1\n",
       " 3\n",
       " 5\n",
       " 7\n",
       " 9"
      ]
     },
     "execution_count": 96,
     "metadata": {},
     "output_type": "execute_result"
    }
   ],
   "source": [
    "collect(x)"
   ]
  },
  {
   "cell_type": "markdown",
   "metadata": {},
   "source": [
    "### reverse"
   ]
  },
  {
   "cell_type": "code",
   "execution_count": 97,
   "metadata": {
    "collapsed": false
   },
   "outputs": [
    {
     "data": {
      "text/plain": [
       "10:-1:1"
      ]
     },
     "execution_count": 97,
     "metadata": {},
     "output_type": "execute_result"
    }
   ],
   "source": [
    "x = Iterators.reverse(1:10)"
   ]
  },
  {
   "cell_type": "code",
   "execution_count": 99,
   "metadata": {
    "collapsed": false
   },
   "outputs": [
    {
     "data": {
      "text/plain": [
       "10-element Array{Int64,1}:\n",
       " 10\n",
       "  9\n",
       "  8\n",
       "  7\n",
       "  6\n",
       "  5\n",
       "  4\n",
       "  3\n",
       "  2\n",
       "  1"
      ]
     },
     "execution_count": 99,
     "metadata": {},
     "output_type": "execute_result"
    }
   ],
   "source": [
    "collect(x)"
   ]
  },
  {
   "cell_type": "markdown",
   "metadata": {},
   "source": [
    "### Partition"
   ]
  },
  {
   "cell_type": "code",
   "execution_count": 85,
   "metadata": {
    "collapsed": false
   },
   "outputs": [
    {
     "data": {
      "text/plain": [
       "3-element Array{Array{Int64,1},1}:\n",
       " [1, 2]\n",
       " [3, 4]\n",
       " [5]   "
      ]
     },
     "execution_count": 85,
     "metadata": {},
     "output_type": "execute_result"
    }
   ],
   "source": [
    "collect(Iterators.partition([1,2,3,4,5], 2))"
   ]
  },
  {
   "cell_type": "code",
   "execution_count": 138,
   "metadata": {
    "collapsed": false
   },
   "outputs": [
    {
     "data": {
      "text/plain": [
       "2-element Array{Array{Int64,1},1}:\n",
       " [1, 2, 3]\n",
       " [4, 5]   "
      ]
     },
     "execution_count": 138,
     "metadata": {},
     "output_type": "execute_result"
    }
   ],
   "source": [
    "collect(Iterators.partition([1,2,3,4,5], 3))"
   ]
  },
  {
   "cell_type": "markdown",
   "metadata": {},
   "source": [
    "# Defining custom iteration procedures"
   ]
  },
  {
   "cell_type": "code",
   "execution_count": null,
   "metadata": {
    "collapsed": true
   },
   "outputs": [],
   "source": [
    "struct MyType{T}\n",
    "    initial_state::T\n",
    "    state::T\n",
    "end"
   ]
  },
  {
   "cell_type": "code",
   "execution_count": null,
   "metadata": {
    "collapsed": false
   },
   "outputs": [],
   "source": [
    "seq = FibonacciIterable(0,0)"
   ]
  },
  {
   "cell_type": "code",
   "execution_count": null,
   "metadata": {
    "collapsed": false
   },
   "outputs": [],
   "source": [
    "import Base: iterate\n",
    "iterate(x::MyType) = x.initial_state, x.state\n",
    "iterate(x::MyType, state) = state[1], (sum(state))"
   ]
  },
  {
   "cell_type": "markdown",
   "metadata": {},
   "source": [
    "### Fibonacci example\n",
    "\n",
    "\n",
    "For instance, suppose we want to compute the following generalized Fibonacci sequence:\n",
    "\n",
    "```\n",
    "start with s_0=0, s_1=1\n",
    "\n",
    "F_0 = s_0,\n",
    "F_1 = s_1,\n",
    "F_n = F_{n-1} +  F_{n-2}\n",
    "```"
   ]
  },
  {
   "cell_type": "code",
   "execution_count": 1,
   "metadata": {
    "collapsed": true
   },
   "outputs": [],
   "source": [
    "struct FibonacciIterable{I}\n",
    "    s0::I\n",
    "    s1::I\n",
    "end"
   ]
  },
  {
   "cell_type": "code",
   "execution_count": 2,
   "metadata": {
    "collapsed": false
   },
   "outputs": [
    {
     "data": {
      "text/plain": [
       "FibonacciIterable{Int64}(0, 1)"
      ]
     },
     "execution_count": 2,
     "metadata": {},
     "output_type": "execute_result"
    }
   ],
   "source": [
    "fib = FibonacciIterable(0,1)"
   ]
  },
  {
   "cell_type": "markdown",
   "metadata": {},
   "source": [
    "In order to unroll the sequence and compute each element, one only needs to keep track of the pair $(F_{n-1}, F_{n})$ of the two most recent elements: that will be the state of our iteration. Based on that, we need to define two methods for the iterate function:\n",
    "\n",
    "- `iterate(iter::FibonacciIterable)` returning the pair (F0, state0) containing the first element in the sequence and initial state respectively;\n",
    "- `iterate(iter::FibonacciIterable, state)` returning the pair (F, newstate) of the next element F in the sequence (given state) and the updated state newstateiterate(iter::FibonacciIterable, state) returning the pair (F, newstate) of the next element F in the sequence (given state) and the updated state newstate-.\n",
    "\n",
    "As soon as the sequence is over, iterate should return nothing (Julia's \"none\" value). This is never the case for our Fibonacci sequences, since they're infinite. Note that FibonacciIterable objects are immutable: we would like them not to change as we iterate, since they identify the sequence which is being produced. Instead, all mutations should occur in state updates.\n",
    "\n",
    "The following definitions give exactly the above described generalized Fibonacci sequence:\n",
    "\n"
   ]
  },
  {
   "cell_type": "code",
   "execution_count": 3,
   "metadata": {
    "collapsed": false
   },
   "outputs": [
    {
     "data": {
      "text/plain": [
       "iterate (generic function with 204 methods)"
      ]
     },
     "execution_count": 3,
     "metadata": {},
     "output_type": "execute_result"
    }
   ],
   "source": [
    "import Base: iterate\n",
    "iterate(iter::FibonacciIterable) = iter.s0, (iter.s0, iter.s1)\n",
    "iterate(iter::FibonacciIterable, state) = state[2], (state[2], sum(state))"
   ]
  },
  {
   "cell_type": "code",
   "execution_count": 14,
   "metadata": {
    "collapsed": false
   },
   "outputs": [
    {
     "data": {
      "text/plain": [
       "(0, (0, 1))"
      ]
     },
     "execution_count": 14,
     "metadata": {},
     "output_type": "execute_result"
    }
   ],
   "source": [
    "fib0,s  = iterate(fib)"
   ]
  },
  {
   "cell_type": "code",
   "execution_count": 17,
   "metadata": {
    "collapsed": false
   },
   "outputs": [
    {
     "data": {
      "text/plain": [
       "(0, 2)"
      ]
     },
     "execution_count": 17,
     "metadata": {},
     "output_type": "execute_result"
    }
   ],
   "source": [
    "fib2 = iterate(s)"
   ]
  },
  {
   "cell_type": "code",
   "execution_count": 16,
   "metadata": {
    "collapsed": false
   },
   "outputs": [
    {
     "data": {
      "text/plain": [
       "(0, 2)"
      ]
     },
     "execution_count": 16,
     "metadata": {},
     "output_type": "execute_result"
    }
   ],
   "source": [
    "fib3 = iterate(s)"
   ]
  },
  {
   "cell_type": "code",
   "execution_count": null,
   "metadata": {
    "collapsed": false
   },
   "outputs": [],
   "source": [
    "iterate()"
   ]
  },
  {
   "cell_type": "code",
   "execution_count": null,
   "metadata": {
    "collapsed": false
   },
   "outputs": [],
   "source": [
    "for F in FibonacciIterable(BigInt(0), BigInt(1))\n",
    "    println(F)\n",
    "    if F > 50 break end\n",
    "end"
   ]
  },
  {
   "cell_type": "code",
   "execution_count": null,
   "metadata": {
    "collapsed": false
   },
   "outputs": [],
   "source": [
    " BigInt(1)"
   ]
  },
  {
   "cell_type": "markdown",
   "metadata": {},
   "source": [
    "## Conjugate gradient method"
   ]
  },
  {
   "cell_type": "markdown",
   "metadata": {},
   "source": [
    "The conjugate gradient (CG) method solves linear systems\n",
    "\n",
    "$$ Ax = b $$\n",
    "\n",
    "where $A\\in\\mathbb{R}^{n\\times n}$ is a positive semidefinite, symmetric matrix. It is particularly useful when $n$ is very large and $$A$$ is sparse, in which case direct methods (Cholesky factorization) are computationally prohibitive. Instead, CG works by only applying matrix-vector products with $A$. Given an initial guess $x_0$, the method produces a sequence $x_k$ of solution approximations according to the following recurrence:\n",
    "\n",
    "Initialize $ r_0 = p_0 = Ax_0 - b $.\n",
    "\n",
    "- For any $k > 0$ do\n",
    "\n",
    "$$ \\begin{align} \n",
    "\\alpha_k &= \\frac{|r_k|^2}{\\langle p_k, Ap_k \\rangle}, \\\\ \n",
    "x_{k+1} &= x_{k} + \\alpha_{k} p_{k}, \\\\\n",
    "r_{k+1} &= r_{k} + \\alpha_{k} A p_{k}, \\\\ \n",
    "p_{k+1} &= r_{k+1} + \\frac{|r_{k+1}|^2}{|r_{k}|^2}p_{k}. \n",
    "\\end{align}$$\n",
    "\n",
    "\n",
    "\n"
   ]
  },
  {
   "cell_type": "markdown",
   "metadata": {},
   "source": [
    "Let's now translate CG into a Julia iterable type. \n",
    "    \n",
    "The iteration is completely determined by matrix $A$, vector $b$,\n",
    "and the initial guess $x_0$, so those will compose our iterable objects:"
   ]
  },
  {
   "cell_type": "code",
   "execution_count": null,
   "metadata": {
    "collapsed": false
   },
   "outputs": [],
   "source": [
    "struct CGIterable{TA, Tb, Tx}\n",
    "    A::TA\n",
    "    b::Tb\n",
    "    x0::Tx\n",
    "end\n",
    "\n",
    "cgiterable(A::TA, b::Tb; x0::Tx=nothing) where {TA, Tb, Tx} = CGIterable{TA, Tb, Tx}(A, b, x0)\n"
   ]
  },
  {
   "cell_type": "markdown",
   "metadata": {},
   "source": [
    "In the cgiterable constructor we allow for x0 to be nothing: \n",
    "in this case we will assume the initial point to be the zero vector, \n",
    "and save ourselves one matrix-vector product. The state of the iteration is composed of vectors $x_k$, $r_k$, and $p_k$. \n",
    "\n",
    "In addition to that, we will make room for additional stuff, so as to reuse all possible memory and avoid allocations: vector $A p_k$ and scalars $|r_k|^2$ and $|r_{k+1}|^2$. Overall, the state for CG is a bit more complex than in the Fibonacci example, and keeping it in a Tuple would be impractical. So let's give things a name by defining a custom type for the state:\n",
    "\n",
    "```julia\n",
    "mutable struct CGState{R, Tb}\n",
    "    x::Tb\n",
    "    r::Tb\n",
    "    rs::R\n",
    "    rsprev::R\n",
    "    p::Tb\n",
    "    Ap::Tb\n",
    "end\n",
    "```\n",
    "\n",
    "Note that CGState is defined as mutable: this is because we will overwrite the iteration state rather than allocate new objects, again for efficiency reasons.\n",
    "\n",
    "The actual computation is carried out by the iterate function:\n",
    "\n",
    "```julia\n",
    "using LinearAlgebra\n",
    "import Base: iterate\n",
    "\n",
    "function iterate(iter::CGIterable{TA, Tb, Tx}) where\n",
    "    {R, TA, Tb <: AbstractVector{R}, Tx}\n",
    "    if iter.x0 === nothing\n",
    "        x = zero(iter.b)\n",
    "        r = copy(iter.b)\n",
    "    else\n",
    "        x = copy(iter.x0)\n",
    "        r = iter.A*x\n",
    "        r .*= -one(R)\n",
    "        r .+= iter.b\n",
    "    end\n",
    "    rs = dot(r, r)\n",
    "    p = copy(r)\n",
    "    Ap = similar(r)\n",
    "    state = CGState{R, Tb}(x, r, rs, zero(rs), p, Ap)\n",
    "    return state, state\n",
    "end\n",
    "\n",
    "function iterate(iter::CGIterable{TA, Tb, Tx}, state::CGState{R, Tb}) where\n",
    "    {R, TA, Tb <: AbstractVector{R}, Tx}\n",
    "    mul!(state.Ap, iter.A, state.p)\n",
    "    alpha = state.rs / dot(state.p, state.Ap)\n",
    "    state.x .+= alpha .* state.p\n",
    "    state.r .-= alpha .* state.Ap\n",
    "    state.rsprev = state.rs\n",
    "    state.rs = dot(state.r, state.r)\n",
    "    state.p .= state.r .+ (state.rs / state.rsprev) .* state.p\n",
    "    return state, state\n",
    "end\n",
    "```\n",
    "\n",
    "Rather than the sequence of $x_k$, we yield the sequence of states of the algorithm, since that contains all information that may be needed when experimenting with the algorithm (including $x_k$ itself).\n",
    "\n"
   ]
  },
  {
   "cell_type": "code",
   "execution_count": null,
   "metadata": {
    "collapsed": true
   },
   "outputs": [],
   "source": []
  }
 ],
 "metadata": {
  "kernelspec": {
   "display_name": "Julia 0.7.0-beta2",
   "language": "julia",
   "name": "julia-0.7"
  },
  "language_info": {
   "file_extension": ".jl",
   "mimetype": "application/julia",
   "name": "julia",
   "version": "0.7.0"
  }
 },
 "nbformat": 4,
 "nbformat_minor": 0
}
