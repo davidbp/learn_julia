{
 "cells": [
  {
   "cell_type": "markdown",
   "metadata": {},
   "source": [
    "# Parallelize code using native julia methods\n",
    "\n",
    "This notebook presents an example of a typical a parallel problem (count stuff on a big dataset)\n",
    "and uses native julia conde only to solve it. The code will involve two steps:\n",
    "\n",
    "- 1) Split data across processes, make independent computations on each process and get partial results\n",
    "- 2) Join partial results\n",
    "\n",
    "This notebook will focus on the use of the functions pmap, @spawn, fetch and remotecall.\n",
    "\n",
    "Some related material:\n",
    "\n",
    "- http://docs.julialang.org/en/release-0.5/manual/parallel-computing/\n",
    "- https://github.com/JuliaLang/julia/blob/master/examples/wordcount.jl\n",
    "- https://blog.ajdecon.org/parallel-word-count-with-julia-an-interesting/\n",
    "\n"
   ]
  },
  {
   "cell_type": "markdown",
   "metadata": {},
   "source": [
    "# Map-reduce like problems\n",
    "\n",
    "#### parallel for with the reduction operation (+)\n",
    "\n",
    "\n",
    "Let us assume that we want to apply a function to a set of values and then we want to agregate the results. Let us assume the aggregation operation is the sum, and we want to apply to every element of a for loop some function `elem_op`."
   ]
  },
  {
   "cell_type": "code",
   "execution_count": 4,
   "metadata": {},
   "outputs": [
    {
     "data": {
      "text/plain": [
       "elem_op (generic function with 1 method)"
      ]
     },
     "execution_count": 4,
     "metadata": {},
     "output_type": "execute_result"
    }
   ],
   "source": [
    "function elem_op(x)\n",
    "  return x/1000\n",
    "end"
   ]
  },
  {
   "cell_type": "code",
   "execution_count": 5,
   "metadata": {},
   "outputs": [
    {
     "data": {
      "text/plain": [
       "sum_seq (generic function with 1 method)"
      ]
     },
     "execution_count": 5,
     "metadata": {},
     "output_type": "execute_result"
    }
   ],
   "source": [
    "function sum_seq(n)\n",
    "    aux = 0\n",
    "    for i in 1:n\n",
    "       aux += elem_op(i)\n",
    "    end \n",
    "    return aux\n",
    "end"
   ]
  },
  {
   "cell_type": "code",
   "execution_count": 6,
   "metadata": {},
   "outputs": [
    {
     "name": "stdout",
     "output_type": "stream",
     "text": [
      "  0.213696 seconds (30.00 M allocations: 457.864 MiB, 23.59% gc time)\n"
     ]
    },
    {
     "data": {
      "text/plain": [
       "5.000000499999999e10"
      ]
     },
     "execution_count": 6,
     "metadata": {},
     "output_type": "execute_result"
    }
   ],
   "source": [
    "@time sum_seq(10_000_000)"
   ]
  },
  {
   "cell_type": "code",
   "execution_count": 7,
   "metadata": {
    "scrolled": true
   },
   "outputs": [
    {
     "data": {
      "text/plain": [
       "1-element Array{Int64,1}:\n",
       " 1"
      ]
     },
     "execution_count": 7,
     "metadata": {},
     "output_type": "execute_result"
    }
   ],
   "source": [
    "workers()"
   ]
  },
  {
   "cell_type": "code",
   "execution_count": 8,
   "metadata": {
    "scrolled": true
   },
   "outputs": [
    {
     "data": {
      "text/plain": [
       "4-element Array{Int64,1}:\n",
       " 2\n",
       " 3\n",
       " 4\n",
       " 5"
      ]
     },
     "execution_count": 8,
     "metadata": {},
     "output_type": "execute_result"
    }
   ],
   "source": [
    "addprocs(4) "
   ]
  },
  {
   "cell_type": "code",
   "execution_count": 10,
   "metadata": {
    "collapsed": true
   },
   "outputs": [],
   "source": [
    "@everywhere function elem_op(x)\n",
    "  return x/1000\n",
    "end\n",
    "\n",
    "function sum_par(n)   \n",
    "    return @parallel (+) for i in 1:n\n",
    "           elem_op(i)\n",
    "        end \n",
    "end"
   ]
  },
  {
   "cell_type": "code",
   "execution_count": 18,
   "metadata": {},
   "outputs": [
    {
     "name": "stdout",
     "output_type": "stream",
     "text": [
      "  0.024713 seconds (3.00 M allocations: 45.777 MiB, 32.12% gc time)\n"
     ]
    },
    {
     "data": {
      "text/plain": [
       "5.0000050000000006e8"
      ]
     },
     "execution_count": 18,
     "metadata": {},
     "output_type": "execute_result"
    }
   ],
   "source": [
    "@time sum_seq(1_000_000)"
   ]
  },
  {
   "cell_type": "code",
   "execution_count": 78,
   "metadata": {
    "scrolled": true
   },
   "outputs": [
    {
     "name": "stdout",
     "output_type": "stream",
     "text": [
      "  0.001097 seconds (537 allocations: 37.547 KiB)\n"
     ]
    },
    {
     "data": {
      "text/plain": [
       "5.000005e8"
      ]
     },
     "execution_count": 78,
     "metadata": {},
     "output_type": "execute_result"
    }
   ],
   "source": [
    "@time sum_par(1_000_000)"
   ]
  },
  {
   "cell_type": "markdown",
   "metadata": {},
   "source": [
    "### Understanding the internals of `@parallel`\n"
   ]
  },
  {
   "cell_type": "code",
   "execution_count": 22,
   "metadata": {},
   "outputs": [
    {
     "data": {
      "text/markdown": [
       "```\n",
       "@parallel\n",
       "```\n",
       "\n",
       "A parallel for loop of the form :\n",
       "\n",
       "```\n",
       "@parallel [reducer] for var = range\n",
       "    body\n",
       "end\n",
       "```\n",
       "\n",
       "The specified range is partitioned and locally executed across all workers. In case an optional reducer function is specified, `@parallel` performs local reductions on each worker with a final reduction on the calling process.\n",
       "\n",
       "Note that without a reducer function, `@parallel` executes asynchronously, i.e. it spawns independent tasks on all available workers and returns immediately without waiting for completion. To wait for completion, prefix the call with [`@sync`](@ref), like :\n",
       "\n",
       "```\n",
       "@sync @parallel for var = range\n",
       "    body\n",
       "end\n",
       "```\n"
      ],
      "text/plain": [
       "```\n",
       "@parallel\n",
       "```\n",
       "\n",
       "A parallel for loop of the form :\n",
       "\n",
       "```\n",
       "@parallel [reducer] for var = range\n",
       "    body\n",
       "end\n",
       "```\n",
       "\n",
       "The specified range is partitioned and locally executed across all workers. In case an optional reducer function is specified, `@parallel` performs local reductions on each worker with a final reduction on the calling process.\n",
       "\n",
       "Note that without a reducer function, `@parallel` executes asynchronously, i.e. it spawns independent tasks on all available workers and returns immediately without waiting for completion. To wait for completion, prefix the call with [`@sync`](@ref), like :\n",
       "\n",
       "```\n",
       "@sync @parallel for var = range\n",
       "    body\n",
       "end\n",
       "```\n"
      ]
     },
     "execution_count": 22,
     "metadata": {},
     "output_type": "execute_result"
    }
   ],
   "source": [
    "?@parallel"
   ]
  },
  {
   "cell_type": "code",
   "execution_count": 25,
   "metadata": {},
   "outputs": [
    {
     "data": {
      "text/plain": [
       "f (generic function with 1 method)"
      ]
     },
     "execution_count": 25,
     "metadata": {},
     "output_type": "execute_result"
    }
   ],
   "source": [
    "n = 100\n",
    "f(n) = @parallel (+) for i in 1:n;  i end "
   ]
  },
  {
   "cell_type": "code",
   "execution_count": 80,
   "metadata": {},
   "outputs": [
    {
     "data": {
      "text/plain": [
       ":((Base.Distributed.preduce)(+, begin  # distributed/macros.jl, line 157:\n",
       "            function (#143#reducer, #144#R, #145#lo::Base.Distributed.Int, #146#hi::Base.Distributed.Int) # distributed/macros.jl, line 158:\n",
       "                i = #144#R[#145#lo] # distributed/macros.jl, line 159:\n",
       "                #142#ac = begin  # In[80], line 2:\n",
       "                        i\n",
       "                    end # distributed/macros.jl, line 160:\n",
       "                if #145#lo != #146#hi # distributed/macros.jl, line 161:\n",
       "                    for i = #144#R[#145#lo + 1:#146#hi] # distributed/macros.jl, line 162:\n",
       "                        #142#ac = #143#reducer(#142#ac, begin  # In[80], line 2:\n",
       "                                    i\n",
       "                                end)\n",
       "                    end\n",
       "                end # distributed/macros.jl, line 165:\n",
       "                #142#ac\n",
       "            end\n",
       "        end, 1:100))"
      ]
     },
     "execution_count": 80,
     "metadata": {},
     "output_type": "execute_result"
    }
   ],
   "source": [
    "# We can see that @parallel ends up rewritting our code as a call to Base.Distributed.preduce\n",
    "@macroexpand @parallel (+) for i in 1:100; i end "
   ]
  },
  {
   "cell_type": "markdown",
   "metadata": {},
   "source": [
    "Let us dive into `Base.Distributed.preduce`"
   ]
  },
  {
   "cell_type": "code",
   "execution_count": 81,
   "metadata": {},
   "outputs": [
    {
     "data": {
      "text/markdown": [
       "No documentation found.\n",
       "\n",
       "`Base.Distributed.preduce` is a `Function`.\n",
       "\n",
       "```\n",
       "# 1 method for generic function \"preduce\":\n",
       "preduce(reducer, f, R) in Base.Distributed at distributed/macros.jl:138\n",
       "```\n"
      ],
      "text/plain": [
       "No documentation found.\n",
       "\n",
       "`Base.Distributed.preduce` is a `Function`.\n",
       "\n",
       "```\n",
       "# 1 method for generic function \"preduce\":\n",
       "preduce(reducer, f, R) in Base.Distributed at distributed/macros.jl:138\n",
       "```\n"
      ]
     },
     "execution_count": 81,
     "metadata": {},
     "output_type": "execute_result"
    }
   ],
   "source": [
    "?Base.Distributed.preduce"
   ]
  },
  {
   "cell_type": "code",
   "execution_count": 50,
   "metadata": {
    "collapsed": true
   },
   "outputs": [],
   "source": [
    "@everywhere some_complicated_function_per_iteration(x) = (log(x+1)+(x+2))/x"
   ]
  },
  {
   "cell_type": "code",
   "execution_count": 33,
   "metadata": {
    "scrolled": true
   },
   "outputs": [
    {
     "data": {
      "text/plain": [
       "412126"
      ]
     },
     "execution_count": 33,
     "metadata": {},
     "output_type": "execute_result"
    }
   ],
   "source": [
    "test_1([2,3,412121])"
   ]
  },
  {
   "cell_type": "code",
   "execution_count": 51,
   "metadata": {},
   "outputs": [
    {
     "data": {
      "text/plain": [
       "100091.6389972468"
      ]
     },
     "execution_count": 51,
     "metadata": {},
     "output_type": "execute_result"
    }
   ],
   "source": [
    "@parallel (+) for i in 1:100000; some_complicated_function_per_iteration(i) end "
   ]
  },
  {
   "cell_type": "code",
   "execution_count": 57,
   "metadata": {},
   "outputs": [
    {
     "data": {
      "text/html": [
       "preduce(reducer, f, R) at <a href=\"https://github.com/JuliaLang/julia/tree/0d7248e2ff65bd6886ba3f003bf5aeab929edab5/base/distributed/macros.jl#L138\" target=\"_blank\">distributed/macros.jl:138</a>"
      ],
      "text/plain": [
       "preduce(reducer, f, R) in Base.Distributed at distributed/macros.jl:138"
      ]
     },
     "execution_count": 57,
     "metadata": {},
     "output_type": "execute_result"
    }
   ],
   "source": [
    "@which Base.Disstributed.preduce(+,f,2)"
   ]
  },
  {
   "cell_type": "code",
   "execution_count": 59,
   "metadata": {},
   "outputs": [
    {
     "data": {
      "text/plain": [
       "10"
      ]
     },
     "execution_count": 59,
     "metadata": {},
     "output_type": "execute_result"
    }
   ],
   "source": [
    "reduce(+,[1,2,3,4])"
   ]
  },
  {
   "cell_type": "code",
   "execution_count": 71,
   "metadata": {},
   "outputs": [
    {
     "data": {
      "text/plain": [
       "-0.0"
      ]
     },
     "execution_count": 71,
     "metadata": {},
     "output_type": "execute_result"
    }
   ],
   "source": [
    "reduce(log,[1,2,3,4])"
   ]
  },
  {
   "cell_type": "code",
   "execution_count": 72,
   "metadata": {},
   "outputs": [
    {
     "data": {
      "text/html": [
       "reduce(op, itr) at <a href=\"https://github.com/JuliaLang/julia/tree/0d7248e2ff65bd6886ba3f003bf5aeab929edab5/base/reduce.jl#L330\" target=\"_blank\">reduce.jl:330</a>"
      ],
      "text/plain": [
       "reduce(op, itr) in Base at reduce.jl:330"
      ]
     },
     "execution_count": 72,
     "metadata": {},
     "output_type": "execute_result"
    }
   ],
   "source": [
    "@which reduce(log,[1,2,3,4])"
   ]
  },
  {
   "cell_type": "markdown",
   "metadata": {},
   "source": [
    "#### what `reduce` does in the source code \n",
    "\n",
    "\n",
    "```julia\n",
    "reduce(op, itr) = mapreduce(identity, op, itr)\n",
    "reduce(op, a::Number) = a  \n",
    "```\n",
    "\n",
    "\n",
    "The first definition tell us that if we apply an operation to an iterable the result is to apply the `mapreduce(identity, op, itr)`.\n",
    "\n",
    "The second definition tell us that if we apply an operation to a single number the result is the number."
   ]
  },
  {
   "cell_type": "code",
   "execution_count": 76,
   "metadata": {},
   "outputs": [
    {
     "data": {
      "text/markdown": [
       "```\n",
       "mapreduce(f, op, itr)\n",
       "```\n",
       "\n",
       "Like `mapreduce(f, op, v0, itr)`. In general, this cannot be used with empty collections (see `reduce(op, itr)`).\n"
      ],
      "text/plain": [
       "```\n",
       "mapreduce(f, op, itr)\n",
       "```\n",
       "\n",
       "Like `mapreduce(f, op, v0, itr)`. In general, this cannot be used with empty collections (see `reduce(op, itr)`).\n"
      ]
     },
     "execution_count": 76,
     "metadata": {},
     "output_type": "execute_result"
    }
   ],
   "source": [
    "?mapreduce(identity, +, [1,2,3,4])"
   ]
  },
  {
   "cell_type": "code",
   "execution_count": 77,
   "metadata": {},
   "outputs": [
    {
     "data": {
      "text/plain": [
       "10"
      ]
     },
     "execution_count": 77,
     "metadata": {},
     "output_type": "execute_result"
    }
   ],
   "source": [
    "mapreduce(identity, +, [1,2,3,4])"
   ]
  },
  {
   "cell_type": "markdown",
   "metadata": {},
   "source": [
    "#### montecarlo example"
   ]
  },
  {
   "cell_type": "code",
   "execution_count": null,
   "metadata": {
    "collapsed": true
   },
   "outputs": [],
   "source": [
    "function find_pi(n) \n",
    "    inside = 0\n",
    "    for i = 1:n\n",
    "    x = rand(); y = rand()\n",
    "    inside += (x^2 + y^2) <= 1\n",
    "    end\n",
    "    4 * inside/ n\n",
    "end"
   ]
  },
  {
   "cell_type": "code",
   "execution_count": null,
   "metadata": {
    "collapsed": true
   },
   "outputs": [],
   "source": [
    "@time find_pi(10);"
   ]
  },
  {
   "cell_type": "code",
   "execution_count": null,
   "metadata": {
    "collapsed": true
   },
   "outputs": [],
   "source": [
    "@time find_pi(1_000_000_000);"
   ]
  },
  {
   "cell_type": "code",
   "execution_count": null,
   "metadata": {
    "collapsed": true
   },
   "outputs": [],
   "source": [
    "workers()"
   ]
  },
  {
   "cell_type": "code",
   "execution_count": null,
   "metadata": {
    "collapsed": true
   },
   "outputs": [],
   "source": [
    "addprocs(4);"
   ]
  },
  {
   "cell_type": "code",
   "execution_count": null,
   "metadata": {
    "collapsed": true
   },
   "outputs": [],
   "source": [
    "@everywhere function find_pi(n) \n",
    "    inside = 0\n",
    "    for i = 1:n\n",
    "        x = rand(); y = rand()\n",
    "        inside += (x^2 + y^2) <= 1\n",
    "    end\n",
    "    4 * inside/ n\n",
    "end"
   ]
  },
  {
   "cell_type": "code",
   "execution_count": null,
   "metadata": {
    "collapsed": true
   },
   "outputs": [],
   "source": [
    "pfind_pi(N)= mean( pmap(n->find_pi(n), [N/nworkers() for i=1:nworkers()] ))"
   ]
  },
  {
   "cell_type": "code",
   "execution_count": null,
   "metadata": {
    "collapsed": true
   },
   "outputs": [],
   "source": [
    "@time pfind_pi(1_00);"
   ]
  },
  {
   "cell_type": "markdown",
   "metadata": {},
   "source": [
    "#### Serial vs parallel versions"
   ]
  },
  {
   "cell_type": "code",
   "execution_count": null,
   "metadata": {
    "collapsed": true
   },
   "outputs": [],
   "source": [
    "@time pfind_pi(1_000_000_000);"
   ]
  },
  {
   "cell_type": "code",
   "execution_count": null,
   "metadata": {
    "collapsed": true
   },
   "outputs": [],
   "source": [
    "@time find_pi(1_000_000_000);"
   ]
  },
  {
   "cell_type": "markdown",
   "metadata": {},
   "source": [
    "## Counting elements"
   ]
  },
  {
   "cell_type": "code",
   "execution_count": null,
   "metadata": {
    "collapsed": true
   },
   "outputs": [],
   "source": [
    "addprocs(4) "
   ]
  },
  {
   "cell_type": "code",
   "execution_count": null,
   "metadata": {
    "collapsed": true
   },
   "outputs": [],
   "source": [
    "workers()"
   ]
  },
  {
   "cell_type": "code",
   "execution_count": null,
   "metadata": {
    "collapsed": true
   },
   "outputs": [],
   "source": [
    "big_array = rand(1:10, 10^8);"
   ]
  },
  {
   "cell_type": "code",
   "execution_count": null,
   "metadata": {
    "collapsed": true
   },
   "outputs": [],
   "source": [
    "function count_elements(array::Array{Int64})\n",
    "    n = length(array)\n",
    "    counts = Dict{Int64}{Int64}()\n",
    "    for i in array\n",
    "        if i in keys(counts)\n",
    "            counts[i] += 1 \n",
    "        else\n",
    "            counts[i] = 1\n",
    "        end\n",
    "    end\n",
    "    return counts\n",
    "end"
   ]
  },
  {
   "cell_type": "code",
   "execution_count": null,
   "metadata": {
    "collapsed": true
   },
   "outputs": [],
   "source": [
    "@time result_sequential = count_elements(big_array);"
   ]
  },
  {
   "cell_type": "markdown",
   "metadata": {},
   "source": [
    "#### Faster way to create counts\n",
    "\n",
    "Notice that this version is using **`get(counts,i,0)`**."
   ]
  },
  {
   "cell_type": "code",
   "execution_count": null,
   "metadata": {
    "collapsed": true
   },
   "outputs": [],
   "source": [
    "function count_elements2(array::Array{Int64})\n",
    "    n = length(array)\n",
    "    counts = Dict{Int64}{Int64}()\n",
    "    for i in array\n",
    "        counts[i] = get(counts,i,0) + 1\n",
    "    end\n",
    "    return counts\n",
    "end"
   ]
  },
  {
   "cell_type": "code",
   "execution_count": null,
   "metadata": {
    "collapsed": true
   },
   "outputs": [],
   "source": [
    "@time count_elements2(big_array);"
   ]
  },
  {
   "cell_type": "markdown",
   "metadata": {},
   "source": [
    "### pmap function\n",
    "\n",
    "Now we will build a custom reducer to aggregate the partial results then we will split the data\n",
    "into similar size chunks and split the workload into different processess."
   ]
  },
  {
   "cell_type": "code",
   "execution_count": null,
   "metadata": {
    "collapsed": true
   },
   "outputs": [],
   "source": [
    "# reducer\n",
    "function count_reduce(array_of_count_dicts)\n",
    "    counts_combined = Dict{Int64}{Int64}()\n",
    "    \n",
    "    for d in array_of_count_dicts\n",
    "        for k in keys(d)\n",
    "            if k in keys(counts_combined)\n",
    "                counts_combined[k] += d[k]  \n",
    "            else\n",
    "                counts_combined[k] = d[k] \n",
    "            end\n",
    "        end\n",
    "    end\n",
    "    return counts_combined\n",
    "end"
   ]
  },
  {
   "cell_type": "code",
   "execution_count": null,
   "metadata": {
    "collapsed": true,
    "scrolled": true
   },
   "outputs": [],
   "source": [
    "# This code will fail because the different workers do not have the ¨count_elements\" function\n",
    "@time begin\n",
    "    n = length(big_array)\n",
    "    n_processors = length(workers())\n",
    "    splits_ind = [Int(x) for x in 1:(n/n_processors):(n+1)]\n",
    "    big_array_splits = [big_array[x:y-1] for (x,y) in zip(splits_ind[1:end-1], splits_ind[2:end])]\n",
    "    res = pmap(count_elements, big_array_splits)\n",
    "    d = count_reduce(res)\n",
    "end"
   ]
  },
  {
   "cell_type": "code",
   "execution_count": null,
   "metadata": {
    "collapsed": true
   },
   "outputs": [],
   "source": [
    "@everywhere function count_elements(array::Array{Int64})\n",
    "    n = length(array)\n",
    "    counts = Dict{Int64}{Int64}()\n",
    "    for i in array\n",
    "        if i in keys(counts)\n",
    "            counts[i] += 1 \n",
    "        else\n",
    "            counts[i] = 1\n",
    "        end\n",
    "    end\n",
    "    return counts\n",
    "end"
   ]
  },
  {
   "cell_type": "code",
   "execution_count": null,
   "metadata": {
    "collapsed": true
   },
   "outputs": [],
   "source": [
    "@time begin\n",
    "    n = length(big_array)\n",
    "    n_processors = length(workers())\n",
    "    splits_ind = [Int(x) for x in 1:(n/n_processors):(n+1)]\n",
    "    big_array_splits = [big_array[x:y-1] for (x,y) in zip(splits_ind[1:end-1], splits_ind[2:end])]\n",
    "    res = pmap(count_elements, big_array_splits)\n",
    "    result_paralel = count_reduce(res);\n",
    "end"
   ]
  },
  {
   "cell_type": "code",
   "execution_count": null,
   "metadata": {
    "collapsed": true
   },
   "outputs": [],
   "source": [
    "# Both computations yield to the exact same result\n",
    "result_paralel  == result_sequential"
   ]
  },
  {
   "cell_type": "markdown",
   "metadata": {},
   "source": [
    "### @spawn and fetch functions\n",
    "\n",
    "Using **```@spawn```** and **```fetch```** we can build our own pmaplike function.\n",
    "\n",
    "- **```@spawn```**: Creates a closure around an expression and runs it on an automatically-chosen process, returning a Future to the result.\n",
    "\n",
    "- **```fetch```**: Gets the computation returned from the Future object that we build using **```@spawn```**."
   ]
  },
  {
   "cell_type": "code",
   "execution_count": null,
   "metadata": {
    "collapsed": true
   },
   "outputs": [],
   "source": [
    "workers()"
   ]
  },
  {
   "cell_type": "code",
   "execution_count": null,
   "metadata": {
    "collapsed": true
   },
   "outputs": [],
   "source": [
    "# 1) Splits input string into nprocs() equal-sized chunks (last one rounds up),\n",
    "# 2) @spawns wordcount() for each chunk to run in parallel. \n",
    "# 3) Then fetch()s results and performs count_reduce().\n",
    "\n",
    "function parallel_wordcount(big_array, n_processors)\n",
    "    \n",
    "    n = length(big_array)\n",
    "    splits_ind = [Int(x) for x in 1:(n/n_processors):(n+1)]\n",
    "    big_array_splits = [big_array[x:y-1] for (x,y) in zip(splits_ind[1:end-1], splits_ind[2:end])]\n",
    "    \n",
    "    partial_res = []\n",
    "    for subarray in big_array_splits\n",
    "        push!(partial_res, @spawn count_elements(subarray) )\n",
    "    end    \n",
    "    results = [fetch(r) for r in partial_res]\n",
    "    return count_reduce(results)\n",
    "end"
   ]
  },
  {
   "cell_type": "code",
   "execution_count": null,
   "metadata": {
    "collapsed": true
   },
   "outputs": [],
   "source": [
    "@time r = parallel_wordcount(big_array, 4);"
   ]
  },
  {
   "cell_type": "code",
   "execution_count": null,
   "metadata": {
    "collapsed": true
   },
   "outputs": [],
   "source": [
    "r"
   ]
  },
  {
   "cell_type": "markdown",
   "metadata": {},
   "source": [
    "### Let us look at the code piece by piece|"
   ]
  },
  {
   "cell_type": "code",
   "execution_count": null,
   "metadata": {
    "collapsed": true
   },
   "outputs": [],
   "source": [
    "workers()"
   ]
  },
  {
   "cell_type": "code",
   "execution_count": null,
   "metadata": {
    "collapsed": true
   },
   "outputs": [],
   "source": [
    "?remotecall"
   ]
  },
  {
   "cell_type": "code",
   "execution_count": null,
   "metadata": {
    "collapsed": true
   },
   "outputs": [],
   "source": [
    "#run a command on a different worker\n",
    "rmatrix = remotecall(2, rand, 2, 2)\n",
    "print(rmatrix)"
   ]
  },
  {
   "cell_type": "code",
   "execution_count": null,
   "metadata": {
    "collapsed": true
   },
   "outputs": [],
   "source": [
    "rmatrix"
   ]
  },
  {
   "cell_type": "code",
   "execution_count": null,
   "metadata": {
    "collapsed": true
   },
   "outputs": [],
   "source": [
    "fetch(rmatrix)"
   ]
  },
  {
   "cell_type": "code",
   "execution_count": null,
   "metadata": {
    "collapsed": true
   },
   "outputs": [],
   "source": [
    "partial_res = []\n",
    "for subarray in big_array_splits\n",
    "    r = remotecall(count_elements, subarray)\n",
    "    push!(partial_res, @spawn count_elements(subarray) )\n",
    "end"
   ]
  },
  {
   "cell_type": "markdown",
   "metadata": {},
   "source": [
    "# pmap\n",
    "\n",
    "\n",
    "Let us consider the case where we have an array and we want to apply some function at every position of the array and get a new array with the results.  We can approach this problem in a variety of ways.\n",
    "\n",
    "\n",
    "#### pmap solution\n",
    "\n",
    "This type of problem can be parallelized with the **`pmap`** function. This only makes sence when the function that we want to apply at every element of the collection is expensive to compute. Otherwise this will be much slower than the simple non-parallel solution."
   ]
  },
  {
   "cell_type": "code",
   "execution_count": 158,
   "metadata": {
    "collapsed": true
   },
   "outputs": [],
   "source": [
    "vals = rand(Int32,1_000_00)\n",
    "\n",
    "for i in 1:length(vals)\n",
    "    if vals[i]<0\n",
    "        vals[i] = -vals[i]\n",
    "    end\n",
    "end"
   ]
  },
  {
   "cell_type": "code",
   "execution_count": 159,
   "metadata": {
    "collapsed": true
   },
   "outputs": [],
   "source": [
    "@everywhere function is_multiple_of_20(x)\n",
    "    if x%20==0\n",
    "        return true\n",
    "    else\n",
    "        return false\n",
    "    end\n",
    "end"
   ]
  },
  {
   "cell_type": "code",
   "execution_count": 160,
   "metadata": {},
   "outputs": [
    {
     "name": "stdout",
     "output_type": "stream",
     "text": [
      "  0.016363 seconds (6.90 k allocations: 382.055 KiB)\n"
     ]
    }
   ],
   "source": [
    "@time is_multiple_of_20.(vals);"
   ]
  },
  {
   "cell_type": "code",
   "execution_count": 161,
   "metadata": {},
   "outputs": [
    {
     "name": "stdout",
     "output_type": "stream",
     "text": [
      "  0.012561 seconds (7.96 k allocations: 508.472 KiB)\n"
     ]
    }
   ],
   "source": [
    "@time map(is_multiple_of_20,vals);"
   ]
  },
  {
   "cell_type": "code",
   "execution_count": 162,
   "metadata": {},
   "outputs": [
    {
     "data": {
      "text/plain": [
       "4-element Array{Int64,1}:\n",
       " 2\n",
       " 3\n",
       " 4\n",
       " 5"
      ]
     },
     "execution_count": 162,
     "metadata": {},
     "output_type": "execute_result"
    }
   ],
   "source": [
    "workers()"
   ]
  },
  {
   "cell_type": "code",
   "execution_count": 28,
   "metadata": {},
   "outputs": [
    {
     "ename": "LoadError",
     "evalue": "\u001b[91mUndefVarError: is_multiple_of_20 not defined\u001b[39m",
     "output_type": "error",
     "traceback": [
      "\u001b[91mUndefVarError: is_multiple_of_20 not defined\u001b[39m",
      "",
      "Stacktrace:",
      " [1] \u001b[1minclude_string\u001b[22m\u001b[22m\u001b[1m(\u001b[22m\u001b[22m::String, ::String\u001b[1m)\u001b[22m\u001b[22m at \u001b[1m./loading.jl:522\u001b[22m\u001b[22m"
     ]
    }
   ],
   "source": [
    "@time pmap(is_multiple_of_20,vals);"
   ]
  },
  {
   "cell_type": "code",
   "execution_count": 30,
   "metadata": {
    "collapsed": true
   },
   "outputs": [],
   "source": [
    "using BenchmarkTools\n",
    "addprocs()"
   ]
  },
  {
   "cell_type": "code",
   "execution_count": 31,
   "metadata": {
    "collapsed": true
   },
   "outputs": [],
   "source": [
    "x=[rand(100,100) for i in 1:10];"
   ]
  },
  {
   "cell_type": "code",
   "execution_count": 32,
   "metadata": {},
   "outputs": [
    {
     "data": {
      "text/plain": [
       "BenchmarkTools.Trial: \n",
       "  memory estimate:  5.47 MiB\n",
       "  allocs estimate:  192\n",
       "  --------------\n",
       "  minimum time:     16.352 ms (0.00% GC)\n",
       "  median time:      16.994 ms (0.00% GC)\n",
       "  mean time:        17.231 ms (1.08% GC)\n",
       "  maximum time:     21.518 ms (5.52% GC)\n",
       "  --------------\n",
       "  samples:          290\n",
       "  evals/sample:     1"
      ]
     },
     "execution_count": 32,
     "metadata": {},
     "output_type": "execute_result"
    }
   ],
   "source": [
    "@benchmark map(svd, x)"
   ]
  },
  {
   "cell_type": "code",
   "execution_count": 38,
   "metadata": {},
   "outputs": [
    {
     "data": {
      "text/plain": [
       "BenchmarkTools.Trial: \n",
       "  memory estimate:  1.67 MiB\n",
       "  allocs estimate:  1548\n",
       "  --------------\n",
       "  minimum time:     5.512 ms (0.00% GC)\n",
       "  median time:      7.082 ms (0.00% GC)\n",
       "  mean time:        7.183 ms (0.94% GC)\n",
       "  maximum time:     12.217 ms (0.00% GC)\n",
       "  --------------\n",
       "  samples:          696\n",
       "  evals/sample:     1"
      ]
     },
     "execution_count": 38,
     "metadata": {},
     "output_type": "execute_result"
    }
   ],
   "source": [
    "@benchmark pmap(svd,x)"
   ]
  },
  {
   "cell_type": "code",
   "execution_count": null,
   "metadata": {
    "collapsed": true
   },
   "outputs": [],
   "source": []
  }
 ],
 "metadata": {
  "anaconda-cloud": {},
  "kernelspec": {
   "display_name": "Julia 0.6.0",
   "language": "julia",
   "name": "julia-0.6"
  },
  "language_info": {
   "file_extension": ".jl",
   "mimetype": "application/julia",
   "name": "julia",
   "version": "0.6.0"
  }
 },
 "nbformat": 4,
 "nbformat_minor": 1
}
