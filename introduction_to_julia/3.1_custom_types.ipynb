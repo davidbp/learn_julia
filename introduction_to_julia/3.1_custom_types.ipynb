{
 "cells": [
  {
   "cell_type": "markdown",
   "metadata": {
    "collapsed": true
   },
   "source": [
    "Outline\n",
    "\n",
    "\n",
    "- How to define and create types (`struct`/`mutable struct`)\n",
    "- How to create parametric types.\n",
    "- How to define restrictions on types during construction.\n",
    "- How to define types with default values.\n",
    "- How to make custom prints\n",
    "\n",
    "\n",
    "## Defining your own type (struct/mutable struct)\n",
    "\n",
    "\n",
    "Types can be thought as \"boxes\" containing data. Each \"box\" is called  **``field``** and can contain any  **``Type``** inside, each field is identified by a name filed. In order to see the different fields of a type you can use the function **``fieldnames``**.\n",
    "\n",
    "- Each field can have a type, the symbol **`::`** is used to assign a type to a fieldname.\n",
    "    - For example **`x::Float64`** states that `x` has type ``Float64``.\n",
    "- Each field can have a different type"
   ]
  },
  {
   "cell_type": "code",
   "execution_count": 60,
   "metadata": {},
   "outputs": [
    {
     "name": "stderr",
     "output_type": "stream",
     "text": [
      "┌ Info: Precompiling Revise [295af30f-e4ad-537b-8983-00126c2a3abe]\n",
      "└ @ Base loading.jl:1189\n"
     ]
    }
   ],
   "source": [
    "using Revise"
   ]
  },
  {
   "cell_type": "code",
   "execution_count": 131,
   "metadata": {},
   "outputs": [
    {
     "data": {
      "text/plain": [
       "Position(10.0, 10.0, 2.0)"
      ]
     },
     "execution_count": 131,
     "metadata": {},
     "output_type": "execute_result"
    }
   ],
   "source": [
    "mutable struct Position\n",
    "    x::Float64\n",
    "    y::Float64\n",
    "    z::Float64\n",
    "end\n",
    "p = Position(10,10,2)"
   ]
  },
  {
   "cell_type": "code",
   "execution_count": 11,
   "metadata": {},
   "outputs": [
    {
     "data": {
      "text/plain": [
       "23"
      ]
     },
     "execution_count": 11,
     "metadata": {},
     "output_type": "execute_result"
    }
   ],
   "source": [
    "p.x = 23"
   ]
  },
  {
   "cell_type": "code",
   "execution_count": 12,
   "metadata": {},
   "outputs": [
    {
     "data": {
      "text/plain": [
       "Position(23.0, 10.0, 2.0)"
      ]
     },
     "execution_count": 12,
     "metadata": {},
     "output_type": "execute_result"
    }
   ],
   "source": [
    "p"
   ]
  },
  {
   "cell_type": "markdown",
   "metadata": {},
   "source": [
    "## Inmutable Types\n",
    "\n",
    "As the name suggests, you cannot mutate the fieldnames of **``immutable``** types.\n",
    "\n",
    "\n",
    "**An immutable object might contain mutable objects**, such as arrays, as fields. Those contained objects will remain mutable; only the fields of the immutable object itself cannot be changed to point to different objects."
   ]
  },
  {
   "cell_type": "code",
   "execution_count": 133,
   "metadata": {},
   "outputs": [
    {
     "ename": "ErrorException",
     "evalue": "invalid redefinition of constant Point",
     "output_type": "error",
     "traceback": [
      "invalid redefinition of constant Point",
      "",
      "Stacktrace:",
      " [1] top-level scope at none:0"
     ]
    }
   ],
   "source": [
    "struct Point\n",
    "    x::Float64\n",
    "    y::Float64\n",
    "    z::Float64\n",
    "end\n",
    "\n",
    "p = Point(10,10,2)"
   ]
  },
  {
   "cell_type": "code",
   "execution_count": 20,
   "metadata": {},
   "outputs": [
    {
     "ename": "ErrorException",
     "evalue": "type Point is immutable",
     "output_type": "error",
     "traceback": [
      "type Point is immutable",
      "",
      "Stacktrace:",
      " [1] setproperty!(::Point, ::Symbol, ::Int64) at ./sysimg.jl:19",
      " [2] top-level scope at In[20]:1"
     ]
    }
   ],
   "source": [
    "p.x = 23"
   ]
  },
  {
   "cell_type": "code",
   "execution_count": 24,
   "metadata": {},
   "outputs": [
    {
     "data": {
      "text/plain": [
       "VectorPoint([10.0, 2.0], [10.0, 1.0], [10.0, 10.0])"
      ]
     },
     "execution_count": 24,
     "metadata": {},
     "output_type": "execute_result"
    }
   ],
   "source": [
    "struct VectorPoint\n",
    "    x::Array{Float64}\n",
    "    y::Array{Float64}\n",
    "    z::Array{Float64}\n",
    "end\n",
    "p = VectorPoint([10,2],[10,1],[10,10])"
   ]
  },
  {
   "cell_type": "code",
   "execution_count": 29,
   "metadata": {},
   "outputs": [
    {
     "ename": "ErrorException",
     "evalue": "type VectorPoint is immutable",
     "output_type": "error",
     "traceback": [
      "type VectorPoint is immutable",
      "",
      "Stacktrace:",
      " [1] setproperty!(::VectorPoint, ::Symbol, ::Array{Float64,1}) at ./sysimg.jl:19",
      " [2] top-level scope at In[29]:1"
     ]
    }
   ],
   "source": [
    "p.x = [3.,1.]"
   ]
  },
  {
   "cell_type": "code",
   "execution_count": 31,
   "metadata": {},
   "outputs": [
    {
     "data": {
      "text/plain": [
       "2-element Array{Float64,1}:\n",
       " 3.0\n",
       " 1.0"
      ]
     },
     "execution_count": 31,
     "metadata": {},
     "output_type": "execute_result"
    }
   ],
   "source": [
    "p.x .= [3.,1.]"
   ]
  },
  {
   "cell_type": "code",
   "execution_count": 32,
   "metadata": {},
   "outputs": [
    {
     "data": {
      "text/plain": [
       "VectorPoint([3.0, 1.0], [10.0, 1.0], [10.0, 10.0])"
      ]
     },
     "execution_count": 32,
     "metadata": {},
     "output_type": "execute_result"
    }
   ],
   "source": [
    "p"
   ]
  },
  {
   "cell_type": "markdown",
   "metadata": {},
   "source": [
    "### Immutable types \"can change\"\n",
    "\n",
    "If a field of an immutable type can change (for example, an array can grow) then the instanciated immutable type can also change.\n",
    "\n",
    "Let us see it in a simple case, we have a `Family` type with field `members` which is an `Array`. An instanciated `Family` can grow in any point even though the type `Family` has beeen defined as `immutable`."
   ]
  },
  {
   "cell_type": "code",
   "execution_count": 35,
   "metadata": {},
   "outputs": [],
   "source": [
    "\n",
    "struct Family\n",
    "    members::Array{String}\n",
    "    name::String\n",
    "end"
   ]
  },
  {
   "cell_type": "code",
   "execution_count": 36,
   "metadata": {},
   "outputs": [
    {
     "data": {
      "text/plain": [
       "Family([\"Lisa\", \"Hommer\", \"Bart\", \"Marge\"], \"Simpson\")"
      ]
     },
     "execution_count": 36,
     "metadata": {},
     "output_type": "execute_result"
    }
   ],
   "source": [
    "simpsons = Family([\"Lisa\",\"Hommer\",\"Bart\",\"Marge\"],\"Simpson\")"
   ]
  },
  {
   "cell_type": "code",
   "execution_count": 37,
   "metadata": {},
   "outputs": [
    {
     "data": {
      "text/plain": [
       "5-element Array{String,1}:\n",
       " \"Lisa\"  \n",
       " \"Hommer\"\n",
       " \"Bart\"  \n",
       " \"Marge\" \n",
       " \"maggie\""
      ]
     },
     "execution_count": 37,
     "metadata": {},
     "output_type": "execute_result"
    }
   ],
   "source": [
    "push!(simpsons.members, \"maggie\")"
   ]
  },
  {
   "cell_type": "code",
   "execution_count": 38,
   "metadata": {
    "scrolled": true
   },
   "outputs": [
    {
     "data": {
      "text/plain": [
       "Family([\"Lisa\", \"Hommer\", \"Bart\", \"Marge\", \"maggie\"], \"Simpson\")"
      ]
     },
     "execution_count": 38,
     "metadata": {},
     "output_type": "execute_result"
    }
   ],
   "source": [
    "simpsons"
   ]
  },
  {
   "cell_type": "markdown",
   "metadata": {},
   "source": [
    "What we can't do is rewrite `simpsons.members`  field with another instance of `Array`."
   ]
  },
  {
   "cell_type": "code",
   "execution_count": 39,
   "metadata": {},
   "outputs": [
    {
     "ename": "ErrorException",
     "evalue": "type Family is immutable",
     "output_type": "error",
     "traceback": [
      "type Family is immutable",
      "",
      "Stacktrace:",
      " [1] setproperty!(::Family, ::Symbol, ::Array{String,1}) at ./sysimg.jl:19",
      " [2] top-level scope at In[39]:1"
     ]
    }
   ],
   "source": [
    "# this is not allowed\n",
    "simpsons.members =  [\"Mariano\", \"Melindro\"]"
   ]
  },
  {
   "cell_type": "code",
   "execution_count": 40,
   "metadata": {},
   "outputs": [
    {
     "data": {
      "text/plain": [
       "5-element Array{String,1}:\n",
       " \"L\"\n",
       " \"H\"\n",
       " \"B\"\n",
       " \"M\"\n",
       " \"L\""
      ]
     },
     "execution_count": 40,
     "metadata": {},
     "output_type": "execute_result"
    }
   ],
   "source": [
    "# This is allowed because we are changing the object inplace\n",
    "simpsons.members .=  [\"L\" , \"H\",  \"B\" ,  \"M\", \"L\"]"
   ]
  },
  {
   "cell_type": "markdown",
   "metadata": {},
   "source": [
    "#### Another example of immutable type\n",
    "\n",
    "- We cannot do  `model.Θ = model.Θ + 1` since it would change the array.\n",
    "\n",
    "\n",
    "- We can simply do `model.Θ .= model.Θ + 1`\n"
   ]
  },
  {
   "cell_type": "code",
   "execution_count": 45,
   "metadata": {},
   "outputs": [],
   "source": [
    "struct Model\n",
    "    name::String\n",
    "    Θ::Array\n",
    "end"
   ]
  },
  {
   "cell_type": "code",
   "execution_count": 52,
   "metadata": {},
   "outputs": [
    {
     "data": {
      "text/plain": [
       "Model(\"Percepton\", [0.0, 0.0, 0.0, 0.0, 0.0, 0.0, 0.0, 0.0, 0.0, 0.0])"
      ]
     },
     "execution_count": 52,
     "metadata": {},
     "output_type": "execute_result"
    }
   ],
   "source": [
    "model = Model(\"Percepton\", zeros(10))"
   ]
  },
  {
   "cell_type": "code",
   "execution_count": 53,
   "metadata": {},
   "outputs": [
    {
     "data": {
      "text/plain": [
       "12"
      ]
     },
     "execution_count": 53,
     "metadata": {},
     "output_type": "execute_result"
    }
   ],
   "source": [
    "model.Θ[1] = 12"
   ]
  },
  {
   "cell_type": "code",
   "execution_count": 54,
   "metadata": {},
   "outputs": [
    {
     "ename": "ErrorException",
     "evalue": "type Model is immutable",
     "output_type": "error",
     "traceback": [
      "type Model is immutable",
      "",
      "Stacktrace:",
      " [1] setproperty!(::Model, ::Symbol, ::Array{Float64,1}) at ./sysimg.jl:19",
      " [2] top-level scope at In[54]:1"
     ]
    }
   ],
   "source": [
    "model.Θ = model.Θ .+ 1"
   ]
  },
  {
   "cell_type": "code",
   "execution_count": 55,
   "metadata": {},
   "outputs": [
    {
     "data": {
      "text/plain": [
       "10-element Array{Float64,1}:\n",
       " 13.0\n",
       "  1.0\n",
       "  1.0\n",
       "  1.0\n",
       "  1.0\n",
       "  1.0\n",
       "  1.0\n",
       "  1.0\n",
       "  1.0\n",
       "  1.0"
      ]
     },
     "execution_count": 55,
     "metadata": {},
     "output_type": "execute_result"
    }
   ],
   "source": [
    "model.Θ .= model.Θ .+ 1"
   ]
  },
  {
   "cell_type": "markdown",
   "metadata": {},
   "source": [
    "## Parametric types"
   ]
  },
  {
   "cell_type": "markdown",
   "metadata": {},
   "source": [
    "To make the code more general we can use ** parametric types** which define a family of types by a parameter. \n",
    "\n",
    "- Parametric types can depend on multiple parameters `Point{T1,T2}`.\n"
   ]
  },
  {
   "cell_type": "code",
   "execution_count": 61,
   "metadata": {},
   "outputs": [],
   "source": [
    "struct PositionTyped{T<:Number}\n",
    "    x::T\n",
    "    y::T\n",
    "    z::T\n",
    "end"
   ]
  },
  {
   "cell_type": "code",
   "execution_count": 62,
   "metadata": {
    "scrolled": true
   },
   "outputs": [
    {
     "data": {
      "text/plain": [
       "PositionTyped{Int64}(10, 10, 2)"
      ]
     },
     "execution_count": 62,
     "metadata": {},
     "output_type": "execute_result"
    }
   ],
   "source": [
    "p = PositionTyped(10,10,2)"
   ]
  },
  {
   "cell_type": "code",
   "execution_count": 64,
   "metadata": {},
   "outputs": [
    {
     "data": {
      "text/plain": [
       "PositionTyped{Float64}(10.0, 10.0, 2.0)"
      ]
     },
     "execution_count": 64,
     "metadata": {},
     "output_type": "execute_result"
    }
   ],
   "source": [
    "p = PositionTyped(10.,10.,2.)"
   ]
  },
  {
   "cell_type": "code",
   "execution_count": 82,
   "metadata": {},
   "outputs": [
    {
     "data": {
      "text/plain": [
       "PositionTyped{Float32}(10.0f0, 10.0f0, 2.0f0)"
      ]
     },
     "execution_count": 82,
     "metadata": {},
     "output_type": "execute_result"
    }
   ],
   "source": [
    "p = PositionTyped{Float32}(10,10,2)"
   ]
  },
  {
   "cell_type": "code",
   "execution_count": 87,
   "metadata": {},
   "outputs": [
    {
     "ename": "MethodError",
     "evalue": "MethodError: no method matching PositionTyped{Float32}()\nClosest candidates are:\n  PositionTyped{Float32}(!Matched::Any, !Matched::Any, !Matched::Any) where T<:Number at In[61]:3",
     "output_type": "error",
     "traceback": [
      "MethodError: no method matching PositionTyped{Float32}()\nClosest candidates are:\n  PositionTyped{Float32}(!Matched::Any, !Matched::Any, !Matched::Any) where T<:Number at In[61]:3",
      "",
      "Stacktrace:",
      " [1] top-level scope at In[87]:1"
     ]
    }
   ],
   "source": [
    "p = PositionTyped{Float32}()"
   ]
  },
  {
   "cell_type": "markdown",
   "metadata": {},
   "source": [
    "#### This code\n",
    "``` Julia\n",
    "struct PositionTyped{T}\n",
    "    x::T\n",
    "    y::T\n",
    "    z::T\n",
    "end\n",
    "```\n",
    "\n",
    "#### Already defines all this\n",
    "\n",
    "\n",
    "``` Julia\n",
    "struct PositionTyped{T<:Any}\n",
    "  x::T\n",
    "  y::T\n",
    "  z::T\n",
    "end\n",
    "\n",
    "PositionTyped{T<:Any}(x::T, y::T, z::T) = Position{T}(x,y,z)\n",
    "```"
   ]
  },
  {
   "cell_type": "markdown",
   "metadata": {},
   "source": [
    "### Custom constructor"
   ]
  },
  {
   "cell_type": "code",
   "execution_count": 106,
   "metadata": {},
   "outputs": [],
   "source": [
    "struct PositionTyped2{T}\n",
    "  x::T\n",
    "  y::T\n",
    "  z::T\n",
    "end\n",
    "\n",
    "# You do not need to write this, this is done automatically\n",
    "PositionTyped2{T}() where {T<:Number} = PositionTyped2{T}(0,0,0)"
   ]
  },
  {
   "cell_type": "code",
   "execution_count": 110,
   "metadata": {},
   "outputs": [
    {
     "data": {
      "text/plain": [
       "PositionTyped2{Float32}(0.0f0, 0.0f0, 0.0f0)"
      ]
     },
     "execution_count": 110,
     "metadata": {},
     "output_type": "execute_result"
    }
   ],
   "source": [
    "p = PositionTyped2{Float32}()"
   ]
  },
  {
   "cell_type": "code",
   "execution_count": 111,
   "metadata": {},
   "outputs": [
    {
     "data": {
      "text/plain": [
       "PositionTyped2{Float64}(0.0, 0.0, 0.0)"
      ]
     },
     "execution_count": 111,
     "metadata": {},
     "output_type": "execute_result"
    }
   ],
   "source": [
    "p = PositionTyped2{Float64}()"
   ]
  },
  {
   "cell_type": "code",
   "execution_count": 112,
   "metadata": {},
   "outputs": [
    {
     "ename": "UndefVarError",
     "evalue": "UndefVarError: T not defined",
     "output_type": "error",
     "traceback": [
      "UndefVarError: T not defined",
      "",
      "Stacktrace:",
      " [1] PositionTyped2() at ./In[101]:8",
      " [2] top-level scope at In[112]:1"
     ]
    }
   ],
   "source": [
    "p = PositionTyped2{}()"
   ]
  },
  {
   "cell_type": "markdown",
   "metadata": {},
   "source": [
    "If we want to be able to instanciate a `PositionTyped2` without specifying the type\n",
    "we need to create a constructor"
   ]
  },
  {
   "cell_type": "code",
   "execution_count": 122,
   "metadata": {},
   "outputs": [
    {
     "data": {
      "text/plain": [
       "PositionTyped2"
      ]
     },
     "execution_count": 122,
     "metadata": {},
     "output_type": "execute_result"
    }
   ],
   "source": [
    "PositionTyped2() = PositionTyped2(0,0,0)"
   ]
  },
  {
   "cell_type": "code",
   "execution_count": 123,
   "metadata": {},
   "outputs": [
    {
     "data": {
      "text/plain": [
       "PositionTyped2{Int64}(0, 0, 0)"
      ]
     },
     "execution_count": 123,
     "metadata": {},
     "output_type": "execute_result"
    }
   ],
   "source": [
    "PositionTyped2{Int64}()"
   ]
  },
  {
   "cell_type": "code",
   "execution_count": 121,
   "metadata": {},
   "outputs": [
    {
     "data": {
      "text/plain": [
       "PositionTyped2{Int32}(0, 0, 0)"
      ]
     },
     "execution_count": 121,
     "metadata": {},
     "output_type": "execute_result"
    }
   ],
   "source": [
    "PositionTyped2{Int32}()"
   ]
  },
  {
   "cell_type": "markdown",
   "metadata": {},
   "source": [
    "#### Parametric types can depend on more than one type"
   ]
  },
  {
   "cell_type": "code",
   "execution_count": 89,
   "metadata": {},
   "outputs": [],
   "source": [
    "struct Position{T1,T2}\n",
    "    x::T1\n",
    "    y::T1\n",
    "    z::T2\n",
    "end"
   ]
  },
  {
   "cell_type": "code",
   "execution_count": 90,
   "metadata": {},
   "outputs": [
    {
     "data": {
      "text/plain": [
       "Position{Int64,Float64}(2, 3, 123.0)"
      ]
     },
     "execution_count": 90,
     "metadata": {},
     "output_type": "execute_result"
    }
   ],
   "source": [
    "Position(2,3,123.)"
   ]
  },
  {
   "cell_type": "markdown",
   "metadata": {},
   "source": [
    "# Set restrictions on custom types\n",
    "\n",
    "\n",
    "Sometimes we don't want to have types that are too general and can be missused by the end user in unnexpected ways. In order to avoid this we can put restrictions.\n",
    "\n",
    "#### Position example: Coordinates should be Numbers\n",
    "\n",
    "For example, our `Position` type can be created to be used only with numbers inside its fieldnames, nevertheless, our previous definition\n",
    "\n",
    "``` Julia\n",
    "type Position{T}\n",
    "    x::T\n",
    "    y::T\n",
    "    z::T\n",
    "end\n",
    "```\n",
    "\n",
    "can accept any `Type` inside the fields `x`, `y` and `z` as long as it's the same type for all fieldnames. \n",
    "\n",
    "``` Julia\n",
    "Point(\"This\", \"is\", \"unnexpected\")\n",
    "```\n",
    "```\n",
    "Point{String}(\"This\",\"is\",\"unnexpected\")\n",
    "```\n",
    "\n",
    "#### Using the subtype operator <:\n",
    "\n",
    "The operator **`<:`** allows us to verify if a `Type` is subtype of an `AbstractType`.\n"
   ]
  },
  {
   "cell_type": "code",
   "execution_count": 91,
   "metadata": {},
   "outputs": [
    {
     "data": {
      "text/plain": [
       "true"
      ]
     },
     "execution_count": 91,
     "metadata": {},
     "output_type": "execute_result"
    }
   ],
   "source": [
    "Int64 <: Real"
   ]
  },
  {
   "cell_type": "code",
   "execution_count": 92,
   "metadata": {},
   "outputs": [],
   "source": [
    "mutable struct PositionUnrestricted\n",
    "    x\n",
    "    y\n",
    "    z\n",
    "end"
   ]
  },
  {
   "cell_type": "code",
   "execution_count": 93,
   "metadata": {},
   "outputs": [
    {
     "data": {
      "text/plain": [
       "PositionUnrestricted(\"This\", \"is\", \"unnexpected\")"
      ]
     },
     "execution_count": 93,
     "metadata": {},
     "output_type": "execute_result"
    }
   ],
   "source": [
    "PositionUnrestricted(\"This\", \"is\", \"unnexpected\")"
   ]
  },
  {
   "cell_type": "code",
   "execution_count": 94,
   "metadata": {},
   "outputs": [],
   "source": [
    "mutable struct PositionRestricted{T<:Real}\n",
    "    x::T\n",
    "    y::T\n",
    "    z::T\n",
    "end"
   ]
  },
  {
   "cell_type": "code",
   "execution_count": 96,
   "metadata": {},
   "outputs": [
    {
     "ename": "MethodError",
     "evalue": "MethodError: no method matching PositionRestricted(::String, ::String, ::String)",
     "output_type": "error",
     "traceback": [
      "MethodError: no method matching PositionRestricted(::String, ::String, ::String)",
      "",
      "Stacktrace:",
      " [1] top-level scope at In[96]:1"
     ]
    }
   ],
   "source": [
    "# Now the following Position with fields taking String values is not accepted\n",
    "PositionRestricted(\"This\", \"is\", \"unnexpected\")"
   ]
  },
  {
   "cell_type": "markdown",
   "metadata": {},
   "source": [
    "## Set default values for a custom type\n",
    "\n",
    "Constructors can be used to generate ways to construct custom types. This could be usefull, for example, in order to set default values to your custom types."
   ]
  },
  {
   "cell_type": "code",
   "execution_count": 97,
   "metadata": {},
   "outputs": [
    {
     "data": {
      "text/plain": [
       "PositionWithDefault"
      ]
     },
     "execution_count": 97,
     "metadata": {},
     "output_type": "execute_result"
    }
   ],
   "source": [
    "mutable struct PositionWithDefault{T}\n",
    "    x::T\n",
    "    y::T\n",
    "    z::T\n",
    "end\n",
    "\n",
    "# Make a constructor that sets some default values \n",
    "PositionWithDefault(x,y) = Position(x,y,0)\n",
    "\n",
    "# Make a constructor that sets all values as default\n",
    "PositionWithDefault() = Position(0,0,0)"
   ]
  },
  {
   "cell_type": "code",
   "execution_count": 100,
   "metadata": {},
   "outputs": [
    {
     "data": {
      "text/plain": [
       "Position{Int64,Int64}(10, 10, 0)"
      ]
     },
     "execution_count": 100,
     "metadata": {},
     "output_type": "execute_result"
    }
   ],
   "source": [
    "PositionWithDefault(10, 10)"
   ]
  },
  {
   "cell_type": "code",
   "execution_count": 105,
   "metadata": {},
   "outputs": [
    {
     "data": {
      "text/plain": [
       "Position{Int64,Int64}(0, 0, 0)"
      ]
     },
     "execution_count": 105,
     "metadata": {},
     "output_type": "execute_result"
    }
   ],
   "source": [
    "PositionWithDefault()"
   ]
  },
  {
   "cell_type": "markdown",
   "metadata": {},
   "source": [
    "Obviously we can add `Position(x,y) = Position(x,y,0)` as a new constructor without actually creating a new struct `PositionWithDefault`."
   ]
  },
  {
   "cell_type": "code",
   "execution_count": 102,
   "metadata": {
    "scrolled": true
   },
   "outputs": [
    {
     "ename": "MethodError",
     "evalue": "MethodError: no method matching Position(::Int64, ::Int64)\nClosest candidates are:\n  Position(::T1, ::T1, !Matched::T2) where {T1, T2} at In[89]:2",
     "output_type": "error",
     "traceback": [
      "MethodError: no method matching Position(::Int64, ::Int64)\nClosest candidates are:\n  Position(::T1, ::T1, !Matched::T2) where {T1, T2} at In[89]:2",
      "",
      "Stacktrace:",
      " [1] top-level scope at In[102]:1"
     ]
    }
   ],
   "source": [
    "Position(10, 10)"
   ]
  },
  {
   "cell_type": "code",
   "execution_count": 103,
   "metadata": {},
   "outputs": [
    {
     "data": {
      "text/plain": [
       "Position"
      ]
     },
     "execution_count": 103,
     "metadata": {},
     "output_type": "execute_result"
    }
   ],
   "source": [
    "Position(x,y) = Position(x,y,0)"
   ]
  },
  {
   "cell_type": "code",
   "execution_count": 104,
   "metadata": {},
   "outputs": [
    {
     "data": {
      "text/plain": [
       "Position{Int64,Int64}(10, 10, 0)"
      ]
     },
     "execution_count": 104,
     "metadata": {},
     "output_type": "execute_result"
    }
   ],
   "source": [
    "Position(10, 10)"
   ]
  },
  {
   "cell_type": "markdown",
   "metadata": {},
   "source": [
    "# Set restrictions for custom types, inner constructors\n",
    "\n",
    "**We can enforce properties for fields of a custom type in its construction** using inner constructors with restrictions.\n",
    "\n",
    "We can add a function inside a type used to instanciate the type.\n",
    "\n",
    "This function can be used for example in order to..\n",
    "\n",
    "- Put restrictions on the type, such as..\n",
    "     - not allow negative values \n",
    "     - Not allow 'rare' characters"
   ]
  },
  {
   "cell_type": "code",
   "execution_count": 156,
   "metadata": {},
   "outputs": [],
   "source": [
    "mutable struct OrderedPair\n",
    "  x::Real\n",
    "  y::Real\n",
    "  OrderedPair(x,y) = x > y ? error(\"out of order, x=$x should be bigger than y=$y\") : new(x,y)\n",
    "end"
   ]
  },
  {
   "cell_type": "code",
   "execution_count": 157,
   "metadata": {
    "scrolled": true
   },
   "outputs": [
    {
     "data": {
      "text/plain": [
       "OrderedPair(1, 10)"
      ]
     },
     "execution_count": 157,
     "metadata": {},
     "output_type": "execute_result"
    }
   ],
   "source": [
    "OrderedPair(1,10)"
   ]
  },
  {
   "cell_type": "code",
   "execution_count": 159,
   "metadata": {},
   "outputs": [
    {
     "ename": "ErrorException",
     "evalue": "out of order, x=10 should be bigger than y=1",
     "output_type": "error",
     "traceback": [
      "out of order, x=10 should be bigger than y=1",
      "",
      "Stacktrace:",
      " [1] error(::String) at ./error.jl:33",
      " [2] OrderedPair(::Int64, ::Int64) at ./In[156]:4",
      " [3] top-level scope at In[159]:1"
     ]
    }
   ],
   "source": [
    "# This is not a valid ordered pair\n",
    "OrderedPair(10,1)"
   ]
  },
  {
   "cell_type": "markdown",
   "metadata": {},
   "source": [
    "## Parametric types with restrictions\n",
    "#### inner constructor for parametric types => outer constructor needed"
   ]
  },
  {
   "cell_type": "code",
   "execution_count": 2,
   "metadata": {},
   "outputs": [
    {
     "data": {
      "text/plain": [
       "OrderedPairParametric{Int64}(1, 10)"
      ]
     },
     "execution_count": 2,
     "metadata": {},
     "output_type": "execute_result"
    }
   ],
   "source": [
    "struct OrderedPairParametric{T}\n",
    "  x::T\n",
    "  y::T \n",
    "  OrderedPairParametric(x::T,y::T) where {T<:Any} = x > y ? error(\"x=$x should be bigger than y=$y\") : new{T}(x,y)\n",
    "end\n",
    "\n",
    "# THIS WILL NOT WORK we need an outer constructor if the type contains functions\n",
    "# Notice that \n",
    "#     OrderedPair(x,y) = x > y ? error(\"out of order\") : new(x,y) \n",
    "# is a function\n",
    "OrderedPairParametric(1,10)"
   ]
  },
  {
   "cell_type": "code",
   "execution_count": 8,
   "metadata": {},
   "outputs": [
    {
     "data": {
      "text/plain": [
       "OrderedPairParametric{Float64}(1.0, 10.0)"
      ]
     },
     "execution_count": 8,
     "metadata": {},
     "output_type": "execute_result"
    }
   ],
   "source": [
    "x = OrderedPairParametric(1.,10.)"
   ]
  },
  {
   "cell_type": "code",
   "execution_count": 4,
   "metadata": {},
   "outputs": [
    {
     "ename": "ErrorException",
     "evalue": "x=13.0 should be bigger than y=10.0",
     "output_type": "error",
     "traceback": [
      "x=13.0 should be bigger than y=10.0",
      "",
      "Stacktrace:",
      " [1] error(::String) at ./error.jl:33",
      " [2] OrderedPairParametric(::Float64, ::Float64) at ./In[2]:4",
      " [3] top-level scope at In[4]:1"
     ]
    }
   ],
   "source": [
    "OrderedPairParametric(13.,10.)"
   ]
  },
  {
   "cell_type": "code",
   "execution_count": 183,
   "metadata": {},
   "outputs": [
    {
     "ename": "MethodError",
     "evalue": "MethodError: no method matching OrderedPairParametric()\nClosest candidates are:\n  OrderedPairParametric(!Matched::T, !Matched::T) where T at In[180]:4\n  OrderedPairParametric(!Matched::Any, !Matched::Any) at In[170]:4",
     "output_type": "error",
     "traceback": [
      "MethodError: no method matching OrderedPairParametric()\nClosest candidates are:\n  OrderedPairParametric(!Matched::T, !Matched::T) where T at In[180]:4\n  OrderedPairParametric(!Matched::Any, !Matched::Any) at In[170]:4",
      "",
      "Stacktrace:",
      " [1] top-level scope at In[183]:1"
     ]
    }
   ],
   "source": [
    "OrderedPairParametric()"
   ]
  },
  {
   "cell_type": "code",
   "execution_count": 186,
   "metadata": {},
   "outputs": [
    {
     "data": {
      "text/plain": [
       "OrderedPairParametric{Int64}(0, 1)"
      ]
     },
     "execution_count": 186,
     "metadata": {},
     "output_type": "execute_result"
    }
   ],
   "source": [
    "OrderedPairParametric() = OrderedPairParametric(0,1)\n",
    "OrderedPairParametric()"
   ]
  },
  {
   "cell_type": "markdown",
   "metadata": {},
   "source": [
    "## Make custom print for a custom type\n",
    "\n",
    "Sometimes a `struct might contain too much information`. We can make a custom `show` method for a struct that allows us to define what will be shown in the REPL when we `print(x)` for `x::T`.\n"
   ]
  },
  {
   "cell_type": "code",
   "execution_count": 14,
   "metadata": {},
   "outputs": [],
   "source": [
    "import Base.show"
   ]
  },
  {
   "cell_type": "code",
   "execution_count": 15,
   "metadata": {},
   "outputs": [
    {
     "data": {
      "text/plain": [
       "OrderedPairParametric: x=1.0, y=10.0"
      ]
     },
     "execution_count": 15,
     "metadata": {},
     "output_type": "execute_result"
    }
   ],
   "source": [
    "x"
   ]
  },
  {
   "cell_type": "code",
   "execution_count": 16,
   "metadata": {},
   "outputs": [],
   "source": [
    "Base.show(io::IO, p::OrderedPairParametric) = print(io, \"OrderedPairParametric: x=$(p.x), y=$(p.y)\")"
   ]
  },
  {
   "cell_type": "code",
   "execution_count": 17,
   "metadata": {},
   "outputs": [
    {
     "data": {
      "text/plain": [
       "OrderedPairParametric: x=1.0, y=10.0"
      ]
     },
     "execution_count": 17,
     "metadata": {},
     "output_type": "execute_result"
    }
   ],
   "source": [
    "x"
   ]
  },
  {
   "cell_type": "code",
   "execution_count": 18,
   "metadata": {},
   "outputs": [
    {
     "name": "stdout",
     "output_type": "stream",
     "text": [
      "OrderedPairParametric: x=1.0, y=10.0"
     ]
    }
   ],
   "source": [
    "print(x)"
   ]
  },
  {
   "cell_type": "code",
   "execution_count": null,
   "metadata": {
    "collapsed": true
   },
   "outputs": [],
   "source": []
  },
  {
   "cell_type": "code",
   "execution_count": null,
   "metadata": {
    "collapsed": true
   },
   "outputs": [],
   "source": []
  }
 ],
 "metadata": {
  "kernelspec": {
   "display_name": "Julia 1.0.0",
   "language": "julia",
   "name": "julia-1.0"
  },
  "language_info": {
   "file_extension": ".jl",
   "mimetype": "application/julia",
   "name": "julia",
   "version": "1.0.1"
  }
 },
 "nbformat": 4,
 "nbformat_minor": 1
}
