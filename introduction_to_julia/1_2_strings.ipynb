{
 "cells": [
  {
   "cell_type": "markdown",
   "metadata": {
    "toc": true
   },
   "source": [
    "<h1>Table of Contents<span class=\"tocSkip\"></span></h1>\n",
    "<div class=\"toc\"><ul class=\"toc-item\"><li><span><a href=\"#Characters-and-Strings-in-julia\" data-toc-modified-id=\"Characters-and-Strings-in-julia-1\"><span class=\"toc-item-num\">1&nbsp;&nbsp;</span>Characters and Strings in julia</a></span><ul class=\"toc-item\"><li><span><a href=\"#Characters:-the-Char-type\" data-toc-modified-id=\"Characters:-the-Char-type-1.1\"><span class=\"toc-item-num\">1.1&nbsp;&nbsp;</span>Characters: the <code>Char</code> type</a></span><ul class=\"toc-item\"><li><ul class=\"toc-item\"><li><span><a href=\"#ASCII-character-encoding\" data-toc-modified-id=\"ASCII-character-encoding-1.1.0.1\"><span class=\"toc-item-num\">1.1.0.1&nbsp;&nbsp;</span>ASCII character encoding</a></span></li></ul></li><li><span><a href=\"#Beyond-ASCII-characters\" data-toc-modified-id=\"Beyond-ASCII-characters-1.1.1\"><span class=\"toc-item-num\">1.1.1&nbsp;&nbsp;</span>Beyond ASCII characters</a></span></li><li><span><a href=\"#UTF-8-encoding\" data-toc-modified-id=\"UTF-8-encoding-1.1.2\"><span class=\"toc-item-num\">1.1.2&nbsp;&nbsp;</span>UTF-8 encoding</a></span><ul class=\"toc-item\"><li><span><a href=\"#About-UTF-8\" data-toc-modified-id=\"About-UTF-8-1.1.2.1\"><span class=\"toc-item-num\">1.1.2.1&nbsp;&nbsp;</span>About UTF-8</a></span></li></ul></li></ul></li><li><span><a href=\"#Strings:-the-String-type\" data-toc-modified-id=\"Strings:-the-String-type-1.2\"><span class=\"toc-item-num\">1.2&nbsp;&nbsp;</span>Strings: the <code>String</code> type</a></span><ul class=\"toc-item\"><li><span><a href=\"#String-interpolations\" data-toc-modified-id=\"String-interpolations-1.2.1\"><span class=\"toc-item-num\">1.2.1&nbsp;&nbsp;</span>String interpolations</a></span><ul class=\"toc-item\"><li><span><a href=\"#Subsets-of-a-String\" data-toc-modified-id=\"Subsets-of-a-String-1.2.1.1\"><span class=\"toc-item-num\">1.2.1.1&nbsp;&nbsp;</span>Subsets of a String</a></span></li><li><span><a href=\"#Strings-with-characters-that-take-multiples-bytes\" data-toc-modified-id=\"Strings-with-characters-that-take-multiples-bytes-1.2.1.2\"><span class=\"toc-item-num\">1.2.1.2&nbsp;&nbsp;</span>Strings with characters that take multiples bytes</a></span></li><li><span><a href=\"#Not-fully-understood\" data-toc-modified-id=\"Not-fully-understood-1.2.1.3\"><span class=\"toc-item-num\">1.2.1.3&nbsp;&nbsp;</span>Not fully understood</a></span></li></ul></li></ul></li></ul></li><li><span><a href=\"#Regular-expressions\" data-toc-modified-id=\"Regular-expressions-2\"><span class=\"toc-item-num\">2&nbsp;&nbsp;</span>Regular expressions</a></span></li></ul></div>"
   ]
  },
  {
   "cell_type": "markdown",
   "metadata": {},
   "source": [
    "\n",
    "# Characters and Strings in julia\n",
    "\n",
    "\n",
    "## Characters: the `Char` type\n",
    "\n",
    "#### ASCII character encoding\n",
    "\n",
    "Characters are simply symbols such as letters {`A, B, C,` ...} , punctuations symbols {`;,:,`...} or digits {`1,2,3,`...}. In English these characters are standardized together with a mapping to integer values between 0 and 127 by the ASCII (American Standard Code for Interchanging Information) standard. \n",
    "\n",
    "\n",
    "Julia has the type `Char` which is used to define a character. Characters are defined between single quotes.\n",
    "```julia\n",
    "x = 't'\n",
    "typeof(x)\n",
    "Char\n",
    "```\n",
    "\n",
    "We can use the following julia code to print the first letters of the alphabet with the integer values assigned to them in the ASCII encoding.\n",
    "```julia\n",
    "for j in 65:70\n",
    "    println(\"Character: \",Char(j) , \",   number: \", j, \",   binary format: \", bits(Int8(j)))\n",
    "end\n",
    "```\n",
    "Will print the following\n",
    "```\n",
    "Character: A,   number: 65,   binary format: 01000001\n",
    "Character: B,   number: 66,   binary format: 01000010\n",
    "Character: C,   number: 67,   binary format: 01000011\n",
    "Character: D,   number: 68,   binary format: 01000100\n",
    "Character: E,   number: 69,   binary format: 01000101\n",
    "Character: F,   number: 70,   binary format: 01000110\n",
    "```\n"
   ]
  },
  {
   "cell_type": "code",
   "execution_count": 3,
   "metadata": {},
   "outputs": [
    {
     "data": {
      "text/plain": [
       "Char"
      ]
     },
     "execution_count": 3,
     "metadata": {},
     "output_type": "execute_result"
    }
   ],
   "source": [
    "x = 't'\n",
    "typeof(x)"
   ]
  },
  {
   "cell_type": "code",
   "execution_count": 4,
   "metadata": {
    "scrolled": true
   },
   "outputs": [
    {
     "data": {
      "text/plain": [
       "(65, 97)"
      ]
     },
     "execution_count": 4,
     "metadata": {},
     "output_type": "execute_result"
    }
   ],
   "source": [
    "Int('A'), Int('a')"
   ]
  },
  {
   "cell_type": "markdown",
   "metadata": {},
   "source": [
    "We can convert `Char` types to integers to get the numeric integer associated to each charater. "
   ]
  },
  {
   "cell_type": "code",
   "execution_count": 5,
   "metadata": {
    "scrolled": true
   },
   "outputs": [
    {
     "data": {
      "text/plain": [
       "(32, 33)"
      ]
     },
     "execution_count": 5,
     "metadata": {},
     "output_type": "execute_result"
    }
   ],
   "source": [
    "Int(' '), Int('!')"
   ]
  },
  {
   "cell_type": "markdown",
   "metadata": {},
   "source": [
    "We can also convert integers to characters using `Char(x)` for a given integer `x`."
   ]
  },
  {
   "cell_type": "code",
   "execution_count": 10,
   "metadata": {},
   "outputs": [
    {
     "name": "stdout",
     "output_type": "stream",
     "text": [
      "Character: A,   number: 65,   binary format: 01000001\n",
      "Character: B,   number: 66,   binary format: 01000010\n",
      "Character: C,   number: 67,   binary format: 01000011\n",
      "Character: D,   number: 68,   binary format: 01000100\n",
      "Character: E,   number: 69,   binary format: 01000101\n",
      "Character: F,   number: 70,   binary format: 01000110\n"
     ]
    }
   ],
   "source": [
    "for j in 65:70\n",
    "    println(\"Character: \",Char(j) , \",   number: \", j, \",   binary format: \", bitstring(Int8(j)))\n",
    "end"
   ]
  },
  {
   "cell_type": "markdown",
   "metadata": {},
   "source": [
    "There are some \"special\" characters that do not have any special symbol assigned to them. These characters from the ASCII encoding are usually written using combinations standard symbols, for example `x = '\\x01'` is the first ASCII character.\n"
   ]
  },
  {
   "cell_type": "code",
   "execution_count": 105,
   "metadata": {},
   "outputs": [
    {
     "data": {
      "text/plain": [
       "Char"
      ]
     },
     "execution_count": 105,
     "metadata": {},
     "output_type": "execute_result"
    }
   ],
   "source": [
    "typeof('\\x01')"
   ]
  },
  {
   "cell_type": "code",
   "execution_count": 128,
   "metadata": {},
   "outputs": [
    {
     "data": {
      "text/plain": [
       "10-element Array{Char,1}:\n",
       " '\\x01'\n",
       " '\\x02'\n",
       " '\\x03'\n",
       " '\\x04'\n",
       " '\\x05'\n",
       " '\\x06'\n",
       " '\\a'  \n",
       " '\\b'  \n",
       " '\\t'  \n",
       " '\\n'  "
      ]
     },
     "execution_count": 128,
     "metadata": {},
     "output_type": "execute_result"
    }
   ],
   "source": [
    "[Char(x) for x in 1:10]"
   ]
  },
  {
   "cell_type": "markdown",
   "metadata": {},
   "source": [
    "### Beyond ASCII characters\n",
    "\n",
    "\n",
    "In order to verify if a character is in ASCII, julia has the function **`isascii`** function. ASCII characters are coded using integers values between 0 and 127. Nevertheless there are many more symbols used in a day to day basis than the ones present in ASCII.\n",
    "\n",
    "\n",
    "\n"
   ]
  },
  {
   "cell_type": "code",
   "execution_count": 342,
   "metadata": {},
   "outputs": [
    {
     "data": {
      "text/plain": [
       "(true, true, false)"
      ]
     },
     "execution_count": 342,
     "metadata": {},
     "output_type": "execute_result"
    }
   ],
   "source": [
    "isascii(Char(0)), isascii(Char(127)), isascii(Char(128))"
   ]
  },
  {
   "cell_type": "code",
   "execution_count": 216,
   "metadata": {},
   "outputs": [
    {
     "data": {
      "text/plain": [
       "(true, false)"
      ]
     },
     "execution_count": 216,
     "metadata": {},
     "output_type": "execute_result"
    }
   ],
   "source": [
    "isascii('c'), isascii('ç')"
   ]
  },
  {
   "cell_type": "markdown",
   "metadata": {},
   "source": [
    "### UTF-8 encoding\n",
    "\n",
    "In order to use more symbols than the 128 symbols that we can define with a single byte of information, the Unicode consortium was created. This consortium assigns to all the symbols, of all languages, a unique integer value. Unicode characters extend ASCII into a huge number of symbols. https://unicode-table.com/en/#hangul-jamo.\n",
    "\n",
    "\n",
    "UTF-8 is a variable width character encoding capable of encoding all 1,112,064 Unicode symbols using from one up to four 8-bit bytes. The UTF-8 encoding have the properties\n",
    "\n",
    "- 1-byte encodings are for characters from 0 to 127. Those values are equivalent to ASCII. \n",
    "  - `2^7-1=127`.\n",
    "\n",
    "- 2-byte encodings are for characters from 128 to 2047. \n",
    "  - `2^11-1=2047`.\n",
    "\n",
    "- 3-byte encodings are for characters from 2048 to 65535. \n",
    "  - `2^16-1= 65535`.\n",
    "\n",
    "- 4-byte encodings are for characters from 65536 to 1,112,064.\n",
    "  -  `2^21-1= 2097151` (DOES NOT MATCH!)\n",
    "\n",
    "A summary of the byte representation can be found in the following table\n",
    "\n",
    "\n",
    "```\n",
    "Bytes Bits  Byte representation\n",
    "1     7\t  0xxxxxxx\t\t\t\n",
    "2     11     110xxxxx\t10xxxxxx\t\t\n",
    "3     16     1110xxxx\t10xxxxxx\t10xxxxxx\t\n",
    "4     21     11110xxx\t10xxxxxx\t10xxxxxx\t10xxxxxx\n",
    "```\n",
    "\n",
    "Let us go into the details of the representation\n",
    "\n",
    "- 1-byte encodings will have the form\n",
    "```\n",
    "    [0XXXXXXX]\n",
    "```\n",
    "Notice that this encoding allways has the 8'th bit set to 0. That means  they will have the form `0XXXXXXX`. The following 7 bits will code the numbers from 0 up to `2^7-1` integers, which will have the same mapping as the one given by ASCII.\n",
    "  - For example, the UTF-8 encoding for letter  `A` is \"01000001\". All \n",
    "\n",
    "\n",
    "- 2-byte encodings will have the form \n",
    "```\n",
    "    [110XXXXX , 10XXXXXX]\n",
    "```\n",
    "The first three-order bits of the first byte are set to `\"110\"`. The first two high-order bits of the second byte are set to `\"10\"`. This representations give is 5+6 = 11 bites to encode up to the integer `2^11-1=2047`.\n",
    "\n",
    "\n",
    "- 3-byte encodings will have the form\n",
    "```\n",
    "    [1110XXXX , 10XXXXXX, 10XXXXXX]\n",
    "```\n",
    "The first 4 bits of the first byte are set to `\"1110\"`. The first 2 bits of the second and third bytes are set to `\"10\"`. This allow us to represent integers up to `4+6+6=16` bits. That is up to `2^16-1= 65535`.\n",
    "\n",
    "\n",
    "- 4-byte encodings will have the form\n",
    "```\n",
    "    [11110XXX , 10XXXXXX, 10XXXXXX, 10XXXXXX]\n",
    "```\n",
    "The first 5 bits of the first byte are set to `\"11110\"`. The first 2 bits of the second,  third and fourth bytes are set to `\"10\"`. This allow us to represent integers up to `3+6+6+6=21` bits. That is up to `2^21-1= 2097151` (THIS DOES NOT MATCH WIKIPEDIA!)\n",
    "\n"
   ]
  },
  {
   "cell_type": "code",
   "execution_count": 362,
   "metadata": {
    "scrolled": true
   },
   "outputs": [
    {
     "data": {
      "text/plain": [
       "(127, 2047, 65535, 2097151)"
      ]
     },
     "execution_count": 362,
     "metadata": {},
     "output_type": "execute_result"
    }
   ],
   "source": [
    "2^7-1, 2^11-1 ,2^16-1, 2^21-1"
   ]
  },
  {
   "cell_type": "code",
   "execution_count": 346,
   "metadata": {},
   "outputs": [
    {
     "data": {
      "text/plain": [
       "(\"01000001\", 'A')"
      ]
     },
     "execution_count": 346,
     "metadata": {},
     "output_type": "execute_result"
    }
   ],
   "source": [
    "bits(Int8(65)), Char(65)"
   ]
  },
  {
   "cell_type": "code",
   "execution_count": 217,
   "metadata": {},
   "outputs": [
    {
     "data": {
      "text/plain": [
       "'ú': Unicode U+00fa (category Ll: Letter, lowercase)"
      ]
     },
     "execution_count": 217,
     "metadata": {},
     "output_type": "execute_result"
    }
   ],
   "source": [
    "whatever_integer = 250\n",
    "Char(whatever_integer)"
   ]
  },
  {
   "cell_type": "markdown",
   "metadata": {},
   "source": [
    "\n",
    "Even though there are many Unicode characters, not all integers are linked to a  valid Unicode character. For performance reasons, `Char()` does not check if the input value is valid. If you want to check that each converted value is a valid code point, use the **`isvalid()`** function.\n",
    "\n"
   ]
  },
  {
   "cell_type": "code",
   "execution_count": 263,
   "metadata": {},
   "outputs": [
    {
     "data": {
      "text/plain": [
       "('丠', '\\U1e8480', true, false)"
      ]
     },
     "execution_count": 263,
     "metadata": {},
     "output_type": "execute_result"
    }
   ],
   "source": [
    "Char(20000), Char(2000000), isvalid(Char(1000000)), isvalid(Char(2000000))"
   ]
  },
  {
   "cell_type": "markdown",
   "metadata": {},
   "source": [
    "#### About UTF-8\n",
    "\n",
    "Characters encoded using ASCII need less memory than other characters in other ways (such as UTF-32). Since unicode uses numbers from 0 to 127, unicode characters can be encoded with a single byte. Recall that a byte is 8 bits and with 8 bits we can encode, in binary format, up to `2^7-1=127` different integer values. \n",
    "\n",
    "The following example shows that we need 2 bytes to save `é` into memory. Nevertheless we only need a single byte to save `e`.\n",
    "```julia\n",
    "sizeof(\"e\"),sizeof(\"é\")\n",
    "(2, 1)\n",
    "```\n",
    "\n",
    "Therefore, if we want to make efficient character string processing applications, as long as they use only \"english\" symbols we should try to focus on ASCII characters."
   ]
  },
  {
   "cell_type": "code",
   "execution_count": 305,
   "metadata": {},
   "outputs": [
    {
     "data": {
      "text/plain": [
       "(1, 2)"
      ]
     },
     "execution_count": 305,
     "metadata": {},
     "output_type": "execute_result"
    }
   ],
   "source": [
    "sizeof(\"e\"), sizeof(\"é\")"
   ]
  },
  {
   "cell_type": "markdown",
   "metadata": {},
   "source": [
    "\n",
    "## Strings: the `String` type\n",
    "\n",
    "Strings are sequences of characters. Strings are defined between quotes. For example, `x = \"This is a string\"`, is a `string`. In the event that a string contains quotes inside we have to define it with three quotes `\"\"\"` instead of a single one.\n",
    "\n",
    "```julia\n",
    "x = \"This string will get an \"error\" since it is not clear where it ends.\"\n",
    "y = \"\"\"This string will not get an \"error\"  message.\"\"\"\n",
    "```\n",
    "\n",
    "\n",
    "\n",
    "In order to verify if a string is in ASCII, julia has the function **`isascii`** which returns `true` if all the characters of the `string` anre ASCII (and false otherwise).\n",
    "```julia\n",
    "println(isascii(\"hunter\"), \" \",  isascii(\"caçador\"))\n",
    "true false\n",
    "```\n",
    "\n",
    "There are many other characters used in non-English languages, including variants of the ASCII characters with accents and other modifications, related scripts such as Cyrillic and Greek, and scripts completely unrelated to ASCII and English, including Arabic, Chinese, Hebrew, Hindi, Japanese, and Korean. \n",
    "\n",
    "\n",
    "The Unicode standard tackles the complexities of what exactly a character is, and is generally accepted as the definitive standard addressing this problem. Depending on your needs, you can either ignore these complexities entirely and just pretend that only ASCII characters exist, or you can write code that can handle any of the characters or encodings that one may encounter when handling non-ASCII text. \n",
    "\n",
    "Julia makes dealing with plain ASCII text simple and efficient, and handling Unicode is as simple and efficient as possible. In particular, you can write C-style string code to process ASCII strings, and they will work as expected, both in terms of performance and semantics. If such code encounters non-ASCII text, it will gracefully fail with a clear error message, rather than silently introducing corrupt results. When this happens, modifying the code to handle non-ASCII data is straightforward.\n",
    "\n"
   ]
  },
  {
   "cell_type": "code",
   "execution_count": 136,
   "metadata": {},
   "outputs": [
    {
     "data": {
      "text/plain": [
       "String"
      ]
     },
     "execution_count": 136,
     "metadata": {},
     "output_type": "execute_result"
    }
   ],
   "source": [
    "a = \"the house is big\"\n",
    "typeof(a)"
   ]
  },
  {
   "cell_type": "code",
   "execution_count": 137,
   "metadata": {},
   "outputs": [
    {
     "name": "stdout",
     "output_type": "stream",
     "text": [
      "true false\n"
     ]
    }
   ],
   "source": [
    "println(isascii(\"hunter\"),\" \",  isascii(\"caçador\"))"
   ]
  },
  {
   "cell_type": "code",
   "execution_count": 138,
   "metadata": {},
   "outputs": [
    {
     "data": {
      "text/plain": [
       "\"This string will get an \\\"error\\\" since it is not clear where it ends\""
      ]
     },
     "execution_count": 138,
     "metadata": {},
     "output_type": "execute_result"
    }
   ],
   "source": [
    "x = \"\"\"This string will get an \"error\" since it is not clear where it ends\"\"\""
   ]
  },
  {
   "cell_type": "markdown",
   "metadata": {},
   "source": [
    "\n",
    "### String interpolations"
   ]
  },
  {
   "cell_type": "code",
   "execution_count": 146,
   "metadata": {},
   "outputs": [
    {
     "data": {
      "text/plain": [
       "\"This joints both strings\""
      ]
     },
     "execution_count": 146,
     "metadata": {},
     "output_type": "execute_result"
    }
   ],
   "source": [
    "string(\"This joints \", \"both strings\")"
   ]
  },
  {
   "cell_type": "code",
   "execution_count": 148,
   "metadata": {},
   "outputs": [
    {
     "data": {
      "text/plain": [
       "\"We can join 2 or more strings\""
      ]
     },
     "execution_count": 148,
     "metadata": {},
     "output_type": "execute_result"
    }
   ],
   "source": [
    "string(\"We can join \", 2, \" or more strings\")"
   ]
  },
  {
   "cell_type": "code",
   "execution_count": 151,
   "metadata": {},
   "outputs": [
    {
     "data": {
      "text/plain": [
       "\"This joints both strings\""
      ]
     },
     "execution_count": 151,
     "metadata": {},
     "output_type": "execute_result"
    }
   ],
   "source": [
    "x = \"This joints \"\n",
    "y = \"both strings\"\n",
    "\n",
    "x * y"
   ]
  },
  {
   "cell_type": "code",
   "execution_count": 167,
   "metadata": {},
   "outputs": [
    {
     "name": "stdout",
     "output_type": "stream",
     "text": [
      "We can also use the $ symbol inside a string to interpolate: This joints both strings"
     ]
    }
   ],
   "source": [
    "print(\"We can also use the \\$ symbol inside a string to interpolate: $x$y\")"
   ]
  },
  {
   "cell_type": "code",
   "execution_count": 168,
   "metadata": {
    "scrolled": true
   },
   "outputs": [
    {
     "data": {
      "text/plain": [
       "\"This joints both strings\""
      ]
     },
     "execution_count": 168,
     "metadata": {},
     "output_type": "execute_result"
    }
   ],
   "source": [
    "\"$x$y\""
   ]
  },
  {
   "cell_type": "markdown",
   "metadata": {},
   "source": [
    "#### Subsets of a String\n",
    "\n",
    "\n",
    "Notice that  if `str` is a string, `str[k]` is `Char` but `str[k:k+n]` is another string. "
   ]
  },
  {
   "cell_type": "code",
   "execution_count": 386,
   "metadata": {},
   "outputs": [
    {
     "data": {
      "text/plain": [
       "\"Hello, world.\\n\""
      ]
     },
     "execution_count": 386,
     "metadata": {},
     "output_type": "execute_result"
    }
   ],
   "source": [
    "str = \"Hello, world.\\n\""
   ]
  },
  {
   "cell_type": "code",
   "execution_count": 391,
   "metadata": {},
   "outputs": [
    {
     "data": {
      "text/plain": [
       "'\\n': ASCII/Unicode U+000a (category Cc: Other, control)"
      ]
     },
     "execution_count": 391,
     "metadata": {},
     "output_type": "execute_result"
    }
   ],
   "source": [
    "str[end]"
   ]
  },
  {
   "cell_type": "code",
   "execution_count": 392,
   "metadata": {},
   "outputs": [
    {
     "data": {
      "text/plain": [
       "Char"
      ]
     },
     "execution_count": 392,
     "metadata": {},
     "output_type": "execute_result"
    }
   ],
   "source": [
    "typeof(str[6])"
   ]
  },
  {
   "cell_type": "code",
   "execution_count": 455,
   "metadata": {},
   "outputs": [
    {
     "data": {
      "text/plain": [
       "String"
      ]
     },
     "execution_count": 455,
     "metadata": {},
     "output_type": "execute_result"
    }
   ],
   "source": [
    "typeof(str[6:6])"
   ]
  },
  {
   "cell_type": "markdown",
   "metadata": {},
   "source": [
    "#### Strings with characters that take multiples bytes\n",
    "\n",
    " UTF-8 is a variable-width encoding, meaning that not all characters are encoded in the same number of bytes. In UTF-8, ASCII characters — i.e. those with code points less than 0x80 (128) — are encoded as they are in ASCII, using a single byte, while code points 0x80 and above are encoded using multiple bytes — up to four per character. This means that not every byte index into a UTF-8 string is necessarily a valid index for a character. If you index into a string at such an invalid byte index, an error is thrown:"
   ]
  },
  {
   "cell_type": "code",
   "execution_count": 501,
   "metadata": {},
   "outputs": [
    {
     "data": {
      "text/plain": [
       "\"∀ x ∃ y\""
      ]
     },
     "execution_count": 501,
     "metadata": {},
     "output_type": "execute_result"
    }
   ],
   "source": [
    "s = \"\\u2200 x \\u2203 y\""
   ]
  },
  {
   "cell_type": "code",
   "execution_count": 505,
   "metadata": {},
   "outputs": [
    {
     "ename": "LoadError",
     "evalue": "\u001b[91m`utf32` has been moved to the package LegacyStrings.jl:\nRun Pkg.add(\"LegacyStrings\") to install LegacyStrings on Julia v0.5-;\nThen do `using LegacyStrings` to get `utf32`.\n\u001b[39m",
     "output_type": "error",
     "traceback": [
      "\u001b[91m`utf32` has been moved to the package LegacyStrings.jl:\nRun Pkg.add(\"LegacyStrings\") to install LegacyStrings on Julia v0.5-;\nThen do `using LegacyStrings` to get `utf32`.\n\u001b[39m",
      "",
      "Stacktrace:",
      " [1] \u001b[1minclude_string\u001b[22m\u001b[22m\u001b[1m(\u001b[22m\u001b[22m::String, ::String\u001b[1m)\u001b[22m\u001b[22m at \u001b[1m./loading.jl:515\u001b[22m\u001b[22m"
     ]
    }
   ],
   "source": [
    "utf32(s)"
   ]
  },
  {
   "cell_type": "code",
   "execution_count": 507,
   "metadata": {
    "scrolled": true
   },
   "outputs": [
    {
     "data": {
      "text/plain": [
       "(7, 11)"
      ]
     },
     "execution_count": 507,
     "metadata": {},
     "output_type": "execute_result"
    }
   ],
   "source": [
    "length(s), sizeof(s)"
   ]
  },
  {
   "cell_type": "code",
   "execution_count": 490,
   "metadata": {
    "scrolled": true
   },
   "outputs": [
    {
     "data": {
      "text/plain": [
       "'∀': Unicode U+2200 (category Sm: Symbol, math)"
      ]
     },
     "execution_count": 490,
     "metadata": {},
     "output_type": "execute_result"
    }
   ],
   "source": [
    "s[1]"
   ]
  },
  {
   "cell_type": "code",
   "execution_count": 508,
   "metadata": {},
   "outputs": [
    {
     "ename": "LoadError",
     "evalue": "\u001b[91mUnicodeError: invalid character index\u001b[39m",
     "output_type": "error",
     "traceback": [
      "\u001b[91mUnicodeError: invalid character index\u001b[39m",
      "",
      "Stacktrace:",
      " [1] \u001b[1mslow_utf8_next\u001b[22m\u001b[22m\u001b[1m(\u001b[22m\u001b[22m::Ptr{UInt8}, ::UInt8, ::Int64, ::Int64\u001b[1m)\u001b[22m\u001b[22m at \u001b[1m./strings/string.jl:172\u001b[22m\u001b[22m",
      " [2] \u001b[1mnext\u001b[22m\u001b[22m at \u001b[1m./strings/string.jl:204\u001b[22m\u001b[22m [inlined]",
      " [3] \u001b[1mgetindex\u001b[22m\u001b[22m\u001b[1m(\u001b[22m\u001b[22m::String, ::Int64\u001b[1m)\u001b[22m\u001b[22m at \u001b[1m./strings/basic.jl:32\u001b[22m\u001b[22m",
      " [4] \u001b[1minclude_string\u001b[22m\u001b[22m\u001b[1m(\u001b[22m\u001b[22m::String, ::String\u001b[1m)\u001b[22m\u001b[22m at \u001b[1m./loading.jl:515\u001b[22m\u001b[22m"
     ]
    }
   ],
   "source": [
    "s[2]"
   ]
  },
  {
   "cell_type": "markdown",
   "metadata": {},
   "source": [
    "In this case, the character ∀ is a three-byte character, so the indices 2 and 3 are invalid and the next character’s index is 4; this next valid index can be computed by nextind(s,1), and the next index after that by nextind(s,4) and so on.\n",
    "\n",
    "Because of variable-length encodings, the number of characters in a string (given by length(s)) is not always the same as the last index. If you iterate through the indices 1 through endof(s) and index into s, the sequence of characters returned when errors aren’t thrown is the sequence of characters comprising the string s. Thus we have the identity that length(s) <= endof(s), since each character in a string must have its own index. The following is an inefficient and verbose way to iterate through the characters of s:\n",
    "\n"
   ]
  },
  {
   "cell_type": "code",
   "execution_count": 499,
   "metadata": {},
   "outputs": [
    {
     "name": "stdout",
     "output_type": "stream",
     "text": [
      "∀ x ∃ y"
     ]
    }
   ],
   "source": [
    "for i = 1:endof(s)\n",
    "         try\n",
    "           print(s[i])\n",
    "        catch\n",
    "   # ignore the index error\n",
    "   end\n",
    "end"
   ]
  },
  {
   "cell_type": "markdown",
   "metadata": {},
   "source": [
    "The blank lines actually have spaces on them. Fortunately, the above awkward idiom is unnecessary for iterating through the characters in a string, since you can just use the string as an iterable object, no exception handling required:\n",
    "\n"
   ]
  },
  {
   "cell_type": "code",
   "execution_count": 500,
   "metadata": {},
   "outputs": [
    {
     "name": "stdout",
     "output_type": "stream",
     "text": [
      "∀ x ∃ y"
     ]
    }
   ],
   "source": [
    "for c in s\n",
    "    print(c)\n",
    "end"
   ]
  },
  {
   "cell_type": "markdown",
   "metadata": {},
   "source": [
    "`UTF-8` is not the only encoding that Julia supports, and adding support for new encodings is quite easy. In particular, Julia also provides `UTF16String` and `UTF32String` types, constructed by `utf16()` and `utf32()` respectively, for `UTF-16` and `UTF-32` encodings. It also provides aliases `WString` and `wstring()`for either `UTF-16` or `UTF-32` strings, depending on the size of `Cwchar_t`. \n",
    "\n",
    "Additional discussion of other encodings and how to implement support for them is beyond the scope of this document for the time being. For further discussion of `UTF-8` encoding issues, see the section below on byte array literals, which goes into some greater detail.\n",
    "\n"
   ]
  },
  {
   "cell_type": "markdown",
   "metadata": {},
   "source": [
    "#### Not fully understood"
   ]
  },
  {
   "cell_type": "code",
   "execution_count": 445,
   "metadata": {
    "scrolled": true
   },
   "outputs": [
    {
     "data": {
      "text/plain": [
       "'e': ASCII/Unicode U+0065 (category Ll: Letter, lowercase)"
      ]
     },
     "execution_count": 445,
     "metadata": {},
     "output_type": "execute_result"
    }
   ],
   "source": [
    "'\\u65'"
   ]
  },
  {
   "cell_type": "code",
   "execution_count": 444,
   "metadata": {},
   "outputs": [
    {
     "data": {
      "text/plain": [
       "101"
      ]
     },
     "execution_count": 444,
     "metadata": {},
     "output_type": "execute_result"
    }
   ],
   "source": [
    "Int8('\\u65')"
   ]
  },
  {
   "cell_type": "markdown",
   "metadata": {
    "collapsed": true
   },
   "source": [
    "# Regular expressions\n",
    "\n",
    "\n",
    "https://en.wikibooks.org/wiki/Introducing_Julia/Strings_and_characters\n",
    "\n",
    "http://julia.cookbook.tips/doku.php?id=regex"
   ]
  },
  {
   "cell_type": "code",
   "execution_count": 16,
   "metadata": {},
   "outputs": [
    {
     "data": {
      "text/plain": [
       "(Regex, SubstitutionString{String})"
      ]
     },
     "execution_count": 16,
     "metadata": {},
     "output_type": "execute_result"
    }
   ],
   "source": [
    "typeof( r\"hello\" ), typeof( s\"hello\" )"
   ]
  },
  {
   "cell_type": "code",
   "execution_count": 236,
   "metadata": {},
   "outputs": [
    {
     "data": {
      "text/plain": [
       "isregex (generic function with 1 method)"
      ]
     },
     "execution_count": 236,
     "metadata": {},
     "output_type": "execute_result"
    }
   ],
   "source": [
    "isregex(r::String)= try (Regex(r)!=nothing); catch; false; end#try#"
   ]
  },
  {
   "cell_type": "code",
   "execution_count": 237,
   "metadata": {},
   "outputs": [
    {
     "data": {
      "text/plain": [
       "false"
      ]
     },
     "execution_count": 237,
     "metadata": {},
     "output_type": "execute_result"
    }
   ],
   "source": [
    "occursin(r\"a=\", \"a = 23\")"
   ]
  },
  {
   "cell_type": "code",
   "execution_count": 238,
   "metadata": {},
   "outputs": [
    {
     "data": {
      "text/plain": [
       "true"
      ]
     },
     "execution_count": 238,
     "metadata": {},
     "output_type": "execute_result"
    }
   ],
   "source": [
    "occursin(r\"a\\s=\", \"a = 23\")"
   ]
  },
  {
   "cell_type": "code",
   "execution_count": 244,
   "metadata": {},
   "outputs": [
    {
     "data": {
      "text/plain": [
       "false"
      ]
     },
     "execution_count": 244,
     "metadata": {},
     "output_type": "execute_result"
    }
   ],
   "source": [
    "occursin(r\"a\\s=\", \"a  = 23\")"
   ]
  },
  {
   "cell_type": "code",
   "execution_count": 246,
   "metadata": {},
   "outputs": [
    {
     "data": {
      "text/plain": [
       "true"
      ]
     },
     "execution_count": 246,
     "metadata": {},
     "output_type": "execute_result"
    }
   ],
   "source": [
    "occursin(r\"a\\s*=\", \"a  = 23\")"
   ]
  },
  {
   "cell_type": "markdown",
   "metadata": {},
   "source": [
    "Let us say we want to construct different regular expressions to match `a = 2`, `b = 3`,...\n",
    "\n",
    "That is expressions that match some variable equals to some value.\n",
    "\n",
    "\n",
    "```\n",
    "variable_names = [\"a\",\"b\"]\n",
    "var = variable_names[1]\n",
    "```\n",
    "\n",
    "Given a variable `var` we can now interpolate the string inside the variable with `\"$var\"`\n",
    "\n"
   ]
  },
  {
   "cell_type": "code",
   "execution_count": 262,
   "metadata": {},
   "outputs": [
    {
     "data": {
      "text/plain": [
       "r\"a\\s*=\""
      ]
     },
     "execution_count": 262,
     "metadata": {},
     "output_type": "execute_result"
    }
   ],
   "source": [
    "var = \"a\"\n",
    "var_equals = Regex(\"$var\" * raw\"\\s*=\")"
   ]
  },
  {
   "cell_type": "code",
   "execution_count": 265,
   "metadata": {},
   "outputs": [
    {
     "data": {
      "text/plain": [
       "true"
      ]
     },
     "execution_count": 265,
     "metadata": {},
     "output_type": "execute_result"
    }
   ],
   "source": [
    "occursin(var_equals, \"a  = 23\")"
   ]
  },
  {
   "cell_type": "code",
   "execution_count": null,
   "metadata": {},
   "outputs": [],
   "source": []
  },
  {
   "cell_type": "markdown",
   "metadata": {},
   "source": [
    "We can interpolate in a string and then construct a regular expression"
   ]
  },
  {
   "cell_type": "code",
   "execution_count": 96,
   "metadata": {},
   "outputs": [
    {
     "data": {
      "text/plain": [
       "r\"2312\""
      ]
     },
     "execution_count": 96,
     "metadata": {},
     "output_type": "execute_result"
    }
   ],
   "source": [
    "a = 2312\n",
    "Regex(\"$a\")"
   ]
  },
  {
   "cell_type": "markdown",
   "metadata": {},
   "source": [
    "Notice though that substrings like \"\\s\" will generate `syntax: invalid escape sequence`.\n",
    "\n",
    "If we want to avoid this problem"
   ]
  },
  {
   "cell_type": "code",
   "execution_count": 99,
   "metadata": {},
   "outputs": [
    {
     "ename": "LoadError",
     "evalue": "syntax: invalid escape sequence",
     "output_type": "error",
     "traceback": [
      "syntax: invalid escape sequence",
      ""
     ]
    }
   ],
   "source": [
    "a = 2312\n",
    "Regex(\"$a\\s\")"
   ]
  },
  {
   "cell_type": "code",
   "execution_count": 102,
   "metadata": {},
   "outputs": [
    {
     "data": {
      "text/plain": [
       "r\"[\\\"( ]Mark[\\\") ]\""
      ]
     },
     "execution_count": 102,
     "metadata": {},
     "output_type": "execute_result"
    }
   ],
   "source": [
    "name = \"Mark\"\n",
    "regex_name = Regex(\"[\\\"( ]$name[\\\") ]\") "
   ]
  },
  {
   "cell_type": "code",
   "execution_count": 106,
   "metadata": {},
   "outputs": [
    {
     "data": {
      "text/plain": [
       "r\"Mark\""
      ]
     },
     "execution_count": 106,
     "metadata": {},
     "output_type": "execute_result"
    }
   ],
   "source": [
    "name = \"Mark\"\n",
    "regex_name = Regex(\"$name\") "
   ]
  },
  {
   "cell_type": "code",
   "execution_count": 114,
   "metadata": {},
   "outputs": [
    {
     "ename": "MethodError",
     "evalue": "MethodError: no method matching Regex(::Regex)\nClosest candidates are:\n  Regex(!Matched::AbstractString) at regex.jl:65\n  Regex(!Matched::AbstractString, !Matched::Integer, !Matched::Integer) at regex.jl:31\n  Regex(!Matched::AbstractString, !Matched::AbstractString) at regex.jl:51",
     "output_type": "error",
     "traceback": [
      "MethodError: no method matching Regex(::Regex)\nClosest candidates are:\n  Regex(!Matched::AbstractString) at regex.jl:65\n  Regex(!Matched::AbstractString, !Matched::Integer, !Matched::Integer) at regex.jl:31\n  Regex(!Matched::AbstractString, !Matched::AbstractString) at regex.jl:51",
      "",
      "Stacktrace:",
      " [1] top-level scope at In[114]:2"
     ]
    }
   ],
   "source": [
    "name = \"Mark\"\n",
    "regex_name = Regex(r\"Mark\\s=\") "
   ]
  },
  {
   "cell_type": "code",
   "execution_count": 155,
   "metadata": {},
   "outputs": [
    {
     "data": {
      "text/plain": [
       "r\"a =\""
      ]
     },
     "execution_count": 155,
     "metadata": {},
     "output_type": "execute_result"
    }
   ],
   "source": [
    "var = \"a\"\n",
    "Regex(\"$var =\")"
   ]
  },
  {
   "cell_type": "code",
   "execution_count": 233,
   "metadata": {},
   "outputs": [
    {
     "name": "stdout",
     "output_type": "stream",
     "text": [
      "r\"$var\\\\s*=\""
     ]
    },
    {
     "data": {
      "text/plain": [
       "false"
      ]
     },
     "execution_count": 233,
     "metadata": {},
     "output_type": "execute_result"
    }
   ],
   "source": [
    "my_regex = r\"$var\\\\s*=\"\n",
    "print(my_regex)\n",
    "occursin(my_regex, \"a = 23\")"
   ]
  },
  {
   "cell_type": "code",
   "execution_count": 232,
   "metadata": {},
   "outputs": [
    {
     "name": "stdout",
     "output_type": "stream",
     "text": [
      "r\"a\\s*=\""
     ]
    },
    {
     "data": {
      "text/plain": [
       "true"
      ]
     },
     "execution_count": 232,
     "metadata": {},
     "output_type": "execute_result"
    }
   ],
   "source": [
    "my_regex = Regex(\"$var\" * \"\\\\s*=\" )\n",
    "print(my_regex)\n",
    "occursin(my_regex, \"a = 23\")"
   ]
  },
  {
   "cell_type": "code",
   "execution_count": 226,
   "metadata": {},
   "outputs": [
    {
     "ename": "LoadError",
     "evalue": "syntax: invalid escape sequence",
     "output_type": "error",
     "traceback": [
      "syntax: invalid escape sequence",
      ""
     ]
    }
   ],
   "source": [
    "my_regex = \"$var\\s*=\"\n",
    "occursin(my_regex, \"a = 23\")"
   ]
  },
  {
   "cell_type": "code",
   "execution_count": 222,
   "metadata": {},
   "outputs": [
    {
     "data": {
      "text/plain": [
       "false"
      ]
     },
     "execution_count": 222,
     "metadata": {},
     "output_type": "execute_result"
    }
   ],
   "source": [
    "occursin(my_regex, \"a = 23\")"
   ]
  },
  {
   "cell_type": "code",
   "execution_count": 208,
   "metadata": {},
   "outputs": [
    {
     "data": {
      "text/plain": [
       "r\"a\\s*=\""
      ]
     },
     "execution_count": 208,
     "metadata": {},
     "output_type": "execute_result"
    }
   ],
   "source": [
    "r = Regex(\"$var\" * \"\\\\s*=\" )"
   ]
  },
  {
   "cell_type": "code",
   "execution_count": null,
   "metadata": {},
   "outputs": [],
   "source": []
  },
  {
   "cell_type": "code",
   "execution_count": null,
   "metadata": {},
   "outputs": [],
   "source": []
  },
  {
   "cell_type": "code",
   "execution_count": 203,
   "metadata": {},
   "outputs": [
    {
     "data": {
      "text/plain": [
       "true"
      ]
     },
     "execution_count": 203,
     "metadata": {},
     "output_type": "execute_result"
    }
   ],
   "source": [
    "raw\"\\s\" == \"\\\\s\""
   ]
  },
  {
   "cell_type": "code",
   "execution_count": 205,
   "metadata": {},
   "outputs": [
    {
     "data": {
      "text/plain": [
       "\"\\\\s\""
      ]
     },
     "execution_count": 205,
     "metadata": {},
     "output_type": "execute_result"
    }
   ],
   "source": [
    "raw\"\\s\""
   ]
  },
  {
   "cell_type": "code",
   "execution_count": null,
   "metadata": {},
   "outputs": [],
   "source": []
  },
  {
   "cell_type": "code",
   "execution_count": 201,
   "metadata": {},
   "outputs": [
    {
     "data": {
      "text/plain": [
       "(true, true, true)"
      ]
     },
     "execution_count": 201,
     "metadata": {},
     "output_type": "execute_result"
    }
   ],
   "source": [
    "myreg = Regex(\"$var\\\\s*=\")\n",
    "occursin(myreg, \"a = 23\"), \n",
    "occursin(myreg, \"a  = 23\"),\n",
    "occursin(myreg, \"a   = 23\")"
   ]
  },
  {
   "cell_type": "code",
   "execution_count": null,
   "metadata": {},
   "outputs": [],
   "source": [
    "occursin()"
   ]
  },
  {
   "cell_type": "code",
   "execution_count": 128,
   "metadata": {},
   "outputs": [
    {
     "data": {
      "text/plain": [
       "r\"a =\""
      ]
     },
     "execution_count": 128,
     "metadata": {},
     "output_type": "execute_result"
    }
   ],
   "source": [
    "variables = [:a,:b,:c]\n",
    "\n",
    "var = variables[1]\n",
    "\n",
    "Regex(\"$var =\")"
   ]
  },
  {
   "cell_type": "code",
   "execution_count": 134,
   "metadata": {},
   "outputs": [
    {
     "data": {
      "text/plain": [
       "r\"a\\s=\""
      ]
     },
     "execution_count": 134,
     "metadata": {},
     "output_type": "execute_result"
    }
   ],
   "source": [
    "r\"a\\s=\""
   ]
  },
  {
   "cell_type": "code",
   "execution_count": 140,
   "metadata": {},
   "outputs": [
    {
     "data": {
      "text/plain": [
       "\"a\\\\s\""
      ]
     },
     "execution_count": 140,
     "metadata": {},
     "output_type": "execute_result"
    }
   ],
   "source": [
    "raw\"a\\s\""
   ]
  },
  {
   "cell_type": "code",
   "execution_count": 133,
   "metadata": {},
   "outputs": [
    {
     "ename": "LoadError",
     "evalue": "syntax: invalid escape sequence",
     "output_type": "error",
     "traceback": [
      "syntax: invalid escape sequence",
      ""
     ]
    }
   ],
   "source": [
    "Regex(\"$var\\s=\")"
   ]
  },
  {
   "cell_type": "code",
   "execution_count": null,
   "metadata": {},
   "outputs": [],
   "source": []
  },
  {
   "cell_type": "code",
   "execution_count": 80,
   "metadata": {},
   "outputs": [
    {
     "data": {
      "text/plain": [
       "\"house\""
      ]
     },
     "execution_count": 80,
     "metadata": {},
     "output_type": "execute_result"
    }
   ],
   "source": [
    "a"
   ]
  },
  {
   "cell_type": "code",
   "execution_count": null,
   "metadata": {},
   "outputs": [],
   "source": []
  },
  {
   "cell_type": "code",
   "execution_count": null,
   "metadata": {},
   "outputs": [],
   "source": []
  },
  {
   "cell_type": "code",
   "execution_count": null,
   "metadata": {
    "collapsed": true
   },
   "outputs": [],
   "source": []
  }
 ],
 "metadata": {
  "kernelspec": {
   "display_name": "Julia 1.1.0",
   "language": "julia",
   "name": "julia-1.1"
  },
  "language_info": {
   "file_extension": ".jl",
   "mimetype": "application/julia",
   "name": "julia",
   "version": "1.1.0"
  },
  "toc": {
   "base_numbering": 1,
   "nav_menu": {},
   "number_sections": true,
   "sideBar": true,
   "skip_h1_title": false,
   "title_cell": "Table of Contents",
   "title_sidebar": "Contents",
   "toc_cell": true,
   "toc_position": {},
   "toc_section_display": true,
   "toc_window_display": false
  }
 },
 "nbformat": 4,
 "nbformat_minor": 1
}
