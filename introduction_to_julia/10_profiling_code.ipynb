{
 "cells": [
  {
   "cell_type": "markdown",
   "metadata": {},
   "source": [
    "# Profiling Julia code"
   ]
  },
  {
   "cell_type": "code",
   "execution_count": 1,
   "metadata": {},
   "outputs": [],
   "source": [
    "using Base.Profile"
   ]
  },
  {
   "cell_type": "code",
   "execution_count": 12,
   "metadata": {},
   "outputs": [],
   "source": [
    "function myfunc()\n",
    "           A = rand(1000, 1000)\n",
    "           a = maximum(A)\n",
    "           r = A*A\n",
    "           return r\n",
    "       end\n",
    "\n",
    "myfunc();"
   ]
  },
  {
   "cell_type": "code",
   "execution_count": 71,
   "metadata": {
    "collapsed": true
   },
   "outputs": [],
   "source": [
    "Profile.clear()\n",
    "Profile.init(n = 10^5, delay = 0.00001)"
   ]
  },
  {
   "cell_type": "code",
   "execution_count": 72,
   "metadata": {},
   "outputs": [],
   "source": [
    "@profile myfunc();"
   ]
  },
  {
   "cell_type": "code",
   "execution_count": 73,
   "metadata": {},
   "outputs": [
    {
     "name": "stdout",
     "output_type": "stream",
     "text": [
      "857 ./task.jl:335; (::IJulia.##14#17)()\n",
      " 857 ...Julia/src/eventloop.jl:8; eventloop(::ZMQ.Socket)\n",
      "  857 .../Compat/src/Compat.jl:385; (::Compat.#inner#17{Array{Any,1}...\n",
      "   856 ...rc/execute_request.jl:158; execute_request(::ZMQ.Socket, ::...\n",
      "    856 .../Compat/src/Compat.jl:71; include_string(::Module, ::Strin...\n",
      "     856 ./loading.jl:522; include_string(::String, ::String)\n",
      "      856 ./<missing>:?; anonymous\n",
      "       856 ./profile.jl:23; macro expansion\n",
      "        550 ./In[12]:2; myfunc()\n",
      "         393 ./random.jl:452; rand!(::MersenneTwister, ::A...\n",
      "          393 ./dSFMT.jl:84; dsfmt_fill_array_close_open!...\n",
      "         157 ./random.jl:285; rand\n",
      "          157 ./random.jl:284; rand\n",
      "           157 ./random.jl:387; rand\n",
      "            157 ./random.jl:390; rand\n",
      "             1 ....6/ZMQ/src/ZMQ.jl:418; close(::ZMQ.Message)\n",
      "        198 ./In[12]:3; myfunc()\n",
      "         198 ./reduce.jl:280; _mapreduce(::Base.#identity,...\n",
      "          40  ./reduce.jl:430; mapreduce_impl(::Base.#iden...\n",
      "          19  ./reduce.jl:431; mapreduce_impl(::Base.#iden...\n",
      "          139 ./reduce.jl:432; mapreduce_impl(::Base.#iden...\n",
      "        108 ./In[12]:4; myfunc()\n",
      "         1   ./linalg/matmul.jl:146; *\n",
      "         107 ./linalg/matmul.jl:367; gemm_wrapper!(::Array{Float6...\n",
      "          107 ./linalg/blas.jl:1027; gemm!(::Char, ::Char, ::Flo...\n",
      "   1   ...rc/execute_request.jl:170; execute_request(::ZMQ.Socket, ::...\n"
     ]
    }
   ],
   "source": [
    "Profile.print()"
   ]
  },
  {
   "cell_type": "markdown",
   "metadata": {},
   "source": [
    "#### `combine` keyword argument\n",
    "\n",
    "Some lines of code contain multiple operations; for example, `s += A[i]` contains both an array reference (`A[i]`) and a sum operation. These correspond to different lines in the generated machine code, and hence there may be two or more different addresses captured during backtraces on this line. **`combine = true`** lumps them together, and is probably what you typically want, but you can generate an output separately for each unique instruction pointer with **`combine = false`**."
   ]
  },
  {
   "cell_type": "code",
   "execution_count": 16,
   "metadata": {
    "scrolled": false
   },
   "outputs": [
    {
     "name": "stdout",
     "output_type": "stream",
     "text": [
      "6 ./task.jl:335; (::IJulia.##14#17)()\n",
      " 6 ...IJulia/src/eventloop.jl:8; eventloop(::ZMQ.Socket)\n",
      "  6 ...6/Compat/src/Compat.jl:385; (::Compat.#inner#17{Array{Any,1},...\n",
      "   6 ...rc/execute_request.jl:158; execute_request(::ZMQ.Socket, ::I...\n",
      "    6 .../Compat/src/Compat.jl:71; include_string(::Module, ::String...\n",
      "     6 ./loading.jl:522; include_string(::String, ::String)\n",
      "      6 ./<missing>:?; anonymous\n",
      "       6 ./profile.jl:23; macro expansion\n",
      "        2 ./In[12]:2; myfunc()\n",
      "         2 ./random.jl:452; rand!(::MersenneTwister, ::Ar...\n",
      "          2 ./dSFMT.jl:84; dsfmt_fill_array_close_open!(...\n",
      "        2 ./In[12]:3; myfunc()\n",
      "         2 ./reduce.jl:280; _mapreduce(::Base.#identity, ...\n",
      "          2 ./reduce.jl:432; mapreduce_impl(::Base.#identi...\n",
      "        2 ./In[12]:4; myfunc()\n",
      "         2 ./linalg/matmul.jl:367; gemm_wrapper!(::Array{Float64...\n",
      "          2 ./linalg/blas.jl:1027; gemm!(::Char, ::Char, ::Floa...\n"
     ]
    }
   ],
   "source": [
    "#Profile.print(format=:flat)\n",
    "Profile.print(combine=true)"
   ]
  },
  {
   "cell_type": "code",
   "execution_count": 17,
   "metadata": {},
   "outputs": [],
   "source": [
    "#Profile.print()"
   ]
  },
  {
   "cell_type": "markdown",
   "metadata": {},
   "source": [
    "#### `maxdepth` keyword argument\n",
    "\n",
    "We can specify a `maxdepth` to avoid going displaying information about the function calls that are inside other function calls of more than `maxdepth`."
   ]
  },
  {
   "cell_type": "code",
   "execution_count": 18,
   "metadata": {},
   "outputs": [
    {
     "name": "stdout",
     "output_type": "stream",
     "text": [
      "6 ./task.jl:335; (::IJulia.##14#17)()\n",
      " 6 ...IJulia/src/eventloop.jl:8; eventloop(::ZMQ.Socket)\n",
      "  6 ...6/Compat/src/Compat.jl:385; (::Compat.#inner#17{Array{Any,1},...\n",
      "   6 ...rc/execute_request.jl:158; execute_request(::ZMQ.Socket, ::I...\n",
      "    6 .../Compat/src/Compat.jl:71; include_string(::Module, ::String...\n",
      "     6 ./loading.jl:522; include_string(::String, ::String)\n"
     ]
    }
   ],
   "source": [
    "Profile.print(combine=false, maxdepth=5)"
   ]
  },
  {
   "cell_type": "markdown",
   "metadata": {},
   "source": [
    "#### `mincount` keyword argument\n",
    "\n",
    "If the profiler shows \"too much irrelevant stuff\", for example, lines with 1, we can pass as argument `mincount=2`. This will print only parts of the profile with 2 or more."
   ]
  },
  {
   "cell_type": "code",
   "execution_count": 19,
   "metadata": {},
   "outputs": [
    {
     "name": "stdout",
     "output_type": "stream",
     "text": [
      "6 ./task.jl:335; (::IJulia.##14#17)()\n",
      " 6 ...IJulia/src/eventloop.jl:8; eventloop(::ZMQ.Socket)\n",
      "  6 ...6/Compat/src/Compat.jl:385; (::Compat.#inner#17{Array{Any,1},...\n",
      "   6 ...rc/execute_request.jl:158; execute_request(::ZMQ.Socket, ::I...\n",
      "    6 .../Compat/src/Compat.jl:71; include_string(::Module, ::String...\n",
      "     6 ./loading.jl:522; include_string(::String, ::String)\n",
      "      6 ./<missing>:?; anonymous\n",
      "       6 ./profile.jl:23; macro expansion\n",
      "        2 ./In[12]:2; myfunc()\n",
      "         2 ./random.jl:452; rand!(::MersenneTwister, ::Ar...\n",
      "        2 ./In[12]:3; myfunc()\n",
      "         2 ./reduce.jl:280; _mapreduce(::Base.#identity, ...\n",
      "        2 ./In[12]:4; myfunc()\n",
      "         2 ./linalg/matmul.jl:367; gemm_wrapper!(::Array{Float64...\n"
     ]
    }
   ],
   "source": [
    "Profile.print(combine=false,maxdepth=9, mincount=2)"
   ]
  },
  {
   "cell_type": "markdown",
   "metadata": {},
   "source": [
    "### More examples"
   ]
  },
  {
   "cell_type": "code",
   "execution_count": 29,
   "metadata": {
    "collapsed": true
   },
   "outputs": [],
   "source": [
    "using Base.Profile"
   ]
  },
  {
   "cell_type": "code",
   "execution_count": 30,
   "metadata": {},
   "outputs": [
    {
     "data": {
      "text/plain": [
       "examplefunc (generic function with 1 method)"
      ]
     },
     "execution_count": 30,
     "metadata": {},
     "output_type": "execute_result"
    }
   ],
   "source": [
    "function examplefunc(x)\n",
    "    x = x + 2\n",
    "    x = 2 * x\n",
    "    return x\n",
    "end"
   ]
  },
  {
   "cell_type": "code",
   "execution_count": 31,
   "metadata": {
    "collapsed": true
   },
   "outputs": [],
   "source": [
    "aux = rand(10000);"
   ]
  },
  {
   "cell_type": "code",
   "execution_count": 32,
   "metadata": {
    "collapsed": true
   },
   "outputs": [],
   "source": [
    "Profile.clear()"
   ]
  },
  {
   "cell_type": "code",
   "execution_count": 36,
   "metadata": {},
   "outputs": [
    {
     "name": "stdout",
     "output_type": "stream",
     "text": [
      "  0.000026 seconds (8 allocations: 156.563 KiB)\n"
     ]
    }
   ],
   "source": [
    "@time examplefunc(aux);"
   ]
  },
  {
   "cell_type": "code",
   "execution_count": 37,
   "metadata": {
    "collapsed": true
   },
   "outputs": [],
   "source": [
    "@profile examplefunc(aux);"
   ]
  },
  {
   "cell_type": "code",
   "execution_count": 38,
   "metadata": {},
   "outputs": [
    {
     "name": "stderr",
     "output_type": "stream",
     "text": [
      "\u001b[1m\u001b[33mWARNING: \u001b[39m\u001b[22m\u001b[33mThere were no samples collected. Run your program longer (perhaps by\n",
      "running it multiple times), or adjust the delay between samples with\n",
      "Profile.init().\u001b[39m\n"
     ]
    }
   ],
   "source": [
    "Profile.print()"
   ]
  },
  {
   "cell_type": "code",
   "execution_count": 39,
   "metadata": {
    "collapsed": true
   },
   "outputs": [],
   "source": [
    "@profile (for i = 1:100; examplefunc(aux); end)"
   ]
  },
  {
   "cell_type": "code",
   "execution_count": 40,
   "metadata": {
    "scrolled": false
   },
   "outputs": [
    {
     "name": "stdout",
     "output_type": "stream",
     "text": [
      "8 ./task.jl:335; (::IJulia.##14#17)()\n",
      " 8 ...IJulia/src/eventloop.jl:8; eventloop(::ZMQ.Socket)\n",
      "  8 ...6/Compat/src/Compat.jl:385; (::Compat.#inner#17{Array{Any,1},...\n",
      "   8 ...rc/execute_request.jl:158; execute_request(::ZMQ.Socket, ::I...\n",
      "    8 .../Compat/src/Compat.jl:71; include_string(::Module, ::String...\n",
      "     8 ./loading.jl:522; include_string(::String, ::String)\n",
      "      8 ./<missing>:?; anonymous\n",
      "       8 ./profile.jl:23; macro expansion\n",
      "        8 ./In[39]:1; macro expansion\n",
      "         6 ./In[30]:2; examplefunc\n",
      "          6 ./arraymath.jl:48; +(::Array{Float64,1}, ::Int64)\n",
      "           6 ./broadcast.jl:455; broadcast\n",
      "            6 ./broadcast.jl:316; broadcast_c\n",
      "             6 ./broadcast.jl:270; broadcast_t\n",
      "              6 ./broadcast.jl:141; _broadcast!\n",
      "               6 ./broadcast.jl:149; macro expansion\n",
      "                6 ./simdloop.jl:73; macro expansion\n",
      "                 6 ./broadcast.jl:155; macro expansion\n",
      "         2 ./In[30]:3; examplefunc\n",
      "          2 ./arraymath.jl:45; *(::Int64, ::Array{Float64,1})\n",
      "           2 ./broadcast.jl:455; broadcast\n",
      "            2 ./broadcast.jl:316; broadcast_c\n",
      "             2 ./broadcast.jl:270; broadcast_t\n",
      "              2 ./broadcast.jl:141; _broadcast!\n",
      "               2 ./broadcast.jl:149; macro expansion\n",
      "                2 ./simdloop.jl:73; macro expansion\n",
      "                 2 ./broadcast.jl:155; macro expansion\n"
     ]
    }
   ],
   "source": [
    "Profile.print()"
   ]
  },
  {
   "cell_type": "code",
   "execution_count": 41,
   "metadata": {},
   "outputs": [
    {
     "name": "stdout",
     "output_type": "stream",
     "text": [
      "8 ..._osx64/build/src/task.c:267; start_task\n",
      " 8 ...64/build/src/./julia.h:1424; jl_apply\n",
      "   8 ./task.jl:335; (::IJulia.##14#17)()\n",
      "    8 ...Julia/src/eventloop.jl:8; eventloop(::ZMQ.Socket)\n",
      "     8 .../build/src/builtins.c:464; jl_f__apply_latest\n",
      "      8 ...build/src/builtins.c:426; jl_f__apply\n",
      "       8 ...build/src/./julia.h:1424; jl_apply\n",
      "        8 ...ompat/src/Compat.jl:385; (::Compat.#inner#17{Array{Any,...\n",
      "         8 .../execute_request.jl:158; execute_request(::ZMQ.Socket,...\n",
      "           8 ...ompat/src/Compat.jl:71; include_string(::Module, ::St...\n",
      "            8 ...ild/src/builtins.c:496; jl_toplevel_eval_in\n",
      "             8 ...ld/src/toplevel.c:577; jl_toplevel_eval_flex\n",
      "              8 ...src/interpreter.c:34; jl_interpret_toplevel_expr\n",
      "               8 ...src/interpreter.c:242; eval\n",
      "                8 ...src/interpreter.c:75; do_call\n",
      "                 8 ...b/julia/sys.dylib:?; jlcall_include_string_33515\n",
      "                  8 ./loading.jl:522; include_string(::String,...\n",
      "                   8 ...build/src/ast.c:873; jl_parse_eval_all\n",
      "                    8 .../src/toplevel.c:589; jl_toplevel_eval_flex\n",
      "                     8 ...lia_internal.h:358; jl_call_method_internal\n",
      "                      8 ...lia_internal.h:339; jl_call_fptr_internal\n",
      "                       8 ./<missing>:?; anonymous\n",
      "                        8 ./profile.jl:23; macro expansion\n",
      "                         8 ./In[39]:1; macro expansion\n",
      "                          6 ./In[30]:2; examplefunc\n",
      "                            6 ./arraymath.jl:48; +(::Array{Float64,...\n",
      "                             6 ./broadcast.jl:455; broadcast\n",
      "                              6 ./broadcast.jl:316; broadcast_c\n",
      "                               6 ...oadcast.jl:270; broadcast_t\n",
      "                                6 ...oadcast.jl:141; _broadcast!\n",
      "                                 6 ...adcast.jl:149; macro expansion\n",
      "                                  6 ...mdloop.jl:73; macro expansion\n",
      "                                   6 ...adcast.jl:155; macro expansion\n",
      "                          2 ./In[30]:3; examplefunc\n",
      "                            2 ./arraymath.jl:45; *(::Int64, ::Array...\n",
      "                             2 ./broadcast.jl:455; broadcast\n",
      "                              2 ./broadcast.jl:316; broadcast_c\n",
      "                               2 ...oadcast.jl:270; broadcast_t\n",
      "                                2 ...oadcast.jl:141; _broadcast!\n",
      "                                 2 ...adcast.jl:149; macro expansion\n",
      "                                  2 ...mdloop.jl:73; macro expansion\n",
      "                                   2 ...adcast.jl:155; macro expansion\n",
      "3 .../libsystem_kernel.dylib:?; kevent\n"
     ]
    }
   ],
   "source": [
    "Profile.print(C=true)"
   ]
  },
  {
   "cell_type": "markdown",
   "metadata": {},
   "source": [
    "#### example 2"
   ]
  },
  {
   "cell_type": "code",
   "execution_count": 42,
   "metadata": {
    "collapsed": true
   },
   "outputs": [],
   "source": [
    "Profile.clear()"
   ]
  },
  {
   "cell_type": "code",
   "execution_count": 43,
   "metadata": {},
   "outputs": [
    {
     "data": {
      "text/plain": [
       "testfunc (generic function with 1 method)"
      ]
     },
     "execution_count": 43,
     "metadata": {},
     "output_type": "execute_result"
    }
   ],
   "source": [
    "function testfunc()\n",
    "    x = rand(10000, 1000)\n",
    "    y = std(x, 1)\n",
    "    return y\n",
    "end"
   ]
  },
  {
   "cell_type": "code",
   "execution_count": 44,
   "metadata": {},
   "outputs": [
    {
     "data": {
      "text/plain": [
       "1×1000 Array{Float64,2}:\n",
       " 0.288813  0.289132  0.290146  0.287452  …  0.288259  0.28713  0.291357"
      ]
     },
     "execution_count": 44,
     "metadata": {},
     "output_type": "execute_result"
    }
   ],
   "source": [
    "@profile testfunc()"
   ]
  },
  {
   "cell_type": "code",
   "execution_count": 48,
   "metadata": {},
   "outputs": [
    {
     "name": "stdout",
     "output_type": "stream",
     "text": [
      "316 ./task.jl:335; (::IJulia.##14#17)()\n",
      " 316 ...Julia/src/eventloop.jl:8; eventloop(::ZMQ.Socket)\n",
      "  316 .../Compat/src/Compat.jl:385; (::Compat.#inner#17{Array{Any,1}...\n",
      "   315 ...rc/execute_request.jl:158; execute_request(::ZMQ.Socket, ::...\n",
      "    315 .../Compat/src/Compat.jl:71; include_string(::Module, ::Strin...\n",
      "     315 ./loading.jl:522; include_string(::String, ::String)\n",
      "      315 ./<missing>:?; anonymous\n",
      "       315 ./profile.jl:23; macro expansion\n",
      "        57  ./In[43]:2; testfunc()\n",
      "         48 ./random.jl:452; rand!(::MersenneTwister, ::Ar...\n",
      "          48 ./dSFMT.jl:84; dsfmt_fill_array_close_open!(...\n",
      "        258 ./In[43]:3; testfunc()\n",
      "         258 ./<missing>:0; (::Base.#kw##var)(::Array{Any...\n",
      "          153 ./statistics.jl:204; #var#537(::Bool, ::Void, ::...\n",
      "           58 ./<missing>:0; (::Base.#kw##varm)(::Array{A...\n",
      "            58 ./<missing>:0; (::Base.#kw##varm!)(::Array{...\n",
      "           95 ./statistics.jl:39; mean!(::Array{Float64,2}, ::...\n",
      "            95 ./<missing>:0; (::Base.#kw##sum!)(::Array{A...\n",
      "             62 ./<missing>:0; (::Base.#kw##sum!)(::Array...\n",
      "              59 ./reducedim.jl:579; #sum!#406(::Bool, ::Functi...\n",
      "               59 ./reducedim.jl:210; mapreducedim!\n"
     ]
    }
   ],
   "source": [
    "Profile.print(mincount=30)"
   ]
  },
  {
   "cell_type": "markdown",
   "metadata": {},
   "source": [
    "### ProfileView"
   ]
  },
  {
   "cell_type": "code",
   "execution_count": 49,
   "metadata": {},
   "outputs": [
    {
     "name": "stderr",
     "output_type": "stream",
     "text": [
      "\u001b[1m\u001b[36mINFO: \u001b[39m\u001b[22m\u001b[36mRecompiling stale cache file /Users/david/.julia/lib/v0.6/ProfileView.ji for module ProfileView.\n",
      "\u001b[39m\u001b[1m\u001b[36mINFO: \u001b[39m\u001b[22m\u001b[36mRecompiling stale cache file /Users/david/.julia/lib/v0.6/ProfileViewSVG.ji for module ProfileViewSVG.\n",
      "\u001b[39m"
     ]
    }
   ],
   "source": [
    "using ProfileView"
   ]
  },
  {
   "cell_type": "code",
   "execution_count": 50,
   "metadata": {},
   "outputs": [
    {
     "data": {
      "text/plain": [
       "profile_test (generic function with 1 method)"
      ]
     },
     "execution_count": 50,
     "metadata": {},
     "output_type": "execute_result"
    }
   ],
   "source": [
    "function profile_test(n)\n",
    "    for i = 1:n\n",
    "        A = randn(100,100,20)\n",
    "        m = maximum(A)\n",
    "        Afft = fft(A)\n",
    "        Am = mapslices(sum, A, 2)\n",
    "        B = A[:,:,5]\n",
    "        Bsort = mapslices(sort, B, 1)\n",
    "        b = rand(100)\n",
    "        C = B.*b\n",
    "    end\n",
    "end"
   ]
  },
  {
   "cell_type": "code",
   "execution_count": 51,
   "metadata": {
    "collapsed": true
   },
   "outputs": [],
   "source": [
    "profile_test(1)  # run once to trigger compilation\n",
    "Profile.clear()  # in case we have any previous profiling data\n",
    "@profile  profile_test(100)"
   ]
  },
  {
   "cell_type": "code",
   "execution_count": null,
   "metadata": {
    "collapsed": true
   },
   "outputs": [],
   "source": []
  },
  {
   "cell_type": "code",
   "execution_count": null,
   "metadata": {
    "collapsed": true
   },
   "outputs": [],
   "source": []
  }
 ],
 "metadata": {
  "kernelspec": {
   "display_name": "Julia 0.6.0",
   "language": "julia",
   "name": "julia-0.6"
  },
  "language_info": {
   "file_extension": ".jl",
   "mimetype": "application/julia",
   "name": "julia",
   "version": "0.6.2"
  }
 },
 "nbformat": 4,
 "nbformat_minor": 1
}
