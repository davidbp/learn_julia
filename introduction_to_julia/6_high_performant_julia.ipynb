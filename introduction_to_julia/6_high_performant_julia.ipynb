{
 "cells": [
  {
   "cell_type": "markdown",
   "metadata": {},
   "source": [
    "# High performant Julia code\n",
    "\n",
    "\n",
    "#### Devectorize and NumericExtensions packages\n",
    "\n",
    "- https://github.com/lindahua/NumericExtensions.jl\n",
    "- https://github.com/lindahua/Devectorize.jl\n",
    "\n",
    "\n",
    "#### Write non vectorized code\n",
    "\n",
    "- http://www.juliabloggers.com/fast-numeric-computation-in-julia/\n",
    "\n",
    "\n",
    "\n",
    "#### Using SIMD instructions in Julia \n",
    "- http://ucidatascienceinitiative.github.io/IntroToJulia/Slides/HPCJulia#/\n",
    "\n",
    "- http://www.juliabloggers.com/optimizing-julia-for-performance-a-practical-example/\n",
    "\n",
    "- https://github.com/eschnett/SIMD.jl"
   ]
  },
  {
   "cell_type": "code",
   "execution_count": 61,
   "metadata": {
    "collapsed": false
   },
   "outputs": [],
   "source": [
    "using BenchmarkTools"
   ]
  },
  {
   "cell_type": "markdown",
   "metadata": {},
   "source": [
    "## Speed up array comparisons\n",
    "\n",
    "Making a function is that compares elementwise is faster"
   ]
  },
  {
   "cell_type": "code",
   "execution_count": 29,
   "metadata": {
    "collapsed": false
   },
   "outputs": [
    {
     "data": {
      "text/plain": [
       "compare (generic function with 1 method)"
      ]
     },
     "execution_count": 29,
     "metadata": {},
     "output_type": "execute_result"
    }
   ],
   "source": [
    "function compare(x,A)\n",
    "       C = Array{Bool}(length(A))\n",
    "       @inbounds for i in 1:length(A)\n",
    "         C[i] = ifelse(A[i]>x, true, false)\n",
    "       end\n",
    "    return C\n",
    "end"
   ]
  },
  {
   "cell_type": "code",
   "execution_count": 59,
   "metadata": {
    "collapsed": false,
    "scrolled": true
   },
   "outputs": [
    {
     "name": "stdout",
     "output_type": "stream",
     "text": [
      "  2.247 μs (5 allocations: 4.45 KiB)\n",
      "  2.224 μs (5 allocations: 4.45 KiB)\n",
      "  895.351 ns (2 allocations: 1.08 KiB)\n",
      "  24.038 μs (1003 allocations: 16.72 KiB)\n",
      "  416.939 ns (1 allocation: 1.06 KiB)\n"
     ]
    }
   ],
   "source": [
    "A = collect(1:1000) + rand(1000);\n",
    "cte  = 560.5\n",
    "@btime $A .> 560.5\n",
    "@btime $A .> $cte\n",
    "@btime map( (l)-> l > 560.5, $A)\n",
    "@btime map( (l)-> l > cte, $A);\n",
    "@btime compare(threshold, $A);"
   ]
  },
  {
   "cell_type": "code",
   "execution_count": 62,
   "metadata": {
    "collapsed": false
   },
   "outputs": [
    {
     "data": {
      "text/plain": [
       "true"
      ]
     },
     "execution_count": 62,
     "metadata": {},
     "output_type": "execute_result"
    }
   ],
   "source": [
    "res = compare(threshold,A);\n",
    "res2 =  map( (l)-> l > threshold, A);\n",
    "res2 == res"
   ]
  },
  {
   "cell_type": "markdown",
   "metadata": {},
   "source": [
    "## Integral squred"
   ]
  },
  {
   "cell_type": "code",
   "execution_count": 78,
   "metadata": {
    "collapsed": false
   },
   "outputs": [],
   "source": [
    "struct Point{X,Y}\n",
    "    x::X\n",
    "    y::Y\n",
    "end\n",
    "function integral_squared(v::Vector{Point{X,Y}}) where {X,Y}\n",
    "    T = eltype(oneunit(X)*oneunit(Y)*oneunit(Y))\n",
    "    area = zero(T)\n",
    "    p1 = v[1]\n",
    "    for i in 2:length(v)\n",
    "        p2 = v[i]\n",
    "        dx = p2.x - p1.x\n",
    "        m = (p2.y - p1.y)/dx\n",
    "        b = p1.y\n",
    "        area += m/3*m*(dx*dx*dx) + b*m*(dx*dx) + b*b*(dx)\n",
    "        p1 = p2\n",
    "    end\n",
    "    return area\n",
    "end\n",
    "# Test code\n",
    "N = 1_000_000\n",
    "pwl = [Point(x, sin(x)) for x in linspace(0, pi, N)];"
   ]
  },
  {
   "cell_type": "code",
   "execution_count": 71,
   "metadata": {
    "collapsed": false
   },
   "outputs": [
    {
     "data": {
      "text/plain": [
       "\u001b[1m\u001b[32mTest Passed\u001b[39m\u001b[22m"
      ]
     },
     "execution_count": 71,
     "metadata": {},
     "output_type": "execute_result"
    }
   ],
   "source": [
    "Base.Test.@test integral_squared(pwl) ≈ pi/2  atol=0.00001"
   ]
  },
  {
   "cell_type": "code",
   "execution_count": 84,
   "metadata": {
    "collapsed": false
   },
   "outputs": [
    {
     "name": "stdout",
     "output_type": "stream",
     "text": [
      "Benchmarking:\n",
      "  7.906 ms (0 allocations: 0 bytes)\n"
     ]
    }
   ],
   "source": [
    "println(\"Benchmarking:\")\n",
    "@btime integral_squared($pwl);"
   ]
  },
  {
   "cell_type": "code",
   "execution_count": 77,
   "metadata": {
    "collapsed": false
   },
   "outputs": [
    {
     "data": {
      "text/plain": [
       "integral_squared2 (generic function with 1 method)"
      ]
     },
     "execution_count": 77,
     "metadata": {},
     "output_type": "execute_result"
    }
   ],
   "source": [
    "function integral_squared2(v::Vector{Point{X,Y}}) where {X,Y}\n",
    "    T = eltype(oneunit(X)*oneunit(Y)*oneunit(Y))\n",
    "    area = zero(T)\n",
    "    p1 = v[1]\n",
    "    @inbounds for i in 2:length(v)\n",
    "        p2 = v[i]\n",
    "        dx = p2.x - p1.x\n",
    "        m = (p2.y - p1.y) / dx\n",
    "        b = p1.y\n",
    "        area += @evalpoly(dx * m, b * b, b, 1 / 3) * dx\n",
    "        p1 = p2\n",
    "    end\n",
    "    return area\n",
    "end"
   ]
  },
  {
   "cell_type": "code",
   "execution_count": 83,
   "metadata": {
    "collapsed": false
   },
   "outputs": [
    {
     "name": "stdout",
     "output_type": "stream",
     "text": [
      "Benchmarking 2:\n",
      "  3.991 ms (0 allocations: 0 bytes)\n"
     ]
    }
   ],
   "source": [
    "println(\"Benchmarking 2:\")\n",
    "@btime integral_squared2($pwl);"
   ]
  },
  {
   "cell_type": "code",
   "execution_count": 85,
   "metadata": {
    "collapsed": false
   },
   "outputs": [
    {
     "data": {
      "text/plain": [
       "integral_squared3 (generic function with 1 method)"
      ]
     },
     "execution_count": 85,
     "metadata": {},
     "output_type": "execute_result"
    }
   ],
   "source": [
    "function integral_squared3(v::Vector{Point{X,Y}}) where {X,Y}\n",
    "    T = eltype(oneunit(X)*oneunit(Y)*oneunit(Y))\n",
    "    area = zero(T)\n",
    "    p1 = v[1]\n",
    "    third = 1/3\n",
    "    for i in 2:length(v)\n",
    "        p2 = v[i]\n",
    "        dx = p2.x - p1.x\n",
    "        m = (p2.y - p1.y)\n",
    "        b = p1.y\n",
    "        area += dx * (m * m * third + b * (m + b))\n",
    "        p1 = p2\n",
    "    end\n",
    "    return area\n",
    "end"
   ]
  },
  {
   "cell_type": "code",
   "execution_count": 89,
   "metadata": {
    "collapsed": false
   },
   "outputs": [
    {
     "name": "stdout",
     "output_type": "stream",
     "text": [
      "Benchmarking 3:\n",
      "  1.795 ms (0 allocations: 0 bytes)\n"
     ]
    }
   ],
   "source": [
    "println(\"Benchmarking 3:\")\n",
    "@btime integral_squared3($pwl);"
   ]
  },
  {
   "cell_type": "code",
   "execution_count": 169,
   "metadata": {
    "collapsed": false
   },
   "outputs": [
    {
     "data": {
      "text/plain": [
       "integral_squared4 (generic function with 1 method)"
      ]
     },
     "execution_count": 169,
     "metadata": {},
     "output_type": "execute_result"
    }
   ],
   "source": [
    "const third = 1/3\n",
    "function integral_squared4(v::Vector{Point{X,Y}}) where {X,Y}\n",
    "    area = zero(oneunit(X)*oneunit(Y)*oneunit(Y))\n",
    "    p1 = v[1]\n",
    "    @inbounds for i in 2:length(v)\n",
    "        p2 = v[i]\n",
    "        dx = p2.x - p1.x\n",
    "        m  = p2.y - p1.y\n",
    "        b  = p1.y\n",
    "        area += (third*m*m + (m+b)*b)*dx\n",
    "        p1 = p2\n",
    "    end\n",
    "    return area\n",
    "end"
   ]
  },
  {
   "cell_type": "code",
   "execution_count": 170,
   "metadata": {
    "collapsed": false
   },
   "outputs": [
    {
     "name": "stdout",
     "output_type": "stream",
     "text": [
      "Benchmarking 4:\n",
      "  1.567 ms (0 allocations: 0 bytes)\n"
     ]
    }
   ],
   "source": [
    "println(\"Benchmarking 4:\")\n",
    "@btime integral_squared4($pwl);"
   ]
  },
  {
   "cell_type": "code",
   "execution_count": 173,
   "metadata": {
    "collapsed": false
   },
   "outputs": [
    {
     "data": {
      "text/plain": [
       "integral_squared4_simd (generic function with 1 method)"
      ]
     },
     "execution_count": 173,
     "metadata": {},
     "output_type": "execute_result"
    }
   ],
   "source": [
    "const third = 1/3\n",
    "function integral_squared4_simd(v::Vector{Point{X,Y}}) where {X,Y}\n",
    "    area = zero(oneunit(X)*oneunit(Y)*oneunit(Y))\n",
    "    p1 = v[1]\n",
    "    @inbounds @simd for i in 1:length(v)\n",
    "        p2 = v[i]\n",
    "        dx = p2.x - p1.x\n",
    "        m  = p2.y - p1.y\n",
    "        b  = p1.y\n",
    "        area += (third*m*m + (m+b)*b)*dx\n",
    "        p1 = p2\n",
    "    end\n",
    "    return area\n",
    "end"
   ]
  },
  {
   "cell_type": "code",
   "execution_count": 175,
   "metadata": {
    "collapsed": false
   },
   "outputs": [
    {
     "name": "stdout",
     "output_type": "stream",
     "text": [
      "Benchmarking 4:\n",
      "  1.631 ms (0 allocations: 0 bytes)\n"
     ]
    }
   ],
   "source": [
    "println(\"Benchmarking 4:\")\n",
    "@btime integral_squared4_simd($pwl);"
   ]
  },
  {
   "cell_type": "markdown",
   "metadata": {},
   "source": [
    "## opencl"
   ]
  },
  {
   "cell_type": "code",
   "execution_count": null,
   "metadata": {
    "collapsed": true
   },
   "outputs": [],
   "source": []
  },
  {
   "cell_type": "markdown",
   "metadata": {},
   "source": [
    "### using simd"
   ]
  },
  {
   "cell_type": "code",
   "execution_count": null,
   "metadata": {
    "collapsed": true
   },
   "outputs": [],
   "source": [
    "pwl = [Point(x, sin(x)) for x in linspace(0, pi, N)];"
   ]
  },
  {
   "cell_type": "code",
   "execution_count": 153,
   "metadata": {
    "collapsed": false
   },
   "outputs": [
    {
     "data": {
      "text/plain": [
       "integral_squared5 (generic function with 1 method)"
      ]
     },
     "execution_count": 153,
     "metadata": {},
     "output_type": "execute_result"
    }
   ],
   "source": [
    "using SIMD\n",
    "function integral_squared5(x::Vector{T}, y::Vector{T}, ::Type{Vec{N, T}}) where {N, T}\n",
    "    @assert length(x) == length(y)\n",
    "    #@assert length(x) % N == 1\n",
    "    area = Vec{N, T}(0)\n",
    "    third = Vec{N, T}(1 / 3)\n",
    "    for i = 1:N:(length(x)-1)\n",
    "        x1 = vload(Vec{N, T}, x, i)\n",
    "        y1 = vload(Vec{N, T}, y, i)\n",
    "        x2 = vload(Vec{N, T}, x, i+1)\n",
    "        y2 = vload(Vec{N, T}, y, i+1)\n",
    "        dx = x2 - x1\n",
    "        dy = y2 - y1\n",
    "        area += dx * (dy * dy * third + y1 * y2)\n",
    "        x1 = x2\n",
    "        y1 = y2\n",
    "    end\n",
    "    return sum(area)\n",
    "end"
   ]
  },
  {
   "cell_type": "code",
   "execution_count": 136,
   "metadata": {
    "collapsed": false
   },
   "outputs": [
    {
     "data": {
      "text/plain": [
       "\u001b[1m\u001b[32mTest Passed\u001b[39m\u001b[22m"
      ]
     },
     "execution_count": 136,
     "metadata": {},
     "output_type": "execute_result"
    }
   ],
   "source": [
    "N = 1_000_001\n",
    "x = map(Float32, collect(linspace(0, pi, N)))\n",
    "y = sin.(x)\n",
    "Base.Test.@test integral_squared5(x, y, Vec{8, Float32}) ≈ pi/2  atol=0.00001"
   ]
  },
  {
   "cell_type": "code",
   "execution_count": 154,
   "metadata": {
    "collapsed": false
   },
   "outputs": [],
   "source": [
    "N = 1_000_000\n",
    "x = map(Float32, collect(linspace(0, pi, N)))\n",
    "y = sin.(x);"
   ]
  },
  {
   "cell_type": "code",
   "execution_count": 155,
   "metadata": {
    "collapsed": false,
    "scrolled": true
   },
   "outputs": [
    {
     "name": "stdout",
     "output_type": "stream",
     "text": [
      "Benchmarking 5:\n",
      "  460.559 μs (1 allocation: 16 bytes)\n"
     ]
    },
    {
     "data": {
      "text/plain": [
       "1.570792f0"
      ]
     },
     "execution_count": 155,
     "metadata": {},
     "output_type": "execute_result"
    }
   ],
   "source": [
    "println(\"Benchmarking 5:\")\n",
    "@btime integral_squared5(x, y, Vec{8, Float32})"
   ]
  },
  {
   "cell_type": "code",
   "execution_count": 159,
   "metadata": {
    "collapsed": false
   },
   "outputs": [
    {
     "data": {
      "text/plain": [
       "integral_squared6 (generic function with 1 method)"
      ]
     },
     "execution_count": 159,
     "metadata": {},
     "output_type": "execute_result"
    }
   ],
   "source": [
    "using Base.Threads\n",
    "function integral_squared6{T}(x::Vector{T},y::Vector{T})\n",
    "    area = zero(T)\n",
    "    third = T(1/3)\n",
    "    nsub = 512\n",
    "    nouter = ceil(Int,length(x)/nsub)\n",
    "    nt = nthreads()\n",
    "    accs = [zeros(T,nsub) for i in 1:nt]\n",
    "    @threads for i in 0:nouter-1\n",
    "        @inbounds begin\n",
    "        id = threadid()\n",
    "        acc = accs[id]\n",
    "        ioff = nsub * i\n",
    "        ninner = ifelse(i==nouter-1,length(x)-ioff-1,nsub)\n",
    "        @simd for j=1:ninner\n",
    "            x1 = x[ioff+j]\n",
    "            y1 = y[ioff+j]\n",
    "            x2 = x[ioff+j+1]\n",
    "            y2 = y[ioff+j+1]\n",
    "            dx = x2 - x1\n",
    "            dy = y2 - y1\n",
    "            acc[j] += dx*(dy*dy*third + y1*y2)\n",
    "        end\n",
    "        end\n",
    "    end\n",
    "    area = sum(map(sum,accs))\n",
    "    return area\n",
    "end"
   ]
  },
  {
   "cell_type": "code",
   "execution_count": 167,
   "metadata": {
    "collapsed": false
   },
   "outputs": [
    {
     "name": "stdout",
     "output_type": "stream",
     "text": [
      "Benchmarking 6:\n",
      "  515.509 μs (5 allocations: 2.41 KiB)\n"
     ]
    },
    {
     "data": {
      "text/plain": [
       "1.5707963f0"
      ]
     },
     "execution_count": 167,
     "metadata": {},
     "output_type": "execute_result"
    }
   ],
   "source": [
    "println(\"Benchmarking 6:\")\n",
    "@btime integral_squared6($x, $y)"
   ]
  },
  {
   "cell_type": "code",
   "execution_count": null,
   "metadata": {
    "collapsed": false
   },
   "outputs": [],
   "source": []
  },
  {
   "cell_type": "code",
   "execution_count": null,
   "metadata": {
    "collapsed": true
   },
   "outputs": [],
   "source": []
  },
  {
   "cell_type": "code",
   "execution_count": 165,
   "metadata": {
    "collapsed": false
   },
   "outputs": [
    {
     "data": {
      "text/plain": [
       "integral_squared7 (generic function with 1 method)"
      ]
     },
     "execution_count": 165,
     "metadata": {},
     "output_type": "execute_result"
    }
   ],
   "source": [
    "function integral_squared7{T}(x::Vector{T},y::Vector{T})\n",
    "    area = zero(T)\n",
    "    third = T(1/3)\n",
    "    nsub = 512\n",
    "    acc = accs[id]\n",
    "    nouter = ceil(Int,length(x)/nsub)\n",
    "    @inbounds begin\n",
    "        @simd for j=1:length(x)\n",
    "            x1 = x[j]\n",
    "            y1 = y[j]\n",
    "            x2 = x[j+1]\n",
    "            y2 = y[j+1]\n",
    "            dx = x2 - x1\n",
    "            dy = y2 - y1\n",
    "            acc[j] += dx*(dy*dy*third + y1*y2)\n",
    "        end\n",
    "    end\n",
    "    return area\n",
    "end"
   ]
  },
  {
   "cell_type": "code",
   "execution_count": 166,
   "metadata": {
    "collapsed": false
   },
   "outputs": [
    {
     "name": "stdout",
     "output_type": "stream",
     "text": [
      "Benchmarking 7:\n"
     ]
    },
    {
     "ename": "LoadError",
     "evalue": "\u001b[91mUndefVarError: acc not defined\u001b[39m",
     "output_type": "error",
     "traceback": [
      "\u001b[91mUndefVarError: acc not defined\u001b[39m",
      "",
      "Stacktrace:",
      " [1] \u001b[1mmacro expansion\u001b[22m\u001b[22m at \u001b[1m./In[165]:14\u001b[22m\u001b[22m [inlined]",
      " [2] \u001b[1mmacro expansion\u001b[22m\u001b[22m at \u001b[1m./simdloop.jl:73\u001b[22m\u001b[22m [inlined]",
      " [3] \u001b[1mintegral_squared7\u001b[22m\u001b[22m\u001b[1m(\u001b[22m\u001b[22m::Array{Float32,1}, ::Array{Float32,1}\u001b[1m)\u001b[22m\u001b[22m at \u001b[1m./In[165]:7\u001b[22m\u001b[22m",
      " [4] \u001b[1m##core#1372\u001b[22m\u001b[22m\u001b[1m(\u001b[22m\u001b[22m::Array{Float32,1}, ::Array{Float32,1}\u001b[1m)\u001b[22m\u001b[22m at \u001b[1m/Users/davidbuchacaprats/.julia/v0.6/BenchmarkTools/src/execution.jl:316\u001b[22m\u001b[22m",
      " [5] \u001b[1m##sample#1373\u001b[22m\u001b[22m\u001b[1m(\u001b[22m\u001b[22m::BenchmarkTools.Parameters\u001b[1m)\u001b[22m\u001b[22m at \u001b[1m/Users/davidbuchacaprats/.julia/v0.6/BenchmarkTools/src/execution.jl:322\u001b[22m\u001b[22m",
      " [6] \u001b[1m#_run#154\u001b[22m\u001b[22m\u001b[1m(\u001b[22m\u001b[22m::Bool, ::String, ::Array{Any,1}, ::Function, ::BenchmarkTools.Benchmark{Symbol(\"##benchmark#1371\")}, ::BenchmarkTools.Parameters\u001b[1m)\u001b[22m\u001b[22m at \u001b[1m/Users/davidbuchacaprats/.julia/v0.6/BenchmarkTools/src/execution.jl:350\u001b[22m\u001b[22m",
      " [7] \u001b[1m(::BenchmarkTools.#kw##_run)\u001b[22m\u001b[22m\u001b[1m(\u001b[22m\u001b[22m::Array{Any,1}, ::BenchmarkTools.#_run, ::BenchmarkTools.Benchmark{Symbol(\"##benchmark#1371\")}, ::BenchmarkTools.Parameters\u001b[1m)\u001b[22m\u001b[22m at \u001b[1m./<missing>:0\u001b[22m\u001b[22m",
      " [8] \u001b[1manonymous\u001b[22m\u001b[22m at \u001b[1m./<missing>:?\u001b[22m\u001b[22m",
      " [9] \u001b[1m#run_result#19\u001b[22m\u001b[22m\u001b[1m(\u001b[22m\u001b[22m::Array{Any,1}, ::Function, ::BenchmarkTools.Benchmark{Symbol(\"##benchmark#1371\")}, ::BenchmarkTools.Parameters\u001b[1m)\u001b[22m\u001b[22m at \u001b[1m/Users/davidbuchacaprats/.julia/v0.6/BenchmarkTools/src/execution.jl:44\u001b[22m\u001b[22m",
      " [10] \u001b[1m(::BenchmarkTools.#kw##run_result)\u001b[22m\u001b[22m\u001b[1m(\u001b[22m\u001b[22m::Array{Any,1}, ::BenchmarkTools.#run_result, ::BenchmarkTools.Benchmark{Symbol(\"##benchmark#1371\")}, ::BenchmarkTools.Parameters\u001b[1m)\u001b[22m\u001b[22m at \u001b[1m./<missing>:0\u001b[22m\u001b[22m",
      " [11] \u001b[1m#run#21\u001b[22m\u001b[22m\u001b[1m(\u001b[22m\u001b[22m::Array{Any,1}, ::Function, ::BenchmarkTools.Benchmark{Symbol(\"##benchmark#1371\")}, ::BenchmarkTools.Parameters\u001b[1m)\u001b[22m\u001b[22m at \u001b[1m/Users/davidbuchacaprats/.julia/v0.6/BenchmarkTools/src/execution.jl:67\u001b[22m\u001b[22m",
      " [12] \u001b[1m(::Base.#kw##run)\u001b[22m\u001b[22m\u001b[1m(\u001b[22m\u001b[22m::Array{Any,1}, ::Base.#run, ::BenchmarkTools.Benchmark{Symbol(\"##benchmark#1371\")}, ::BenchmarkTools.Parameters\u001b[1m)\u001b[22m\u001b[22m at \u001b[1m./<missing>:0\u001b[22m\u001b[22m",
      " [13] \u001b[1mwarmup\u001b[22m\u001b[22m\u001b[1m(\u001b[22m\u001b[22m::BenchmarkTools.Benchmark{Symbol(\"##benchmark#1371\")}\u001b[1m)\u001b[22m\u001b[22m at \u001b[1m/Users/davidbuchacaprats/.julia/v0.6/BenchmarkTools/src/execution.jl:100\u001b[22m\u001b[22m"
     ]
    }
   ],
   "source": [
    "println(\"Benchmarking 7:\")\n",
    "@btime integral_squared7($x, $y)"
   ]
  },
  {
   "cell_type": "markdown",
   "metadata": {},
   "source": [
    "## SIMD instructions"
   ]
  },
  {
   "cell_type": "code",
   "execution_count": 124,
   "metadata": {
    "collapsed": false
   },
   "outputs": [
    {
     "data": {
      "text/plain": [
       "timeit (generic function with 1 method)"
      ]
     },
     "execution_count": 124,
     "metadata": {},
     "output_type": "execute_result"
    }
   ],
   "source": [
    "function inner( x, y )\n",
    "    s = zero(eltype(x)) \n",
    "    for i=1:length(x)\n",
    "    @inbounds s += x[i]*y[i] \n",
    "    end\n",
    "    return s\n",
    "end\n",
    "\n",
    "function innersimd( x, y )\n",
    "    s = zero(eltype(x))\n",
    "    @simd for i=1:length(x)\n",
    "        @inbounds s += x[i]*y[i] \n",
    "    end\n",
    "    return s\n",
    "end\n",
    "\n",
    "function timeit( n, reps )\n",
    "    x = rand(Float32,n)\n",
    "    y = rand(Float32,n)\n",
    "    s = zero(Float64)\n",
    "    \n",
    "    time = @elapsed for j in 1:reps \n",
    "        s+=inner(x,y)\n",
    "    end\n",
    "\n",
    "    println(\"GFlop/sec = \",2.0*n*reps/time*1E-9) \n",
    "    time = @elapsed for j in 1:reps\n",
    "    s+=innersimd(x,y) \n",
    "    end\n",
    "\n",
    "    println(\"GFlop/sec (SIMD) = \",2.0*n*reps/time*1E-9)\n",
    "end"
   ]
  },
  {
   "cell_type": "code",
   "execution_count": 125,
   "metadata": {
    "collapsed": false
   },
   "outputs": [
    {
     "name": "stdout",
     "output_type": "stream",
     "text": [
      "GFlop/sec = 2.2413483951945494\n",
      "GFlop/sec (SIMD) = 11.847639357857947\n"
     ]
    }
   ],
   "source": [
    "timeit(1000, 1000)"
   ]
  },
  {
   "cell_type": "code",
   "execution_count": 126,
   "metadata": {
    "collapsed": false
   },
   "outputs": [
    {
     "data": {
      "text/plain": [
       "0.0f0"
      ]
     },
     "execution_count": 126,
     "metadata": {},
     "output_type": "execute_result"
    }
   ],
   "source": [
    "using BenchmarkTools\n",
    "\n",
    "n = 100\n",
    "x = rand(Float32,n)\n",
    "y = rand(Float32,n)\n",
    "s = zero(Float32)\n"
   ]
  },
  {
   "cell_type": "code",
   "execution_count": 127,
   "metadata": {
    "collapsed": false,
    "scrolled": true
   },
   "outputs": [
    {
     "name": "stdout",
     "output_type": "stream",
     "text": [
      "  49.504 ns (1 allocation: 16 bytes)\n"
     ]
    },
    {
     "data": {
      "text/plain": [
       "24.495232f0"
      ]
     },
     "execution_count": 127,
     "metadata": {},
     "output_type": "execute_result"
    }
   ],
   "source": [
    "@btime innersimd(x,y)"
   ]
  },
  {
   "cell_type": "code",
   "execution_count": 128,
   "metadata": {
    "collapsed": false
   },
   "outputs": [
    {
     "name": "stdout",
     "output_type": "stream",
     "text": [
      "  111.777 ns (1 allocation: 16 bytes)\n"
     ]
    },
    {
     "data": {
      "text/plain": [
       "24.495235f0"
      ]
     },
     "execution_count": 128,
     "metadata": {},
     "output_type": "execute_result"
    }
   ],
   "source": [
    "@btime inner(x,y)"
   ]
  },
  {
   "cell_type": "code",
   "execution_count": 129,
   "metadata": {
    "collapsed": false
   },
   "outputs": [
    {
     "data": {
      "text/plain": [
       "0.0f0"
      ]
     },
     "execution_count": 129,
     "metadata": {},
     "output_type": "execute_result"
    }
   ],
   "source": [
    "# If vectors are too small there is no difference\n",
    "n = 10 \n",
    "x = rand(Float32,n)\n",
    "y = rand(Float32,n)\n",
    "s = zero(Float32)"
   ]
  },
  {
   "cell_type": "code",
   "execution_count": 130,
   "metadata": {
    "collapsed": false
   },
   "outputs": [
    {
     "name": "stdout",
     "output_type": "stream",
     "text": [
      "  36.435 ns (1 allocation: 16 bytes)\n"
     ]
    },
    {
     "data": {
      "text/plain": [
       "1.2898246f0"
      ]
     },
     "execution_count": 130,
     "metadata": {},
     "output_type": "execute_result"
    }
   ],
   "source": [
    "@btime innersimd(x,y)"
   ]
  },
  {
   "cell_type": "code",
   "execution_count": 131,
   "metadata": {
    "collapsed": false,
    "scrolled": false
   },
   "outputs": [
    {
     "name": "stdout",
     "output_type": "stream",
     "text": [
      "  36.747 ns (1 allocation: 16 bytes)\n"
     ]
    },
    {
     "data": {
      "text/plain": [
       "1.2898245f0"
      ]
     },
     "execution_count": 131,
     "metadata": {},
     "output_type": "execute_result"
    }
   ],
   "source": [
    "@btime inner(x,y)"
   ]
  },
  {
   "cell_type": "markdown",
   "metadata": {},
   "source": [
    "## simd summation"
   ]
  },
  {
   "cell_type": "code",
   "execution_count": 118,
   "metadata": {
    "collapsed": false
   },
   "outputs": [
    {
     "data": {
      "text/plain": [
       "summation_simd_elem (generic function with 1 method)"
      ]
     },
     "execution_count": 118,
     "metadata": {},
     "output_type": "execute_result"
    }
   ],
   "source": [
    "\n",
    "function summation(x)\n",
    "    s = zero(x[1])\n",
    "    for i=1:length(x)\n",
    "        @inbounds s +=x[i]\n",
    "    end\n",
    "    return s\n",
    "end\n",
    "\n",
    "function summation_simd(x)\n",
    "    s = zero(x[1])\n",
    "    @simd for i=1:length(x)\n",
    "        @inbounds s +=x[i]\n",
    "    end\n",
    "    return s\n",
    "end\n",
    "\n",
    "function summation_simd_elem(x)\n",
    "    s = zero(x[1])\n",
    "    @simd for x_k in x\n",
    "        @inbounds s +=x_k\n",
    "    end\n",
    "    return s\n",
    "end"
   ]
  },
  {
   "cell_type": "code",
   "execution_count": 119,
   "metadata": {
    "collapsed": true
   },
   "outputs": [],
   "source": [
    "x = rand(Float32,1000);\n",
    "xbig = rand(Float32,10000);"
   ]
  },
  {
   "cell_type": "code",
   "execution_count": 120,
   "metadata": {
    "collapsed": true
   },
   "outputs": [],
   "source": [
    "using BenchmarkTools"
   ]
  },
  {
   "cell_type": "code",
   "execution_count": 121,
   "metadata": {
    "collapsed": false,
    "scrolled": true
   },
   "outputs": [
    {
     "name": "stdout",
     "output_type": "stream",
     "text": [
      "  826.835 ns (0 allocations: 0 bytes)\n"
     ]
    },
    {
     "data": {
      "text/plain": [
       "498.49457f0"
      ]
     },
     "execution_count": 121,
     "metadata": {},
     "output_type": "execute_result"
    }
   ],
   "source": [
    "@btime summation($x)"
   ]
  },
  {
   "cell_type": "code",
   "execution_count": 122,
   "metadata": {
    "collapsed": false
   },
   "outputs": [
    {
     "name": "stdout",
     "output_type": "stream",
     "text": [
      "  104.394 ns (0 allocations: 0 bytes)\n"
     ]
    },
    {
     "data": {
      "text/plain": [
       "498.49463f0"
      ]
     },
     "execution_count": 122,
     "metadata": {},
     "output_type": "execute_result"
    }
   ],
   "source": [
    "@btime summation_simd($x)"
   ]
  },
  {
   "cell_type": "code",
   "execution_count": 123,
   "metadata": {
    "collapsed": false,
    "scrolled": true
   },
   "outputs": [
    {
     "name": "stdout",
     "output_type": "stream",
     "text": [
      "  102.560 ns (0 allocations: 0 bytes)\n"
     ]
    },
    {
     "data": {
      "text/plain": [
       "498.49463f0"
      ]
     },
     "execution_count": 123,
     "metadata": {},
     "output_type": "execute_result"
    }
   ],
   "source": [
    "@btime summation_simd_elem($x)"
   ]
  },
  {
   "cell_type": "markdown",
   "metadata": {},
   "source": [
    "#### Check if the code vectorizes"
   ]
  },
  {
   "cell_type": "code",
   "execution_count": 16,
   "metadata": {
    "collapsed": false
   },
   "outputs": [
    {
     "name": "stdout",
     "output_type": "stream",
     "text": [
      "\n",
      "define float @julia_summation_61349(i8** dereferenceable(40)) #0 !dbg !5 {\n",
      "top:\n",
      "  %1 = getelementptr inbounds i8*, i8** %0, i64 1\n",
      "  %2 = bitcast i8** %1 to i64*\n",
      "  %3 = load i64, i64* %2, align 8\n",
      "  %4 = icmp slt i64 %3, 1\n",
      "  br i1 %4, label %L18, label %if.lr.ph\n",
      "\n",
      "if.lr.ph:                                         ; preds = %top\n",
      "  %5 = bitcast i8** %0 to float**\n",
      "  %6 = load float*, float** %5, align 8\n",
      "  br label %if\n",
      "\n",
      "if:                                               ; preds = %if.lr.ph, %if\n",
      "  %s.03 = phi float [ 0.000000e+00, %if.lr.ph ], [ %11, %if ]\n",
      "  %\"#temp#.02\" = phi i64 [ 1, %if.lr.ph ], [ %7, %if ]\n",
      "  %7 = add i64 %\"#temp#.02\", 1\n",
      "  %8 = add i64 %\"#temp#.02\", -1\n",
      "  %9 = getelementptr float, float* %6, i64 %8\n",
      "  %10 = load float, float* %9, align 4\n",
      "  %11 = fadd float %s.03, %10\n",
      "  %12 = icmp eq i64 %\"#temp#.02\", %3\n",
      "  br i1 %12, label %L18.loopexit, label %if\n",
      "\n",
      "L18.loopexit:                                     ; preds = %if\n",
      "  br label %L18\n",
      "\n",
      "L18:                                              ; preds = %L18.loopexit, %top\n",
      "  %s.0.lcssa = phi float [ 0.000000e+00, %top ], [ %11, %L18.loopexit ]\n",
      "  ret float %s.0.lcssa\n",
      "}\n"
     ]
    }
   ],
   "source": [
    "@code_llvm summation(x)"
   ]
  },
  {
   "cell_type": "markdown",
   "metadata": {},
   "source": [
    "We want to look for in the llvm code the prefic `vector` which does not appear in the code above. Notice that the code below contains `vector.body` suggesting that the compiler used `vector` instructions.\n"
   ]
  },
  {
   "cell_type": "code",
   "execution_count": 17,
   "metadata": {
    "collapsed": false
   },
   "outputs": [
    {
     "name": "stdout",
     "output_type": "stream",
     "text": [
      "\t.section\t__TEXT,__text,regular,pure_instructions\n",
      "Filename: In[10]\n",
      "\tpushq\t%rbp\n",
      "\tmovq\t%rsp, %rbp\n",
      "Source line: 4\n",
      "\tmovq\t8(%rdi), %rax\n",
      "\tvxorps\t%xmm0, %xmm0, %xmm0\n",
      "\ttestq\t%rax, %rax\n",
      "\tjle\tL45\n",
      "Source line: 5\n",
      "\tmovq\t(%rdi), %rcx\n",
      "\tvxorps\t%xmm0, %xmm0, %xmm0\n",
      "\tnopl\t(%rax,%rax)\n",
      "L32:\n",
      "\tvaddss\t(%rcx), %xmm0, %xmm0\n",
      "Source line: 4\n",
      "\taddq\t$4, %rcx\n",
      "\tdecq\t%rax\n",
      "\tjne\tL32\n",
      "Source line: 7\n",
      "L45:\n",
      "\tpopq\t%rbp\n",
      "\tretq\n",
      "\tnop\n"
     ]
    }
   ],
   "source": [
    "@code_native summation(x)"
   ]
  },
  {
   "cell_type": "code",
   "execution_count": 18,
   "metadata": {
    "collapsed": false,
    "scrolled": false
   },
   "outputs": [
    {
     "name": "stdout",
     "output_type": "stream",
     "text": [
      "\t.section\t__TEXT,__text,regular,pure_instructions\n",
      "Filename: In[10]\n",
      "Source line: 67\n",
      "\tmovq\t8(%rdi), %rax\n",
      "Source line: 64\n",
      "\tmovq\t24(%rdi), %rdx\n",
      "\txorl\t%ecx, %ecx\n",
      "Source line: 79\n",
      "\ttestq\t%rdx, %rdx\n",
      "\tcmovnsq\t%rdx, %rcx\n",
      "Source line: 68\n",
      "\ttestq\t%rax, %rax\n",
      "\tjle\tL321\n",
      "Source line: 79\n",
      "\tleaq\t-1(%rcx), %rsi\n",
      "\tcmpq\t%rdx, %rsi\n",
      "\tjae\tL329\n",
      "Source line: 50\n",
      "\tmovq\t(%rdi), %r9\n",
      "Source line: 66\n",
      "\tleaq\t96(%r9), %r8\n",
      "\tmovq\t%rax, %r10\n",
      "\tandq\t$-32, %r10\n",
      "\tvxorps\t%xmm0, %xmm0, %xmm0\n",
      "\txorl\t%edi, %edi\n",
      "Source line: 50\n",
      "\tvxorps\t%ymm1, %ymm1, %ymm1\n",
      "Source line: 66\n",
      "\tjmp\tL304\n",
      "\tnopw\t%cs:(%rax,%rax)\n",
      "Source line: 71\n",
      "L80:\n",
      "\ttestq\t%rax, %rax\n",
      "\tjle\tL304\n",
      "Source line: 50\n",
      "\tcmpq\t$32, %rax\n",
      "\tjae\tL102\n",
      "\txorl\t%edx, %edx\n",
      "\tjmp\tL263\n",
      "L102:\n",
      "\tmovq\t%rax, %rdx\n",
      "\tandq\t$-32, %rdx\n",
      "\tje\tL261\n",
      "\tvblendps\t$1, %ymm0, %ymm1, %ymm0 ## ymm0 = ymm0[0],ymm1[1,2,3,4,5,6,7]\n",
      "\tvxorps\t%ymm2, %ymm2, %ymm2\n",
      "Source line: 74\n",
      "\tmovq\t%r10, %rsi\n",
      "\tmovq\t%r8, %rcx\n",
      "\tvxorps\t%ymm3, %ymm3, %ymm3\n",
      "\tvxorps\t%ymm4, %ymm4, %ymm4\n",
      "\tnopl\t(%rax,%rax)\n",
      "Source line: 50\n",
      "L144:\n",
      "\tvmovups\t-96(%rcx), %xmm5\n",
      "\tvmovups\t-64(%rcx), %xmm6\n",
      "\tvmovups\t-32(%rcx), %xmm7\n",
      "\tvmovups\t(%rcx), %xmm8\n",
      "\tvinsertf128\t$1, -80(%rcx), %ymm5, %ymm5\n",
      "\tvinsertf128\t$1, -48(%rcx), %ymm6, %ymm6\n",
      "\tvinsertf128\t$1, -16(%rcx), %ymm7, %ymm7\n",
      "\tvinsertf128\t$1, 16(%rcx), %ymm8, %ymm8\n",
      "Source line: 21\n",
      "\tvaddps\t%ymm5, %ymm0, %ymm0\n",
      "\tvaddps\t%ymm6, %ymm2, %ymm2\n",
      "\tvaddps\t%ymm7, %ymm3, %ymm3\n",
      "\tvaddps\t%ymm8, %ymm4, %ymm4\n",
      "Source line: 50\n",
      "\tsubq\t$-128, %rcx\n",
      "\taddq\t$-32, %rsi\n",
      "\tjne\tL144\n",
      "Source line: 21\n",
      "\tvaddps\t%ymm0, %ymm2, %ymm0\n",
      "\tvaddps\t%ymm0, %ymm3, %ymm0\n",
      "\tvaddps\t%ymm0, %ymm4, %ymm0\n",
      "\tvextractf128\t$1, %ymm0, %xmm2\n",
      "\tvaddps\t%ymm2, %ymm0, %ymm0\n",
      "\tvpermilpd\t$1, %xmm0, %xmm2 ## xmm2 = xmm0[1,0]\n",
      "\tvaddps\t%ymm2, %ymm0, %ymm0\n",
      "\tvhaddps\t%ymm0, %ymm0, %ymm0\n",
      "\tcmpq\t%rdx, %rax\n",
      "\tje\tL304\n",
      "\tjmp\tL263\n",
      "L261:\n",
      "\txorl\t%edx, %edx\n",
      "Source line: 50\n",
      "L263:\n",
      "\tmovq\t%rax, %rcx\n",
      "\tsubq\t%rdx, %rcx\n",
      "\tleaq\t(%r9,%rdx,4), %rdx\n",
      "\tnopw\t%cs:(%rax,%rax)\n",
      "Source line: 21\n",
      "L288:\n",
      "\tvaddss\t(%rdx), %xmm0, %xmm0\n",
      "Source line: 71\n",
      "\taddq\t$4, %rdx\n",
      "\tdecq\t%rcx\n",
      "\tjne\tL288\n",
      "\tnopl\t(%rax)\n",
      "Source line: 66\n",
      "L304:\n",
      "\tincq\t%rdi\n",
      "\tcmpq\t$2, %rdi\n",
      "\tjne\tL80\n",
      "Source line: 23\n",
      "\tvzeroupper\n",
      "\tretq\n",
      "L321:\n",
      "\tvxorps\t%xmm0, %xmm0, %xmm0\n",
      "\tvzeroupper\n",
      "\tretq\n",
      "L329:\n",
      "\tpushq\t%rbp\n",
      "\tmovq\t%rsp, %rbp\n",
      "Source line: 79\n",
      "\tmovq\t%rsp, %rax\n",
      "\tleaq\t-16(%rax), %rsi\n",
      "\tmovq\t%rsi, %rsp\n",
      "\tmovq\t%rcx, -16(%rax)\n",
      "\tmovabsq\t$jl_bounds_error_ints, %rax\n",
      "\tmovl\t$1, %edx\n",
      "\tcallq\t*%rax\n",
      "\tnopl\t(%rax)\n"
     ]
    }
   ],
   "source": [
    "@code_native summation_simd_elem(x)"
   ]
  },
  {
   "cell_type": "code",
   "execution_count": 19,
   "metadata": {
    "collapsed": false,
    "scrolled": false
   },
   "outputs": [
    {
     "name": "stdout",
     "output_type": "stream",
     "text": [
      "\n",
      "define float @julia_summation_simd_elem_61391(i8** dereferenceable(40)) #0 !dbg !5 {\n",
      "top:\n",
      "  %1 = getelementptr inbounds i8*, i8** %0, i64 1\n",
      "  %2 = bitcast i8** %1 to i64*\n",
      "  %3 = load i64, i64* %2, align 8\n",
      "  %4 = icmp slt i64 %3, 1\n",
      "  %5 = getelementptr i8*, i8** %0, i64 3\n",
      "  %6 = bitcast i8** %5 to i64*\n",
      "  %7 = load i64, i64* %6, align 8\n",
      "  %8 = icmp slt i64 %7, 0\n",
      "  %9 = select i1 %8, i64 0, i64 %7\n",
      "  br i1 %4, label %top.split.us, label %top.top.split_crit_edge\n",
      "\n",
      "top.top.split_crit_edge:                          ; preds = %top\n",
      "  %10 = add i64 %9, -1\n",
      "  %11 = icmp ult i64 %10, %7\n",
      "  br i1 %11, label %top.split.split.us, label %oob\n",
      "\n",
      "top.split.us:                                     ; preds = %top\n",
      "  br i1 undef, label %L60, label %L60\n",
      "\n",
      "top.split.split.us:                               ; preds = %top.top.split_crit_edge\n",
      "  %12 = bitcast i8** %0 to float**\n",
      "  %13 = load float*, float** %12, align 8\n",
      "  br label %L7.outer.L7.outer.split_crit_edge.us45.outer\n",
      "\n",
      "L19.preheader.us23:                               ; preds = %L7.outer.L7.outer.split_crit_edge.us45\n",
      "  %14 = add i64 %\"#temp#.0.ph.us18\", 1\n",
      "  %15 = icmp sgt i64 %3, 0\n",
      "  br i1 %15, label %if3.us27.preheader, label %L7.outer.L7.outer.split_crit_edge.us45\n",
      "\n",
      "if3.us27.preheader:                               ; preds = %L19.preheader.us23\n",
      "  %min.iters.check = icmp ult i64 %3, 32\n",
      "  br i1 %min.iters.check, label %scalar.ph, label %min.iters.checked\n",
      "\n",
      "min.iters.checked:                                ; preds = %if3.us27.preheader\n",
      "  %n.vec = and i64 %3, -32\n",
      "  %cmp.zero = icmp eq i64 %n.vec, 0\n",
      "  br i1 %cmp.zero, label %scalar.ph, label %vector.ph\n",
      "\n",
      "vector.ph:                                        ; preds = %min.iters.checked\n",
      "  %16 = insertelement <8 x float> <float undef, float 0.000000e+00, float 0.000000e+00, float 0.000000e+00, float 0.000000e+00, float 0.000000e+00, float 0.000000e+00, float 0.000000e+00>, float %s.0.ph.us19.ph, i32 0\n",
      "  br label %vector.body\n",
      "\n",
      "vector.body:                                      ; preds = %vector.body, %vector.ph\n",
      "  %index = phi i64 [ 0, %vector.ph ], [ %index.next, %vector.body ]\n",
      "  %vec.phi = phi <8 x float> [ %16, %vector.ph ], [ %25, %vector.body ]\n",
      "  %vec.phi58 = phi <8 x float> [ zeroinitializer, %vector.ph ], [ %26, %vector.body ]\n",
      "  %vec.phi59 = phi <8 x float> [ zeroinitializer, %vector.ph ], [ %27, %vector.body ]\n",
      "  %vec.phi60 = phi <8 x float> [ zeroinitializer, %vector.ph ], [ %28, %vector.body ]\n",
      "  %17 = getelementptr float, float* %13, i64 %index\n",
      "  %18 = bitcast float* %17 to <8 x float>*\n",
      "  %wide.load = load <8 x float>, <8 x float>* %18, align 4\n",
      "  %19 = getelementptr float, float* %17, i64 8\n",
      "  %20 = bitcast float* %19 to <8 x float>*\n",
      "  %wide.load64 = load <8 x float>, <8 x float>* %20, align 4\n",
      "  %21 = getelementptr float, float* %17, i64 16\n",
      "  %22 = bitcast float* %21 to <8 x float>*\n",
      "  %wide.load65 = load <8 x float>, <8 x float>* %22, align 4\n",
      "  %23 = getelementptr float, float* %17, i64 24\n",
      "  %24 = bitcast float* %23 to <8 x float>*\n",
      "  %wide.load66 = load <8 x float>, <8 x float>* %24, align 4\n",
      "  %25 = fadd fast <8 x float> %vec.phi, %wide.load\n",
      "  %26 = fadd fast <8 x float> %vec.phi58, %wide.load64\n",
      "  %27 = fadd fast <8 x float> %vec.phi59, %wide.load65\n",
      "  %28 = fadd fast <8 x float> %vec.phi60, %wide.load66\n",
      "  %index.next = add i64 %index, 32\n",
      "  %29 = icmp eq i64 %index.next, %n.vec\n",
      "  br i1 %29, label %middle.block, label %vector.body\n",
      "\n",
      "middle.block:                                     ; preds = %vector.body\n",
      "  %bin.rdx = fadd fast <8 x float> %26, %25\n",
      "  %bin.rdx69 = fadd fast <8 x float> %27, %bin.rdx\n",
      "  %bin.rdx70 = fadd fast <8 x float> %28, %bin.rdx69\n",
      "  %rdx.shuf = shufflevector <8 x float> %bin.rdx70, <8 x float> undef, <8 x i32> <i32 4, i32 5, i32 6, i32 7, i32 undef, i32 undef, i32 undef, i32 undef>\n",
      "  %bin.rdx71 = fadd fast <8 x float> %bin.rdx70, %rdx.shuf\n",
      "  %rdx.shuf72 = shufflevector <8 x float> %bin.rdx71, <8 x float> undef, <8 x i32> <i32 2, i32 3, i32 undef, i32 undef, i32 undef, i32 undef, i32 undef, i32 undef>\n",
      "  %bin.rdx73 = fadd fast <8 x float> %bin.rdx71, %rdx.shuf72\n",
      "  %rdx.shuf74 = shufflevector <8 x float> %bin.rdx73, <8 x float> undef, <8 x i32> <i32 1, i32 undef, i32 undef, i32 undef, i32 undef, i32 undef, i32 undef, i32 undef>\n",
      "  %bin.rdx75 = fadd fast <8 x float> %bin.rdx73, %rdx.shuf74\n",
      "  %30 = extractelement <8 x float> %bin.rdx75, i32 0\n",
      "  %cmp.n = icmp eq i64 %3, %n.vec\n",
      "  br i1 %cmp.n, label %L7.outer.L7.outer.split_crit_edge.us45.outer.loopexit, label %scalar.ph\n",
      "\n",
      "scalar.ph:                                        ; preds = %middle.block, %min.iters.checked, %if3.us27.preheader\n",
      "  %bc.resume.val = phi i64 [ %n.vec, %middle.block ], [ 0, %if3.us27.preheader ], [ 0, %min.iters.checked ]\n",
      "  %bc.merge.rdx = phi float [ %30, %middle.block ], [ %s.0.ph.us19.ph, %if3.us27.preheader ], [ %s.0.ph.us19.ph, %min.iters.checked ]\n",
      "  br label %if3.us27\n",
      "\n",
      "if3.us27:                                         ; preds = %scalar.ph, %if3.us27\n",
      "  %s.19.us28 = phi float [ %33, %if3.us27 ], [ %bc.merge.rdx, %scalar.ph ]\n",
      "  %\"i#684.08.us29\" = phi i64 [ %34, %if3.us27 ], [ %bc.resume.val, %scalar.ph ]\n",
      "  %31 = getelementptr float, float* %13, i64 %\"i#684.08.us29\"\n",
      "  %32 = load float, float* %31, align 4\n",
      "  %33 = fadd fast float %s.19.us28, %32\n",
      "  %34 = add nuw nsw i64 %\"i#684.08.us29\", 1\n",
      "  %exitcond53 = icmp eq i64 %34, %3\n",
      "  br i1 %exitcond53, label %L7.outer.L7.outer.split_crit_edge.us45.outer.loopexit, label %if3.us27\n",
      "\n",
      "L7.outer.L7.outer.split_crit_edge.us45.outer.loopexit: ; preds = %middle.block, %if3.us27\n",
      "  %.lcssa57 = phi float [ %33, %if3.us27 ], [ %30, %middle.block ]\n",
      "  br label %L7.outer.L7.outer.split_crit_edge.us45.outer\n",
      "\n",
      "L7.outer.L7.outer.split_crit_edge.us45.outer:     ; preds = %L7.outer.L7.outer.split_crit_edge.us45.outer.loopexit, %top.split.split.us\n",
      "  %\"#temp#.0.ph.us18.ph\" = phi i64 [ 0, %top.split.split.us ], [ %14, %L7.outer.L7.outer.split_crit_edge.us45.outer.loopexit ]\n",
      "  %s.0.ph.us19.ph = phi float [ 0.000000e+00, %top.split.split.us ], [ %.lcssa57, %L7.outer.L7.outer.split_crit_edge.us45.outer.loopexit ]\n",
      "  br label %L7.outer.L7.outer.split_crit_edge.us45\n",
      "\n",
      "L7.outer.L7.outer.split_crit_edge.us45:           ; preds = %L7.outer.L7.outer.split_crit_edge.us45.outer, %L19.preheader.us23\n",
      "  %\"#temp#.0.ph.us18\" = phi i64 [ %14, %L19.preheader.us23 ], [ %\"#temp#.0.ph.us18.ph\", %L7.outer.L7.outer.split_crit_edge.us45.outer ]\n",
      "  %35 = icmp eq i64 %\"#temp#.0.ph.us18\", 1\n",
      "  br i1 %35, label %L60.loopexit, label %L19.preheader.us23\n",
      "\n",
      "L60.loopexit:                                     ; preds = %L7.outer.L7.outer.split_crit_edge.us45\n",
      "  br label %L60\n",
      "\n",
      "L60:                                              ; preds = %L60.loopexit, %top.split.us, %top.split.us\n",
      "  %s.0.ph.lcssa7 = phi float [ 0.000000e+00, %top.split.us ], [ 0.000000e+00, %top.split.us ], [ %s.0.ph.us19.ph, %L60.loopexit ]\n",
      "  ret float %s.0.ph.lcssa7\n",
      "\n",
      "oob:                                              ; preds = %top.top.split_crit_edge\n",
      "  %36 = alloca i64, align 8\n",
      "  store i64 %9, i64* %36, align 8\n",
      "  call void @jl_bounds_error_ints(i8** nonnull %0, i64* nonnull %36, i64 1)\n",
      "  unreachable\n",
      "}\n"
     ]
    }
   ],
   "source": [
    "@code_llvm summation_simd_elem(x)"
   ]
  },
  {
   "cell_type": "markdown",
   "metadata": {},
   "source": [
    "# Loss between two minibatches\n",
    "\n",
    "If we consider a minibatch to be an array whose columns are examples we can compute the loss over a whole minibatch of predictions and targets in a single for loop using SIMD instructions."
   ]
  },
  {
   "cell_type": "code",
   "execution_count": 20,
   "metadata": {
    "collapsed": true
   },
   "outputs": [],
   "source": [
    "srand(1)\n",
    "y_pred = rand(10,200);\n",
    "y = rand(10,200);"
   ]
  },
  {
   "cell_type": "code",
   "execution_count": 21,
   "metadata": {
    "collapsed": false
   },
   "outputs": [
    {
     "data": {
      "text/plain": [
       "se (generic function with 1 method)"
      ]
     },
     "execution_count": 21,
     "metadata": {},
     "output_type": "execute_result"
    }
   ],
   "source": [
    "# squared error\n",
    "function se(x,y)\n",
    "    dist = zero(eltype(x))\n",
    "    for i in 1:length(x)\n",
    "        @inbounds dist += (x[i] - y[i])^2\n",
    "    end\n",
    "    return dist\n",
    "end"
   ]
  },
  {
   "cell_type": "code",
   "execution_count": 22,
   "metadata": {
    "collapsed": false,
    "scrolled": true
   },
   "outputs": [
    {
     "name": "stdout",
     "output_type": "stream",
     "text": [
      "3.843436662540462\n",
      "3.843436662540462\n"
     ]
    }
   ],
   "source": [
    "println(se(y_pred[:,1], y[:,1]) + se(y_pred[:,2], y[:,2]))\n",
    "println(se(y_pred[1:20], y[1:20]))"
   ]
  },
  {
   "cell_type": "markdown",
   "metadata": {},
   "source": [
    "In this example the loss can be computed equally \n",
    "\n",
    "- by summing over the losses for every example\n",
    "- by summing over the loss of a single \"superexample\", the whole concatenated mimnibatch\n"
   ]
  },
  {
   "cell_type": "code",
   "execution_count": 23,
   "metadata": {
    "collapsed": false
   },
   "outputs": [
    {
     "name": "stdout",
     "output_type": "stream",
     "text": [
      "  0.007600 seconds (2.00 k allocations: 114.390 KiB)\n"
     ]
    },
    {
     "data": {
      "text/plain": [
       "327.5997310650614"
      ]
     },
     "execution_count": 23,
     "metadata": {},
     "output_type": "execute_result"
    }
   ],
   "source": [
    "@time se(y_pred,y)"
   ]
  },
  {
   "cell_type": "code",
   "execution_count": 24,
   "metadata": {
    "collapsed": false
   },
   "outputs": [
    {
     "name": "stdout",
     "output_type": "stream",
     "text": [
      "  0.096710 seconds (104.05 k allocations: 5.602 MiB)\n"
     ]
    },
    {
     "data": {
      "text/plain": [
       "327.5997310650613"
      ]
     },
     "execution_count": 24,
     "metadata": {},
     "output_type": "execute_result"
    }
   ],
   "source": [
    "# If we do it iterating per exmaple (without creaing new arrays)\n",
    "d = 0.\n",
    "@time  for m in 1:200 d+=se(view(y_pred,:,m), view(y,:,m)) end\n",
    "d"
   ]
  },
  {
   "cell_type": "code",
   "execution_count": 25,
   "metadata": {
    "collapsed": false
   },
   "outputs": [
    {
     "name": "stdout",
     "output_type": "stream",
     "text": [
      "  0.000068 seconds (1.20 k allocations: 75.000 KiB)\n"
     ]
    },
    {
     "data": {
      "text/plain": [
       "327.5997310650613"
      ]
     },
     "execution_count": 25,
     "metadata": {},
     "output_type": "execute_result"
    }
   ],
   "source": [
    "# If we do it iterating per exmaple  (creating new arrays)\n",
    "d = 0.\n",
    "@time  for m in 1:200 d+=se(y_pred[:,m],y[:,m]) end\n",
    "d"
   ]
  },
  {
   "cell_type": "markdown",
   "metadata": {},
   "source": [
    "##### Benchmark"
   ]
  },
  {
   "cell_type": "code",
   "execution_count": 26,
   "metadata": {
    "collapsed": true
   },
   "outputs": [],
   "source": [
    "srand(1)\n",
    "y_pred = rand(Float32, 10,200);\n",
    "y = rand(Float32, 10,200);"
   ]
  },
  {
   "cell_type": "code",
   "execution_count": 27,
   "metadata": {
    "collapsed": false,
    "scrolled": true
   },
   "outputs": [
    {
     "data": {
      "text/plain": [
       "se (generic function with 1 method)"
      ]
     },
     "execution_count": 27,
     "metadata": {},
     "output_type": "execute_result"
    }
   ],
   "source": [
    "# squared error\n",
    "function se(x,y)\n",
    "    dist = zero(eltype(x))\n",
    "    for i in 1:length(x)\n",
    "        @inbounds dist += (x[i] - y[i])^2\n",
    "    end\n",
    "    return dist\n",
    "end"
   ]
  },
  {
   "cell_type": "code",
   "execution_count": 28,
   "metadata": {
    "collapsed": false
   },
   "outputs": [
    {
     "data": {
      "text/plain": [
       "se_simd (generic function with 1 method)"
      ]
     },
     "execution_count": 28,
     "metadata": {},
     "output_type": "execute_result"
    }
   ],
   "source": [
    "# squared error\n",
    "function se_simd(X, Y)\n",
    "    dist = zero(eltype(X))\n",
    "    @simd for i in 1:length(X)\n",
    "        @inbounds dist += (X[i] - Y[i])^2\n",
    "    end\n",
    "    return dist\n",
    "end"
   ]
  },
  {
   "cell_type": "code",
   "execution_count": 29,
   "metadata": {
    "collapsed": false
   },
   "outputs": [
    {
     "name": "stdout",
     "output_type": "stream",
     "text": [
      "339.9466\n",
      "339.94638\n"
     ]
    }
   ],
   "source": [
    "println(se(y_pred,y))\n",
    "println(se_simd(y_pred,y))"
   ]
  },
  {
   "cell_type": "code",
   "execution_count": 32,
   "metadata": {
    "collapsed": false
   },
   "outputs": [
    {
     "data": {
      "text/plain": [
       "BenchmarkTools.Trial: \n",
       "  memory estimate:  16 bytes\n",
       "  allocs estimate:  1\n",
       "  --------------\n",
       "  minimum time:     247.741 ns (0.00% GC)\n",
       "  median time:      266.622 ns (0.00% GC)\n",
       "  mean time:        271.485 ns (0.25% GC)\n",
       "  maximum time:     3.867 μs (88.79% GC)\n",
       "  --------------\n",
       "  samples:          10000\n",
       "  evals/sample:     328"
      ]
     },
     "execution_count": 32,
     "metadata": {},
     "output_type": "execute_result"
    }
   ],
   "source": [
    "@benchmark se_simd(y_pred, y)"
   ]
  },
  {
   "cell_type": "code",
   "execution_count": 31,
   "metadata": {
    "collapsed": false
   },
   "outputs": [
    {
     "data": {
      "text/plain": [
       "BenchmarkTools.Trial: \n",
       "  memory estimate:  16 bytes\n",
       "  allocs estimate:  1\n",
       "  --------------\n",
       "  minimum time:     1.569 μs (0.00% GC)\n",
       "  median time:      1.571 μs (0.00% GC)\n",
       "  mean time:        1.624 μs (0.00% GC)\n",
       "  maximum time:     8.664 μs (0.00% GC)\n",
       "  --------------\n",
       "  samples:          10000\n",
       "  evals/sample:     10"
      ]
     },
     "execution_count": 31,
     "metadata": {},
     "output_type": "execute_result"
    }
   ],
   "source": [
    "@benchmark  se(y_pred, y)"
   ]
  },
  {
   "cell_type": "code",
   "execution_count": 33,
   "metadata": {
    "collapsed": false
   },
   "outputs": [
    {
     "data": {
      "text/plain": [
       "BenchmarkTools.Trial: \n",
       "  memory estimate:  212.50 KiB\n",
       "  allocs estimate:  10800\n",
       "  --------------\n",
       "  minimum time:     2.408 ms (0.00% GC)\n",
       "  median time:      2.486 ms (0.00% GC)\n",
       "  mean time:        2.545 ms (0.64% GC)\n",
       "  maximum time:     4.676 ms (38.53% GC)\n",
       "  --------------\n",
       "  samples:          1963\n",
       "  evals/sample:     1"
      ]
     },
     "execution_count": 33,
     "metadata": {},
     "output_type": "execute_result"
    }
   ],
   "source": [
    "@benchmark begin \n",
    "               d = 0.; \n",
    "               for m in 1:200 \n",
    "                   d+=se(view(y_pred,:,m),view(y,:,m))\n",
    "               end\n",
    "           end"
   ]
  },
  {
   "cell_type": "markdown",
   "metadata": {},
   "source": [
    "#### Another example not as clear: involving a loss function that divides by a length"
   ]
  },
  {
   "cell_type": "code",
   "execution_count": 74,
   "metadata": {
    "collapsed": false
   },
   "outputs": [
    {
     "data": {
      "text/plain": [
       "mse (generic function with 1 method)"
      ]
     },
     "execution_count": 74,
     "metadata": {},
     "output_type": "execute_result"
    }
   ],
   "source": [
    "function mse(x,y)\n",
    "    dist = zero(eltype(x))\n",
    "    for i in 1:length(x)\n",
    "        dist += (x[i] - y[i])^2\n",
    "    end\n",
    "    return dist/length(x)\n",
    "end"
   ]
  },
  {
   "cell_type": "code",
   "execution_count": 75,
   "metadata": {
    "collapsed": false
   },
   "outputs": [
    {
     "name": "stdout",
     "output_type": "stream",
     "text": [
      "0.3395241\n",
      "0.16976205\n"
     ]
    }
   ],
   "source": [
    "println(mse(y_pred[:,1], y[:,1]) + mse(y_pred[:,2], y[:,2]))\n",
    "println(mse(y_pred[1:20], y[1:20]))"
   ]
  },
  {
   "cell_type": "markdown",
   "metadata": {},
   "source": [
    "In this example it is not equivalent, yet we can easily find an alternative"
   ]
  },
  {
   "cell_type": "code",
   "execution_count": 76,
   "metadata": {
    "collapsed": false
   },
   "outputs": [
    {
     "name": "stdout",
     "output_type": "stream",
     "text": [
      "0.33952410221099855\n",
      "0.33952410221099855\n"
     ]
    }
   ],
   "source": [
    "println(se(y_pred[:,1], y[:,1])/10. + se(y_pred[:,2], y[:,2])/10.)\n",
    "println(se(y_pred[1:20], y[1:20])/(10.))"
   ]
  },
  {
   "cell_type": "markdown",
   "metadata": {},
   "source": [
    "Notice that the alternative version of the mse is much faster"
   ]
  },
  {
   "cell_type": "code",
   "execution_count": 81,
   "metadata": {
    "collapsed": false,
    "scrolled": true
   },
   "outputs": [
    {
     "data": {
      "text/plain": [
       "33.994659423828125"
      ]
     },
     "execution_count": 81,
     "metadata": {},
     "output_type": "execute_result"
    }
   ],
   "source": [
    "se(y_pred,y)/10."
   ]
  },
  {
   "cell_type": "code",
   "execution_count": 84,
   "metadata": {
    "collapsed": false
   },
   "outputs": [
    {
     "data": {
      "text/plain": [
       "33.9946366250515"
      ]
     },
     "execution_count": 84,
     "metadata": {},
     "output_type": "execute_result"
    }
   ],
   "source": [
    "d = 0.\n",
    "for m in 1:200 d+=mse(view(y_pred,:,m),view(y,:,m)) end\n",
    "d"
   ]
  },
  {
   "cell_type": "code",
   "execution_count": 118,
   "metadata": {
    "collapsed": false
   },
   "outputs": [
    {
     "data": {
      "text/plain": [
       "mse_normalized_nfeatures_simd (generic function with 3 methods)"
      ]
     },
     "execution_count": 118,
     "metadata": {},
     "output_type": "execute_result"
    }
   ],
   "source": [
    "function mse_normalized_nfeatures_simd{T}(x::Array{T},y::Array{T},n_features)\n",
    "    dist = zero(eltype(x))\n",
    "    @simd for i in 1:length(x)\n",
    "        @inbounds dist += (x[i] - y[i])^2\n",
    "    end\n",
    "    return dist/T(n_features)\n",
    "end"
   ]
  },
  {
   "cell_type": "code",
   "execution_count": 119,
   "metadata": {
    "collapsed": false
   },
   "outputs": [
    {
     "data": {
      "text/plain": [
       "BenchmarkTools.Trial: \n",
       "  memory estimate:  16 bytes\n",
       "  allocs estimate:  1\n",
       "  --------------\n",
       "  minimum time:     341.599 ns (0.00% GC)\n",
       "  median time:      343.507 ns (0.00% GC)\n",
       "  mean time:        376.657 ns (0.00% GC)\n",
       "  maximum time:     6.274 μs (0.00% GC)\n",
       "  --------------\n",
       "  samples:          10000\n",
       "  evals/sample:     217"
      ]
     },
     "execution_count": 119,
     "metadata": {},
     "output_type": "execute_result"
    }
   ],
   "source": [
    "@benchmark mse_normalized_nfeatures_simd(y_pred, y, 10)"
   ]
  },
  {
   "cell_type": "markdown",
   "metadata": {},
   "source": [
    "# Part 1\n",
    "\n",
    "## Example montecarlo pi estimate\n",
    "\n",
    "Let us play with an example from \n",
    "\n"
   ]
  },
  {
   "cell_type": "code",
   "execution_count": null,
   "metadata": {
    "collapsed": true
   },
   "outputs": [],
   "source": [
    "n_cores = 4"
   ]
  },
  {
   "cell_type": "code",
   "execution_count": null,
   "metadata": {
    "collapsed": true
   },
   "outputs": [],
   "source": [
    "workers()"
   ]
  },
  {
   "cell_type": "code",
   "execution_count": null,
   "metadata": {
    "collapsed": true
   },
   "outputs": [],
   "source": [
    "addprocs(4) "
   ]
  },
  {
   "cell_type": "code",
   "execution_count": null,
   "metadata": {
    "collapsed": true
   },
   "outputs": [],
   "source": [
    "workers()"
   ]
  },
  {
   "cell_type": "code",
   "execution_count": null,
   "metadata": {
    "collapsed": true
   },
   "outputs": [],
   "source": [
    "@everywhere function compute_pi(N::Int)\n",
    "    \"\"\"\n",
    "    Compute pi with a Monte Carlo simulation of N darts thrown in [-1,1]^2\n",
    "    Returns estimate of pi\n",
    "    \"\"\"\n",
    "    # counts number of points that have radial coordinate < 1, i.e. in circle\n",
    "    n_landed_in_circle = 0  \n",
    "    for i = 1:N\n",
    "        x = rand() * 2 - 1  # uniformly distributed number on x-axis\n",
    "        y = rand() * 2 - 1  # uniformly distributed number on y-axis\n",
    "\n",
    "        r2 = x*x + y*y  # radius squared, in radial coordinates\n",
    "        if r2 < 1.0\n",
    "            n_landed_in_circle += 1\n",
    "        end\n",
    "    end\n",
    "\n",
    "    return n_landed_in_circle / N * 4.0    \n",
    "end"
   ]
  },
  {
   "cell_type": "code",
   "execution_count": null,
   "metadata": {
    "collapsed": true
   },
   "outputs": [],
   "source": [
    "compute_pi(10)\n",
    "\n",
    "@time compute_pi(1000_000_000)"
   ]
  },
  {
   "cell_type": "markdown",
   "metadata": {},
   "source": [
    "#### Let us go parallel"
   ]
  },
  {
   "cell_type": "code",
   "execution_count": null,
   "metadata": {
    "collapsed": true
   },
   "outputs": [],
   "source": [
    "N = Int(1_000_000_000)"
   ]
  },
  {
   "cell_type": "code",
   "execution_count": null,
   "metadata": {
    "collapsed": true
   },
   "outputs": [],
   "source": [
    "result = pmap(compute_pi, [Int(N/n_cores) for core in 1:n_cores])"
   ]
  },
  {
   "cell_type": "code",
   "execution_count": null,
   "metadata": {
    "collapsed": true
   },
   "outputs": [],
   "source": [
    "@time mean(pmap(compute_pi,[Int(N/n_cores) for core in 1:n_cores]))"
   ]
  },
  {
   "cell_type": "code",
   "execution_count": null,
   "metadata": {
    "collapsed": true
   },
   "outputs": [],
   "source": [
    "function par_pi_computation(N::Int64; ncores::Int64=4)\n",
    "    \"\"\"\n",
    "    Compute pi in parallel, over ncores cores, with a Monte Carlo simulation throwing N total darts\n",
    "    \"\"\"\n",
    "\n",
    "    # compute sum of pi's estimated among all cores in parallel\n",
    "    sum_of_pis = @parallel (+) for i=1:ncores\n",
    "        compute_pi(Int(N / ncores))\n",
    "    end\n",
    "\n",
    "    return sum_of_pis / ncores  # average value\n",
    "end"
   ]
  },
  {
   "cell_type": "code",
   "execution_count": null,
   "metadata": {
    "collapsed": true
   },
   "outputs": [],
   "source": [
    "@time par_pi_computation(1000_000_000)"
   ]
  },
  {
   "cell_type": "markdown",
   "metadata": {},
   "source": [
    "# Part 2 L2 norm\n",
    "### Let us test the numpy-matlab way"
   ]
  },
  {
   "cell_type": "code",
   "execution_count": 1,
   "metadata": {
    "collapsed": true
   },
   "outputs": [],
   "source": [
    "#srand(1234)\n",
    "len = 100000;\n",
    "\n",
    "x = randn(len);\n",
    "y = randn(len);"
   ]
  },
  {
   "cell_type": "code",
   "execution_count": 5,
   "metadata": {
    "collapsed": false
   },
   "outputs": [
    {
     "name": "stdout",
     "output_type": "stream",
     "text": [
      "  0.001707 seconds (12 allocations: 1.526 MB)\n"
     ]
    },
    {
     "data": {
      "text/plain": [
       "2.0019735660543594"
      ]
     },
     "execution_count": 5,
     "metadata": {},
     "output_type": "execute_result"
    }
   ],
   "source": [
    "@time begin sum((x - y).^2)./length(x) end"
   ]
  },
  {
   "cell_type": "code",
   "execution_count": null,
   "metadata": {
    "collapsed": true
   },
   "outputs": [],
   "source": [
    "print(@benchmark sum((x - y).^2)/length(x))"
   ]
  },
  {
   "cell_type": "markdown",
   "metadata": {},
   "source": [
    "#### For loop "
   ]
  },
  {
   "cell_type": "code",
   "execution_count": null,
   "metadata": {
    "collapsed": true
   },
   "outputs": [],
   "source": [
    "function l2_squared(x::Array{Float64},y::Array{Float64})\n",
    "    norm = 0.\n",
    "    for i in 1:length(x)\n",
    "        norm = norm + (x[i] - y[i])^2\n",
    "    end\n",
    "    return norm/length(x)\n",
    "end"
   ]
  },
  {
   "cell_type": "code",
   "execution_count": null,
   "metadata": {
    "collapsed": true
   },
   "outputs": [],
   "source": [
    "@time l2_squared(x,y)"
   ]
  },
  {
   "cell_type": "code",
   "execution_count": null,
   "metadata": {
    "collapsed": true
   },
   "outputs": [],
   "source": [
    "print(@benchmark l2_squared(x,y))"
   ]
  },
  {
   "cell_type": "markdown",
   "metadata": {},
   "source": [
    "#### Only inbounds does not make any improvements"
   ]
  },
  {
   "cell_type": "code",
   "execution_count": 6,
   "metadata": {
    "collapsed": false
   },
   "outputs": [
    {
     "data": {
      "text/plain": [
       "l2_squared_inbounds (generic function with 1 method)"
      ]
     },
     "execution_count": 6,
     "metadata": {},
     "output_type": "execute_result"
    }
   ],
   "source": [
    "function l2_squared_inbounds(x::Array{Float64},y::Array{Float64})\n",
    "    norm = 0.\n",
    "    @inbounds begin\n",
    "    for i in 1:length(x)\n",
    "         norm += (x[i] - y[i])^2\n",
    "        end\n",
    "    end\n",
    "    return norm/length(x)\n",
    "end"
   ]
  },
  {
   "cell_type": "code",
   "execution_count": 7,
   "metadata": {
    "collapsed": false
   },
   "outputs": [
    {
     "name": "stdout",
     "output_type": "stream",
     "text": [
      "  0.008037 seconds (2.32 k allocations: 105.927 KB)\n"
     ]
    },
    {
     "data": {
      "text/plain": [
       "2.0019735660543767"
      ]
     },
     "execution_count": 7,
     "metadata": {},
     "output_type": "execute_result"
    }
   ],
   "source": [
    "@time l2_squared_inbounds(x,y)"
   ]
  },
  {
   "cell_type": "code",
   "execution_count": null,
   "metadata": {
    "collapsed": true
   },
   "outputs": [],
   "source": [
    "print(@benchmark l2_squared_inbounds(x,y))"
   ]
  },
  {
   "cell_type": "markdown",
   "metadata": {},
   "source": [
    "#### improve speed l2_squared with simd\n",
    "\n",
    "We will use now the @simd macro in a for loop. Notice that this does not make every loop faster. In particular, note that using SIMD implies that the order of operations within and across the loop might change. This macro tells the compiler that reordering will be safe before it attempts to parallelize a loop. Therefore, before adding @simd annotation to your code, you need to ensure that the loop has the following properties:\n",
    "\n",
    "- All iterations of the loop are independent of each other.  No iteration of the loop uses a value from a previous iteration or waits for its completion.\n",
    "   \n",
    "   \n",
    "- The arrays being operated upon within the loop do not overlap in memory.\n",
    "\n",
    "\n",
    "-  The loop body is straight-line code without branches or function calls.\n",
    "\n",
    "\n",
    "-   The number of iterations of the loop is obvious. In practical terms, this means that the loop should typically be expressed on the length of the arrays within it.\n",
    "\n",
    "\n",
    "- The subscript (or index variable) within the loop changes by one for each iteration. In other words, the subscript is unit stride.\n",
    "\n",
    "\n",
    "- Bounds checking is disabled for SIMD loops. (Bound checking can cause branches due to exceptional conditions.)\n"
   ]
  },
  {
   "cell_type": "code",
   "execution_count": null,
   "metadata": {
    "collapsed": true
   },
   "outputs": [],
   "source": [
    "typeof(x)"
   ]
  },
  {
   "cell_type": "code",
   "execution_count": null,
   "metadata": {
    "collapsed": true
   },
   "outputs": [],
   "source": [
    "function l2_squared_inbounds_simd(x::Array{Float64},y::Array{Float64})\n",
    "    norm = 0.\n",
    "    n = length(x)\n",
    "    @inbounds @simd for i in 1:n\n",
    "             norm += (x[i] - y[i])^2\n",
    "        end\n",
    "\n",
    "    return norm/length(x)\n",
    "end"
   ]
  },
  {
   "cell_type": "code",
   "execution_count": null,
   "metadata": {
    "collapsed": true
   },
   "outputs": [],
   "source": [
    "@time l2_squared_inbounds_simd(x,y)"
   ]
  },
  {
   "cell_type": "code",
   "execution_count": null,
   "metadata": {
    "collapsed": true
   },
   "outputs": [],
   "source": [
    "print(@benchmark l2_squared_inbounds_simd(x,y))"
   ]
  },
  {
   "cell_type": "markdown",
   "metadata": {},
   "source": [
    "#### SIMD instructions might benefit of lower precision floats"
   ]
  },
  {
   "cell_type": "code",
   "execution_count": null,
   "metadata": {
    "collapsed": true
   },
   "outputs": [],
   "source": [
    "len = 100000\n",
    "srand(1234)\n",
    "x32 = Array{Float32}(randn(len));\n",
    "y32 = Array{Float32}(randn(len));\n",
    "\n",
    "function l2_squared_inbounds_simd(x::Array{Float32},y::Array{Float32})\n",
    "    norm = 0.\n",
    "    n = length(x)\n",
    "    @inbounds @simd for i in 1:n\n",
    "             norm += (x[i] - y[i])^2\n",
    "        end\n",
    "\n",
    "    return norm/length(x)\n",
    "end"
   ]
  },
  {
   "cell_type": "code",
   "execution_count": null,
   "metadata": {
    "collapsed": true
   },
   "outputs": [],
   "source": [
    "@time l2_squared_inbounds_simd(x32,y32)"
   ]
  },
  {
   "cell_type": "code",
   "execution_count": null,
   "metadata": {
    "collapsed": true
   },
   "outputs": [],
   "source": [
    "using BenchmarkTools"
   ]
  },
  {
   "cell_type": "code",
   "execution_count": null,
   "metadata": {
    "collapsed": true
   },
   "outputs": [],
   "source": [
    "print(@benchmark l2_squared_inbounds_simd(x32,y32))"
   ]
  },
  {
   "cell_type": "markdown",
   "metadata": {},
   "source": [
    "#### Go to float 16 -> No improvement !"
   ]
  },
  {
   "cell_type": "code",
   "execution_count": null,
   "metadata": {
    "collapsed": true
   },
   "outputs": [],
   "source": [
    "srand(1234)\n",
    "len = 100000\n",
    "\n",
    "x16 = Array{Float16}(randn(len));\n",
    "y16 = Array{Float16}(randn(len));\n",
    "\n",
    "function l2_squared_inbounds_simd(x::Array{Float16},y::Array{Float16})\n",
    "    norm = 0.\n",
    "    l = Float16(length(x))\n",
    "    @inbounds @simd for i in 1:length(x)\n",
    "             norm += (x[i] - y[i])^2\n",
    "        end\n",
    "\n",
    "    return norm/l\n",
    "end"
   ]
  },
  {
   "cell_type": "code",
   "execution_count": null,
   "metadata": {
    "collapsed": true
   },
   "outputs": [],
   "source": [
    "@time l2_squared_inbounds_simd(x16,y16)"
   ]
  },
  {
   "cell_type": "code",
   "execution_count": null,
   "metadata": {
    "collapsed": true
   },
   "outputs": [],
   "source": [
    "print(@benchmark l2_squared_inbounds_simd(x16,y16))"
   ]
  },
  {
   "cell_type": "markdown",
   "metadata": {},
   "source": [
    "# Using Yeppp for math operations \n",
    "\n",
    "I found this particulary uggly (having a Yeppp before evey operation is not pretty).\n",
    "\n",
    "\n",
    "It would be nice to know how to create an alias and use all implementations from Yeppp without\n",
    "writting Yeppp every time.\n",
    "\n",
    "- http://www.yeppp.info/#arguments"
   ]
  },
  {
   "cell_type": "code",
   "execution_count": 34,
   "metadata": {
    "collapsed": true
   },
   "outputs": [],
   "source": [
    "using Yeppp "
   ]
  },
  {
   "cell_type": "code",
   "execution_count": 38,
   "metadata": {
    "collapsed": false
   },
   "outputs": [
    {
     "ename": "LoadError",
     "evalue": "\u001b[91mMethodError: no method matching sin!(::Array{Float32,1}, ::Array{Float32,1})\u001b[0m\nClosest candidates are:\n  sin!(::Any) at /Users/macpro/.julia/v0.6/Yeppp/src/Yeppp.jl:212\u001b[39m",
     "output_type": "error",
     "traceback": [
      "\u001b[91mMethodError: no method matching sin!(::Array{Float32,1}, ::Array{Float32,1})\u001b[0m\nClosest candidates are:\n  sin!(::Any) at /Users/macpro/.julia/v0.6/Yeppp/src/Yeppp.jl:212\u001b[39m",
      "",
      "Stacktrace:",
      " [1] \u001b[1msin\u001b[22m\u001b[22m\u001b[1m(\u001b[22m\u001b[22m::Array{Float32,1}\u001b[1m)\u001b[22m\u001b[22m at \u001b[1m/Users/macpro/.julia/v0.6/Yeppp/src/Yeppp.jl:205\u001b[22m\u001b[22m",
      " [2] \u001b[1minclude_string\u001b[22m\u001b[22m\u001b[1m(\u001b[22m\u001b[22m::String, ::String\u001b[1m)\u001b[22m\u001b[22m at \u001b[1m/Applications/Julia-0.6.app/Contents/Resources/julia/lib/julia/sys.dylib:?\u001b[22m\u001b[22m"
     ]
    }
   ],
   "source": [
    "@time Yeppp.sin(x);"
   ]
  },
  {
   "cell_type": "code",
   "execution_count": null,
   "metadata": {
    "collapsed": true
   },
   "outputs": [],
   "source": [
    "@time [sin(xi) for xi in x];"
   ]
  },
  {
   "cell_type": "code",
   "execution_count": 39,
   "metadata": {
    "collapsed": false
   },
   "outputs": [
    {
     "ename": "LoadError",
     "evalue": "\u001b[91mMethodError: no method matching exp!(::Array{Float32,1}, ::Array{Float32,1})\u001b[0m\nClosest candidates are:\n  exp!(::Any) at /Users/macpro/.julia/v0.6/Yeppp/src/Yeppp.jl:198\u001b[39m",
     "output_type": "error",
     "traceback": [
      "\u001b[91mMethodError: no method matching exp!(::Array{Float32,1}, ::Array{Float32,1})\u001b[0m\nClosest candidates are:\n  exp!(::Any) at /Users/macpro/.julia/v0.6/Yeppp/src/Yeppp.jl:198\u001b[39m",
      "",
      "Stacktrace:",
      " [1] \u001b[1mexp\u001b[22m\u001b[22m\u001b[1m(\u001b[22m\u001b[22m::Array{Float32,1}\u001b[1m)\u001b[22m\u001b[22m at \u001b[1m/Users/macpro/.julia/v0.6/Yeppp/src/Yeppp.jl:191\u001b[22m\u001b[22m",
      " [2] \u001b[1minclude_string\u001b[22m\u001b[22m\u001b[1m(\u001b[22m\u001b[22m::String, ::String\u001b[1m)\u001b[22m\u001b[22m at \u001b[1m/Applications/Julia-0.6.app/Contents/Resources/julia/lib/julia/sys.dylib:?\u001b[22m\u001b[22m"
     ]
    }
   ],
   "source": [
    "@time Yeppp.exp(x)/Yeppp.sum(x);"
   ]
  },
  {
   "cell_type": "code",
   "execution_count": null,
   "metadata": {
    "collapsed": true
   },
   "outputs": [],
   "source": [
    "@time exp(x)/sum(x);"
   ]
  },
  {
   "cell_type": "markdown",
   "metadata": {},
   "source": [
    "# Parallel Accelerator\n",
    "\n",
    "- https://github.com/IntelLabs/ParallelAccelerator.jl"
   ]
  }
 ],
 "metadata": {
  "kernelspec": {
   "display_name": "Julia 0.6.2",
   "language": "julia",
   "name": "julia-0.6"
  },
  "language_info": {
   "file_extension": ".jl",
   "mimetype": "application/julia",
   "name": "julia",
   "version": "0.6.2"
  }
 },
 "nbformat": 4,
 "nbformat_minor": 1
}
